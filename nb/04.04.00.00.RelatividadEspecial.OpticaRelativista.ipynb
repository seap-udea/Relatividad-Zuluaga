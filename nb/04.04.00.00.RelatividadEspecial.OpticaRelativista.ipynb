{
 "cells": [
  {
   "cell_type": "markdown",
   "metadata": {
    "tags": [
     "navigation"
    ]
   },
   "source": [
    "[Indice](index.ipynb) | Previo: [RelatividadEspecial.Minkowski](04.03.00.00.RelatividadEspecial.Minkowski.ipynb) | Siguiente: [RelatividadEspecial.CinematicaRelativista.Definiciones](04.05.01.00.RelatividadEspecial.CinematicaRelativista.Definiciones.ipynb)"
   ]
  },
  {
   "cell_type": "markdown",
   "metadata": {},
   "source": [
    "## 4.1. Óptica relativista\n",
    "<a id='optica_relativista'></a>"
   ]
  },
  {
   "cell_type": "markdown",
   "metadata": {},
   "source": [
    "Para entender la manera en la que las propiedades de la luz transforman de un observador inercial a otro en relatividad especial (óptica relativista).  Consideremos el hecho de que cualquier onda monocromática se puede describir en el espacio-tiempo usando el cuadrivector de propagación:\n",
    "\n",
    "$$\n",
    "k_L^\\mu:\\frac{2\\pi}{\\lambda}(1,\\hat k)\n",
    "$$\n",
    "donde $\\hat k$ es la dirección de propagación de la onda y $\\lambda$ es la longitud de onda.  "
   ]
  },
  {
   "cell_type": "markdown",
   "metadata": {},
   "source": [
    "La relación de dispersión de la onda en el vacío será:\n",
    "\n",
    "$$\n",
    "\\lambda \\nu = c \n",
    "$$\n",
    "donde $\\nu$ es la frecuencia."
   ]
  },
  {
   "cell_type": "markdown",
   "metadata": {},
   "source": [
    "Esta cantidad debe transformar como lo hace cualquier cuadrivector:\n",
    "\n",
    "\\begin{eqnarray}\n",
    "k^{0} & = & \\gamma\\left(k^{0'}+\\vec{u}_L\\cdot \\vec{k'}_L\\right) \\\\\n",
    "\\vec{k}_L & = & \\vec{k'}_L+\\left(\\frac{\\gamma-1}{u_L^2} \\vec{u}_L\\cdot \\vec{k'}_L+\\gamma k^{0'}\\right)\\vec u_L\n",
    "\\end{eqnarray}"
   ]
  },
  {
   "cell_type": "markdown",
   "metadata": {},
   "source": [
    "### 4.10.1. Efecto Doppler relativista\n",
    "<a id='doppler_relativista'></a>"
   ]
  },
  {
   "cell_type": "markdown",
   "metadata": {},
   "source": [
    "Supongamos que emitimos una onda monocromática en dirección de $x$ (la misma dirección de la velocidad relativa entre los sistemas).  En este caso:\n",
    "\n",
    "$$\n",
    "k^\\mu:\\frac{2\\pi}{\\lambda}(1,1,0,0)\n",
    "$$"
   ]
  },
  {
   "cell_type": "markdown",
   "metadata": {},
   "source": [
    "La ecuación de transformación de la componente temporal del cuadrivector de propagación será:\n",
    "\n",
    "$$\n",
    "\\frac{2\\pi}{\\lambda}=\\gamma\\left(\\frac{2\\pi}{\\lambda'}+u_L \\frac{2\\pi}{\\lambda'}\\right)\n",
    "$$"
   ]
  },
  {
   "cell_type": "markdown",
   "metadata": {},
   "source": [
    "De donde obtenemos:\n",
    "\n",
    "$$\n",
    "\\frac{1}{\\lambda}=\\frac{1}{\\lambda'}\\frac{1+u_L}{\\sqrt{1-u_L^2}}\n",
    "$$"
   ]
  },
  {
   "cell_type": "markdown",
   "metadata": {},
   "source": [
    "Si identificamos $\\lambda_\\mathrm{em}=\\lambda'$ y  $\\lambda_\\mathrm{obs}=\\lambda$, entonces:\n",
    "\n",
    "$$\n",
    "\\lambda_\\mathrm{obs}=\\lambda_\\mathrm{em}\\sqrt{\\frac{1-u_L}{1+u_L}}\n",
    "$$"
   ]
  },
  {
   "cell_type": "markdown",
   "metadata": {},
   "source": [
    "Nótese que si $u_L\\ll 1$ y usamos el teorema del binomio para expandir el factor en el radical en el lado derecho:\n",
    "\n",
    "$$\n",
    "\\lambda_\\mathrm{obs}=\\lambda_\\mathrm{em}(1-\\frac{1}{2}u_L+\\ldots)(1-\\frac{1}{2}u_L+\\ldots)\n",
    "$$\n",
    "conservando solo los términos lineales en $u_L$ obtenemos:\n",
    "\n",
    "$$\n",
    "\\lambda_\\mathrm{obs}\\approx\\lambda_\\mathrm{em}(1-u_L)\n",
    "$$\n",
    "que se puede escribir como:\n",
    "\n",
    "$$\n",
    "\\frac{\\lambda_\\mathrm{em}-\\lambda_\\mathrm{obs}}{\\lambda_\\mathrm{em}}\\approx u_L\n",
    "$$"
   ]
  },
  {
   "cell_type": "markdown",
   "metadata": {},
   "source": [
    "De aquí identificamos el corrimiento al rojo clásico:\n",
    "\n",
    "$$\n",
    "z=u_L\n",
    "$$"
   ]
  },
  {
   "cell_type": "markdown",
   "metadata": {},
   "source": [
    "### 4.10.2. Aberración de la luz\n",
    "<a id='aberración'></a>"
   ]
  },
  {
   "cell_type": "markdown",
   "metadata": {},
   "source": [
    "<a id='fig:Figure_13'></a>![Figura](./figures/square-transformacion-k.png)\n",
    "\n",
    "<center><b>Figura 4.13</b>. Figura</center>"
   ]
  },
  {
   "cell_type": "markdown",
   "metadata": {},
   "source": [
    "Veámos ahora que pasa con un rayo de luz emitido en una dirección diferente de $\\vec u_L$.  En este caso la transformación de las componentes espaciales del vector de propagación será:\n",
    "\n",
    "\\begin{eqnarray}\n",
    "k^{0} & = & \\gamma\\left(k^{0'}+\\vec{u}_L\\cdot \\vec{k'}_L\\right) \\\\\n",
    "\\vec{k}_L & = & \\vec{k'}_L+\\left(\\frac{\\gamma-1}{u_L^2} \\vec{u}_L\\cdot \\vec{k'}_L+\\gamma k^{0'}\\right)\\vec u_L\n",
    "\\end{eqnarray}"
   ]
  },
  {
   "cell_type": "markdown",
   "metadata": {},
   "source": [
    "Identificando $k^0=2\\pi/\\lambda$ y $\\vec k_L=2\\pi/\\lambda \\hat k$ y dividiendo la segunda ecuación por la primera, obtenemos:\n",
    "\n",
    "$$\n",
    "\\hat k = \n",
    "\\frac\n",
    "{\\hat{k'}+\\left(\\frac{\\gamma-1}{u_L^2} \\vec{u}_L\\cdot \\hat{k'}+\\gamma \\right)\\vec u_L}\n",
    "{\\gamma(1+\\vec{u}_L\\cdot\\hat{k'})}\n",
    "$$"
   ]
  },
  {
   "cell_type": "markdown",
   "metadata": {},
   "source": [
    "Consideremos ahora el caso particular en el que $\\hat k$ se encuentra sobre el plano $x-y$ y se puede parametrizar como:\n",
    "\n",
    "$$\n",
    "\\begin{array}{rcl}\n",
    "\\hat k & = & \\cos\\theta \\hat{e}_x+\\sin\\theta \\hat{e}_y\\\\\n",
    "\\hat k' & = & \\cos\\theta' \\hat{e}_x+\\sin\\theta' \\hat{e}_y\n",
    "\\end{array}\n",
    "$$"
   ]
  },
  {
   "cell_type": "markdown",
   "metadata": {},
   "source": [
    "La componente temporal queda:\n",
    "\n",
    "$$\n",
    "\\frac{1}{\\lambda_\\mathrm{obs}}=\\frac{1}{\\lambda_\\mathrm{obs}}\\gamma(1+u_L\\cos\\theta')\n",
    "$$"
   ]
  },
  {
   "cell_type": "markdown",
   "metadata": {},
   "source": [
    "De aquí se obtiene que si $\\theta'=0$ se reproduce la fórmula del efecto Doppler."
   ]
  },
  {
   "cell_type": "markdown",
   "metadata": {},
   "source": [
    "Pero hay un resultado más interesante que se obtiene si $\\theta'=\\pi/2$.  En este caso:\n",
    "\n",
    "$$\n",
    "\\lambda_\\mathrm{obs}^\\perp = \\frac{1}{\\gamma}\\lambda_\\mathrm{em}\n",
    "$$\n",
    "que se conoce como el efecto Doppler transversal."
   ]
  },
  {
   "cell_type": "markdown",
   "metadata": {},
   "source": [
    "Al reemplazar $\\hat k$ y $\\hat k'$ en la ley de transformación obtenemos:\n",
    "\n",
    "\\begin{eqnarray}\n",
    "\\cos\\theta & = &  \\frac{\\cos\\theta'+u_L}{1+u_L\\cos\\theta'}\\\\\n",
    "\\sin\\theta & = &  \\frac{\\sin\\theta'}{\\gamma(1+u_L\\cos\\theta')}\n",
    "\\end{eqnarray}\n",
    "que puede probarse cumplen $\\sin^2\\theta + \\cos^2\\theta = 1$"
   ]
  },
  {
   "cell_type": "markdown",
   "metadata": {},
   "source": [
    "¿Qué pasa cuando $\\cos\\theta'=0$?.  En este caso en el sistema del Observador se ve:\n",
    "\n",
    "$$\n",
    "\\cos\\theta=u_L\n",
    "$$\n",
    "Es decir, la luz que debería llegar al observador de la vertical aparece en un ángulo muy pequeño desviada respecto a esa vertical.  A este fenómeno se lo llama **aberración de la luz**."
   ]
  },
  {
   "cell_type": "markdown",
   "metadata": {},
   "source": [
    "### 4.10.3. Enfoque relativista\n",
    "<a id='enfoque_relativista'></a>"
   ]
  },
  {
   "cell_type": "markdown",
   "metadata": {},
   "source": [
    "Imagine que desde una fuente astrofísica que se mueve con velocidad $\\vec u_L$ repecto al observador, emite radiación en todas las direcciones. ¿En qué direcciones se verá venir la radiación? ¿cómo se distribuye la potencia de la radiación de la fuente?"
   ]
  },
  {
   "cell_type": "markdown",
   "metadata": {},
   "source": [
    "Si la emisión es isotrópica una cuarta parte de la radiación se emitirá entre $\\theta'=0$ y $\\theta'=\\pi/2$.  Sin embargo, en el sistema de referencia del observador esa misma energía se emitirá entre $\\theta=0$ y $\\theta=\\theta_b<\\pi/2$ donde $\\theta_b$ se conoce como el ángulo de enfoque y es igual a:\n",
    "\n",
    "$$\n",
    "\\cos\\theta_b=u_L\n",
    "$$\n",
    "o bien:\n",
    "\n",
    "$$\n",
    "\\theta_b=\\cos^{-1} u_L\n",
    "$$"
   ]
  },
  {
   "cell_type": "markdown",
   "metadata": {},
   "source": [
    "Es posible mostrar que para $\\gamma\\gg 1$ el ángulo de enfoque es:\n",
    "\n",
    "$$\n",
    "\\theta_b\\approx\\frac{1}{\\gamma}\n",
    "$$"
   ]
  },
  {
   "cell_type": "markdown",
   "metadata": {
    "tags": [
     "hide_html"
    ]
   },
   "source": [
    "Estudiémoslo con un experimento algorítmico:"
   ]
  },
  {
   "cell_type": "code",
   "execution_count": 43,
   "metadata": {
    "codelabel": "",
    "codeplot": 0,
    "tags": [
     "hide_html"
    ]
   },
   "outputs": [],
   "source": [
    "%matplotlib nbagg"
   ]
  },
  {
   "cell_type": "code",
   "execution_count": 46,
   "metadata": {
    "codelabel": "fig:04.04.00.00.RelatividadEspecial.OpticaRelativista_14",
    "codeplot": 1,
    "figcaption": "<b>Figura 4.14.</b> ",
    "tags": [
     "hide_html"
    ]
   },
   "outputs": [
    {
     "data": {
      "application/vnd.jupyter.widget-view+json": {
       "model_id": "b23f51fb8b104969aaf4ee9d4329ce56",
       "version_major": 2,
       "version_minor": 0
      },
      "text/plain": [
       "interactive(children=(FloatSlider(value=0.001, continuous_update=False, description='uL', max=0.999, min=0.001…"
      ]
     },
     "metadata": {},
     "output_type": "display_data"
    }
   ],
   "source": [
    "def enfoque_relativista(uL=0.5,):\n",
    "    #Factor de Lorentz-Einstein\n",
    "    gama=1/(1-uL**2)**0.5\n",
    "\n",
    "    from numpy import pi,linspace,cos,sin\n",
    "    Nrayos=20\n",
    "    tetaps=linspace(-pi/2,pi/2,Nrayos)\n",
    "    costetaps=cos(tetaps)\n",
    "    sintetaps=sin(tetaps)\n",
    "\n",
    "    #Conversión\n",
    "    costetas=(costetaps+uL)/(1+uL*costetaps)\n",
    "    sintetas=sintetaps/(gama*(1+uL*costetaps))\n",
    "\n",
    "    #Grafico\n",
    "    import matplotlib.pyplot as plt\n",
    "    fig,axs=plt.subplots(1,2,figsize=(8,4))\n",
    "\n",
    "    #Rayos en el sistema del viajero\n",
    "    ax=axs[0]\n",
    "    for i in range(Nrayos):\n",
    "        ax.plot([0,costetaps[i]],[0,sintetaps[i]],'k-')\n",
    "    ax.set_xlim((0,2))\n",
    "    ax.set_ylim((-1,1))\n",
    "    ax.set_title(\"Sistema de referencia de la fuente\")\n",
    "\n",
    "    #Rayos en el sistema del observador\n",
    "    ax=axs[1]\n",
    "    for i in range(Nrayos):\n",
    "        ax.plot([0,costetas[i]],[0,sintetas[i]],'k-')\n",
    "    ax.set_xlim((0,2))\n",
    "    ax.set_ylim((-1,1))\n",
    "    ax.set_title(\"Sistema de referencia del observador\")\n",
    "\n",
    "    fig.tight_layout()\n",
    "    \n",
    "from ipywidgets import interact,fixed,widgets\n",
    "opciones=dict(continuous_update=False)\n",
    "interact(enfoque_relativista,\n",
    "         uL=widgets.FloatSlider(value=0.0,min=0.001,max=0.999,step=0.01,**opciones),\n",
    "        );"
   ]
  },
  {
   "cell_type": "markdown",
   "metadata": {},
   "source": [
    "<a id='fig:04.04.00.00.RelatividadEspecial.OpticaRelativista_14'></a><center><b>Figura 4.14.</b> </center>"
   ]
  },
  {
   "cell_type": "markdown",
   "metadata": {},
   "source": [
    "%%latex"
   ]
  },
  {
   "cell_type": "markdown",
   "metadata": {
    "tags": [
     "navigation"
    ]
   },
   "source": [
    "[Indice](index.ipynb) | Previo: [RelatividadEspecial.Minkowski](04.03.00.00.RelatividadEspecial.Minkowski.ipynb) | Siguiente: [RelatividadEspecial.CinematicaRelativista.Definiciones](04.05.01.00.RelatividadEspecial.CinematicaRelativista.Definiciones.ipynb)"
   ]
  }
 ],
 "metadata": {
  "celltoolbar": "Tags",
  "kernelspec": {
   "display_name": "Python 3",
   "language": "python",
   "name": "python3"
  },
  "language_info": {
   "codemirror_mode": {
    "name": "ipython",
    "version": 3
   },
   "file_extension": ".py",
   "mimetype": "text/x-python",
   "name": "python",
   "nbconvert_exporter": "python",
   "pygments_lexer": "ipython3",
   "version": "3.6.8"
  }
 },
 "nbformat": 4,
 "nbformat_minor": 2
}
