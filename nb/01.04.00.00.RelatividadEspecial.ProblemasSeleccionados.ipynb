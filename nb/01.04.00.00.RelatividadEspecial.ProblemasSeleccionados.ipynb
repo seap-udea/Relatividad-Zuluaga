{
 "cells": [
  {
   "cell_type": "markdown",
   "metadata": {
    "tags": [
     "navigation"
    ]
   },
   "source": [
    "[Indice](index.ipynb) | Previo: [RelatividadEspecial.Minkowski](01.03.00.00.RelatividadEspecial.Minkowski.ipynb) | "
   ]
  },
  {
   "cell_type": "markdown",
   "metadata": {},
   "source": [
    "## 1.1. Problemas Seleccionados\n",
    "<a id='especial_problemas'></a>"
   ]
  },
  {
   "cell_type": "markdown",
   "metadata": {
    "tags": [
     "problem"
    ]
   },
   "source": [
    "1.  **Demostración de las derivadas**. Demostrar que las derivadas parciales respecto a las coordenadas del espacio-tiempo transforman como:\n",
    "\n",
    "   $$\n",
    "   \\frac{\\partial}{\\partial x^{\\mu'}}=\\Lambda^{\\nu}_{\\mu'} \\frac{\\partial}{\\partial x^{\\nu}}\n",
    "   $$"
   ]
  },
  {
   "cell_type": "markdown",
   "metadata": {
    "tags": [
     "problem"
    ]
   },
   "source": [
    "2.  **Invariancia de la norma de Minkowski**. Demostrar que la norma de Minkowski:\n",
    "\n",
    "   $$\n",
    "   \\mathrm{d}s^2=\\mathrm{d}t^2-\\mathrm{d}x_L^2-\\mathrm{d}y_L^2-\\mathrm{d}z_L^2\n",
    "   $$\n",
    "   es invariante bajo transformaciones de Lorentz-Einstein."
   ]
  },
  {
   "cell_type": "markdown",
   "metadata": {
    "tags": [
     "problem"
    ]
   },
   "source": [
    "3.  **Invariancia de la norma de Minkowski**. Demostrar que la métrica $g_{\\mu\\nu}$ definida como:\n",
    "\n",
    "   $$\n",
    "   \\mathrm{d}s^2=g_{\\mu\\nu}dx^\\mu dx^\\nu\n",
    "   $$\n",
    "   dond $\\mathrm{d}s^2$ es un invariante, es un tensor covariante de rango 2."
   ]
  }
 ],
 "metadata": {
  "kernelspec": {
   "display_name": "Python 3",
   "language": "python",
   "name": "python3"
  },
  "language_info": {
   "codemirror_mode": {
    "name": "ipython",
    "version": 3
   },
   "file_extension": ".py",
   "mimetype": "text/x-python",
   "name": "python",
   "nbconvert_exporter": "python",
   "pygments_lexer": "ipython3",
   "version": "3.6.8"
  },
  "mybook": {
   "type": "problems:0"
  }
 },
 "nbformat": 4,
 "nbformat_minor": 2
}
