{
 "cells": [
  {
   "cell_type": "markdown",
   "metadata": {
    "tags": [
     "navigation"
    ]
   },
   "source": [
    "[Indice](index.ipynb) | Previo: [RelatividadEspecial.Electrodinamica.Ejemplos](01.08.04.00.RelatividadEspecial.Electrodinamica.Ejemplos.ipynb) | Siguiente: [RelatividadGeneral](02.00.00.00.RelatividadGeneral.ipynb)"
   ]
  },
  {
   "cell_type": "markdown",
   "metadata": {},
   "source": [
    "## 1.18. Problemas Seleccionados\n",
    "<a id='especial_problemas'></a>"
   ]
  },
  {
   "cell_type": "markdown",
   "metadata": {
    "tags": [
     "problem"
    ]
   },
   "source": [
    "1.  **Demostración de las derivadas**. Demostrar que las derivadas parciales respecto a las coordenadas del espacio-tiempo transforman como:\n",
    "\n",
    "   $$\n",
    "   \\frac{\\partial}{\\partial x^{\\mu'}}=\\Lambda^{\\nu}_{\\mu'} \\frac{\\partial}{\\partial x^{\\nu}}\n",
    "   $$"
   ]
  },
  {
   "cell_type": "markdown",
   "metadata": {
    "tags": [
     "problem"
    ]
   },
   "source": [
    "2.  **Invariancia de la norma de Minkowski**. Demostrar que la norma de Minkowski:\n",
    "\n",
    "   $$\n",
    "   \\mathrm{d}s^2=\\mathrm{d}t^2-\\mathrm{d}x_L^2-\\mathrm{d}y_L^2-\\mathrm{d}z_L^2\n",
    "   $$\n",
    "   es invariante bajo transformaciones de Lorentz-Einstein."
   ]
  },
  {
   "cell_type": "markdown",
   "metadata": {
    "tags": [
     "problem"
    ]
   },
   "source": [
    "3.  **Invariancia de la norma de Minkowski**. Demostrar que la métrica $g_{\\mu\\nu}$ definida como:\n",
    "\n",
    "   $$\n",
    "   \\mathrm{d}s^2=g_{\\mu\\nu}dx^\\mu dx^\\nu\n",
    "   $$\n",
    "   dond $\\mathrm{d}s^2$ es un invariante, es un tensor covariante de rango 2."
   ]
  },
  {
   "cell_type": "markdown",
   "metadata": {
    "tags": [
     "problem"
    ]
   },
   "source": [
    "4.  **Componentes de la cuadriaceleración**. Partiendo de la definición de cuadrivelocidad demostrar que las componentes de la cuadriaceleración son:\n",
    "\n",
    "   $$\n",
    "   A^\\mu_L : \\gamma^4 (\\vec{a}_L\\cdot \\vec{v}_L,\\vec{a}_L)\n",
    "   $$"
   ]
  },
  {
   "cell_type": "markdown",
   "metadata": {
    "tags": [
     "problem"
    ]
   },
   "source": [
    "5.  **Transformación de la fuerza**. Dado que la componente espacial de la fuerza transforma como:\n",
    "\n",
    "   $$\\gamma_v \\vec{F}_L =  \\gamma_{v'}\\vec{F}'_L+\\left(\\frac{\\gamma_u-1}{u_L^2} \\vec{u}_L\\cdot \\gamma_{v'}\\vec{F}'_L + \\gamma_u \\gamma_{v'}\\vec{\\cal F}'_L\\cdot\\vec{v}'_L\\right)\\vec u_L$$\n",
    "   \n",
    "   mostrar que si la velcidad de la partícula es paralela a la velocidad relativa de los sistemas de referencia, las componentes paralela y perpendicular de la fuerza transforman como:\n",
    "      \n",
    "    \\begin{eqnarray}\n",
    "    \\nonumber\n",
    "    F_\\parallel & = & \\frac{F'_{L\\parallel}+\\vec u_L\\cdot\\vec{F}_L}{1+\\vec{v}'_L\\cdot \\vec{u}_L}\\\\\n",
    "    \\nonumber    \n",
    "    F_\\perp & = & \\frac{\\gamma_u^{-1}F'_{L\\perp}}{1+\\vec{v}'_L\\cdot \\vec{u}_L}\\\\\n",
    "    \\end{eqnarray}"
   ]
  },
  {
   "cell_type": "markdown",
   "metadata": {
    "tags": [
     "problem"
    ]
   },
   "source": [
    "6.  **Transformación de la fuerza**. Demostrar que la ley de atracción gravitacional de Newton:\n",
    "\n",
    "   $$\\vec F=\\frac{G M m}{R^3}\\vec{R}$$\n",
    "   \n",
    "   no tranforma de acuerdo a las reglas de transformación de Lorentz-Einstein para la trifuerza y por lo tanto no puede usarse en dinámica relativista."
   ]
  },
  {
   "cell_type": "markdown",
   "metadata": {
    "tags": [
     "navigation"
    ]
   },
   "source": [
    "[Indice](index.ipynb) | Previo: [RelatividadEspecial.Electrodinamica.Ejemplos](01.08.04.00.RelatividadEspecial.Electrodinamica.Ejemplos.ipynb) | Siguiente: [RelatividadGeneral](02.00.00.00.RelatividadGeneral.ipynb)"
   ]
  }
 ],
 "metadata": {
  "kernelspec": {
   "display_name": "Python 3",
   "language": "python",
   "name": "python3"
  },
  "language_info": {
   "codemirror_mode": {
    "name": "ipython",
    "version": 3
   },
   "file_extension": ".py",
   "mimetype": "text/x-python",
   "name": "python",
   "nbconvert_exporter": "python",
   "pygments_lexer": "ipython3",
   "version": "3.6.8"
  },
  "mybook": {
   "type": "problems:0"
  }
 },
 "nbformat": 4,
 "nbformat_minor": 2
}
