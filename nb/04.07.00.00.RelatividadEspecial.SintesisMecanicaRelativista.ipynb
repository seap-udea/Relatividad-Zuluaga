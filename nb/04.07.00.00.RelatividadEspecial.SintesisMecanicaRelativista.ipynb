{
 "cells": [
  {
   "cell_type": "markdown",
   "metadata": {
    "tags": [
     "navigation"
    ]
   },
   "source": [
    "[Indice](index.ipynb) | Previo: [RelatividadEspecial.DinamicaRelativista.FuerzaDeLorentz](04.06.04.00.RelatividadEspecial.DinamicaRelativista.FuerzaDeLorentz.ipynb) | Siguiente: [RelatividadEspecial.Electrodinamica.EcuacionesClasicas](04.08.01.00.RelatividadEspecial.Electrodinamica.EcuacionesClasicas.ipynb)"
   ]
  },
  {
   "cell_type": "markdown",
   "metadata": {},
   "source": [
    "## 4.15. Síntesis de Mecánica Relativista\n",
    "<a id='sintesis_mecanica'></a>"
   ]
  },
  {
   "cell_type": "markdown",
   "metadata": {},
   "source": [
    "Después de introducir las cantidades y postulados claves en las secciones anteriores, estamos listos para hacer una síntesis completa de la nueva mecánica, de la **mecánica covariante** o la **mecánica relativista**."
   ]
  },
  {
   "cell_type": "markdown",
   "metadata": {},
   "source": [
    "### 4.15.1. Síntesis de cinemática relativista\n",
    "<a id='sintesis_cinematica'></a>"
   ]
  },
  {
   "cell_type": "markdown",
   "metadata": {},
   "source": [
    "Las propiedades cinemáticas de una partícula se describen con las siguientes propiedades básicas:"
   ]
  },
  {
   "cell_type": "markdown",
   "metadata": {},
   "source": [
    "- **Cuadriposición**: $x^\\mu$\n",
    "  + Indica la posición de un evento en el espacio tiempo.\n",
    "  + Las componentes generales: $x^\\mu:(ct,\\vec{r})$\n",
    "    * Componente temporal: $t$, tiempo coordenado.\n",
    "    * Componentes espaciales: $\\vec{r}$, vector posición.\n",
    "  + En unidades luz: \n",
    "    * Vector posición: $\\vec{r}_L=\\vec{r}/c$  \n",
    "    * Cuadrivector: $x_L^\\mu:(t,\\vec{r}_L)$\n",
    "  + Módulo:\n",
    "    * Temporaloide: Tiempo propio $\\tau^2=t^2-r_L^2$\n",
    "    * Espacialoide: Longitud propia $-\\lambda_L^2=t^2-r_L^2$\n",
    "  + Transformación de sistemas coorenadas:\n",
    "    * General: $x^\\mu=\\Lambda^\\mu_{\\nu'} x^{\\nu'}$\n",
    "    * Vectorial: \n",
    "      \\begin{eqnarray}\n",
    "      \\nonumber\n",
    "      t' & = & \\gamma\\left(t-\\vec{u}_L\\cdot \\vec{r}_L\\right) \\\\\n",
    "      \\nonumber\n",
    "      \\vec{r}'_L & = & \\vec{r}_L+\\left(\\frac{\\gamma-1}{u_L^2} \\vec{u}_L\\cdot \\vec{r}_L - \\gamma t\\right)\\vec u_L\n",
    "      \\end{eqnarray}"
   ]
  },
  {
   "cell_type": "markdown",
   "metadata": {},
   "source": [
    "- **Cuadridesplazamiento**: $\\mathrm{d}x^{\\mu}$\n",
    "  + Intervalo infinitesimal entre dos eventos vecinos.\n",
    "  + Las componentes generales: $\\mathrm{d}x^\\mu:(ct,\\mathrm{d}\\vec{r})$\n",
    "  + En unidades luz: \n",
    "    * Vector posición: $\\mathrm{d}\\vec{r}_L=\\mathrm{d}\\vec{r}/c$  \n",
    "    * Cuadrivector: $\\mathrm{d}x_L^\\mu:(\\mathrm{d}t,\\mathrm{d}\\vec{r}_L)$\n",
    "  + Módulo:\n",
    "    * General: Intervalo $\\mathrm{d}s^2=\\mathrm{d}t^2-\\mathrm{d}r_L^2$\n",
    "    * Temporaloide: Diferencial de tiempo propio $\\mathrm{d}\\tau^2=\\mathrm{d}t^2-\\mathrm{d}r_L^2$\n",
    "    * Factor de Lorentz: $\\mathrm{d}t=\\gamma_v\\mathrm{d}\\tau$, $\\gamma_v=1/\\sqrt{1-v^2/c^2}$.\n",
    "  + Transformación de sistemas coorenadas:\n",
    "    * General: $\\mathrm{d}x^\\mu=\\Lambda^\\mu_{\\nu'} \\mathrm{d}x^{\\nu'}$"
   ]
  },
  {
   "cell_type": "markdown",
   "metadata": {},
   "source": [
    "- **Trivelocidad**: $\\vec{v}$\n",
    "  + Definición: $\\vec{v}\\equiv\\mathrm{d}\\vec{r}/\\mathrm{d}t$.\n",
    "  + Velocidad medida en el laboratorio.\n",
    "  + En unidades luz: $\\vec{v}_L=\\vec{v}/c$\n",
    "  + Factor de Lorentz: $\\gamma_v=1/\\sqrt{1-v_L^2}$.\n",
    "  + Transformación de sistemas coorenadas:\n",
    "    * Vectorial: \n",
    "    \\begin{eqnarray}\n",
    "    \\nonumber\n",
    "    v_{L\\parallel} & = & D(u_L+v'_{L\\parallel})\\\\\n",
    "    \\nonumber\n",
    "    \\vec{v}_{L\\perp} & = & \\frac{D}{\\gamma_u}\\vec{v}'_{L\\perp}\\\\\n",
    "    \\end{eqnarray}\n",
    "    donde \n",
    "\n",
    "    $$\n",
    "    D\\equiv \\frac{1}{1+\\vec{u}_L\\cdot \\vec{v}'_{L}}\n",
    "    $$"
   ]
  },
  {
   "cell_type": "markdown",
   "metadata": {},
   "source": [
    "- **Cuadrivelocidad**: $U^\\mu$\n",
    "  + Definición: $U^\\mu=\\mathrm{d}x^\\mu/\\mathrm{d}\\tau$.\n",
    "  + Solo se define en líneas de universo (elemento de línea temporaloide).\n",
    "  + Las componentes generales: \n",
    "    $$U^\\mu:\\left(\\frac{\\mathrm{d}(ct)}{\\mathrm{d}\\tau},\\frac{\\mathrm{d}\\vec{r}}{\\mathrm{d}\\tau}\\right)$$\n",
    "  + En unidades convencionales:\n",
    "      $$U^\\mu:\\gamma\\left(c,\\vec{v}\\right)$$\n",
    "  + En unidades luz: \n",
    "    * Vector posición: $U_L^\\mu=U^\\mu/c$  \n",
    "    * Componente temporal: $U_L^0=\\mathrm{d}t/\\mathrm{d}\\tau=\\gamma$, velocidad en el tiempo.\n",
    "    * Componentes espaciales: $\\vec{U}_L=\\mathrm{d}\\vec{r}_L/\\mathrm{d}\\tau=\\gamma \\vec{v}_L$, velocidad escalada.\n",
    "  + Componentes explícitas: \n",
    "    * Unidades luz:\n",
    "      $$U_L^\\mu:\\gamma\\left(1,\\vec{v}_L\\right)$$\n",
    "  + Módulo:\n",
    "    * Unidades convencionales: $|U^\\mu|=c$.\n",
    "    * Unidades luz: $|U_L^\\mu|=1$.\n",
    "  + Transformación de sistemas coorenadas:\n",
    "    * General: $U^\\mu=\\Lambda^\\mu_{\\nu'} U^{\\nu'}$"
   ]
  },
  {
   "cell_type": "markdown",
   "metadata": {},
   "source": [
    "- **Triaceleración**: $\\vec{a}$\n",
    "  + Definición: $\\vec{a}\\equiv\\mathrm{d}\\vec{v}/\\mathrm{d}t=\\mathrm{d}^2\\vec{r}/\\mathrm{d}t^2$.\n",
    "  + Aceleración medida en el laboratorio.\n",
    "  + En unidades luz: $\\vec{a}_L=\\vec{a}/c$"
   ]
  },
  {
   "cell_type": "markdown",
   "metadata": {},
   "source": [
    "- **Cuadriaceleracion**: $A^\\mu$\n",
    "  + Definición: $A^\\mu=\\mathrm{d}U^\\mu/\\mathrm{d}\\tau=\\mathrm{d}^2 x^\\mu/\\mathrm{d}\\tau^2$.\n",
    "  + Las componentes generales: \n",
    "    $$A^\\mu:\\left(\\frac{\\mathrm{d}(\\gamma c)}{\\mathrm{d}\\tau},\\frac{\\mathrm{d}(\\gamma\\vec{v})}{\\mathrm{d}\\tau}\\right)$$\n",
    "  + Componentes explícitas en unidades convencionales \n",
    "    $$A^\\mu:\\gamma^4\\left(\\vec{a}\\cdot\\frac{\\vec{v}}{c},\\vec{a}\\right)$$\n",
    "  + Componentes explícitas en unidades luz: \n",
    "    $$A_L^\\mu:\\gamma^4\\left(\\vec{a}_L\\cdot\\vec{v}_L,\\vec{a}_L\\right)$$\n",
    "  + Módulo:\n",
    "    * Aceleración propia: $|A_L^\\mu|^2=-\\alpha_L^2$.\n",
    "    * Relación componentes: $\\alpha_L^2 = |\\vec{A}_L|^2 - (A_L^0)^2$.\n",
    "  + Ortogonalidad: la aceleración siempre es ortogonal a la cuadrivelocidad, \n",
    "    $$A^\\mu U_\\mu=A_L^0U_L^0-\\vec{A}_L\\cdot\\vec{U}_L=0$$"
   ]
  },
  {
   "cell_type": "markdown",
   "metadata": {},
   "source": [
    "### 4.15.2. Síntesis de dinámica relativista\n",
    "<a id='sintesis_dinamica'></a>"
   ]
  },
  {
   "cell_type": "markdown",
   "metadata": {},
   "source": [
    "- **Masa invariante**: $m$\n",
    "  + Masa de una partícula (valor constante).\n",
    "  + Es una cantidad escalar y no depende del observador."
   ]
  },
  {
   "cell_type": "markdown",
   "metadata": {},
   "source": [
    "- **Trimomentum**: $\\vec p$\n",
    "  + Definición: $\\vec p\\equiv \\gamma_v m \\vec v$.\n",
    "  + Momento lineal medido en el laboratorio.\n",
    "  + Se conserva en todas las colisiones.\n",
    "  + En unidades luz: $\\vec{p}_L^\\mu=\\vec{p}/c$  "
   ]
  },
  {
   "cell_type": "markdown",
   "metadata": {},
   "source": [
    "- **Energía cinética relativista**: $k$\n",
    "  + Definición: $k\\equiv\\int_0^{\\vec v} \\vec v\\cdot \\mathrm{d}\\vec p$.\n",
    "  + En unidades luz: $k_L=k/c^2$\n",
    "  + Explícitamente como función de la velocidad:\n",
    "    * En unidades luz: $k_L=(\\gamma-1)m$\n",
    "    * En unidades convencionales: $k=m c^2$"
   ]
  },
  {
   "cell_type": "markdown",
   "metadata": {},
   "source": [
    "- **Energía total relativista**: $E$\n",
    "  + Definición: $E\\equiv m c^2 + k$.\n",
    "  + La energía total de una partícula se conserva.\n",
    "  + Unidades luz: $E_L=E/c^2=m+k_L$\n",
    "  + Expresión única:\n",
    "    * En unidades convencionales: $E=\\gamma m c^2$.\n",
    "    * En unidades luz: $E_L=\\gamma m$."
   ]
  },
  {
   "cell_type": "markdown",
   "metadata": {},
   "source": [
    "- **Cuadrimomentum**: $P^\\mu$\n",
    "  + Definición: $P^\\mu \\equiv m U^\\mu$.\n",
    "  + El cuadrimomento de un sistema aislado de partículas se conserva.\n",
    "  + Las componentes generales: \n",
    "    $$P^\\mu:\\left(m\\frac{\\mathrm{d}(ct)}{\\mathrm{d}\\tau},m\\frac{\\mathrm{d}\\vec{r}}{\\mathrm{d}\\tau}\\right)$$\n",
    "  + En unidades convencionales: $P^\\mu:\\left(\\gamma mc,\\gamma m\\vec{v}\\right)$\n",
    "  + En términos de la energía y el trimomentum: $P^\\mu:\\left(E/c,\\vec{p}\\right)$\n",
    "  + En unidades luz: $P_L^\\mu=P^\\mu/c$.\n",
    "  + En términos de la energía y el trimomentum: $P_L^\\mu:\\left(E_L,\\vec{p}_L\\right)$\n",
    "  + Módulo:\n",
    "    * En unidades convencionales: $(mc^2)^2 = (E)^2 - (pc)^2$\n",
    "    * En unidades luz: $m^2 = E_L^2 - p_L^2$"
   ]
  },
  {
   "cell_type": "markdown",
   "metadata": {},
   "source": [
    "- **Trifuerza**: $\\vec{\\cal F}$\n",
    "  + Definición:  $\\vec{\\cal F}\\equiv\\mathrm{d}\\vec p/\\mathrm{d}t=\\mathrm{d}(\\gamma m\\vec v)/\\mathrm{d}t$\n",
    "  + Fuerza medida en el laboratorio.\n",
    "  + En unidades convencionales: $\\vec{F}_L=\\vec{F}/c$.\n",
    "  + Relación con la aceleración: \n",
    "    * General: $\\gamma m \\vec{a}_L=\\vec{\\cal F}_L-(\\vec{\\cal F}_L\\cdot\\vec{v}_L)\\vec{v}_L$\n",
    "    * Componentes:\n",
    "        \\begin{eqnarray}\n",
    "        \\nonumber\n",
    "        {a}_{\\parallel} & = & \\frac{1}{\\gamma^3 m}{F}_{\\parallel}\\\\\n",
    "        \\nonumber\n",
    "        \\vec{a}_{\\perp} & = & \\frac{1}{\\gamma m}\\vec{F}_{\\perp}\n",
    "        \\end{eqnarray}\n",
    "  + Transformación:\n",
    "    * Componentes:\n",
    "        \\begin{eqnarray}\n",
    "        F_\\parallel & = & \\frac{F'_{L\\parallel}+\\vec u_L\\cdot\\vec{F}'_L}{1+\\vec{v}'_L\\cdot\\vec{u}_L}\\\\\n",
    "        F_\\perp & = & \\frac{\\gamma_u^{-1}F'_{L\\perp}}{1+\\vec{v}'_L\\cdot\\vec{u}_L}\\\\\n",
    "        \\end{eqnarray}"
   ]
  },
  {
   "cell_type": "markdown",
   "metadata": {},
   "source": [
    "- **Cuadrifuerza**: $f^\\mu$\n",
    "  + Definición: $f^\\mu \\equiv \\mathrm{d}P^\\mu/\\mathrm{d}\\tau$.\n",
    "  + Ley de fuerza generalizada: $f^\\mu = m A^\\mu$.\n",
    "  + Componentes explícitas:\n",
    "    * En unidades luz: $f_L^\\mu:\\gamma^4 (m \\vec{a}_L\\cdot \\vec{v}_L,m\\vec{a}_L)$\n",
    "    * En unidades convencionales: $f^\\mu:\\gamma^4 (m \\vec{a}\\cdot\\vec{v}/c,m\\vec{a})$"
   ]
  },
  {
   "cell_type": "markdown",
   "metadata": {
    "tags": [
     "navigation"
    ]
   },
   "source": [
    "[Indice](index.ipynb) | Previo: [RelatividadEspecial.DinamicaRelativista.FuerzaDeLorentz](04.06.04.00.RelatividadEspecial.DinamicaRelativista.FuerzaDeLorentz.ipynb) | Siguiente: [RelatividadEspecial.Electrodinamica.EcuacionesClasicas](04.08.01.00.RelatividadEspecial.Electrodinamica.EcuacionesClasicas.ipynb)"
   ]
  }
 ],
 "metadata": {
  "kernelspec": {
   "display_name": "Python 3",
   "language": "python",
   "name": "python3"
  },
  "language_info": {
   "codemirror_mode": {
    "name": "ipython",
    "version": 3
   },
   "file_extension": ".py",
   "mimetype": "text/x-python",
   "name": "python",
   "nbconvert_exporter": "python",
   "pygments_lexer": "ipython3",
   "version": "3.6.8"
  }
 },
 "nbformat": 4,
 "nbformat_minor": 2
}
