{
 "cells": [
  {
   "cell_type": "markdown",
   "metadata": {
    "tags": [
     "navigation"
    ]
   },
   "source": [
    "[Indice](index.ipynb) | Previo: [Prefacio](01.00.00.00.Prefacio.ipynb) | Siguiente: [Introduccion](03.00.00.00.Introduccion.ipynb)"
   ]
  },
  {
   "cell_type": "markdown",
   "metadata": {},
   "source": [
    "# 2. Agradecimientos\n",
    "<a id='agradecimientos'></a>"
   ]
  },
  {
   "cell_type": "markdown",
   "metadata": {},
   "source": [
    "Así como no hay *vacas esféricas en el vacío*, tampoco existen los *autores cilíndricos que escriben aislados*.  La elaboración de este libro ha sido determinada y afectada por una multitud de factores y personas a los que no puedo dejar de mencionar.\n",
    "\n",
    "En primer lugar, quiero agradecer a todos **los estudiantes del pregrado de astronomía** que tomaron el curso de Mecánica Celeste durante los años en los que elaboré las notas que sirvieron de base para este libro. Agradezco su paciencia y  sus preguntas en clase que me ayudaron a enriquecer el texto, concentrarme en puntos difíciles y escoger mejor los temas más interesantes.   También fue de gran valor los errores que me ayudaron a detectar en las primeras versiones de las *libretas* de `Jupyter` que son la base del texto. Entre ellos, quiero resaltar a **Andrés Gómez**, quien fue mas lejos aún al revisar críticamente el contenido de algunas *libretas* como lo haría un colega o un editor.  Adicionalmente, sus impecables soluciones de los problemas inspiraron una parte del material que he incluido en esta edición del libro.\n",
    "\n",
    "Una buena parte de la primera versión de las notas del curso fue **transcrita a LaTeX** por el hoy Astrónomo **Bayron Portilla** (en ese entonces mi tallerista del curso).  En un momento dado, nos propusimos, incluso, escribir juntos el libro. Sin embargo, nuestras ocupaciones fueron dilatando el proyecto hasta que decidí emprender este proyecto en solitario y partiendo de las *libreta* de `Jupyter` que elabore posteriormente.  Aún así, reconozco y agradezco el esfuerzo que hizo Bayron en esas primeras notas, en las que además exploramos las mejores maneras de organizar los temas del curso.  Tal vez en el futuro retome con él algunas de esas notas iniciales con miras a un texto avanzado en la materia donde podamos, por ejemplo, abordar los tópicos que se quedaron por fuera de este libro.  En el mismo sentido debo también agradecer al Doctor **Andrés Pérez**, ahora un exitoso astrónomo, quién en sus años como estudiante se ofreció también a transcribir en limpio muchas de mis notas de tablero.  El documento resultante que nunca logramos editar apropiadamente todavía lo uso como material de consulta en mis clases.  Gracias Andrés por tu dedicación durante esos meses a poner en limpio el sucio de mis tableros.\n",
    "\n",
    "Estoy también en deuda con **Miguel Vásquez**, el mejor de los talleristas que he tenido en mi carrera como profesor (ahora es un Astrónomo). Miguel realizó una juiciosa tarea de búsqueda de problemas, transcripción de los mismos al formato de `Jupyter` y, más importante, preparación en el mismo formato de su solución.  Todo, mientras mantenía una estrecha relación con los estudiantes (mucho mejor que la mía como profesor, debo admitir) que le permitió entender sus necesidades, evaluar y ajustar el grado de dificultad de los problemas y recoger correcciones y sugerencias a las notas.  **Muchos problemas** incluídos en este libro se basan en el trabajo original de Miguel al que debo hacer un sentido reconocimiento aquí.\n",
    "\n",
    "Agradezco también a los maestros que me motivaron a estudiar física teórica durante el pregrado y el posgrado, muy a pesar de mi monocromática pasión por la astronomía. Esto me permitió entender, apreciar y abordar mejor los aspectos teóricos de la mecánica celeste. En particular, mis agradecimientos van para los profesores **Lorenzo de la Torre**, **Alonso Sepúlveda**, **Jorge Mahecha**, **William Ponce** y **Boris Rodríguez**. A través de sus propios manuscritos, conocí (y espero haber aprendido con el ejemplo) el \"arte\" de escribir libros de texto. El estilo, profundidad y cuidado de sus **notas de clase, libros publicados e inéditos**, han sido imitados sistemáticamente en este libro.\n",
    "\n",
    "Agradezco a la **Universidad de Antioquia** y en particular a las autoridades del **Instituto de Física** y la **Facultad de Ciencias Exactas y Naturales**, por otorgarme el beneficio de un año sabático, durante el cuál pude, entre otras cosas maravillosas, escribir la primera versión completa de este libro.  Mi reconocimiento y agradecimiento además para los **profesores del pregrado de Astronomía**, en especial a mi *parcero* Pablo Cuartas, que recibió mi carga académica y de investigación durante ese año en el que estuve escribiendo.\n",
    "\n",
    "Finalmente, pero no menos importante, quiero agradecer a mi familia, **Olga y Sofía**. A ellas les toco la peor parte; es decir, soportarme un año entero en la casa, escribiendo en piyamas (o mejor hablando solo, por yo no escribo sino que hablo con el computador) y prestándoles, a veces, menos atención de la que les presto incluso en situaciones normales. Este libro esta dedicado a ellas."
   ]
  },
  {
   "cell_type": "markdown",
   "metadata": {
    "tags": [
     "navigation"
    ]
   },
   "source": [
    "[Indice](index.ipynb) | Previo: [Prefacio](01.00.00.00.Prefacio.ipynb) | Siguiente: [Introduccion](03.00.00.00.Introduccion.ipynb)"
   ]
  }
 ],
 "metadata": {
  "celltoolbar": "Tags",
  "kernelspec": {
   "display_name": "Python 3",
   "language": "python",
   "name": "python3"
  },
  "language_info": {
   "codemirror_mode": {
    "name": "ipython",
    "version": 3
   },
   "file_extension": ".py",
   "mimetype": "text/x-python",
   "name": "python",
   "nbconvert_exporter": "python",
   "pygments_lexer": "ipython3",
   "version": "3.6.8"
  }
 },
 "nbformat": 4,
 "nbformat_minor": 2
}
