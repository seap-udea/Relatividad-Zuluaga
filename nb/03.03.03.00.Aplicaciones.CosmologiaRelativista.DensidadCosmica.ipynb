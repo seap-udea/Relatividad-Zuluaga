{
 "cells": [
  {
   "cell_type": "markdown",
   "metadata": {
    "tags": [
     "navigation"
    ]
   },
   "source": [
    "[Indice](index.ipynb) | Previo: [Aplicaciones.CosmologiaRelativista.EcuacionesFriedmann](03.03.02.00.Aplicaciones.CosmologiaRelativista.EcuacionesFriedmann.ipynb) | Siguiente: [Aplicaciones.CosmologiaRelativista.LeyHubbleLemaitre](03.03.04.00.Aplicaciones.CosmologiaRelativista.LeyHubbleLemaitre.ipynb)"
   ]
  },
  {
   "cell_type": "markdown",
   "metadata": {},
   "source": [
    "### 3.3.8. Evolución de la densidad cósmica\n",
    "<a id='densidad_cosmica'></a>"
   ]
  },
  {
   "cell_type": "markdown",
   "metadata": {},
   "source": [
    "Para resolver las ecuaciones de Friedmann:\n",
    "\\begin{eqnarray}\n",
    "\\nonumber\n",
    "H^2 & = & \\frac{8\\pi G}{3}\\rho(t)-\\frac{kc^2}{a^2}\\\\\n",
    "\\nonumber\n",
    "\\dot{H}+H^2&=&-\\frac{4\\pi G}{3}\\left[\\rho(t)+\\frac{3p(t)}{c^2}\\right]\n",
    "\\end{eqnarray}\n",
    "Es necesario saber como ha cambiado la densidad cósmica con el tiempo."
   ]
  },
  {
   "cell_type": "markdown",
   "metadata": {},
   "source": [
    "Existen cuatro tipos de componentes cuya densidad varía de manera diversa."
   ]
  },
  {
   "cell_type": "markdown",
   "metadata": {},
   "source": [
    "#### 3.3.8.1. Densidad de materia\n",
    "<a id='densidad_materia'></a>"
   ]
  },
  {
   "cell_type": "markdown",
   "metadata": {},
   "source": [
    "Si asumimos que el número de partículas de materia (masivas) se conservan, entonces la densidad de masa de la materia será:\n",
    "\n",
    "$$\n",
    "\\rho_M(t)=\\frac{Nm}{V(t)}\n",
    "$$"
   ]
  },
  {
   "cell_type": "markdown",
   "metadata": {},
   "source": [
    "La comparación entre la densidad en un tiempo cósmico arbitrario $t$ y el tiempo presente será:\n",
    "\n",
    "$$\n",
    "\\frac{\\rho_M(t)}{\\rho_M(t_0)}=\\frac{V(t_0)}{V(t)}\n",
    "$$"
   ]
  },
  {
   "cell_type": "markdown",
   "metadata": {},
   "source": [
    "Asumiendo volumenes arbitrariamente pequeños podemos aproximar $V(t)=a^3 L^3$ donde $L$ es la longitud característica comovil del volumen, y por lo tanto:\n",
    "\n",
    "$$\n",
    "\\rho_M=\\rho_{M0}\\left(\\frac{a_0}{a}\\right)^3\n",
    "$$"
   ]
  },
  {
   "cell_type": "markdown",
   "metadata": {},
   "source": [
    "Que se escribe también en términos del corrimiento al rojo como:\n",
    "\n",
    "$$\n",
    "\\rho_M=\\rho_{M0}(1+z)^3\n",
    "$$"
   ]
  },
  {
   "cell_type": "markdown",
   "metadata": {},
   "source": [
    "#### 3.3.8.2. Densidad de radiación\n",
    "<a id='densidad_radiación'></a>"
   ]
  },
  {
   "cell_type": "markdown",
   "metadata": {},
   "source": [
    "Llamamos radiación a cualquier partícula que se mueva muy cerca de la velocidad de la luz o a la velocidad de la luz.  En ese caso la densidad de masa contenida en un volumen muy pequeño será:\n",
    "\n",
    "$$\n",
    "\\rho_R(t)=\\frac{Nhf/c^2}{V(t)}\n",
    "$$\n",
    "donde $f$ es la frecuencia de Broglie de las partículas."
   ]
  },
  {
   "cell_type": "markdown",
   "metadata": {},
   "source": [
    "Teniendo en cuenta la dilatación de tiempo cosmológica la densidad de radiación evoluciona como:\n",
    "\n",
    "$$\n",
    "\\rho_R=\\rho_{R0}\\left(\\frac{a_0}{a}\\right)^4\n",
    "$$\n",
    "o bien:\n",
    "\n",
    "$$\n",
    "\\rho_R=\\rho_{R0}(1+z)^4\n",
    "$$"
   ]
  },
  {
   "cell_type": "markdown",
   "metadata": {},
   "source": [
    "#### 3.3.8.3. Densidad de energía oscura\n",
    "<a id='densidad_energia_oscura'></a>"
   ]
  },
  {
   "cell_type": "markdown",
   "metadata": {},
   "source": [
    "La densidad de energía oscura como hemos visto es constante e igual a:\n",
    "\n",
    "$$\n",
    "\\rho_\\Lambda=\\frac{\\Lambda c^2}{8\\pi G}\n",
    "$$"
   ]
  },
  {
   "cell_type": "markdown",
   "metadata": {},
   "source": [
    "#### 3.3.8.4. Densidad de curvatura\n",
    "<a id='densidad_curvatura'></a>"
   ]
  },
  {
   "cell_type": "markdown",
   "metadata": {},
   "source": [
    "Una manera de unificar todos los términos de la ecuación de Friedmann en una sola densidad es introducir un término de densidad asociado con la curvatura.  La densidad de curvatura sería:\n",
    "\n",
    "$$\n",
    "\\rho_k=-\\frac{3kc^2}{8\\pi G a^2}\n",
    "$$"
   ]
  },
  {
   "cell_type": "markdown",
   "metadata": {},
   "source": [
    "Esta se puede escribir en términos similares a como escribimos las otras densidades como:\n",
    "\n",
    "$$\n",
    "\\rho_k=-\\frac{3kc^2}{8\\pi G a_0^2}\\left(\\frac{a_0}{a}\\right)^2\n",
    "$$\n",
    "o bien:\n",
    "\n",
    "$$\n",
    "\\rho_k=\\rho_{k0}(1+z)^2\n",
    "$$"
   ]
  },
  {
   "cell_type": "markdown",
   "metadata": {},
   "source": [
    "### 3.3.9. Ecuación de Friedmann y densidad cósmica\n",
    "<a id='friedmann_densidad'></a>"
   ]
  },
  {
   "cell_type": "markdown",
   "metadata": {},
   "source": [
    "Con estas definiciones la ecuación de Friedmann se escribe finalmente como:\n",
    "\n",
    "$$\n",
    "\\frac{H^2}{H_0^2} = \\frac{\\rho(t)+\\rho_k(t)}{\\rho_{c0}}\n",
    "$$"
   ]
  },
  {
   "cell_type": "markdown",
   "metadata": {},
   "source": [
    "Usando los parámetros $\\Omega$ medidos en el presente la ecuación de Friedmann se escribe:\n",
    "\n",
    "$$\n",
    "H(a)=H_0\\sqrt{\\Omega_{M0}(1+\\alpha)^{-3}+\\Omega_{R0}(1+\\alpha)^{-4}+\\Omega_{k0}(1+\\alpha)^{-2}+\\Omega_{\\Lambda}}\n",
    "$$\n",
    "donde $\\alpha=a/a_0$"
   ]
  },
  {
   "cell_type": "markdown",
   "metadata": {},
   "source": [
    "En términos de $z$ se escribe:\n",
    "\n",
    "$$\n",
    "H(z)=H_0\\sqrt{\\Omega_{M0}(1+z)^3+\\Omega_{R0}(1+z)^{4}+\\Omega_{k0}(1+z)^{2}+\\Omega_{\\Lambda}}\n",
    "$$"
   ]
  },
  {
   "cell_type": "markdown",
   "metadata": {},
   "source": [
    "### 3.3.1. Tiempo de expansión\n",
    "<a id='tiempo_expansión'></a>"
   ]
  },
  {
   "cell_type": "markdown",
   "metadata": {},
   "source": [
    "La ecuación de Friedmann escrita en términos de a puede ser separada para encontrar el tiempo de expansión desde cualquier valor de $\\alpha$ hasta el presente:\n",
    "\n",
    "$$\n",
    "t_{LB}=t_{H0} \\int_\\alpha^1 \\frac{\\mathrm{d}\\alpha}{\\sqrt{\\Omega_{M0}(1+\\alpha)^{-3}+\\Omega_{R0}(1+\\alpha)^{-4}+\\Omega_{k0}(1+\\alpha)^{-2}+\\Omega_{\\Lambda}}}\n",
    "$$\n",
    "donde \n",
    "\n",
    "$$t_{H0}=\\frac{1}{H_0}=13960\\;h_{70}^{-1}\\;\\mathrm{Myr}$$\n",
    "es el denominado **tiempo de Hubble**."
   ]
  },
  {
   "cell_type": "markdown",
   "metadata": {},
   "source": [
    "A $t_{LB}=t_0-t$ lo llamamos el **tiempo de expansión** o en inglés *loopback-time* (LB) y corresponde al tiempo cósmico que ha pasado desde el momento en el que el universo tenía un valor de $a$ hasta el presente. "
   ]
  },
  {
   "cell_type": "markdown",
   "metadata": {},
   "source": [
    "Como sabemos que $\\alpha=1/(1+z)$ entonces $\\mathrm{d}\\alpha=-\\mathrm{d}z/(1+z)^2$ y la integral se puede escribir también como:\n",
    "\n",
    "$$\n",
    "t_{LB}=t_{H0} \\int_0^{z} \\frac{\\mathrm{d}z}{(1+z)^2\\sqrt{\\Omega_{M0}(1+z)^{3}+\\Omega_{R0}(1+z)^{4}+\\Omega_{k0}(1+z)^{2}+\\Omega_{\\Lambda}}}\n",
    "$$"
   ]
  },
  {
   "cell_type": "markdown",
   "metadata": {},
   "source": [
    "### 3.3.11. Distancias cosmológicas\n",
    "<a id='distancias_cosmologicas'></a>"
   ]
  },
  {
   "cell_type": "markdown",
   "metadata": {},
   "source": [
    "Existen distintos tipos de distancias en Cosmología."
   ]
  },
  {
   "cell_type": "markdown",
   "metadata": {},
   "source": [
    "#### 3.3.11.1. Distancia comovil\n",
    "<a id='distancia_comovil'></a>"
   ]
  },
  {
   "cell_type": "markdown",
   "metadata": {},
   "source": [
    "Por distancia propia entendemos la distancia espacial medida en una misma hipersuperficie de universo $t_0$.\n",
    "\n",
    "$$\n",
    "\\sigma=\\int \\sqrt{-\\mathrm{d}s^2}=a_0\\chi\n",
    "$$"
   ]
  },
  {
   "cell_type": "markdown",
   "metadata": {},
   "source": [
    "Antes habíamos encontrado una relación entre el valor e la coordenada $\\chi$ de una fuente y el tiempo en el que esa fuente emitió la luz que vemos en la Tierra:\n",
    "\n",
    "$$\n",
    "\\chi=c\\int_{t}^{t_0}\\frac{\\mathrm{d}t'}{a(t')}\n",
    "$$\n",
    "donde hemos usado la variable auxiliar $t'$ para no confundirla con los limites de integración."
   ]
  },
  {
   "cell_type": "markdown",
   "metadata": {},
   "source": [
    "Ahora podemos cambiar a las variables $\\alpha$ y $z$ que usamos antes para obtener:\n",
    "\n",
    "$$\n",
    "\\chi=\\frac{c}{a_0}\\int_{\\alpha}^{1}\\frac{\\mathrm{d}\\alpha'}{\\alpha'^2 H(\\alpha)}=\\frac{c}{a_0}\\int_{0}^{z}\\frac{\\mathrm{d}z'}{H(z')}\n",
    "$$"
   ]
  },
  {
   "cell_type": "markdown",
   "metadata": {},
   "source": [
    "Ahora bien.  Por otro lado tenemos la coordenada radial adimensional $r$ que se relaciona con la coordenada hiperesférica $\\chi$ como:\n",
    "\n",
    "$$\n",
    "r=\\left\\{\n",
    "\\begin{array}{ll}\n",
    "\\sin \\chi & \\mathrm{Si}\\;k=+1\\\\\n",
    "\\chi & \\mathrm{Si}\\;k=0\\\\\n",
    "\\sin \\chi & \\mathrm{Si}\\;k=-1\\\\\n",
    "\\end{array}\n",
    "\\right.\n",
    "$$"
   ]
  },
  {
   "cell_type": "markdown",
   "metadata": {},
   "source": [
    "El radio de un frente de onda esférico que aranca en $t$ y llega a $t_0$ es $a_0 r$.  En este caso hablaremos de **distancia comovil** y es igual a:\n",
    "\n",
    "$$\n",
    "D_C=a_0\\times \\left\\{\n",
    "\\begin{array}{ll}\n",
    "\\sin \\chi & \\mathrm{Si}\\;k=+1\\\\\n",
    "\\chi & \\mathrm{Si}\\;k=0\\\\\n",
    "\\sin \\chi & \\mathrm{Si}\\;k=-1\\\\\n",
    "\\end{array}\n",
    "\\right.\n",
    "$$\n",
    "donde:\n",
    "\n",
    "$$\n",
    "\\chi=\\frac{c}{a_0}\\int_{\\alpha}^{1}\\frac{\\mathrm{d}\\alpha'}{\\alpha'^2 H(\\alpha)}=\\frac{c}{a_0}\\int_{0}^{z}\\frac{\\mathrm{d}z'}{H(z')}\n",
    "$$"
   ]
  },
  {
   "cell_type": "markdown",
   "metadata": {},
   "source": [
    "#### 3.3.11.2. Distancia luminosa\n",
    "<a id='distancia_luminosa'></a>"
   ]
  },
  {
   "cell_type": "markdown",
   "metadata": {},
   "source": [
    "La distancia luminosa es la más usada en astrofísica.  Surge de comparar la luminosidad producida por una fuente y su brillo observado.\n",
    "\n",
    "$$\n",
    "b=\\frac{L_e}{4\\pi D_L^2}\n",
    "$$\n",
    "donde $b$ es el brillo observado, $L_e$ es la luminosidad de la fuente en el sistema propio y $D_L$ es la que llamaremos la distancia luminosa."
   ]
  },
  {
   "cell_type": "markdown",
   "metadata": {},
   "source": [
    "Despejando obtenemos:\n",
    "\n",
    "$$\n",
    "D_L=\\sqrt{\\frac{L_e}{4\\pi b}}\n",
    "$$"
   ]
  },
  {
   "cell_type": "markdown",
   "metadata": {},
   "source": [
    "La luminosidad de una fuente es la energía que emite por unidad de tiempo.  Si asumimos que se emiten N fotones de frecuencia $f_e$ en un tiempo $\\Delta t_e$, la luminosidad emitida será:\n",
    "\n",
    "$$\n",
    "L_e=\\frac{N h f_e}{\\Delta t_e}\n",
    "$$"
   ]
  },
  {
   "cell_type": "markdown",
   "metadata": {},
   "source": [
    "Desde la distancia sin embargo la luminosidad será diferente debido al cambio en la frecuencia y la dilatación cosmológica del tiempo:\n",
    "\n",
    "$$\n",
    "L_0=\\frac{N h f_0}{\\Delta t_0}\n",
    "$$\n",
    "de donde:\n",
    "\n",
    "$$\n",
    "L_0=L_e\\left(\\frac{a}{a_0}\\right)^2\n",
    "$$\n",
    "es decir, la luminosidad observada en realidad es menor que la luminosidad emitida."
   ]
  },
  {
   "cell_type": "markdown",
   "metadata": {},
   "source": [
    "De este modo después de viajar una distancia comovil $D_C$ el brillo de la fuente será:\n",
    "\n",
    "$$\n",
    "b=\\frac{L_0}{4\\pi D_C^2}=\\left(\\frac{a}{a_0}\\right)^2 \\frac{L_e}{4\\pi D_C^2}\n",
    "$$"
   ]
  },
  {
   "cell_type": "markdown",
   "metadata": {},
   "source": [
    "Reemplazando el brillo en la distancia luminosa obtenemos:\n",
    "\n",
    "$$\n",
    "D_L=\\left(\\frac{a_0}{a}\\right)D_C\n",
    "$$\n",
    "o en términos del corrimiento al rojo:\n",
    "\n",
    "$$\n",
    "D_L=(1+z)D_C\n",
    "$$"
   ]
  },
  {
   "cell_type": "markdown",
   "metadata": {
    "tags": [
     "navigation"
    ]
   },
   "source": [
    "[Indice](index.ipynb) | Previo: [Aplicaciones.CosmologiaRelativista.EcuacionesFriedmann](03.03.02.00.Aplicaciones.CosmologiaRelativista.EcuacionesFriedmann.ipynb) | Siguiente: [Aplicaciones.CosmologiaRelativista.LeyHubbleLemaitre](03.03.04.00.Aplicaciones.CosmologiaRelativista.LeyHubbleLemaitre.ipynb)"
   ]
  }
 ],
 "metadata": {
  "celltoolbar": "Tags",
  "kernelspec": {
   "display_name": "Python 3",
   "language": "python",
   "name": "python3"
  },
  "language_info": {
   "codemirror_mode": {
    "name": "ipython",
    "version": 3
   },
   "file_extension": ".py",
   "mimetype": "text/x-python",
   "name": "python",
   "nbconvert_exporter": "python",
   "pygments_lexer": "ipython3",
   "version": "3.6.8"
  }
 },
 "nbformat": 4,
 "nbformat_minor": 2
}
