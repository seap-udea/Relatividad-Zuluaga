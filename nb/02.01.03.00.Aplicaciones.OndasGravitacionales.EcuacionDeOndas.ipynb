{
 "cells": [
  {
   "cell_type": "markdown",
   "metadata": {
    "tags": [
     "navigation"
    ]
   },
   "source": [
    "[Indice](index.ipynb) | Previo: [Aplicaciones.OndasGravitacionales.EcuacionDeCampo](02.01.02.00.Aplicaciones.OndasGravitacionales.EcuacionDeCampo.ipynb) | Siguiente: [Aplicaciones.OndasGravitacionales.Deteccion](02.01.04.00.Aplicaciones.OndasGravitacionales.Deteccion.ipynb)"
   ]
  },
  {
   "cell_type": "markdown",
   "metadata": {},
   "source": [
    "### 2.1.11. Ecuación de onda en el vacío\n",
    "<a id='ecuacion_onda_vacio'></a>"
   ]
  },
  {
   "cell_type": "markdown",
   "metadata": {},
   "source": [
    "Estudiaremos otro caso particular de la ecuación de campo."
   ]
  },
  {
   "cell_type": "markdown",
   "metadata": {},
   "source": [
    "Partamos de la ecuación de campo en el vacío:\n",
    "\n",
    "$$\n",
    "\\Box \\bar{h}_{\\mu\\nu}=0\n",
    "$$\n",
    "que se puede escribir en términos explícitos de la derivada como:\n",
    "\n",
    "$$\n",
    "\\frac{1}{c^2}\\frac{\\partial^2 \\bar{h}_{\\mu\\nu}}{\\partial t^2}-\\nabla^2 \\bar{h}_{\\mu\\nu}=0\n",
    "$$"
   ]
  },
  {
   "cell_type": "markdown",
   "metadata": {},
   "source": [
    "Esta ecuación es idéntica a una ecuación de ondas:\n",
    "\n",
    "$$\n",
    "\\nabla^2 \\bar{h}_{\\mu\\nu}=\\frac{1}{c^2}\\frac{\\partial^2 \\bar{h}_{\\mu\\nu}}{\\partial t^2}\n",
    "$$"
   ]
  },
  {
   "cell_type": "markdown",
   "metadata": {},
   "source": [
    "Es decir si se perturba una región de un espacio-tiempo, la perturbación se propagará a otros lugares con la velocidad de la luz $c$.  Podemos decir también que la **gravedad se propaga a la velocidad de la luz** y con esto resolvemos el problema de Newton de la acción a distancia."
   ]
  },
  {
   "cell_type": "markdown",
   "metadata": {},
   "source": [
    "Esta es la esencia de la predicción que se hace de la existencia de ondas gravitacionales."
   ]
  },
  {
   "cell_type": "markdown",
   "metadata": {
    "label": "",
    "subtitle": "¿Son ondas reales u ondas de coordenadas?",
    "tags": [
     "box_note"
    ],
    "title": "Nota"
   },
   "source": [
    "> **Nota: ¿Son ondas reales u ondas de coordenadas?.**<a id=''></a> En nuestras notas históricas habíamos dicho que en el primer intento de Einstein de predecir las ondas gravitacionales, en realidad las ondas que predijo eran solo ondas de coordenadas, es decir ondas que se producían gracias a la elección de un sistema de coordenadas particular.  Dado que la ecuación que obtuvimos antes imponiendo el gauge armónico es una ecuación que se deriva justamente de usar un conjunto particular de coordenaas, ¿cómo sabemos que las ondas predichas aquí son efectivamente ondas físicas, ondas reales?.  \n",
    "\n",
    "> Una manera de saberlo es ver si el único tensor que es distinto de cero independientemente de la elección del sistema de coordenadas, a saber el tensor de Riemann $R_{\\lambda\\mu\\nu\\kappa}$:\n",
    "\n",
    "> $$\n",
    "\\delta R_{\\lambda\\mu\\nu\\kappa} \\approx -\\frac{1}{2}(h_{\\mu\\nu,\\lambda,\\kappa}-h_{\\nu\\lambda,\\kappa,\\mu}+h_{\\lambda\\kappa,\\mu,\\nu}-h_{\\kappa\\mu,\\nu,\\lambda})\n",
    "$$\n",
    "> también satisface una ecuación armónica.  Es claro que en el gauge armónico $\\Box h_{\\mu\\nu}=0$ de modo que es trivial demostrar que en ese mismo gauge:\n",
    "\n",
    "> $$\n",
    "\\Box \\delta R_{\\lambda\\mu\\nu\\kappa}=0\n",
    "$$\n",
    "> Dado que lo que le pasa a este tensor en un sistema de coordenadas realmente repercute sobre la naturaleza del tensor en todos los sistemas de coordenadas, podemos decir que efectivamente las componentes de este tensor oscilan siguiendo una ecuación de ondas.  ¡Son ondas reales! (independientes del sistema de coordenadas)."
   ]
  },
  {
   "cell_type": "markdown",
   "metadata": {},
   "source": [
    "### 2.1.12. Solución general a la ecuación de onda\n",
    "<a id='solucion_ecuacion_onda'></a>"
   ]
  },
  {
   "cell_type": "markdown",
   "metadata": {},
   "source": [
    "Una cosa es escribir la ecuación de onda y otra encontrar una solución.  Si bien ya estamos acostumbrados a la ecuación de onda en otras áreas, existen ciertos aspectos de nuestro problema que hacen estas ondas muy especiales.  En particular la ecuación de onda escrita anteriormente sólo es válida en el gauge armónico.  ¿Qué implicaciones físicas tiene esto?"
   ]
  },
  {
   "cell_type": "markdown",
   "metadata": {},
   "source": [
    "Sabemos que una solución particular para la ecuación de ondas:\n",
    "\n",
    "$$\n",
    "\\nabla^2 \\bar{h}_{\\mu\\nu}=\\frac{1}{c^2}\\frac{\\partial^2 \\bar{h}_{\\mu\\nu}}{\\partial t^2}\n",
    "$$\n",
    "es\n",
    "\n",
    "$$\n",
    "\\bar{h}_{\\mu\\nu}=A_{\\mu\\nu}\\exp(-i \\vec{k}\\cdot\\vec{r})\\exp(i \\omega t)=A_{\\mu\\nu}\\exp(i k^\\alpha x_\\alpha)\n",
    "$$\n",
    "siempre que se cumpla la condición:\n",
    "\n",
    "$$\n",
    "k^\\mu k_\\mu=(k^0)^2-\\vec{k}^2=0\n",
    "$$\n",
    "o bien:\n",
    "\n",
    "$$\n",
    "k^0=k\n",
    "$$"
   ]
  },
  {
   "cell_type": "markdown",
   "metadata": {},
   "source": [
    "Llamamos a $k^\\mu$ el cuadrivector de onda (del que ya habíamos hablado antes en el curso) que como vemos tiene magnitud nula."
   ]
  },
  {
   "cell_type": "markdown",
   "metadata": {},
   "source": [
    "Para los propósitos que tenemos nos interesa la parte real esta cantidad que se puede escribir de la forma:\n",
    "\n",
    "$$\n",
    "\\bar{h}_{\\mu\\nu}=|A_{\\mu\\nu}|\\cos(k^0 ct-\\vec{k}\\cdot\\vec{r}+\\varphi)\\equiv a_{\\mu\\nu}\\cos(k^0 ct-\\vec{k}\\cdot\\vec{r}+\\varphi)\n",
    "$$"
   ]
  },
  {
   "cell_type": "markdown",
   "metadata": {},
   "source": [
    "De aquí podemos identificar $k^0=\\omega_k/c$ y $|\\vec{k}|=2\\pi/\\lambda$, con $\\omega_k$ la frecuencia angular asociada con el modo $k$, $\\lambda$ la longitud de onda del modo $k$. En términos de $\\lambda$ el cuadrivector de onda se puede escribir como:\n",
    "\n",
    "$$\n",
    "k^\\mu:\\frac{2\\pi}{\\lambda}(c,\\hat k)\n",
    "$$\n",
    "que era la manera en la que lo habíamos escrito antes."
   ]
  },
  {
   "cell_type": "markdown",
   "metadata": {},
   "source": [
    "Una solución general se puede escribir superponiendo las soluciones particulares así:\n",
    "\n",
    "$$\n",
    "\\bar{h}_{\\mu\\nu}=\\mathrm{Re}\\left(\\int A_{\\mu\\nu}(\\vec{k})\\exp(i k^\\mu x_\\mu)\\;\\mathrm{d}^3k\\right)\n",
    "$$\n"
   ]
  },
  {
   "cell_type": "markdown",
   "metadata": {},
   "source": [
    "### 2.1.13. El gauge transversal de traza cero\n",
    "<a id='gauge_transversal'></a>"
   ]
  },
  {
   "cell_type": "markdown",
   "metadata": {},
   "source": [
    "Tomemos una onda armónica que se propaga en una dirección definida de $\\vec k$ (onda plana).  En este caso el tenso $a_{\\mu\\nu}$ indica la amplitud que tienen cada una de las componentes espacio temporales de la onda.  En general habrán 10 amplitudes, que contrastan con la amplitud única que tiene una onda en una dimensión.  ¿Qué son esas 10 amplitudes?"
   ]
  },
  {
   "cell_type": "markdown",
   "metadata": {},
   "source": [
    "Las amplitudes $a_{\\alpha\\beta}$ de la onda determinaran su *polarización* a la manera como lo hacen por ejemplo en el caso de una onda electromagnética.  Es por eso que es conveniente llamar a $a_{\\mu\\nu}$ el **tensor de polarización**."
   ]
  },
  {
   "cell_type": "markdown",
   "metadata": {},
   "source": [
    "Sabemos que por el gauge armónico se debe cumplir la condición:\n",
    "\n",
    "$$\n",
    "{\\bar{h}^{\\mu\\alpha}}_{,\\alpha}=a^{\\mu\\alpha}k_\\alpha=0\n",
    "$$"
   ]
  },
  {
   "cell_type": "markdown",
   "metadata": {},
   "source": [
    "Estas son 4 ecuaciones que relacionan las componentes de la polarización.  Esta condición nos deja entonces con solo 6 componentes indepenientes del tensor de polarización."
   ]
  },
  {
   "cell_type": "markdown",
   "metadata": {},
   "source": [
    "Veamos cómo se relacionan esas componentes.  Para ello escribamos mejor el gauge armónico en su forma original:\n",
    "\n",
    "$$\n",
    "V_\\mu=\\eta^{\\alpha\\alpha}\\left(h_{\\alpha\\mu,\\alpha}-\\frac{1}{2}h_{\\alpha\\alpha,\\mu}\\right)=0\n",
    "$$\n",
    "y la solución general:\n",
    "\n",
    "$$\n",
    "h_{\\mu\\nu}=a_{\\mu\\nu}\\cos(\\omega t-\\vec{k}\\cdot\\vec{r}+\\varphi)\n",
    "$$"
   ]
  },
  {
   "cell_type": "markdown",
   "metadata": {},
   "source": [
    "Si escogemos el sistema de coordenadas de modo que la dirección del eje $z$ apunte hacia $\\vec k$, la perturbación general queda:\n",
    "\n",
    "$$\n",
    "h_{\\mu\\nu}=a_{\\mu\\nu}\\cos(\\Phi)\n",
    "$$\n",
    "donde $\\Phi\\equiv \\omega t-kz+\\varphi$"
   ]
  },
  {
   "cell_type": "markdown",
   "metadata": {},
   "source": [
    "Nótese que la perturbación no depende de $x$, $y$ y por eso llamamos a esta una *onda plana*.  Las únicas derivadas distintas de cero serán entonces:\n",
    "\n",
    "\\begin{eqnarray}\n",
    "\\nonumber\n",
    "h_{\\mu\\nu,0} & = & -a_{\\mu\\nu}\\frac{\\omega}{c}\\sin(\\Phi)\\\\\n",
    "\\nonumber\n",
    "h_{\\mu\\nu,3} & = & a_{\\mu\\nu}k\\sin(\\Phi)\\\\\n",
    "\\end{eqnarray}\n",
    "\n",
    "donde hemos hecho $\\partial_0=\\partial_t /c$."
   ]
  },
  {
   "cell_type": "markdown",
   "metadata": {},
   "source": [
    "Esto implica que para una solución armónica:\n",
    "\n",
    "$$\n",
    "h_{\\mu\\nu,0}=-h_{\\mu\\nu,3}\n",
    "$$"
   ]
  },
  {
   "cell_type": "markdown",
   "metadata": {},
   "source": [
    "Reemplazando en la condición gauge para $\\mu=0$ queda:\n",
    "\n",
    "\\begin{eqnarray}\n",
    "\\nonumber\n",
    "\\eta^{00}\\left(h_{00,0}-\\frac{1}{2}h_{00,0}\\right)+\\eta^{ii}\\left(h_{i0,i}-\\frac{1}{2}h_{ii,0}\\right) & = & 0\\\\\n",
    "\\nonumber\n",
    "-\\frac{1}{2}k a_{tt}-\\frac{1}{2}k a_{xx}-\\frac{1}{2}k a_{yy}-\\frac{1}{2}k a_{zz}+k a_{zt} & = & 0\\\\\n",
    "a_{tt}+a_{xx}+a_{yy}+a_{zz}+2a_{zt} & = & 0\n",
    "\\end{eqnarray}"
   ]
  },
  {
   "cell_type": "markdown",
   "metadata": {},
   "source": [
    "Reemplazando en la condición gauge para $\\mu=3$ queda:\n",
    "\n",
    "\\begin{eqnarray}\n",
    "\\nonumber\n",
    "\\eta^{00}\\left(h_{03,0}-\\frac{1}{2}h_{00,3}\\right)+\\eta^{ii}\\left(h_{i3,i}-\\frac{1}{2}h_{ii,3}\\right) & = & 0\\\\\n",
    "\\nonumber\n",
    "-k a_{zt} -\\frac{1}{2}k a_{tt} + \\frac{1}{2}k a_{xx} + \\frac{1}{2}k a_{yy} - \\frac{1}{2}k a_{zz}& = & 0 \\\\\n",
    "\\nonumber\n",
    "a_{tt}-a_{xx}-a_{yy}+a_{zz}+2a_{zt} & = & 0\n",
    "\\end{eqnarray}"
   ]
  },
  {
   "cell_type": "markdown",
   "metadata": {},
   "source": [
    "Sumando las ecuaciones anteriores queda:\n",
    "\n",
    "$$\n",
    "a_{tz}=-\\frac{1}{2}(a_{tt}+a_{zz})\n",
    "$$\n",
    "y restando:\n",
    "\n",
    "$$\n",
    "a_{xx}=-a_{yy}\n",
    "$$"
   ]
  },
  {
   "cell_type": "markdown",
   "metadata": {},
   "source": [
    "Para las otras componentes obtenemos:\n",
    "\n",
    "$$\n",
    "\\begin{array}{rcl}\n",
    "a_{tx}+a_{zx} & = & 0\\\\\n",
    "a_{ty}+a_{zy} & = & 0\n",
    "\\end{array}\n",
    "$$"
   ]
  },
  {
   "cell_type": "markdown",
   "metadata": {},
   "source": [
    "De modo que la matriz de polarización queda:\n",
    "\n",
    "$$\n",
    "a_{\\mu\\nu}=\n",
    "\\left(\n",
    "\\begin{array}{cccc}\n",
    "a_{tt} & a_{tx} & a_{ty} & -(a_{tt}+a_{zz})/2 \\\\\n",
    "a_{tx} & a_{xx} & a_{xy} & -a_{tx} \\\\\n",
    "a_{ty} & a_{xy} & -a_{xx} & -a_{ty} \\\\\n",
    "-(a_{tt}+a_{zz})/2 & -a_{tx} & -a_{ty} & a_{zz} \\\\\n",
    "\\end{array}\n",
    "\\right)\n",
    "$$\n",
    "donde las componentes independientes son: $a_{tt},a_{tx},a_{ty},a_{tz},a_{xx},a_{zz}$."
   ]
  },
  {
   "cell_type": "markdown",
   "metadata": {},
   "source": [
    "¿Podemos precisar mejor esas componentes? Recordemos que la libertad gauge implica que:\n",
    "\n",
    "$$\n",
    "h'_{\\mu\\nu}=h_{\\mu\\nu}-\\xi_{\\mu,\\nu}-\\xi_{\\nu,\\mu}\n",
    "$$"
   ]
  },
  {
   "cell_type": "markdown",
   "metadata": {},
   "source": [
    "Dado que $\\xi^\\mu$ también cumple una ecuación del tipo:\n",
    "\n",
    "$$\n",
    "\\Box \\xi^\\mu=0\n",
    "$$\n",
    "debe tener también forma armónica:\n",
    "\n",
    "$$\n",
    "\\xi^\\mu=b_{\\mu}\\cos(\\omega t-k z +\\varphi_\\xi)\n",
    "$$\n",
    "con una fase $\\varphi_\\xi$ que no necesariamente coincide con la fase de la onda."
   ]
  },
  {
   "cell_type": "markdown",
   "metadata": {},
   "source": [
    "La transformación de coordenadas implica, para la componentes temporales de la perturbación, la condición:\n",
    "    \n",
    "$$\n",
    "\\begin{array}{rcl}\n",
    "h'_{00} & = & h_{00} - \\dot{\\xi}_{0}\\\\\n",
    "h'_{03} & = & h_{03} - \\dot{\\xi}_{3} + \\dot{\\xi}_{0}\\\\\n",
    "h'_{0i} & = & h_{0i} - \\dot{\\xi}_{i}\\\\\n",
    "\\end{array}\n",
    "$$\n",
    "y por otro lado\n",
    "\n",
    "$$\n",
    "h'_{33} = h_{33}+2\\dot{\\xi}_3\n",
    "$$"
   ]
  },
  {
   "cell_type": "markdown",
   "metadata": {},
   "source": [
    "Se pueden escoger las funciones $\\xi_\\mu$tal que:\n",
    "\n",
    "$$\n",
    "\\begin{array}{rcl}\n",
    "h'_{0\\mu} & = & 0\\\\\n",
    "h'_{33} & = & 0\\\\\n",
    "\\end{array}\n",
    "$$"
   ]
  },
  {
   "cell_type": "markdown",
   "metadata": {},
   "source": [
    "Con este gauge las componentes de la polarización se simplifican significativamente para ser igual a:\n",
    "\n",
    "$$\n",
    "a'_{\\mu\\nu}=\n",
    "\\left(\n",
    "\\begin{array}{cccc}\n",
    "0 & 0 & 0 & 0 \\\\\n",
    "0 & a'_{xx} & a'_{xy} & 0 \\\\\n",
    "0 & a'_{xy} & -a'_{xx} & 0 \\\\\n",
    "0 & 0 & 0 & 0 \\\\\n",
    "\\end{array}\n",
    "\\right)\n",
    "$$"
   ]
  },
  {
   "cell_type": "markdown",
   "metadata": {},
   "source": [
    "Una propiedad de este gauge particular es que tiene traza 0:\n",
    "\n",
    "$$\n",
    "h'=h'^\\mu_\\mu=h'_{00}-h'_{11}-h'_{22}-h'_{33}=0\n",
    "$$"
   ]
  },
  {
   "cell_type": "markdown",
   "metadata": {},
   "source": [
    "Usando esta condición y escribiendo de nuevo la componente $i$ del gauge:\n",
    "\n",
    "$$\n",
    "V_i=\\eta^{\\alpha\\alpha}h'_{i\\alpha,\\alpha}=k^0 a'_{i0} + k^z a'_{iz}=0\n",
    "$$"
   ]
  },
  {
   "cell_type": "markdown",
   "metadata": {},
   "source": [
    "Esta última condición significa esencialmente que la onda resultante es transversal. "
   ]
  },
  {
   "cell_type": "markdown",
   "metadata": {},
   "source": [
    "Es por eso que a este gauge lo llamamos el **gauge transversal de traza cero**."
   ]
  },
  {
   "cell_type": "markdown",
   "metadata": {},
   "source": [
    "En síntesis en el gauge transversal de traza cero la perturbación métrica correspondiente a una onda plana que se propaga en una dirección arbitraria $z$ y que tiene longitud de onda $\\lambda$, número de onda $k=2\\pi/\\lambda$ y frecuencia angular $\\omega=k c = 2\\pi c/\\lambda$ es:\n",
    "\n",
    "$$\n",
    "h^{TT}_{\\mu\\nu}=\n",
    "\\left(\n",
    "\\begin{array}{cccc}\n",
    "0 & 0 & 0 & 0 \\\\\n",
    "0 & a_{+} & a_{\\times} & 0 \\\\\n",
    "0 & a_{\\times} & -a_{+} & 0 \\\\\n",
    "0 & 0 & 0 & 0 \\\\\n",
    "\\end{array}\n",
    "\\right) \\cos(\\omega t - k z + \\varphi)\n",
    "$$\n",
    "donde $a_{+}$ y $a_{\\times}$ son las componentes de *polarización más* (*plus polarization*) y *polarización cruz* (*cross polarization*) respectivamente."
   ]
  },
  {
   "cell_type": "markdown",
   "metadata": {},
   "source": [
    "La métrica en este gauge tendrá la forma general:\n",
    "\n",
    "$$\n",
    "\\mathrm{d}s_{TT}^2=c^2\\mathrm{d}t^2-[1+h(u)]\\;\\mathrm{d}x^2-[1-h(u)]\\;\\mathrm{d}y^2\n",
    "+2 [1+g(u)]\\;\\mathrm{d}x\\mathrm{d}y\n",
    "-\\mathrm{d}z^2\n",
    "$$\n",
    "donde:\n",
    "\n",
    "$$\n",
    "\\begin{array}{rcl}\n",
    "h(u) & = & a_{+}\\cos(k u + \\varphi)\\\\\n",
    "g(u) & = & a_\\times\\cos(k u + \\varphi)\n",
    "\\end{array}\n",
    "$$\n",
    "y $u\\equiv ct-z$."
   ]
  },
  {
   "cell_type": "markdown",
   "metadata": {
    "tags": [
     "navigation"
    ]
   },
   "source": [
    "[Indice](index.ipynb) | Previo: [Aplicaciones.OndasGravitacionales.EcuacionDeCampo](02.01.02.00.Aplicaciones.OndasGravitacionales.EcuacionDeCampo.ipynb) | Siguiente: [Aplicaciones.OndasGravitacionales.Deteccion](02.01.04.00.Aplicaciones.OndasGravitacionales.Deteccion.ipynb)"
   ]
  }
 ],
 "metadata": {
  "celltoolbar": "Tags",
  "kernelspec": {
   "display_name": "Python 3",
   "language": "python",
   "name": "python3"
  },
  "language_info": {
   "codemirror_mode": {
    "name": "ipython",
    "version": 3
   },
   "file_extension": ".py",
   "mimetype": "text/x-python",
   "name": "python",
   "nbconvert_exporter": "python",
   "pygments_lexer": "ipython3",
   "version": "3.6.8"
  }
 },
 "nbformat": 4,
 "nbformat_minor": 2
}
