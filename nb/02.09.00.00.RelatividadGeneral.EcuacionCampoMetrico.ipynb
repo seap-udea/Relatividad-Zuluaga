{
 "cells": [
  {
   "cell_type": "markdown",
   "metadata": {
    "tags": [
     "navigation"
    ]
   },
   "source": [
    "[Indice](index.ipynb) | Previo: [RelatividadGeneral.TensorDeMomentumEnergia](02.08.00.00.RelatividadGeneral.TensorDeMomentumEnergia.ipynb) | Siguiente: [RelatividadGeneral.GravedadLinearizada](02.10.00.00.RelatividadGeneral.GravedadLinearizada.ipynb)"
   ]
  },
  {
   "cell_type": "markdown",
   "metadata": {},
   "source": [
    "## 2.12. La ecuación de campo métrico\n",
    "<a id='ecuacion_campo_metrico'></a>"
   ]
  },
  {
   "cell_type": "markdown",
   "metadata": {},
   "source": [
    "Tenemos ya todos los elementos para encontrar la ecuación general que conecta el flujo de momentum y energía con la curvatura del espacio tiempo."
   ]
  },
  {
   "cell_type": "markdown",
   "metadata": {},
   "source": [
    "Hasta ahora hemos reunido las condiciones que requería el lado derecho de la ecuación general de campo que cumple el principio de consistencia.\n",
    "\n",
    "$$\n",
    "{\\cal G}(g_{\\mu\\nu,\\alpha,\\alpha})\\equiv {\\cal G}_{\\mu\\nu}=\\frac{8\\pi G}{c^4}E_{\\mu\\nu}\n",
    "$$"
   ]
  },
  {
   "cell_type": "markdown",
   "metadata": {},
   "source": [
    "Construímos una cantidad que cumple la función de $E_{\\mu\\nu}$, el tensor momentum energía:\n",
    "\n",
    "$$\n",
    "E_{\\mu\\nu}=T_{\\mu\\nu}=g_{\\alpha\\mu}g_{\\beta\\nu} T^{\\alpha\\beta}\n",
    "$$\n",
    "que cumple la condición de que en campo débil:\n",
    "\n",
    "$$\n",
    "E_{00}=\\rho_0 c^2\n",
    "$$"
   ]
  },
  {
   "cell_type": "markdown",
   "metadata": {},
   "source": [
    "De este modo la ecuación general queda:\n",
    "\n",
    "$$\n",
    "{\\cal G}_{\\mu\\nu}=\\frac{8\\pi G}{c^4}T_{\\mu\\nu}\n",
    "$$"
   ]
  },
  {
   "cell_type": "markdown",
   "metadata": {},
   "source": [
    "Esta cantidad satisface un principio de conservación:\n",
    "\n",
    "$$\n",
    "{T_{\\mu\\nu}}^{;\\mu}=0\n",
    "$$"
   ]
  },
  {
   "cell_type": "markdown",
   "metadata": {},
   "source": [
    "Ahora debemos trabajar para obtener el tensor ${\\cal G}_{\\mu\\nu}$ en el lado que sea una función lineal del D'Alambertiano de la métrica."
   ]
  },
  {
   "cell_type": "markdown",
   "metadata": {},
   "source": [
    "El principio de conservación del momentum y la energía exigen que se cumpla la condición:\n",
    "\n",
    "$$\n",
    "{{\\cal G}_{\\mu\\nu}}^{;\\mu}=0\n",
    "$$"
   ]
  },
  {
   "cell_type": "markdown",
   "metadata": {},
   "source": [
    "### 2.12.1. El tensor de Einstein\n",
    "<a id='tensor_einstein'></a>"
   ]
  },
  {
   "cell_type": "markdown",
   "metadata": {},
   "source": [
    "Conocemos un tensor que depende de la segunda derivada de la métrica, el tensor de Riemann:\n",
    "\n",
    "$$\n",
    "{R^\\alpha}_{\\mu\\nu\\kappa}=g^{\\alpha\\lambda}R_{\\lambda\\mu\\nu\\kappa} = -\\frac{1}{2} g^{\\alpha\\lambda}g_{\\{\\mu\\nu,\\lambda,\\kappa\\}}-g^{\\alpha\\lambda}g_{\\alpha\\beta}(\\Gamma^\\alpha_{\\mu\\nu}\\Gamma^\\beta_{\\lambda\\kappa}-\\Gamma^\\alpha_{\\mu\\kappa}\\Gamma^\\beta_{\\lambda\\nu})\n",
    "$$"
   ]
  },
  {
   "cell_type": "markdown",
   "metadata": {},
   "source": [
    "Un tensor que contiene el D'Alambertiano de la métrica $g_{\\mu\\nu,\\alpha,\\alpha}$ resulta de contraer todas las componentes con igual índices $\\alpha$ y $\\kappa$:\n",
    "\n",
    "$$\n",
    "R_{\\mu\\nu}\\equiv {R^\\alpha}_{\\mu\\nu\\alpha}= g^{\\lambda\\alpha} R_{\\lambda\\mu\\nu\\alpha}=R_{\\mu\\nu}(g_{\\mu\\nu,\\alpha,\\alpha})\n",
    "$$\n",
    "llamamos a este el **tensor de Ricci**."
   ]
  },
  {
   "cell_type": "markdown",
   "metadata": {
    "label": "",
    "subtitle": "Simetría y componentes del tensor de Ricci",
    "tags": [
     "box_note"
    ],
    "title": "Nota"
   },
   "source": [
    "> **Nota: Simetría y componentes del tensor de Ricci.**<a id=''></a> El tensor de Ricci será muy importante en lo sucesivo.  Por las propiedades del tensor de Riemann se puede probar que el tensor de Ricci es simétrico:\n",
    "\n",
    "> $$R_{\\mu\\nu}=R_{\\nu\\mu}$$\n",
    "> esto implica que solo tiene 10 componentes independientes."
   ]
  },
  {
   "cell_type": "markdown",
   "metadata": {},
   "source": [
    "La derivada covariante de este tensor cumple tiene una interesante propiedad.  Comencemos con la identidad de Bianchi:\n",
    "\n",
    "$$\n",
    "{R^{\\alpha}}_{\\beta[\\mu\\nu;\\sigma]}=0\\\\\n",
    "{R^{\\alpha}}_{\\beta\\mu\\nu;\\sigma}+{R^{\\alpha}}_{\\beta\\nu\\sigma;\\mu}+{R^{\\alpha}}_{\\beta\\sigma\\mu;\\nu}=0\n",
    "$$"
   ]
  },
  {
   "cell_type": "markdown",
   "metadata": {},
   "source": [
    "Si tomamos todos los términos con $\\alpha=\\nu$ y sumamos las identidades correspondientes obtenemos:\n",
    "\n",
    "$$\n",
    "R_{\\beta\\mu;\\sigma}-R_{\\beta\\sigma;\\mu}+{R^{\\alpha}}_{\\beta\\sigma\\mu;\\alpha}=0\n",
    "$$"
   ]
  },
  {
   "cell_type": "markdown",
   "metadata": {},
   "source": [
    "Si multiplicamos por $g^{\\beta\\mu}$ y sumamos sobre todos los $\\mu$ y todos los $\\beta$ obtenemos:\n",
    "\n",
    "$$\n",
    "g^{\\beta\\mu}R_{\\beta\\mu;\\sigma}-g^{\\beta\\mu}R_{\\beta\\sigma;\\mu}+g^{\\beta\\mu}{R^{\\alpha}}_{\\beta\\sigma\\mu;\\alpha}=0\n",
    "$$"
   ]
  },
  {
   "cell_type": "markdown",
   "metadata": {},
   "source": [
    "Definiendo:\n",
    "\n",
    "$$\n",
    "R\\equiv g^{\\beta\\mu}R_{\\beta\\mu}\n",
    "$$\n",
    "como el **escalar de curvatura**, la anterior ecuación nos queda:\n",
    "\n",
    "$$\n",
    "R_{;\\sigma}-g^{\\beta\\mu}R_{\\beta\\sigma;\\mu}+g^{\\beta\\mu}{R^{\\alpha}}_{\\beta\\sigma\\mu;\\alpha}=0\n",
    "$$"
   ]
  },
  {
   "cell_type": "markdown",
   "metadata": {},
   "source": [
    "El tensor de Riemann en el último término se puede escribir como ${R^{\\alpha}}_{\\beta\\sigma\\mu}=g^{\\alpha\\lambda}R_{\\lambda\\beta\\sigma\\mu}$ de modo que la ecuación queda:\n",
    "\n",
    "$$\n",
    "R_{;\\sigma}-g^{\\beta\\mu}R_{\\beta\\sigma;\\mu}+g^{\\beta\\mu}g^{\\alpha\\lambda}R_{\\lambda\\beta\\sigma\\mu;\\alpha}=0\n",
    "$$"
   ]
  },
  {
   "cell_type": "markdown",
   "metadata": {},
   "source": [
    "Por definición del tensor de Ricci:\n",
    "\n",
    "$$\n",
    "g^{\\beta\\mu}R_{\\beta\\lambda\\sigma\\mu}=R_{\\lambda\\sigma}\n",
    "$$\n",
    "de donde la ecuación se puede escribir como:\n",
    "\n",
    "$$\n",
    "R_{;\\sigma}-g^{\\beta\\mu}R_{\\beta\\sigma;\\mu}-g^{\\lambda\\alpha}R_{\\lambda\\sigma;\\alpha}=0\n",
    "$$"
   ]
  },
  {
   "cell_type": "markdown",
   "metadata": {},
   "source": [
    "Aquí se puede ver que los dos últimos términos son idénticos (se pueden poner los índices mudos iguales:\n",
    "\n",
    "$$\n",
    "R_{;\\sigma}-2 g^{\\beta\\mu}R_{\\beta\\sigma;\\mu}=0\n",
    "$$"
   ]
  },
  {
   "cell_type": "markdown",
   "metadata": {},
   "source": [
    "Que se puede escribir como:\n",
    "\n",
    "$$\n",
    "{R_{\\beta\\sigma}}^{;\\beta}-\\frac{1}{2}R_{;\\sigma}=0\n",
    "$$\n",
    "o como\n",
    "\n",
    "$$\n",
    "\\left(R_{\\beta\\sigma}-\\frac{1}{2}g_{\\beta\\sigma}R\\right)^{;\\beta}=0\n",
    "$$"
   ]
  },
  {
   "cell_type": "markdown",
   "metadata": {},
   "source": [
    "Si definimos el vector:\n",
    "\n",
    "$$\n",
    "G_{\\mu\\nu}\\equiv R_{\\mu\\nu}-\\frac{1}{2}g_{\\mu\\nu} R\n",
    "$$\n",
    "que llamaremos, el **tensor de Einstein**, la identidad de Bianchi contraída resulta ser:\n",
    "\n",
    "$$\n",
    "{G_{\\mu\\nu}}^{;\\mu}=0\n",
    "$$"
   ]
  },
  {
   "cell_type": "markdown",
   "metadata": {
    "label": "",
    "subtitle": "El signo de tensor de Einstein",
    "tags": [
     "box_note"
    ],
    "title": "Nota"
   },
   "source": [
    "> **Nota: El signo de tensor de Einstein.**<a id=''></a> Nótese que existe una libertad en la manera en la que elegimos el signo del tensor de Einstein que no afecta sus propiedades."
   ]
  },
  {
   "cell_type": "markdown",
   "metadata": {},
   "source": [
    "### 2.12.2. Una ecuación de campo general\n",
    "<a id='ecuacion_campo_debil_general'></a>"
   ]
  },
  {
   "cell_type": "markdown",
   "metadata": {},
   "source": [
    "Es posible demostrar que los únicos tensores de rango dos que son funciones lineales del D'Alambertiano de la métrica y que al mismo tiempo satisfacen la condición:\n",
    "\n",
    "$$\n",
    "{{\\cal G}_{\\mu\\nu}}^{;\\mu}=0\n",
    "$$\n",
    "se pueden escribir como:\n",
    "\n",
    "$$\n",
    "{\\cal G}_{\\mu\\nu}=k G_{\\mu\\nu}\n",
    "$$\n",
    "donde $k$ es una constante."
   ]
  },
  {
   "cell_type": "markdown",
   "metadata": {},
   "source": [
    "De allí que la ecuación más general que describe la relación entre el flujo de momentum y energía y el D'Alambertiano de la métrica será:\n",
    "\n",
    "$$\n",
    "k(R_{\\mu\\nu}-\\frac{1}{2}g_{\\mu\\nu} R)=\\frac{8\\pi G}{c^4}T_{\\mu\\nu}\n",
    "$$\n",
    "o bien,\n",
    "\n",
    "$$\n",
    "R_{\\mu\\nu}-\\frac{1}{2}g_{\\mu\\nu} R=\\frac{8\\pi G}{kc^4}T_{\\mu\\nu}\n",
    "$$\n"
   ]
  },
  {
   "cell_type": "markdown",
   "metadata": {},
   "source": [
    "Por la simetría el tensor de Ricci esta corresponde a 10 ecuaciones."
   ]
  },
  {
   "cell_type": "markdown",
   "metadata": {},
   "source": [
    "Nos restaría por determinar el valor de las constantes $k$.  En la sección de gravedad linearizada demostraremos que por el principio de consistencia esta constante es exactamente igual a 1, de modo que la ecuación de campo métrico será:\n",
    "\n",
    "$$\n",
    "R_{\\mu\\nu}-\\frac{1}{2}g_{\\mu\\nu} R=\\frac{8\\pi G}{kc^4}T_{\\mu\\nu}\n",
    "$$"
   ]
  },
  {
   "cell_type": "markdown",
   "metadata": {},
   "source": [
    "Una propiedad interesante resulta al contraer los índices:\n",
    "\n",
    "$$\n",
    "g^{\\mu\\nu}R_{\\mu\\nu}-\\frac{1}{2}g^{\\mu\\nu}g_{\\mu\\nu} R=\\frac{8\\pi G}{c^4}g^{\\mu\\nu}T_{\\mu\\nu}\n",
    "$$"
   ]
  },
  {
   "cell_type": "markdown",
   "metadata": {},
   "source": [
    "Teniendo en cuenta que $g^{\\mu\\nu}g_{\\mu\\nu}=\\delta^\\mu_\\mu=4$ y llamando $T^{\\mu}_{\\mu}=T$:\n",
    "\n",
    "$$\n",
    "R=-\\frac{8\\pi G}{c^4}T\n",
    "$$"
   ]
  },
  {
   "cell_type": "markdown",
   "metadata": {},
   "source": [
    "Reemplazando en la ecuación de campo queda:\n",
    "\n",
    "$$\n",
    "R_{\\mu\\nu}=\\frac{8\\pi G}{c^4}\\left(T_{\\mu\\nu}-\\frac{1}{2}g_{\\mu\\nu}T\\right)\n",
    "$$\n",
    "que es una versión alternativa de la ecuación."
   ]
  },
  {
   "cell_type": "markdown",
   "metadata": {},
   "source": [
    "### 2.12.3. El término cosmológico\n",
    "<a id='termino_cosmologico'></a>"
   ]
  },
  {
   "cell_type": "markdown",
   "metadata": {},
   "source": [
    "Como vimos desde el principio, la manera en la que se deduce heurísticamente la ecuación de campo métrico es buscando un tensor que tenga divergencia covariante cero.  Demostramos que el tensor $G_{\\mu\\nu}$ (o un múltiplo de él) tiene esa condición.  Pero hay otros tensores que pueden tener esa condición.  Por ejemplo el tensor métrico mismo tiene divergencia covariante cero:\n",
    "\n",
    "$$\n",
    "{g_{\\mu\\nu}}^{;\\mu}=0\n",
    "$$"
   ]
  },
  {
   "cell_type": "markdown",
   "metadata": {},
   "source": [
    "Por qué ibamos entonces a suponer que el tensor general del lado izquierdo de la ecuación es solo el tensor de Einstein y no algo más general de la forma:\n",
    "\n",
    "$$\n",
    "{\\cal G}_{\\mu\\nu}=G_{\\mu\\nu}+\\lambda g_{\\mu\\nu}\n",
    "$$\n",
    "donde $\\lambda$ es una constante."
   ]
  },
  {
   "cell_type": "markdown",
   "metadata": {},
   "source": [
    "Una ecuación aún más general entonces sería:\n",
    "\n",
    "$$\n",
    "R_{\\mu\\nu}-\\frac{1}{2}g_{\\mu\\nu} R+\\lambda g_{\\mu\\nu}=\\frac{8\\pi G}{c^4}T_{\\mu\\nu}\n",
    "$$\n"
   ]
  },
  {
   "cell_type": "markdown",
   "metadata": {},
   "source": [
    "El único inconveniente con esta ecuación es que en el límite de campo débil y para la métrica newtoniana, la ecuación resultante no es la ecuación de Poisson ¿o sí?. Una manera de reconciliar la nueva ecuación sería agregar el término en el lado derecho de la ecuación:\n",
    "\n",
    "$$\n",
    "R_{\\mu\\nu}-\\frac{1}{2}g_{\\mu\\nu} R=\\frac{8\\pi G}{c^4}T_{\\mu\\nu}+\\Lambda g_{\\mu\\nu}\n",
    "$$\n",
    "y agrupar el nuevo término con el tensor momentum energía:\n",
    "\n",
    "$$\n",
    "R_{\\mu\\nu}-\\frac{1}{2}g_{\\mu\\nu} R=\\frac{8\\pi G}{c^4}\\left(T_{\\mu\\nu}+\\rho_\\Lambda c^2 g_{\\mu\\nu}\\right)\n",
    "$$\n",
    "donde \n",
    "\n",
    "$$\\rho_\\Lambda=\\frac{\\Lambda c^2}{8\\pi G}$$"
   ]
  },
  {
   "cell_type": "markdown",
   "metadata": {},
   "source": [
    "Si $\\rho_\\Lambda\\ll\\rho$ para la mayoría de las situaciones gravitacionales que vemos en astronomía, entonces la ecuación seguiría siendo válida."
   ]
  },
  {
   "cell_type": "markdown",
   "metadata": {},
   "source": [
    "Pero ¿qué es $\\rho_\\Lambda$? "
   ]
  },
  {
   "cell_type": "markdown",
   "metadata": {},
   "source": [
    "A primera vista vemos que se trata de una densidad de materia que existiría incluso en la ausencia de otras formas de materia, es decir, podría interpretarse como una densidad de masa del vacío con tensor de momentum energía asociado:\n",
    "\n",
    "$$\n",
    "T^\\mathrm{vacio}_{\\mu\\nu}=\\rho_\\Lambda c^2 g_{\\mu\\nu}\n",
    "$$"
   ]
  },
  {
   "cell_type": "markdown",
   "metadata": {},
   "source": [
    "Es decir, el vacío se comporta como un fluído perfecto con densidad y presión:\n",
    "\n",
    "$$\n",
    "\\begin{array}{rcl}\n",
    "\\rho_\\mathrm{vacio} & = & \\rho_\\Lambda\\\\\n",
    "p_\\mathrm{vacio} & = &  -\\rho_\\Lambda c^2\n",
    "\\end{array}\n",
    "$$"
   ]
  },
  {
   "cell_type": "markdown",
   "metadata": {},
   "source": [
    "En una situación en la que no hay materia y asumiendo que $\\rho_\\Lambda$ es muy pequeña (campo débil) la ecuación de Poisson para el vacío será:\n",
    "\n",
    "$$\n",
    "\\nabla^2 \\Phi = -8\\pi G \\rho_\\Lambda=-\\Lambda c^2\n",
    "$$"
   ]
  },
  {
   "cell_type": "markdown",
   "metadata": {},
   "source": [
    "Es decir el vacío producirá un efecto *repulsivo*."
   ]
  },
  {
   "cell_type": "markdown",
   "metadata": {
    "label": "",
    "subtitle": "Einstein y el mayor error de su vida",
    "tags": [
     "box_history"
    ],
    "title": "Un poco de historia"
   },
   "source": [
    "> **Un poco de historia: Einstein y el mayor error de su vida.**<a id=''></a> Einstein introdujo el término cosmológico en su ecuación porque pensaba que si no lo hacía el Universo podría colapsar por su propio peso.  Esto es que si aplicamos la ecuación de campo a un fluído homogéneo encontramos un potencial atractivo que tendería a hacer que la materia se atrayese y el universo habría terminado hace mucho.  En la época de Einstein todo parecía indicar que el Universo era eterno y estático.  Es por eso que el término $\\Lambda g_{\\mu\\nu}$ que introdujimos en el lado derecho se conoce como el término cosmológico.\n",
    "\n",
    "> Después que se descubrió que el Universo en efecto se expandía Einstein reconocío que la introducción del término cosmológico había sido un gran error (\"*my biggest blunder*\").  \n",
    "\n",
    "> En 1998 astrónomos descubrieron que la expansión del Universo se estaba acelerando lo que implicaba que efectivamente el término cosmológico estaba presente en la ecuación.  Si bien durante todo el siglo XX la mayoría de los cosmólogos dejaron el término cosmológico en su lugar y lo estudiaron como una curiosidad, lo cierto es que para los 2000 ya habíamos incluso medido esta cantidad.\n",
    "\n",
    "> Hoy se sabe que la densidad de masa debida al término cosmológico es del orden de 0.74 veces la densidad crítica, $\\rho_\\mathrm{crit}=8.5\\times 10^{-27}$ kg m$^{-3}$, es decir $\\rho_\\Lambda=6.29\\times 10^{-27}$ kg m$^{-3}$.  Teniendo en cuenta que:\n",
    "\n",
    "> $$\\rho_\\Lambda = \\frac{\\Lambda c^2}{8\\pi G}$$\n",
    "> hoy sabemos que la constante cosmológica debe ser muy cercana a:\n",
    "\n",
    "> $$\\Lambda\\approx 1.2\\times 10^{-52}\\;\\mathrm{m}^{-2}$$\n",
    "\n",
    "> Curiosamente el valor de la constante cosmológicamente coincide en orden de magnitud, con el inverso del cuadrado del Universo observable, $1/R^2_\\mathrm{U}=1/(10$ Gal$)\\sim 10^{-52}$ m$^{-2}$. "
   ]
  },
  {
   "cell_type": "markdown",
   "metadata": {},
   "source": [
    "### 2.12.4. La ecuación de Hilbert-Einstein\n",
    "<a id='ecuacion_hilbert_einstein'></a>"
   ]
  },
  {
   "cell_type": "markdown",
   "metadata": {},
   "source": [
    "La deducción que hicimos de la ecuación de campo métrico es de naturaleza heurística.  Una deducción más rigurosa fue hecha de forma simultánea por el matemático alemán David Hilbert."
   ]
  },
  {
   "cell_type": "markdown",
   "metadata": {},
   "source": [
    "Esta deducción puede [encontrarse aquí](https://en.wikipedia.org/wiki/Einstein%E2%80%93Hilbert_action) y parte de suponer que en el espacio-tiempo con materia se extremiza la denominada **acción de Hilbert-Einstein**:\n",
    "\n",
    "$$\n",
    "S= \\int \\sqrt{g}\\left[\\frac{c^4}{16 \\pi G\n",
    "}(R+2\\Lambda)-{\\cal L}_\\mathrm{M}\\right] \\;\\mathrm{d}^{4} x\n",
    "$$\n",
    "donde $g$ es el determinante de la métrica $R$ es el escalar de curvatura y ${\\cal L}_\\mathrm{M}$ sería el equivalente a un *lagrangiano* correspondiente a la materia-energía presente en el espacio-tiempo. "
   ]
  },
  {
   "cell_type": "markdown",
   "metadata": {},
   "source": [
    "Si se aplica la condición convencional de que:\n",
    "\n",
    "$$\n",
    "\\delta S = 0 \n",
    "$$\n",
    "entonces la ecuación resultante es:\n",
    "\n",
    "$$\n",
    "R_{\\mu\\nu}-\\frac{1}{2}g_{\\mu\\nu} R-\\Lambda g_{\\mu\\nu}=\\frac{8\\pi G}{c^4}T_{\\mu\\nu}\n",
    "$$\n",
    "que se conoce por la misma razón como la **ecuación de Hilbert-Einstein** (HEE) o la **ecuación de campo métrico de einstein** (EFE)."
   ]
  },
  {
   "cell_type": "markdown",
   "metadata": {
    "label": "",
    "subtitle": "Sobre los signos en la ecuación de Einstein",
    "tags": [
     "box_note"
    ],
    "title": "Nota"
   },
   "source": [
    "> **Nota: Sobre los signos en la ecuación de Einstein.**<a id=''></a> Es posible encontrar distintas versiones diferentes de la ecuación de Einstein y de la acción de Hilbert-Einstein, que dependen de la signatura que hayamos usado para la métrica y del signo que hayamos escogido para el tensor de Einstein o el tensor de Riemann. "
   ]
  },
  {
   "cell_type": "markdown",
   "metadata": {
    "tags": [
     "navigation"
    ]
   },
   "source": [
    "[Indice](index.ipynb) | Previo: [RelatividadGeneral.TensorDeMomentumEnergia](02.08.00.00.RelatividadGeneral.TensorDeMomentumEnergia.ipynb) | Siguiente: [RelatividadGeneral.GravedadLinearizada](02.10.00.00.RelatividadGeneral.GravedadLinearizada.ipynb)"
   ]
  }
 ],
 "metadata": {
  "celltoolbar": "Tags",
  "kernelspec": {
   "display_name": "Python 3",
   "language": "python",
   "name": "python3"
  },
  "language_info": {
   "codemirror_mode": {
    "name": "ipython",
    "version": 3
   },
   "file_extension": ".py",
   "mimetype": "text/x-python",
   "name": "python",
   "nbconvert_exporter": "python",
   "pygments_lexer": "ipython3",
   "version": "3.6.8"
  }
 },
 "nbformat": 4,
 "nbformat_minor": 2
}
