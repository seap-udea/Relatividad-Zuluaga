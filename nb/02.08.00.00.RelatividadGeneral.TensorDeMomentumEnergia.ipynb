{
 "cells": [
  {
   "cell_type": "markdown",
   "metadata": {
    "tags": [
     "navigation"
    ]
   },
   "source": [
    "[Indice](index.ipynb) | Previo: [RelatividadGeneral.PrincipioConsistencia](02.07.00.00.RelatividadGeneral.PrincipioConsistencia.ipynb) | Siguiente: [RelatividadGeneral.EcuacionCampoMetrico](02.09.00.00.RelatividadGeneral.EcuacionCampoMetrico.ipynb)"
   ]
  },
  {
   "cell_type": "markdown",
   "metadata": {},
   "source": [
    "## 2.11. Tensor de momentum-energía\n",
    "<a id='tensor_momentum_energia'></a>"
   ]
  },
  {
   "cell_type": "markdown",
   "metadata": {},
   "source": [
    "Cómo construir una cantidad tensorial $E_{\\mu\\nu}$ que involucre todas las posibles fuentes de energía que existen en una región del espacio-tiempo dado, tal que:\n",
    "\n",
    "$$\n",
    "E_{00}=\\rho c^2\n",
    "$$"
   ]
  },
  {
   "cell_type": "markdown",
   "metadata": {},
   "source": [
    "Cualquiera sea la cantidad que construyamos debemos satisfacer el principio de conservación de la energía: dada una región del espacio-tiempo donde hay masa-energía en movimiento, la cantidad de masa-energía debe conservarse."
   ]
  },
  {
   "cell_type": "markdown",
   "metadata": {},
   "source": [
    "Ya habíamos visto en la electrodinámica que la conservación de la carga se expresa en la forma de la ecuación de continuidad:\n",
    "\n",
    "$$\n",
    "J^\\mu_{,\\mu}=0\n",
    "$$\n",
    "donde\n",
    "\n",
    "$$\n",
    "J^{\\mu}=\\rho \\frac{\\mathrm{d}x^\\mu}{\\mathrm{d}t}\n",
    "$$\n",
    "donde $\\mathrm{d}x^\\mu/\\mathrm{d}t$ es la velocidad de un elemento de volumen de fluído alrededor del evento en el que la densidad carga es $\\rho(x^\\nu)$."
   ]
  },
  {
   "cell_type": "markdown",
   "metadata": {},
   "source": [
    "Si tenemos un sistema formado por partículas puntuales (masa constante), la conservación de la masa se expresa de forma similar.  ¿Cómo generalizar este principio de continuidad a sistemas mecánicos mucho más generales?"
   ]
  },
  {
   "cell_type": "markdown",
   "metadata": {},
   "source": [
    "Una primera idea sería la de definir una corriente más general:\n",
    "\n",
    "$$\n",
    "J^\\mu_q\\equiv q \\frac{\\mathrm{d}x^\\mu}{\\mathrm{d}t}\n",
    "$$\n",
    "donde $q$ es la densidad una cantidad física que asumimos conservada."
   ]
  },
  {
   "cell_type": "markdown",
   "metadata": {},
   "source": [
    "La ecuación de continuidad de la electrodinámica será entonces aquella que corresponde a la conservación de la carga:\n",
    "\n",
    "$$\n",
    "{J^\\mu_{\\rho_q}}_{,\\mu}=0\n",
    "$$\n",
    "donde $Q=\\rho_q$ es la densidad de carga eléctrica, mientras que la conservación de la masa será:\n",
    "\n",
    "$$\n",
    "{J^\\mu_{\\rho_m}}_{,\\mu}=0\n",
    "$$\n",
    "donde $Q=\\rho_m c^2$ es la densidad de masa. "
   ]
  },
  {
   "cell_type": "markdown",
   "metadata": {},
   "source": [
    "Pero en mecánica conocemos otras cantidades conservadas, por ejemplo, en ausencia de fuerzas y torques, en una nube de partículas el momentum lineal y angular se conservan.  De modo que podemos definir las corrientes de estas cantidades."
   ]
  },
  {
   "cell_type": "markdown",
   "metadata": {},
   "source": [
    "Por ejemplo, la densidad de momentum se puede definir como:\n",
    "\n",
    "$$\n",
    "{J^\\mu}_{\\pi_i}=\\pi_{i} \\frac{\\mathrm{d}x^\\mu}{\\mathrm{d}t}\n",
    "$$"
   ]
  },
  {
   "cell_type": "markdown",
   "metadata": {},
   "source": [
    "donde es importante anotar que $\\pi_i$ no es el momentum convencional, sino su densidad (momentum total por unidad de volumen). Esta cantidad sin embargo no es una cantidad muy apropiadad para la relatividad puesto que involucra cantidades vectoriales y tensoriales.  Definamos de forma más general la **densidad de flujo de cuadrimomentum**:"
   ]
  },
  {
   "cell_type": "markdown",
   "metadata": {},
   "source": [
    "$$\n",
    "T^{\\mu\\nu}\\equiv J^\\nu_{\\pi^\\mu} \\equiv \\pi^\\mu \\frac{\\mathrm{d}x^\\nu}{\\mathrm{d}t}\n",
    "$$\n",
    "donde $\\pi^\\mu(x^\\alpha)$ es la densidad de cuadrimomentum en el evento $x^\\alpha$ (cuadrimomentum total de un elemento de volumen por unidad de volumen)."
   ]
  },
  {
   "cell_type": "markdown",
   "metadata": {},
   "source": [
    "Esta cantidad recibe, de forma más conveniente, el nombre de **tensor de momentum-energía** y es la cantidad tensorial que estabamos buscando para nuestra ecuación de campo general, como demostraremos enseguida."
   ]
  },
  {
   "cell_type": "markdown",
   "metadata": {},
   "source": [
    "### 2.11.1. Tensor de momentum-energía para una nube de partículas\n",
    "<a id='Tmunu_nube'></a>"
   ]
  },
  {
   "cell_type": "markdown",
   "metadata": {},
   "source": [
    "Para entender mejor lo que es el tensor momentum energía, podemos calcularlo en algunos casos conocidos.  El mejor es el de una **nube de partículas no interactuantes**. "
   ]
  },
  {
   "cell_type": "markdown",
   "metadata": {},
   "source": [
    "Cada partícula en la nube tiene masa idéntica $m$.  La densidad de número de partículas es $n$.  La velocidad de las partículas en un entorno infinitesimal alrededor de un evento $x^\\alpha$ se considera idéntica e igual a $U^\\mu(x^\\alpha$) y cada partícula tendrá por tanto un cuadrimomentum $P^\\mu(x^\\alpha)=m U^\\mu(x^\\alpha)$."
   ]
  },
  {
   "cell_type": "markdown",
   "metadata": {},
   "source": [
    "En estas condiciones la densidad de momentum en la dirección espacial $\\mu$ se puede escribir como:\n",
    "\n",
    "$$\n",
    "\\pi^\\mu(x^\\alpha)=n m U^\\mu(x^\\alpha)=\\rho U^\\mu(x^\\alpha)\n",
    "$$"
   ]
  },
  {
   "cell_type": "markdown",
   "metadata": {},
   "source": [
    "De allí que el tensor de momentum energía será: \n",
    "\n",
    "$$\n",
    "T^{\\mu\\nu}_\\mathrm{nube}(x^\\alpha)=\\frac{\\rho}{\\gamma_v} U^\\mu(x^\\alpha) U^\\nu(x^\\alpha)=\\rho_0 U^\\mu(x^\\alpha) U^\\nu(x^\\alpha)\n",
    "$$\n",
    "donde hemos usado el hecho: \n",
    "\n",
    "$$\\frac{\\mathrm{d}x^\\mu}{\\mathrm{d}t}=\\frac{1}{\\gamma_v}U^\\mu$$ \n",
    "y hemos reconocido que \n",
    "\n",
    "$$\\rho=n m = (\\gamma_v n_0) m$$\n",
    "donde $n_0$ es la densidad de número propia en el punto $x^\\alpha$ en la que las partículas tienen velocidad $\\vec v(x^\\alpha)$."
   ]
  },
  {
   "cell_type": "markdown",
   "metadata": {},
   "source": [
    "En síntesis podemos decir que el tensor momentum-energía para una nube de partículas no interactuantes será:\n",
    "\n",
    "$$\n",
    "T^{\\mu\\nu}_\\mathrm{nube}=\\rho_0 U^\\mu U^\\nu\n",
    "$$"
   ]
  },
  {
   "cell_type": "markdown",
   "metadata": {},
   "source": [
    "Otra manera de escribirlo y como se encuentra comunmente en la literatura es:\n",
    "\n",
    "$$\n",
    "T^{\\mu\\nu}_\\mathrm{nube}=n\\left(\\frac{P^\\mu P^\\nu}{E/c^2}\\right) \n",
    "$$\n",
    "donde $E=\\gamma m c^2$."
   ]
  },
  {
   "cell_type": "markdown",
   "metadata": {},
   "source": [
    "Una componente de interés es la componente temporal que será:\n",
    "\n",
    "$$\n",
    "T^{00}_\\mathrm{nube}= \\rho_0 U^0 U^0 = n_0 m \\gamma^2 c^2 = (\\gamma n_0)(\\gamma m c^2)\\equiv\\varepsilon\n",
    "$$\n",
    "donde $\\varepsilon\\equiv n(\\gamma m c^2)$ es la densidad de energía.  "
   ]
  },
  {
   "cell_type": "markdown",
   "metadata": {},
   "source": [
    "También podemos escribir como:\n",
    "\n",
    "$$\n",
    "T^{00}_\\mathrm{nube}=\\gamma \\rho c^2\n",
    "$$\n",
    "donde $\\rho=n m$."
   ]
  },
  {
   "cell_type": "markdown",
   "metadata": {},
   "source": [
    "Podemos finalmente escribir explícitamente las componentes del tensor momentum energía:\n",
    "\n",
    "$$\n",
    "T^{\\mu\\nu}_\\mathrm{nube}=\\gamma \\rho c^2\n",
    "\\left(\n",
    "\\begin{array}{cccc}\n",
    "1 & v_x/c & v_y/c & v_z/c \\\\\n",
    "v_x/c & v_x^2/c^2 & v_x v_y/c^2  & v_x v_z/c^2 \\\\\n",
    "v_y/c & v_x v_y/c^2  & v_y^2/c^2 & v_y v_z/c^2 \\\\\n",
    "v_z/c & v_x v_z/c^2  & v_y v_z/c^2  & v_z^2/c^2 \n",
    "\\end{array}\n",
    "\\right)\n",
    "$$"
   ]
  },
  {
   "cell_type": "markdown",
   "metadata": {},
   "source": [
    "### 2.11.2. Tensor de momentum-energía para polvo\n",
    "<a id='Tmunu_polvo'></a>"
   ]
  },
  {
   "cell_type": "markdown",
   "metadata": {},
   "source": [
    "Si la nube de partículas se mueve con velocidad muy pequeña comparada con la velocidad de la luz el tensor será:\n",
    "\n",
    "$$\n",
    "T^{\\mu\\nu}_\\mathrm{polvo}=\n",
    "\\left(\n",
    "\\begin{array}{cccc}\n",
    "\\rho_0 c^2 & 0 & 0 & 0 \\\\\n",
    "0 & 0 & 0 & 0 \\\\\n",
    "0 & 0 & 0 & 0 \\\\\n",
    "0 & 0 & 0 & 0 \n",
    "\\end{array}\n",
    "\\right)\n",
    "$$"
   ]
  },
  {
   "cell_type": "markdown",
   "metadata": {},
   "source": [
    "Llamamos a esta situación polvo porque las partículas se mueven lentamente posiblemente debido a que son macroscópicas (galaxias, granos sólidos de polvo, estrellas, etc.)"
   ]
  },
  {
   "cell_type": "markdown",
   "metadata": {},
   "source": [
    "### 2.11.3. Tensor $T^{\\mu\\nu}$ y el tensor de esfuerzos $\\sigma^{\\mu\\nu}$\n",
    "<a id='Tmunu_sigma_munu'></a>"
   ]
  },
  {
   "cell_type": "markdown",
   "metadata": {},
   "source": [
    "El tensor de momentum-energía tiene relación con un tensor clásico, el **tensor de esfuerzos de Cauchy**, que también miden el flujo de momentum.  "
   ]
  },
  {
   "cell_type": "markdown",
   "metadata": {},
   "source": [
    "Sabemos que la componente $i$ fuerza que actúa sobre un elemento de volumen es $F^i=\\mathrm{d}p^i/\\mathrm{d}t$, por tanto la fuerza por unidad de área o tracción $\\sigma^i$ medida en la dirección de la superficie en dirección $\\hat{e}_j$ será:\n",
    "\n",
    "$$\n",
    "\\sigma^i_j\\equiv\\frac{\\mathrm{d}F^i}{\\mathrm{d}A^j}=\\frac{\\mathrm{d}^2 p^i}{\\mathrm{d}t\\mathrm{d}A^j}\n",
    "$$\n",
    "que es justo lo que llamamos el flujo de momentum espacial $p^i$ a través del área $A^j$. "
   ]
  },
  {
   "cell_type": "markdown",
   "metadata": {},
   "source": [
    "El tensor de esfuerzos en un medio elástico se puede escribir como:\n",
    "\n",
    "$$\n",
    "\\sigma^i_{j}=\n",
    "\\left(\n",
    "\\begin{array}{ccc}\n",
    "\\sigma_x & \\tau_{xy} & \\tau_{xz}  \\\\\n",
    "\\tau_{yx} & \\sigma_y & \\tau_{yz}  \\\\\n",
    "\\tau_{zx} & \\tau_{zy}  & \\sigma_z\n",
    "\\end{array}\n",
    "\\right)\n",
    "$$\n",
    "donde $\\sigma_x,\\sigma_y,\\sigma_z$ se conocen como los resfuerzos normales y $\\tau_{ij}$ se conocen como los esfuerzos cortantes."
   ]
  },
  {
   "cell_type": "markdown",
   "metadata": {},
   "source": [
    "Con esta definición podemos escribir el tensor de momentum energía mecánico como:\n",
    "\n",
    "$$\n",
    "T^{\\mu\\nu}_\\mathrm{mec}=\n",
    "\\left(\n",
    "\\begin{array}{cccc}\n",
    "T^{00} & T^{01} & T^{02} & T^{03} \\\\\n",
    "T^{01} & \\sigma^{11} & \\sigma^{12} & \\sigma^{13} \\\\\n",
    "T^{02} & \\sigma^{12} & \\sigma^{22} & \\sigma^{23} \\\\\n",
    "T^{03} & \\sigma^{13} & \\sigma^{12} & \\sigma^{33} \\\\\n",
    "\\end{array}\n",
    "\\right)\n",
    "$$"
   ]
  },
  {
   "cell_type": "markdown",
   "metadata": {},
   "source": [
    "### 2.11.4. Tensor de momentum-energía para fluído perfecto\n",
    "<a id='Tmunu_fluido_perfecto'></a>"
   ]
  },
  {
   "cell_type": "markdown",
   "metadata": {},
   "source": [
    "Para un fluído perfecto (no viscosidad, es decir no hay esfuerzos cortantes) en equilibrio hidrodinámico, el tensor de esfuerzos adopta la forma:\n",
    "\n",
    "$$\n",
    "\\sigma^i_{j}=\n",
    "\\left(\n",
    "\\begin{array}{ccc}\n",
    "-p & 0 & 0 \\\\\n",
    "0 & -p & 0 \\\\\n",
    "0 & 0 & -p\n",
    "\\end{array}\n",
    "\\right)\n",
    "$$\n",
    "donde $p$ es la presión en el fluído."
   ]
  },
  {
   "cell_type": "markdown",
   "metadata": {},
   "source": [
    "El tensor de esfuerzos contravariante será:\n",
    "\n",
    "$$\n",
    "\\sigma^{ij}=g^{ik}\\sigma^i_k=\n",
    "\\left(\n",
    "\\begin{array}{ccc}\n",
    "-g^{11} p & 0 & 0 \\\\\n",
    "0 & -g^{22} p & 0 \\\\\n",
    "0 & 0 & -g^{33} p\n",
    "\\end{array}\n",
    "\\right)\n",
    "$$"
   ]
  },
  {
   "cell_type": "markdown",
   "metadata": {},
   "source": [
    "Si nos paramos en el sistema de referencia del fluído entonces $T^{00}=\\rho_0 c^2$ y $T^{0i}=0$ el tensor momentum-energía será:\n",
    "\n",
    "$$\n",
    "T^{\\mu\\nu}_\\mathrm{perfecto}=\n",
    "\\left(\n",
    "\\begin{array}{cccc}\n",
    "\\rho_0 c^2 & 0 & 0 & 0 \\\\\n",
    "0 & -g^{11}p & 0 & 0 \\\\\n",
    "0 & 0 & -g^{22}p & 0 \\\\\n",
    "0 & 0 & 0 & -g^{33}p \\\\\n",
    "\\end{array}\n",
    "\\right)\n",
    "$$"
   ]
  },
  {
   "cell_type": "markdown",
   "metadata": {},
   "source": [
    "Si ahora observamos el fluído desde un sistema de referencia que se mueve con velocidad $\\vec u$ debemos transformar el tensor de acuerdo con las reglas de transformación generales correspondientes a la métrica $g_{\\mu\\nu}$:\n",
    "\n",
    "$$\n",
    "T^{\\mu'\\nu'}_\\mathrm{perfecto}={\\cal G}^\\mu_{\\mu'} {\\cal G}^\\nu_{\\nu'} T^{\\mu\\nu}_\\mathrm{perfecto}\n",
    "$$"
   ]
  },
  {
   "cell_type": "markdown",
   "metadata": {},
   "source": [
    "Un tedioso cálculo algebraico produce como resultado:\n",
    "\n",
    "$$\n",
    "T^{\\mu\\nu}_\\mathrm{perfecto}=\\left(\\rho_0+\\frac{p}{c^2}\\right)U^\\mu U^\\nu-pg^{\\mu\\nu}\n",
    "$$"
   ]
  },
  {
   "cell_type": "markdown",
   "metadata": {},
   "source": [
    "### 2.11.5. La conservación de $T^{\\mu\\nu}$ y la ecuación geodésica\n",
    "<a id='conservacion_Tmunu'></a>"
   ]
  },
  {
   "cell_type": "markdown",
   "metadata": {},
   "source": [
    "Recordemos que una de las razones por las que dedujimos el tensor de momentum-energía era pensando justamente en que este tuviera la propiedad de conservación de otras corrientes, a saber:\n",
    "\n",
    "$$\n",
    "{T^{\\mu\\nu}}_{;\\mu}=0\n",
    "$$\n",
    "donde hemos escrito en lugar de la derivada \",\" de la ley de conservación de la cuadricorriente, la derivada covariante \";\" de la relatividad general."
   ]
  },
  {
   "cell_type": "markdown",
   "metadata": {},
   "source": [
    "Es posible partiendo del tensor momentum-energía de una nube de partículas probar que la condición anterior solo se cumple si las partículas de la nube se mueven siguiendo geodésicas (ver Lorenzo, página 295-297):\n",
    "\n",
    "$$\n",
    "\\frac{\\mathrm{d^2} x^\\mu}{\\mathrm{d}\\sigma^2} + \\Gamma^\\mu_{\\alpha\\gamma} \\frac{\\mathrm{d} x^\\alpha}{\\mathrm{d}\\sigma}\\frac{\\mathrm{d} x^\\gamma}{\\mathrm{d}\\sigma}=0\n",
    "$$"
   ]
  },
  {
   "cell_type": "markdown",
   "metadata": {},
   "source": [
    "Es posible mostrar que la ecuación de conservación se puede escribir también como:\n",
    "\n",
    "$$\n",
    "{T_{\\mu\\nu}}^{;\\mu}=0\n",
    "$$"
   ]
  },
  {
   "cell_type": "markdown",
   "metadata": {
    "tags": [
     "navigation"
    ]
   },
   "source": [
    "[Indice](index.ipynb) | Previo: [RelatividadGeneral.PrincipioConsistencia](02.07.00.00.RelatividadGeneral.PrincipioConsistencia.ipynb) | Siguiente: [RelatividadGeneral.EcuacionCampoMetrico](02.09.00.00.RelatividadGeneral.EcuacionCampoMetrico.ipynb)"
   ]
  }
 ],
 "metadata": {
  "kernelspec": {
   "display_name": "Python 3",
   "language": "python",
   "name": "python3"
  },
  "language_info": {
   "codemirror_mode": {
    "name": "ipython",
    "version": 3
   },
   "file_extension": ".py",
   "mimetype": "text/x-python",
   "name": "python",
   "nbconvert_exporter": "python",
   "pygments_lexer": "ipython3",
   "version": "3.6.8"
  }
 },
 "nbformat": 4,
 "nbformat_minor": 2
}
