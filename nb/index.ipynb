{
 "cells": [
  {
   "cell_type": "markdown",
   "metadata": {},
   "source": [
    "<p style=\"margin:3em\"></p>\n",
    "<p style=\"text-align:center;font-size:3em;font-weight:bold\">Relatividad y Gravitación</p>\n",
    "<p style=\"text-align:center;font-size:2em\">Teoría, algoritmos y problemas</p>"
   ]
  },
  {
   "cell_type": "markdown",
   "metadata": {},
   "source": [
    "![Portada](./figures/portada.png)"
   ]
  },
  {
   "cell_type": "markdown",
   "metadata": {},
   "source": [
    "<p style=\"text-align:center;font-size:2em;font-weight:bold\">Jorge I. Zuluaga</p>\n",
    "<p style=\"text-align:center;font-size:1.2em\">Profesor Titular de Física y Astronomía</p>\n",
    "<p style=\"text-align:center;font-size:1.2em\">Instituto de Física, Facultad de Ciencias Exactas y Naturales</p>\n",
    "<p style=\"text-align:center;font-size:1.2em\">Universidad de Antioquia</p>"
   ]
  },
  {
   "cell_type": "markdown",
   "metadata": {},
   "source": [
    "---"
   ]
  },
  {
   "cell_type": "markdown",
   "metadata": {},
   "source": [
    "<p style=\"margin:1em\"></p>\n",
    "<p style=\"text-align:center;font-size:2em;font-weight:bold\">Tabla de Contenido</p>\n",
    "<p style=\"margin:1em\"></p>"
   ]
  },
  {
   "cell_type": "markdown",
   "metadata": {},
   "source": [
    "## Índice de materias\n",
    "- [Aplicaciones de la relatividad general](01.00.00.00.Aplicaciones.ipynb#aplicaciones_rgeneral).\n",
    "   - [Agujeros negros](01.01.00.00.Aplicaciones.AgujerosNegros.ipynb#agujeros_negros).\n",
    "      - [Historia de los agujeros negros](01.01.00.00.Aplicaciones.AgujerosNegros.ipynb#historia_an).\n",
    "      - [Un temario](01.01.00.00.Aplicaciones.AgujerosNegros.ipynb#temario_an).\n",
    "      - [Métrica de Schwarzschild](01.01.01.00.Aplicaciones.AgujerosNegros.MetricaSchwarzschild.ipynb#metrica_schw).\n",
    "      - [Cantidades asociadas a la métrica](01.01.01.00.Aplicaciones.AgujerosNegros.MetricaSchwarzschild.ipynb#cantidades_metrica_schw).\n",
    "      - [Integración numérica](01.01.01.00.Aplicaciones.AgujerosNegros.MetricaSchwarzschild.ipynb#integracion_numerica_schw).\n",
    "      - [Coordenadas y medidas](01.01.02.00.Aplicaciones.AgujerosNegros.FenomenologiaBasica.ipynb#coordenadas_medidas).\n",
    "      - [Dilatación gravitacional del tiempo](01.01.02.00.Aplicaciones.AgujerosNegros.FenomenologiaBasica.ipynb#dilatacion_gravitacional_tiempo).\n",
    "      - [Corrimiento al rojo gravitacional](01.01.02.00.Aplicaciones.AgujerosNegros.FenomenologiaBasica.ipynb#grav_redshift).\n",
    "      - [Contracción de longitudes](01.01.02.00.Aplicaciones.AgujerosNegros.FenomenologiaBasica.ipynb#contraccione_longitudes).\n",
    "      - [Movimiento geodésico en la métrica de Schwarzschild](01.01.03.00.Aplicaciones.AgujerosNegros.Geodesicas.ipynb#geodesica_schw).\n",
    "      - [Constantes de movimiento](01.01.03.00.Aplicaciones.AgujerosNegros.Geodesicas.ipynb#constantes_schw).\n",
    "      - [Caída libre en un agujero negro](01.01.03.00.Aplicaciones.AgujerosNegros.Geodesicas.ipynb#caida_libre_schw).\n",
    "      - [Coordenadas avanzadas de Eddington-Finkelstein](01.01.04.00.Aplicaciones.AgujerosNegros.Coordenadas.ipynb#eddington_finkelstein).\n",
    "      - [Coordenadas de Painlevé-Gullstrand](01.01.04.00.Aplicaciones.AgujerosNegros.Coordenadas.ipynb#painleve_gullstrand).\n",
    "      - [Coordenadas de Kruskal-Szekeres](01.01.04.00.Aplicaciones.AgujerosNegros.Coordenadas.ipynb#kruskal_szekeres).\n",
    "- [Apéndices](02.01.00.00.Apendices.CodigosUtiles.ipynb#apendices).\n",
    "   - [Códigos útiles](02.01.00.00.Apendices.CodigosUtiles.ipynb#apendice_codigos_utiles).\n",
    "      - [Cálculo analítico de tensores en relatividad general](02.01.00.00.Apendices.CodigosUtiles.ipynb#calculo_analitico_rg).\n"
   ]
  },
  {
   "cell_type": "markdown",
   "metadata": {},
   "source": [
    "## Índice de figuras\n",
    "- Figuras en [01.01.00.00.Aplicaciones.AgujerosNegros](01.01.00.00.Aplicaciones.AgujerosNegros.ipynb)\n",
    "   - [Figura 1.1](01.01.00.00.Aplicaciones.AgujerosNegros.ipynb#fig:Figure_1). Karl Schwarzschild.\n",
    "   - [Figura 1.2](01.01.00.00.Aplicaciones.AgujerosNegros.ipynb#fig:Figure_2). Imagen del agujero negro supermasivo en el centro de la galaxia M87 obtenida por el *Event Horizon Telescope* el 10 de abril de 2019.\n",
    "- Figuras en [01.01.04.00.Aplicaciones.AgujerosNegros.Coordenadas](01.01.04.00.Aplicaciones.AgujerosNegros.Coordenadas.ipynb)\n",
    "   - [Figura 1.11](01.01.04.00.Aplicaciones.AgujerosNegros.Coordenadas.ipynb#fig:Figure_11). Geodésica nula en las coordenadas de Finkelstein-Eddington.\n",
    "   - [Figura 1.12](01.01.04.00.Aplicaciones.AgujerosNegros.Coordenadas.ipynb#fig:Figure_12). Mapa del espacio tiempo en las coordenadas de Kruskal-Szekeres.\n"
   ]
  }
 ],
 "metadata": {
  "kernelspec": {
   "display_name": "Python 3",
   "language": "python",
   "name": "python3"
  },
  "language_info": {
   "codemirror_mode": {
    "name": "ipython",
    "version": 3
   },
   "file_extension": ".py",
   "mimetype": "text/x-python",
   "name": "python",
   "nbconvert_exporter": "python",
   "pygments_lexer": "ipython3",
   "version": "3.6.8"
  }
 },
 "nbformat": 4,
 "nbformat_minor": 2
}
