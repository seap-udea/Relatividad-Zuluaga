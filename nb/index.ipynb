{
 "cells": [
  {
   "cell_type": "markdown",
   "metadata": {},
   "source": [
    "<p style=\"margin:3em\"></p>\n",
    "<p style=\"text-align:center;font-size:3em;font-weight:bold\">Relatividad y Gravitación</p>\n",
    "<p style=\"text-align:center;font-size:2em\">Teoría, algoritmos y problemas</p>"
   ]
  },
  {
   "cell_type": "markdown",
   "metadata": {},
   "source": [
    "![Portada](./figures/portada.png)"
   ]
  },
  {
   "cell_type": "markdown",
   "metadata": {},
   "source": [
    "<p style=\"text-align:center;font-size:2em;font-weight:bold\">Jorge I. Zuluaga</p>\n",
    "<p style=\"text-align:center;font-size:1.2em\">Profesor Titular de Física y Astronomía</p>\n",
    "<p style=\"text-align:center;font-size:1.2em\">Instituto de Física, Facultad de Ciencias Exactas y Naturales</p>\n",
    "<p style=\"text-align:center;font-size:1.2em\">Universidad de Antioquia</p>"
   ]
  },
  {
   "cell_type": "markdown",
   "metadata": {},
   "source": [
    "---"
   ]
  },
  {
   "cell_type": "markdown",
   "metadata": {},
   "source": [
    "<p style=\"margin:1em\"></p>\n",
    "<p style=\"text-align:center;font-size:2em;font-weight:bold\">Tabla de Contenido</p>\n",
    "<p style=\"margin:1em\"></p>"
   ]
  },
  {
   "cell_type": "markdown",
   "metadata": {},
   "source": [
    "## Índice de materias\n",
    "- [Relatividad Especial](01.00.00.00.RelatividadEspecial.ipynb#relatividad_especial). <b>{#relatividad_especial}</b>\n",
    "   - [Motivación](01.00.00.00.RelatividadEspecial.ipynb#respecial_motivacion). <b>{#respecial_motivacion}</b>\n",
    "   - [Conceptos básicos](01.01.00.00.RelatividadEspecial.ConceptosBasicos.ipynb#respecial_conceptos). <b>{#respecial_conceptos}</b>\n",
    "   - [Principio de homogeneidad e isotropía del espacio-tiempo](01.01.00.00.RelatividadEspecial.ConceptosBasicos.ipynb#ppio_homogeneidad). <b>{#ppio_homogeneidad}</b>\n",
    "   - [La relatividad Newtoniana](01.01.00.00.RelatividadEspecial.ConceptosBasicos.ipynb#relatividad_newtoniana). <b>{#relatividad_newtoniana}</b>\n",
    "   - [El problema del electromagnetismo](01.01.00.00.RelatividadEspecial.ConceptosBasicos.ipynb#problema_electromagnetismo). <b>{#problema_electromagnetismo}</b>\n",
    "   - [Las transformaciones de Lorentz-Einstein](01.02.00.00.RelatividadEspecial.TransformacionesLorentzEinstein.ipynb#transformaciones_einstein). <b>{#transformaciones_einstein}</b>\n",
    "   - [Una perspectiva geo-métrica](01.02.00.00.RelatividadEspecial.TransformacionesLorentzEinstein.ipynb#perspectiva_geometrica). <b>{#perspectiva_geometrica}</b>\n"
   ]
  }
 ],
 "metadata": {
  "kernelspec": {
   "display_name": "Python 3",
   "language": "python",
   "name": "python3"
  },
  "language_info": {
   "codemirror_mode": {
    "name": "ipython",
    "version": 3
   },
   "file_extension": ".py",
   "mimetype": "text/x-python",
   "name": "python",
   "nbconvert_exporter": "python",
   "pygments_lexer": "ipython3",
   "version": "3.6.8"
  }
 },
 "nbformat": 4,
 "nbformat_minor": 2
}
