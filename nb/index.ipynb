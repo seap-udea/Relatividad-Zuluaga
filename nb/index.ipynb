{
 "cells": [
  {
   "cell_type": "markdown",
   "metadata": {},
   "source": [
    "<p style=\"margin:3em\"></p>\n",
    "<p style=\"text-align:center;font-size:3em;font-weight:bold\">Relatividad y Gravitación</p>\n",
    "<p style=\"text-align:center;font-size:2em\">Teoría, algoritmos y problemas</p>"
   ]
  },
  {
   "cell_type": "markdown",
   "metadata": {},
   "source": [
    "![Portada](./figures/portada.png)"
   ]
  },
  {
   "cell_type": "markdown",
   "metadata": {},
   "source": [
    "<p style=\"text-align:center;font-size:2em;font-weight:bold\">Jorge I. Zuluaga</p>\n",
    "<p style=\"text-align:center;font-size:1.2em\">Profesor Titular de Física y Astronomía</p>\n",
    "<p style=\"text-align:center;font-size:1.2em\">Instituto de Física, Facultad de Ciencias Exactas y Naturales</p>\n",
    "<p style=\"text-align:center;font-size:1.2em\">Universidad de Antioquia</p>"
   ]
  },
  {
   "cell_type": "markdown",
   "metadata": {},
   "source": [
    "---"
   ]
  },
  {
   "cell_type": "markdown",
   "metadata": {},
   "source": [
    "<p style=\"margin:1em\"></p>\n",
    "<p style=\"text-align:center;font-size:2em;font-weight:bold\">Tabla de Contenido</p>\n",
    "<p style=\"margin:1em\"></p>"
   ]
  },
  {
   "cell_type": "markdown",
   "metadata": {},
   "source": [
    "## Índice de materias\n",
    "- [Aplicaciones de la relatividad general](01.00.00.00.Aplicaciones.ipynb#aplicaciones_rgeneral).\n",
    "   - [Cosmología relativista](01.01.00.00.Aplicaciones.CosmologiaRelativista.ipynb#cosmologia_relativista).\n",
    "      - [Plan de temas](01.01.00.00.Aplicaciones.CosmologiaRelativista.ipynb#plan_temas).\n",
    "      - [Propiedades del universo](01.01.00.00.Aplicaciones.CosmologiaRelativista.ipynb#propiedades_universo).\n",
    "      - [Principios básicos](01.01.01.00.Aplicaciones.CosmologiaRelativista.MetricaUniverso.ipynb#principios_basicos).\n",
    "      - [La métrica del Universo](01.01.01.00.Aplicaciones.CosmologiaRelativista.MetricaUniverso.ipynb#metrica_universo).\n",
    "         - [Espacio plano](01.01.01.00.Aplicaciones.CosmologiaRelativista.MetricaUniverso.ipynb#espacio_plano).\n",
    "         - [Espacio curvo cerrado](01.01.01.00.Aplicaciones.CosmologiaRelativista.MetricaUniverso.ipynb#espacio_curvo_cerrado).\n",
    "         - [Espacio curvo abierto](01.01.01.00.Aplicaciones.CosmologiaRelativista.MetricaUniverso.ipynb#espacio_curvo_abierto).\n",
    "      - [La métrica de Robertson-Walker](01.01.01.00.Aplicaciones.CosmologiaRelativista.MetricaUniverso.ipynb#metrica_RW).\n",
    "      - [Las ecuaciones de Friedmann](01.01.02.00.Aplicaciones.CosmologiaRelativista.EcuacionesFriedmann.ipynb#ecuacion_friedmann).\n",
    "- [Apéndices](02.01.00.00.Apendices.CodigosUtiles.ipynb#apendices).\n",
    "   - [Códigos útiles](02.01.00.00.Apendices.CodigosUtiles.ipynb#apendice_codigos_utiles).\n",
    "      - [Cálculo analítico de tensores en relatividad general](02.01.00.00.Apendices.CodigosUtiles.ipynb#calculo_analitico_rg).\n"
   ]
  },
  {
   "cell_type": "markdown",
   "metadata": {},
   "source": [
    "## Índice de figuras\n",
    "- Figuras en [01.01.00.00.Aplicaciones.CosmologiaRelativista](01.01.00.00.Aplicaciones.CosmologiaRelativista.ipynb)\n",
    "   - [Figura 1.1](01.01.00.00.Aplicaciones.CosmologiaRelativista.ipynb#fig:Figure_1). Ley de Hubble Lemaitre.  En el eje vertical se muestra el módulo de distancia $.\n",
    "   - [Figura 1.2](01.01.00.00.Aplicaciones.CosmologiaRelativista.ipynb#fig:Figure_2). Parámetro de Hubble.\n",
    "   - [Figura 1.3](01.01.00.00.Aplicaciones.CosmologiaRelativista.ipynb#fig:Figure_3). Imagen del cúmulo de la bala mostrando la distribución reconstruída de materia oscura.\n",
    "- Figuras en [01.01.01.00.Aplicaciones.CosmologiaRelativista.MetricaUniverso](01.01.01.00.Aplicaciones.CosmologiaRelativista.MetricaUniverso.ipynb)\n",
    "   - [Figura 1.4](01.01.01.00.Aplicaciones.CosmologiaRelativista.MetricaUniverso.ipynb#fig:Figure_4). Observadores fundamentales de acuerdo con el principio de Weyl.\n"
   ]
  }
 ],
 "metadata": {
  "kernelspec": {
   "display_name": "Python 3",
   "language": "python",
   "name": "python3"
  },
  "language_info": {
   "codemirror_mode": {
    "name": "ipython",
    "version": 3
   },
   "file_extension": ".py",
   "mimetype": "text/x-python",
   "name": "python",
   "nbconvert_exporter": "python",
   "pygments_lexer": "ipython3",
   "version": "3.6.8"
  }
 },
 "nbformat": 4,
 "nbformat_minor": 2
}
