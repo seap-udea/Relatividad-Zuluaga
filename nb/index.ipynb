{
 "cells": [
  {
   "cell_type": "markdown",
   "metadata": {},
   "source": [
    "<p style=\"margin:3em\"></p>\n",
    "<p style=\"text-align:center;font-size:3em;font-weight:bold\">Relatividad y Gravitación</p>\n",
    "<p style=\"text-align:center;font-size:2em\">Teoría, algoritmos y problemas</p>"
   ]
  },
  {
   "cell_type": "markdown",
   "metadata": {},
   "source": [
    "![Portada](./figures/portada.png)"
   ]
  },
  {
   "cell_type": "markdown",
   "metadata": {},
   "source": [
    "<p style=\"text-align:center;font-size:2em;font-weight:bold\">Jorge I. Zuluaga</p>\n",
    "<p style=\"text-align:center;font-size:1.2em\">Profesor Titular de Física y Astronomía</p>\n",
    "<p style=\"text-align:center;font-size:1.2em\">Instituto de Física, Facultad de Ciencias Exactas y Naturales</p>\n",
    "<p style=\"text-align:center;font-size:1.2em\">Universidad de Antioquia</p>"
   ]
  },
  {
   "cell_type": "markdown",
   "metadata": {},
   "source": [
    "---"
   ]
  },
  {
   "cell_type": "markdown",
   "metadata": {},
   "source": [
    "<p style=\"margin:1em\"></p>\n",
    "<p style=\"text-align:center;font-size:2em;font-weight:bold\">Tabla de Contenido</p>\n",
    "<p style=\"margin:1em\"></p>"
   ]
  },
  {
   "cell_type": "markdown",
   "metadata": {},
   "source": [
    "## Índice de materias\n",
    "- [Relatividad General](01.00.00.00.RelatividadGeneral.ipynb#relatividad_general).\n",
    "   - [Motivación](01.00.00.00.RelatividadGeneral.ipynb#rgeneral_motivacion).\n",
    "   - [Principios y postulados básicos](01.01.00.00.RelatividadGeneral.PostuladosBasicos.ipynb#rgeneral_postulados).\n",
    "      - [Principio de Equivalencia](01.01.00.00.RelatividadGeneral.PostuladosBasicos.ipynb#principio_equivalencia).\n",
    "         - [Principio de Galileo](01.01.00.00.RelatividadGeneral.PostuladosBasicos.ipynb#principio_galileo).\n",
    "         - [Principio de igualdad de las masas](01.01.00.00.RelatividadGeneral.PostuladosBasicos.ipynb#principio_equivalencia_masas).\n",
    "         - [Principio de equivalencia de Einstein](01.01.00.00.RelatividadGeneral.PostuladosBasicos.ipynb#principio_equivalencia_einstein).\n",
    "      - [Principio de consistencia](01.01.00.00.RelatividadGeneral.PostuladosBasicos.ipynb#principio_consistencia).\n",
    "      - [Principio de covarianza general](01.01.00.00.RelatividadGeneral.PostuladosBasicos.ipynb#principio_covarianza).\n",
    "      - [Tensores generales](01.01.00.00.RelatividadGeneral.PostuladosBasicos.ipynb#tensores_generales).\n",
    "   - [Transporte paralelo y derivada covariante](01.02.00.00.RelatividadGeneral.TransporteParalelo.ipynb#transporte_paralelo).\n",
    "      - [El gradiente no es un tensor general](01.02.00.00.RelatividadGeneral.TransporteParalelo.ipynb#gradiente_notensor).\n",
    "      - [Transporte paralelo](01.02.00.00.RelatividadGeneral.TransporteParalelo.ipynb#transporte_paralelo_explicito).\n",
    "      - [Derivada direccional general](01.02.00.00.RelatividadGeneral.TransporteParalelo.ipynb#derivada_direccional).\n",
    "      - [Los símbolos de Christoffel](01.03.00.00.RelatividadGeneral.SimbolosChristoffel.ipynb#simbolos_christoffel).\n",
    "      - [Cálculo de los símbolos de Christoffel](01.03.00.00.RelatividadGeneral.SimbolosChristoffel.ipynb#ejemplo_christoffel).\n",
    "         - [Los símbolos de Christoffel de una métrica diagonal](01.03.00.00.RelatividadGeneral.SimbolosChristoffel.ipynb#christoffel_metrica_diagonal).\n",
    "         - [Símbolos de Christoffel del espacio-tiempo plano](01.03.00.00.RelatividadGeneral.SimbolosChristoffel.ipynb#christoffel_plano).\n",
    "         - [Símbolos de Christoffel de una superficie esférica](01.03.00.00.RelatividadGeneral.SimbolosChristoffel.ipynb#christoffel_esfera).\n",
    "         - [Símbolos de Christoffel de una métrica general](01.03.00.00.RelatividadGeneral.SimbolosChristoffel.ipynb#christoffel_general).\n",
    "         - [Cálculo numérico](01.03.00.00.RelatividadGeneral.SimbolosChristoffel.ipynb#christoffel_numerico).\n",
    "   - [Derivada total general y geodésicas](01.04.00.00.RelatividadGeneral.Geodesicas.ipynb#dtotal_geodesicas).\n",
    "      - [Derivada total general](01.04.00.00.RelatividadGeneral.Geodesicas.ipynb#derivada_total).\n",
    "      - [Derivada total y transporte paralelo](01.04.00.00.RelatividadGeneral.Geodesicas.ipynb#dtotal_paralelo).\n",
    "      - [Ecuación geodésica](01.04.00.00.RelatividadGeneral.Geodesicas.ipynb#ecuacion_geodesica).\n",
    "      - [Ejemplos numéricos](01.04.00.00.RelatividadGeneral.Geodesicas.ipynb#dtotal_ejemplos_numericos).\n",
    "         - [Transporte paralelo coordenadas cilíndricas](01.04.00.00.RelatividadGeneral.Geodesicas.ipynb#tparalelo_cilindricas_numerico).\n",
    "         - [Geodésica en coordenadas cilíndricas](01.04.00.00.RelatividadGeneral.Geodesicas.ipynb#geodesica_cilindricas_numerico).\n"
   ]
  },
  {
   "cell_type": "markdown",
   "metadata": {},
   "source": [
    "## Índice de figuras\n",
    "- Figuras en [01.02.00.00.RelatividadGeneral.TransporteParalelo](01.02.00.00.RelatividadGeneral.TransporteParalelo.ipynb)\n",
    "   - [Figura 1.1](01.02.00.00.RelatividadGeneral.TransporteParalelo.ipynb#fig:transporte_paralelo). Transporte paralelo..\n",
    "   - [Figura 1.2](01.02.00.00.RelatividadGeneral.TransporteParalelo.ipynb#fig:transporte_paralelo_derivada). Derivada direccional..\n",
    "- Figuras en [01.04.00.00.RelatividadGeneral.Geodesicas](01.04.00.00.RelatividadGeneral.Geodesicas.ipynb)\n",
    "   - [Figura 1.3](01.04.00.00.RelatividadGeneral.Geodesicas.ipynb#fig:geodesica). Definición de geodésica en el espacio-tiempo plano y sobre la superficie de una esfera..\n"
   ]
  }
 ],
 "metadata": {
  "kernelspec": {
   "display_name": "Python 3",
   "language": "python",
   "name": "python3"
  },
  "language_info": {
   "codemirror_mode": {
    "name": "ipython",
    "version": 3
   },
   "file_extension": ".py",
   "mimetype": "text/x-python",
   "name": "python",
   "nbconvert_exporter": "python",
   "pygments_lexer": "ipython3",
   "version": "3.6.8"
  }
 },
 "nbformat": 4,
 "nbformat_minor": 2
}
