{
 "cells": [
  {
   "cell_type": "markdown",
   "metadata": {},
   "source": [
    "<p style=\"margin:3em\"></p>\n",
    "<p style=\"text-align:center;font-size:3em;font-weight:bold\">Relatividad y Gravitación</p>\n",
    "<p style=\"text-align:center;font-size:2em\">Teoría, algoritmos y problemas</p>"
   ]
  },
  {
   "cell_type": "markdown",
   "metadata": {},
   "source": [
    "![Portada](./figures/portada.png)"
   ]
  },
  {
   "cell_type": "markdown",
   "metadata": {},
   "source": [
    "<p style=\"text-align:center;font-size:2em;font-weight:bold\">Jorge I. Zuluaga</p>\n",
    "<p style=\"text-align:center;font-size:1.2em\">Profesor Titular de Física y Astronomía</p>\n",
    "<p style=\"text-align:center;font-size:1.2em\">Instituto de Física, Facultad de Ciencias Exactas y Naturales</p>\n",
    "<p style=\"text-align:center;font-size:1.2em\">Universidad de Antioquia</p>"
   ]
  },
  {
   "cell_type": "markdown",
   "metadata": {},
   "source": [
    "---"
   ]
  },
  {
   "cell_type": "markdown",
   "metadata": {},
   "source": [
    "<p style=\"margin:1em\"></p>\n",
    "<p style=\"text-align:center;font-size:2em;font-weight:bold\">Tabla de Contenido</p>\n",
    "<p style=\"margin:1em\"></p>"
   ]
  },
  {
   "cell_type": "markdown",
   "metadata": {},
   "source": [
    "## Índice de materias\n",
    "- [Relatividad Especial](01.00.00.00.RelatividadEspecial.ipynb#relatividad_especial). <b>{#relatividad_especial}</b>\n",
    "   - [Motivación](01.00.00.00.RelatividadEspecial.ipynb#respecial_motivacion). <b>{#respecial_motivacion}</b>\n",
    "   - [Conceptos básicos](01.01.00.00.RelatividadEspecial.ConceptosBasicos.ipynb#respecial_conceptos). <b>{#respecial_conceptos}</b>\n",
    "   - [Principio de homogeneidad e isotropía del espacio-tiempo](01.01.00.00.RelatividadEspecial.ConceptosBasicos.ipynb#ppio_homogeneidad). <b>{#ppio_homogeneidad}</b>\n",
    "   - [La relatividad Newtoniana](01.01.00.00.RelatividadEspecial.ConceptosBasicos.ipynb#relatividad_newtoniana). <b>{#relatividad_newtoniana}</b>\n",
    "   - [El problema del electromagnetismo](01.01.00.00.RelatividadEspecial.ConceptosBasicos.ipynb#problema_electromagnetismo). <b>{#problema_electromagnetismo}</b>\n",
    "   - [Las transformaciones de Lorentz-Einstein](01.02.00.00.RelatividadEspecial.TransformacionesLorentzEinstein.ipynb#transformaciones_einstein). <b>{#transformaciones_einstein}</b>\n"
   ]
  },
  {
   "cell_type": "markdown",
   "metadata": {},
   "source": [
    "## Índice de ecuaciones\n",
    "- Ecuaciones en [01.02.00.00.RelatividadEspecial.TransformacionesLorentzEinstein](01.02.00.00.RelatividadEspecial.TransformacionesLorentzEinstein.ipynb)\n",
    "    - [Ec. (1.1)](01.02.00.00.RelatividadEspecial.TransformacionesLorentzEinstein.ipynb#mjx-eqn-eq%3Atg_t): tg_t. <b>{eq:tg_t}</b>\n",
    "    - [Ec. (1.2)](01.02.00.00.RelatividadEspecial.TransformacionesLorentzEinstein.ipynb#mjx-eqn-eq%3Atg_x): tg_x. <b>{eq:tg_x}</b>\n",
    "    - [Ec. (1.3)](01.02.00.00.RelatividadEspecial.TransformacionesLorentzEinstein.ipynb#mjx-eqn-eq%3Atg_t_sim): tg_t_sim. <b>{eq:tg_t_sim}</b>\n",
    "    - [Ec. (1.4)](01.02.00.00.RelatividadEspecial.TransformacionesLorentzEinstein.ipynb#mjx-eqn-eq%3Atg_x_sim): tg_x_sim. <b>{eq:tg_x_sim}</b>\n",
    "    - [Ec. (1.5)](01.02.00.00.RelatividadEspecial.TransformacionesLorentzEinstein.ipynb#mjx-eqn-eq%3Adtg_t): dtg_t. <b>{eq:dtg_t}</b>\n",
    "    - [Ec. (1.6)](01.02.00.00.RelatividadEspecial.TransformacionesLorentzEinstein.ipynb#mjx-eqn-eq%3Adtg_x): dtg_x. <b>{eq:dtg_x}</b>\n",
    "    - [Ec. (1.7)](01.02.00.00.RelatividadEspecial.TransformacionesLorentzEinstein.ipynb#mjx-eqn-eq%3Adtg_y): dtg_y. <b>{eq:dtg_y}</b>\n",
    "    - [Ec. (1.8)](01.02.00.00.RelatividadEspecial.TransformacionesLorentzEinstein.ipynb#mjx-eqn-eq%3Adtg_z): dtg_z. <b>{eq:dtg_z}</b>\n",
    "    - [Ec. (1.9)](01.02.00.00.RelatividadEspecial.TransformacionesLorentzEinstein.ipynb#mjx-eqn-eq%3ALF_z): LF_z. <b>{eq:LF_z}</b>\n",
    "    - [Ec. (1.10)](01.02.00.00.RelatividadEspecial.TransformacionesLorentzEinstein.ipynb#mjx-eqn-eq%3ABz_LF): Bz_LF. <b>{eq:Bz_LF}</b>\n",
    "    - [Ec. (1.11)](01.02.00.00.RelatividadEspecial.TransformacionesLorentzEinstein.ipynb#mjx-eqn-eq%3AEy_LF): Ey_LF. <b>{eq:Ey_LF}</b>\n",
    "    - [Ec. (1.12)](01.02.00.00.RelatividadEspecial.TransformacionesLorentzEinstein.ipynb#mjx-eqn-eq%3ALAM_y): LAM_y. <b>{eq:LAM_y}</b>\n",
    "    - [Ec. (1.13)](01.02.00.00.RelatividadEspecial.TransformacionesLorentzEinstein.ipynb#mjx-eqn-eq%3ABz_LAM): Bz_LAM. <b>{eq:Bz_LAM}</b>\n",
    "    - [Ec. (1.14)](01.02.00.00.RelatividadEspecial.TransformacionesLorentzEinstein.ipynb#mjx-eqn-eq%3AEy_LAM): Ey_LAM. <b>{eq:Ey_LAM}</b>\n",
    "    - [Ec. (1.15)](01.02.00.00.RelatividadEspecial.TransformacionesLorentzEinstein.ipynb#mjx-eqn-eq%3ABpz_tg): Bpz_tg. <b>{eq:Bpz_tg}</b>\n",
    "    - [Ec. (1.16)](01.02.00.00.RelatividadEspecial.TransformacionesLorentzEinstein.ipynb#mjx-eqn-eq%3AEpy_tg): Epy_tg. <b>{eq:Epy_tg}</b>\n",
    "    - [Ec. (1.17)](01.02.00.00.RelatividadEspecial.TransformacionesLorentzEinstein.ipynb#mjx-eqn-eq%3ABz_tg): Bz_tg. <b>{eq:Bz_tg}</b>\n",
    "    - [Ec. (1.18)](01.02.00.00.RelatividadEspecial.TransformacionesLorentzEinstein.ipynb#mjx-eqn-eq%3AEy_tg): Ey_tg. <b>{eq:Ey_tg}</b>\n",
    "    - [Ec. (1.19)](01.02.00.00.RelatividadEspecial.TransformacionesLorentzEinstein.ipynb#mjx-eqn-eq%3Atrans_lorentz_x): trans_lorentz_x. <b>{eq:trans_lorentz_x}</b>\n"
   ]
  }
 ],
 "metadata": {
  "kernelspec": {
   "display_name": "Python 3",
   "language": "python",
   "name": "python3"
  },
  "language_info": {
   "codemirror_mode": {
    "name": "ipython",
    "version": 3
   },
   "file_extension": ".py",
   "mimetype": "text/x-python",
   "name": "python",
   "nbconvert_exporter": "python",
   "pygments_lexer": "ipython3",
   "version": "3.6.8"
  }
 },
 "nbformat": 4,
 "nbformat_minor": 2
}
