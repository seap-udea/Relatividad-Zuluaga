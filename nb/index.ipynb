{
 "cells": [
  {
   "cell_type": "markdown",
   "metadata": {},
   "source": [
    "<p style=\"margin:3em\"></p>\n",
    "<p style=\"text-align:center;font-size:3em;font-weight:bold\">Relatividad y Gravitación</p>\n",
    "<p style=\"text-align:center;font-size:2em\">Teoría, algoritmos y problemas</p>"
   ]
  },
  {
   "cell_type": "markdown",
   "metadata": {},
   "source": [
    "![Portada](./figures/portada.png)"
   ]
  },
  {
   "cell_type": "markdown",
   "metadata": {},
   "source": [
    "<p style=\"text-align:center;font-size:2em;font-weight:bold\">Jorge I. Zuluaga</p>\n",
    "<p style=\"text-align:center;font-size:1.2em\">Profesor Titular de Física y Astronomía</p>\n",
    "<p style=\"text-align:center;font-size:1.2em\">Instituto de Física, Facultad de Ciencias Exactas y Naturales</p>\n",
    "<p style=\"text-align:center;font-size:1.2em\">Universidad de Antioquia</p>"
   ]
  },
  {
   "cell_type": "markdown",
   "metadata": {},
   "source": [
    "---"
   ]
  },
  {
   "cell_type": "markdown",
   "metadata": {},
   "source": [
    "<p style=\"margin:1em\"></p>\n",
    "<p style=\"text-align:center;font-size:2em;font-weight:bold\">Tabla de Contenido</p>\n",
    "<p style=\"margin:1em\"></p>"
   ]
  },
  {
   "cell_type": "markdown",
   "metadata": {},
   "source": [
    "## Índice de materias\n",
    "- [Aplicaciones de la relatividad general](01.00.00.00.Aplicaciones.ipynb#aplicaciones_rgeneral).\n",
    "   - [Ondas gravitacionales](01.01.00.00.Aplicaciones.OndasGravitacionales.ipynb#ondas_gravitacionales).\n",
    "      - [Historia de las ondas gravitacionales](01.01.00.00.Aplicaciones.OndasGravitacionales.ipynb#historia_gw).\n",
    "      - [Un programa de estudio](01.01.00.00.Aplicaciones.OndasGravitacionales.ipynb#programa_gw).\n",
    "      - [Gravedad linearizada](01.01.01.00.Aplicaciones.OndasGravitacionales.GravedadLinearizada.ipynb#gravedad_linearizada).\n",
    "         - [Inversa de la métrica linearizada](01.01.01.00.Aplicaciones.OndasGravitacionales.GravedadLinearizada.ipynb#inversa_metrica_linearizada).\n",
    "         - [Símbolo de Christoffel linearizado](01.01.01.00.Aplicaciones.OndasGravitacionales.GravedadLinearizada.ipynb#simbolo_christoffel_linearizado).\n",
    "         - [El tensor de Riemann linearizado](01.01.01.00.Aplicaciones.OndasGravitacionales.GravedadLinearizada.ipynb#riemann_gravedad_linearizado).\n",
    "         - [El tensor de Ricci linearizado](01.01.01.00.Aplicaciones.OndasGravitacionales.GravedadLinearizada.ipynb#riemann_linearizado).\n",
    "         - [El tensor de Einstein linearizado](01.01.01.00.Aplicaciones.OndasGravitacionales.GravedadLinearizada.ipynb#einstein_linearizado).\n",
    "         - [El tensor momentum-energía](01.01.01.00.Aplicaciones.OndasGravitacionales.GravedadLinearizada.ipynb#Tmunu_linearizado).\n",
    "      - [Ecuación de campo linearizada en el vacío](01.01.02.00.Aplicaciones.OndasGravitacionales.EcuacionDeCampo.ipynb#gw_vacio).\n",
    "      - [Libertad gauge](01.01.02.00.Aplicaciones.OndasGravitacionales.EcuacionDeCampo.ipynb#libertad_gauge).\n",
    "      - [El gauge armónico](01.01.02.00.Aplicaciones.OndasGravitacionales.EcuacionDeCampo.ipynb#gauge_armónico).\n",
    "      - [La ecuación de campo en el gauge armónico](01.01.02.00.Aplicaciones.OndasGravitacionales.EcuacionDeCampo.ipynb#ec_gauge_armonico).\n",
    "      - [La ecuación de campo con fuentes](01.01.02.00.Aplicaciones.OndasGravitacionales.EcuacionDeCampo.ipynb#ecuacion_fuentes).\n",
    "      - [La métrica postnewtoniana](01.01.02.00.Aplicaciones.OndasGravitacionales.EcuacionDeCampo.ipynb#metrica_postnewtoniana).\n",
    "      - [Analogía electromagnética](01.01.02.00.Aplicaciones.OndasGravitacionales.EcuacionDeCampo.ipynb#analogia_electromagnetica).\n",
    "      - [Ecuación de onda en el vacío](01.01.03.00.Aplicaciones.OndasGravitacionales.EcuacionDeOndas.ipynb#ecuacion_onda_vacio).\n",
    "      - [Solución general a la ecuación de onda](01.01.03.00.Aplicaciones.OndasGravitacionales.EcuacionDeOndas.ipynb#solucion_ecuacion_onda).\n",
    "      - [El gauge transversal de traza cero](01.01.03.00.Aplicaciones.OndasGravitacionales.EcuacionDeOndas.ipynb#gauge_transversal).\n"
   ]
  }
 ],
 "metadata": {
  "kernelspec": {
   "display_name": "Python 3",
   "language": "python",
   "name": "python3"
  },
  "language_info": {
   "codemirror_mode": {
    "name": "ipython",
    "version": 3
   },
   "file_extension": ".py",
   "mimetype": "text/x-python",
   "name": "python",
   "nbconvert_exporter": "python",
   "pygments_lexer": "ipython3",
   "version": "3.6.8"
  }
 },
 "nbformat": 4,
 "nbformat_minor": 2
}
