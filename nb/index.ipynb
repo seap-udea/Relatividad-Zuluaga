{
 "cells": [
  {
   "cell_type": "markdown",
   "metadata": {},
   "source": [
    "<p style=\"margin:3em\"></p>\n",
    "<p style=\"text-align:center;font-size:3em;font-weight:bold\">Relatividad y Gravitación</p>\n",
    "<p style=\"text-align:center;font-size:2em\">Teoría, algoritmos y problemas</p>"
   ]
  },
  {
   "cell_type": "markdown",
   "metadata": {},
   "source": [
    "![Portada](./figures/portada.png)"
   ]
  },
  {
   "cell_type": "markdown",
   "metadata": {},
   "source": [
    "<p style=\"text-align:center;font-size:2em;font-weight:bold\">Jorge I. Zuluaga</p>\n",
    "<p style=\"text-align:center;font-size:1.2em\">Profesor Titular de Física y Astronomía</p>\n",
    "<p style=\"text-align:center;font-size:1.2em\">Instituto de Física, Facultad de Ciencias Exactas y Naturales</p>\n",
    "<p style=\"text-align:center;font-size:1.2em\">Universidad de Antioquia</p>"
   ]
  },
  {
   "cell_type": "markdown",
   "metadata": {},
   "source": [
    "---"
   ]
  },
  {
   "cell_type": "markdown",
   "metadata": {},
   "source": [
    "<p style=\"margin:1em\"></p>\n",
    "<p style=\"text-align:center;font-size:2em;font-weight:bold\">Tabla de Contenido</p>\n",
    "<p style=\"margin:1em\"></p>"
   ]
  },
  {
   "cell_type": "markdown",
   "metadata": {},
   "source": [
    "## Índice de materias\n",
    "- [Relatividad General](01.00.00.00.RelatividadGeneral.ipynb#relatividad_general).\n",
    "   - [Motivación](01.00.00.00.RelatividadGeneral.ipynb#rgeneral_motivacion).\n",
    "   - [Principios y postulados básicos](01.01.00.00.RelatividadGeneral.PostuladosBasicos.ipynb#rgeneral_postulados).\n",
    "      - [Principio de Equivalencia](01.01.00.00.RelatividadGeneral.PostuladosBasicos.ipynb#principio_equivalencia).\n",
    "         - [Principio de Galileo](01.01.00.00.RelatividadGeneral.PostuladosBasicos.ipynb#principio_galileo).\n",
    "         - [Principio de igualdad de las masas](01.01.00.00.RelatividadGeneral.PostuladosBasicos.ipynb#principio_equivalencia_masas).\n",
    "         - [Principio de equivalencia de Einstein](01.01.00.00.RelatividadGeneral.PostuladosBasicos.ipynb#principio_equivalencia_einstein).\n",
    "      - [Principio de covarianza general](01.01.00.00.RelatividadGeneral.PostuladosBasicos.ipynb#principio_covarianza).\n",
    "      - [Tensores generales](01.01.00.00.RelatividadGeneral.PostuladosBasicos.ipynb#tensores_generales).\n",
    "   - [Transporte paralelo y derivada covariante](01.02.00.00.RelatividadGeneral.TransporteParalelo.ipynb#transporte_paralelo).\n",
    "      - [El gradiente no es un tensor general](01.02.00.00.RelatividadGeneral.TransporteParalelo.ipynb#gradiente_notensor).\n",
    "      - [Transporte paralelo](01.02.00.00.RelatividadGeneral.TransporteParalelo.ipynb#transporte_paralelo_explicito).\n",
    "      - [Derivada direccional general](01.02.00.00.RelatividadGeneral.TransporteParalelo.ipynb#derivada_direccional).\n",
    "      - [Los símbolos de Christoffel](01.03.00.00.RelatividadGeneral.SimbolosChristoffel.ipynb#simbolos_christoffel).\n",
    "      - [Cálculo de los símbolos de Christoffel](01.03.00.00.RelatividadGeneral.SimbolosChristoffel.ipynb#ejemplo_christoffel).\n",
    "         - [Los símbolos de Christoffel de una métrica diagonal](01.03.00.00.RelatividadGeneral.SimbolosChristoffel.ipynb#christoffel_metrica_diagonal).\n",
    "         - [Símbolos de Christoffel del espacio-tiempo plano](01.03.00.00.RelatividadGeneral.SimbolosChristoffel.ipynb#christoffel_plano).\n",
    "         - [Símbolos de Christoffel de una superficie esférica](01.03.00.00.RelatividadGeneral.SimbolosChristoffel.ipynb#christoffel_esfera).\n",
    "         - [Símbolos de Christoffel de una métrica general](01.03.00.00.RelatividadGeneral.SimbolosChristoffel.ipynb#christoffel_general).\n",
    "         - [Cálculo numérico](01.03.00.00.RelatividadGeneral.SimbolosChristoffel.ipynb#christoffel_numerico).\n",
    "   - [Derivada total general y geodésicas](01.04.00.00.RelatividadGeneral.Geodesicas.ipynb#dtotal_geodesicas).\n",
    "      - [Derivada total general](01.04.00.00.RelatividadGeneral.Geodesicas.ipynb#derivada_total).\n",
    "      - [Derivada total y transporte paralelo](01.04.00.00.RelatividadGeneral.Geodesicas.ipynb#dtotal_paralelo).\n",
    "      - [Transporte paralelo y bases vectoriales](01.04.00.00.RelatividadGeneral.Geodesicas.ipynb#paralelo_bases).\n",
    "      - [Bases y componentes vectoriales en espacio curvo](01.04.00.00.RelatividadGeneral.Geodesicas.ipynb#bases_componentes_vectoriales).\n",
    "      - [Ejemplos numéricos de transporte paralelo](01.04.00.00.RelatividadGeneral.Geodesicas.ipynb#ejemplo_numerico_paralelo).\n",
    "         - [Transporte paralelo en coordenadas cilíndrica](01.04.00.00.RelatividadGeneral.Geodesicas.ipynb#ejemplo_numerico_cilindricas).\n",
    "         - [Transporte paralelo sobre una esfera](01.04.00.00.RelatividadGeneral.Geodesicas.ipynb#ejemplo_numerico_esfera).\n",
    "      - [Ecuación geodésica](01.04.00.00.RelatividadGeneral.Geodesicas.ipynb#ecuacion_geodesica).\n",
    "      - [Ejemplos numéricos de geodésicas](01.04.00.00.RelatividadGeneral.Geodesicas.ipynb#ejemplo_numerico_geodesicas).\n",
    "         - [Geodésica en coordenadas cilíndricas](01.04.00.00.RelatividadGeneral.Geodesicas.ipynb#geodesica_cilindricas_numerico).\n",
    "         - [Geodésica sobre la superficie de una esfera](01.04.00.00.RelatividadGeneral.Geodesicas.ipynb#geodesica_esfera).\n",
    "   - [La geodésica y un principio variacional](01.05.00.00.RelatividadGeneral.InerciaYGeodesicas.ipynb#geodesica_variacional).\n",
    "   - [Geodésicas y movimiento inercial](01.05.00.00.RelatividadGeneral.InerciaYGeodesicas.ipynb#geodesicas_inercia).\n",
    "   - [Geodésicas en campo débil](01.05.00.00.RelatividadGeneral.InerciaYGeodesicas.ipynb#geodesicas_campo_debil).\n",
    "      - [Un ejemplo numérico](01.05.00.00.RelatividadGeneral.InerciaYGeodesicas.ipynb#campo_debil_numerico).\n",
    "   - [Simetrías y cantidades conservadas](01.05.00.00.RelatividadGeneral.InerciaYGeodesicas.ipynb#simetrias_conservacion).\n",
    "      - [La métrica como constante](01.05.00.00.RelatividadGeneral.InerciaYGeodesicas.ipynb#metrica_constante).\n",
    "      - [Coordenadas cíclicas y vectores de Killing](01.05.00.00.RelatividadGeneral.InerciaYGeodesicas.ipynb#vector_killing).\n",
    "      - [Ejemplo: geodésicas en coordenadas cilíndricas](01.05.00.00.RelatividadGeneral.InerciaYGeodesicas.ipynb#ejemplo_geodesica_cilindricas).\n",
    "      - [Ejemplo: geodésicas sobre una esfera](01.05.00.00.RelatividadGeneral.InerciaYGeodesicas.ipynb#ejemplo_geodesica_esfera).\n",
    "      - [Ejemplo: geodésicas en la métrica de Newton](01.05.00.00.RelatividadGeneral.InerciaYGeodesicas.ipynb#ejemplo_geodesica_newton).\n",
    "      - [Propiedades del tensor de Riemann](01.06.00.00.RelatividadGeneral.Curvatura.ipynb#propiedades_riemann).\n",
    "      - [Tensor de Riemann para métricas diagonales](01.06.00.00.RelatividadGeneral.Curvatura.ipynb#riemann_diagonal).\n",
    "      - [Desviación geodésica](01.06.00.00.RelatividadGeneral.Curvatura.ipynb#desviacion_geodesica).\n",
    "      - [Tensor de Riemann numérico](01.06.00.00.RelatividadGeneral.Curvatura.ipynb#riemann_numerico).\n",
    "      - [Desviación geodésica numérica](01.06.00.00.RelatividadGeneral.Curvatura.ipynb#desviacion_geodesica_numerica).\n",
    "   - [Principio de consistencia](01.07.00.00.RelatividadGeneral.PrincipioConsistencia.ipynb#principio_consistencia).\n",
    "   - [Una ecuación de campo general](01.07.00.00.RelatividadGeneral.PrincipioConsistencia.ipynb#ecuacion_campo_general).\n",
    "   - [Tensor de momentum-energía](01.08.00.00.RelatividadGeneral.TensorDeMomentumEnergia.ipynb#tensor_momentum_energia).\n",
    "      - [Tensor de momentum-energía para una nube de partículas](01.08.00.00.RelatividadGeneral.TensorDeMomentumEnergia.ipynb#Tmunu_nube).\n",
    "      - [Tensor de momentum-energía para polvo](01.08.00.00.RelatividadGeneral.TensorDeMomentumEnergia.ipynb#Tmunu_polvo).\n",
    "      - [Tensor $T^{\\mu\\nu}$ y el tensor de esfuerzos $\\sigma^{\\mu\\nu}$](01.08.00.00.RelatividadGeneral.TensorDeMomentumEnergia.ipynb#Tmunu_sigma_munu).\n",
    "      - [Tensor de momentum-energía para fluído perfecto](01.08.00.00.RelatividadGeneral.TensorDeMomentumEnergia.ipynb#Tmunu_fluido_perfecto).\n",
    "      - [La conservación de $T^{\\mu\\nu}$ y la ecuación geodésica](01.08.00.00.RelatividadGeneral.TensorDeMomentumEnergia.ipynb#conservacion_Tmunu).\n",
    "   - [La ecuación de campo métrico](01.09.00.00.RelatividadGeneral.EcuacionCampoMetrico.ipynb#ecuacion_campo_metrico).\n",
    "      - [El tensor de Einstein](01.09.00.00.RelatividadGeneral.EcuacionCampoMetrico.ipynb#tensor_einstein).\n",
    "      - [Una ecuación de campo general](01.09.00.00.RelatividadGeneral.EcuacionCampoMetrico.ipynb#ecuacion_campo_debil_general).\n",
    "      - [La ecuación de campo y el principio de consistencia](01.09.00.00.RelatividadGeneral.EcuacionCampoMetrico.ipynb#ecuacion_campo_consistencia).\n",
    "      - [La ecuación de campo débil para fluido perfecto](01.09.00.00.RelatividadGeneral.EcuacionCampoMetrico.ipynb#ecuacion_campo_fluido_perfecto).\n",
    "      - [El término cosmológico](01.09.00.00.RelatividadGeneral.EcuacionCampoMetrico.ipynb#termino_cosmologico).\n",
    "      - [La ecuación de Hilbert-Einstein](01.09.00.00.RelatividadGeneral.EcuacionCampoMetrico.ipynb#ecuacion_hilbert_einstein).\n",
    "- [Aplicaciones de la relatividad general](02.00.00.00.Aplicaciones.ipynb#aplicaciones_rgeneral).\n",
    "   - [Ondas gravitacionales](02.01.00.00.Aplicaciones.OndasGravitacionales.ipynb#ondas_gravitacionales).\n",
    "      - [Historia de las ondas gravitacionales](02.01.00.00.Aplicaciones.OndasGravitacionales.ipynb#historia_gw).\n",
    "      - [Un programa de estudio](02.01.00.00.Aplicaciones.OndasGravitacionales.ipynb#programa_gw).\n",
    "      - [Gravedad linearizada](02.01.01.00.Aplicaciones.OndasGravitacionales.GravedadLinearizada.ipynb#gravedad_linearizada).\n",
    "         - [Inversa de la métrica linearizada](02.01.01.00.Aplicaciones.OndasGravitacionales.GravedadLinearizada.ipynb#inversa_metrica_linearizada).\n",
    "         - [Símbolo de Christoffel linearizado](02.01.01.00.Aplicaciones.OndasGravitacionales.GravedadLinearizada.ipynb#simbolo_christoffel_linearizado).\n",
    "         - [El tensor de Riemann linearizado](02.01.01.00.Aplicaciones.OndasGravitacionales.GravedadLinearizada.ipynb#riemann_gravedad_linearizado).\n",
    "         - [El tensor de Ricci linearizado](02.01.01.00.Aplicaciones.OndasGravitacionales.GravedadLinearizada.ipynb#riemann_linearizado).\n",
    "         - [El tensor de Einstein linearizado](02.01.01.00.Aplicaciones.OndasGravitacionales.GravedadLinearizada.ipynb#einstein_linearizado).\n",
    "         - [El tensor momentum-energía](02.01.01.00.Aplicaciones.OndasGravitacionales.GravedadLinearizada.ipynb#Tmunu_linearizado).\n",
    "      - [Ecuación de campo linearizada en el vacío](02.01.02.00.Aplicaciones.OndasGravitacionales.EcuacionDeCampo.ipynb#gw_vacio).\n",
    "      - [Libertad gauge](02.01.02.00.Aplicaciones.OndasGravitacionales.EcuacionDeCampo.ipynb#libertad_gauge).\n",
    "      - [El gauge armónico](02.01.02.00.Aplicaciones.OndasGravitacionales.EcuacionDeCampo.ipynb#gauge_armónico).\n",
    "      - [La ecuación de campo en el gauge armónico](02.01.02.00.Aplicaciones.OndasGravitacionales.EcuacionDeCampo.ipynb#ec_gauge_armonico).\n",
    "      - [La ecuación de campo con fuentes](02.01.02.00.Aplicaciones.OndasGravitacionales.EcuacionDeCampo.ipynb#ecuacion_fuentes).\n",
    "      - [La métrica postnewtoniana](02.01.02.00.Aplicaciones.OndasGravitacionales.EcuacionDeCampo.ipynb#metrica_postnewtoniana).\n",
    "      - [Analogía electromagnética](02.01.02.00.Aplicaciones.OndasGravitacionales.EcuacionDeCampo.ipynb#analogia_electromagnetica).\n",
    "      - [Ecuación de onda en el vacío](02.01.03.00.Aplicaciones.OndasGravitacionales.EcuacionDeOndas.ipynb#ecuacion_onda_vacio).\n",
    "      - [Solución general a la ecuación de onda](02.01.03.00.Aplicaciones.OndasGravitacionales.EcuacionDeOndas.ipynb#solucion_ecuacion_onda).\n",
    "      - [El gauge transversal de traza cero](02.01.03.00.Aplicaciones.OndasGravitacionales.EcuacionDeOndas.ipynb#gauge_transversal).\n",
    "      - [Geodésicas en una onda gravitacional](02.01.04.00.Aplicaciones.OndasGravitacionales.Deteccion.ipynb#geodesicas_gw).\n",
    "      - [Distancias en una onda gravitacional](02.01.04.00.Aplicaciones.OndasGravitacionales.Deteccion.ipynb#distancias_gw).\n",
    "      - [Detectores de ondas gravitacionales](02.01.04.00.Aplicaciones.OndasGravitacionales.Deteccion.ipynb#detectores_gw).\n",
    "         - [Sensibilidad de los detectores](02.01.04.00.Aplicaciones.OndasGravitacionales.Deteccion.ipynb#sensibilidad_detectores).\n",
    "      - [Simulación de una señal](02.01.05.00.Aplicaciones.OndasGravitacionales.SimulacionSenal.ipynb#simulacion_senal).\n",
    "         - [Detector con orientación arbitraria](02.01.05.00.Aplicaciones.OndasGravitacionales.SimulacionSenal.ipynb#detector_arbitrario).\n",
    "         - [Suma de ondas gravitacionales](02.01.05.00.Aplicaciones.OndasGravitacionales.SimulacionSenal.ipynb#suma_ondas).\n",
    "         - [Implementación numérica](02.01.05.00.Aplicaciones.OndasGravitacionales.SimulacionSenal.ipynb#implementacion_numerica).\n"
   ]
  },
  {
   "cell_type": "markdown",
   "metadata": {},
   "source": [
    "## Índice de figuras\n",
    "- Figuras en [01.02.00.00.RelatividadGeneral.TransporteParalelo](01.02.00.00.RelatividadGeneral.TransporteParalelo.ipynb)\n",
    "   - [Figura 1.1](01.02.00.00.RelatividadGeneral.TransporteParalelo.ipynb#fig:transporte_paralelo). Transporte paralelo..\n",
    "   - [Figura 1.2](01.02.00.00.RelatividadGeneral.TransporteParalelo.ipynb#fig:transporte_paralelo_derivada). Derivada direccional..\n",
    "- Figuras en [01.04.00.00.RelatividadGeneral.Geodesicas](01.04.00.00.RelatividadGeneral.Geodesicas.ipynb)\n",
    "   - [Figura 1.6](01.04.00.00.RelatividadGeneral.Geodesicas.ipynb#fig:geodesica). Definición de geodésica en el espacio-tiempo plano y sobre la superficie de una esfera..\n",
    "- Figuras en [01.06.00.00.RelatividadGeneral.Curvatura](01.06.00.00.RelatividadGeneral.Curvatura.ipynb)\n",
    "   - [Figura 1.11](01.06.00.00.RelatividadGeneral.Curvatura.ipynb#fig:Figure_11). Figura.\n",
    "   - [Figura 1.12](01.06.00.00.RelatividadGeneral.Curvatura.ipynb#fig:Figure_12). Figura.\n",
    "- Figuras en [02.01.04.00.Aplicaciones.OndasGravitacionales.Deteccion](02.01.04.00.Aplicaciones.OndasGravitacionales.Deteccion.ipynb)\n",
    "   - [Figura 2.14](02.01.04.00.Aplicaciones.OndasGravitacionales.Deteccion.ipynb#fig:Figure_14). Ilustración gráfica de cómo al paso de una onda gravitacional las coordenadas de las partículas de prueba se mantienen constantes pero su distancia mutua cambia con el tiempo..\n",
    "   - [Figura 2.18](02.01.04.00.Aplicaciones.OndasGravitacionales.Deteccion.ipynb#fig:Figure_18). Detector de ondas gravitacionales de Joseph Weber.\n",
    "   - [Figura 2.19](02.01.04.00.Aplicaciones.OndasGravitacionales.Deteccion.ipynb#fig:Figure_19). Diseño básico para un interferometro de ondas gravitacionales como el que usa hoy el LIGO.\n",
    "   - [Figura 2.21](02.01.04.00.Aplicaciones.OndasGravitacionales.Deteccion.ipynb#fig:Figure_21). Diseño real de un interferometro de ondas gravitacionales como el que usa hoy el LIGO.\n",
    "   - [Figura 2.22](02.01.04.00.Aplicaciones.OndasGravitacionales.Deteccion.ipynb#fig:Figure_22). Sensibilidad de *LIGO avanzado* como función de la frecuencia de las ondas gravitacionales detectadas.  La *sensibilidad* esta expresada en términos de lo que se conoce como la *amplitud de densidad espectral* que tiene unidades del inverso de la raíz cuadrada de la frecuencia..\n"
   ]
  },
  {
   "cell_type": "markdown",
   "metadata": {},
   "source": [
    "## Índice de ecuaciones\n",
    "- Ecuaciones en [01.04.00.00.RelatividadGeneral.Geodesicas](01.04.00.00.RelatividadGeneral.Geodesicas.ipynb)\n",
    "    - [Ec. (1.1)](01.04.00.00.RelatividadGeneral.Geodesicas.ipynb#mjx-eqn-eq%3Aderivada_e): derivada_e.\n",
    "    - [Ec. (1.2)](01.04.00.00.RelatividadGeneral.Geodesicas.ipynb#mjx-eqn-eq%3Ag_edote): g_edote.\n"
   ]
  },
  {
   "cell_type": "markdown",
   "metadata": {},
   "source": [
    "## Índice de códigos\n",
    "- Código en [01.04.00.00.RelatividadGeneral.Geodesicas](01.04.00.00.RelatividadGeneral.Geodesicas.ipynb)\n",
    "    - [Código (1.1)](01.04.00.00.RelatividadGeneral.Geodesicas.ipynb#code:transporte_paralelo): transporte_paralelo.\n",
    "    - [Código (1.2)](01.04.00.00.RelatividadGeneral.Geodesicas.ipynb#code:transporte_paralelo): transporte_paralelo.\n"
   ]
  }
 ],
 "metadata": {
  "kernelspec": {
   "display_name": "Python 3",
   "language": "python",
   "name": "python3"
  },
  "language_info": {
   "codemirror_mode": {
    "name": "ipython",
    "version": 3
   },
   "file_extension": ".py",
   "mimetype": "text/x-python",
   "name": "python",
   "nbconvert_exporter": "python",
   "pygments_lexer": "ipython3",
   "version": "3.6.8"
  }
 },
 "nbformat": 4,
 "nbformat_minor": 2
}
