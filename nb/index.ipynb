{
 "cells": [
  {
   "cell_type": "markdown",
   "metadata": {},
   "source": [
    "<p style=\"margin:3em\"></p>\n",
    "<p style=\"text-align:center;font-size:3em;font-weight:bold\">Relatividad y Gravitación</p>\n",
    "<p style=\"text-align:center;font-size:2em\">Teoría, algoritmos y problemas</p>"
   ]
  },
  {
   "cell_type": "markdown",
   "metadata": {},
   "source": [
    "![Portada](./figures/portada.png)"
   ]
  },
  {
   "cell_type": "markdown",
   "metadata": {},
   "source": [
    "<p style=\"text-align:center;font-size:2em;font-weight:bold\">Jorge I. Zuluaga</p>\n",
    "<p style=\"text-align:center;font-size:1.2em\">Profesor Titular de Física y Astronomía</p>\n",
    "<p style=\"text-align:center;font-size:1.2em\">Instituto de Física, Facultad de Ciencias Exactas y Naturales</p>\n",
    "<p style=\"text-align:center;font-size:1.2em\">Universidad de Antioquia</p>"
   ]
  },
  {
   "cell_type": "markdown",
   "metadata": {},
   "source": [
    "---"
   ]
  },
  {
   "cell_type": "markdown",
   "metadata": {},
   "source": [
    "<p style=\"margin:1em\"></p>\n",
    "<p style=\"text-align:center;font-size:2em;font-weight:bold\">Tabla de Contenido</p>\n",
    "<p style=\"margin:1em\"></p>"
   ]
  },
  {
   "cell_type": "markdown",
   "metadata": {},
   "source": [
    "## Índice de materias\n",
    "- [Relatividad Especial](01.00.00.00.RelatividadEspecial.ipynb#relatividad_especial).\n",
    "   - [Motivación](01.00.00.00.RelatividadEspecial.ipynb#respecial_motivacion).\n",
    "   - [Conceptos básicos](01.01.00.00.RelatividadEspecial.ConceptosBasicos.ipynb#respecial_conceptos).\n",
    "   - [Principio de homogeneidad e isotropía del espacio-tiempo](01.01.00.00.RelatividadEspecial.ConceptosBasicos.ipynb#ppio_homogeneidad).\n",
    "   - [La relatividad Newtoniana](01.01.00.00.RelatividadEspecial.ConceptosBasicos.ipynb#relatividad_newtoniana).\n",
    "   - [El problema del electromagnetismo](01.01.00.00.RelatividadEspecial.ConceptosBasicos.ipynb#problema_electromagnetismo).\n",
    "   - [Las transformaciones de Lorentz-Einstein](01.02.00.00.RelatividadEspecial.TransformacionesLorentzEinstein.ipynb#transformaciones_einstein).\n",
    "   - [Propiedades de las TLE](01.02.01.00.RelatividadEspecial.TransformacionesLorentzEinstein.Propiedades.ipynb#propiedades_tle).\n",
    "      - [Unidades luz](01.02.01.00.RelatividadEspecial.TransformacionesLorentzEinstein.Propiedades.ipynb#unidades_luz).\n",
    "      - [La TLE como una rotación hiperbólica](01.02.01.00.RelatividadEspecial.TransformacionesLorentzEinstein.Propiedades.ipynb#TLE_rotacion_hiperbolica).\n",
    "      - [Las TLE y la notación de Einstein](01.02.01.00.RelatividadEspecial.TransformacionesLorentzEinstein.Propiedades.ipynb#notacion_einstein).\n",
    "      - [Las TLE generales](01.02.01.00.RelatividadEspecial.TransformacionesLorentzEinstein.Propiedades.ipynb#TLE_generales).\n",
    "      - [El valor del factor de Lorentz-Einstein](01.02.01.00.RelatividadEspecial.TransformacionesLorentzEinstein.Propiedades.ipynb#valor_gama).\n",
    "      - [Mapas de la TLE](01.02.01.00.RelatividadEspecial.TransformacionesLorentzEinstein.Propiedades.ipynb#TLE_mapas).\n",
    "   - [Consecuencias de las TLE](01.02.02.00.RelatividadEspecial.TransformacionesLorentzEinstein.Consecuencias.ipynb#consecuencias_tle).\n",
    "      - [Transformación de los intervalos y el gradiente](01.02.02.00.RelatividadEspecial.TransformacionesLorentzEinstein.Consecuencias.ipynb#transformacion_intervalos).\n",
    "      - [Dilatación temporal](01.02.02.00.RelatividadEspecial.TransformacionesLorentzEinstein.Consecuencias.ipynb#dilatacion_temporal).\n",
    "      - [El postulado de los relojes](01.02.02.00.RelatividadEspecial.TransformacionesLorentzEinstein.Consecuencias.ipynb#postulado_relojes).\n",
    "      - [Contracción de longitudes](01.02.02.00.RelatividadEspecial.TransformacionesLorentzEinstein.Consecuencias.ipynb#contraccion_longitudes).\n",
    "      - [Adición de velocidades](01.02.02.00.RelatividadEspecial.TransformacionesLorentzEinstein.Consecuencias.ipynb#adicion_velocidades).\n",
    "      - [Transformación de aceleraciones](01.02.02.00.RelatividadEspecial.TransformacionesLorentzEinstein.Consecuencias.ipynb#transformacion_aceleraciones).\n",
    "   - [El espacio-tiempo de Minkowski](01.03.00.00.RelatividadEspecial.Minkowski.ipynb#minkowski).\n",
    "      - [La norma de Minkowski](01.03.00.00.RelatividadEspecial.Minkowski.ipynb#norma_minkowski).\n",
    "      - [Las variedades de Lorentz y la métrica de Minkowski](01.03.00.00.RelatividadEspecial.Minkowski.ipynb#metrica_minkowski).\n",
    "      - [Métrica y tipos de intervalos](01.03.00.00.RelatividadEspecial.Minkowski.ipynb#metrica_intervalos).\n",
    "      - [Métrica y tiempo propio](01.03.00.00.RelatividadEspecial.Minkowski.ipynb#tiempo_propio_minkowski).\n",
    "      - [Métrica, dilatación del tiempo y contracción de longitudes](01.03.00.00.RelatividadEspecial.Minkowski.ipynb#metrica_dilatacion_contraccion).\n",
    "      - [Vectores y cálculo en el espacio de Minkowski](01.03.00.00.RelatividadEspecial.Minkowski.ipynb#vectores_minkowski).\n",
    "      - [Minkowski y el postulado de los relojes](01.03.00.00.RelatividadEspecial.Minkowski.ipynb#minkowski_postulado_relojes).\n",
    "      - [Transformación general de cuadrivectores](01.03.00.00.RelatividadEspecial.Minkowski.ipynb#transformacion_cuadrivectores).\n",
    "   - [Óptica relativista](01.04.00.00.RelatividadEspecial.OpticaRelativista.ipynb#optica_relativista).\n",
    "      - [Efecto Doppler relativista](01.04.00.00.RelatividadEspecial.OpticaRelativista.ipynb#doppler_relativista).\n",
    "      - [Aberración de la luz](01.04.00.00.RelatividadEspecial.OpticaRelativista.ipynb#aberración).\n",
    "      - [Enfoque relativista](01.04.00.00.RelatividadEspecial.OpticaRelativista.ipynb#enfoque_relativista).\n",
    "   - [Cinemática relativistica](01.05.01.00.RelatividadEspecial.CinematicaRelativista.Definiciones.ipynb#cinematica_relativistica).\n",
    "      - [Cuadrivelocidad](01.05.01.00.RelatividadEspecial.CinematicaRelativista.Definiciones.ipynb#cuadrivelocidad).\n",
    "      - [Cuadriaceleración](01.05.01.00.RelatividadEspecial.CinematicaRelativista.Definiciones.ipynb#cuadriaceleracion).\n",
    "      - [Movimiento con cuadriaceleración constante](01.05.02.00.RelatividadEspecial.CinematicaRelativista.AceleracionPropiaConstante.ipynb#cuadriaceleracion_constante).\n",
    "      - [La velocidad límite](01.05.02.00.RelatividadEspecial.CinematicaRelativista.AceleracionPropiaConstante.ipynb#velocidad_limite).\n",
    "      - [Ejemplo: una nave interestelar](01.05.02.00.RelatividadEspecial.CinematicaRelativista.AceleracionPropiaConstante.ipynb#nave_interestelar).\n",
    "   - [Dinámica relativista](01.06.01.00.RelatividadEspecial.DinamicaRelativista.EnergiaMomentum.ipynb#dinamica_relativista).\n",
    "      - [Masa invariante](01.06.01.00.RelatividadEspecial.DinamicaRelativista.EnergiaMomentum.ipynb#masa_invariante).\n",
    "      - [Momentum relativista](01.06.01.00.RelatividadEspecial.DinamicaRelativista.EnergiaMomentum.ipynb#momentum_relativista).\n",
    "      - [Cuadrimomentum](01.06.01.00.RelatividadEspecial.DinamicaRelativista.EnergiaMomentum.ipynb#cuadrimomentum).\n",
    "      - [Magnitud del cuadrimomentum y la simetría gauge](01.06.01.00.RelatividadEspecial.DinamicaRelativista.EnergiaMomentum.ipynb#magnitud_cuadrimomentum).\n",
    "      - [Cuadrimomentum en el espacio-tiempo](01.06.01.00.RelatividadEspecial.DinamicaRelativista.EnergiaMomentum.ipynb#cuadrimomentum_minkowski).\n",
    "   - [Colisiones relativistas](01.06.02.00.RelatividadEspecial.DinamicaRelativista.ColisionesRelativistas.ipynb#colisiones_relativistas).\n",
    "      - [Energía en el centro de masa](01.06.02.00.RelatividadEspecial.DinamicaRelativista.ColisionesRelativistas.ipynb#energia_cm).\n",
    "      - [Colisiones relativistas interactivas](01.06.02.00.RelatividadEspecial.DinamicaRelativista.ColisionesRelativistas.ipynb#colisiones_interactivas).\n",
    "   - [Cuadrifuerza](01.06.03.00.RelatividadEspecial.DinamicaRelativista.Cuadrifuerza.ipynb#cuadrifuerza).\n",
    "      - [Reglas de transformación de la fuerza](01.06.03.00.RelatividadEspecial.DinamicaRelativista.Cuadrifuerza.ipynb#transformacion_fuerza).\n",
    "      - [La fuerza de Lorentz](01.06.04.00.RelatividadEspecial.DinamicaRelativista.FuerzaDeLorentz.ipynb#fuerza_lorentz).\n",
    "      - [Movimiento circular bajo la fuerza de Lorentz](01.06.04.00.RelatividadEspecial.DinamicaRelativista.FuerzaDeLorentz.ipynb#movimiento_circular).\n",
    "      - [Ecuación de movimiento relativista](01.06.04.00.RelatividadEspecial.DinamicaRelativista.FuerzaDeLorentz.ipynb#edm_relativista).\n",
    "   - [Síntesis de Mecánica Relativista](01.07.00.00.RelatividadEspecial.SintesisMecanicaRelativista.ipynb#sintesis_mecanica).\n",
    "      - [Síntesis de cinemática relativista](01.07.00.00.RelatividadEspecial.SintesisMecanicaRelativista.ipynb#sintesis_cinematica).\n",
    "      - [Síntesis de dinámica relativista](01.07.00.00.RelatividadEspecial.SintesisMecanicaRelativista.ipynb#sintesis_dinamica).\n",
    "   - [Electrodinamica manifiestamente covariante](01.08.01.00.RelatividadEspecial.Electrodinamica.EcuacionesClasicas.ipynb#electrodinamica).\n",
    "      - [Ecuaciones de la electrodinámica](01.08.01.00.RelatividadEspecial.Electrodinamica.EcuacionesClasicas.ipynb#ecuaciones_electrodinamica).\n",
    "      - [La cuadricorriente](01.08.02.00.RelatividadEspecial.Electrodinamica.CuadriCorrientePotencial.ipynb#continuidad).\n",
    "      - [Ecuaciones de Maxwell inhomogéneas](01.08.02.00.RelatividadEspecial.Electrodinamica.CuadriCorrientePotencial.ipynb#maxwell_inhomogeneas).\n",
    "      - [Los campos en términos tensoriales](01.08.03.00.RelatividadEspecial.Electrodinamica.TensorFaraday.ipynb#campos_tensoriales).\n",
    "      - [El tensor de Faraday](01.08.03.00.RelatividadEspecial.Electrodinamica.TensorFaraday.ipynb#tensor_faraday).\n",
    "      - [Ecuaciones de Maxwell y el tensor de Faraday](01.08.03.00.RelatividadEspecial.Electrodinamica.TensorFaraday.ipynb#maxwell_faraday).\n",
    "      - [Transformación de los campos](01.08.03.00.RelatividadEspecial.Electrodinamica.TensorFaraday.ipynb#transformacion_campos).\n",
    "      - [La fuerza de Lorentz](01.08.03.00.RelatividadEspecial.Electrodinamica.TensorFaraday.ipynb#fuerza_lorentz_covariante).\n",
    "      - [Intrepretación geométrica del campo de Faraday](01.08.03.00.RelatividadEspecial.Electrodinamica.TensorFaraday.ipynb#geometria_F).\n",
    "      - [Síntesis](01.08.03.00.RelatividadEspecial.Electrodinamica.TensorFaraday.ipynb#sintesis).\n",
    "         - [Campo producido por una carga en movimiento](01.08.04.00.RelatividadEspecial.Electrodinamica.Ejemplos.ipynb#campo_carga_movimiento).\n",
    "         - [Campo producido por un alambre recto](01.08.04.00.RelatividadEspecial.Electrodinamica.Ejemplos.ipynb#campo_alambre).\n",
    "   - [Problemas Seleccionados](01.09.00.00.RelatividadEspecial.ProblemasSeleccionados.ipynb#especial_problemas).\n"
   ]
  },
  {
   "cell_type": "markdown",
   "metadata": {},
   "source": [
    "## Índice de figuras\n",
    "- Figuras en [01.04.00.00.RelatividadEspecial.OpticaRelativista](01.04.00.00.RelatividadEspecial.OpticaRelativista.ipynb)\n",
    "   - [Figura 1.9](01.04.00.00.RelatividadEspecial.OpticaRelativista.ipynb#fig:Figure_9). Figura.\n",
    "- Figuras en [01.05.02.00.RelatividadEspecial.CinematicaRelativista.AceleracionPropiaConstante](01.05.02.00.RelatividadEspecial.CinematicaRelativista.AceleracionPropiaConstante.ipynb)\n",
    "   - [Figura 1.14](01.05.02.00.RelatividadEspecial.CinematicaRelativista.AceleracionPropiaConstante.ipynb#fig:cuadriaceleracion). Cambios en la cuadrivelocidad y la cuadriaceleración.\n",
    "   - [Figura 1.15](01.05.02.00.RelatividadEspecial.CinematicaRelativista.AceleracionPropiaConstante.ipynb#fig:Figure_15). Nave interestelar.\n",
    "- Figuras en [01.08.03.00.RelatividadEspecial.Electrodinamica.TensorFaraday](01.08.03.00.RelatividadEspecial.Electrodinamica.TensorFaraday.ipynb)\n",
    "   - [Figura 1.22](01.08.03.00.RelatividadEspecial.Electrodinamica.TensorFaraday.ipynb#fig:tensor_esfuerzos). Tensor de esfuerzos..\n"
   ]
  },
  {
   "cell_type": "markdown",
   "metadata": {},
   "source": [
    "## Índice de ecuaciones\n",
    "- Ecuaciones en [01.02.00.00.RelatividadEspecial.TransformacionesLorentzEinstein](01.02.00.00.RelatividadEspecial.TransformacionesLorentzEinstein.ipynb)\n",
    "    - [Ec. (1.1)](01.02.00.00.RelatividadEspecial.TransformacionesLorentzEinstein.ipynb#mjx-eqn-eq%3Atg_t): tg_t.\n",
    "    - [Ec. (1.2)](01.02.00.00.RelatividadEspecial.TransformacionesLorentzEinstein.ipynb#mjx-eqn-eq%3Atg_x): tg_x.\n",
    "    - [Ec. (1.3)](01.02.00.00.RelatividadEspecial.TransformacionesLorentzEinstein.ipynb#mjx-eqn-eq%3Atg_t_sim): tg_t_sim.\n",
    "    - [Ec. (1.4)](01.02.00.00.RelatividadEspecial.TransformacionesLorentzEinstein.ipynb#mjx-eqn-eq%3Atg_x_sim): tg_x_sim.\n",
    "    - [Ec. (1.5)](01.02.00.00.RelatividadEspecial.TransformacionesLorentzEinstein.ipynb#mjx-eqn-eq%3Adtg_t): dtg_t.\n",
    "    - [Ec. (1.6)](01.02.00.00.RelatividadEspecial.TransformacionesLorentzEinstein.ipynb#mjx-eqn-eq%3Adtg_x): dtg_x.\n",
    "    - [Ec. (1.7)](01.02.00.00.RelatividadEspecial.TransformacionesLorentzEinstein.ipynb#mjx-eqn-eq%3Adtg_y): dtg_y.\n",
    "    - [Ec. (1.8)](01.02.00.00.RelatividadEspecial.TransformacionesLorentzEinstein.ipynb#mjx-eqn-eq%3Adtg_z): dtg_z.\n",
    "    - [Ec. (1.9)](01.02.00.00.RelatividadEspecial.TransformacionesLorentzEinstein.ipynb#mjx-eqn-eq%3ALF_z): LF_z.\n",
    "    - [Ec. (1.10)](01.02.00.00.RelatividadEspecial.TransformacionesLorentzEinstein.ipynb#mjx-eqn-eq%3ABz_LF): Bz_LF.\n",
    "    - [Ec. (1.11)](01.02.00.00.RelatividadEspecial.TransformacionesLorentzEinstein.ipynb#mjx-eqn-eq%3AEy_LF): Ey_LF.\n",
    "    - [Ec. (1.12)](01.02.00.00.RelatividadEspecial.TransformacionesLorentzEinstein.ipynb#mjx-eqn-eq%3ALAM_y): LAM_y.\n",
    "    - [Ec. (1.13)](01.02.00.00.RelatividadEspecial.TransformacionesLorentzEinstein.ipynb#mjx-eqn-eq%3ABz_LAM): Bz_LAM.\n",
    "    - [Ec. (1.14)](01.02.00.00.RelatividadEspecial.TransformacionesLorentzEinstein.ipynb#mjx-eqn-eq%3AEy_LAM): Ey_LAM.\n",
    "    - [Ec. (1.15)](01.02.00.00.RelatividadEspecial.TransformacionesLorentzEinstein.ipynb#mjx-eqn-eq%3ABpz_tg): Bpz_tg.\n",
    "    - [Ec. (1.16)](01.02.00.00.RelatividadEspecial.TransformacionesLorentzEinstein.ipynb#mjx-eqn-eq%3AEpy_tg): Epy_tg.\n",
    "    - [Ec. (1.17)](01.02.00.00.RelatividadEspecial.TransformacionesLorentzEinstein.ipynb#mjx-eqn-eq%3ABz_tg): Bz_tg.\n",
    "    - [Ec. (1.18)](01.02.00.00.RelatividadEspecial.TransformacionesLorentzEinstein.ipynb#mjx-eqn-eq%3AEy_tg): Ey_tg.\n",
    "    - [Ec. (1.19)](01.02.00.00.RelatividadEspecial.TransformacionesLorentzEinstein.ipynb#mjx-eqn-eq%3Atrans_lorentz_x): trans_lorentz_x.\n"
   ]
  },
  {
   "cell_type": "markdown",
   "metadata": {},
   "source": [
    "## Índice de códigos\n",
    "- Código en [01.02.01.00.RelatividadEspecial.TransformacionesLorentzEinstein.Propiedades](01.02.01.00.RelatividadEspecial.TransformacionesLorentzEinstein.Propiedades.ipynb)\n",
    "    - [Código (1.1)](01.02.01.00.RelatividadEspecial.TransformacionesLorentzEinstein.Propiedades.ipynb#code:TLE): TLE.\n",
    "    - [Código (1.2)](01.02.01.00.RelatividadEspecial.TransformacionesLorentzEinstein.Propiedades.ipynb#code:mapa_TLE): mapa_TLE.\n"
   ]
  }
 ],
 "metadata": {
  "kernelspec": {
   "display_name": "Python 3",
   "language": "python",
   "name": "python3"
  },
  "language_info": {
   "codemirror_mode": {
    "name": "ipython",
    "version": 3
   },
   "file_extension": ".py",
   "mimetype": "text/x-python",
   "name": "python",
   "nbconvert_exporter": "python",
   "pygments_lexer": "ipython3",
   "version": "3.6.8"
  }
 },
 "nbformat": 4,
 "nbformat_minor": 2
}
