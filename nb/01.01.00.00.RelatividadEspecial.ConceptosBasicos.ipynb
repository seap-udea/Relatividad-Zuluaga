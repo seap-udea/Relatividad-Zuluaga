{
 "cells": [
  {
   "cell_type": "markdown",
   "metadata": {
    "tags": [
     "navigation"
    ]
   },
   "source": [
    "[Indice](index.ipynb) | Previo: [RelatividadEspecial](01.00.00.00.RelatividadEspecial.ipynb) | Siguiente: [RelatividadEspecial.TransformacionesLorentzEinstein](01.02.00.00.RelatividadEspecial.TransformacionesLorentzEinstein.ipynb)"
   ]
  },
  {
   "cell_type": "markdown",
   "metadata": {},
   "source": [
    "## 1.2. Conceptos básicos\n",
    "<a id='respecial_conceptos'></a>"
   ]
  },
  {
   "cell_type": "markdown",
   "metadata": {},
   "source": [
    "Para abordar la pregunta básica de la sección anterior debemos primero introducir una serie de conceptos:\n",
    "\n",
    "- **Cantidad física**. Las leyes físicas son patrones matemáticos entre números (y otras entidades matemáticas) que asociamos a los fenómenos.  Piense por ejemplo en la velocidad.  Es un número que asociamos al desplazamiento de un cuerpo en el tiempo.  Para definir cualquier cantidad física se necesitan: patrones (comparación), una calibración (definir los ceros o puntos de referencia) e instrumentos (dispositivos que realicen la comparación).  \n",
    "\n",
    "  Por ejempl para medir la posición (lugar) uso como partrón una varilla de longitud fija, mi calibración es el lugar que escojo como punto de partida y el instrumento de medida es la misma varilla.  Para medir el tiempo (fecha) uso como patrón un fenómeno repetitivo, como calibración escojo el instante a partir del cuál contar las oscilaciones y el instrumento es un reloj. \n",
    "  \n",
    "  Para obtener el *valor* de una cantidad física se pueden usar medios directos o indirectos. Preferimos los medios directos que implican la comparación de lo medido con el instrumento (el patrón y la calibración) **localmente**: es decir debemos poner el instrumento donde ocurre el fenómeno.\n",
    "  \n",
    "- **Espacio-tiempo**.  Es el escenario en el que ocurre el universo.  Matemáticamente es un espacio geométrico en el que a todo lugar e instante se le asocian unas coordenadas:\n",
    "\n",
    "  $$\n",
    "  [x^\\mu]_{\\mu=0,1,2,3}\n",
    "  $$\n",
    "  esta será una notación que usaremos en lo sucesivo y que adoptará sentido más adelante.\n",
    "  \n",
    "- **Evento**. Es uno de los puntos del espacio-tiempo.  Un evento físico es equivalente \n",
    "\n",
    "- **Observador**.  También llamado (de forma intercambiable) **sistema de referencia**. Un observador es una entidad que registra cualquier cantidad física que ocurre en el espacio-tiempo usando un conjunto (infinito) de instrumentos físicos, que usan el mismo patrón y calibración, distribuídos (idealmente) por todos los eventos del espacio-tiempo. El observador lleva un registro de todos los fenómenos sin importar que tan lejos estén del lugar espacial en el que se encuentre. "
   ]
  },
  {
   "cell_type": "markdown",
   "metadata": {},
   "source": [
    "Existen un conjunto de leyes que fueron formuladas originalmente con la idea de universalidad que mencionamos antes.  Son las leyes del movimiento de Newton:\n",
    "\n",
    "- **Ley de Inercia**.  En la ausencia de fuerzas (interacciones) el *estado de movimiento* se conserva.\n",
    "- **Ley de fuerza**.  La acción de una fuerza cambia el *estado de movimiento*.\n",
    "- **Ley de acción y reacción**. El cambio en el estado de movimiento de un sistema A que interactúa con otro B, es igual en magnitud pero de sentido contrario, que el cambio de movimiento que experimenta B."
   ]
  },
  {
   "cell_type": "markdown",
   "metadata": {},
   "source": [
    "Sabemos que estas leyes de pueden resumir en una sola relación matemática.  Si definimos la *cantidad de movimiento* o momento lineal $\\vec p\\equiv m\\vec v$, entonces:\n",
    "\n",
    "$$\n",
    "\\frac{\\mathrm{d}\\vec p}{\\mathrm{d}t}=\\vec F\n",
    "$$"
   ]
  },
  {
   "cell_type": "markdown",
   "metadata": {},
   "source": [
    "Este conjunto de leyes se mantienen las mismas si se usan **observadores inerciales**."
   ]
  },
  {
   "cell_type": "markdown",
   "metadata": {
    "label": "",
    "subtitle": "observador inercial",
    "tags": [
     "box_definition"
    ],
    "title": "Definición"
   },
   "source": [
    "> **Definición 4.1. observador inercial.**<a id=''></a> Es un observador para el cuál sus registros muestran que la la ley de inercia es válida."
   ]
  },
  {
   "cell_type": "markdown",
   "metadata": {},
   "source": [
    "Registrar la validez de la ley de inercia no es experimentalmente fácil."
   ]
  },
  {
   "cell_type": "markdown",
   "metadata": {},
   "source": [
    "> **Proposición: Observadores con velocidad relativa constante**.  Si un observador $O$ es por definición o demostración inercial, cualquier observador $O'$ cuyo origen de coordenadas se mueva respecto al origen de coordenadas de $O$ con velocidad $\\vec u$ constante, será también un observador inercial."
   ]
  },
  {
   "cell_type": "markdown",
   "metadata": {},
   "source": [
    "## 1.3. Principio de homogeneidad e isotropía del espacio-tiempo\n",
    "<a id='ppio_homogeneidad'></a>"
   ]
  },
  {
   "cell_type": "markdown",
   "metadata": {
    "label": "",
    "subtitle": "Principio de homogeneidad e isotropía del espacio-tiempo",
    "tags": [
     "box_postulate"
    ],
    "title": "Postulado"
   },
   "source": [
    "> **Postulado: Principio de homogeneidad e isotropía del espacio-tiempo.**<a id=''></a> Cualquier experimento que se realice en un sistema de referencia inercial tendrá exactamente el mismo resultado sin importar dónde se realice (homogeneidad) o en que tiempo se realice.  Alrededor de todos los eventos del espacio-tiempo, los experimentos producen las mismas regularidades."
   ]
  },
  {
   "cell_type": "markdown",
   "metadata": {},
   "source": [
    "De acuerdo al principio de homogeneidad, todos los observadores inerciales que solo difieran por su origen en el espacio o por su origen en el tiempo registraran las mismas leyes de la física.  Se puede probar que el principio de homogeneidad e isotropía es *equivalente* lógicamente al principio fundacional de la teoría de la relatividad."
   ]
  },
  {
   "cell_type": "markdown",
   "metadata": {
    "label": "",
    "subtitle": "Principio de relatividad especial",
    "tags": [
     "box_postulate"
    ],
    "title": "Postulado"
   },
   "source": [
    "> **Postulado: Principio de relatividad especial.**<a id=''></a> Todas las leyes de la física deben ser iguales para todos los observadores inerciales."
   ]
  },
  {
   "cell_type": "markdown",
   "metadata": {},
   "source": [
    "## 1.4. La relatividad Newtoniana\n",
    "<a id='relatividad_newtoniana'></a>"
   ]
  },
  {
   "cell_type": "markdown",
   "metadata": {},
   "source": [
    "Una cosa es decir que las leyes son las mismas y otra muy distinta es demostrar que lo son."
   ]
  },
  {
   "cell_type": "markdown",
   "metadata": {},
   "source": [
    "Las leyes son relaciones matemáticas entre cantidades físicas de modo que para demostrar su validez hay que probar que las relaciones son las mismas. "
   ]
  },
  {
   "cell_type": "markdown",
   "metadata": {
    "label": "",
    "subtitle": "Covarianza de las leyes físicas",
    "tags": [
     "box_definition"
    ],
    "title": "Definición"
   },
   "source": [
    "> **Definición 4.2. Covarianza de las leyes físicas.**<a id=''></a> Llamamos *covarianza* de una ley física al hecho de que su forma matemática no se modifique independientemente de las transformaciones geométricas (cambios de sistemas de referencia o coordenadas) que se operen."
   ]
  },
  {
   "cell_type": "markdown",
   "metadata": {},
   "source": [
    "La pregunta es: dos observadores inerciales $S$ y $S'$ que miden cantidades físicas distintas $m$, $\\vec v$, $\\vec r$ y $\\vec F$ (y las respectivas cantidades primadas), al describir las mismas regularidades llegaran a:\n",
    "\n",
    "$$\n",
    "\\frac{\\mathrm{d}\\vec p}{\\mathrm{d}t}=\\vec F\n",
    "$$\n",
    "\n",
    "$$\n",
    "\\frac{\\mathrm{d}\\vec p'}{\\mathrm{d}t'}=\\vec F'\n",
    "$$"
   ]
  },
  {
   "cell_type": "markdown",
   "metadata": {},
   "source": [
    "Para ello debemos *postular* (¿o deducir?) la relación entre las cantidades implicadas."
   ]
  },
  {
   "cell_type": "markdown",
   "metadata": {},
   "source": [
    "> **Definición: Transformaciones de Galileo-Newton**.  La siguiente es la relación entre las cantidades cinemáticas y dinámicas básicas entre dos observadores inerciales:\n",
    "\n",
    "$$\n",
    "\\begin{array}{rcl}\n",
    "t' & = & t \\\\\n",
    "m' & = & m \\\\\n",
    "\\vec F' & = & \\vec F \\\\\n",
    "\\vec r' & = & \\vec r-\\vec u t\\\\\n",
    "\\end{array}\n",
    "$$\n",
    "> donde $\\vec u$ es la velocidad relativa en el espacio entre los dos observadores."
   ]
  },
  {
   "cell_type": "markdown",
   "metadata": {},
   "source": [
    "Puede probarse que si las leyes de Newton son válidas en $O$ también lo serán en $O'$."
   ]
  },
  {
   "cell_type": "markdown",
   "metadata": {},
   "source": [
    "## 1.5. El problema del electromagnetismo\n",
    "<a id='problema_electromagnetismo'></a>"
   ]
  },
  {
   "cell_type": "markdown",
   "metadata": {},
   "source": [
    "Pero las leyes de la física no se restringen a la mecánica.  También están las leyes de la termodinámica, la óptica, el electromagnetismo, la física nuclear, etc.  ¿Son también estas leyes covariantes bajo las transformaciones de Galileo-Newton."
   ]
  },
  {
   "cell_type": "markdown",
   "metadata": {},
   "source": [
    "### Las ecuaciones de Maxwell"
   ]
  },
  {
   "cell_type": "markdown",
   "metadata": {},
   "source": [
    "Aparte de la mecánica una de las más importantes teorías de la física clásica es la teoría electromagnética.  En su forma matemática unificada la teoría fue formulada por James Clerk Maxwell y presentada en una serie de trabajos incluyendo su artículo muy influyente *A Dynamical Theory of the Electromagnetic Field* de 1864 [REFERENCIA] en el que predice la existencia de las ondas electromagnéticas.  El electromagnetismo fue desarrollado posteriormente por contemporáneos de Maxwell y otros que le sucedieron como Oliver Heaviside, J.J. Thomson, Hendrik Lorentz entre otros."
   ]
  },
  {
   "cell_type": "markdown",
   "metadata": {},
   "source": [
    "La teoría electromagnética de Maxwell establece una relación entre las propiedades eléctricas de la materia, cuantificadas en dos cantidades, la densidad espacial de carga eléctrica $\\rho$ y la densidad de corriente eléctrica $\\vec J$, con las propiedades del *campo electromagnético*, cuantificadas por la intensidad del campo eléctrico $\\vec E$ y la intensidad del campo magnético $\\vec H$.  Otras cantidades auxiliares son la densidad de flujo de campo eléctrico $\\vec D$ y la densidad de flujo magnético $\\vec B$, que se relacionan además con propiedades *macroscópicas* de la materia tales como la polarización $\\vec P$ y la magnetización $\\vec M$."
   ]
  },
  {
   "cell_type": "markdown",
   "metadata": {},
   "source": [
    "Uno de los logros más increíbles del electromagnetismo clásico fue el de reducir todas las relaciones entre estas cantidades en cuatro ecuaciones diferenciales relativamente simples, conocidas universalmente como las ecuacione de Maxwell. Las ecuaciones permiten encontrar el campo eléctrico $\\vec E$ o su densidad de flujo $\\vec D$ y el campo magnético $\\vec H$ o su densidad de flujo $\\vec B$ en cada punto del espacio dentro de un medio en el que hay una densidad de carga libre $\\rho$ y de corriente libre $\\vec J$ y una polarización $\\vec P$ y magnetización $\\vec M$.  Las ecuaciones en su **forma canónica macroscópica** son:\n",
    "\n",
    "\\begin{eqnarray}\n",
    "\\nonumber\n",
    "\\vec{\\nabla}\\cdot \\vec D & = & \\rho\\\\\n",
    "\\nonumber\n",
    "\\vec{\\nabla}\\cdot \\vec B & = & 0\\\\\n",
    "\\nonumber\n",
    "\\vec\\nabla\\times\\vec E & = & -\\frac{\\partial \\vec B}{\\partial t}\\\\\n",
    "\\nonumber\n",
    "\\vec\\nabla\\times\\vec H & = & \\vec J + \\frac{\\partial \\vec D}{\\partial t}\n",
    "\\end{eqnarray}\n",
    "donde $\\vec D=\\epsilon_0 \\vec E + \\vec P$ y $\\vec B=\\mu_0(\\vec H+\\vec M)$."
   ]
  },
  {
   "cell_type": "markdown",
   "metadata": {},
   "source": [
    "Nos concentraremos aquí en las ecuaciones escritas para sistemas de partículas, es decir en situaciones en las que fenómenos como la polarización y la magnetización son colectivos y deben *emerger* de la dinámica de todas las partículas.   Llamamos a esa **la descripción microscópica** y las ecuaciones resultantes son:\n",
    "\n",
    "\\begin{eqnarray}\n",
    "\\nonumber\n",
    "\\vec{\\nabla}\\cdot \\vec E & = & \\frac{\\rho}{\\epsilon_0}\\\\\n",
    "\\nonumber\n",
    "\\vec{\\nabla}\\cdot \\vec B & = & 0\\\\\n",
    "\\nonumber\n",
    "\\vec\\nabla\\times\\vec E & = & -\\frac{\\partial \\vec B}{\\partial t}\\\\\n",
    "\\nonumber\n",
    "\\vec\\nabla\\times\\vec B & = & \\mu_0 \\vec J + \\frac{1}{c^2} \\frac{\\partial \\vec E}{\\partial t}\n",
    "\\end{eqnarray}\n",
    "donde $c\\equiv 1/\\sqrt{\\mu_0\\epsilon_0}$ es la velocidad de la luz."
   ]
  },
  {
   "cell_type": "markdown",
   "metadata": {
    "label": "",
    "subtitle": "Veclocidad de la luz $c$",
    "tags": [
     "box_note"
    ],
    "title": "Nota"
   },
   "source": [
    "> **Nota: Veclocidad de la luz $c$.**<a id=''></a> Es una constante de la naturaleza $c=2.999792458\\times 10^8$ m s$^{-1}$.  Se relaciona con otra constante que no aparece explícitamente en la versión de las ecuaciones escritas arriba, la permeabilidad eléctrica del vacío, $\\epsilon_0=8.854\\times 10^{-12}$ C$^2$ m$^{-2}$ N$^{-1}$.  Usando $\\epsilon_0$, la velocidad se escribe:\n",
    "\n",
    "> $$\n",
    "  c=\\frac{1}{\\sqrt{\\mu_0\\epsilon_0}}\n",
    "  $$"
   ]
  },
  {
   "cell_type": "markdown",
   "metadata": {},
   "source": [
    "Para hacer más clara la conexión entre los campos eléctrico y magnético los físicos teóricos acostumbran usar en electromagnetismo un conjunto de unidades particulares conocidas como **unidades gaussianas**.  La fundamental de estas unidades, es que la ley de Coulomb (que inspira la primera ecuación de Maxwell o se deriva de ella), que en un sistema de unidades convencional se escribe como:\n",
    "\n",
    "$$\n",
    "\\vec F = \\frac{Q_1 Q_2}{4\\pi\\epsilon_0 r^2}\\hat r\n",
    "$$\n",
    "en el nuevo sistema se escribe como:\n",
    "\n",
    "$$\n",
    "\\vec F = \\frac{Q^G_1 Q^G_2}{r^2}\\hat r\n",
    "$$"
   ]
  },
  {
   "cell_type": "markdown",
   "metadata": {},
   "source": [
    "En unidades gaussianas las cantidades mecánicas, como $\\vec F$ y $r$ se miden en el sistema *cgs* (centímetros, gramos y segundos). "
   ]
  },
  {
   "cell_type": "markdown",
   "metadata": {},
   "source": [
    "Las unidades gaussianas esencialmente corresponden a una elección conveniente de las unidades de carga que permiten: 1) absorber el factor constante $4\\pi$ y 2) hacer la constante $\\epsilon^G_0=1$."
   ]
  },
  {
   "cell_type": "markdown",
   "metadata": {},
   "source": [
    "Una situación similar se produce con la ley de Biot-Savart, que en un sistema convencional de unidades es:\n",
    "\n",
    "$$\n",
    "\\vec B=\\frac{\\mu_0}{4\\pi}\\oint \\frac{\\vec I\\times\\hat r}{r^2}\\;\\mathrm{d}\\vec \\ell \n",
    "$$\n",
    "pero en unidades gaussianas se convierte en:\n",
    "\n",
    "$$\n",
    "\\vec B^G=\\frac{1}{c}\\oint \\frac{\\vec I^G\\times\\hat r}{r^2}\\;\\mathrm{d}\\vec \\ell \n",
    "$$\n",
    "donde debemos mantener presente que $c\\approx 3\\times 10^{10}$ cm/s."
   ]
  },
  {
   "cell_type": "markdown",
   "metadata": {},
   "source": [
    "Con el cambio de unidades, las ecuaciones microscópicas de Maxwell se convierten en:\n",
    "\n",
    "\\begin{eqnarray}\n",
    "\\nonumber\n",
    "\\vec{\\nabla}\\cdot \\vec E^G & = & 4\\pi\\rho^G\\\\\n",
    "\\nonumber\n",
    "\\vec{\\nabla}\\cdot \\vec B^G & = & 0\\\\\n",
    "\\nonumber\n",
    "\\vec\\nabla\\times\\vec E^G & = & -\\frac{1}{c}\\frac{\\partial \\vec B^G}{\\partial t}\\\\\n",
    "\\nonumber\n",
    "\\vec\\nabla\\times\\vec B^G & = & \\frac{4\\pi}{c} \\vec J^G + \\frac{1}{c} \\frac{\\partial \\vec E^G}{\\partial t}\n",
    "\\end{eqnarray}\n",
    "\n",
    "Nótese que la introducción de las unidades gaussianas hace desaparecer el factor $4\\pi$ de las leyes de Coulomb y Biot-Savart pero las traslada a las ecuaciones de Maxwell."
   ]
  },
  {
   "cell_type": "markdown",
   "metadata": {},
   "source": [
    "En lo sucesivo en este libro suaremos las unidades gaussianas para describir los fenómenos electromagnéticos.  Por la misma razón no haremos la distinción $\\vec E^G, \\vec \\rho^G$, etc. y escribiremos las ecuaciones simplemente como:\n",
    "\n",
    "\\begin{eqnarray}\n",
    "\\vec{\\nabla}\\cdot \\vec E & = & 4\\pi\\rho\\\\\n",
    "\\vec{\\nabla}\\cdot \\vec B & = & 0\\\\\n",
    "\\vec\\nabla\\times\\vec E & = & -\\frac{1}{c}\\frac{\\partial \\vec B}{\\partial t}\\\\\n",
    "\\vec\\nabla\\times\\vec B & = & \\frac{4\\pi}{c} \\vec J + \\frac{1}{c} \\frac{\\partial \\vec E}{\\partial t}\n",
    "\\end{eqnarray}"
   ]
  },
  {
   "cell_type": "markdown",
   "metadata": {},
   "source": [
    "## 1.6. ¿Son covariantes las ecuaciones de Maxwell?\n",
    "<a id='covarianza_ME'></a>"
   ]
  },
  {
   "cell_type": "markdown",
   "metadata": {},
   "source": [
    "Hemos contado antes que las leyes de Newton son covariantes bajo las TGN. Pero, ¿son las ecuaciones de Maxwell también covariantes bajo este conjunto de transformaciones?.  Para ilustrar, tomemos el caso de las ecuaciones microscópicas de Maxwell en el vacío ($\\rho=0$, $\\vec J=\\vec o$) y en particular analicemos las denominadas *ecuaciones inhomogéneas*, correspondientes a las leyes de Maxwell-Faraday y de Ampere-Maxwell respectivamente:\n",
    "\n",
    "\\begin{eqnarray}\n",
    "\\vec\\nabla\\times\\vec E & = & -\\frac{1}{c}\\frac{\\partial \\vec B}{\\partial t}\\\\\n",
    "\\vec\\nabla\\times\\vec B & = & \\frac{1}{c} \\frac{\\partial \\vec E}{\\partial t}\n",
    "\\end{eqnarray}"
   ]
  },
  {
   "cell_type": "markdown",
   "metadata": {},
   "source": [
    "Para verificar la covarianza escojamos las componentes $z$ de la primera ecuación y la componente $y$ de la segunda ecuación:\n",
    "\n",
    "\\begin{eqnarray}\n",
    "\\partial_x E_y -\\partial_y E_x & = & -\\frac{1}{c}\\partial_t B_z\\\\\n",
    "\\partial_x B_z -\\partial_z B_x & = & \\frac{1}{c} \\partial_t E_y\n",
    "\\end{eqnarray}\n",
    "donde en lo sucesivo usaremos la notación $\\partial_q\\equiv\\partial/\\partial q$."
   ]
  },
  {
   "cell_type": "markdown",
   "metadata": {},
   "source": [
    "Necesitamos saber como convierten las derivadas parciales bajo las TGN. Para ello usaremos una convención que será muy común en lo sucesivo.  Escojeremos la dirección de los ejes de tal manera que el eje $x$ va en la dirección de la velocidad relativa de los sistemas de referencia $\\vec u$.  De este modo las TGN, correspodientes al espacio y el tiempo se reducen a:\n",
    "\n",
    "$$\n",
    "\\begin{array}{rcl}\n",
    "t' & = & t\\\\\n",
    "x' & = & x - u t\\\\\n",
    "y' & = & y\\\\\n",
    "z' & = & z\n",
    "\\end{array}\n",
    "$$"
   ]
  },
  {
   "cell_type": "markdown",
   "metadata": {},
   "source": [
    "La transformación se puede escribir de modo más general como:\n",
    "\n",
    "$$\n",
    "\\begin{array}{rcl}\n",
    "t' & = & a_{tt} t\\\\\n",
    "x' & = & a_{xt} t+a_{xx} x\\\\\n",
    "y' & = & a_{yy} y\\\\\n",
    "z' & = & a_{zz} z\n",
    "\\end{array}\n",
    "$$\n",
    "donde $a_{tt}=a_{xx}=a_{yy}=a_{zz}=1$ y $a_{xt}=-u$.  Llamamos a esta una **transformación lineal con coeficientes constantes**.  "
   ]
  },
  {
   "cell_type": "markdown",
   "metadata": {},
   "source": [
    "Los coeficientes de la transformación constituyen una matriz $\\cal G$ que puede escribirse como:\n",
    "\n",
    "$$\n",
    "\\cal G=\n",
    "\\left(\n",
    "\\begin{array}{cccc}\n",
    "a_{tt} & a_{tx} & a_{ty} & a_{tz}\\\\\n",
    "a_{xt} & a_{xx} & a_{xy} & a_{xz}\\\\\n",
    "a_{yt} & a_{yx} & a_{yy} & a_{yz}\\\\\n",
    "a_{zt} & a_{zx} & a_{zy} & a_{zz}\\\\\n",
    "\\end{array}\n",
    "\\right)\n",
    "$$"
   ]
  },
  {
   "cell_type": "markdown",
   "metadata": {},
   "source": [
    "Las derivadas parciales se pueden escribir usando la regla de la cadena:\n",
    "\n",
    "$$\n",
    "\\begin{array}{rcl}\n",
    "\\partial_t & = & (\\partial_t t') \\partial_{t'} + (\\partial_t x') \\partial_{x'} + (\\partial_t y') \\partial_{y'} + (\\partial_t z') \\partial_{z'}\\\\\n",
    "\\partial_x & = & (\\partial_x t') \\partial_{t'} + (\\partial_x x') \\partial_{x'} + (\\partial_x y') \\partial_{y'} + (\\partial_x z') \\partial_{z'}\\\\\n",
    "\\partial_y & = & (\\partial_y t') \\partial_{t'} + (\\partial_y x') \\partial_{x'} + (\\partial_y y') \\partial_{y'} + (\\partial_y z') \\partial_{z'}\\\\\n",
    "\\partial_z & = & (\\partial_z t') \\partial_{t'} + (\\partial_z x') \\partial_{x'} + (\\partial_z y') \\partial_{y'} + (\\partial_z\n",
    "z') \\partial_{z'}\\\\\n",
    "\\end{array}\n",
    "$$"
   ]
  },
  {
   "cell_type": "markdown",
   "metadata": {},
   "source": [
    "Usando los coeficientes de la transformación queda:\n",
    "\n",
    "$$\n",
    "\\begin{array}{rcl}\n",
    "\\partial_t & = & a_{tt} \\partial_{t'} + a_{xt} \\partial_{x'} + a_{yt} \\partial_{y'} + a_{zt} \\partial_{z'}\\\\\n",
    "\\partial_x & = & a_{tx} \\partial_{t'} + a_{xx} \\partial_{x'} + a_{yx} \\partial_{y'} + a_{zx} \\partial_{z'}\\\\\n",
    "\\partial_y & = & a_{ty} \\partial_{t'} + a_{xy} \\partial_{x'} + a_{yy} \\partial_{y'} + a_{zy} \\partial_{z'}\\\\\n",
    "\\partial_z & = & a_{tz} \\partial_{t'} + a_{xz} \\partial_{x'} + a_{yz} \\partial_{y'} + a_{zz} \\partial_{z'}\\\\\n",
    "\\end{array}\n",
    "$$"
   ]
  },
  {
   "cell_type": "markdown",
   "metadata": {},
   "source": [
    "Nótese que la transformación de las derivadas parciales usa la *transpuesta* de la matriz de transformación $\\cal G$."
   ]
  },
  {
   "cell_type": "markdown",
   "metadata": {},
   "source": [
    "Para el caso particular de las reglas de transformación de las TGN la transformación de las derivada queda:\n",
    "\n",
    "$$\n",
    "\\begin{array}{rcl}\n",
    "\\partial_t & = & \\partial_{t'}-u\\partial_{x'}\\\\\n",
    "\\partial_x & = & \\partial_{x'}\\\\\n",
    "\\partial_y & = & \\partial_{y'}\\\\\n",
    "\\partial_z & = & \\partial_{z'}\\\\\n",
    "\\end{array}\n",
    "$$"
   ]
  },
  {
   "cell_type": "markdown",
   "metadata": {},
   "source": [
    "Reemplazando en las ecuaciones de Maxwell obtenemos:\n",
    "\n",
    "$$\n",
    "\\partial_{x'} E_y -\\partial_{y'} E_x = -\\frac{1}{c}(\\partial_{t'}-u\\partial_{x'}) B_z\\\\\n",
    "$$"
   ]
  },
  {
   "cell_type": "markdown",
   "metadata": {},
   "source": [
    "Reuniendo términos iguales en la derivada:\n",
    "\n",
    "$$\n",
    "\\partial_{x'} \\left(E_y - \\frac{u}{c}B_z\\right) - \\partial_{y'} E_x = -\\frac{1}{c}\\partial_{t'} B_z\\\\\n",
    "$$"
   ]
  },
  {
   "cell_type": "markdown",
   "metadata": {},
   "source": [
    "Para que haya covarianza los campos deben relacionarse así:\n",
    "\n",
    "$$\n",
    "E_y'=E_y-\\frac{u}{c}B_z\n",
    "$$\n",
    "y\n",
    "\n",
    "$$\n",
    "B_z'=\\frac{c'}{c}B_z\n",
    "$$\n",
    "donde hemos admitido la posibilidad de que la velocidad de la luz medida por los dos observadores sea diferente."
   ]
  },
  {
   "cell_type": "markdown",
   "metadata": {},
   "source": [
    "Un procedimiento similar sobre la ecuación de Ampère-Maxwell conduce a que para que haya covarianza debe cumplirse que:\n",
    "\n",
    "$$\n",
    "B_z'=B_z-\\frac{u}{c}E_y\n",
    "$$\n",
    "y\n",
    "\n",
    "$$\n",
    "E_y'=\\frac{c'}{c}E_y\n",
    "$$"
   ]
  },
  {
   "cell_type": "markdown",
   "metadata": {},
   "source": [
    "Estos dos conjuntos de ecuaciones deben ser consistentes uno con otro.  Al hacer el algebra obtenemos el siguienete resultado:\n",
    "\n",
    "$$\n",
    "c'=c-v\n",
    "$$\n",
    "es decir, para que las ecuaciones de Maxwell sean covariantes debemos admitir que la velocidad de la luz sea relativa, es decir que cambie obedeciendo la ley de adiciones de velocidades clásica. "
   ]
  },
  {
   "cell_type": "markdown",
   "metadata": {},
   "source": [
    "En los años 1890 se realizaron experimentos muy sensibles en el laboratorio para percibir este cambio usando el hecho de que la Tierra se mueve respecto al baricentro del sistema solar.  Los resultados fueron contundentes.  La velocidad de la luz parecía ser la misma medida en todas direcciones. ¡Algo esta mal con el electromagnetismo!"
   ]
  },
  {
   "cell_type": "markdown",
   "metadata": {
    "tags": [
     "navigation"
    ]
   },
   "source": [
    "[Indice](index.ipynb) | Previo: [RelatividadEspecial](01.00.00.00.RelatividadEspecial.ipynb) | Siguiente: [RelatividadEspecial.TransformacionesLorentzEinstein](01.02.00.00.RelatividadEspecial.TransformacionesLorentzEinstein.ipynb)"
   ]
  }
 ],
 "metadata": {
  "celltoolbar": "Tags",
  "kernelspec": {
   "display_name": "Python 3",
   "language": "python",
   "name": "python3"
  },
  "language_info": {
   "codemirror_mode": {
    "name": "ipython",
    "version": 3
   },
   "file_extension": ".py",
   "mimetype": "text/x-python",
   "name": "python",
   "nbconvert_exporter": "python",
   "pygments_lexer": "ipython3",
   "version": "3.6.8"
  }
 },
 "nbformat": 4,
 "nbformat_minor": 2
}
