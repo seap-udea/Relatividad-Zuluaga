{
 "cells": [
  {
   "cell_type": "markdown",
   "metadata": {
    "tags": [
     "navigation"
    ]
   },
   "source": [
    "[Indice](index.ipynb) | Previo: [RelatividadEspecial](01.00.00.00.RelatividadEspecial.ipynb) | Siguiente: [RelatividadEspecial.TransformacionesLorentzEinstein](01.02.00.00.RelatividadEspecial.TransformacionesLorentzEinstein.ipynb)"
   ]
  },
  {
   "cell_type": "markdown",
   "metadata": {},
   "source": [
    "## 1.2. Conceptos básicos\n",
    "<a id='respecial_conceptos'></a>"
   ]
  },
  {
   "cell_type": "markdown",
   "metadata": {},
   "source": [
    "Para abordar la pregunta básica de la sección anterior debemos primero introducir una serie de conceptos:\n",
    "\n",
    "- **Cantidad física**. Las leyes físicas son patrones matemáticos entre números (y otras entidades matemáticas) que asociamos a los fenómenos.  Piense por ejemplo en la velocidad.  Es un número que asociamos al desplazamiento de un cuerpo en el tiempo.  Para definir cualquier cantidad física se necesitan: patrones (comparación), una calibración (definir los ceros o puntos de referencia) e instrumentos (dispositivos que realicen la comparación).  \n",
    "\n",
    "  Por ejempl para medir la posición (lugar) uso como partrón una varilla de longitud fija, mi calibración es el lugar que escojo como punto de partida y el instrumento de medida es la misma varilla.  Para medir el tiempo (fecha) uso como patrón un fenómeno repetitivo, como calibración escojo el instante a partir del cuál contar las oscilaciones y el instrumento es un reloj. \n",
    "  \n",
    "  Para obtener el *valor* de una cantidad física se pueden usar medios directos o indirectos. Preferimos los medios directos que implican la comparación de lo medido con el instrumento (el patrón y la calibración) **localmente**: es decir debemos poner el instrumento donde ocurre el fenómeno.\n",
    "  \n",
    "- **Espacio-tiempo**.  Es el escenario en el que ocurre el universo.  Matemáticamente es un espacio geométrico en el que a todo lugar e instante se le asocian unas coordenadas:\n",
    "\n",
    "  $$\n",
    "  [x^\\mu]_{\\mu=0,1,2,3}\n",
    "  $$\n",
    "  esta será una notación que usaremos en lo sucesivo y que adoptará sentido más adelante.\n",
    "  \n",
    "- **Evento**. Es uno de los puntos del espacio-tiempo.  Un evento físico es equivalente \n",
    "\n",
    "- **Observador**.  También llamado (de forma intercambiable) **sistema de referencia**. Un observador es una entidad que registra cualquier cantidad física que ocurre en el espacio-tiempo usando un conjunto (infinito) de instrumentos físicos, que usan el mismo patrón y calibración, distribuídos (idealmente) por todos los eventos del espacio-tiempo. El observador lleva un registro de todos los fenómenos sin importar que tan lejos estén del lugar espacial en el que se encuentre. "
   ]
  },
  {
   "cell_type": "markdown",
   "metadata": {},
   "source": [
    "Existen un conjunto de leyes que fueron formuladas originalmente con la idea de universalidad que mencionamos antes.  Son las leyes del movimiento de Newton:\n",
    "\n",
    "- **Ley de Inercia**.  En la ausencia de fuerzas (interacciones) el *estado de movimiento* se conserva.\n",
    "- **Ley de fuerza**.  La acción de una fuerza cambia el *estado de movimiento*.\n",
    "- **Ley de acción y reacción**. El cambio en el estado de movimiento de un sistema A que interactúa con otro B, es igual en magnitud pero de sentido contrario, que el cambio de movimiento que experimenta B."
   ]
  },
  {
   "cell_type": "markdown",
   "metadata": {},
   "source": [
    "Sabemos que estas leyes de pueden resumir en una sola relación matemática.  Si definimos la *cantidad de movimiento* o momento lineal $\\vec p\\equiv m\\vec v$, entonces:\n",
    "\n",
    "$$\n",
    "\\frac{\\mathrm{d}\\vec p}{\\mathrm{d}t}=\\vec F\n",
    "$$"
   ]
  },
  {
   "cell_type": "markdown",
   "metadata": {},
   "source": [
    "Este conjunto de leyes se mantienen las mismas si se usan **observadores inerciales**."
   ]
  },
  {
   "cell_type": "markdown",
   "metadata": {
    "label": "",
    "subtitle": "observador inercial",
    "tags": [
     "box_definition"
    ],
    "title": "Definición"
   },
   "source": [
    "> **Definición 2.1. observador inercial.**<a id=''></a> Es un observador para el cuál sus registros muestran que la la ley de inercia es válida."
   ]
  },
  {
   "cell_type": "markdown",
   "metadata": {},
   "source": [
    "Registrar la validez de la ley de inercia no es experimentalmente fácil."
   ]
  },
  {
   "cell_type": "markdown",
   "metadata": {},
   "source": [
    "> **Proposición: Observadores con velocidad relativa constante**.  Si un observador $O$ es por definición o demostración inercial, cualquier observador $O'$ cuyo origen de coordenadas se mueva respecto al origen de coordenadas de $O$ con velocidad $\\vec u$ constante, será también un observador inercial."
   ]
  },
  {
   "cell_type": "markdown",
   "metadata": {},
   "source": [
    "## 1.3. Principio de homogeneidad e isotropía del espacio-tiempo\n",
    "<a id='ppio_homogeneidad'></a>"
   ]
  },
  {
   "cell_type": "markdown",
   "metadata": {
    "label": "",
    "subtitle": "Principio de homogeneidad e isotropía del espacio-tiempo",
    "tags": [
     "box_postulate"
    ],
    "title": "Postulado"
   },
   "source": [
    "> **Postulado: Principio de homogeneidad e isotropía del espacio-tiempo.**<a id=''></a> Cualquier experimento que se realice en un sistema de referencia inercial tendrá exactamente el mismo resultado sin importar dónde se realice (homogeneidad) o en que tiempo se realice.  Alrededor de todos los eventos del espacio-tiempo, los experimentos producen las mismas regularidades."
   ]
  },
  {
   "cell_type": "markdown",
   "metadata": {},
   "source": [
    "De acuerdo al principio de homogeneidad, todos los observadores inerciales que solo difieran por su origen en el espacio o por su origen en el tiempo registraran las mismas leyes de la física.  Se puede probar que el principio de homogeneidad e isotropía es *equivalente* lógicamente al principio fundacional de la teoría de la relatividad."
   ]
  },
  {
   "cell_type": "markdown",
   "metadata": {
    "label": "",
    "subtitle": "Principio de relatividad especial",
    "tags": [
     "box_postulate"
    ],
    "title": "Postulado"
   },
   "source": [
    "> **Postulado: Principio de relatividad especial.**<a id=''></a> Todas las leyes de la física deben ser iguales para todos los observadores inerciales."
   ]
  },
  {
   "cell_type": "markdown",
   "metadata": {},
   "source": [
    "## 1.4. La relatividad Newtoniana\n",
    "<a id='relatividad_newtoniana'></a>"
   ]
  },
  {
   "cell_type": "markdown",
   "metadata": {},
   "source": [
    "Una cosa es decir que las leyes son las mismas y otra muy distinta es demostrar que lo son."
   ]
  },
  {
   "cell_type": "markdown",
   "metadata": {},
   "source": [
    "Las leyes son relaciones matemáticas entre cantidades físicas de modo que para demostrar su validez hay que probar que las relaciones son las mismas. "
   ]
  },
  {
   "cell_type": "markdown",
   "metadata": {
    "label": "",
    "subtitle": "Covarianza de las leyes físicas",
    "tags": [
     "box_definition"
    ],
    "title": "Definición"
   },
   "source": [
    "> **Definición 2.2. Covarianza de las leyes físicas.**<a id=''></a> Llamamos *covarianza* de una ley física al hecho de que su forma matemática no se modifique independientemente de las transformaciones geométricas (cambios de sistemas de referencia o coordenadas) que se operen."
   ]
  },
  {
   "cell_type": "markdown",
   "metadata": {},
   "source": [
    "La pregunta es: dos observadores inerciales $S$ y $S'$ que miden cantidades físicas distintas $m$, $\\vec v$, $\\vec r$ y $\\vec F$ (y las respectivas cantidades primadas), al describir las mismas regularidades llegaran a:\n",
    "\n",
    "$$\n",
    "\\frac{\\mathrm{d}\\vec p}{\\mathrm{d}t}=\\vec F\n",
    "$$\n",
    "\n",
    "$$\n",
    "\\frac{\\mathrm{d}\\vec p'}{\\mathrm{d}t'}=\\vec F'\n",
    "$$"
   ]
  },
  {
   "cell_type": "markdown",
   "metadata": {},
   "source": [
    "Para ello debemos *postular* (¿o deducir?) la relación entre las cantidades implicadas."
   ]
  },
  {
   "cell_type": "markdown",
   "metadata": {},
   "source": [
    "> **Definición: Transformaciones de Galileo-Newton**.  La siguiente es la relación entre las cantidades cinemáticas y dinámicas básicas entre dos observadores inerciales:\n",
    "\n",
    "$$\n",
    "\\begin{array}{rcl}\n",
    "t' & = & t \\\\\n",
    "m' & = & m \\\\\n",
    "\\vec F' & = & \\vec F \\\\\n",
    "\\vec r' & = & \\vec r-\\vec u t\\\\\n",
    "\\end{array}\n",
    "$$\n",
    "> donde $\\vec u$ es la velocidad relativa en el espacio entre los dos observadores."
   ]
  },
  {
   "cell_type": "markdown",
   "metadata": {},
   "source": [
    "Puede probarse que si las leyes de Newton son válidas en $O$ también lo serán en $O'$."
   ]
  },
  {
   "cell_type": "markdown",
   "metadata": {},
   "source": [
    "## 1.5. El problema del electromagnetismo\n",
    "<a id='problema_electromagnetismo'></a>"
   ]
  },
  {
   "cell_type": "markdown",
   "metadata": {},
   "source": [
    "Pero las leyes de la física no se restringen a la mecánica.  También están las leyes de la termodinámica, la óptica, el electromagnetismo, la física nuclear, etc.  ¿Son también estas leyes covariantes bajo las transformaciones de Galileo-Newton."
   ]
  },
  {
   "cell_type": "markdown",
   "metadata": {},
   "source": [
    "Tomemos el caso por ejemplo de dos leyes básicas del electromagnetismo:\n",
    "\n",
    "- La ley de Faraday (ley de inducción en el vacío):\n",
    "\n",
    "$$\n",
    "\\frac{1}{c}\\frac{\\partial}{\\partial t}\\int \\vec B\\cdot \\mathrm{d}\\vec S=-\\oint \\vec E\\cdot \\mathrm{d}\\vec l\n",
    "$$\n",
    "\n",
    "\n",
    "$$\n",
    "\\frac{1}{c}\\frac{\\partial \\vec B}{\\partial t}=-\\vec\\nabla\\times\\vec E\n",
    "$$\n",
    "\n",
    "- La ley de Ampere-Maxwell (en el vacío y sin corrientes):\n",
    "\n",
    "$$\n",
    "\\frac{1}{c}\\frac{\\partial}{\\partial t}\\int \\vec E\\cdot \\mathrm{d}\\vec S=-\\oint \\vec B\\cdot \\mathrm{d}\\vec l\n",
    "$$\n",
    "\n",
    "\n",
    "$$\n",
    "\\frac{1}{c}\\frac{\\partial \\vec E}{\\partial t}=-\\vec\\nabla\\times\\vec B\n",
    "$$\n"
   ]
  },
  {
   "cell_type": "markdown",
   "metadata": {},
   "source": [
    "Verifiquemos si son las mismas bajo las transformaciones de Galileo-Newton:"
   ]
  },
  {
   "cell_type": "markdown",
   "metadata": {
    "tags": [
     "navigation"
    ]
   },
   "source": [
    "[Indice](index.ipynb) | Previo: [RelatividadEspecial](01.00.00.00.RelatividadEspecial.ipynb) | Siguiente: [RelatividadEspecial.TransformacionesLorentzEinstein](01.02.00.00.RelatividadEspecial.TransformacionesLorentzEinstein.ipynb)"
   ]
  }
 ],
 "metadata": {
  "celltoolbar": "Tags",
  "kernelspec": {
   "display_name": "Python 3",
   "language": "python",
   "name": "python3"
  },
  "language_info": {
   "codemirror_mode": {
    "name": "ipython",
    "version": 3
   },
   "file_extension": ".py",
   "mimetype": "text/x-python",
   "name": "python",
   "nbconvert_exporter": "python",
   "pygments_lexer": "ipython3",
   "version": "3.6.8"
  }
 },
 "nbformat": 4,
 "nbformat_minor": 2
}
