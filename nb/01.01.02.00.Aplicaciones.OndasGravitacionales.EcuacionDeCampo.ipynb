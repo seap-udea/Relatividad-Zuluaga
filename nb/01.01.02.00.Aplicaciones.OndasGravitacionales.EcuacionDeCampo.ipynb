{
 "cells": [
  {
   "cell_type": "markdown",
   "metadata": {
    "tags": [
     "navigation"
    ]
   },
   "source": [
    "[Indice](index.ipynb) | Previo: [Aplicaciones.OndasGravitacionales.GravedadLinearizada](01.01.01.00.Aplicaciones.OndasGravitacionales.GravedadLinearizada.ipynb) | Siguiente: [Aplicaciones.OndasGravitacionales.EcuacionDeOndas](01.01.03.00.Aplicaciones.OndasGravitacionales.EcuacionDeOndas.ipynb)"
   ]
  },
  {
   "cell_type": "markdown",
   "metadata": {},
   "source": [
    "### 1.1.4. Ecuación de campo linearizada en el vacío\n",
    "<a id='gw_vacio'></a>"
   ]
  },
  {
   "cell_type": "markdown",
   "metadata": {},
   "source": [
    "Tenemos hasta ahora todos los elementos para proceder a escribir la ecuación de campo métrico linearizada:\n",
    "\n",
    "$$\n",
    "R_{\\mu\\nu}=\\frac{8\\pi G}{c^4}\\left(T_{\\mu\\nu}-\\frac{1}{2}g_{\\mu\\nu}T\\right)\n",
    "$$\n"
   ]
  },
  {
   "cell_type": "markdown",
   "metadata": {},
   "source": [
    "Donde ahora podemos usar el lenguaje para decir que la ecuación de campo dice que el tensor de Ricci es proporcional a la *traza invertida* del tensor momentum-energía."
   ]
  },
  {
   "cell_type": "markdown",
   "metadata": {},
   "source": [
    "Por ahora procederemos a estudiar el caso en el que la onda se propaga en una región vacía $T^{\\mu\\nu}=0$:"
   ]
  },
  {
   "cell_type": "markdown",
   "metadata": {},
   "source": [
    "En esta situación la ecuación de campo métrico queda:\n",
    "\n",
    "$$\n",
    "R_{\\mu\\nu}=0\n",
    "$$\n",
    "que es una importante ecuación en relatividad general que vamos a seguir viendo en lo sucesivo."
   ]
  },
  {
   "cell_type": "markdown",
   "metadata": {
    "label": "",
    "subtitle": "Tensor de Ricii cero no significa curvatura cero",
    "tags": [
     "box_note"
    ],
    "title": "Nota"
   },
   "source": [
    "> **Nota: Tensor de Ricii cero no significa curvatura cero.**<a id=''></a> Es interesante anotar que la ecuación de campo evaluada en el vacío:\n",
    "> $$R_{\\mu\\nu}=0$$\n",
    "> implica solamente que localmente en los puntos donde no haya materia todas las componentes del tensor de Ricci son 0.  Eso no significa sin embargo que la curvatura allí sea cero, en tanto el espacio-tiempo puede haber sido curvado por la presencia de materia que esta cerca de allí.  Esto conduce a una serie de implicaciones que son interesantes:\n",
    "\n",
    "> 1. Si ${R^\\alpha}_{\\beta\\mu\\nu}=0$ entonces el espacio-tiempo es plano.\n",
    "> 2. Si $R_{\\mu\\nu}=0$ no necesariamente el espacio-tiempo es plano.\n",
    "> 3. Si $R=0$ no necesariamente el espacio-tiempo es plano.\n",
    "> 4. Si el espacio-tiempo es curvo entonces al menos una ${R^\\alpha}_{\\beta\\mu\\nu}\\neq 0$\n",
    "> 5. Si $R\\neq 0$ entonces el espacio-tiempo es curvo.\n",
    "> 6. Si al menos una componente de $R_{\\mu\\nu}\\neq 0$ entonces el espacio-tiempo es curvo.\n",
    "> 7. Si al menos una componente de ${R^{\\alpha}}_{\\beta\\mu\\nu}\\neq 0$ entonces el espacio-tiempo es curvo."
   ]
  },
  {
   "cell_type": "markdown",
   "metadata": {},
   "source": [
    "En terminos de la perturbación la ecuación de campo métrico queda:\n",
    "\n",
    "$$\n",
    "\\frac{1}{2}(-\\Box h_{\\mu\\nu}+V_{\\mu,\\nu}+V_{\\nu,\\mu})=0\n",
    "$$\n",
    "o lo que es lo mismo:\n",
    "\n",
    "$$\n",
    "\\Box h_{\\mu\\nu}-(V_{\\mu,\\nu}+V_{\\nu,\\mu})=0\n",
    "$$\n",
    "o bien,\n",
    "\n",
    "$$\n",
    "\\Box h_{\\mu\\nu}=V_{\\mu,\\nu}+V_{\\nu,\\mu}\n",
    "$$\n",
    "donde recordemos que:\n",
    "\n",
    "$$\n",
    "V_\\mu=h^\\lambda_{\\mu,\\lambda}-\\frac{1}{2}h_{,\\mu}\n",
    "$$"
   ]
  },
  {
   "cell_type": "markdown",
   "metadata": {},
   "source": [
    "### 1.1.5. Libertad gauge\n",
    "<a id='libertad_gauge'></a>"
   ]
  },
  {
   "cell_type": "markdown",
   "metadata": {},
   "source": [
    "Antes de proceder a resolver hay un asunto que debemos discutir.  ¿Por qué la métrica no es plana?  Es posible tener una métrica que no es plana por muy diversas razones: 1) porque tenemos una perturbación real (con curvatura) del campo gravitacional o 2) por la particular elección del sistema de coordenadas."
   ]
  },
  {
   "cell_type": "markdown",
   "metadata": {},
   "source": [
    "Veamos como cambia $h$ y todo lo que hemos visto cuando se modifican sutilmente las coordenadas\n",
    "\n",
    "$$\n",
    "x'^\\mu=x^{\\mu}+\\xi^{\\mu}(x)\n",
    "$$\n",
    "donde $|\\xi|={\\cal O}(\\epsilon)$.  Dada esta última convención, siempre será posible reemplazar $x'$ por $x$ donde sea necesario."
   ]
  },
  {
   "cell_type": "markdown",
   "metadata": {},
   "source": [
    "La inversa de esta transformación será simplemente:\n",
    "\n",
    "$$\n",
    "x^\\mu=x'^{\\mu}-\\xi^{\\mu}(x')\n",
    "$$\n",
    "donde a primer orden $\\xi^{\\mu}(x')\\approx \\xi^{\\mu}(x)$."
   ]
  },
  {
   "cell_type": "markdown",
   "metadata": {},
   "source": [
    "La transformación de la métrica será:\n",
    "\n",
    "$$\n",
    "g'_{\\alpha\\beta}(x')=\\frac{\\partial x^\\mu}{\\partial x'^{\\alpha}}\\frac{\\partial x^\\nu}{\\partial x'^{\\beta}} g_{\\mu\\nu}(x)\n",
    "$$ "
   ]
  },
  {
   "cell_type": "markdown",
   "metadata": {},
   "source": [
    "Teniendo en cuenta que:\n",
    "\n",
    "$$\n",
    "\\frac{\\partial x^\\mu}{\\partial x'^{\\alpha}}\\approx\\delta^{\\mu}_{\\alpha}-\\xi^\\mu_{,\\alpha}\n",
    "$$\n",
    "donde $\\xi^\\mu_{,\\alpha}=\\partial \\xi^\\mu/\\partial x^\\alpha$."
   ]
  },
  {
   "cell_type": "markdown",
   "metadata": {},
   "source": [
    "la métrica transforma como\n",
    "\n",
    "$$\n",
    "\\begin{aligned}\n",
    "g'_{\\alpha \\beta}\\left(x^{\\prime}\\right) &=\\frac{\\partial x^{\\mu}}{\\partial x^{\\alpha}} \\frac{\\partial x^{\\nu}}{\\partial x^{\\beta}} g_{\\mu \\nu}(x) \\\\\n",
    "&=\\left(\\delta_{\\alpha}^{\\mu}-\\xi^{\\mu}_{,\\alpha}\\right)\\left(\\delta_{\\beta}^{\\nu}-\\xi^{\\nu}_{, \\beta}\\right)\\left[g_{\\mu \\nu}\\left(x^{\\prime}\\right)-g_{\\mu \\nu, \\sigma}\\left(x^{\\prime}\\right) \\xi^{\\sigma}\\right] \\\\\n",
    "&=g_{\\alpha \\beta}(x')-\\xi_{, \\mu}^{\\alpha} g_{\\mu \\beta}-\\xi^{\\nu}_{,\\beta}g_{\\alpha \\nu}-g_{\\alpha \\beta, \\sigma} \\xi^{\\sigma}\n",
    "\\end{aligned}\n",
    "$$"
   ]
  },
  {
   "cell_type": "markdown",
   "metadata": {},
   "source": [
    "La diferencia entonces en la métrica debido al pequeño desplazamiento es:\n",
    "\n",
    "$$\n",
    "g'_{\\alpha \\beta}\\left(x^{\\prime}\\right)-g_{\\alpha\\beta}(x')\\equiv h'_{\\alpha \\beta}\\left(x^{\\prime}\\right)-h_{\\alpha\\beta}(x')=-\\xi_{\\alpha,\\beta}-\\xi_{\\beta,\\alpha}\n",
    "$$\n",
    "o lo que es lo mismo:\n",
    "\n",
    "$$\n",
    "h'_{\\alpha \\beta}=h_{\\alpha\\beta}-\\xi_{\\alpha,\\beta}-\\xi_{\\beta,\\alpha}\n",
    "$$"
   ]
  },
  {
   "cell_type": "markdown",
   "metadata": {},
   "source": [
    "Entonces, un simple cambio de coordenadas me cambia el $h$.  A esto es a lo que se conoce como *libertad gauge* en las perturbaciones."
   ]
  },
  {
   "cell_type": "markdown",
   "metadata": {},
   "source": [
    "### 1.1.6. El gauge armónico\n",
    "<a id='gauge_armónico'></a>"
   ]
  },
  {
   "cell_type": "markdown",
   "metadata": {},
   "source": [
    "La libertad gauge es interesante porque nos permite identificar cuál podría ser el mejor sistema de coordenadas en el que se puede trabajar para que la ecuación de campo linearizada sea sencilla."
   ]
  },
  {
   "cell_type": "markdown",
   "metadata": {},
   "source": [
    "Si se escoge un conjunto e $\\xi^\\alpha$ tal que :\n",
    "\n",
    "$$\n",
    "V'_{\\mu}=h'^{\\lambda}_{\\mu,\\lambda}-\\frac{1}{2}h'_{,\\mu}=0\n",
    "$$\n",
    "entonces la ecuación de campo queda reducida a:\n",
    "\n",
    "$$\n",
    "\\Box h'_{\\mu\\nu}=0\n",
    "$$\n",
    "y llamamos a este el **gauge armónico** por las evidentes implicaciones de la última ecuación."
   ]
  },
  {
   "cell_type": "markdown",
   "metadata": {},
   "source": [
    "Otra manera de escribir el gauge armónico es:\n",
    "\n",
    "$$\n",
    "V'^{\\nu}={h'^{\\mu\\nu}}_{,\\mu}-\\eta^{\\mu\\nu}\\frac{1}{2}h'_{,\\mu}=0\n",
    "$$"
   ]
  },
  {
   "cell_type": "markdown",
   "metadata": {},
   "source": [
    "Definiendo la traza-invertida de $h$ como:\n",
    "\n",
    "$$\n",
    "\\bar{h'}_{\\mu\\nu}\\equiv h'_{\\mu\\nu}-\\frac{1}{2}\\eta_{\\mu\\nu} h'\n",
    "$$\n",
    "el gauge armónico queda:\n",
    "\n",
    "$$\n",
    "{\\bar{h}'^{\\mu\\nu}}_{,\\mu}=0\n",
    "$$\n"
   ]
  },
  {
   "cell_type": "markdown",
   "metadata": {
    "label": "",
    "subtitle": "El gauge armónico para $\\xi$",
    "tags": [
     "box_note"
    ],
    "title": "Nota"
   },
   "source": [
    "> **Nota: El gauge armónico para $\\xi$.**<a id=''></a> Con la definición $\\bar{h}$ podemos escribir la transformación de coordenadas como como:\n",
    "\n",
    "> $$\\bar{h}'_{\\alpha \\beta}=\\bar{h}_{\\alpha\\beta}-\\xi_{\\alpha,\\beta}-\\xi_{\\beta,\\alpha}+\\xi^\\lambda_{,\\lambda}\\eta_{\\alpha\\beta}$$\n",
    "\n",
    "> Sacando las componentes contravariantes y tomando la derivada tenemos:\n",
    "\n",
    "> $${\\bar{h}'^{\\mu\\nu}}_{,\\mu}={\\bar{h}^{\\mu \\nu}}_{,\\mu}-{\\xi^{\\mu,\\nu}}_{,\\mu}-{\\xi^{\\nu, \\mu}}_{,\\mu}+\\xi^{\\lambda}_{,\\lambda\\mu}\\eta^{\\mu\\nu}={\\bar{h}^{\\mu\\nu}}_{,\\mu}-\\Box\\xi^\\nu$$\n",
    "> de modo que en términos de la perturbación original el gauge armónico se puede escribir:\n",
    "\n",
    "> $$\\Box\\xi^\\nu={\\bar{h}^{\\mu\\nu}}_{,\\mu}$$\n",
    "\n",
    "> El problema es que para cualquier función escalar $f$ siempre se puede encontrar una función escalar $F$ tal que $\\Box F= f$, de modo que el gauge armónico lo satisfacen infinitas funciones $\\xi$.  Si imponemos la condición adicional de que:\n",
    "\n",
    "> $$\\Box\\xi^\\nu=0$$\n",
    "> esto completa nuestra condición para el gauge armónico."
   ]
  },
  {
   "cell_type": "markdown",
   "metadata": {},
   "source": [
    "### 1.1.7. La ecuación de campo en el gauge armónico\n",
    "<a id='ec_gauge_armonico'></a>"
   ]
  },
  {
   "cell_type": "markdown",
   "metadata": {},
   "source": [
    "En lo sucesivo asumiremos que estamos trabajando en el *gauge armónico* y ya no haremos la distinción entre las componentes primadas y no primadas."
   ]
  },
  {
   "cell_type": "markdown",
   "metadata": {},
   "source": [
    "En este gauge la ecuación de campo se escribe:\n",
    "\n",
    "$$\n",
    "\\Box h_{\\mu\\nu}=0\n",
    "$$"
   ]
  },
  {
   "cell_type": "markdown",
   "metadata": {},
   "source": [
    "Una ecuación equivalente se obtiene si se reconoce que una vez definido:\n",
    "\n",
    "$$\n",
    "\\bar{h}_{\\mu\\nu}\\equiv h_{\\mu\\nu}-\\frac{1}{2}\\eta_{\\mu\\nu} h\n",
    "$$\n",
    "entonces,\n",
    "\n",
    "$$\n",
    "\\Box \\bar{h}_{\\mu\\nu}=\\Box h_{\\mu\\nu}-\\frac{1}{2}\\eta_{\\mu\\nu}\\Box h\n",
    "$$\n",
    "pero\n",
    "\n",
    "$$\\Box h=\\Box(\\eta^{\\mu\\nu}h_{\\mu\\nu}) = \\eta_{\\mu\\nu}\\Box h_{\\mu\\nu}=0$$\n",
    "de modo que:\n",
    "\n",
    "$$\n",
    "\\Box \\bar{h}_{\\mu\\nu}=\\Box h_{\\mu\\nu}\n",
    "$$"
   ]
  },
  {
   "cell_type": "markdown",
   "metadata": {},
   "source": [
    "Así que una manera más conveniente de escribir la ecuación de campo métrico en el vacío será:\n",
    "\n",
    "$$\n",
    "\\Box \\bar{h}_{\\mu\\nu}=0\n",
    "$$\n",
    "con el gauge armónico\n",
    "\n",
    "$$\n",
    "{\\bar{h}^{\\mu\\nu}}_{,\\mu}=0\n",
    "$$"
   ]
  },
  {
   "cell_type": "markdown",
   "metadata": {},
   "source": [
    "Una vez obtenida la solución siempre es posible regresar a la parametrización original usando:\n",
    "\n",
    "$$\n",
    "h_{\\mu\\nu}=\\bar{h}_{\\mu\\nu}-\\frac{1}{2}\\eta_{\\mu\\nu} \\bar{h}\n",
    "$$"
   ]
  },
  {
   "cell_type": "markdown",
   "metadata": {},
   "source": [
    "### 1.1.8. La ecuación de campo con fuentes\n",
    "<a id='ecuacion_fuentes'></a>"
   ]
  },
  {
   "cell_type": "markdown",
   "metadata": {},
   "source": [
    "¿Qué pasa ahora si tenemos en el espacio fuentes?"
   ]
  },
  {
   "cell_type": "markdown",
   "metadata": {},
   "source": [
    "La ecuación de campo será ahora:\n",
    "\n",
    "$$\n",
    "G_{\\mu\\nu}=\\frac{8\\pi G}{c^4}T_{\\mu\\nu}\n",
    "$$"
   ]
  },
  {
   "cell_type": "markdown",
   "metadata": {},
   "source": [
    "Reemplazando el tensor de Einstein:\n",
    "\n",
    "$$\n",
    "\\delta G_{\\mu \\nu}=-\\frac{1}{2} \\square h_{\\mu \\nu}+\\frac{1}{2}\\left(\\partial_{\\mu} V_{\\nu}+\\partial_{\\nu} V_{\\mu}\\right)+\\frac{1}{4} \\eta_{\\mu\\nu} \\square h-\\frac{1}{4} \\eta_{\\mu \\nu} \\eta^{\\alpha \\beta}\\left(\\partial_{\\alpha} V_{\\beta}+\\partial_{\\beta} V_{\\alpha}\\right)\n",
    "$$\n",
    "la ecuación queda:\n",
    "\n",
    "$$\n",
    "-\\frac{1}{2} \\square h_{\\mu \\nu}+\\frac{1}{2}\\left(\\partial_{\\mu} V_{\\nu}+\\partial_{\\nu} V_{\\mu}\\right)+\\frac{1}{4} \\eta_{\\mu\\nu} \\square h-\\frac{1}{4} \\eta_{\\mu \\nu} \\eta^{\\alpha \\beta}\\left(\\partial_{\\alpha} V_{\\beta}+\\partial_{\\beta} V_{\\alpha}\\right)=\\frac{8\\pi G}{c^4}T_{\\mu\\nu}\n",
    "$$"
   ]
  },
  {
   "cell_type": "markdown",
   "metadata": {},
   "source": [
    "Si aplicamos una transformación de coorenadas para quedar en el gauge armónico, i.e. $V_\\mu=0$, obtenemos:\n",
    "\n",
    "$$\n",
    "-\\frac{1}{2}(\\square h_{\\mu \\nu}-\\frac{1}{2} \\eta_{\\mu\\nu} \\square h)=\\frac{8\\pi G}{c^4}T_{\\mu\\nu}\n",
    "$$"
   ]
  },
  {
   "cell_type": "markdown",
   "metadata": {},
   "source": [
    "En términos de la traza invertida de la variable de perturbación $\\bar{h}_{\\mu\\nu}$ la ecuación queda finalmente:\n",
    "\n",
    "$$\n",
    "\\Box \\bar{h}_{\\mu\\nu}=-\\frac{16\\pi G}{c^4}T_{\\mu\\nu}\n",
    "$$\n",
    "que es la ecuación de campo con fuentes."
   ]
  },
  {
   "cell_type": "markdown",
   "metadata": {},
   "source": [
    "### 1.1.9. La métrica postnewtoniana\n",
    "<a id='metrica_postnewtoniana'></a>"
   ]
  },
  {
   "cell_type": "markdown",
   "metadata": {},
   "source": [
    "La versión linearizada de la ecuación de campo puede usarse para resolver el problema de la gravedad newtoniana."
   ]
  },
  {
   "cell_type": "markdown",
   "metadata": {},
   "source": [
    "Supongamos que tenemos una distribución de polvo con simetría radial $T^{\\mu\\nu}=\\mathrm{diag}(\\rho_0 c^2,0,0,0)$."
   ]
  },
  {
   "cell_type": "markdown",
   "metadata": {},
   "source": [
    "La única componente de la ecuación de campo nos queda:\n",
    "\n",
    "$$\n",
    "\\Box \\bar{h}_{00}=-\\frac{16\\pi G}{c^4} \\rho_0 c^2\n",
    "$$"
   ]
  },
  {
   "cell_type": "markdown",
   "metadata": {},
   "source": [
    "En campo estático, $\\Box \\bar{h}_{00}=-\\nabla^2 \\bar{h}_{00}$ así la ecuación queda:\n",
    "\n",
    "$$\n",
    "\\nabla^2 \\bar{h}_{00}=\\frac{16\\pi G}{c^4} \\rho_0 c^2\n",
    "$$"
   ]
  },
  {
   "cell_type": "markdown",
   "metadata": {},
   "source": [
    "Para que la ecuación coincida con la ecuación de Poisson se necesita que:\n",
    "\n",
    "$$\n",
    "\\bar{h}_{00}=\\frac{4\\Phi}{c^2}\n",
    "$$\n",
    "donde $\\Phi$ es el potencial gravitacional."
   ]
  },
  {
   "cell_type": "markdown",
   "metadata": {},
   "source": [
    "La traza será naturalmente igual a $\\bar{h}=4\\Phi/c^2$"
   ]
  },
  {
   "cell_type": "markdown",
   "metadata": {},
   "source": [
    "La perturbación original será por tanto:\n",
    "\n",
    "$$\n",
    "h_{\\mu\\nu}=\\bar{h}_{\\mu\\nu}-\\frac{1}{2}\\eta_{\\mu\\nu} \\bar{h}\n",
    "$$"
   ]
  },
  {
   "cell_type": "markdown",
   "metadata": {},
   "source": [
    "Por componentes:\n",
    "\n",
    "$$\n",
    "\\begin{array}{rcl}\n",
    "h_{00} & = & 2\\Phi/c^2\\\\\n",
    "h_{ii} & = & -2\\Phi/c^2\n",
    "\\end{array}\n",
    "$$"
   ]
  },
  {
   "cell_type": "markdown",
   "metadata": {},
   "source": [
    "De donde la métrica resultante es: \n",
    "\n",
    "$$\n",
    "\\mathrm{d}s^2=\\left(1+\\frac{2\\Phi}{c^2}\\right)\\mathrm{d}t^2-\\left(1-\\frac{2\\Phi}{c^2}\\right)\\mathrm{d}\\vec{r}_L^2\n",
    "$$\n",
    "que llamaremos la **métrica postnewtoniana**."
   ]
  },
  {
   "cell_type": "markdown",
   "metadata": {},
   "source": [
    "Nótese que esta métrica difiere e la métrica de newton:\n",
    "\n",
    "$$\n",
    "\\mathrm{d}s^2=\\left(1+\\frac{2\\Phi}{c^2}\\right)\\;\\mathrm{d}t^2-\\mathrm{d}\\vec{r}_L^2\n",
    "$$"
   ]
  },
  {
   "cell_type": "markdown",
   "metadata": {},
   "source": [
    "### 1.1.1. Analogía electromagnética\n",
    "<a id='analogia_electromagnetica'></a>"
   ]
  },
  {
   "cell_type": "markdown",
   "metadata": {},
   "source": [
    "Existe una interesantísima analogía entre esta ecuación y la electrodinámica.  Recordemos que $h_{\\mu\\nu}$ en campo débil por ejemplo alrededor de un cuerpo con masa estaba asociado al potencial.  En electromagnetismo el cuadripotencial es $A_\\mu$.  La ecuación inhomogénea de Maxwell se escribe:\n",
    "\n",
    "$$\n",
    "\\partial^\\mu\\partial_\\mu A^\\nu=\\frac{4\\pi}{c}J^\\nu\n",
    "$$\n",
    "que en un lugar donde no hay cargas se puede escribir como\n",
    "\n",
    "$$\n",
    "\\Box A^\\nu = 0\n",
    "$$"
   ]
  },
  {
   "cell_type": "markdown",
   "metadata": {},
   "source": [
    "Pero debemos recordar que pudimos escribir esta expresión gracias al Gauge de Lorentz:\n",
    "\n",
    "$$\n",
    "{A^\\mu}_{,\\mu}=0\n",
    "$$\n",
    "una condición arbitraria sobre los potenciales que permitía escribir las ecuaciones inhomogeneas de forma simple como una función de onda."
   ]
  },
  {
   "cell_type": "markdown",
   "metadata": {},
   "source": [
    "Como vemos hay una analogía profunda entre las ecuaciones de Maxwell en espacio-tiempo plano y las ecuaciones de campo métrico donde el papel del cuadripotencial $A^\\mu$ lo juega ahora el potencial tensorial $\\bar{h}^{\\mu\\nu}$."
   ]
  },
  {
   "cell_type": "markdown",
   "metadata": {},
   "source": [
    "Paralelos:\n",
    "\n",
    "| Aspecto | Electromagnetismo | Gravitación linearizada |\n",
    "| ----------------- |:-----------------:|:-----------------------:|\n",
    "| Potenciales | $\\phi$, $\\vec A$ | $h_{\\mu\\nu}$ |\n",
    "| Cuadripotencial | $A^\\mu$ | $\\bar{h}_{\\mu\\nu}$ |\n",
    "| Transformación Gauge | $\\phi'=\\phi-\\partial \\psi/\\partial t$, $\\vec A'=\\vec A+\\vec{\\nabla}\\psi$ | $$h_{\\mu^{\\prime} \\nu^{\\prime}}=h_{\\mu \\nu}-\\xi_{\\mu,\\nu}-\\xi_{\\nu,\\mu}$$ |\n",
    "| Gauge | $$A^\\mu_{,\\mu}=\\vec{\\nabla}\\cdot\\vec{A}+\\partial \\phi/\\partial t=0$$ | $${\\bar{h}^{\\mu\\nu}}_{,\\mu}={h^{\\mu\\nu}}_{,\\mu}-\\eta^{\\mu\\nu}\\frac{1}{2}h_{,\\mu}=0$$ |\n",
    "| Ecuaciones en el vacío | $\\Box \\vec{A}=0$, $\\Box \\phi=0$ | $\\Box h_{\\mu\\nu}=0$ | \n",
    "|  | $\\Box A^\\mu=0$ | $\\Box \\bar{h}_{\\mu\\nu}=0$ | \n",
    "| Fuentes | $J^\\nu$ | $T_{\\mu\\nu}$ | \n",
    "| Ecuación con fuentes | $$\\partial_\\alpha \\partial^\\alpha {A^\\nu}=\\frac{4\\pi}{c}J^\\nu$$ | $$\\partial_\\alpha \\partial^\\alpha \\bar{h}_{\\mu\\nu}=\\frac{-16\\pi G}{c^4}T_{\\mu\\nu}$$ |"
   ]
  },
  {
   "cell_type": "markdown",
   "metadata": {
    "tags": [
     "navigation"
    ]
   },
   "source": [
    "[Indice](index.ipynb) | Previo: [Aplicaciones.OndasGravitacionales.GravedadLinearizada](01.01.01.00.Aplicaciones.OndasGravitacionales.GravedadLinearizada.ipynb) | Siguiente: [Aplicaciones.OndasGravitacionales.EcuacionDeOndas](01.01.03.00.Aplicaciones.OndasGravitacionales.EcuacionDeOndas.ipynb)"
   ]
  }
 ],
 "metadata": {
  "celltoolbar": "Tags",
  "kernelspec": {
   "display_name": "Python 3",
   "language": "python",
   "name": "python3"
  },
  "language_info": {
   "codemirror_mode": {
    "name": "ipython",
    "version": 3
   },
   "file_extension": ".py",
   "mimetype": "text/x-python",
   "name": "python",
   "nbconvert_exporter": "python",
   "pygments_lexer": "ipython3",
   "version": "3.6.8"
  }
 },
 "nbformat": 4,
 "nbformat_minor": 2
}
