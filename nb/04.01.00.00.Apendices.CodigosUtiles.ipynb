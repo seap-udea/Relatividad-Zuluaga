{
 "cells": [
  {
   "cell_type": "markdown",
   "metadata": {
    "tags": [
     "navigation"
    ]
   },
   "source": [
    "[Indice](index.ipynb) | Previo: [Aplicaciones.CosmologiaRelativista.LeyHubbleLemaitre](03.03.04.00.Aplicaciones.CosmologiaRelativista.LeyHubbleLemaitre.ipynb) | "
   ]
  },
  {
   "cell_type": "markdown",
   "metadata": {},
   "source": [
    "# 4. Apéndices\n",
    "<a id='apendices'></a>"
   ]
  },
  {
   "cell_type": "markdown",
   "metadata": {},
   "source": [
    "## 4.1. Códigos útiles\n",
    "<a id='apendice_codigos_utiles'></a>"
   ]
  },
  {
   "cell_type": "markdown",
   "metadata": {},
   "source": [
    "A continuación encontrarán algunos códigos útiles usados en el curso."
   ]
  },
  {
   "cell_type": "markdown",
   "metadata": {},
   "source": [
    "### 4.1.1. Cálculo numérico de los símbolos de Christoffel\n",
    "<a id='calculo_numerico_christoffel'></a>"
   ]
  },
  {
   "cell_type": "markdown",
   "metadata": {},
   "source": [
    "El cálculo numérico de los símbolos de Christoffel puede ser útil para futuros cálculos."
   ]
  },
  {
   "cell_type": "markdown",
   "metadata": {},
   "source": [
    "La rutina para calcular los símbolos de Christoffel será:"
   ]
  },
  {
   "cell_type": "code",
   "execution_count": 1,
   "metadata": {
    "codelabel": "",
    "codeplot": 0,
    "tags": [
     "export"
    ]
   },
   "outputs": [],
   "source": [
    "def Gamma(xmu,gfun,gargs=(),N=4,dxmax=1e-6,alpha=-1,mu=0,nu=0):\n",
    "    \"\"\"\n",
    "    Calcula todos los símbolos de Christoffel\n",
    "    gfun: función métrica\n",
    "    xmu: evento\n",
    "    \"\"\"\n",
    "    from scipy.misc import derivative\n",
    "    from numpy import where,arange\n",
    "    from numpy import zeros\n",
    "    #Indices\n",
    "    index=arange(N)\n",
    "\n",
    "    #Gamma\n",
    "    G=zeros((N,N,N))\n",
    "    \n",
    "    for pi in range(N):\n",
    "        for nu in range(N):\n",
    "            #Inversa\n",
    "            gpipi=1/gfun(xmu,pi,*gargs) #g^pipi\n",
    "            #Coeficientes diagonales\n",
    "            xd=xmu[pi] #Punto en el que estoy derivando\n",
    "            dx=max(dxmax,dxmax*abs(xd))\n",
    "            gnunu_pi=derivative(lambda x:gfun(where(index==pi,x,xmu),nu,*gargs),xd,dx)\n",
    "            G[pi,nu,nu]=-0.5*gpipi*gnunu_pi\n",
    "            #Coeficientes mixtos\n",
    "            if nu==pi:continue\n",
    "            xd=xmu[nu] #Punto en el que estoy derivando\n",
    "            dx=max(dxmax,dxmax*abs(xd))\n",
    "            gpipi_nu=derivative(lambda x:gfun(where(index==nu,x,xmu),pi,*gargs),xd,dx)\n",
    "            G[pi,pi,nu]=0.5*gpipi*gpipi_nu\n",
    "            G[pi,nu,pi]=G[pi,pi,nu]\n",
    "    return G if alpha<0 else G[alpha,mu,nu]"
   ]
  },
  {
   "cell_type": "markdown",
   "metadata": {},
   "source": [
    "Para poner a prueba nuestra rutina, podemos usar algunas de las métricas que habíamos visto antes.  "
   ]
  },
  {
   "cell_type": "markdown",
   "metadata": {},
   "source": [
    "Por ejemplo la métrica en coordenadas cilíndricas:"
   ]
  },
  {
   "cell_type": "code",
   "execution_count": 2,
   "metadata": {
    "codelabel": "",
    "codeplot": 0,
    "tags": [
     "export"
    ]
   },
   "outputs": [],
   "source": [
    "from numpy import array\n",
    "def g_cilindricas_4d(xmu,mu):\n",
    "    \"\"\"\n",
    "    Coeficiente métrico g_mumu calculados en el evento xmu \n",
    "    para espacio-tiempo plano con coordenadas cilíndricas.\n",
    "    \n",
    "    g_munu=diag(1,-1,-r^2,-1)\n",
    "    \"\"\"\n",
    "    from numpy import sin\n",
    "    t,r,teta,z=xmu\n",
    "    if mu==0:\n",
    "        g=1\n",
    "    elif mu==1:\n",
    "        g=-1\n",
    "    elif mu==2:\n",
    "        g=-r**2\n",
    "    elif mu==3:\n",
    "        g=-1\n",
    "    return g"
   ]
  },
  {
   "cell_type": "markdown",
   "metadata": {},
   "source": [
    "Escogemos ahora un punto en el cuál calcular los símbolos de Christoffel:"
   ]
  },
  {
   "cell_type": "code",
   "execution_count": 3,
   "metadata": {
    "codelabel": "",
    "codeplot": 0
   },
   "outputs": [],
   "source": [
    "xmu=array([0,2,0,1])"
   ]
  },
  {
   "cell_type": "markdown",
   "metadata": {},
   "source": [
    "E invocamos nuestra rutina:"
   ]
  },
  {
   "cell_type": "code",
   "execution_count": 4,
   "metadata": {
    "codelabel": "",
    "codeplot": 0
   },
   "outputs": [],
   "source": [
    "G=Gamma(xmu,g_cilindricas_4d,N=4)"
   ]
  },
  {
   "cell_type": "code",
   "execution_count": 5,
   "metadata": {
    "codelabel": "",
    "codeplot": 0,
    "scrolled": true,
    "tags": [
     "hide_input"
    ]
   },
   "outputs": [
    {
     "name": "stdout",
     "output_type": "stream",
     "text": [
      "Símbolos de Christoffel:\n",
      "[[[-0.   0.   0.   0. ]\n",
      "  [ 0.  -0.   0.   0. ]\n",
      "  [ 0.   0.  -0.   0. ]\n",
      "  [ 0.   0.   0.  -0. ]]\n",
      "\n",
      " [[ 0.  -0.   0.   0. ]\n",
      "  [-0.   0.  -0.  -0. ]\n",
      "  [ 0.  -0.  -2.   0. ]\n",
      "  [ 0.  -0.   0.   0. ]]\n",
      "\n",
      " [[ 0.   0.  -0.   0. ]\n",
      "  [ 0.   0.   0.5  0. ]\n",
      "  [-0.   0.5  0.  -0. ]\n",
      "  [ 0.   0.  -0.   0. ]]\n",
      "\n",
      " [[ 0.   0.   0.  -0. ]\n",
      "  [ 0.   0.   0.  -0. ]\n",
      "  [ 0.   0.   0.  -0. ]\n",
      "  [-0.  -0.  -0.   0. ]]]\n"
     ]
    }
   ],
   "source": [
    "print(f\"Símbolos de Christoffel:\\n{G}\")"
   ]
  },
  {
   "cell_type": "markdown",
   "metadata": {},
   "source": [
    "Donde vemos que lo que habíamos determinado en nuestro primer ejercicio es correcto.  Solo dos símbolos de Christoffel son diferentes de cero:"
   ]
  },
  {
   "cell_type": "code",
   "execution_count": 6,
   "metadata": {
    "codelabel": "",
    "codeplot": 0,
    "scrolled": true
   },
   "outputs": [
    {
     "name": "stdout",
     "output_type": "stream",
     "text": [
      "G^1_22 = -2.000000000002\n",
      "G^2_21 = 0.5000000000005\n"
     ]
    }
   ],
   "source": [
    "print(f\"G^1_{22} = {G[1,2,2]}\")\n",
    "print(f\"G^2_{21} = {G[2,2,1]}\")"
   ]
  },
  {
   "cell_type": "markdown",
   "metadata": {},
   "source": [
    "y su valor coincide con el valor teóricamente esperado de $\\Gamma^1_{22}=-r$ y $\\Gamma^2_{21}=1/r$."
   ]
  },
  {
   "cell_type": "markdown",
   "metadata": {},
   "source": [
    "Alguna métricas:"
   ]
  },
  {
   "cell_type": "code",
   "execution_count": 115,
   "metadata": {
    "codelabel": "",
    "codeplot": 0,
    "tags": [
     "export"
    ]
   },
   "outputs": [],
   "source": [
    "def g_cilindricas_2d(xmu,mu):\n",
    "    \"\"\"\n",
    "    Coeficiente métrico g_mumu calculados en el evento xmu \n",
    "    para espacio-tiempo plano con coordenadas cilíndricas.\n",
    "    \n",
    "    g_munu=diag(1,r^2)\n",
    "    \"\"\"\n",
    "    r,teta=xmu\n",
    "    if mu==0:\n",
    "        g=1\n",
    "    elif mu==1:\n",
    "        g=r**2\n",
    "    return g"
   ]
  },
  {
   "cell_type": "code",
   "execution_count": 127,
   "metadata": {
    "codelabel": "",
    "codeplot": 0,
    "tags": [
     "export"
    ]
   },
   "outputs": [],
   "source": [
    "def g_esfera_2d(xmu,mu,R=1):\n",
    "    \"\"\"\n",
    "    Coeficiente métrico g_mumu calculados sobre la\n",
    "    superficie de una esfera de radio R.\n",
    "    \n",
    "    g_munu=diag(1,r^2)\n",
    "    \"\"\"\n",
    "    from numpy import cos\n",
    "    fi,lamb=xmu\n",
    "    if mu==0:\n",
    "        g=R**2\n",
    "    elif mu==1:\n",
    "        g=R**2*cos(fi)**2\n",
    "    return g"
   ]
  },
  {
   "cell_type": "code",
   "execution_count": null,
   "metadata": {
    "codelabel": "",
    "codeplot": 0,
    "tags": [
     "export"
    ]
   },
   "outputs": [],
   "source": [
    "from numpy import array\n",
    "def g_newtoniana_4d(xmu,mu,R=1):\n",
    "    \"\"\"\n",
    "    Coeficiente métrico g_mumu calculados en el evento xmu \n",
    "    para espacio-tiempo plano con coordenadas cilíndricas.\n",
    "    \n",
    "    g_munu=diag(A,-1,-r^2,-r^2 sin^2 teta)\n",
    "    \"\"\"\n",
    "    from numpy import sin\n",
    "    t,r,teta,fi=xmu\n",
    "    A=(1-R/r)\n",
    "    if mu==0:\n",
    "        g=A\n",
    "    elif mu==1:\n",
    "        g=-1\n",
    "    elif mu==2:\n",
    "        g=-r**2\n",
    "    elif mu==3:\n",
    "        g=-r**2*sin(teta)**2\n",
    "    return g"
   ]
  },
  {
   "cell_type": "markdown",
   "metadata": {},
   "source": [
    "### 4.1.2. Ecuación geodésica con símbolos numérios\n",
    "<a id='ecuacion_geodesica_numerica'></a>"
   ]
  },
  {
   "cell_type": "code",
   "execution_count": null,
   "metadata": {
    "codelabel": "",
    "codeplot": 0,
    "tags": [
     "export"
    ]
   },
   "outputs": [],
   "source": [
    "def ecuacion_geodesica_num(Y,s,gfun,gargs,N=4):\n",
    "    \"\"\"\n",
    "    Opciones:\n",
    "        gfun: función que da la métrica\n",
    "        N: Número de dimensiones\n",
    "    \"\"\"\n",
    "    from export import Gamma\n",
    "    from numpy import zeros\n",
    "    dYds=zeros(2*N)\n",
    "    x=Y[:N]\n",
    "    dxds=Y[N:]\n",
    "\n",
    "    dYds[:N]=dxds\n",
    "    G=Gamma(x,gfun,gargs,N)\n",
    "    for pi in range(N):\n",
    "        for mu in range(N):\n",
    "            for nu in range(N):\n",
    "                dYds[N+pi]+=-G[pi,mu,nu]*dxds[mu]*dxds[nu]\n",
    "    return dYds"
   ]
  },
  {
   "cell_type": "markdown",
   "metadata": {},
   "source": [
    "### 4.1.3. Cálculo analítico de tensores en relatividad general\n",
    "<a id='calculo_analitico_rg'></a>"
   ]
  },
  {
   "cell_type": "markdown",
   "metadata": {},
   "source": [
    "El código a continuación fue adaptado de Hartle y sirve para el cálculo de las cantidades geométricas y tensoriales útiles en relatividad general."
   ]
  },
  {
   "cell_type": "markdown",
   "metadata": {},
   "source": [
    "```\n",
    "(*\n",
    "Instrucciones:\n",
    "1) Abra una cuenta en https://lab.wolframcloud.com.\n",
    "2) Cree un nuevo Notebook.\n",
    "3) Copie el contenido de este archivo dentro del Notebook.\n",
    "4) Ejecute el código de ejemplo\n",
    "*)\n",
    "\n",
    "(*Variables básicas*)\n",
    "Clear[n,\n",
    "Inversa,Matriz,Tabla,\n",
    "Gama,Geodesica,Riemann,\n",
    "GeodesicaTabla ,ListaDos,ListaTres,ListaCuatro];\n",
    "n = 4;\n",
    "(*Genericos*)\n",
    "Inversa[g_]:=Simplify[Inverse[g]]\n",
    "(*Muestra*)\n",
    "Matriz[g_]:= g//MatrixForm\n",
    "Tabla[Lista_]:=TableForm[Partition[DeleteCases[Flatten[Lista], Null], 2],TableSpacing -> {2, 2}]\n",
    "GeodesicaTabla[geodesica_]:=TableForm[\n",
    "Table[{\"d/d\\[Tau]\" ToString[u[i-1]], \"=\",geodesica[[i]]},\n",
    "{i, 1, n}], TableSpacing -> {2}]\n",
    "ListaDos[Tensor_,simbolo_,coords_]:=Table[\n",
    "If[UnsameQ[Tensor[[j, l]], 0],\n",
    "{ToString[simbolo[coords[[j]], coords[[l]]]]<>\" = \",Tensor[[j, l]]}] ,\n",
    "{j, 1, n}, {l, 1, j}];\n",
    "ListaTres[Tensor_,simbolo_,coords_] := Table[\n",
    "If[UnsameQ[Tensor[[i, j, k]], 0],\n",
    "{ToString[simbolo[coords[[i]], coords[[j]],coords[[ k]]]]<>\" = \", Tensor[[i, j, k]]}] ,\n",
    "{i, 1, n}, {j, 1, n}, {k, 1, j}];\n",
    "ListaCuatro[Tensor_,simbolo_,coords_]:=Table[\n",
    "If[UnsameQ[Tensor[[i, j, k, l]], 0],\n",
    "{ToString[simbolo[coords[[i]], coords[[j]],coords[[ k]],coords[[ l]]]]<>\" = \",Tensor[[i, j, k, l]]}] ,\n",
    "{i, 1, n}, {j, 1, n}, {k, 1, n}, {l, 1,n}];\n",
    "(*Relatividad General*)\n",
    "Gama[g_,gi_,coord_] := Simplify[\n",
    "Table[(1/2)*Sum[(gi[[i, s]])*\n",
    "       (D[g[[s, j]], coord[[k]] ] +\n",
    "         D[g[[s, k]], coord[[j]] ] -\n",
    "         D[g[[j, k]], coord[[s]] ]), {s, 1, n}],\n",
    "    {i, 1, n}, {j, 1, n}, {k, 1, n}] ];\n",
    "Riemann[G_,coord_] := -Simplify[Table[D[G[[i, j, k]],coord[[l]] ] - D[G[[i, j, l]], coord[[k]] ] +\n",
    "     Sum[G[[s, j, k]]G[[i, l, s]] -  G[[s, j, l]]G[[i, k, s]],  {s, 1, n}],\n",
    "    {i, 1, n}, {j, 1, n}, {k, 1, n}, {l, 1, n}] ]\n",
    "Ricci[Rm_]:=Simplify[Table[\n",
    "  Sum[Rm[[i, j, i, l]], {i, 1, n}], {j, 1, n}, {l, 1, n}] ]\n",
    "Scalar[gi_,Ri_]:= Simplify[ Sum[gi[[i, j]] Ri[[i, j]], {i, 1, n}, {j, 1, n}] ]\n",
    "Einstein[Ri_,R_,g_] :=Simplify[Ri - (1/2) R*g]\n",
    "Geodesica[G_] := Simplify[Table[-Sum[G[[i, j, k]] u[j-1] u[k-1], {j, 1, n}, {k, 1, n}], {i, 1, n}]]\n",
    "(*\n",
    "--------------------------------------------------------------------------\n",
    "Ejemplo agujero de gusano:\n",
    "coords = {T,r, \\[Theta], \\[Phi]};\n",
    "gij = {{1,0,0,0},-{0, 1, 0, 0}, -{0,0, r^2 + b^2, 0}, -{0,0,\n",
    "   0, (r^2 + b^2) Sin[\\[Theta]]^2}};\n",
    "nij = Inversa[gij];\n",
    "Gijk=Gama[gij,nij,coords];\n",
    "Rijkl=Riemann[Gijk,coords];\n",
    "Rij=Ricci[Rijkl];\n",
    "Rs=Scalar[nij,Rij];\n",
    "Gij=Einstein[Rij,Rs,gij];\n",
    "dxidt=Geodesica[Gijk];\n",
    "Matriz[gij]\n",
    "Matriz[nij]\n",
    "Tabla[ListaTres[Gijk,\\[CapitalGamma],coords]]\n",
    "Tabla[ListaCuatro[Rijkl,Riemann,coords]]\n",
    "Tabla[ListaDos[Rij,Ricci,coords]]\n",
    "Rs\n",
    "Tabla[ListaDos[Gij,G,coords]]\n",
    "GeodesicaTabla[dxidt]\n",
    "--------------------------------------------------------------------------\n",
    "Ejemplo métrica simétrica:\n",
    "coords = {T,r, \\[Theta], \\[Phi]};\n",
    "gij = {{Exp[2A[r]],0,0,0},-{0, Exp[2B[r]], 0, 0}, -{0,0, r^2 , 0}, -{0,0,\n",
    "   0, r^2 Sin[\\[Theta]]^2}};\n",
    "nij = Inversa[gij];\n",
    "Gijk=Gama[gij,nij,coords];\n",
    "Rijkl=Riemann[Gijk,coords];\n",
    "Rij=Ricci[Rijkl];\n",
    "Rs=Scalar[nij,Rij];\n",
    "Gij=Einstein[Rij,Rs,gij];\n",
    "dxidt=Geodesica[Gijk];\n",
    "Matriz[gij]\n",
    "Matriz[nij]\n",
    "Tabla[ListaTres[Gijk,\\[CapitalGamma],coords]]\n",
    "Tabla[ListaCuatro[Rijkl,Riemann,coords]]\n",
    "Tabla[ListaDos[Rij,Ricci,coords]]\n",
    "Rs\n",
    "Tabla[ListaDos[Gij,G,coords]]\n",
    "GeodesicaTabla[dxidt]\n",
    "*)\n",
    "\n",
    "```"
   ]
  }
 ],
 "metadata": {
  "celltoolbar": "Tags",
  "kernelspec": {
   "display_name": "Python 3",
   "language": "python",
   "name": "python3"
  },
  "language_info": {
   "codemirror_mode": {
    "name": "ipython",
    "version": 3
   },
   "file_extension": ".py",
   "mimetype": "text/x-python",
   "name": "python",
   "nbconvert_exporter": "python",
   "pygments_lexer": "ipython3",
   "version": "3.6.8"
  }
 },
 "nbformat": 4,
 "nbformat_minor": 2
}
