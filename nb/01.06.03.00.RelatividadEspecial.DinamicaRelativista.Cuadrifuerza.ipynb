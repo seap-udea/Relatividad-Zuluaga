{
 "cells": [
  {
   "cell_type": "markdown",
   "metadata": {
    "tags": [
     "navigation"
    ]
   },
   "source": [
    "[Indice](index.ipynb) | Previo: [RelatividadEspecial.DinamicaRelativista.ColisionesRelativistas](01.06.02.00.RelatividadEspecial.DinamicaRelativista.ColisionesRelativistas.ipynb) | Siguiente: [RelatividadEspecial.DinamicaRelativista.FuerzaDeLorentz](01.06.04.00.RelatividadEspecial.DinamicaRelativista.FuerzaDeLorentz.ipynb)"
   ]
  },
  {
   "cell_type": "markdown",
   "metadata": {},
   "source": [
    "## 1.14. Cuadrifuerza\n",
    "<a id='cuadrifuerza'></a>"
   ]
  },
  {
   "cell_type": "markdown",
   "metadata": {},
   "source": [
    "Uno de los conceptos más complicados de la mecánica Newtoniana es el concepto de fuerza.  Podría decirse que, incluso en el siglo xxi las discusiones alrededor de este concepto han sido difícilmente resueltas.  No es la excepción para el mismo concepto pero en el contexto de la dinámica relativista."
   ]
  },
  {
   "cell_type": "markdown",
   "metadata": {},
   "source": [
    "En la mecánica newtoniana la *fuerza resultante* se define como:\n",
    "\n",
    "$$\n",
    "\\vec{\\cal F} \\equiv \\frac{\\mathrm{d}\\vec p}{\\mathrm{d}t}=\\frac{\\mathrm{d}(m\\vec v)}{\\mathrm{d}t}\n",
    "$$\n",
    "es decir, entendemos por fuerza la manifestación de cualquier cambio en el momento lineal de una partícula.  Una cosa muy diferente es cuál es el origen de ese cambio.  "
   ]
  },
  {
   "cell_type": "markdown",
   "metadata": {},
   "source": [
    "Independientemente se postula la existencia de fenómenos que se manifiestan a través de lo que podemos llamar *fuerzas aplicadas* $\\vec F$.  Así por ejemplo la fricción de dos superficies en el movimiento de cuerpos macroscópicos se describe con una fuerza aplicada efectiva que llamamos *fuerza de fricción* y que se modela de formas muy diversas.  La atracción evidente entre cuerpos con masa se modela también con una fuerza aplicada conocida, la fuerza gravitacional, y el caso de una partícula cargada que se mueve en un campo eléctrico y magnético, también puede modelarse usando una fuerza aplicada (la fuerza de Lorentz).  "
   ]
  },
  {
   "cell_type": "markdown",
   "metadata": {},
   "source": [
    "El postulado de fuerza Newtoniano se puede formular diciendo que la fuerza aplicada (cualquiera de las anteriores) es igual a la fuerza resultante:\n",
    "\n",
    "$$\n",
    "\\vec{\\cal F}=\\vec{F}\n",
    "$$\n",
    "o en otros términos:\n",
    "\n",
    "$$\n",
    "\\frac{\\mathrm{d}\\vec p}{\\mathrm{d}t}=\\vec{F}\n",
    "$$\n",
    "que es la que llamamos también la *segunda ley de Newton*.  "
   ]
  },
  {
   "cell_type": "markdown",
   "metadata": {},
   "source": [
    "La pregunta de la relatividad sería ¿cuál es la versión covariante de esta ley? ¿se reduce la versión covariante del postulado de fuerzas a la versión relativista a bajas velocidades?"
   ]
  },
  {
   "cell_type": "markdown",
   "metadata": {},
   "source": [
    "Previamente habíamos definido el trimomentum como:\n",
    "\n",
    "$$\n",
    "\\vec p \\equiv \\gamma(v) m\\vec v\n",
    "$$"
   ]
  },
  {
   "cell_type": "markdown",
   "metadata": {},
   "source": [
    "Mostramos que esta cantidad se conserva en las colisiones."
   ]
  },
  {
   "cell_type": "markdown",
   "metadata": {},
   "source": [
    "De aquí podemos definir la trifuerza aplicada como:\n",
    "\n",
    "$$\n",
    "\\vec{\\cal F}\\equiv\\frac{\\mathrm{d}\\vec p}{\\mathrm{d}t}=\\frac{\\mathrm{d}(\\gamma m\\vec v)}{\\mathrm{d}t}\n",
    "$$\n",
    "esta cantidad es la que esta implicada en los procesos de interacción reales (covariantes), aquella que se relaciona con la conservación del trimomentum.  Nótese la diferencia entre esta definición y la definición clásica, en tanto en esta definición esta presente el factor de Lorentz-Einstein."
   ]
  },
  {
   "cell_type": "markdown",
   "metadata": {},
   "source": [
    "Curiosamente, el desarrollo del lado derecho de la ecuación anterior no conduce a ninguna expresión relevante o simple (aunque naturalmente puede hacerse).  Solo la introducción de una cantidad más general puede darnos luz sobre la verdadera interpretación de esta cantidad."
   ]
  },
  {
   "cell_type": "markdown",
   "metadata": {},
   "source": [
    "De la misma manera como definimos el cuadrimomentum podemos definir ahora la cuadrifuerza en analogía:\n",
    "\n",
    "$$\n",
    "f^\\mu\\equiv \\frac{\\mathrm{d}P^\\mu}{\\mathrm{d}\\tau}\n",
    "$$"
   ]
  },
  {
   "cell_type": "markdown",
   "metadata": {},
   "source": [
    "Esta ecuación puede escribirse de dos maneras diferentes:\n",
    "\n",
    "1. Como una forma generalizada de la *segunda ley de Newton* en el espacio-tiempo:\n",
    "\n",
    "   $$\n",
    "   f^\\mu=m A^\\mu\n",
    "   $$\n",
    "   \n",
    "   de donde podemos obtener las componentes de la cuadrifuerza usando aquellas que dedujimos para la cuadriaceletación:\n",
    "   \n",
    "   $$\n",
    "   f_L^\\mu:\\gamma^4 (m \\vec{a}_L\\cdot \\vec{v}_L,m\\vec{a}_L)\n",
    "   $$\n",
    "  "
   ]
  },
  {
   "cell_type": "markdown",
   "metadata": {},
   "source": [
    "2. Derivando explícitamente las componentes del cuadrimomentum obtenemos:\n",
    "\n",
    "   $$\n",
    "   f_L^\\mu:\\left(\\gamma\\frac{\\mathrm{d}E_L}{\\mathrm{d}t},\\gamma\\vec{\\cal F}_L\\right)\n",
    "   $$\n",
    "   \n",
    "   La componente temporal de este cuadrivector es, como la trifuerza truculenta de calcular.  Sin embargo si usamos la propiedad de ortogonalidad $A^\\mu \\cdot U^\\nu=0$ y sabemos que $f^\\mu\\propto A^\\mu$, podemos decir que:\n",
    "   \n",
    "   $$\n",
    "   f_L^0 U_L^0 = \\vec{f}_L\\cdot \\vec{U}_L\n",
    "   $$\n",
    "   de donde obtenemos:\n",
    "   \n",
    "   $$\n",
    "   f_L^0 = \\vec{f}_L\\cdot \\vec{v}_L\n",
    "   $$\n",
    "   \n",
    "   Finalmente las componentes de la cuadrifuerza se pueden escribir como:\n",
    "   \n",
    "   $$\n",
    "   f_L^\\mu:\\gamma(\\vec{\\cal F}_L\\cdot\\vec{v}_L,\\vec{\\cal F}_L)\n",
    "   $$\n",
    "   \n",
    "   De esta última expresión derivamos la importante relación:\n",
    "   $$\n",
    "   \\frac{\\mathrm{d}E_L}{\\mathrm{d}t}=\\vec{\\cal F}_L\\cdot\\vec{v}_L\n",
    "   $$\n",
    "   que es idéntica a su análoga newtoniana pero con la energía cinética.\n",
    "   \n",
    "   Como sabemos que $E_L=\\gamma m$ esta relación puede también escribirse como:\n",
    "   \n",
    "   $$\n",
    "   \\frac{\\mathrm{d}(\\gamma m)}{\\mathrm{d}t}=\\vec{\\cal F}_L\\cdot\\vec{v}_L\n",
    "   $$ "
   ]
  },
  {
   "cell_type": "markdown",
   "metadata": {},
   "source": [
    "> **Nota: Unidades luz de la trifuerza**.  Por la definición misma de la trifuerza, $\\vec{\\cal F}=\\mathrm{d}\\vec p/\\mathrm{d}t$ la relación entre la fuerza en unidades luz y la fuerza en unidades convencionales sería:\n",
    "\n",
    "$$\n",
    "\\vec F = c \\vec F_L\n",
    "$$"
   ]
  },
  {
   "cell_type": "markdown",
   "metadata": {},
   "source": [
    "Volviendo a la definición de trifuerza:\n",
    "\n",
    "$$\n",
    "\\vec{\\cal F}_L=\n",
    "\\frac{\\mathrm{d}(\\gamma m\\vec{v}_L)}{\\mathrm{d}t}=\n",
    "\\frac{\\mathrm{d}(\\gamma m)}{\\mathrm{d}t}\\vec{v}_L + \\gamma m \\vec{a}_L\n",
    "$$\n",
    "y usando la relación recien obtenida obtenemos:\n",
    "\n",
    "$$\n",
    "\\vec{\\cal F}_L=\\gamma m \\vec{a}_L+(\\vec{\\cal F}_L\\cdot\\vec{v}_L)\\vec{v}_L\n",
    "$$"
   ]
  },
  {
   "cell_type": "markdown",
   "metadata": {
    "label": "",
    "subtitle": "Ley de fuerza relativista",
    "tags": [
     "box_theorem"
    ],
    "title": "Proposición"
   },
   "source": [
    "> **Proposición: Ley de fuerza relativista.**<a id=''></a> Si sobre una partícula (masa invariante constante $m$) actua una fuerza aplicada $\\vec{F}_L$, entonces la aceleración espacial experimentada por la partícula esta dada por:\n",
    "\n",
    "> $$\\vec{a}_L=\\frac{1}{\\gamma m}[\\vec{F}_L-(\\vec{F}_L\\cdot \\vec{v}_L)\\vec{v}_L]$$"
   ]
  },
  {
   "cell_type": "markdown",
   "metadata": {},
   "source": [
    "Es interesante notar que a diferencia de la aceleración newtoniana, la aceleración relativista $\\vec{a}_L$ no es necesariamente paralela a la fuerza aplicada.  La ley de fuerza relativista muestra que los tres vectores residen sobre el mismo plano, pero no necesariamente son paralelos unos a tros."
   ]
  },
  {
   "cell_type": "markdown",
   "metadata": {},
   "source": [
    "Una manera alternativa de escribir la ley de fuerza relativista sería descomponer la aceleración y la fuerza en componentes paralelas y perpendiculares a la velocidad:\n",
    "\n",
    "$$\n",
    "\\gamma m(\\vec{a}_{L\\parallel}+\\vec{a}_{L\\perp})=\n",
    "\\vec{F}_{L\\parallel}+\\vec{F}_{L\\parallel}-\\vec{F}_{L\\parallel} v_L^2\n",
    "$$"
   ]
  },
  {
   "cell_type": "markdown",
   "metadata": {},
   "source": [
    "igualando componente a componente, podemos reescribir la ley como:\n",
    "\n",
    "\\begin{eqnarray}\n",
    "\\nonumber\n",
    "{a}_{L\\parallel} & = & \\frac{1}{\\gamma^3 m}{F}_{L\\parallel}\\\\\n",
    "\\nonumber\n",
    "{a}_{L\\perp} & = & \\frac{1}{\\gamma m}{F}_{L\\perp}\n",
    "\\end{eqnarray}"
   ]
  },
  {
   "cell_type": "markdown",
   "metadata": {},
   "source": [
    "En unidades convencionales:\n",
    "\n",
    "\\begin{eqnarray}\n",
    "\\nonumber\n",
    "{a}_{\\parallel} & = & \\frac{1}{\\gamma^3 m}{F}_{\\parallel}\\\\\n",
    "\\nonumber\n",
    "{a}_{\\perp} & = & \\frac{1}{\\gamma m}{F}_{\\perp}\n",
    "\\end{eqnarray}"
   ]
  },
  {
   "cell_type": "markdown",
   "metadata": {
    "label": "",
    "subtitle": "Inercia direccional**.  Definimos la **inercia",
    "tags": [
     "box_definition"
    ],
    "title": "Definición"
   },
   "source": [
    "> **Definición 1.13. Inercia direccional**.  Definimos la **inercia.**<a id=''></a> de una partícula en una dirección $\\hat v$, ${\\cal I}_v$, como el cociente entre la componente de la fuerza aplicada en esa dirección y la componente de la aceleración experimentada en la misma dirección:\n",
    "\n",
    "> $$\\cal I_v \\equiv \\frac{\\vec F\\cdot \\hat v}{\\vec a\\cdot \\hat v}$$"
   ]
  },
  {
   "cell_type": "markdown",
   "metadata": {},
   "source": [
    "De forma interesante la ley de fuerza relativista muestra que una partícula tiene una inercia diferente en distintas direcciones relativas a su velocidad.  Así, en dirección perpendicular a la velocidad la inercia de una partícula es $\\cal I_\\perp = \\gamma m$ mientras que en dirección paralela es $\\cal I_\\parallel = \\gamma^3 m$."
   ]
  },
  {
   "cell_type": "markdown",
   "metadata": {},
   "source": [
    "### 1.14.1. Reglas de transformación de la fuerza\n",
    "<a id='transformacion_fuerza'></a>"
   ]
  },
  {
   "cell_type": "markdown",
   "metadata": {},
   "source": [
    "Una interesante consecuencia de los desarrollos anteriores alrededor de los conceptos de fuerza en la dinámica relativista es entender que a diferencia de lo que pasa en la física newtoniana, en la relatividad la fuerza no es la misma cuando es medida por distintos observadores inerciales."
   ]
  },
  {
   "cell_type": "markdown",
   "metadata": {},
   "source": [
    "La cuadrifuerza transforma de acuerdo a las TLE:\n",
    "\n",
    "$$\n",
    "f^\\mu = \\Lambda^\\mu_{\\nu'} f^{\\nu'}\n",
    "$$"
   ]
  },
  {
   "cell_type": "markdown",
   "metadata": {},
   "source": [
    "De allí se deduce que la trifuerza resultante $\\vec{\\cal F}$ debe transformar como lo hace la componente espacial de cualquier cuadrivector:\n",
    "\n",
    "$$\n",
    "\\gamma_v \\vec{F}_L =  \\gamma_{v'}\\vec{F}'_L+\\left(\\frac{\\gamma_u-1}{u_L^2} \\vec{u}_L\\cdot \\gamma_{v'}\\vec{F}'_L + \\gamma_u \\gamma_{v'}\\vec{\\cal F}'_L\\cdot\\vec{v}'_L\\right)\\vec u_L\n",
    "$$\n",
    "o su inversa:\n",
    "\n",
    "$$\n",
    "\\gamma_{v'} \\vec{F}'_L =  \\gamma_{v}\\vec{F}_L+\\left(\\frac{\\gamma_u-1}{u_L^2} \\vec{u}_L\\cdot \\gamma_{v}\\vec{F}_L - \\gamma_u \\gamma_{v}\\vec{\\cal F}_L\\cdot\\vec{v}_L\\right)\\vec u_L\n",
    "$$\n"
   ]
  },
  {
   "cell_type": "markdown",
   "metadata": {},
   "source": [
    "Aquí es importante aclarar que en la expresión aparecen dos velocidades: la velocidad relativa entre los sistemas de referencia $\\vec u$ y la velocidad de la partícula sobre la que actúa la fuerza $\\vec v$.  Por la misma razón aparecen también dos $\\gamma$ diferentes, uno para cada velocidad."
   ]
  },
  {
   "cell_type": "markdown",
   "metadata": {},
   "source": [
    "Una primera consecuencia de esta relación es que si en un sistema de referencia una partícula esta en equilibrio $\\vec F=\\vec o$, también lo estará en el otro sistema de referencia.  Es decir, el equilibrio es invariante."
   ]
  },
  {
   "cell_type": "markdown",
   "metadata": {},
   "source": [
    "Si descomponemos la fuerza en una componente paralela a la velocidad y una perpendicular a ella\n",
    "\n",
    "$$\n",
    "\\vec F = \\vec F_{\\parallel} + \\vec F_{\\perp}\n",
    "$$\n",
    "y asumimos que la partícula se mueve instantáneamente en la misma dirección relativa de los sistemas de referencia, es decir $\\vec{v}\\parallel\\vec{u}$, entonces las dos componentes transformaran de acuerdo con las ecuaciones (ver Problemas al final del capítulo):\n",
    "\n",
    "\\begin{eqnarray}\n",
    "F_\\parallel & = & \\frac{F'_{L\\parallel}+\\vec u_L\\cdot\\vec{F}'_L}{1+\\vec{v}'_L\\cdot\\vec{u}_L}\\\\\n",
    "F_\\perp & = & \\frac{\\gamma_u^{-1}F'_{L\\perp}}{1+\\vec{v}'_L\\cdot\\vec{u}_L}\\\\\n",
    "\\end{eqnarray}"
   ]
  },
  {
   "cell_type": "markdown",
   "metadata": {},
   "source": [
    "Un hecho interesante que se deriva de estas relaciones es que la trifuerza relativista no puede tener cualquier forma, sino solo aquella que transforme de acuerdo con las anteriores condiciones.  En particular vemos que la trifuerza relativista depende de la velocidad de una forma no trivial. "
   ]
  },
  {
   "cell_type": "markdown",
   "metadata": {},
   "source": [
    "Una fuerza que no cumple esa condición es la fuerza de atracción gravitacional de Newton que puede probarse fácilmente, no transforma de acuerdo a las reglas anteriores.  Es decir la fuerza gravitacional no es una fuerza compatible con la dinámica relativista.  Si queremos modelar la gravedad será necesario que desarrollemos una teoría nueva sobre esta fuerza.  Ese es justamente el propósito de la **teoría general de la relatividad**."
   ]
  },
  {
   "cell_type": "markdown",
   "metadata": {
    "tags": [
     "navigation"
    ]
   },
   "source": [
    "[Indice](index.ipynb) | Previo: [RelatividadEspecial.DinamicaRelativista.ColisionesRelativistas](01.06.02.00.RelatividadEspecial.DinamicaRelativista.ColisionesRelativistas.ipynb) | Siguiente: [RelatividadEspecial.DinamicaRelativista.FuerzaDeLorentz](01.06.04.00.RelatividadEspecial.DinamicaRelativista.FuerzaDeLorentz.ipynb)"
   ]
  }
 ],
 "metadata": {
  "celltoolbar": "Tags",
  "kernelspec": {
   "display_name": "Python 3",
   "language": "python",
   "name": "python3"
  },
  "language_info": {
   "codemirror_mode": {
    "name": "ipython",
    "version": 3
   },
   "file_extension": ".py",
   "mimetype": "text/x-python",
   "name": "python",
   "nbconvert_exporter": "python",
   "pygments_lexer": "ipython3",
   "version": "3.6.8"
  }
 },
 "nbformat": 4,
 "nbformat_minor": 2
}
