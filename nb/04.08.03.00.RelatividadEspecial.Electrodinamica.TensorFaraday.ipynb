{
 "cells": [
  {
   "cell_type": "markdown",
   "metadata": {
    "tags": [
     "navigation"
    ]
   },
   "source": [
    "[Indice](index.ipynb) | Previo: [RelatividadEspecial.Electrodinamica.CuadriCorrientePotencial](04.08.02.00.RelatividadEspecial.Electrodinamica.CuadriCorrientePotencial.ipynb) | Siguiente: [RelatividadEspecial.Electrodinamica.Ejemplos](04.08.04.00.RelatividadEspecial.Electrodinamica.Ejemplos.ipynb)"
   ]
  },
  {
   "cell_type": "markdown",
   "metadata": {},
   "source": [
    "### 4.16.4. Los campos en términos tensoriales\n",
    "<a id='campos_tensoriales'></a>"
   ]
  },
  {
   "cell_type": "markdown",
   "metadata": {},
   "source": [
    "La introducción del cuadripotencial nos permite escribir los campos eléctrico y magnético en términos tensoriales, lo que será muy útil para derivar la forma de las ecuaciones de Maxwell manifiestamente covariantes."
   ]
  },
  {
   "cell_type": "markdown",
   "metadata": {},
   "source": [
    "Por definición de los potenciales:\n",
    "\n",
    "\\begin{eqnarray}\n",
    "\\nonumber\n",
    "\\vec B & = & \\vec{\\nabla}\\times\\vec A\\\\\n",
    "\\nonumber\n",
    "\\vec E & = & -\\vec{\\nabla}\\phi-\\frac{1}{c}\\frac{\\partial\\vec A}{\\partial t}\n",
    "\\end{eqnarray}"
   ]
  },
  {
   "cell_type": "markdown",
   "metadata": {},
   "source": [
    "Si lo escribimos en términos de las componentes explícitas del cuadripotencial obtenemos:\n",
    "\n",
    "$$\n",
    "\\begin{array}{rcl}\n",
    "B^i & = & \\sum_{j,k} \\epsilon_{ijk} \\partial_j A^k\\\\\n",
    "E^i & = & -\\partial_i A^0-\\partial_0 A^i\n",
    "\\end{array}\n",
    "$$\n",
    "donde $\\epsilon_{ijk}$ es el símbolo de Levi-Civita."
   ]
  },
  {
   "cell_type": "markdown",
   "metadata": {},
   "source": [
    "Una interesante simetría se produce si escribimos las componentes explícitas:\n",
    "\n",
    "$$\n",
    "\\begin{array}{rcl}\n",
    "B^1 & = & \\partial_2 A^3-\\partial_3 A^2\\\\\n",
    "E^1 & = & -\\partial_1 A^0-\\partial_0 A^1\n",
    "\\end{array}\n",
    "$$"
   ]
  },
  {
   "cell_type": "markdown",
   "metadata": {},
   "source": [
    "### 4.16.5. El tensor de Faraday\n",
    "<a id='tensor_faraday'></a>"
   ]
  },
  {
   "cell_type": "markdown",
   "metadata": {},
   "source": [
    "Si usamos las componentes contravariantes de la derivada (que implican simplemente un cambio en el signo de las componentes espaciales de las derivadas) podemos escribir:\n",
    "\n",
    "$$\n",
    "\\begin{array}{rcl}\n",
    "B^1 & = & -\\partial^2 A^3+\\partial^2 A^2\\\\\n",
    "E^1 & = & \\partial^1 A^0-\\partial^0 A^1\n",
    "\\end{array}\n",
    "$$\n",
    "que se puede escribir como:\n",
    "\n",
    "$$\n",
    "\\begin{array}{rcl}\n",
    "B^1 & = & -(\\partial^2 A^3-\\partial^2 A^2)\\\\\n",
    "E^1 & = & -(\\partial^0 A^1-\\partial^1 A^0)\n",
    "\\end{array}\n",
    "$$\n"
   ]
  },
  {
   "cell_type": "markdown",
   "metadata": {},
   "source": [
    "De aquí, si definimos el tensor contravariante de segundo rango:\n",
    "\n",
    "$$\n",
    "F^{\\mu\\nu}\\equiv\\partial^\\mu A^\\nu - \\partial^\\nu A^\\mu\n",
    "$$"
   ]
  },
  {
   "cell_type": "markdown",
   "metadata": {},
   "source": [
    "Vemos que el campo eléctrico y el campo magnético se pueden escribir en términos de este tensor como:\n",
    "\n",
    "$$\n",
    "\\begin{array}{rcl}\n",
    "B^i & = & - \\epsilon_{ijk} F^{jk}\\\\\n",
    "E^i & = & - F^{0i}\n",
    "\\end{array}\n",
    "$$\n",
    "donde es importante anotar que en la primera expresión no se usa la convención de suma de Einstein."
   ]
  },
  {
   "cell_type": "markdown",
   "metadata": {},
   "source": [
    "Otra manera de verlo podría ser escribir explícitamente las componentes del tensor en coordenadas cartesianas:\n",
    "\n",
    "$$\n",
    "F^{\\mu\\nu}:\n",
    "\\left(\n",
    "\\begin{array}{cccc}\n",
    "0 & -E_x & -E_y & -E_z\\\\\n",
    "E_x & 0 & -B_z & +B_y \\\\\n",
    "E_y & +B_z & 0 & -B_x \\\\\n",
    "E_z & -B_y & +B_x & 0 \\\\\n",
    "\\end{array}\n",
    "\\right)\n",
    "$$"
   ]
  },
  {
   "cell_type": "markdown",
   "metadata": {},
   "source": [
    "Llamamos a $F^{\\mu\\nu}$ el **tensor electromagnético** o **tensor de Faraday**."
   ]
  },
  {
   "cell_type": "markdown",
   "metadata": {
    "label": "",
    "subtitle": "Propiedades del tensor de Faraday",
    "tags": [
     "box_proposition"
    ],
    "title": "Proposición"
   },
   "source": [
    "> **Proposición: Propiedades del tensor de Faraday.**<a id=''></a> El tensor de Faraday tiene las siguientes propiedades:\n",
    "\n",
    "> - **Antisimetría**: $F^{\\mu\\nu}=-F^{\\nu\\mu}$\n",
    "> - **Traza nula**: $\\sum_\\mu F^{\\mu\\mu}=0$\n",
    "> - **Propiedad cíclica de la derivada contravariante**: \n",
    "    $$\\partial^{[\\alpha}F^{\\mu\\nu]}\\equiv\\partial^\\alpha F^{\\mu\\nu}+\\partial^\\mu F^{\\nu\\alpha}+\\partial^\\nu F^{\\alpha\\mu}=0$$\n",
    "> - **Determinante invariante**: $\\det F^{\\mu\\nu}=(\\vec E\\cdot \\vec B)^2$\n",
    "> - **Escalar**: $F^{\\mu\\nu}F_{\\mu\\nu}=2(E^2-B^2)$."
   ]
  },
  {
   "cell_type": "markdown",
   "metadata": {},
   "source": [
    "### 4.16.6. Ecuaciones de Maxwell y el tensor de Faraday\n",
    "<a id='maxwell_faraday'></a>"
   ]
  },
  {
   "cell_type": "markdown",
   "metadata": {},
   "source": [
    "Las ecuaciones de Maxwell inhomogenéas las habíamos escrito como:\n",
    "\n",
    "$$\n",
    "\\partial_\\nu \\partial^\\mu A^\\nu = \\frac{4\\pi}{c} J^\\nu\n",
    "$$"
   ]
  },
  {
   "cell_type": "markdown",
   "metadata": {},
   "source": [
    "Podemos sumar y restar $\\partial_\\mu\\partial^\\nu A^\\mu$ para obtener:\n",
    "\n",
    "$$\n",
    "\\partial_\\mu(\\partial^\\mu A^\\nu-\\partial^\\nu A^\\mu)+ \\partial_\\mu \\partial^\\nu A^\\mu= \\frac{4\\pi}{c} J^\\nu\n",
    "$$"
   ]
  },
  {
   "cell_type": "markdown",
   "metadata": {},
   "source": [
    "Ahora bien, por el gauge de Lorenz:\n",
    "\n",
    "$$\n",
    "\\frac{1}{c}\\frac{\\partial\\phi}{\\partial t}+\\vec{\\nabla}\\cdot\\vec{A}=\\partial_\\mu A^\\mu \n",
    "$$\n",
    "y por lo tanto el segundo término en el lado izquierdo es cero."
   ]
  },
  {
   "cell_type": "markdown",
   "metadata": {},
   "source": [
    "Con esto las ecuaciones de Maxwell inhomogeneas se pueden escribir en términos del tensor de Faraday como:\n",
    "\n",
    "$$\n",
    "{F^{\\mu\\nu}}_{,\\mu}=\\frac{4\\pi}{c}J^\\nu\n",
    "$$"
   ]
  },
  {
   "cell_type": "markdown",
   "metadata": {},
   "source": [
    "Qué es la **forma manifiestamente covariante de las ecuaciones inhomogéneas de Maxwell**."
   ]
  },
  {
   "cell_type": "markdown",
   "metadata": {},
   "source": [
    "¿Y las ecuaciones de Maxwell homogéneas?.  Estas ecuaciones son:\n",
    "\n",
    "\\begin{eqnarray}\n",
    "\\nonumber\n",
    "\\vec{\\nabla}\\cdot\\vec{B}&=&0\\\\\n",
    "\\nonumber\n",
    "\\vec{\\nabla}\\times\\vec{E}+\\frac{1}{c}\\frac{\\partial\\vec B}{\\partial t}&=&0\\\\\n",
    "\\end{eqnarray}"
   ]
  },
  {
   "cell_type": "markdown",
   "metadata": {},
   "source": [
    "Vemos que se trata de 4 ecuaciones que se pueden escribir también en la forma:\n",
    "\n",
    "$$\n",
    "\\begin{array}{rcl}\n",
    "\\partial_1 B_x + \\partial_2 B_y + \\partial_3 B_z & = & 0 \\\\\n",
    "\\partial_0 B_x + \\partial_2 E_z - \\partial_3 E_y & = & 0 \\\\\n",
    "\\partial_0 B_y + \\partial_3 E_x - \\partial_1 E_z & = & 0 \\\\\n",
    "\\partial_0 B_z + \\partial_1 E_y - \\partial_2 E_x & = & 0 \\\\\n",
    "\\end{array}\n",
    "$$"
   ]
  },
  {
   "cell_type": "markdown",
   "metadata": {},
   "source": [
    "Reemplazando los valores del campo por las respectivas entradas del vector de Faraday estas ecuaciones se pueden escribir como:\n",
    "\n",
    "$$\n",
    "\\begin{array}{rcl}\n",
    "\\partial_1 F^{32} + \\partial_2 F^{13} + \\partial_3 F^{21} & = & 0 \\\\\n",
    "\\partial_0 F^{32} + \\partial_2 F^{30} - \\partial_3 F^{20} & = & 0 \\\\\n",
    "\\partial_0 F^{13} + \\partial_3 F^{10} - \\partial_1 F^{30} & = & 0 \\\\\n",
    "\\partial_0 F^{21} + \\partial_1 F^{20} - \\partial_2 F^{10} & = & 0 \\\\\n",
    "\\end{array}\n",
    "$$"
   ]
  },
  {
   "cell_type": "markdown",
   "metadata": {},
   "source": [
    "Si se cambian las derivadas covariantes por derivadas contravariantes y se reorganizan los índices, se obtienen expresiones que recuerdan una propiedad introducida antes:\n",
    "\n",
    "$$\n",
    "\\begin{array}{rcl}\n",
    "\\partial^1 F^{23} + \\partial^2 F^{31} + \\partial^3 F^{12} & = & 0 \\\\\n",
    "\\partial^0 F^{32} + \\partial^3 F^{20} + \\partial^2 F^{03} & = & 0 \\\\\n",
    "\\partial^0 F^{13} + \\partial^1 F^{30} + \\partial^3 F^{10} & = & 0 \\\\\n",
    "\\partial^0 F^{21} + \\partial^2 F^{10} + \\partial^1 F^{02} & = & 0 \\\\\n",
    "\\end{array}\n",
    "$$\n",
    "que no son otra cosa que la propiedad cíclica de la derivada contravariante del tensor de Faraday:\n",
    "\n",
    "$$\n",
    "\\partial^{[\\alpha}F^{\\mu\\nu]}=0\n",
    "$$"
   ]
  },
  {
   "cell_type": "markdown",
   "metadata": {},
   "source": [
    "### 4.16.7. Transformación de los campos\n",
    "<a id='transformacion_campos'></a>"
   ]
  },
  {
   "cell_type": "markdown",
   "metadata": {},
   "source": [
    "Llegados a este punto podemos encontrar las leyes de transformación de los campos eléctricos y magnético."
   ]
  },
  {
   "cell_type": "markdown",
   "metadata": {},
   "source": [
    "Siendo el tensor de Faraday, un tensor, al pasar de un sistema de referencia inercial a otro  a través de las transformaciones de Lorentz-Einstein $\\Lambda^{\\mu'}_\\nu$ el tensor transforma como:\n",
    "\n",
    "$$\n",
    "F^{\\mu'\\nu'}=\\Lambda^{\\mu'}_\\alpha \\Lambda^{\\nu'}_\\beta F^{\\alpha\\beta}\n",
    "$$"
   ]
  },
  {
   "cell_type": "markdown",
   "metadata": {},
   "source": [
    "¿Cómo puede calcularse esta operación matricialmente? El producto de dos matrices $A$ y $B$ se puede escribir como:\n",
    "\n",
    "$$\n",
    "(AB)_{ij}=\\sum_n A_{in}B_{nj}\n",
    "$$"
   ]
  },
  {
   "cell_type": "markdown",
   "metadata": {},
   "source": [
    "Si definimos la matriz $\\bar{F}$ como:\n",
    "\n",
    "$$\n",
    "\\bar{F}^{\\mu'\\beta}=\\sum_\\alpha \\Lambda^{\\mu'}_\\alpha F^{\\alpha\\beta}\n",
    "$$\n",
    "o bien:\n",
    "\n",
    "$$\n",
    "\\bar{F} = \\Lambda F\n",
    "$$"
   ]
  },
  {
   "cell_type": "markdown",
   "metadata": {},
   "source": [
    "Entonces:\n",
    "\n",
    "$$\n",
    "F^{\\mu'\\nu'}=\\bar{F}^{\\mu'\\beta} \\Lambda^{\\nu'}_\\beta \n",
    "$$"
   ]
  },
  {
   "cell_type": "markdown",
   "metadata": {},
   "source": [
    "Por la simetría de la transformación de Lorentz-Einstein:\n",
    "\n",
    "$$\n",
    "F^{\\mu'\\nu'}=\\bar{F}^{\\mu'\\beta} (\\Lambda^\\mathrm{T})^{\\beta}_{\\nu'} \n",
    "$$\n",
    "que en términos matriciales se puede escribir como:\n",
    "\n",
    "$$\n",
    "F'=\\Lambda F \\Lambda^\\mathrm{T}\n",
    "$$"
   ]
  },
  {
   "cell_type": "markdown",
   "metadata": {},
   "source": [
    "Así es como transforman las componentes de un tensor de segundo rango."
   ]
  },
  {
   "cell_type": "markdown",
   "metadata": {},
   "source": [
    "Si usamos la configuración estándar:\n",
    "\n",
    "$$\n",
    "\\Lambda=\n",
    "\\gamma\n",
    "\\left(\n",
    "\\begin{array}{cccc}\n",
    "1 & -u_L & 0 & 0 \\\\\n",
    "-u_L & 1 & 0 & 0 \\\\\n",
    "0 & 0 & 1 & 0\\\\\n",
    "0 & 0 & 0 & 1\n",
    "\\end{array}\n",
    "\\right)\n",
    "$$\n",
    "puede probarse (ver Problemas al final del capítulo) que las reglas de transformación de los campos eléctricos se pueden escribir como:\n",
    "\n",
    "$$\n",
    "\\begin{array}{rcl}\n",
    "E'_x & = & E_x\\\\\n",
    "E'_y & = & \\gamma(E_y - u_L B_z)\\\\\n",
    "E'_z & = & \\gamma(E_z - u_L B_y)\\\\\n",
    "\\end{array}\n",
    "$$"
   ]
  },
  {
   "cell_type": "markdown",
   "metadata": {},
   "source": [
    "Y las del campo magnético:\n",
    "\n",
    "$$\n",
    "\\begin{array}{rcl}\n",
    "B'_x & = & B_x\\\\\n",
    "B'_y & = & \\gamma(B_y + u_L E_z)\\\\\n",
    "B'_z & = & \\gamma(B_z - u_L E_y)\\\\\n",
    "\\end{array}\n",
    "$$"
   ]
  },
  {
   "cell_type": "markdown",
   "metadata": {},
   "source": [
    "Las componentes $E_y$ y $B_z$ de esta transformación coinciden con las que habíamos obtenido en la deducción de las transformaciones de Lorentz-Einstein, con lo que la teoría es completamente consistente."
   ]
  },
  {
   "cell_type": "markdown",
   "metadata": {},
   "source": [
    "Es posible mostrar que para una configuración general, la transformación de los campos sería:\n",
    "\n",
    "$$\n",
    "\\begin{array}{rcl}\n",
    "\\vec{E} & = & \\vec{E}' + (\\gamma-1)\\vec{E}_\\perp - \\gamma \\vec{u}_L\\times\\vec B\\\\\n",
    "\\vec{B} & = & \\vec{B}' + (\\gamma-1)\\vec{B}_\\perp + \\gamma \\vec{u}_L\\times\\vec E\\\\\n",
    "\\end{array}\n",
    "$$\n",
    "donde $\\vec{E}_\\perp$ y  $\\vec{B}_\\perp$ son los vectores de campo eléctrico y magnético perpendiculares a la velocidad relativa del sistema de referencia."
   ]
  },
  {
   "cell_type": "markdown",
   "metadata": {},
   "source": [
    "### 4.16.8. La fuerza de Lorentz\n",
    "<a id='fuerza_lorentz_covariante'></a>"
   ]
  },
  {
   "cell_type": "markdown",
   "metadata": {},
   "source": [
    "Si bien en la teoría electromagnética clásica, la fuerza de Lorentz se postula, en realidad esta resultad de las transformaciones del tensor de Faraday que vimos en la sección anterior."
   ]
  },
  {
   "cell_type": "markdown",
   "metadata": {},
   "source": [
    "Para ello considere por ejemplo el caso de una carga que se mueve en un campo magnético estático $\\vec B$.  En el sistema de referencia de la carga ($\\vec{u}_L=\\vec{v}_L$):\n",
    "\n",
    "$$\n",
    "\\vec{E}' = \\gamma_v \\vec{v}_L\\times\\vec B\\\\\n",
    "$$\n",
    "y si postulamos que la fuerza es simplemente $\\vec F'=q\\vec E'$ la fuerza será:\n",
    "\n",
    "$$\n",
    "\\vec{F}' = \\gamma_v q \\vec{v}_L\\times\\vec B\\\\\n",
    "$$"
   ]
  },
  {
   "cell_type": "markdown",
   "metadata": {},
   "source": [
    "Ahora bien, sabemos de las reglas de transformación de la fuerza que la componente perpendicular transforma como:\n",
    "\n",
    "$$\n",
    "\\vec F_\\perp = \\frac{\\gamma_u^{-1}}{1+\\vec{u}_l\\cdot\\vec{v}'_L} F'_\\perp\n",
    "$$"
   ]
  },
  {
   "cell_type": "markdown",
   "metadata": {},
   "source": [
    "Dado que en el sistema de referencia de la carga $\\vec v'_L=\\vec o$ y que $\\vec u_L=\\vec v_L$ la fuerza sobre la carga en el sistema de referencia del observador será:\n",
    "\n",
    "$$\n",
    "\\vec F=q \\vec{v}_L\\times\\vec B\\\\\n",
    "$$"
   ]
  },
  {
   "cell_type": "markdown",
   "metadata": {},
   "source": [
    "Si además hay un campo eléctrico en el sistema del observador (donde la partícula se mueve) la fuerza será entonces:\n",
    "\n",
    "$$\n",
    "\\vec F = q \\vec E + \\frac{1}{c}q\\vec{v}\\times \\vec B\n",
    "$$"
   ]
  },
  {
   "cell_type": "markdown",
   "metadata": {
    "label": "",
    "subtitle": "La fuerza de Lorentz y la rotación del campo de Faraday",
    "tags": [
     "box_definition"
    ],
    "title": "Nota"
   },
   "source": [
    "> **Nota 5.16. La fuerza de Lorentz y la rotación del campo de Faraday.**<a id=''></a> Una manera e interpretar el resultado anterior y el origen en general de la fuerza de Lorentz podría ser la de pensar de la siguiente manera.  El campo de Faraday cuando solo hay campo magnético tiene solo componentes espaciales.  Cuando una carga eléctrica está en movimiento es como si el campo de Faraday se rotará.  Al rotarse aparecen componentes temporales del campo de Faraday que la carga percibe como campo eléctrico y de allí que experimente una fuerza. "
   ]
  },
  {
   "cell_type": "markdown",
   "metadata": {},
   "source": [
    "Escribiendo explícitamente la componente $x$ queda:\n",
    "\n",
    "$$\n",
    "\\frac{\\mathrm{d}p_x}{\\mathrm{d}t}=\\frac{q}{c} (cE_x + v_y B_z - v_z B_y)\n",
    "$$"
   ]
  },
  {
   "cell_type": "markdown",
   "metadata": {},
   "source": [
    "Multiplicando por $\\gamma$ a ambos lados podemos escribir:\n",
    "\n",
    "$$\n",
    "\\frac{\\mathrm{d}P^1}{\\mathrm{d}\\tau}=\\frac{q}{c} (U^0 F^{10} - U^2 F^{12} - U^3 F^{13})\n",
    "$$"
   ]
  },
  {
   "cell_type": "markdown",
   "metadata": {},
   "source": [
    "De donde podemos proponer la generalización para calcular la cuadrifuerza:\n",
    "\n",
    "$$\n",
    "f^\\mu=\\frac{q}{c}F^{\\mu\\nu}U_\\nu\n",
    "$$\n",
    "que llevada a un conjunto de cargas se puede escribir como:\n",
    "\n",
    "$$\n",
    "K^\\mu=F^{\\mu\\nu}J_\\nu\n",
    "$$\n",
    "donde en esta última expresión $K^\\mu$ representa una densidad de fuerza (fuerza por unidad de volumen)."
   ]
  },
  {
   "cell_type": "markdown",
   "metadata": {
    "label": "",
    "subtitle": "La componente temporal de la fuerza de Lorentz",
    "tags": [
     "box_note"
    ],
    "title": "Nota"
   },
   "source": [
    "> **Nota: La componente temporal de la fuerza de Lorentz.**<a id=''></a> La generalización presentada en el párrafo anterior apareció simplemente como un ejercicio de inducción, pero no lo es estrictamente.  Si bien las componentes espaciales de la cuadrifuerza siquen la misma regla:\n",
    "\n",
    "> $$f^i=\\frac{q}{c}F^{i\\nu}U_\\nu$$\n",
    "> la componente temporal no tiene porque seguirla.  ¿De dónde viene la idea de que podemos generalizarla a esta componente.  Hagamos el ejercicio uinverso e intentemos determinar en términos de cantidaes convencionales que significa esta componente:\n",
    "\n",
    "> $$f^0=\\frac{q}{c}F^{0\\nu}U_\\nu=\\frac{q}{c}(F^{01} U_1+F^{02} U_2+F^{03} U_3$$\n",
    "\n",
    "> Si recordamos que $E^i=-F^{i0}$ y $U_i=-U^i$ entonces:\n",
    "\n",
    "> $$f^0=\\gamma\\frac{q}{c}\\vec E\\cdot \\vec v$$\n",
    "> en unidades luz y reconociendo que la trifuerza experimentada por una carga en presencia de un campo eléctrico es $\\vec F=q\\vec E$ obtenemos:\n",
    "\n",
    "> $$f_L^0=\\gamma\\vec F\\cdot \\vec v_L$$\n",
    "> que es justamente lo que sabíamos sobre la componente temporal de la fuerza.  Es decir la componente temporal de la fuerza de Lorentz no es otra cosa que la componente temporal de la cuadrifuerza de un campo eléctrico.  \n",
    "\n",
    "> Ahora bien, sabemos también que $f_L^0=\\mathrm{d}E/\\mathrm{d}t$, siendo $E$ en este contexto, la energía total de la partícula.  De allí que la componente cero de la fuerza de Lorentz es simplemente la potencia de la fuerza de Lorentz, la tasa a la cual se transfiere o remueve energía de la partícula. "
   ]
  },
  {
   "cell_type": "markdown",
   "metadata": {},
   "source": [
    "### 4.16.9. Intrepretación geométrica del campo de Faraday\n",
    "<a id='geometria_F'></a>"
   ]
  },
  {
   "cell_type": "markdown",
   "metadata": {},
   "source": [
    "Uno de los aspectos más oscuros de la teoría electromagnética es la interpretación intuitiva de cada una de las cantidades relevantes de la teoría.  Si bien la interpretación de los campos es relativamente directa, están asociados con las fuerzas que experimentan partículas y corrientes eléctricas en presencia de ellos, la interpretación de los potenciales es un poco más complicada."
   ]
  },
  {
   "cell_type": "markdown",
   "metadata": {},
   "source": [
    "Si eso pasa con la electrodinámica vectorial en tres dimensiones, la electrodinámica covariante en cuatro dimensiones no es menos sencilla. "
   ]
  },
  {
   "cell_type": "markdown",
   "metadata": {},
   "source": [
    "La fuerza de Lorentz sin embargo nos ofrece un raro vistazo a la geometría del tensor de Faraday en 4 dimensiones.  Para entenderlo mejor podemos apelar a una cantidad clásica: **el tensor de esfuerzos $\\sigma_{ij}$**."
   ]
  },
  {
   "cell_type": "markdown",
   "metadata": {},
   "source": [
    "<a id='fig:tensor_esfuerzos'></a>![Tensor de esfuerzos.++t!++0.7++\\label{fig:tensor_esfuerzos}](./figures/square_tensor_esfuerzos.png)\n",
    "\n",
    "<center><b>Figura 4.26</b>. Tensor de esfuerzos.</center>"
   ]
  },
  {
   "cell_type": "markdown",
   "metadata": {
    "label": "",
    "subtitle": "Tensor de esfuerzos",
    "tags": [
     "box_note"
    ],
    "title": "Definición"
   },
   "source": [
    "> **Definición: Tensor de esfuerzos.**<a id=''></a> El tensor de esfuerzos es una cantidad clásica usada en la mecánica del continuo para calcular la *tracción* producida en cualquier punto dentro de un sólido por el material vecino.  La tracción $\\vec{T}^{(\\hat{n})}$ se define como la fuerza por unidad de área que experimenta el elemento de sólido en dirección de una superficie imaginaria  definida por el vector $\\hat{n}$.  La tracción viene dada en términos del tensor de esfuerzos $\\sigma_{ij}$ por el producto punto:\n",
    "\n",
    "> $$\\vec{T}^{(\\hat{n})}:\\left(\\sum_i n_i \\sigma_{i1},\\sum_i n_i \\sigma_{i2},\\sum_i n_i \\sigma_{i3}\\right)\\equiv \\hat{n}\\cdot \\sigma$$"
   ]
  },
  {
   "cell_type": "markdown",
   "metadata": {},
   "source": [
    "La característica más interesante y relevante para nuestra discusión es que el producto punto de un vector (dirección) y un tensor de segundo rango (tensor de esfuerzos) produce un vector (tracción)."
   ]
  },
  {
   "cell_type": "markdown",
   "metadata": {},
   "source": [
    "Particularmente interesantes son las componentes de la tracción en dirección de los vectores coordenados:\n",
    "\n",
    "$$\n",
    "\\begin{array}{rcl}\n",
    "\\vec{T}^{(e_1)} & : & (\\sigma_{11},\\sigma_{12},\\sigma_{13})\\\\\n",
    "\\vec{T}^{(e_2)} & : & (\\sigma_{21},\\sigma_{22},\\sigma_{23})\\\\\n",
    "\\vec{T}^{(e_2)} & : & (\\sigma_{31},\\sigma_{32},\\sigma_{33})\n",
    "\\end{array}\n",
    "$$"
   ]
  },
  {
   "cell_type": "markdown",
   "metadata": {},
   "source": [
    "Escrito de esta manera, nos damos cuenta que las componentes del tensor de esfuerzo en la base $\\hat{e}_1, \\hat{e}_2, \\hat{e}_3$ no son otra cosa que las componentes de las tracciones sobre la superficie en cada una de las direcciones.  Esto le da una interpretación geométrica concreta a la tracción."
   ]
  },
  {
   "cell_type": "markdown",
   "metadata": {},
   "source": [
    "Con el tensor de Faraday sucede una situación similar.  La cuadrifuerza de Lorentz $f^\\mu$ juega aquí el papel de la tracción y el tensor de Faraday es como el tensor de esfuerzos:\n",
    "\n",
    "$$\n",
    "f_L^\\mu= q F^{\\mu\\nu} U_{L\\nu}\n",
    "$$"
   ]
  },
  {
   "cell_type": "markdown",
   "metadata": {},
   "source": [
    "De modo que uno puede ver las componentes del tensor de Faraday como los factores por los que hace falta multiplicar la velocidad para obtener las componentes de la cuadrifuerza sobre la partícula.  En otros términos, del tensor de Faraday:\n",
    "\n",
    "$$\n",
    "F^{\\mu\\nu}:\n",
    "\\left(\n",
    "\\begin{array}{cccc}\n",
    "0 & -E_x & -E_y & -E_z\\\\\n",
    "E_x & 0 & -B_z & +B_y \\\\\n",
    "E_y & +B_z & 0 & -B_x \\\\\n",
    "E_z & -B_y & +B_x & 0 \\\\\n",
    "\\end{array}\n",
    "\\right)\n",
    "$$\n",
    "\n",
    "podemos pasar al cuadrivector de fuerza escrito de la forma:\n",
    "\n",
    "$$\n",
    "\\left(\n",
    "\\begin{array}{c}\n",
    "\\mathrm{d}E/\\mathrm{d}t\\\\\n",
    "F_{Lx}\\\\\n",
    "F_{Ly}\\\\\n",
    "F_{Lz}\n",
    "\\end{array}\n",
    "\\right)\n",
    "=\n",
    "q\n",
    "\\left(\n",
    "\\begin{array}{cccc}\n",
    "0 & (-v_{Lx})(-E_x) & (-v_{Ly})(-E_y) & (-v_{Lz})(-E_z)\\\\\n",
    "E_x & 0 & (-v_{Ly})(-B_z) & +(-v_{Lz})B_y \\\\\n",
    "E_y & +(-v_{Lx})B_z & 0 & (-v_{Lz})(-B_x) \\\\\n",
    "E_z & (-v_{Lx})(-B_{Ly}) & +(-v_{Ly})B_x & 0 \\\\\n",
    "\\end{array}\n",
    "\\right)\n",
    "$$\n",
    "donde asumimos que sumamos sobre las filas de la matriz anterior (abusando de la notación). "
   ]
  },
  {
   "cell_type": "markdown",
   "metadata": {},
   "source": [
    "Es decir, las filas del tensor de Faraday nos dan una idea de cuánto vale la fuerza electromagnética en una determinada dirección."
   ]
  },
  {
   "cell_type": "markdown",
   "metadata": {},
   "source": [
    "Ahora bien.  Si hacemos por ejemplo $\\vec v:(v_x,0,0)$, la fuerza de Lorentz queda:\n",
    "\n",
    "$$\n",
    "\\left(\n",
    "\\begin{array}{c}\n",
    "\\mathrm{d}E/\\mathrm{d}t\\\\\n",
    "F_{Lx}\\\\\n",
    "F_{Ly}\\\\\n",
    "F_{Lz}\n",
    "\\end{array}\n",
    "\\right)\n",
    "=\n",
    "q\n",
    "\\left(\n",
    "\\begin{array}{c}\n",
    "0 + v_x E_x \\\\\n",
    "E_x + 0 \\\\\n",
    "E_y - v_x B_z \\\\\n",
    "E_z + v_x B_y \\\\\n",
    "\\end{array}\n",
    "\\right)\n",
    "$$"
   ]
  },
  {
   "cell_type": "markdown",
   "metadata": {},
   "source": [
    "Es decir, si se proyecta el vector de Faraday sobre una dirección de la velocidad específica el negativo de la columna de correspondiente a la velocidad nos dará las componentes de la fuerza espacial magnética experimentada por la partícula.  Es como si la proyección espacial del tensor de Faraday produjera las fuerzas magnéticas. "
   ]
  },
  {
   "cell_type": "markdown",
   "metadata": {},
   "source": [
    "Por otro lado si la partícula esta quieta $U_L^\\mu:(1,0,0,0)$ entonces:\n",
    "\n",
    "$$\n",
    "\\left(\n",
    "\\begin{array}{c}\n",
    "\\mathrm{d}E/\\mathrm{d}t\\\\\n",
    "F_{Lx}\\\\\n",
    "F_{Ly}\\\\\n",
    "F_{Lz}\n",
    "\\end{array}\n",
    "\\right)\n",
    "=\n",
    "q\n",
    "\\left(\n",
    "\\begin{array}{c}\n",
    "0 \\\\\n",
    "E_x  \\\\\n",
    "E_y  \\\\\n",
    "E_z  \\\\\n",
    "\\end{array}\n",
    "\\right)\n",
    "$$\n",
    "de modo que podríamos interpretar la proyección temporal del vector de Faraday como relacionada con la fuerza eléctrica experimentada por la partícula."
   ]
  },
  {
   "cell_type": "markdown",
   "metadata": {},
   "source": [
    "### 4.16.1. Síntesis\n",
    "<a id='sintesis'></a>"
   ]
  },
  {
   "cell_type": "markdown",
   "metadata": {},
   "source": [
    "En síntesis la dinámica de cargas y campos electromagnéticos clásicos se describen con:\n",
    "\n",
    "\\begin{eqnarray}\n",
    "F^{[\\mu\\nu,\\alpha]} & = & 0\\\\\n",
    "{F^{\\mu\\nu}}_{,\\mu} & = & \\frac{4\\pi}{c}J^\\mu\\\\\n",
    "{J^\\mu}_{,\\nu} & = & 0\\\\\n",
    "f^\\mu & = & F^{\\mu\\nu} J_\\nu\n",
    "\\end{eqnarray}\n",
    "\n",
    "donde $F^{\\mu\\nu}\\equiv\\partial^\\mu A^\\nu-\\partial^\\nu A^\\mu$ y el cuadripotencial cumple ${A^\\mu}_{,\\mu}=0$ (gauge de Lorenz)."
   ]
  },
  {
   "cell_type": "markdown",
   "metadata": {
    "tags": [
     "navigation"
    ]
   },
   "source": [
    "[Indice](index.ipynb) | Previo: [RelatividadEspecial.Electrodinamica.CuadriCorrientePotencial](04.08.02.00.RelatividadEspecial.Electrodinamica.CuadriCorrientePotencial.ipynb) | Siguiente: [RelatividadEspecial.Electrodinamica.Ejemplos](04.08.04.00.RelatividadEspecial.Electrodinamica.Ejemplos.ipynb)"
   ]
  }
 ],
 "metadata": {
  "celltoolbar": "Tags",
  "kernelspec": {
   "display_name": "Python 3",
   "language": "python",
   "name": "python3"
  },
  "language_info": {
   "codemirror_mode": {
    "name": "ipython",
    "version": 3
   },
   "file_extension": ".py",
   "mimetype": "text/x-python",
   "name": "python",
   "nbconvert_exporter": "python",
   "pygments_lexer": "ipython3",
   "version": "3.6.8"
  }
 },
 "nbformat": 4,
 "nbformat_minor": 2
}
