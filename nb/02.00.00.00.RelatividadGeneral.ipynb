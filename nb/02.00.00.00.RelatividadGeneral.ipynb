{
 "cells": [
  {
   "cell_type": "markdown",
   "metadata": {
    "tags": [
     "navigation"
    ]
   },
   "source": [
    "[Indice](index.ipynb) | Previo: [RelatividadEspecial.ProblemasSeleccionados](01.09.00.00.RelatividadEspecial.ProblemasSeleccionados.ipynb) | Siguiente: [RelatividadGeneral.PostuladosBasicos](02.01.00.00.RelatividadGeneral.PostuladosBasicos.ipynb)"
   ]
  },
  {
   "cell_type": "markdown",
   "metadata": {},
   "source": [
    "# 2. Relatividad General\n",
    "<a id='relatividad_general'></a>"
   ]
  },
  {
   "cell_type": "markdown",
   "metadata": {
    "label": "",
    "tags": [
     "box_summary"
    ]
   },
   "source": [
    "> **Resumen**: Este capítulo esta dedicado a la Relatividad general."
   ]
  },
  {
   "cell_type": "markdown",
   "metadata": {},
   "source": [
    "## 2.1. Motivación\n",
    "<a id='rgeneral_motivacion'></a>"
   ]
  },
  {
   "cell_type": "markdown",
   "metadata": {},
   "source": [
    "Históricamente la relatividad general surgió como un esfuerzo del propio Albert Einstein (ahora en solitario) para construir una teoría mucho más general de la relatividad en la que pudiera extender su principio de covariancia para incluir otros observadores diferentes a los observadores inerciales.  En el proceso formuló y desarrollo las consecuencias de lo que se conoce hoy como el **principio de covarianza general**. "
   ]
  },
  {
   "cell_type": "markdown",
   "metadata": {},
   "source": [
    "Conseguir esto no sería sin embargo fácil para Einstein.  De un lado las matemáticas necesarias para abordar el problema más general de la relatividad no serían tan sencillas como las que usa la relatividad especial (álbebra y cálculo diferencial e integral esencialmente).  Del otro lado, Einstein nunca previó que en su búsqueda se toparía con una nueva teoría del fenómeno gravitacional, que fue finalmente por lo que termino conociéndose la teoría resultante."
   ]
  },
  {
   "cell_type": "markdown",
   "metadata": {},
   "source": [
    "En términos generales, entonces, la **teoría general de la relatividad** es:\n",
    "\n",
    "- Una teoría sobre las **transformaciones generales de coordenadas** necesarias para relacionar las cantidades registradas por observadores inerciales y no inerciales.  En este aspecto la teoría es realmente una *generalización* de la primera parte de la teoría, que por la misma razón tiene sentido llamar **teoría especial de la relatividad**.  En este aspecto la teoría no es mucho más que simplemente matemáticas en tanto las transformaciones generales de coordenadas son un problema más de matemáticas que un problema físico."
   ]
  },
  {
   "cell_type": "markdown",
   "metadata": {},
   "source": [
    "- Una **teoría fundamental sobre el fenómeno gravitatorio** algo que los filósofos y físicos de toda la historia habían buscado incansablemente desde el tiempo de Aristóteles.  .  Como hemos visto en secciones precedentes la fuerza gravitacional que esta en la base de la teoría gravitatoria de Newton no satisface los criterios de transformación de la teoría especial de la relatividad.  Es decir la fuerza gravitacional vista por un observador inercial no transforma con las reglas de Lorentz-Einstein y por lo tanto no puede ser un modelo fundamental del fenómeno.  La teoría general de la relatividad explica el origen de esos fenómenos, la tendencia de toda la materia a acercarse como si se atrayera, el movimiento particular de las partículas cerca a grandes cuerpos astronómicos - caída libre, movimiento orbital, etc. e incluso los efectos que la materia tienen sobre la propagación de la luz.  Según esta teoría la gravedad surge porque existe una relación íntima entre el contenido de energía del universo (masa, energía y momentum) y las propiedades geométricas del espacio-tiempo (curvatura).  La dinámica de la materia en ese espacio-tiempo distorsionado es lo que vemos como gravedad.  "
   ]
  },
  {
   "cell_type": "markdown",
   "metadata": {},
   "source": [
    "En este capítulo, que podríamos considerar apenas introductorio (las ramificaciones posibles de la teoría general de la relatividad son bastas), introduciremos los postulados y principios básicos que uso Einstein en su momento y que hoy todavía se usan para formular y construir la teoría general de la relatividad.  Partiendo de esos principios y de resultados matemáticos conocidos en el análisis tensorial y la geometría diferencial (de los que hemos ya tenido una inrtoducción en el capítulo anterior) deduciremos las principales ecuaciones que describen el fenómeno gravitatorio, desde la ecuación fundamental conocida como la ecuación de campo métrico de Einstein-Hilbert, hasta la ecuación de la geodésica."
   ]
  },
  {
   "cell_type": "markdown",
   "metadata": {},
   "source": [
    "Dejaremos para capítulos posteriores la aplicación concreta de estas ecuaciones que forman en sí mismo un cuerpo teórico importante dentro de la física teórica y la astrofísica contemporánea."
   ]
  },
  {
   "cell_type": "markdown",
   "metadata": {
    "tags": [
     "navigation"
    ]
   },
   "source": [
    "[Indice](index.ipynb) | Previo: [RelatividadEspecial.ProblemasSeleccionados](01.09.00.00.RelatividadEspecial.ProblemasSeleccionados.ipynb) | Siguiente: [RelatividadGeneral.PostuladosBasicos](02.01.00.00.RelatividadGeneral.PostuladosBasicos.ipynb)"
   ]
  }
 ],
 "metadata": {
  "celltoolbar": "Tags",
  "kernelspec": {
   "display_name": "Python 3",
   "language": "python",
   "name": "python3"
  },
  "language_info": {
   "codemirror_mode": {
    "name": "ipython",
    "version": 3
   },
   "file_extension": ".py",
   "mimetype": "text/x-python",
   "name": "python",
   "nbconvert_exporter": "python",
   "pygments_lexer": "ipython3",
   "version": "3.6.8"
  }
 },
 "nbformat": 4,
 "nbformat_minor": 2
}
