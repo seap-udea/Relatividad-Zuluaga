{
 "cells": [
  {
   "cell_type": "markdown",
   "metadata": {
    "tags": [
     "navigation"
    ]
   },
   "source": [
    "[Indice](index.ipynb) | Previo: [Aplicaciones.OndasGravitacionales.FuentesAstrofisicas](03.01.07.00.Aplicaciones.OndasGravitacionales.FuentesAstrofisicas.ipynb) | Siguiente: [Aplicaciones.AgujerosNegros.MetricaSchwarzschild](03.02.01.00.Aplicaciones.AgujerosNegros.MetricaSchwarzschild.ipynb)"
   ]
  },
  {
   "cell_type": "markdown",
   "metadata": {},
   "source": [
    "## 3.2. Agujeros negros\n",
    "<a id='agujeros_negros'></a>"
   ]
  },
  {
   "cell_type": "markdown",
   "metadata": {},
   "source": [
    "Los agujeros negros son una de las más soprendentes predicciones de la Relatividad General.  Su existencia fue primero predicha usando la teoría Newtoniana y solo hasta 1915 cuando fue publicada la primera solución analítica de la ecuación de campo la predicción no fue definitivamente confirmada por la teoría y se empezó a especular con su existencia."
   ]
  },
  {
   "cell_type": "markdown",
   "metadata": {},
   "source": [
    "### 3.2.1. Historia de los agujeros negros\n",
    "<a id='historia_an'></a>"
   ]
  },
  {
   "cell_type": "markdown",
   "metadata": {},
   "source": [
    "El primero en predecir la existencia de los agujeros negros o *estrellas negras* como se llamaron originalmente fue John Mitchel en 1784 <cite data-cite=\"Montgomery2009\"><a href=\"mybook.html#Montgomery2009\">(Montgomery et al., 2009)</a></cite> y luego por Pierre Simon de Laplace en 1796.  El argumento tanto de Mitchell como de Laplace se basaba en la velocidad de escape que según la teoría de Newton es:\n",
    "\n",
    "$$\n",
    "v_e=\\sqrt{\\frac{2GM}{R}}\n",
    "$$"
   ]
  },
  {
   "cell_type": "markdown",
   "metadata": {},
   "source": [
    "Lo que calcularon Mitchell y Laplace fue el tamaño que debería tener un objeto para que su velocidad de escape fuera la velocidad de la luz.  El resultado es trivial:\n",
    "\n",
    "$$\n",
    "R=\\frac{2GM}{c^2}\n",
    "$$"
   ]
  },
  {
   "cell_type": "markdown",
   "metadata": {},
   "source": [
    "Esta teoría era correcta en el contexto de la teoría corpuscular de la luz pero no en el modelo donde la luz era una onda."
   ]
  },
  {
   "cell_type": "markdown",
   "metadata": {},
   "source": [
    "En Noviembre de 1915 Einstein presenta su teoría de la Relatividad General (para una historia del proceso ver [esta entrada de blog](https://trinoceronte.wordpress.com/cronologia-de-un-milagro/)).  Unos meses después, ya en enero de 1916 Karl Schwarzschild le envía a Einstein unas notas de una solución analítica a la ecuación de campo.  Einstein se sorprende por la simplicidad de la solución <cite data-cite=\"Schwarzschild1916\"><a href=\"mybook.html#Schwarzschild1916\">(Schwarzschild, 1916)</a></cite>. "
   ]
  },
  {
   "cell_type": "markdown",
   "metadata": {},
   "source": [
    "<a id='fig:Figure_58'></a>![Karl Schwarzschild](./figures/vertical-schwarzschild.png)\n",
    "\n",
    "<center><b>Figura 3.58</b>. Karl Schwarzschild</center>"
   ]
  },
  {
   "cell_type": "markdown",
   "metadata": {},
   "source": [
    "En mayo de 1916 Johannes Droste un estudiante de Hendrik Lorentz presenta un artículo en donde redescubre la solución de Schwarzschild y deduce las propiedades y la fenomenología del espacio-tiempo alrededor de un agujero negro.  En particular Droste señala allí la existencia de una singularidad matemática que es la que conocemos como el radio de Schwarzschild."
   ]
  },
  {
   "cell_type": "markdown",
   "metadata": {},
   "source": [
    "En 1924 Arthur Eddington estudia en detalle la solución y encuentra que la singularidad desaparece con un cambio adecuado de coordenadas (coordenadas de Eddington-Finkelstein) y estudia las primeras posibilidades de que existieran objetos astrofísicos con estas propiedades."
   ]
  },
  {
   "cell_type": "markdown",
   "metadata": {},
   "source": [
    "En 1939 Robert Oppenhaimer estudia el colapso extremo de objetos muy densos e identifica el radio de Schwarzchild como una superficie de la que no escaparía la luz.  Llama a objetos hipotéticos de ese tipo *estrellas congeladas*."
   ]
  },
  {
   "cell_type": "markdown",
   "metadata": {},
   "source": [
    "En 1958 David Finkelstein introduce el concepto de *horizonte de eventos* mostrando que se trata de una frontera imaginaria que podría ser atravesada por un observador en caída libre si se escoge como sistema de coordenadas el de ese observador. "
   ]
  },
  {
   "cell_type": "markdown",
   "metadata": {},
   "source": [
    "En 1963 Roy Kerr encuentra la solución exacta a las ecuaciones de campo para un agujero negro rotante.  Más tare Ezra Newman descubre la solución axisimétrica de un agujero negro rotante y con carga eléctrica que hoy se conoce como la métrica de Kerr-Newman."
   ]
  },
  {
   "cell_type": "markdown",
   "metadata": {},
   "source": [
    "El término *Agujero Negro* fue acuñado en 1963 para un artículo divulgativo en la revista Life.  Otra historia indica que su origen se debe a John Wheeler después de una pregunta que le hizo un estudiante.  Oficialmente se considera a Wheeler el inventor del término."
   ]
  },
  {
   "cell_type": "markdown",
   "metadata": {},
   "source": [
    "El primer candidato a un agujero negro fue descubierto en 1972 por Charles Thomas Boltón en una binaria e rayos X conocida como Cygnus X-1.  "
   ]
  },
  {
   "cell_type": "markdown",
   "metadata": {},
   "source": [
    "Hoy las evidencias de la existencia de agujeros negros astrofísicos son abundantes:\n",
    "\n",
    "- Binarias de rayos X.\n",
    "- Agujero negro supermasivos en el centro de la galaxia.\n",
    "- Agujeros negros supermasivos en galaxias activas.\n",
    "- Agujeros negros binarios descubeiertos por su emisión de ondas gravitacionales."
   ]
  },
  {
   "cell_type": "markdown",
   "metadata": {},
   "source": [
    "En años recientes el área se ha visto enriquecida por varios descubrimientos muy relevantes."
   ]
  },
  {
   "cell_type": "markdown",
   "metadata": {},
   "source": [
    "La observación directa del movimiento de estrellas alrededor del agujero negro central de la vía Láctea."
   ]
  },
  {
   "cell_type": "markdown",
   "metadata": {},
   "source": [
    "La observación de los efectos de la relatividad general sobre la luz de estrellas que orbitan el agujeron negro central ."
   ]
  },
  {
   "cell_type": "markdown",
   "metadata": {},
   "source": [
    "La observación de la precesión de la órbita de una estrella."
   ]
  },
  {
   "cell_type": "markdown",
   "metadata": {},
   "source": [
    "La observación de más de 5 colisiones de agujeros negros binarios por su emisión de ondas gravitacionales por el consorcio LIGO."
   ]
  },
  {
   "cell_type": "markdown",
   "metadata": {},
   "source": [
    "La más espectacular que es la observación de alta resolución del disco de acreción alrededor del agujero negro supermasivo de M87 que fue realizada por el *Event Horizon Telescope* en 2019."
   ]
  },
  {
   "cell_type": "markdown",
   "metadata": {},
   "source": [
    "<a id='fig:Figure_59'></a>![Imagen del agujero negro supermasivo en el centro de la galaxia M87 obtenida por el *Event Horizon Telescope* el 10 de abril de 2019](./figures/square_agujero_negro_imagen.png)\n",
    "\n",
    "<center><b>Figura 3.59</b>. Imagen del agujero negro supermasivo en el centro de la galaxia M87 obtenida por el *Event Horizon Telescope* el 10 de abril de 2019</center>"
   ]
  },
  {
   "cell_type": "markdown",
   "metadata": {},
   "source": [
    "### 3.2.2. Un temario\n",
    "<a id='temario_an'></a>"
   ]
  },
  {
   "cell_type": "markdown",
   "metadata": {},
   "source": [
    "Estos son los temas que desarrollaremos en esta sección:\n",
    "\n",
    "- La solución de Schwarzschild.\n",
    "- Propiedades de la métrica de Schwarzschild.\n",
    "- Movimiento geodésico en la métrica de Schwarzschild.\n",
    "- Movimiento de la luz cerca al horizonte.\n",
    "- Las coordenadas de Kruskal-Szekeres.\n",
    "- Agujeros negros rotantes de Kerr.\n",
    "- Horizontes y la ergósfera."
   ]
  },
  {
   "cell_type": "markdown",
   "metadata": {
    "tags": [
     "navigation"
    ]
   },
   "source": [
    "[Indice](index.ipynb) | Previo: [Aplicaciones.OndasGravitacionales.FuentesAstrofisicas](03.01.07.00.Aplicaciones.OndasGravitacionales.FuentesAstrofisicas.ipynb) | Siguiente: [Aplicaciones.AgujerosNegros.MetricaSchwarzschild](03.02.01.00.Aplicaciones.AgujerosNegros.MetricaSchwarzschild.ipynb)"
   ]
  }
 ],
 "metadata": {
  "kernelspec": {
   "display_name": "Python 3",
   "language": "python",
   "name": "python3"
  },
  "language_info": {
   "codemirror_mode": {
    "name": "ipython",
    "version": 3
   },
   "file_extension": ".py",
   "mimetype": "text/x-python",
   "name": "python",
   "nbconvert_exporter": "python",
   "pygments_lexer": "ipython3",
   "version": "3.6.8"
  }
 },
 "nbformat": 4,
 "nbformat_minor": 2
}
