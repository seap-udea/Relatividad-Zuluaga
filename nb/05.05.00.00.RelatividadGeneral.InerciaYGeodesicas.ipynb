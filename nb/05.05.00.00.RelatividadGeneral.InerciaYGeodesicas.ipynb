{
 "cells": [
  {
   "cell_type": "markdown",
   "metadata": {
    "tags": [
     "navigation"
    ]
   },
   "source": [
    "[Indice](index.ipynb) | Previo: [RelatividadGeneral.Geodesicas](05.04.00.00.RelatividadGeneral.Geodesicas.ipynb) | "
   ]
  },
  {
   "cell_type": "markdown",
   "metadata": {},
   "source": [
    "## 5.5. La geodésica y un principio variacional\n",
    "<a id='geodesica_variacional'></a>"
   ]
  },
  {
   "cell_type": "markdown",
   "metadata": {},
   "source": [
    "Una deducción alternativa de la ecuación geodésica se puede obtener mediante un principio variacional. "
   ]
  },
  {
   "cell_type": "markdown",
   "metadata": {},
   "source": [
    "Sabemos que la longitud de un intervalo en el espacio-tiempo es:\n",
    "\n",
    "$$\n",
    "\\mathrm{d}s^2=g_{\\mu\\nu}\\mathrm{d}x^\\mu\\mathrm{d}x^\\nu\n",
    "$$"
   ]
  },
  {
   "cell_type": "markdown",
   "metadata": {},
   "source": [
    "La longitud entonces de una curva hecha solo de intervalos temporaloides o luminoides, entre dos eventos $A$ y $B$ será:\n",
    "\n",
    "$$\n",
    "S=\\int_A^B \\mathrm{d}s=\\int_A^B \\sqrt{g_{\\mu\\nu}(x^\\alpha)\\mathrm{d}x^\\mu\\mathrm{d}x^\\nu}\n",
    "$$\n",
    "donde $x^\\alpha$ son los puntos a lo largo de la trayectoria."
   ]
  },
  {
   "cell_type": "markdown",
   "metadata": {},
   "source": [
    "Si suponemos que parametrizamos los eventos en la trayectoria con un parámetro $\\lambda$, de modo que $x^\\alpha(\\lambda)$ esta espresión se puede escribir como:\n",
    "\n",
    "$$\n",
    "S=\\int_A^B\\sqrt{g_{\\mu\\nu}(x^\\alpha)\\frac{\\mathrm{d}x^\\mu}{\\mathrm{d}\\lambda}\\frac{\\mathrm{d}x^\\nu}{\\mathrm{d}\\lambda}}\\mathrm{d}\\lambda\n",
    "$$"
   ]
  },
  {
   "cell_type": "markdown",
   "metadata": {},
   "source": [
    "La geodésica entre los eventos $A$ y $B$ será aquella curva tal que la longitud total entre ellos es *extremal*:\n",
    "\n",
    "$$\n",
    "\\delta S=0\n",
    "$$"
   ]
  },
  {
   "cell_type": "markdown",
   "metadata": {},
   "source": [
    "El intervalo entre puntos de la geodésica lo llamaremos en lo sucesivo:\n",
    "\n",
    "$$\n",
    "\\mathrm{d}\\sigma^2\\equiv g_{\\mu\\nu}\\mathrm{d}x^\\mu\\mathrm{d}x^\\nu\n",
    "$$"
   ]
  },
  {
   "cell_type": "markdown",
   "metadata": {},
   "source": [
    "El problema de la determinación de la geodésica es similar al problema de la mecánica clásica de la determinación de la trayectoria real de un sistema en el espacio de configuración que tiene acción $S$ y lagrangiano $L$."
   ]
  },
  {
   "cell_type": "markdown",
   "metadata": {},
   "source": [
    "Aquí vemos que el papel de la acción $S$ de la mecánica clásica lo juega la longitud de arco y el papel del Lagrangiano lo juega la cantidad:\n",
    "\n",
    "$$\n",
    "L\\equiv\\sqrt{g_{\\mu\\nu}\\frac{\\mathrm{d}x^\\mu}{\\mathrm{d}\\lambda}\\frac{\\mathrm{d}x^\\nu}{\\mathrm{d}\\lambda}}\n",
    "$$"
   ]
  },
  {
   "cell_type": "markdown",
   "metadata": {},
   "source": [
    "Sobre la curva extremal, en general \n",
    "\n",
    "$$\\mathrm{d}\\sigma^2=D \\mathrm{d}\\lambda^2$$ \n",
    "donde $D$ es una constante."
   ]
  },
  {
   "cell_type": "markdown",
   "metadata": {},
   "source": [
    "Sabemos por el cálculo variacional que la condición variacional es equivalente a las ecuaciones de Euler:\n",
    "\n",
    "$$\n",
    "\\left.\\frac{\\mathrm{d}}{\\mathrm{d}\\lambda}\\left(\\frac{\\partial L}{\\partial \\dot x^\\alpha}\\right)-\\frac{\\partial L}{\\partial x^\\alpha}\\right|_{\\;\\lambda=\\sigma}=0\n",
    "$$\n",
    "donde por brevedad hemos escrito $\\dot x^\\alpha\\equiv\\mathrm{d}x^\\alpha/\\mathrm{d}\\lambda$ "
   ]
  },
  {
   "cell_type": "markdown",
   "metadata": {},
   "source": [
    "Puede probarse que la ecuación de Euler en este caso resulta igual a:\n",
    "\n",
    "$$\n",
    "\\frac{\\mathrm{d^2} x^\\mu}{\\mathrm{d}\\sigma^2} + \\Gamma^\\mu_{\\alpha\\gamma} \\frac{\\mathrm{d} x^\\alpha}{\\mathrm{d}\\sigma}\\frac{\\mathrm{d} x^\\gamma}{\\mathrm{d}\\sigma}=0\n",
    "$$\n",
    "que es justamente la ecuación de la geodésica."
   ]
  },
  {
   "cell_type": "markdown",
   "metadata": {},
   "source": [
    "Nótese que en realidad la ecuación de la geodésica puede escribirse en general como:\n",
    "\n",
    "$$\n",
    "\\frac{\\mathrm{d^2} x^\\mu}{\\mathrm{d}\\lambda^2} + \\Gamma^\\mu_{\\alpha\\gamma} \\frac{\\mathrm{d} x^\\alpha}{\\mathrm{d}\\lambda}\\frac{\\mathrm{d} x^\\gamma}{\\mathrm{d}\\lambda}=0\n",
    "$$\n",
    "que es independiente de si la geodésica es temporaloide o nula."
   ]
  },
  {
   "cell_type": "markdown",
   "metadata": {},
   "source": [
    "Para el caso de partículas con masa:\n",
    "\n",
    "$$\\mathrm{d}\\sigma^2=c^2 \\mathrm{d}\\tau^2$$ \n",
    "por lo tanto es posible usar como parámetro afin $\\lambda=\\tau$ de modo que para este caso:\n",
    "\n",
    "$$\n",
    "\\frac{\\mathrm{d^2} x^\\mu}{\\mathrm{d}\\tau^2} + \\Gamma^\\mu_{\\alpha\\gamma} \\frac{\\mathrm{d} x^\\alpha}{\\mathrm{d}\\tau}\\frac{\\mathrm{d} x^\\gamma}{\\mathrm{d}\\tau}=0\n",
    "$$"
   ]
  },
  {
   "cell_type": "markdown",
   "metadata": {
    "label": "",
    "subtitle": "La geodésica y el principio de máximo envejecimiento**. En el espacio Euclidiano o en otras variedades Riemanianas la geodésica representa la trayectoria de longitud mínima, el camino de menor distancia.  En un espacio Lorentziano, sin embargo, y como vimos en el capítulo de Relatividad Espacial, el camino entre dos puntos a lo largo de la geodésica es realmente el camino más largo.  A esto se lo conoce como el **principio de máximo envejecimiento",
    "tags": [
     "box_note"
    ],
    "title": "Nota"
   },
   "source": [
    "> **Nota: La geodésica y el principio de máximo envejecimiento**. En el espacio Euclidiano o en otras variedades Riemanianas la geodésica representa la trayectoria de longitud mínima, el camino de menor distancia.  En un espacio Lorentziano, sin embargo, y como vimos en el capítulo de Relatividad Espacial, el camino entre dos puntos a lo largo de la geodésica es realmente el camino más largo.  A esto se lo conoce como el **principio de máximo envejecimiento.**<a id=''></a> "
   ]
  },
  {
   "cell_type": "markdown",
   "metadata": {},
   "source": [
    "## 5.6. Geodésicas y movimiento inercial\n",
    "<a id='geodesicas_inercia'></a>"
   ]
  },
  {
   "cell_type": "markdown",
   "metadata": {},
   "source": [
    "La introducción en la sección anterior del concepto de geodésica conduce a la formulación de un principio físico nuevo en la relatividad general, a saber un principio de inercia generalizado:"
   ]
  },
  {
   "cell_type": "markdown",
   "metadata": {
    "label": "",
    "subtitle": "Postulado de las geodésicas",
    "tags": [
     "box_postulate"
    ],
    "title": "Postulado"
   },
   "source": [
    "> **Postulado: Postulado de las geodésicas.**<a id=''></a> Una partícula de prueba completamente libre de fuerzas, en un espacio tiempo general caracterizado por una métrica $g_{\\mu\\nu}$ y símbolos de Christoffel (coeficientes conexión) asociado $\\Gamma^{\\alpha}_{\\mu\\nu}$, se mueve sobre una geodésica en el espacio-tiempo:\n",
    "\n",
    "$$\n",
    "\\frac{\\mathrm{d^2} x^\\mu}{\\mathrm{d}\\lambda^2} + \\Gamma^\\mu_{\\alpha\\gamma} \\frac{\\mathrm{d} x^\\alpha}{\\mathrm{d}\\lambda}\\frac{\\mathrm{d} x^\\gamma}{\\mathrm{d}\\lambda}=0\n",
    "$$"
   ]
  },
  {
   "cell_type": "markdown",
   "metadata": {},
   "source": [
    "Es interesante anotar que el resultado anterior vale tanto si la partícula es masiva como si no lo es, es decir, aplica en el caso de la luz o de otras partículas de prueba.  La diferencia es que en el caso de una partícula masiva en la cual los intervalos son temporaloides, el parámetro afín puede identificarse con el tiempo propio y la ecuación geodésica adopta la forma general:\n",
    "\n",
    "$$\n",
    "\\frac{\\mathrm{d^2} x^\\mu}{\\mathrm{d}\\tau^2} + \\Gamma^\\mu_{\\alpha\\gamma} \\frac{\\mathrm{d} x^\\alpha}{\\mathrm{d}\\tau}\\frac{\\mathrm{d} x^\\gamma}{\\mathrm{d}\\tau}=0\n",
    "$$\n",
    "que ahora es una ecuación completamente física (todas las cantidades involucradas son físicas)."
   ]
  },
  {
   "cell_type": "markdown",
   "metadata": {},
   "source": [
    "Si despejamos $\\mathrm{d^2} x^\\mu/\\mathrm{d}\\tau^2$ obtenemos:\n",
    "\n",
    "$$\n",
    "\\frac{\\mathrm{d^2} x^\\mu}{\\mathrm{d}\\tau^2} = - \\Gamma^\\mu_{\\alpha\\gamma} \\frac{\\mathrm{d} x^\\alpha}{\\mathrm{d}\\tau}\\frac{\\mathrm{d} x^\\gamma}{\\mathrm{d}\\tau}\n",
    "$$\n"
   ]
  },
  {
   "cell_type": "markdown",
   "metadata": {},
   "source": [
    "Clásicamente se puede interpretar como que un cuerpo en un espacio-tiempo con métrica general, experimenta una aceleración incluso en la ausencia de fuerzas."
   ]
  },
  {
   "cell_type": "markdown",
   "metadata": {},
   "source": [
    "> **Nota: El principio que realmente es una proposición**. El principio de las geodésicas fue propuesto por Einstein como un elemento adicional físico a la relatividad general independiente de las ecuaciones de campo.  Sin embargo, en años posteriores, Einstein y otros colegas demostraron que en realidad este resultado es producto de una propiedad intrínseca de la relatividad, a saber, el teorema de continuidad (conservación de la energía) que puede expresarse matemáticamente como:\n",
    "\n",
    "> $${T^{\\mu\\nu}}_{;\\mu}=0$$\n",
    "> donde $T^{\\mu\\nu}$ es el tensor de esfuerzo-energía que introduciremos en una sección posterior."
   ]
  },
  {
   "cell_type": "markdown",
   "metadata": {},
   "source": [
    "## 5.7. Geodésicas en campo débil\n",
    "<a id='geodesicas_campo_debil'></a>"
   ]
  },
  {
   "cell_type": "markdown",
   "metadata": {},
   "source": [
    "Una de las más interesantes aplicaciones de la ecuación de la geodésica se obtiene al aplicarla a una situación en la que el campo gravitacional es poco intenso."
   ]
  },
  {
   "cell_type": "markdown",
   "metadata": {},
   "source": [
    "Hay dos cosas que desde el punto de vista de la relatividad caracterizan a un campo gravitacional débil:\n",
    "\n",
    "1. En movimiento geodésico en el campo, las velocidades espaciales conseguidas por las partículas son pequeñas, i.e. \n",
    "\n",
    "   $$\\frac{\\mathrm{d}x^i}{\\mathrm{d}\\tau}\\ll\\frac{\\mathrm{d}x^0}{\\mathrm{d}\\tau}$$\n",
    "   recordemos que en unidades luz la primera cantidad nos da la velocidad en unidades de la velocidad de la luz.  Por otro lado, en las mismas unidades la segunda cantidad nos da la diferencia entre el tiempo coordenado y el tiempo propio que en campo débil será casi idéntica.\n",
    "   \n",
    "2. En campo débil la métrica es aproximadamente igual a la métrica de Minkowski.  Podemos escribirla de la forma:\n",
    "\n",
    "   $$g_{\\mu\\nu}=\\eta_{\\mu\\nu}+h_{\\mu\\nu}$$\n",
    "   donde $|h_{\\mu\\nu}|\\ll 1$.  \n",
    "   \n",
    "   A esta forma de escribir la métrica se la llama *linearización* de la métrica y la usaremos más adelante para describir las ondas gravitacionales."
   ]
  },
  {
   "cell_type": "markdown",
   "metadata": {},
   "source": [
    "Nos interesa dedicir la ecuación de movimiento de un cuerpo en caída libre en el campo gravitacional, es decir la ecuación $\\mathrm{d}^2\\vec{r}/\\mathrm{d}t^2\\approx\\mathrm{d}^2 x^i/\\mathrm{d}\\tau^2$.  En lo sucesivo y para simplificar usaremos la notación de Newton:\n",
    "\n",
    "$$\n",
    "\\ddot{x}^\\mu\\equiv\\frac{\\mathrm{d}^2 x^\\mu}{\\mathrm{d}\\tau^2}\n",
    "$$\n",
    "entendiendo que el punto hace referencia a la derivada respecto del tiempo propio y no del tiempo coordenado."
   ]
  },
  {
   "cell_type": "markdown",
   "metadata": {},
   "source": [
    "En esta notación la ecuación geodésica nos queda:\n",
    "\n",
    "$$\n",
    "\\ddot{x}^\\mu = - \\Gamma^\\mu_{\\alpha\\gamma} \\dot{x}^\\alpha\\dot{x}^\\gamma\n",
    "$$"
   ]
  },
  {
   "cell_type": "markdown",
   "metadata": {},
   "source": [
    "Teniendo en cuenta la primera condición podemos escribir una versión aproximada de la ecuación para la componente espacial como:\n",
    "\n",
    "$$\n",
    "\\ddot{x}^\\mu = - \\Gamma^\\mu_{00} (\\dot{x}^0)^2\n",
    "$$"
   ]
  },
  {
   "cell_type": "markdown",
   "metadata": {},
   "source": [
    "Si usamos coordenadas ortogonales para la métrica, sabemos que:\n",
    "\n",
    "$$\n",
    "\\Gamma^\\mu_{00}=-\\frac{1}{2}g^{\\mu\\mu}g_{00,\\mu}\n",
    "$$"
   ]
  },
  {
   "cell_type": "markdown",
   "metadata": {},
   "source": [
    "Suponemos un campo estático, de modo que $\\Gamma^0_{00}=0$ de donde se sigue que sobre la geodésica, en las condiciones propuestas \n",
    "$$\\ddot{x}^0=0$$\n",
    "de donde integrando obtenemos:\n",
    "\n",
    "$$\n",
    "\\frac{\\mathrm{d} x^0}{\\mathrm{d}\\tau}=k\n",
    "$$\n",
    "donde $k$ es una constante de integración a lo largo de la geodésica. Es fácil ver que dado que:\n",
    "\n",
    "$$\n",
    "\\mathrm{d}\\sigma^2\\equiv g_{\\mu\\nu}\\mathrm{d}x^\\mu\\mathrm{d}x^\\nu\n",
    "$$\n",
    "entonces, bajo las aproximaciones podemos escribir, en unidades del sistema internacional:\n",
    "\n",
    "$$\n",
    "c^2\\approx\\left(\\frac{\\mathrm{d} x^0}{\\mathrm{d} \\tau}\\right)^2 \n",
    "$$\n",
    "que es exactamente el mismo resultado:\n",
    "\n",
    "$$\n",
    "\\dot{x}^0=c\n",
    "$$"
   ]
  },
  {
   "cell_type": "markdown",
   "metadata": {},
   "source": [
    "Volviendo a la ecuación de la geodésica, la componente temporal queda:\n",
    "\n",
    "$$\n",
    "\\ddot{x}^i = - c^2\\Gamma^i_{00} \n",
    "$$"
   ]
  },
  {
   "cell_type": "markdown",
   "metadata": {},
   "source": [
    "Usando la linearización de la métrica tenemos:\n",
    "\n",
    "$$\n",
    "\\Gamma^i_{00}=-\\frac{1}{2}\\eta^{ii}h_{00,i}=\\frac{1}{2}h_{00,i}\n",
    "$$"
   ]
  },
  {
   "cell_type": "markdown",
   "metadata": {},
   "source": [
    "De donde finalmente la ecuación de movimiento en campo gravitacional débil se puede escribir como:\n",
    "\n",
    "$$\n",
    "\\ddot{x}^i = - \\frac{c^2}{2}h_{00,i}\n",
    "$$"
   ]
  },
  {
   "cell_type": "markdown",
   "metadata": {},
   "source": [
    "En la mecánica Newtoniana sabemos que:\n",
    "\n",
    "$$\n",
    "\\ddot{\\vec{r}}=-\\vec{\\nabla}\\Phi\n",
    "$$\n",
    "donde $\\phi$ es el potencial gravitacional local (energía potencial gravitacional por unidad de masa) que para la ley de gravitación universal de Newton esta dado por:\n",
    "\n",
    "$$\n",
    "\\Phi=-\\frac{GM}{r}\n",
    "$$"
   ]
  },
  {
   "cell_type": "markdown",
   "metadata": {},
   "source": [
    "La comparación de estas ecuaciones muestra que podemos hacer la identificación:\n",
    "\n",
    "$$\n",
    "h_{00}=\\frac{2\\Phi}{c^2}\n",
    "$$"
   ]
  },
  {
   "cell_type": "markdown",
   "metadata": {},
   "source": [
    "De allí que el coeficiente métrico temporal en campo débil sea:\n",
    "\n",
    "$$\n",
    "g_{00}\\approx 1+\\frac{2\\Phi}{c^2}\n",
    "$$"
   ]
  },
  {
   "cell_type": "markdown",
   "metadata": {},
   "source": [
    "De modo que el comportamiento de las partículas en un campo gravitacional Newtoniano se puede reproducir con una métrica del tipo:\n",
    "\n",
    "$$\n",
    "\\mathrm{d}s^2=\\left(1+\\frac{2\\Phi}{c^2}\\right)\\;\\mathrm{d}t_L^2-\\;\\mathrm{d}r^2-r^2\\mathrm{d}\\theta^2-r^2\\sin^2\\theta\\mathrm{d}\\phi^2\n",
    "$$\n",
    "llamaremos a esta la **métrica de Newton**. "
   ]
  },
  {
   "cell_type": "markdown",
   "metadata": {},
   "source": [
    "Una manera de parametrizar la métrica de Newton es haciendo:\n",
    "\n",
    "$$\n",
    "{\\cal R}\\equiv\\frac{2GM_p}{c^2}\n",
    "$$\n",
    "la métrica se puede escribir de forma simplificada como:\n",
    "\n",
    "$$\n",
    "\\mathrm{d}s^2=\\left(1-\\frac{\\cal R}{r}\\right)\\;\\mathrm{d}t_L^2-\\mathrm{d}r^2-r^2\\mathrm{d}\\theta^2-r^2\\sin^2\\theta\\;\\mathrm{d}\\phi^2\n",
    "$$"
   ]
  },
  {
   "cell_type": "markdown",
   "metadata": {
    "label": "",
    "subtitle": "El parámetro $\\cal R$",
    "tags": [
     "box_note"
    ],
    "title": "Nota"
   },
   "source": [
    "> **Nota: El parámetro $\\cal R$.**<a id=''></a> El parámetro $\\cal R$ es una cantidad de gran relevancia en la relatvidad general.  Más adelante la obtendremos después de estudiar la métrica de Schwarzschild.  Por ahora podemos ver que es una cantidad que es proporcional a la masa de un cuerpo con una constante de proporcionalidad $2G/c^2=1.4852\\times 10^{-27} m^3 kg^{-1}$ muy pequeña.  Esta cantidad solo se hace macroscópica para valores de la masa del cuerpo realmente grandes (masas planetarias).  Una manera de parametrizar este parámetro es:\n",
    "\n",
    "> $${\\cal R}=2.954\\;\\mathrm{km}\\;\\left(\\frac{M_p}{M_\\odot}\\right)$$"
   ]
  },
  {
   "cell_type": "markdown",
   "metadata": {},
   "source": [
    "### 5.7.1. Un ejemplo numérico\n",
    "<a id='campo_debil_numerico'></a>"
   ]
  },
  {
   "cell_type": "markdown",
   "metadata": {},
   "source": [
    "Una implementación de la métrica de Newton es:"
   ]
  },
  {
   "cell_type": "code",
   "execution_count": 80,
   "metadata": {
    "codelabel": "",
    "codeplot": 0,
    "tags": [
     "export"
    ]
   },
   "outputs": [],
   "source": [
    "from numpy import array\n",
    "def g_newtoniana_4d(xmu,mu,R=1):\n",
    "    \"\"\"\n",
    "    Coeficiente métrico g_mumu calculados en el evento xmu \n",
    "    para espacio-tiempo plano con coordenadas cilíndricas.\n",
    "    \n",
    "    g_munu=diag(A,-1,-r^2,-r^2 sin^2 teta)\n",
    "    \"\"\"\n",
    "    from numpy import sin\n",
    "    t,r,teta,fi=xmu\n",
    "    A=(1-R/r)\n",
    "    if mu==0:\n",
    "        g=A\n",
    "    elif mu==1:\n",
    "        g=-1\n",
    "    elif mu==2:\n",
    "        g=-r**2\n",
    "    elif mu==3:\n",
    "        g=-r**2*sin(teta)**2\n",
    "    return g"
   ]
  },
  {
   "cell_type": "code",
   "execution_count": 81,
   "metadata": {
    "codelabel": "",
    "codeplot": 0
   },
   "outputs": [
    {
     "name": "stdout",
     "output_type": "stream",
     "text": [
      "The autoreload extension is already loaded. To reload it, use:\n",
      "  %reload_ext autoreload\n"
     ]
    }
   ],
   "source": [
    "%load_ext autoreload\n",
    "%autoreload 2"
   ]
  },
  {
   "cell_type": "code",
   "execution_count": 82,
   "metadata": {
    "codelabel": "",
    "codeplot": 0
   },
   "outputs": [],
   "source": [
    "from export import Gamma"
   ]
  },
  {
   "cell_type": "code",
   "execution_count": 83,
   "metadata": {
    "codelabel": "",
    "codeplot": 0
   },
   "outputs": [
    {
     "data": {
      "text/plain": [
       "array([[[-0.   ,  0.25 ,  0.   ,  0.   ],\n",
       "        [ 0.25 , -0.   ,  0.   ,  0.   ],\n",
       "        [ 0.   ,  0.   , -0.   ,  0.   ],\n",
       "        [ 0.   ,  0.   ,  0.   , -0.   ]],\n",
       "\n",
       "       [[ 0.125, -0.   ,  0.   ,  0.   ],\n",
       "        [-0.   ,  0.   , -0.   , -0.   ],\n",
       "        [ 0.   , -0.   , -2.   ,  0.   ],\n",
       "        [ 0.   , -0.   ,  0.   , -2.   ]],\n",
       "\n",
       "       [[ 0.   ,  0.   , -0.   ,  0.   ],\n",
       "        [ 0.   ,  0.   ,  0.5  ,  0.   ],\n",
       "        [-0.   ,  0.5  ,  0.   , -0.   ],\n",
       "        [ 0.   ,  0.   , -0.   ,  0.   ]],\n",
       "\n",
       "       [[ 0.   ,  0.   ,  0.   , -0.   ],\n",
       "        [ 0.   ,  0.   ,  0.   ,  0.5  ],\n",
       "        [ 0.   ,  0.   ,  0.   , -0.   ],\n",
       "        [-0.   ,  0.5  , -0.   ,  0.   ]]])"
      ]
     },
     "execution_count": 83,
     "metadata": {},
     "output_type": "execute_result"
    }
   ],
   "source": [
    "from numpy import pi\n",
    "xmu=[0,2,pi/2,0]\n",
    "R=1\n",
    "Gamma(xmu,g_newtoniana_4d,(R,),N=4)"
   ]
  },
  {
   "cell_type": "markdown",
   "metadata": {},
   "source": [
    "Vamos a estudiar el movimiento de un cuerpo que es lanzado horizontalmente con una velocidad $v$ a una altura $h$ ($r=R_p+h$) sobre la superficie del planeta.  Las condiciones iniciales del problema son por tanto: \n",
    "\n",
    "\\begin{eqnarray}\n",
    "x_{0L}^\\mu & : & \\left(0,\\frac{R_p+h}{c},\\frac{\\pi}{2},0\\right)\\\\\n",
    "\\frac{\\mathrm{d}x_{0L}^\\mu}{\\mathrm{d}\\sigma} & : & \\left(1,0.0,0,-\\frac{v}{R_p}\\right)\n",
    "\\end{eqnarray}"
   ]
  },
  {
   "cell_type": "markdown",
   "metadata": {},
   "source": [
    "Las propiedades del cuerpo son:"
   ]
  },
  {
   "cell_type": "code",
   "execution_count": 84,
   "metadata": {
    "codelabel": "",
    "codeplot": 0
   },
   "outputs": [],
   "source": [
    "#Constantes\n",
    "c=3e8 # m/s\n",
    "G=6.67e-11 # m^3 kg^-1 s^-2\n",
    "\n",
    "#Propiedades del planeta\n",
    "Mp=5.98e24 # kg\n",
    "Rp=6.371e6 # m\n",
    "Phip=-G*Mp/Rp\n",
    "gp=G*Mp/Rp**2\n",
    "R=2*G*Mp/c**2"
   ]
  },
  {
   "cell_type": "code",
   "execution_count": 85,
   "metadata": {
    "codelabel": "",
    "codeplot": 0,
    "tags": [
     "hide_input"
    ]
   },
   "outputs": [
    {
     "name": "stdout",
     "output_type": "stream",
     "text": [
      "R = 0.008863688888888891 m\n",
      "Potencial en la superficie, Phi(Rp) = -62606498.19494586 J/kg\n",
      "Aceleración gravitacional, g(Rp) = 9.826792998735812 m/s^2\n"
     ]
    }
   ],
   "source": [
    "print(f\"R = {R} m\")\n",
    "print(f\"Potencial en la superficie, Phi(Rp) = {Phip} J/kg\")\n",
    "print(f\"Aceleración gravitacional, g(Rp) = {gp} m/s^2\")"
   ]
  },
  {
   "cell_type": "markdown",
   "metadata": {},
   "source": [
    "Las condiciones iniciales serán por otro lado:"
   ]
  },
  {
   "cell_type": "code",
   "execution_count": 130,
   "metadata": {
    "codelabel": "",
    "codeplot": 0
   },
   "outputs": [],
   "source": [
    "#Altura y velocidad\n",
    "h=100.0 # m\n",
    "v=10000.0 # m/s\n",
    "from numpy import sqrt\n",
    "T=sqrt(2*h/gp)\n",
    "\n",
    "#Condiciones iniciales\n",
    "from numpy import array,pi\n",
    "Y0s=array([0.0,(Rp+h)/c,pi/2,pi/2,\n",
    "           1,0,0,-v/Rp])\n",
    "\n",
    "#Tiempo de integración\n",
    "from numpy import pi,linspace\n",
    "ss=linspace(0,T,30)"
   ]
  },
  {
   "cell_type": "code",
   "execution_count": 131,
   "metadata": {
    "codelabel": "",
    "codeplot": 0
   },
   "outputs": [
    {
     "name": "stdout",
     "output_type": "stream",
     "text": [
      "Condiciones iniciales = [ 0.00000000e+00  2.12370000e-02  1.57079633e+00  1.57079633e+00\n",
      "  1.00000000e+00  0.00000000e+00  0.00000000e+00 -1.56961231e-03]\n"
     ]
    }
   ],
   "source": [
    "print(f\"Condiciones iniciales = {Y0s}\")"
   ]
  },
  {
   "cell_type": "code",
   "execution_count": 132,
   "metadata": {
    "codelabel": "",
    "codeplot": 0
   },
   "outputs": [],
   "source": [
    "%matplotlib nbagg"
   ]
  },
  {
   "cell_type": "code",
   "execution_count": 133,
   "metadata": {
    "codelabel": "fig:05.05.00.00.RelatividadGeneral.InerciaYGeodesicas_37",
    "codeplot": 1,
    "figcaption": "<b>Figura 5.37.</b> "
   },
   "outputs": [
    {
     "data": {
      "application/javascript": [
       "/* Put everything inside the global mpl namespace */\n",
       "window.mpl = {};\n",
       "\n",
       "\n",
       "mpl.get_websocket_type = function() {\n",
       "    if (typeof(WebSocket) !== 'undefined') {\n",
       "        return WebSocket;\n",
       "    } else if (typeof(MozWebSocket) !== 'undefined') {\n",
       "        return MozWebSocket;\n",
       "    } else {\n",
       "        alert('Your browser does not have WebSocket support. ' +\n",
       "              'Please try Chrome, Safari or Firefox ≥ 6. ' +\n",
       "              'Firefox 4 and 5 are also supported but you ' +\n",
       "              'have to enable WebSockets in about:config.');\n",
       "    };\n",
       "}\n",
       "\n",
       "mpl.figure = function(figure_id, websocket, ondownload, parent_element) {\n",
       "    this.id = figure_id;\n",
       "\n",
       "    this.ws = websocket;\n",
       "\n",
       "    this.supports_binary = (this.ws.binaryType != undefined);\n",
       "\n",
       "    if (!this.supports_binary) {\n",
       "        var warnings = document.getElementById(\"mpl-warnings\");\n",
       "        if (warnings) {\n",
       "            warnings.style.display = 'block';\n",
       "            warnings.textContent = (\n",
       "                \"This browser does not support binary websocket messages. \" +\n",
       "                    \"Performance may be slow.\");\n",
       "        }\n",
       "    }\n",
       "\n",
       "    this.imageObj = new Image();\n",
       "\n",
       "    this.context = undefined;\n",
       "    this.message = undefined;\n",
       "    this.canvas = undefined;\n",
       "    this.rubberband_canvas = undefined;\n",
       "    this.rubberband_context = undefined;\n",
       "    this.format_dropdown = undefined;\n",
       "\n",
       "    this.image_mode = 'full';\n",
       "\n",
       "    this.root = $('<div/>');\n",
       "    this._root_extra_style(this.root)\n",
       "    this.root.attr('style', 'display: inline-block');\n",
       "\n",
       "    $(parent_element).append(this.root);\n",
       "\n",
       "    this._init_header(this);\n",
       "    this._init_canvas(this);\n",
       "    this._init_toolbar(this);\n",
       "\n",
       "    var fig = this;\n",
       "\n",
       "    this.waiting = false;\n",
       "\n",
       "    this.ws.onopen =  function () {\n",
       "            fig.send_message(\"supports_binary\", {value: fig.supports_binary});\n",
       "            fig.send_message(\"send_image_mode\", {});\n",
       "            if (mpl.ratio != 1) {\n",
       "                fig.send_message(\"set_dpi_ratio\", {'dpi_ratio': mpl.ratio});\n",
       "            }\n",
       "            fig.send_message(\"refresh\", {});\n",
       "        }\n",
       "\n",
       "    this.imageObj.onload = function() {\n",
       "            if (fig.image_mode == 'full') {\n",
       "                // Full images could contain transparency (where diff images\n",
       "                // almost always do), so we need to clear the canvas so that\n",
       "                // there is no ghosting.\n",
       "                fig.context.clearRect(0, 0, fig.canvas.width, fig.canvas.height);\n",
       "            }\n",
       "            fig.context.drawImage(fig.imageObj, 0, 0);\n",
       "        };\n",
       "\n",
       "    this.imageObj.onunload = function() {\n",
       "        fig.ws.close();\n",
       "    }\n",
       "\n",
       "    this.ws.onmessage = this._make_on_message_function(this);\n",
       "\n",
       "    this.ondownload = ondownload;\n",
       "}\n",
       "\n",
       "mpl.figure.prototype._init_header = function() {\n",
       "    var titlebar = $(\n",
       "        '<div class=\"ui-dialog-titlebar ui-widget-header ui-corner-all ' +\n",
       "        'ui-helper-clearfix\"/>');\n",
       "    var titletext = $(\n",
       "        '<div class=\"ui-dialog-title\" style=\"width: 100%; ' +\n",
       "        'text-align: center; padding: 3px;\"/>');\n",
       "    titlebar.append(titletext)\n",
       "    this.root.append(titlebar);\n",
       "    this.header = titletext[0];\n",
       "}\n",
       "\n",
       "\n",
       "\n",
       "mpl.figure.prototype._canvas_extra_style = function(canvas_div) {\n",
       "\n",
       "}\n",
       "\n",
       "\n",
       "mpl.figure.prototype._root_extra_style = function(canvas_div) {\n",
       "\n",
       "}\n",
       "\n",
       "mpl.figure.prototype._init_canvas = function() {\n",
       "    var fig = this;\n",
       "\n",
       "    var canvas_div = $('<div/>');\n",
       "\n",
       "    canvas_div.attr('style', 'position: relative; clear: both; outline: 0');\n",
       "\n",
       "    function canvas_keyboard_event(event) {\n",
       "        return fig.key_event(event, event['data']);\n",
       "    }\n",
       "\n",
       "    canvas_div.keydown('key_press', canvas_keyboard_event);\n",
       "    canvas_div.keyup('key_release', canvas_keyboard_event);\n",
       "    this.canvas_div = canvas_div\n",
       "    this._canvas_extra_style(canvas_div)\n",
       "    this.root.append(canvas_div);\n",
       "\n",
       "    var canvas = $('<canvas/>');\n",
       "    canvas.addClass('mpl-canvas');\n",
       "    canvas.attr('style', \"left: 0; top: 0; z-index: 0; outline: 0\")\n",
       "\n",
       "    this.canvas = canvas[0];\n",
       "    this.context = canvas[0].getContext(\"2d\");\n",
       "\n",
       "    var backingStore = this.context.backingStorePixelRatio ||\n",
       "\tthis.context.webkitBackingStorePixelRatio ||\n",
       "\tthis.context.mozBackingStorePixelRatio ||\n",
       "\tthis.context.msBackingStorePixelRatio ||\n",
       "\tthis.context.oBackingStorePixelRatio ||\n",
       "\tthis.context.backingStorePixelRatio || 1;\n",
       "\n",
       "    mpl.ratio = (window.devicePixelRatio || 1) / backingStore;\n",
       "\n",
       "    var rubberband = $('<canvas/>');\n",
       "    rubberband.attr('style', \"position: absolute; left: 0; top: 0; z-index: 1;\")\n",
       "\n",
       "    var pass_mouse_events = true;\n",
       "\n",
       "    canvas_div.resizable({\n",
       "        start: function(event, ui) {\n",
       "            pass_mouse_events = false;\n",
       "        },\n",
       "        resize: function(event, ui) {\n",
       "            fig.request_resize(ui.size.width, ui.size.height);\n",
       "        },\n",
       "        stop: function(event, ui) {\n",
       "            pass_mouse_events = true;\n",
       "            fig.request_resize(ui.size.width, ui.size.height);\n",
       "        },\n",
       "    });\n",
       "\n",
       "    function mouse_event_fn(event) {\n",
       "        if (pass_mouse_events)\n",
       "            return fig.mouse_event(event, event['data']);\n",
       "    }\n",
       "\n",
       "    rubberband.mousedown('button_press', mouse_event_fn);\n",
       "    rubberband.mouseup('button_release', mouse_event_fn);\n",
       "    // Throttle sequential mouse events to 1 every 20ms.\n",
       "    rubberband.mousemove('motion_notify', mouse_event_fn);\n",
       "\n",
       "    rubberband.mouseenter('figure_enter', mouse_event_fn);\n",
       "    rubberband.mouseleave('figure_leave', mouse_event_fn);\n",
       "\n",
       "    canvas_div.on(\"wheel\", function (event) {\n",
       "        event = event.originalEvent;\n",
       "        event['data'] = 'scroll'\n",
       "        if (event.deltaY < 0) {\n",
       "            event.step = 1;\n",
       "        } else {\n",
       "            event.step = -1;\n",
       "        }\n",
       "        mouse_event_fn(event);\n",
       "    });\n",
       "\n",
       "    canvas_div.append(canvas);\n",
       "    canvas_div.append(rubberband);\n",
       "\n",
       "    this.rubberband = rubberband;\n",
       "    this.rubberband_canvas = rubberband[0];\n",
       "    this.rubberband_context = rubberband[0].getContext(\"2d\");\n",
       "    this.rubberband_context.strokeStyle = \"#000000\";\n",
       "\n",
       "    this._resize_canvas = function(width, height) {\n",
       "        // Keep the size of the canvas, canvas container, and rubber band\n",
       "        // canvas in synch.\n",
       "        canvas_div.css('width', width)\n",
       "        canvas_div.css('height', height)\n",
       "\n",
       "        canvas.attr('width', width * mpl.ratio);\n",
       "        canvas.attr('height', height * mpl.ratio);\n",
       "        canvas.attr('style', 'width: ' + width + 'px; height: ' + height + 'px;');\n",
       "\n",
       "        rubberband.attr('width', width);\n",
       "        rubberband.attr('height', height);\n",
       "    }\n",
       "\n",
       "    // Set the figure to an initial 600x600px, this will subsequently be updated\n",
       "    // upon first draw.\n",
       "    this._resize_canvas(600, 600);\n",
       "\n",
       "    // Disable right mouse context menu.\n",
       "    $(this.rubberband_canvas).bind(\"contextmenu\",function(e){\n",
       "        return false;\n",
       "    });\n",
       "\n",
       "    function set_focus () {\n",
       "        canvas.focus();\n",
       "        canvas_div.focus();\n",
       "    }\n",
       "\n",
       "    window.setTimeout(set_focus, 100);\n",
       "}\n",
       "\n",
       "mpl.figure.prototype._init_toolbar = function() {\n",
       "    var fig = this;\n",
       "\n",
       "    var nav_element = $('<div/>');\n",
       "    nav_element.attr('style', 'width: 100%');\n",
       "    this.root.append(nav_element);\n",
       "\n",
       "    // Define a callback function for later on.\n",
       "    function toolbar_event(event) {\n",
       "        return fig.toolbar_button_onclick(event['data']);\n",
       "    }\n",
       "    function toolbar_mouse_event(event) {\n",
       "        return fig.toolbar_button_onmouseover(event['data']);\n",
       "    }\n",
       "\n",
       "    for(var toolbar_ind in mpl.toolbar_items) {\n",
       "        var name = mpl.toolbar_items[toolbar_ind][0];\n",
       "        var tooltip = mpl.toolbar_items[toolbar_ind][1];\n",
       "        var image = mpl.toolbar_items[toolbar_ind][2];\n",
       "        var method_name = mpl.toolbar_items[toolbar_ind][3];\n",
       "\n",
       "        if (!name) {\n",
       "            // put a spacer in here.\n",
       "            continue;\n",
       "        }\n",
       "        var button = $('<button/>');\n",
       "        button.addClass('ui-button ui-widget ui-state-default ui-corner-all ' +\n",
       "                        'ui-button-icon-only');\n",
       "        button.attr('role', 'button');\n",
       "        button.attr('aria-disabled', 'false');\n",
       "        button.click(method_name, toolbar_event);\n",
       "        button.mouseover(tooltip, toolbar_mouse_event);\n",
       "\n",
       "        var icon_img = $('<span/>');\n",
       "        icon_img.addClass('ui-button-icon-primary ui-icon');\n",
       "        icon_img.addClass(image);\n",
       "        icon_img.addClass('ui-corner-all');\n",
       "\n",
       "        var tooltip_span = $('<span/>');\n",
       "        tooltip_span.addClass('ui-button-text');\n",
       "        tooltip_span.html(tooltip);\n",
       "\n",
       "        button.append(icon_img);\n",
       "        button.append(tooltip_span);\n",
       "\n",
       "        nav_element.append(button);\n",
       "    }\n",
       "\n",
       "    var fmt_picker_span = $('<span/>');\n",
       "\n",
       "    var fmt_picker = $('<select/>');\n",
       "    fmt_picker.addClass('mpl-toolbar-option ui-widget ui-widget-content');\n",
       "    fmt_picker_span.append(fmt_picker);\n",
       "    nav_element.append(fmt_picker_span);\n",
       "    this.format_dropdown = fmt_picker[0];\n",
       "\n",
       "    for (var ind in mpl.extensions) {\n",
       "        var fmt = mpl.extensions[ind];\n",
       "        var option = $(\n",
       "            '<option/>', {selected: fmt === mpl.default_extension}).html(fmt);\n",
       "        fmt_picker.append(option);\n",
       "    }\n",
       "\n",
       "    // Add hover states to the ui-buttons\n",
       "    $( \".ui-button\" ).hover(\n",
       "        function() { $(this).addClass(\"ui-state-hover\");},\n",
       "        function() { $(this).removeClass(\"ui-state-hover\");}\n",
       "    );\n",
       "\n",
       "    var status_bar = $('<span class=\"mpl-message\"/>');\n",
       "    nav_element.append(status_bar);\n",
       "    this.message = status_bar[0];\n",
       "}\n",
       "\n",
       "mpl.figure.prototype.request_resize = function(x_pixels, y_pixels) {\n",
       "    // Request matplotlib to resize the figure. Matplotlib will then trigger a resize in the client,\n",
       "    // which will in turn request a refresh of the image.\n",
       "    this.send_message('resize', {'width': x_pixels, 'height': y_pixels});\n",
       "}\n",
       "\n",
       "mpl.figure.prototype.send_message = function(type, properties) {\n",
       "    properties['type'] = type;\n",
       "    properties['figure_id'] = this.id;\n",
       "    this.ws.send(JSON.stringify(properties));\n",
       "}\n",
       "\n",
       "mpl.figure.prototype.send_draw_message = function() {\n",
       "    if (!this.waiting) {\n",
       "        this.waiting = true;\n",
       "        this.ws.send(JSON.stringify({type: \"draw\", figure_id: this.id}));\n",
       "    }\n",
       "}\n",
       "\n",
       "\n",
       "mpl.figure.prototype.handle_save = function(fig, msg) {\n",
       "    var format_dropdown = fig.format_dropdown;\n",
       "    var format = format_dropdown.options[format_dropdown.selectedIndex].value;\n",
       "    fig.ondownload(fig, format);\n",
       "}\n",
       "\n",
       "\n",
       "mpl.figure.prototype.handle_resize = function(fig, msg) {\n",
       "    var size = msg['size'];\n",
       "    if (size[0] != fig.canvas.width || size[1] != fig.canvas.height) {\n",
       "        fig._resize_canvas(size[0], size[1]);\n",
       "        fig.send_message(\"refresh\", {});\n",
       "    };\n",
       "}\n",
       "\n",
       "mpl.figure.prototype.handle_rubberband = function(fig, msg) {\n",
       "    var x0 = msg['x0'] / mpl.ratio;\n",
       "    var y0 = (fig.canvas.height - msg['y0']) / mpl.ratio;\n",
       "    var x1 = msg['x1'] / mpl.ratio;\n",
       "    var y1 = (fig.canvas.height - msg['y1']) / mpl.ratio;\n",
       "    x0 = Math.floor(x0) + 0.5;\n",
       "    y0 = Math.floor(y0) + 0.5;\n",
       "    x1 = Math.floor(x1) + 0.5;\n",
       "    y1 = Math.floor(y1) + 0.5;\n",
       "    var min_x = Math.min(x0, x1);\n",
       "    var min_y = Math.min(y0, y1);\n",
       "    var width = Math.abs(x1 - x0);\n",
       "    var height = Math.abs(y1 - y0);\n",
       "\n",
       "    fig.rubberband_context.clearRect(\n",
       "        0, 0, fig.canvas.width / mpl.ratio, fig.canvas.height / mpl.ratio);\n",
       "\n",
       "    fig.rubberband_context.strokeRect(min_x, min_y, width, height);\n",
       "}\n",
       "\n",
       "mpl.figure.prototype.handle_figure_label = function(fig, msg) {\n",
       "    // Updates the figure title.\n",
       "    fig.header.textContent = msg['label'];\n",
       "}\n",
       "\n",
       "mpl.figure.prototype.handle_cursor = function(fig, msg) {\n",
       "    var cursor = msg['cursor'];\n",
       "    switch(cursor)\n",
       "    {\n",
       "    case 0:\n",
       "        cursor = 'pointer';\n",
       "        break;\n",
       "    case 1:\n",
       "        cursor = 'default';\n",
       "        break;\n",
       "    case 2:\n",
       "        cursor = 'crosshair';\n",
       "        break;\n",
       "    case 3:\n",
       "        cursor = 'move';\n",
       "        break;\n",
       "    }\n",
       "    fig.rubberband_canvas.style.cursor = cursor;\n",
       "}\n",
       "\n",
       "mpl.figure.prototype.handle_message = function(fig, msg) {\n",
       "    fig.message.textContent = msg['message'];\n",
       "}\n",
       "\n",
       "mpl.figure.prototype.handle_draw = function(fig, msg) {\n",
       "    // Request the server to send over a new figure.\n",
       "    fig.send_draw_message();\n",
       "}\n",
       "\n",
       "mpl.figure.prototype.handle_image_mode = function(fig, msg) {\n",
       "    fig.image_mode = msg['mode'];\n",
       "}\n",
       "\n",
       "mpl.figure.prototype.updated_canvas_event = function() {\n",
       "    // Called whenever the canvas gets updated.\n",
       "    this.send_message(\"ack\", {});\n",
       "}\n",
       "\n",
       "// A function to construct a web socket function for onmessage handling.\n",
       "// Called in the figure constructor.\n",
       "mpl.figure.prototype._make_on_message_function = function(fig) {\n",
       "    return function socket_on_message(evt) {\n",
       "        if (evt.data instanceof Blob) {\n",
       "            /* FIXME: We get \"Resource interpreted as Image but\n",
       "             * transferred with MIME type text/plain:\" errors on\n",
       "             * Chrome.  But how to set the MIME type?  It doesn't seem\n",
       "             * to be part of the websocket stream */\n",
       "            evt.data.type = \"image/png\";\n",
       "\n",
       "            /* Free the memory for the previous frames */\n",
       "            if (fig.imageObj.src) {\n",
       "                (window.URL || window.webkitURL).revokeObjectURL(\n",
       "                    fig.imageObj.src);\n",
       "            }\n",
       "\n",
       "            fig.imageObj.src = (window.URL || window.webkitURL).createObjectURL(\n",
       "                evt.data);\n",
       "            fig.updated_canvas_event();\n",
       "            fig.waiting = false;\n",
       "            return;\n",
       "        }\n",
       "        else if (typeof evt.data === 'string' && evt.data.slice(0, 21) == \"data:image/png;base64\") {\n",
       "            fig.imageObj.src = evt.data;\n",
       "            fig.updated_canvas_event();\n",
       "            fig.waiting = false;\n",
       "            return;\n",
       "        }\n",
       "\n",
       "        var msg = JSON.parse(evt.data);\n",
       "        var msg_type = msg['type'];\n",
       "\n",
       "        // Call the  \"handle_{type}\" callback, which takes\n",
       "        // the figure and JSON message as its only arguments.\n",
       "        try {\n",
       "            var callback = fig[\"handle_\" + msg_type];\n",
       "        } catch (e) {\n",
       "            console.log(\"No handler for the '\" + msg_type + \"' message type: \", msg);\n",
       "            return;\n",
       "        }\n",
       "\n",
       "        if (callback) {\n",
       "            try {\n",
       "                // console.log(\"Handling '\" + msg_type + \"' message: \", msg);\n",
       "                callback(fig, msg);\n",
       "            } catch (e) {\n",
       "                console.log(\"Exception inside the 'handler_\" + msg_type + \"' callback:\", e, e.stack, msg);\n",
       "            }\n",
       "        }\n",
       "    };\n",
       "}\n",
       "\n",
       "// from http://stackoverflow.com/questions/1114465/getting-mouse-location-in-canvas\n",
       "mpl.findpos = function(e) {\n",
       "    //this section is from http://www.quirksmode.org/js/events_properties.html\n",
       "    var targ;\n",
       "    if (!e)\n",
       "        e = window.event;\n",
       "    if (e.target)\n",
       "        targ = e.target;\n",
       "    else if (e.srcElement)\n",
       "        targ = e.srcElement;\n",
       "    if (targ.nodeType == 3) // defeat Safari bug\n",
       "        targ = targ.parentNode;\n",
       "\n",
       "    // jQuery normalizes the pageX and pageY\n",
       "    // pageX,Y are the mouse positions relative to the document\n",
       "    // offset() returns the position of the element relative to the document\n",
       "    var x = e.pageX - $(targ).offset().left;\n",
       "    var y = e.pageY - $(targ).offset().top;\n",
       "\n",
       "    return {\"x\": x, \"y\": y};\n",
       "};\n",
       "\n",
       "/*\n",
       " * return a copy of an object with only non-object keys\n",
       " * we need this to avoid circular references\n",
       " * http://stackoverflow.com/a/24161582/3208463\n",
       " */\n",
       "function simpleKeys (original) {\n",
       "  return Object.keys(original).reduce(function (obj, key) {\n",
       "    if (typeof original[key] !== 'object')\n",
       "        obj[key] = original[key]\n",
       "    return obj;\n",
       "  }, {});\n",
       "}\n",
       "\n",
       "mpl.figure.prototype.mouse_event = function(event, name) {\n",
       "    var canvas_pos = mpl.findpos(event)\n",
       "\n",
       "    if (name === 'button_press')\n",
       "    {\n",
       "        this.canvas.focus();\n",
       "        this.canvas_div.focus();\n",
       "    }\n",
       "\n",
       "    var x = canvas_pos.x * mpl.ratio;\n",
       "    var y = canvas_pos.y * mpl.ratio;\n",
       "\n",
       "    this.send_message(name, {x: x, y: y, button: event.button,\n",
       "                             step: event.step,\n",
       "                             guiEvent: simpleKeys(event)});\n",
       "\n",
       "    /* This prevents the web browser from automatically changing to\n",
       "     * the text insertion cursor when the button is pressed.  We want\n",
       "     * to control all of the cursor setting manually through the\n",
       "     * 'cursor' event from matplotlib */\n",
       "    event.preventDefault();\n",
       "    return false;\n",
       "}\n",
       "\n",
       "mpl.figure.prototype._key_event_extra = function(event, name) {\n",
       "    // Handle any extra behaviour associated with a key event\n",
       "}\n",
       "\n",
       "mpl.figure.prototype.key_event = function(event, name) {\n",
       "\n",
       "    // Prevent repeat events\n",
       "    if (name == 'key_press')\n",
       "    {\n",
       "        if (event.which === this._key)\n",
       "            return;\n",
       "        else\n",
       "            this._key = event.which;\n",
       "    }\n",
       "    if (name == 'key_release')\n",
       "        this._key = null;\n",
       "\n",
       "    var value = '';\n",
       "    if (event.ctrlKey && event.which != 17)\n",
       "        value += \"ctrl+\";\n",
       "    if (event.altKey && event.which != 18)\n",
       "        value += \"alt+\";\n",
       "    if (event.shiftKey && event.which != 16)\n",
       "        value += \"shift+\";\n",
       "\n",
       "    value += 'k';\n",
       "    value += event.which.toString();\n",
       "\n",
       "    this._key_event_extra(event, name);\n",
       "\n",
       "    this.send_message(name, {key: value,\n",
       "                             guiEvent: simpleKeys(event)});\n",
       "    return false;\n",
       "}\n",
       "\n",
       "mpl.figure.prototype.toolbar_button_onclick = function(name) {\n",
       "    if (name == 'download') {\n",
       "        this.handle_save(this, null);\n",
       "    } else {\n",
       "        this.send_message(\"toolbar_button\", {name: name});\n",
       "    }\n",
       "};\n",
       "\n",
       "mpl.figure.prototype.toolbar_button_onmouseover = function(tooltip) {\n",
       "    this.message.textContent = tooltip;\n",
       "};\n",
       "mpl.toolbar_items = [[\"Home\", \"Reset original view\", \"fa fa-home icon-home\", \"home\"], [\"Back\", \"Back to previous view\", \"fa fa-arrow-left icon-arrow-left\", \"back\"], [\"Forward\", \"Forward to next view\", \"fa fa-arrow-right icon-arrow-right\", \"forward\"], [\"\", \"\", \"\", \"\"], [\"Pan\", \"Pan axes with left mouse, zoom with right\", \"fa fa-arrows icon-move\", \"pan\"], [\"Zoom\", \"Zoom to rectangle\", \"fa fa-square-o icon-check-empty\", \"zoom\"], [\"\", \"\", \"\", \"\"], [\"Download\", \"Download plot\", \"fa fa-floppy-o icon-save\", \"download\"]];\n",
       "\n",
       "mpl.extensions = [\"eps\", \"jpeg\", \"pdf\", \"png\", \"ps\", \"raw\", \"svg\", \"tif\"];\n",
       "\n",
       "mpl.default_extension = \"png\";var comm_websocket_adapter = function(comm) {\n",
       "    // Create a \"websocket\"-like object which calls the given IPython comm\n",
       "    // object with the appropriate methods. Currently this is a non binary\n",
       "    // socket, so there is still some room for performance tuning.\n",
       "    var ws = {};\n",
       "\n",
       "    ws.close = function() {\n",
       "        comm.close()\n",
       "    };\n",
       "    ws.send = function(m) {\n",
       "        //console.log('sending', m);\n",
       "        comm.send(m);\n",
       "    };\n",
       "    // Register the callback with on_msg.\n",
       "    comm.on_msg(function(msg) {\n",
       "        //console.log('receiving', msg['content']['data'], msg);\n",
       "        // Pass the mpl event to the overridden (by mpl) onmessage function.\n",
       "        ws.onmessage(msg['content']['data'])\n",
       "    });\n",
       "    return ws;\n",
       "}\n",
       "\n",
       "mpl.mpl_figure_comm = function(comm, msg) {\n",
       "    // This is the function which gets called when the mpl process\n",
       "    // starts-up an IPython Comm through the \"matplotlib\" channel.\n",
       "\n",
       "    var id = msg.content.data.id;\n",
       "    // Get hold of the div created by the display call when the Comm\n",
       "    // socket was opened in Python.\n",
       "    var element = $(\"#\" + id);\n",
       "    var ws_proxy = comm_websocket_adapter(comm)\n",
       "\n",
       "    function ondownload(figure, format) {\n",
       "        window.open(figure.imageObj.src);\n",
       "    }\n",
       "\n",
       "    var fig = new mpl.figure(id, ws_proxy,\n",
       "                           ondownload,\n",
       "                           element.get(0));\n",
       "\n",
       "    // Call onopen now - mpl needs it, as it is assuming we've passed it a real\n",
       "    // web socket which is closed, not our websocket->open comm proxy.\n",
       "    ws_proxy.onopen();\n",
       "\n",
       "    fig.parent_element = element.get(0);\n",
       "    fig.cell_info = mpl.find_output_cell(\"<div id='\" + id + \"'></div>\");\n",
       "    if (!fig.cell_info) {\n",
       "        console.error(\"Failed to find cell for figure\", id, fig);\n",
       "        return;\n",
       "    }\n",
       "\n",
       "    var output_index = fig.cell_info[2]\n",
       "    var cell = fig.cell_info[0];\n",
       "\n",
       "};\n",
       "\n",
       "mpl.figure.prototype.handle_close = function(fig, msg) {\n",
       "    var width = fig.canvas.width/mpl.ratio\n",
       "    fig.root.unbind('remove')\n",
       "\n",
       "    // Update the output cell to use the data from the current canvas.\n",
       "    fig.push_to_output();\n",
       "    var dataURL = fig.canvas.toDataURL();\n",
       "    // Re-enable the keyboard manager in IPython - without this line, in FF,\n",
       "    // the notebook keyboard shortcuts fail.\n",
       "    IPython.keyboard_manager.enable()\n",
       "    $(fig.parent_element).html('<img src=\"' + dataURL + '\" width=\"' + width + '\">');\n",
       "    fig.close_ws(fig, msg);\n",
       "}\n",
       "\n",
       "mpl.figure.prototype.close_ws = function(fig, msg){\n",
       "    fig.send_message('closing', msg);\n",
       "    // fig.ws.close()\n",
       "}\n",
       "\n",
       "mpl.figure.prototype.push_to_output = function(remove_interactive) {\n",
       "    // Turn the data on the canvas into data in the output cell.\n",
       "    var width = this.canvas.width/mpl.ratio\n",
       "    var dataURL = this.canvas.toDataURL();\n",
       "    this.cell_info[1]['text/html'] = '<img src=\"' + dataURL + '\" width=\"' + width + '\">';\n",
       "}\n",
       "\n",
       "mpl.figure.prototype.updated_canvas_event = function() {\n",
       "    // Tell IPython that the notebook contents must change.\n",
       "    IPython.notebook.set_dirty(true);\n",
       "    this.send_message(\"ack\", {});\n",
       "    var fig = this;\n",
       "    // Wait a second, then push the new image to the DOM so\n",
       "    // that it is saved nicely (might be nice to debounce this).\n",
       "    setTimeout(function () { fig.push_to_output() }, 1000);\n",
       "}\n",
       "\n",
       "mpl.figure.prototype._init_toolbar = function() {\n",
       "    var fig = this;\n",
       "\n",
       "    var nav_element = $('<div/>');\n",
       "    nav_element.attr('style', 'width: 100%');\n",
       "    this.root.append(nav_element);\n",
       "\n",
       "    // Define a callback function for later on.\n",
       "    function toolbar_event(event) {\n",
       "        return fig.toolbar_button_onclick(event['data']);\n",
       "    }\n",
       "    function toolbar_mouse_event(event) {\n",
       "        return fig.toolbar_button_onmouseover(event['data']);\n",
       "    }\n",
       "\n",
       "    for(var toolbar_ind in mpl.toolbar_items){\n",
       "        var name = mpl.toolbar_items[toolbar_ind][0];\n",
       "        var tooltip = mpl.toolbar_items[toolbar_ind][1];\n",
       "        var image = mpl.toolbar_items[toolbar_ind][2];\n",
       "        var method_name = mpl.toolbar_items[toolbar_ind][3];\n",
       "\n",
       "        if (!name) { continue; };\n",
       "\n",
       "        var button = $('<button class=\"btn btn-default\" href=\"#\" title=\"' + name + '\"><i class=\"fa ' + image + ' fa-lg\"></i></button>');\n",
       "        button.click(method_name, toolbar_event);\n",
       "        button.mouseover(tooltip, toolbar_mouse_event);\n",
       "        nav_element.append(button);\n",
       "    }\n",
       "\n",
       "    // Add the status bar.\n",
       "    var status_bar = $('<span class=\"mpl-message\" style=\"text-align:right; float: right;\"/>');\n",
       "    nav_element.append(status_bar);\n",
       "    this.message = status_bar[0];\n",
       "\n",
       "    // Add the close button to the window.\n",
       "    var buttongrp = $('<div class=\"btn-group inline pull-right\"></div>');\n",
       "    var button = $('<button class=\"btn btn-mini btn-primary\" href=\"#\" title=\"Stop Interaction\"><i class=\"fa fa-power-off icon-remove icon-large\"></i></button>');\n",
       "    button.click(function (evt) { fig.handle_close(fig, {}); } );\n",
       "    button.mouseover('Stop Interaction', toolbar_mouse_event);\n",
       "    buttongrp.append(button);\n",
       "    var titlebar = this.root.find($('.ui-dialog-titlebar'));\n",
       "    titlebar.prepend(buttongrp);\n",
       "}\n",
       "\n",
       "mpl.figure.prototype._root_extra_style = function(el){\n",
       "    var fig = this\n",
       "    el.on(\"remove\", function(){\n",
       "\tfig.close_ws(fig, {});\n",
       "    });\n",
       "}\n",
       "\n",
       "mpl.figure.prototype._canvas_extra_style = function(el){\n",
       "    // this is important to make the div 'focusable\n",
       "    el.attr('tabindex', 0)\n",
       "    // reach out to IPython and tell the keyboard manager to turn it's self\n",
       "    // off when our div gets focus\n",
       "\n",
       "    // location in version 3\n",
       "    if (IPython.notebook.keyboard_manager) {\n",
       "        IPython.notebook.keyboard_manager.register_events(el);\n",
       "    }\n",
       "    else {\n",
       "        // location in version 2\n",
       "        IPython.keyboard_manager.register_events(el);\n",
       "    }\n",
       "\n",
       "}\n",
       "\n",
       "mpl.figure.prototype._key_event_extra = function(event, name) {\n",
       "    var manager = IPython.notebook.keyboard_manager;\n",
       "    if (!manager)\n",
       "        manager = IPython.keyboard_manager;\n",
       "\n",
       "    // Check for shift+enter\n",
       "    if (event.shiftKey && event.which == 13) {\n",
       "        this.canvas_div.blur();\n",
       "        event.shiftKey = false;\n",
       "        // Send a \"J\" for go to next cell\n",
       "        event.which = 74;\n",
       "        event.keyCode = 74;\n",
       "        manager.command_mode();\n",
       "        manager.handle_keydown(event);\n",
       "    }\n",
       "}\n",
       "\n",
       "mpl.figure.prototype.handle_save = function(fig, msg) {\n",
       "    fig.ondownload(fig, null);\n",
       "}\n",
       "\n",
       "\n",
       "mpl.find_output_cell = function(html_output) {\n",
       "    // Return the cell and output element which can be found *uniquely* in the notebook.\n",
       "    // Note - this is a bit hacky, but it is done because the \"notebook_saving.Notebook\"\n",
       "    // IPython event is triggered only after the cells have been serialised, which for\n",
       "    // our purposes (turning an active figure into a static one), is too late.\n",
       "    var cells = IPython.notebook.get_cells();\n",
       "    var ncells = cells.length;\n",
       "    for (var i=0; i<ncells; i++) {\n",
       "        var cell = cells[i];\n",
       "        if (cell.cell_type === 'code'){\n",
       "            for (var j=0; j<cell.output_area.outputs.length; j++) {\n",
       "                var data = cell.output_area.outputs[j];\n",
       "                if (data.data) {\n",
       "                    // IPython >= 3 moved mimebundle to data attribute of output\n",
       "                    data = data.data;\n",
       "                }\n",
       "                if (data['text/html'] == html_output) {\n",
       "                    return [cell, data, j];\n",
       "                }\n",
       "            }\n",
       "        }\n",
       "    }\n",
       "}\n",
       "\n",
       "// Register the function which deals with the matplotlib target/channel.\n",
       "// The kernel may be null if the page has been refreshed.\n",
       "if (IPython.notebook.kernel != null) {\n",
       "    IPython.notebook.kernel.comm_manager.register_target('matplotlib', mpl.mpl_figure_comm);\n",
       "}\n"
      ],
      "text/plain": [
       "<IPython.core.display.Javascript object>"
      ]
     },
     "metadata": {},
     "output_type": "display_data"
    },
    {
     "data": {
      "text/html": [
       "<img src=\"data:image/png;base64,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\" width=\"500\">"
      ],
      "text/plain": [
       "<IPython.core.display.HTML object>"
      ]
     },
     "metadata": {},
     "output_type": "display_data"
    }
   ],
   "source": [
    "#Integra la ecuación de la geodésica\n",
    "from scipy.integrate import odeint\n",
    "from export import ecuacion_geodesica\n",
    "N=4\n",
    "Ys=odeint(ecuacion_geodesica,Y0s,ss,args=(g_newtoniana_4d,(R/c,),N))\n",
    "\n",
    "#Convierte solución en coordenadas esféricas\n",
    "ts=Ys[:,0]\n",
    "rs=Ys[:,1]\n",
    "qs=Ys[:,2]\n",
    "fs=Ys[:,3]\n",
    "\n",
    "#Convierte coordenadas esféricas en coordenadas cartesianas\n",
    "from numpy import sin,cos\n",
    "xs=rs*sin(qs)*cos(fs)\n",
    "ys=rs*sin(qs)*sin(fs)\n",
    "zs=rs*cos(qs)\n",
    "\n",
    "#Gráfico\n",
    "import matplotlib.pyplot as plt\n",
    "fig=plt.figure(figsize=(5,5))\n",
    "ax=fig.gca()\n",
    "ax.plot(c*xs,c*ys-Rp,label=\"Geodésica\")\n",
    "\n",
    "#Comparación con el movimiento parabólico\n",
    "xs_par=v*ss\n",
    "ys_par=h-0.5*gp*ss**2\n",
    "ax.plot(xs_par,ys_par,'k+',label=\"Galileo\")\n",
    "\n",
    "#Decoración\n",
    "ax.legend()\n",
    "ax.set_xlabel(\"$x$\")\n",
    "ax.set_ylabel(\"$y$\")\n",
    "fig.tight_layout()"
   ]
  },
  {
   "cell_type": "markdown",
   "metadata": {},
   "source": [
    "<a id='fig:05.05.00.00.RelatividadGeneral.InerciaYGeodesicas_37'></a><center><b>Figura 5.37.</b> </center>"
   ]
  },
  {
   "cell_type": "markdown",
   "metadata": {},
   "source": [
    "Que se corresponde con lo esperado: el cuerpo describe una trayectoria parabólica en el espacio."
   ]
  },
  {
   "cell_type": "markdown",
   "metadata": {},
   "source": [
    "## 5.8. Simetrías y cantidades conservadas\n",
    "<a id='simetrias_conservacion'></a>"
   ]
  },
  {
   "cell_type": "markdown",
   "metadata": {},
   "source": [
    "Las ecuaciones geodésicas son funamentales en Relatividad general y como tal deben ser revisadas con sumo cuidado.  Como sucede en la mecánica clásica con las ecuaciones de movimiento de Newton o las ecuaciones de Lagrange, ellas representan las ecuaciones diferenciales más importantes de la relatividad general."
   ]
  },
  {
   "cell_type": "markdown",
   "metadata": {},
   "source": [
    "Existen distintas maneras de escribir las ecuaciones de la geodésica:\n",
    "\n",
    "\n",
    "1. Versión original:\n",
    "   $$\n",
    "    \\frac{\\mathrm{d^2} x^\\mu}{\\mathrm{d}\\tau^2} = - \\Gamma^\\mu_{\\alpha\\beta} \\frac{\\mathrm{d} x^\\alpha}{\\mathrm{d}\\tau}\\frac{\\mathrm{d} x^\\beta}{\\mathrm{d}\\tau}\n",
    "    $$\n",
    "   que en notación de Newton es:\n",
    "   $$\n",
    "   \\ddot{x}^\\mu = - \\Gamma^\\mu_{\\alpha\\beta} \\dot{x}^\\alpha\\dot{x}^\\beta\n",
    "   $$\n",
    "    \n",
    "2. Versión linearizada\n",
    "\n",
    "   \\begin{eqnarray}\n",
    "   \\nonumber\n",
    "   \\dot{x}^\\mu & = & U^\\mu\\\\\n",
    "   \\nonumber\n",
    "   \\dot{U}^\\mu & = & - \\Gamma^\\mu_{\\alpha\\beta} U^\\alpha U^\\beta\n",
    "   \\end{eqnarray}\n",
    "   \n",
    "3. Versión variacional: si se define:\n",
    "   $$\n",
    "   L=\\sqrt{g_{\\mu\\nu}\\dot{x}^\\mu\\dot{x}^\\nu}\n",
    "   $$\n",
    "   entonces la ecuación de la geodésica es:\n",
    "   $$\n",
    "   \\frac{\\mathrm{d}}{\\mathrm{d}\\tau}\\left(\\frac{\\partial L}{\\partial \\dot x^\\alpha}\\right)-\\frac{\\partial L}{\\partial x^\\alpha}=0\n",
    "   $$"
   ]
  },
  {
   "cell_type": "markdown",
   "metadata": {},
   "source": [
    "Esta última manera de expresar la ecuación permite encontrar constantes de movimiento usando principios similares a los que se usaron en la mecánica clásica."
   ]
  },
  {
   "cell_type": "markdown",
   "metadata": {},
   "source": [
    "### 5.8.1. La métrica como constante\n",
    "<a id='metrica_constante'></a>"
   ]
  },
  {
   "cell_type": "markdown",
   "metadata": {},
   "source": [
    "Como hemos visto antes si se escoge de manera apropiada el parámetro afin entonces el valor de $L$ resulta constante e igual a D.  De aquí resulta nuestra primera constante de movimiento o cuadratura:\n",
    "\n",
    "$$\n",
    "\\sqrt{g_{\\mu\\nu}\\dot{x}^\\mu\\dot{x}^\\nu}=D\n",
    "$$\n",
    "que se puede escribir como:\n",
    "\n",
    "$$\n",
    "g_{\\mu\\nu}U^\\mu U^\\nu=D^2\n",
    "$$"
   ]
  },
  {
   "cell_type": "markdown",
   "metadata": {},
   "source": [
    "En el caso por ejemplo de una geodésica temporaloide, $D=c$ y $\\sigma=\\tau$ de modo que:\n",
    "\n",
    "$$\n",
    "g_{\\mu\\nu}U^\\mu U^\\nu=c^2\n",
    "$$"
   ]
  },
  {
   "cell_type": "markdown",
   "metadata": {},
   "source": [
    "### 5.8.2. Coordenadas cíclicas y vectores de Killing\n",
    "<a id='vector_killing'></a>"
   ]
  },
  {
   "cell_type": "markdown",
   "metadata": {},
   "source": [
    "Si una métrica no depende de una de las coordenadas $x^\\kappa$, entonces la ecuación de Euler (ecuación de la geodésica) se puede escribir como:\n",
    "\n",
    "$$\n",
    "   \\frac{\\mathrm{d}}{\\mathrm{d}\\tau}\\left(\\frac{\\partial L}{\\partial \\dot x^\\kappa}\\right)=0\n",
    "   $$"
   ]
  },
  {
   "cell_type": "markdown",
   "metadata": {},
   "source": [
    "De aquí se obtiene que la cuadratura:\n",
    "\n",
    "$$\n",
    "\\frac{\\partial L}{\\partial \\dot x^\\kappa}=\\mathrm{cte}\n",
    "$$"
   ]
  },
  {
   "cell_type": "markdown",
   "metadata": {},
   "source": [
    "Desarrollando esta ecuación obtenemos:\n",
    "\n",
    "$$\n",
    "-g_{\\kappa\\nu}\\frac{1}{L}\\frac{\\mathrm{d}x^\\nu}{\\mathrm{d}\\sigma}=-g_{\\kappa\\nu}U^\\nu=\\mathrm{cte}\n",
    "$$"
   ]
  },
  {
   "cell_type": "markdown",
   "metadata": {},
   "source": [
    "Si definimos el vector:\n",
    "\n",
    "$$\n",
    "\\xi^\\mu:(0_0,...,1_\\kappa,...,0_4)\n",
    "$$\n",
    "donde la única componente distinta de 0 es la componente $\\kappa$ entonces la constante encontrada se puede escribir como:\n",
    "\n",
    "$$\n",
    "g_{\\mu\\nu}\\xi^\\mu U^\\nu=\\mathrm{cte}\n",
    "$$"
   ]
  },
  {
   "cell_type": "markdown",
   "metadata": {},
   "source": [
    "Que no es otra cosa que el producto punto del cuadrivector $\\xi^\\mu$ y la cuadrivelocidad $U_\\nu$:\n",
    "\n",
    "$$\n",
    "\\xi^\\mu U_\\mu=\\mathrm{cte}\n",
    "$$"
   ]
  },
  {
   "cell_type": "markdown",
   "metadata": {},
   "source": [
    "Al cuadrivector $\\xi^\\mu$ se lo llama el vector de *Killing* asociado con la simetría correspondiente[$^1$](#notaspie_1)."
   ]
  },
  {
   "cell_type": "markdown",
   "metadata": {},
   "source": [
    "### 5.8.3. Ejemplo: geodésicas en coordenadas cilíndricas\n",
    "<a id='ejemplo_geodesica_cilindricas'></a>"
   ]
  },
  {
   "cell_type": "markdown",
   "metadata": {},
   "source": [
    "Un ejemplo clásico consiste en calcular las geodésicas en un espacio plano cuya métrica es expresada en coordenadas cilíndricas:\n",
    "\n",
    "$$\n",
    "\\mathrm{d}l^2=\\mathrm{d}r^2+r^2\\mathrm{d}\\phi^2+\\mathrm{d}z^2\n",
    "$$"
   ]
  },
  {
   "cell_type": "markdown",
   "metadata": {},
   "source": [
    "Consideremos geodésicas sobre el plano $z=0$.  Podemos escribir la ecuación de la geodésica o escribir sus constantes:"
   ]
  },
  {
   "cell_type": "markdown",
   "metadata": {},
   "source": [
    "1. **Constancia de la métrica**:  En este caso podemos escoger un parámetro afin tal que $D=1$:\n",
    "    \n",
    "    $$\n",
    "    \\sqrt{g_{\\mu\\nu}\\dot{x}^\\mu\\dot{x}^\\nu}=1\n",
    "    $$\n",
    "\n",
    "    que se escribe explícitamente como:\n",
    "    \n",
    "    $$\n",
    "    \\left(\\frac{\\mathrm{d}r}{\\mathrm{d}\\lambda}\\right)^2+r^2\\left(\\frac{\\mathrm{d}\\phi}{\\mathrm{d}\\lambda}\\right)^2=1\n",
    "    $$"
   ]
  },
  {
   "cell_type": "markdown",
   "metadata": {},
   "source": [
    "2. **Variables cíclicas**: En este caso $\\phi$ no aparece en la métrica y por lo tanto el vector de Killing es $\\xi^\\mu:(0,1,0)$, de allí que la siguiente cantidad sea constante:\n",
    "\n",
    "   $$\n",
    "   \\xi^\\mu \\dot{x}_\\mu=h\n",
    "   $$\n",
    "   aquí hemos escogido llamar $h$ a la constante.  Explícitamente:\n",
    "   \n",
    "   $$\n",
    "   g_{\\mu\\nu}\\xi^\\mu\\dot{x}^\\nu=h\n",
    "   $$\n",
    "   o lo que es lo mismo:\n",
    "   \n",
    "   $$\n",
    "   g_{\\phi\\phi}\\dot{\\phi}=r^2\\dot{\\phi}=h\n",
    "   $$"
   ]
  },
  {
   "cell_type": "markdown",
   "metadata": {},
   "source": [
    "Dividiendo esta última ecuación por la primera obtenemos:\n",
    "\n",
    "$$\n",
    "\\frac{\\mathrm{d}\\phi}{\\mathrm{d}r}=\\frac{l}{r^2}\\left(1-\\frac{h^2}{r^2}\\right)^{-1/2}\n",
    "$$"
   ]
  },
  {
   "cell_type": "markdown",
   "metadata": {},
   "source": [
    "Que puede integrarse para dar:\n",
    "\n",
    "$$\n",
    "\\phi=\\phi_0+\\cos^{-1}\\left(\\frac{h}{r}\\right)\n",
    "$$"
   ]
  },
  {
   "cell_type": "markdown",
   "metadata": {},
   "source": [
    "Despejando $r$ obtenemos la forma de las geodésicas:\n",
    "\n",
    "$$\n",
    "r \\cos(\\phi-\\phi_0)=h\n",
    "$$"
   ]
  },
  {
   "cell_type": "markdown",
   "metadata": {},
   "source": [
    "Desarrollando el coseno y teniendo en cuenta que $r\\cos\\phi=x$ y $r\\sin\\phi=y$:\n",
    "\n",
    "$$\n",
    "x\\cos\\phi_0+y\\sin\\phi_0=h\n",
    "$$\n",
    "que es la ecuación general de una línea recta y que es lo que estabamos esperando."
   ]
  },
  {
   "cell_type": "markdown",
   "metadata": {},
   "source": [
    "### 5.8.4. Ejemplo: geodésicas sobre una esfera\n",
    "<a id='ejemplo_geodesica_esfera'></a>"
   ]
  },
  {
   "cell_type": "markdown",
   "metadata": {},
   "source": [
    "Un ejemplo clásico consiste en calcular las geodésicas sobre una esfera:\n",
    "\n",
    "$$\n",
    "\\mathrm{d}l^2=R^2\\mathrm{d}\\theta^2+R^2\\sin^2\\theta\\;\\mathrm{d}\\phi^2\n",
    "$$\n",
    "\n",
    "Ya habíamos hecho este cálculo numéricamente.  Hagámoslo ahora analíticamente."
   ]
  },
  {
   "cell_type": "markdown",
   "metadata": {},
   "source": [
    "1. **Constancia de la métrica**:  En este caso podemos escoger un parámetro afin tal que $D=1$:\n",
    "    \n",
    "    $$\n",
    "    \\sqrt{g_{\\mu\\nu}\\dot{x}^\\mu\\dot{x}^\\nu}=1\n",
    "    $$\n",
    "\n",
    "    que se escribe explícitamente como:\n",
    "    \n",
    "    $$\n",
    "    R^{2}\\left(\\frac{\\mathrm{d} \\theta}{\\mathrm{d} \\lambda}\\right)^{2}+R^{2} \\sin^{2} \\theta\\left(\\frac{\\mathrm{d} \\varphi}{\\mathrm{d} \\lambda}\\right)^{2}=1\n",
    "    $$"
   ]
  },
  {
   "cell_type": "markdown",
   "metadata": {},
   "source": [
    "2. **Variables cíclicas**: En este caso $\\phi$ no aparece en la métrica y por lo tanto el vector de Killing es $\\xi^\\mu:(0,1,0)$, de allí que la siguiente cantidad sea constante:\n",
    "\n",
    "   $$\n",
    "   g_{\\phi\\phi}\\dot{\\phi}=R^2\\sin^2\\theta\\dot{\\phi}=h\n",
    "   $$"
   ]
  },
  {
   "cell_type": "markdown",
   "metadata": {},
   "source": [
    "Dividiendo término a término la primera por el cuadrado de la segunda y reorganizando se produce:\n",
    "\n",
    "$$\n",
    "\\frac{1}{\\sin^2\\theta}\\left(\\frac{\\mathrm{d} \\theta}{\\mathrm{d} \\phi}\\right)^{2}+1=h^2 R^2\\sin^2\\theta\n",
    "$$"
   ]
  },
  {
   "cell_type": "markdown",
   "metadata": {},
   "source": [
    "Llamando $\\kappa=h^2R^2$, la integral y separando variables obtenemos:\n",
    "\n",
    "$$\n",
    "\\pm \\int d \\phi=\\int \\frac{d \\theta}{\\operatorname{sen} \\theta \\sqrt{\\kappa \\operatorname{sen}^{2} \\theta-1}}\n",
    "$$"
   ]
  },
  {
   "cell_type": "markdown",
   "metadata": {},
   "source": [
    "Por tablas de integrales:\n",
    "\n",
    "$$\n",
    "\\tan\\left(\\phi+\\phi_{0}\\right)=\\mp \\frac{\\cos \\theta}{\\sqrt{\\kappa \\operatorname{sen}^{2} \\theta-1}}\n",
    "$$"
   ]
  },
  {
   "cell_type": "markdown",
   "metadata": {},
   "source": [
    "Que puede escribirse como:\n",
    "\n",
    "$$\n",
    "\\operatorname{sin}\\left(\\phi+\\phi_{0}\\right)=\\frac{\\cos \\theta}{\\sqrt{\\kappa-1} \\operatorname{sin} \\theta}\n",
    "$$"
   ]
  },
  {
   "cell_type": "markdown",
   "metadata": {},
   "source": [
    "Y que se puede desarrollar como:\n",
    "\n",
    "$$\n",
    "\\operatorname{sin} \\phi_{0}(R \\operatorname{sin} \\theta \\cos \\phi)+\\cos \\phi_{0}(R \\operatorname{sin} \\theta \\operatorname{sin} \\varphi)=\\frac{1}{\\sqrt{\\kappa-1}}(R \\cos \\theta)\n",
    "$$"
   ]
  },
  {
   "cell_type": "markdown",
   "metadata": {},
   "source": [
    "Que se puede escribir en coordenadas cartesianas como:\n",
    "\n",
    "$$\n",
    "x\\sin\\phi_0+y\\cos\\phi_0-z\\frac{1}{\\sqrt{\\kappa-1}}=0\n",
    "$$\n",
    "que es la ecuación de un plano que pasa por el origen de coordenadas y cuyas coordenadas $x,y,z$ están sobre la superficie de la esfera.  Es decir, esta es la ecuación de una circunferencia máxima, que es lo que sabemos para una geodésica sobre una esfera."
   ]
  },
  {
   "cell_type": "markdown",
   "metadata": {
    "tags": [
     "footnote"
    ]
   },
   "source": [
    "**NOTAS AL PIE:**\n",
    "\n",
    "<a id='notaspie_1'></a>\n",
    "1. El nombre de vector de Killing viene del matemático alemán Wilhelm Killing (1847-1923) y no de que sea un vector con una acción *asesina*.\n",
    "\n"
   ]
  }
 ],
 "metadata": {
  "celltoolbar": "Tags",
  "kernelspec": {
   "display_name": "Python 3",
   "language": "python",
   "name": "python3"
  },
  "language_info": {
   "codemirror_mode": {
    "name": "ipython",
    "version": 3
   },
   "file_extension": ".py",
   "mimetype": "text/x-python",
   "name": "python",
   "nbconvert_exporter": "python",
   "pygments_lexer": "ipython3",
   "version": "3.6.8"
  }
 },
 "nbformat": 4,
 "nbformat_minor": 2
}
