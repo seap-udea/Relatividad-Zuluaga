{
 "cells": [
  {
   "cell_type": "markdown",
   "metadata": {
    "tags": [
     "navigation"
    ]
   },
   "source": [
    "[Indice](index.ipynb) | Previo: [Aplicaciones.CosmologiaRelativista](01.01.00.00.Aplicaciones.CosmologiaRelativista.ipynb) | Siguiente: [Apendices.CodigosUtiles](02.01.00.00.Apendices.CodigosUtiles.ipynb)"
   ]
  },
  {
   "cell_type": "markdown",
   "metadata": {},
   "source": [
    "### 1.1.3. Principios básicos\n",
    "<a id='principios_basicos'></a>"
   ]
  },
  {
   "cell_type": "markdown",
   "metadata": {},
   "source": [
    "Para responder a todas las preguntas relevantes en cosmología es necesario encontrar la métrica del Universo."
   ]
  },
  {
   "cell_type": "markdown",
   "metadata": {},
   "source": [
    "Con base en las evidencias recogidas anteriormente podemos decir que actualmente el Universo esta formado por una distribución de materia homogenea, isotrópica y de muy baja densidad, en la que las partículas se mueven muy lentamente comparada con la velocidad de la luz (con velocidades propias del orden de 100 km/s la velocidad de las galaxias es menor que 0.1% de la velocidad de la luz."
   ]
  },
  {
   "cell_type": "markdown",
   "metadata": {
    "label": "",
    "subtitle": "Principio cosmológico**. En cualquier momento y a una escala suficientemente grande, el universo es **homogeneo",
    "tags": [
     "box_principle"
    ],
    "title": "Principio"
   },
   "source": [
    "> **Principio: Principio cosmológico**. En cualquier momento y a una escala suficientemente grande, el universo es **homogeneo.**<a id=''></a> (es el mismo en todas partes, tiene la misma densidad y curvatura) e isotrópico (la elección de ejes coordenados no afecta la descripción de la geometría)."
   ]
  },
  {
   "cell_type": "markdown",
   "metadata": {},
   "source": [
    "Aquí es importante entender que esta suposición implica que todo lo que digamos en lo sucesivo aplicará unicamente bajo el supuesto de homogeneidad e isotropía.  Sin embargo el universo es más complejo que eso y puede a escalar de planetas, estrellas, galaxias incluso cúmulos y supercúmulos tener una estructura granulosa."
   ]
  },
  {
   "cell_type": "markdown",
   "metadata": {},
   "source": [
    "Otro \"inconveniente\" con el principio cosmológico es que no es necesariamente válido para todos los observadores del Universo.  Por ejemplo, un observador que se mueva no percibirá el universo isotrópico."
   ]
  },
  {
   "cell_type": "markdown",
   "metadata": {},
   "source": [
    "Para esto se introduce un nuevo principio:"
   ]
  },
  {
   "cell_type": "markdown",
   "metadata": {
    "label": "",
    "subtitle": "Principio de Weyl**. Existe un conjunto de observadores privilegiados  en el universo que llamaremos **observadores fundamentales",
    "tags": [
     "box_principle"
    ],
    "title": "Principio"
   },
   "source": [
    "> **Principio: Principio de Weyl**. Existe un conjunto de observadores privilegiados  en el universo que llamaremos **observadores fundamentales.**<a id=''></a> , que lo perciben como homogéneo e isotrópico y que tienen las siguientes características:\n",
    "\n",
    "> - Las lineas de universo de estos observadores nunca se cruzan (excepto en un singularidad inicial).\n",
    "> - El tiempo propio de estos observadores es el mismo de modo que se puede definir para cada evento del universo un **tiempo cósmico** referido a cualquier evento presente o pasado.\n",
    "> - Todos los eventos del universo que tienen el mismo valor del tiempo cósmico forman una hipersuperficie espacialoide que satisface el principio cosmológico (es homogénea e isotrópica). "
   ]
  },
  {
   "cell_type": "markdown",
   "metadata": {},
   "source": [
    "<a id='fig:Figure_4'></a>![Observadores fundamentales de acuerdo con el principio de Weyl](./figures/square_observadores_fundamentales.png)\n",
    "\n",
    "<center><b>Figura 1.4</b>. Observadores fundamentales de acuerdo con el principio de Weyl</center>"
   ]
  },
  {
   "cell_type": "markdown",
   "metadata": {},
   "source": [
    "Sobre cada hipersuperficie se pueden definir las coordenadas que ocupan los observadores fundamentales de modo que no cambien con el tiempo (dado que la relación entre los observadores fundamentales tampoco cambian).  A estas coordenadas las llamamos **coordenadas comóviles**."
   ]
  },
  {
   "cell_type": "markdown",
   "metadata": {},
   "source": [
    "### 1.1.4. La métrica del Universo\n",
    "<a id='metrica_universo'></a>"
   ]
  },
  {
   "cell_type": "markdown",
   "metadata": {},
   "source": [
    "Con las condiciones anteriores la métrica más general que podemos escribir que satisfaga estas condiciones es:\n",
    "\n",
    "$$\n",
    "\\mathrm{d}s^2=c\\mathrm{d}t^2-S(t)^2\\mathrm{d}\\ell^2\n",
    "$$\n",
    "donde $t$ es el tiempo cósmico, $S(t)$ es una función arbitraria que depende del tiempo y $\\mathrm{d}\\ell^2$ es el elemento de línea en las hipersuperficies de tiempo cósmico constante."
   ]
  },
  {
   "cell_type": "markdown",
   "metadata": {
    "tags": [
     "navigation"
    ]
   },
   "source": [
    "[Indice](index.ipynb) | Previo: [Aplicaciones.CosmologiaRelativista](01.01.00.00.Aplicaciones.CosmologiaRelativista.ipynb) | Siguiente: [Apendices.CodigosUtiles](02.01.00.00.Apendices.CodigosUtiles.ipynb)"
   ]
  }
 ],
 "metadata": {
  "celltoolbar": "Tags",
  "kernelspec": {
   "display_name": "Python 3",
   "language": "python",
   "name": "python3"
  },
  "language_info": {
   "codemirror_mode": {
    "name": "ipython",
    "version": 3
   },
   "file_extension": ".py",
   "mimetype": "text/x-python",
   "name": "python",
   "nbconvert_exporter": "python",
   "pygments_lexer": "ipython3",
   "version": "3.6.8"
  }
 },
 "nbformat": 4,
 "nbformat_minor": 2
}
