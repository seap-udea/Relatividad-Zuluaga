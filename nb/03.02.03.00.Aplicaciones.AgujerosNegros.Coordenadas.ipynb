{
 "cells": [
  {
   "cell_type": "markdown",
   "metadata": {
    "tags": [
     "navigation"
    ]
   },
   "source": [
    "[Indice](index.ipynb) | Previo: [Aplicaciones.AgujerosNegros.Geodesicas](03.02.02.00.Aplicaciones.AgujerosNegros.Geodesicas.ipynb) | Siguiente: [Aplicaciones.CosmologiaRelativista](03.03.00.00.Aplicaciones.CosmologiaRelativista.ipynb)"
   ]
  },
  {
   "cell_type": "markdown",
   "metadata": {},
   "source": [
    "### 3.2.13. Coordenadas avanzadas de Eddington-Finkelstein\n",
    "<a id='eddington_finkelstein'></a>"
   ]
  },
  {
   "cell_type": "markdown",
   "metadata": {},
   "source": [
    "En los 1950 David Finkelstein estudiando las simetrías (en realidad asimetrías) de la superficie especial $r=R_S$ utilizó una idea debida originalmente a Eddington para describir mejor los eventos alrededor de un agujero negro.  La idea fue desarrollada posteriormente por Roger Penrose y hoy se conoce como las coordenadas avanzadas de Eddington-Finkelstein."
   ]
  },
  {
   "cell_type": "markdown",
   "metadata": {},
   "source": [
    "La idea consiste en hacer un cambio en la coordenada temporal haciendo:\n",
    "\n",
    "$$\n",
    "ct'=ct\\pm R_S\\ln\\left|\\frac{r}{R_S}-1\\right|\n",
    "$$\n",
    "donde el signo $+$ aplica para geodésicas que se alejan del agujero negro y el signo $-$ aplica para aquellas que se acercan a él."
   ]
  },
  {
   "cell_type": "markdown",
   "metadata": {},
   "source": [
    "Con este cambio de coordenadas la métrica nos queda:\n",
    "\n",
    "$$\n",
    "(\\mathrm{d} s)^{2}=c^{2}\\left(1-\\frac{R_{\\mathrm{S}}}{r}\\right)\\left(\\mathrm{d} t^{\\prime}\\right)^{2}\\mp 2 \\frac{R_{\\mathrm{S}}}{r} c \\mathrm{d} t^{\\prime} \\mathrm{d} r-r^{2}\\left(1+\\frac{R_{\\mathrm{S}}}{r}\\right)(\\mathrm{d} r)^{2}-\\mathrm{d}\\ell^2\n",
    "$$"
   ]
  },
  {
   "cell_type": "markdown",
   "metadata": {},
   "source": [
    "Si consideramos movimiento de la luz en dirección radial, la ecuación de las geodésicas nulas (rayos de luz) que caen hacia el agujero negro serán:\n",
    "\n",
    "\\begin{eqnarray}\n",
    "c^{2}\\left(1-\\frac{R_{\\mathrm{S}}}{r}\\right)\\left(\\mathrm{d} t^{\\prime}\\right)^{2}\\mp 2 \\frac{R_{\\mathrm{S}}}{r} c \\mathrm{d} t^{\\prime} \\mathrm{d} r-\\left(1+\\frac{R_{\\mathrm{S}}}{r}\\right)(\\mathrm{d} r)^{2}=0\n",
    "\\end{eqnarray}"
   ]
  },
  {
   "cell_type": "markdown",
   "metadata": {},
   "source": [
    "Las ecuaciones de la geodésicas nulas se pueden escribir ahora como:\n",
    "\n",
    "\\begin{eqnarray}\n",
    "\\left(1+\\frac{R_{\\mathrm{S}}}{r}\\right)\\left(\\frac{\\mathrm{d} r}{\\mathrm{d} t^{\\prime}}\\right)^{2}\\pm 2c \\frac{R_{\\mathrm{S}}}{r} \\frac{\\mathrm{d} r}{\\mathrm{d} t^{\\prime}}=c^2\\left(1-\\frac{R_{\\mathrm{S}}}{r}\\right)\n",
    "\\end{eqnarray}\n",
    "\n",
    "donde el signo \"+\" es para geodésicas que entran y el \"-\" para las que salen."
   ]
  },
  {
   "cell_type": "markdown",
   "metadata": {},
   "source": [
    "Con el siguiente código podemos resolver esta ecuación diferencial:"
   ]
  },
  {
   "cell_type": "code",
   "execution_count": 91,
   "metadata": {
    "codelabel": "",
    "codeplot": 0
   },
   "outputs": [],
   "source": [
    "from sympy import Function,dsolve,Derivative,init_printing\n",
    "from sympy.abc import t,R,c\n",
    "init_printing()\n",
    "r=Function(\"r\")\n",
    "\n",
    "resultado=dsolve((1+R/r(t))*Derivative(r(t),t)**2+2*c*R/r(t)*Derivative(r(t),t)-c**2*(1-R/r(t)),r(t))"
   ]
  },
  {
   "cell_type": "code",
   "execution_count": 92,
   "metadata": {
    "codelabel": "",
    "codeplot": 0,
    "tags": [
     "hide_input"
    ]
   },
   "outputs": [
    {
     "data": {
      "image/png": "[encoded data removed]",
      "text/latex": [
       "$\\displaystyle r{\\left(t \\right)} = C_{1} - c t$"
      ],
      "text/plain": [
       "r(t) = C₁ - c⋅t"
      ]
     },
     "execution_count": 92,
     "metadata": {},
     "output_type": "execute_result"
    }
   ],
   "source": [
    "resultado"
   ]
  },
  {
   "cell_type": "markdown",
   "metadata": {},
   "source": [
    "<a id='fig:Figure_59'></a>![Geodésica nula en las coordenadas de Finkelstein-Eddington](./figures/square_geodesica_nula_FE.png)\n",
    "\n",
    "<center><b>Figura 3.59</b>. Geodésica nula en las coordenadas de Finkelstein-Eddington</center>"
   ]
  },
  {
   "cell_type": "markdown",
   "metadata": {},
   "source": [
    "### 3.2.14. Coordenadas de Painlevé-Gullstrand\n",
    "<a id='painleve_gullstrand'></a>"
   ]
  },
  {
   "cell_type": "markdown",
   "metadata": {},
   "source": [
    "Otro conjunto de coordenadas conveniente para descibir la geometría del espacio-tiempo alrededor de un agujero negro son las coordenadas de Painlevé-Gullstrand."
   ]
  },
  {
   "cell_type": "markdown",
   "metadata": {},
   "source": [
    "Consideremos una partícula que se suelta desde el reposo en $r=r_0$.  Para esta partícula sabemos que a lo largo de su línea de universo:\n",
    "\n",
    "$$\n",
    "\\left(1-\\frac{R_S}{r}\\right)\\left(\\frac{\\mathrm{d} t}{\\mathrm{d} \\tau}\\right)={\\cal E}\n",
    "$$\n",
    "donde\n",
    "\n",
    "$$\n",
    "\\left(\\frac{E_\\infty}{m c^{2}}\\right)^{2}=1-\\frac{R_S}{r_0}\n",
    "$$\n",
    "y también:\n",
    "\n",
    "$$\n",
    "\\left(\\frac{\\mathrm{d} r}{\\mathrm{d} \\tau}\\right)^{2}=c^{2}R_S\\left(\\frac{1}{r}-\\frac{1}{r_0}\\right)\n",
    "$$"
   ]
  },
  {
   "cell_type": "markdown",
   "metadata": {},
   "source": [
    "Si lanzo la partícula desde una distancia inicial $r_0$ muy grande del agujero negro entonces:\n",
    "\n",
    "\\begin{eqnarray}\n",
    "\\nonumber\n",
    "c d \\tau & = & -\\sqrt{r /R_S} d r \\\\\n",
    "\\nonumber\n",
    "d \\tau & = & (1-R_S/ r) d t\n",
    "\\end{eqnarray}"
   ]
  },
  {
   "cell_type": "markdown",
   "metadata": {},
   "source": [
    "Queremos ahora expresar $\\mathrm{d}t$ en función de $\\mathrm{d}\\tau$ y $\\mathrm{d}r$.  Combinando las ecuaciones obtenemos:\n",
    "\n",
    "$$\n",
    "c^{2} d t^{2}=\\left(c d \\tau-\\frac{\\sqrt{R_S/ r} d r}{1-R_S/ r}\\right)^{2}\n",
    "$$"
   ]
  },
  {
   "cell_type": "markdown",
   "metadata": {},
   "source": [
    "Si reemplazamos en la métrica de Schwarzschild obtenemos:\n",
    "\n",
    "$$\n",
    "d s^{2}=(1-R_S/ r)\\left(c d \\tau-\\frac{\\sqrt{R_S/ r} d r}{1-R_S/ r}\\right)^{2}-(1-R_S/ r)^{-1} d r^{2}-r^{2}\\left(d \\theta^{2}+\\operatorname{sen}^{2} \\theta d \\varphi^{2}\\right)\n",
    "$$\n",
    "que se simplifica como:\n",
    "\n",
    "$$\n",
    "d s^{2}=\\left(1-\\frac{R_S}{r}\\right) c^{2} d \\tau^{2}-2 \\sqrt{\\frac{R_S}{r}} c d \\tau d r-d r^{2}-r^{2}\\left(d \\theta^{2}+\\operatorname{sen}^{2} \\theta d \\varphi^{2}\\right)\n",
    "$$"
   ]
  },
  {
   "cell_type": "markdown",
   "metadata": {},
   "source": [
    "Esta métrica no tiene ninguna singularidad en $r=R_S$ y de nuevo demuestra que esa singularidad es solo consecuencia de nuestra elección de las coordenadas."
   ]
  },
  {
   "cell_type": "markdown",
   "metadata": {},
   "source": [
    "Llamamos a $(\\tau,r,\\theta,\\phi)$ las **coordenadas de Painlevé-Gullstrand**."
   ]
  },
  {
   "cell_type": "markdown",
   "metadata": {},
   "source": [
    "De manera interesante es que una superficie de igual valor de $\\tau$ tiene métrica:\n",
    "\n",
    "$$\n",
    "\\mathrm{d}\\ell^2=\\mathrm{d}r^2+r^{2}\\left(d \\theta^{2}+\\operatorname{sen}^{2} \\theta d \\varphi^{2}\\right)\n",
    "$$\n",
    "que es la métrica de un espacio plano.  No es ese el caso cuando se toma igual valor de $t$ en el que se obtiene un espacio curvo."
   ]
  },
  {
   "cell_type": "markdown",
   "metadata": {},
   "source": [
    "Veamos ahora las geodésicas nulas radiales en este espacio:\n",
    "\n",
    "$$\n",
    "0=\\left(1-\\frac{R_S}{r}\\right) c^{2} d \\tau^{2}-2 \\sqrt{\\frac{R_S}{r}} c d \\tau d r-d r^{2}\n",
    "$$"
   ]
  },
  {
   "cell_type": "markdown",
   "metadata": {},
   "source": [
    "Esta geodésica se puede escribir como la ecuación diferencial:\n",
    "\n",
    "$$\n",
    "\\left(\\frac{1}{c}\\frac{\\mathrm{d} r}{\\mathrm{d}\\tau}\\right)^{2}+2\\sqrt{\\frac{R_{\\mathrm{S}}}{r}}\\left(\\frac{1}{c}\\frac{\\mathrm{d} r}{\\mathrm{d}\\tau}\\right)=\\left(1-\\frac{R_{\\mathrm{S}}}{r}\\right)\n",
    "$$"
   ]
  },
  {
   "cell_type": "markdown",
   "metadata": {},
   "source": [
    "Las dos soluciones a esta ecuación de segundo grado son:\n",
    "\n",
    "$$\n",
    "\\frac{1}{c}\\frac{\\mathrm{d} r}{\\mathrm{d}\\tau}=\\pm 1-\\sqrt{\\frac{R_{\\mathrm{S}}}{r}}\n",
    "$$\n",
    "donde el signo $+$ corresponde a la geodésica que sale y el signo $-$ a la geodésica que entra."
   ]
  },
  {
   "cell_type": "markdown",
   "metadata": {},
   "source": [
    "En la región exterior, $r>R_S$m donde $R_S/r<1$, la geodésica que sale tiene $\\mathrm{d}r/\\mathrm{d}\\tau>0$ mientras que la geodésica que entra es $\\mathrm{d}r/\\mathrm{d}\\tau<0$.  En la superficie del agujero negro la geodésica nula es tal que $\\mathrm{d}r/\\mathrm{d}\\tau=0$, es decir $r=R_S$."
   ]
  },
  {
   "cell_type": "markdown",
   "metadata": {},
   "source": [
    "Sin embargo, en la región interior al agujero negro, en la que $r<R_S$ y por tanto $R_S/r>1$, ambas geodésicas, la que entra y la que sale apuntan hacia $r=0$.  Este es otra vez un indicio de la asimetría en el espacio-tiempo afuera y adentro del agujero negro."
   ]
  },
  {
   "cell_type": "markdown",
   "metadata": {},
   "source": [
    "### 3.2.15. Coordenadas de Kruskal-Szekeres\n",
    "<a id='kruskal_szekeres'></a>"
   ]
  },
  {
   "cell_type": "markdown",
   "metadata": {},
   "source": [
    "Uno de los más poderosos sistemas de coordenadas para describir las propiedades del espacio-tiempo de Schwarzschild es el de Kruskal-Szekeres.  En este sistema de coordenaas cambiamoslas variables radial y temporal por dos variables nuevas $u$ y $v$ que satisfacen las transformaciones:\n",
    "\n",
    "\\begin{eqnarray}\n",
    "\\nonumber\n",
    "v &=e^{r / 2 R_s} \\sqrt{1-r / R_S} \\cosh \\frac{c t}{2 R_S} \\\\\n",
    "\\nonumber\n",
    "u &=e^{r / 2 R_s} \\sqrt{1-r / R_S} \\sinh \\frac{c t}{2 R_S}\n",
    "\\end{eqnarray}\n",
    "para $r>s$ y:\n",
    "\n",
    "\\begin{eqnarray}\n",
    "\\nonumber\n",
    "v &=e^{r / 2 R_s} \\sqrt{1-r / R_S} \\sinh \\frac{c t}{2 R_S} \\\\\n",
    "\\nonumber\n",
    "u &=e^{r / 2 R_s} \\sqrt{1-r / R_S} \\cosh \\frac{c t}{2 R_S}\n",
    "\\end{eqnarray}\n"
   ]
  },
  {
   "cell_type": "markdown",
   "metadata": {},
   "source": [
    "Nótese que:\n",
    "\n",
    "$$\n",
    "\\left(\\frac{r}{R_S}-1\\right) e^{r /R_S}=u^{2}-v^{2}\n",
    "$$"
   ]
  },
  {
   "cell_type": "markdown",
   "metadata": {},
   "source": [
    "Para cualquier valor de $r$ se cumple:\n",
    "\n",
    "\\begin{eqnarray}\n",
    "d v & = & \\frac{c}{2 R_S} u d t+\\frac{1}{2 R_S}(1-R_S/ r)^{-1} v d r \\\\\n",
    "d u & = & \\frac{c}{2 R_S} v d t+\\frac{1}{2 R_S}(1-R_S/ r)^{-1} u d r\n",
    "\\end{eqnarray}\n",
    "y la diferencia de los cuadrados es:\n",
    "\n",
    "$$\n",
    "(d v)^{2}-(d u)^{2}=\\frac{1}{4 R_S^{2}} \\frac{u^{2}-v^{2}}{1-R_S/ r}\\left[c^{2}(1-R_S/ r) d t^{2}-(1-R_S/ r)^{-1} d r^{2}\\right]\n",
    "$$"
   ]
  },
  {
   "cell_type": "markdown",
   "metadata": {},
   "source": [
    "Al lado derecho reconocemos la métrica de Schwarzschild de modo que en estas coordenadas podemos escribir la métrica como:\n",
    "\n",
    "$$\n",
    "d s^{2}=\\frac{4 R_S^{3}}{r} e^{-r /R_S}\\left(d v^{2}-d u^{2}\\right)-r^{2}\\left(d \\theta^{2}+\\operatorname{sen}^{2} \\theta d \\varphi^{2}\\right)\n",
    "$$"
   ]
  },
  {
   "cell_type": "markdown",
   "metadata": {},
   "source": [
    "En la métrica vemos que la variable $v$ corresponde a lo que podríamos entender aquí como el tiempo.  En cambio $u$ es como el espacio."
   ]
  },
  {
   "cell_type": "markdown",
   "metadata": {},
   "source": [
    "Como analizar la geometría en estas coordenadas. Podemos invertir las transformaciones para encontrar el tiempo como función de $u$ y de $v$:\n",
    "\n",
    "Para $r>R_S$:\n",
    "$$\n",
    "c t=2 R_S \\tanh^{-1}(u / v)\n",
    "$$\n",
    "y para $r<R_S$:\n",
    "\n",
    "$$\n",
    "c t=2 R_S \\tanh^{-1}(v / u)\n",
    "$$"
   ]
  },
  {
   "cell_type": "markdown",
   "metadata": {},
   "source": [
    "De aquí vemos que para $v=ku$, $t$ es constante.  Cuando $u=v$, $t=\\infty$. "
   ]
  },
  {
   "cell_type": "markdown",
   "metadata": {},
   "source": [
    "Vemos también que valores de $r$ constantes corresponden a hipérbolas.   En el exterior:\n",
    "\n",
    "$$\n",
    "v^2-u^2=\\mathrm{cte}\n",
    "$$\n",
    "y en el interior:\n",
    "\n",
    "$$\n",
    "u^2-v^2=\\mathrm{cte}\n",
    "$$"
   ]
  },
  {
   "cell_type": "markdown",
   "metadata": {},
   "source": [
    "También vemos que cuando $r=0$ tenemos una hipérbola de valor máximo de $u$."
   ]
  },
  {
   "cell_type": "markdown",
   "metadata": {},
   "source": [
    "Las geodésicas nulas en este caso son:\n",
    "\n",
    "$$\n",
    "\\mathrm{d}u=\\pm\\mathrm{d}v\n",
    "$$\n",
    "que corresponden a lineas a 45$^\\circ$."
   ]
  },
  {
   "cell_type": "markdown",
   "metadata": {},
   "source": [
    "<a id='fig:Figure_60'></a>![Mapa del espacio tiempo en las coordenadas de Kruskal-Szekeres](./figures/square_kruskal_szekeres.png)\n",
    "\n",
    "<center><b>Figura 3.60</b>. Mapa del espacio tiempo en las coordenadas de Kruskal-Szekeres</center>"
   ]
  },
  {
   "cell_type": "markdown",
   "metadata": {
    "tags": [
     "navigation"
    ]
   },
   "source": [
    "[Indice](index.ipynb) | Previo: [Aplicaciones.AgujerosNegros.Geodesicas](03.02.02.00.Aplicaciones.AgujerosNegros.Geodesicas.ipynb) | Siguiente: [Aplicaciones.CosmologiaRelativista](03.03.00.00.Aplicaciones.CosmologiaRelativista.ipynb)"
   ]
  }
 ],
 "metadata": {
  "celltoolbar": "Tags",
  "kernelspec": {
   "display_name": "Python 3",
   "language": "python",
   "name": "python3"
  },
  "language_info": {
   "codemirror_mode": {
    "name": "ipython",
    "version": 3
   },
   "file_extension": ".py",
   "mimetype": "text/x-python",
   "name": "python",
   "nbconvert_exporter": "python",
   "pygments_lexer": "ipython3",
   "version": "3.6.8"
  }
 },
 "nbformat": 4,
 "nbformat_minor": 2
}
