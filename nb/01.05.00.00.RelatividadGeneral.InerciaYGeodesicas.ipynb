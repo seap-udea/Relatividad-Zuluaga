{
 "cells": [
  {
   "cell_type": "markdown",
   "metadata": {
    "tags": [
     "navigation"
    ]
   },
   "source": [
    "[Indice](index.ipynb) | Previo: [RelatividadGeneral.Geodesicas](01.04.00.00.RelatividadGeneral.Geodesicas.ipynb) | "
   ]
  },
  {
   "cell_type": "markdown",
   "metadata": {},
   "source": [
    "## 1.5. La geodésica y un principio variacional\n",
    "<a id='geodesica_variacional'></a>"
   ]
  },
  {
   "cell_type": "markdown",
   "metadata": {},
   "source": [
    "Una deducción alternativa de la ecuación geodésica se puede obtener mediante un principio variacional. "
   ]
  },
  {
   "cell_type": "markdown",
   "metadata": {},
   "source": [
    "Sabemos que la longitud de un intervalo en el espacio-tiempo es:\n",
    "\n",
    "$$\n",
    "\\mathrm{d}s^2=g_{\\mu\\nu}\\mathrm{d}x^\\mu\\mathrm{d}x^\\nu\n",
    "$$"
   ]
  },
  {
   "cell_type": "markdown",
   "metadata": {},
   "source": [
    "La longitud entonces de una curva hecha solo de intervalos temporaloides o luminoides, entre dos eventos $A$ y $B$ será:\n",
    "\n",
    "$$\n",
    "S=\\int_A^B \\mathrm{d}s=\\int_A^B \\sqrt{g_{\\mu\\nu}(x^\\alpha)\\mathrm{d}x^\\mu\\mathrm{d}x^\\nu}\n",
    "$$\n",
    "donde $x^\\alpha$ son los puntos a lo largo de la trayectoria."
   ]
  },
  {
   "cell_type": "markdown",
   "metadata": {},
   "source": [
    "Si suponemos que parametrizamos los eventos en la trayectoria con un parámetro $\\lambda$, de modo que $x^\\alpha(\\lambda)$ esta espresión se puede escribir como:\n",
    "\n",
    "$$\n",
    "S=\\int_A^B\\sqrt{g_{\\mu\\nu}(x^\\alpha)\\frac{\\mathrm{d}x^\\mu}{\\mathrm{d}\\lambda}\\frac{\\mathrm{d}x^\\nu}{\\mathrm{d}\\lambda}}\\mathrm{d}\\lambda\n",
    "$$"
   ]
  },
  {
   "cell_type": "markdown",
   "metadata": {},
   "source": [
    "La geodésica entre los eventos $A$ y $B$ será aquella curva tal que la longitud total entre ellos es *extremal*:\n",
    "\n",
    "$$\n",
    "\\delta S=0\n",
    "$$"
   ]
  },
  {
   "cell_type": "markdown",
   "metadata": {},
   "source": [
    "El intervalo entre puntos de la geodésica lo llamaremos en lo sucesivo:\n",
    "\n",
    "$$\n",
    "\\mathrm{d}\\sigma^2\\equiv g_{\\mu\\nu}\\mathrm{d}x^\\mu\\mathrm{d}x^\\nu\n",
    "$$"
   ]
  },
  {
   "cell_type": "markdown",
   "metadata": {},
   "source": [
    "El problema de la determinación de la geodésica es similar al problema de la mecánica clásica de la determinación de la trayectoria real de un sistema en el espacio de configuración que tiene acción $S$ y lagrangiano $L$."
   ]
  },
  {
   "cell_type": "markdown",
   "metadata": {},
   "source": [
    "Aquí vemos que el papel de la acción $S$ de la mecánica clásica lo juega la longitud de arco y el papel del Lagrangiano lo juega la cantidad:\n",
    "\n",
    "$$\n",
    "L\\equiv\\sqrt{g_{\\mu\\nu}\\frac{\\mathrm{d}x^\\mu}{\\mathrm{d}\\lambda}\\frac{\\mathrm{d}x^\\nu}{\\mathrm{d}\\lambda}}\n",
    "$$"
   ]
  },
  {
   "cell_type": "markdown",
   "metadata": {},
   "source": [
    "Sobre la curva extremal, en general \n",
    "\n",
    "$$\\mathrm{d}\\sigma^2=D \\mathrm{d}\\lambda^2$$ \n",
    "donde $D$ es una constante."
   ]
  },
  {
   "cell_type": "markdown",
   "metadata": {},
   "source": [
    "Sabemos por el cálculo variacional que la condición variacional es equivalente a las ecuaciones de Euler:\n",
    "\n",
    "$$\n",
    "\\left.\\frac{\\mathrm{d}}{\\mathrm{d}\\lambda}\\left(\\frac{\\partial L}{\\partial \\dot x^\\alpha}\\right)-\\frac{\\partial L}{\\partial x^\\alpha}\\right|_{\\;\\lambda=\\sigma}=0\n",
    "$$\n",
    "donde por brevedad hemos escrito $\\dot x^\\alpha\\equiv\\mathrm{d}x^\\alpha/\\mathrm{d}\\lambda$ "
   ]
  },
  {
   "cell_type": "markdown",
   "metadata": {},
   "source": [
    "Puede probarse que la ecuación de Euler en este caso resulta igual a:\n",
    "\n",
    "$$\n",
    "\\frac{\\mathrm{d^2} x^\\mu}{\\mathrm{d}\\sigma^2} + \\Gamma^\\mu_{\\alpha\\gamma} \\frac{\\mathrm{d} x^\\alpha}{\\mathrm{d}\\sigma}\\frac{\\mathrm{d} x^\\gamma}{\\mathrm{d}\\sigma}=0\n",
    "$$\n",
    "que es justamente la ecuación de la geodésica."
   ]
  },
  {
   "cell_type": "markdown",
   "metadata": {},
   "source": [
    "Nótese que en realidad la ecuación de la geodésica puede escribirse en general como:\n",
    "\n",
    "$$\n",
    "\\frac{\\mathrm{d^2} x^\\mu}{\\mathrm{d}\\lambda^2} + \\Gamma^\\mu_{\\alpha\\gamma} \\frac{\\mathrm{d} x^\\alpha}{\\mathrm{d}\\lambda}\\frac{\\mathrm{d} x^\\gamma}{\\mathrm{d}\\lambda}=0\n",
    "$$\n",
    "que es independiente de si la geodésica es temporaloide o nula."
   ]
  },
  {
   "cell_type": "markdown",
   "metadata": {},
   "source": [
    "Para el caso de partículas con masa:\n",
    "\n",
    "$$\\mathrm{d}\\sigma^2=c^2 \\mathrm{d}\\tau^2$$ \n",
    "por lo tanto es posible usar como parámetro afin $\\lambda=\\tau$ de modo que para este caso:\n",
    "\n",
    "$$\n",
    "\\frac{\\mathrm{d^2} x^\\mu}{\\mathrm{d}\\tau^2} + \\Gamma^\\mu_{\\alpha\\gamma} \\frac{\\mathrm{d} x^\\alpha}{\\mathrm{d}\\tau}\\frac{\\mathrm{d} x^\\gamma}{\\mathrm{d}\\tau}=0\n",
    "$$"
   ]
  },
  {
   "cell_type": "markdown",
   "metadata": {
    "label": "",
    "subtitle": "La geodésica y el principio de máximo envejecimiento**. En el espacio Euclidiano o en otras variedades Riemanianas la geodésica representa la trayectoria de longitud mínima, el camino de menor distancia.  En un espacio Lorentziano, sin embargo, y como vimos en el capítulo de Relatividad Espacial, el camino entre dos puntos a lo largo de la geodésica es realmente el camino más largo.  A esto se lo conoce como el **principio de máximo envejecimiento",
    "tags": [
     "box_note"
    ],
    "title": "Nota"
   },
   "source": [
    "> **Nota: La geodésica y el principio de máximo envejecimiento**. En el espacio Euclidiano o en otras variedades Riemanianas la geodésica representa la trayectoria de longitud mínima, el camino de menor distancia.  En un espacio Lorentziano, sin embargo, y como vimos en el capítulo de Relatividad Espacial, el camino entre dos puntos a lo largo de la geodésica es realmente el camino más largo.  A esto se lo conoce como el **principio de máximo envejecimiento.**<a id=''></a> "
   ]
  },
  {
   "cell_type": "markdown",
   "metadata": {},
   "source": [
    "## 1.6. Geodésicas y movimiento inercial\n",
    "<a id='geodesicas_inercia'></a>"
   ]
  },
  {
   "cell_type": "markdown",
   "metadata": {},
   "source": [
    "La introducción en la sección anterior del concepto de geodésica conduce a la formulación de un principio físico nuevo en la relatividad general, a saber un principio de inercia generalizado:"
   ]
  },
  {
   "cell_type": "markdown",
   "metadata": {
    "label": "",
    "subtitle": "Postulado de las geodésicas",
    "tags": [
     "box_postulate"
    ],
    "title": "Postulado"
   },
   "source": [
    "> **Postulado: Postulado de las geodésicas.**<a id=''></a> Una partícula de prueba completamente libre de fuerzas, en un espacio tiempo general caracterizado por una métrica $g_{\\mu\\nu}$ y símbolos de Christoffel (coeficientes conexión) asociado $\\Gamma^{\\alpha}_{\\mu\\nu}$, se mueve sobre una geodésica en el espacio-tiempo:\n",
    "\n",
    "$$\n",
    "\\frac{\\mathrm{d^2} x^\\mu}{\\mathrm{d}\\lambda^2} + \\Gamma^\\mu_{\\alpha\\gamma} \\frac{\\mathrm{d} x^\\alpha}{\\mathrm{d}\\lambda}\\frac{\\mathrm{d} x^\\gamma}{\\mathrm{d}\\lambda}=0\n",
    "$$"
   ]
  },
  {
   "cell_type": "markdown",
   "metadata": {},
   "source": [
    "Es interesante anotar que el resultado anterior vale tanto si la partícula es masiva como si no lo es, es decir, aplica en el caso de la luz o de otras partículas de prueba.  La diferencia es que en el caso de una partícula masiva en la cual los intervalos son temporaloides, el parámetro afín puede identificarse con el tiempo propio y la ecuación geodésica adopta la forma general:\n",
    "\n",
    "$$\n",
    "\\frac{\\mathrm{d^2} x^\\mu}{\\mathrm{d}\\tau^2} + \\Gamma^\\mu_{\\alpha\\gamma} \\frac{\\mathrm{d} x^\\alpha}{\\mathrm{d}\\tau}\\frac{\\mathrm{d} x^\\gamma}{\\mathrm{d}\\tau}=0\n",
    "$$\n",
    "que ahora es una ecuación completamente física (todas las cantidades involucradas son físicas)."
   ]
  },
  {
   "cell_type": "markdown",
   "metadata": {},
   "source": [
    "Si despejamos $\\mathrm{d^2} x^\\mu/\\mathrm{d}\\tau^2$ obtenemos:\n",
    "\n",
    "$$\n",
    "\\frac{\\mathrm{d^2} x^\\mu}{\\mathrm{d}\\tau^2} = - \\Gamma^\\mu_{\\alpha\\gamma} \\frac{\\mathrm{d} x^\\alpha}{\\mathrm{d}\\tau}\\frac{\\mathrm{d} x^\\gamma}{\\mathrm{d}\\tau}\n",
    "$$\n"
   ]
  },
  {
   "cell_type": "markdown",
   "metadata": {},
   "source": [
    "Clásicamente se puede interpretar como que un cuerpo en un espacio-tiempo con métrica general, experimenta una aceleración incluso en la ausencia de fuerzas."
   ]
  },
  {
   "cell_type": "markdown",
   "metadata": {},
   "source": [
    "> **Nota: El principio que realmente es una proposición**. El principio de las geodésicas fue propuesto por Einstein como un elemento adicional físico a la relatividad general independiente de las ecuaciones de campo.  Sin embargo, en años posteriores, Einstein y otros colegas demostraron que en realidad este resultado es producto de una propiedad intrínseca de la relatividad, a saber, el teorema de continuidad (conservación de la energía) que puede expresarse matemáticamente como:\n",
    "\n",
    "> $${T^{\\mu\\nu}}_{;\\mu}=0$$\n",
    "> donde $T^{\\mu\\nu}$ es el tensor de esfuerzo-energía que introduciremos en una sección posterior."
   ]
  },
  {
   "cell_type": "markdown",
   "metadata": {},
   "source": [
    "## 1.7. Geodésicas en campo débil\n",
    "<a id='geodesicas_campo_debil'></a>"
   ]
  },
  {
   "cell_type": "markdown",
   "metadata": {},
   "source": [
    "Una de las más interesantes aplicaciones de la ecuación de la geodésica se obtiene al aplicarla a una situación en la que el campo gravitacional es poco intenso."
   ]
  },
  {
   "cell_type": "markdown",
   "metadata": {},
   "source": [
    "Hay dos cosas que desde el punto de vista de la relatividad caracterizan a un campo gravitacional débil:\n",
    "\n",
    "1. En movimiento geodésico en el campo, las velocidades espaciales conseguidas por las partículas son pequeñas, i.e. \n",
    "\n",
    "   $$\\frac{\\mathrm{d}x^i}{\\mathrm{d}\\tau}\\ll\\frac{\\mathrm{d}x^0}{\\mathrm{d}\\tau}$$\n",
    "   recordemos que en unidades luz la primera cantidad nos da la velocidad en unidades de la velocidad de la luz.  Por otro lado, en las mismas unidades la segunda cantidad nos da la diferencia entre el tiempo coordenado y el tiempo propio que en campo débil será casi idéntica.\n",
    "   \n",
    "2. En campo débil la métrica es aproximadamente igual a la métrica de Minkowski.  Podemos escribirla de la forma:\n",
    "\n",
    "   $$g_{\\mu\\nu}=\\eta_{\\mu\\nu}+h_{\\mu\\nu}$$\n",
    "   donde $|h_{\\mu\\nu}|\\ll 1$.  \n",
    "   \n",
    "   A esta forma de escribir la métrica se la llama *linearización* de la métrica y la usaremos más adelante para describir las ondas gravitacionales."
   ]
  },
  {
   "cell_type": "markdown",
   "metadata": {},
   "source": [
    "Nos interesa dedicir la ecuación de movimiento de un cuerpo en caída libre en el campo gravitacional, es decir la ecuación $\\mathrm{d}^2\\vec{r}/\\mathrm{d}t^2\\approx\\mathrm{d}^2 x^i/\\mathrm{d}\\tau^2$.  En lo sucesivo y para simplificar usaremos la notación de Newton:\n",
    "\n",
    "$$\n",
    "\\ddot{x}^\\mu\\equiv\\frac{\\mathrm{d}^2 x^\\mu}{\\mathrm{d}\\tau^2}\n",
    "$$\n",
    "entendiendo que el punto hace referencia a la derivada respecto del tiempo propio y no del tiempo coordenado."
   ]
  },
  {
   "cell_type": "markdown",
   "metadata": {},
   "source": [
    "En esta notación la ecuación geodésica nos queda:\n",
    "\n",
    "$$\n",
    "\\ddot{x}^\\mu = - \\Gamma^\\mu_{\\alpha\\gamma} \\dot{x}^\\alpha\\dot{x}^\\gamma\n",
    "$$"
   ]
  },
  {
   "cell_type": "markdown",
   "metadata": {},
   "source": [
    "Teniendo en cuenta la primera condición podemos escribir una versión aproximada de la ecuación para la componente espacial como:\n",
    "\n",
    "$$\n",
    "\\ddot{x}^\\mu = - \\Gamma^\\mu_{00} (\\dot{x}^0)^2\n",
    "$$"
   ]
  },
  {
   "cell_type": "markdown",
   "metadata": {},
   "source": [
    "Si usamos coordenadas ortogonales para la métrica, sabemos que:\n",
    "\n",
    "$$\n",
    "\\Gamma^\\mu_{00}=-\\frac{1}{2}g^{\\mu\\mu}g_{00,\\mu}\n",
    "$$"
   ]
  },
  {
   "cell_type": "markdown",
   "metadata": {},
   "source": [
    "Suponemos un campo estático, de modo que $\\Gamma^0_{00}=0$ de donde se sigue que sobre la geodésica, en las condiciones propuestas \n",
    "$$\\ddot{x}^0=0$$\n",
    "de donde integrando obtenemos:\n",
    "\n",
    "$$\n",
    "\\frac{\\mathrm{d} x^0}{\\mathrm{d}\\tau}=k\n",
    "$$\n",
    "donde $k$ es una constante de integración a lo largo de la geodésica. Es fácil ver que dado que:\n",
    "\n",
    "$$\n",
    "\\mathrm{d}\\sigma^2\\equiv g_{\\mu\\nu}\\mathrm{d}x^\\mu\\mathrm{d}x^\\nu\n",
    "$$\n",
    "entonces, bajo las aproximaciones podemos escribir, en unidades del sistema internacional:\n",
    "\n",
    "$$\n",
    "c^2\\approx\\left(\\frac{\\mathrm{d} x^0}{\\mathrm{d} \\tau}\\right)^2 \n",
    "$$\n",
    "que es exactamente el mismo resultado:\n",
    "\n",
    "$$\n",
    "\\dot{x}^0=c\n",
    "$$"
   ]
  },
  {
   "cell_type": "markdown",
   "metadata": {},
   "source": [
    "Volviendo a la ecuación de la geodésica, la componente temporal queda:\n",
    "\n",
    "$$\n",
    "\\ddot{x}^i = - c^2\\Gamma^i_{00} \n",
    "$$"
   ]
  },
  {
   "cell_type": "markdown",
   "metadata": {},
   "source": [
    "Usando la linearización de la métrica tenemos:\n",
    "\n",
    "$$\n",
    "\\Gamma^i_{00}=-\\frac{1}{2}\\eta^{ii}h_{00,i}=\\frac{1}{2}h_{00,i}\n",
    "$$"
   ]
  },
  {
   "cell_type": "markdown",
   "metadata": {},
   "source": [
    "De donde finalmente la ecuación de movimiento en campo gravitacional débil se puede escribir como:\n",
    "\n",
    "$$\n",
    "\\ddot{x}^i = - \\frac{c^2}{2}h_{00,i}\n",
    "$$"
   ]
  },
  {
   "cell_type": "markdown",
   "metadata": {},
   "source": [
    "En la mecánica Newtoniana sabemos que:\n",
    "\n",
    "$$\n",
    "\\ddot{\\vec{r}}=-\\vec{\\nabla}\\Phi\n",
    "$$\n",
    "donde $\\phi$ es el potencial gravitacional local (energía potencial gravitacional por unidad de masa) que para la ley de gravitación universal de Newton esta dado por:\n",
    "\n",
    "$$\n",
    "\\Phi=-\\frac{GM}{r}\n",
    "$$"
   ]
  },
  {
   "cell_type": "markdown",
   "metadata": {},
   "source": [
    "La comparación de estas ecuaciones muestra que podemos hacer la identificación:\n",
    "\n",
    "$$\n",
    "h_{00}=\\frac{2\\Phi}{c^2}\n",
    "$$"
   ]
  },
  {
   "cell_type": "markdown",
   "metadata": {},
   "source": [
    "De allí que el coeficiente métrico temporal en campo débil sea:\n",
    "\n",
    "$$\n",
    "g_{00}\\approx 1+\\frac{2\\Phi}{c^2}\n",
    "$$"
   ]
  },
  {
   "cell_type": "markdown",
   "metadata": {},
   "source": [
    "De modo que el comportamiento de las partículas en un campo gravitacional Newtoniano se puede reproducir con una métrica del tipo:\n",
    "\n",
    "$$\n",
    "\\mathrm{d}s^2=\\left(1+\\frac{2\\Phi}{c^2}\\right)\\;\\mathrm{d}t_L^2-\\;\\mathrm{d}r^2-r^2\\mathrm{d}\\theta^2-r^2\\sin^2\\theta\\mathrm{d}\\phi^2\n",
    "$$\n",
    "llamaremos a esta la **métrica de Newton**. "
   ]
  },
  {
   "cell_type": "markdown",
   "metadata": {},
   "source": [
    "Una manera de parametrizar la métrica de Newton es haciendo:\n",
    "\n",
    "$$\n",
    "\\cal R\\equiv\\frac{2GM_p}{c^2}\n",
    "$$\n",
    "la métrica se puede escribir de forma simplificada como:\n",
    "\n",
    "$$\n",
    "\\mathrm{d}s^2=\\left(1-\\frac{\\cal R}{r}\\right)\\;\\mathrm{d}t_L^2-\\mathrm{d}r^2-r^2\\mathrm{d}\\theta^2-r^2\\sin^2\\theta\\;\\mathrm{d}\\phi^2\n",
    "$$"
   ]
  },
  {
   "cell_type": "markdown",
   "metadata": {
    "label": "",
    "subtitle": "El parámetro $\\cal R$",
    "tags": [
     "box_note"
    ],
    "title": "Nota"
   },
   "source": [
    "> **Nota: El parámetro $\\cal R$.**<a id=''></a> El parámetro $\\cal R$ es una cantidad de gran relevancia en la relatvidad general.  Más adelante la obtendremos después de estudiar la métrica de Schwarzschild.  Por ahora podemos ver que es una cantidad que es proporcional a la masa de un cuerpo con una constante de proporcionalidad $2G/c^2=1.4852\\times 10^{-27} m^3 kg^{-1}$ muy pequeña.  Esta cantidad solo se hace macroscópica para valores de la masa del cuerpo realmente grandes (masas planetarias).  Una manera de parametrizar este parámetro es:\n",
    "\n",
    "> $${\\cal R}=2.954\\;\\mathrm{km}\\;\\left(\\frac{M_p}{M_\\odot}\\right)$$"
   ]
  },
  {
   "cell_type": "markdown",
   "metadata": {},
   "source": [
    "### 1.7.1. Un ejemplo numérico\n",
    "<a id='campo_debil_numerico'></a>"
   ]
  },
  {
   "cell_type": "markdown",
   "metadata": {},
   "source": [
    "Una implementación de la métrica de Newton es:"
   ]
  },
  {
   "cell_type": "code",
   "execution_count": 66,
   "metadata": {
    "codelabel": "",
    "codeplot": 0,
    "tags": [
     "export"
    ]
   },
   "outputs": [],
   "source": [
    "from numpy import array\n",
    "def g_newtoniana_4d(xmu,mu,R=1):\n",
    "    \"\"\"\n",
    "    Coeficiente métrico g_mumu calculados en el evento xmu \n",
    "    para espacio-tiempo plano con coordenadas cilíndricas.\n",
    "    \n",
    "    g_munu=diag(A,-1,-r^2,-r^2 sin^2 teta)\n",
    "    \"\"\"\n",
    "    from numpy import sin\n",
    "    t,r,fi,teta=xmu\n",
    "    A=(1-R/r)\n",
    "    if mu==0:\n",
    "        g=A\n",
    "    elif mu==1:\n",
    "        g=-1\n",
    "    elif mu==2:\n",
    "        g=-r**2\n",
    "    elif mu==3:\n",
    "        g=-r**2*sin(teta)**2\n",
    "    return g"
   ]
  },
  {
   "cell_type": "markdown",
   "metadata": {},
   "source": [
    "Vamos a estudiar el movimiento de un cuerpo que es lanzado horizontalmente con una velocidad $v$ a una altura $h$ ($r=R_p+h$) sobre la superficie del planeta.  Las condiciones iniciales del problema son por tanto: \n",
    "\n",
    "\\begin{eqnarray}\n",
    "x_{0L}^\\mu & : & \\left(0,\\frac{R_p+h}{c},0,\\frac{\\pi}{2}\\right)\\\\\n",
    "\\frac{\\mathrm{d}x_{0L}^\\mu}{\\mathrm{d}\\sigma} & : & \\left(1,0.0,-\\frac{v}{R_p},0\\right)\n",
    "\\end{eqnarray}"
   ]
  },
  {
   "cell_type": "markdown",
   "metadata": {},
   "source": [
    "Las propiedades del cuerpo son:"
   ]
  },
  {
   "cell_type": "code",
   "execution_count": 67,
   "metadata": {
    "codelabel": "",
    "codeplot": 0
   },
   "outputs": [],
   "source": [
    "#Constantes\n",
    "c=3e8 # m/s\n",
    "G=6.67e-11 # m^3 kg^-1 s^-2\n",
    "\n",
    "#Propiedades del planeta\n",
    "Mp=5.98e24 # kg\n",
    "Rp=6.371e6 # m\n",
    "Phip=-G*Mp/Rp\n",
    "gp=G*Mp/Rp**2\n",
    "R=2*G*Mp/c**2"
   ]
  },
  {
   "cell_type": "code",
   "execution_count": 73,
   "metadata": {
    "codelabel": "",
    "codeplot": 0,
    "tags": [
     "hide_input"
    ]
   },
   "outputs": [
    {
     "name": "stdout",
     "output_type": "stream",
     "text": [
      "R = 0.008863688888888891 m\n",
      "Potencial en la superficie, Phi(Rp) = -62606498.19494586 J/kg\n",
      "Aceleración gravitacional, g(Rp) = 9.826792998735812 m/s^2\n"
     ]
    }
   ],
   "source": [
    "print(f\"R = {R} m\")\n",
    "print(f\"Potencial en la superficie, Phi(Rp) = {Phip} J/kg\")\n",
    "print(f\"Aceleración gravitacional, g(Rp) = {gp} m/s^2\")"
   ]
  },
  {
   "cell_type": "markdown",
   "metadata": {},
   "source": [
    "Las condiciones iniciales serán por otro lado:"
   ]
  },
  {
   "cell_type": "code",
   "execution_count": 69,
   "metadata": {
    "codelabel": "",
    "codeplot": 0
   },
   "outputs": [],
   "source": [
    "#Altura y velocidad\n",
    "h=100.0 # m\n",
    "v=10.0 # m/s\n",
    "\n",
    "#Condiciones iniciales\n",
    "from numpy import array,pi\n",
    "Y0s=array([0.0,(Rp+h)/c,pi/2,pi/2,\n",
    "           1,0,-v/Rp,0])\n",
    "\n",
    "#Tiempo de integración\n",
    "from numpy import pi,linspace\n",
    "ss=linspace(0,2,100)"
   ]
  },
  {
   "cell_type": "code",
   "execution_count": 70,
   "metadata": {
    "codelabel": "",
    "codeplot": 0
   },
   "outputs": [
    {
     "name": "stdout",
     "output_type": "stream",
     "text": [
      "Condiciones iniciales = [ 0.00000000e+00  2.12370000e-02  1.57079633e+00  1.57079633e+00\n",
      "  1.00000000e+00  0.00000000e+00 -1.56961231e-06  0.00000000e+00]\n"
     ]
    }
   ],
   "source": [
    "print(f\"Condiciones iniciales = {Y0s}\")"
   ]
  },
  {
   "cell_type": "code",
   "execution_count": 71,
   "metadata": {
    "codelabel": "",
    "codeplot": 0
   },
   "outputs": [],
   "source": [
    "%matplotlib nbagg"
   ]
  },
  {
   "cell_type": "code",
   "execution_count": 72,
   "metadata": {
    "codelabel": "fig:01.05.00.00.RelatividadGeneral.InerciaYGeodesicas_8",
    "codeplot": 1,
    "figcaption": "<b>Figura 1.8.</b> "
   },
   "outputs": [
    {
     "data": {
      "application/javascript": [
       "/* Put everything inside the global mpl namespace */\n",
       "window.mpl = {};\n",
       "\n",
       "\n",
       "mpl.get_websocket_type = function() {\n",
       "    if (typeof(WebSocket) !== 'undefined') {\n",
       "        return WebSocket;\n",
       "    } else if (typeof(MozWebSocket) !== 'undefined') {\n",
       "        return MozWebSocket;\n",
       "    } else {\n",
       "        alert('Your browser does not have WebSocket support. ' +\n",
       "              'Please try Chrome, Safari or Firefox ≥ 6. ' +\n",
       "              'Firefox 4 and 5 are also supported but you ' +\n",
       "              'have to enable WebSockets in about:config.');\n",
       "    };\n",
       "}\n",
       "\n",
       "mpl.figure = function(figure_id, websocket, ondownload, parent_element) {\n",
       "    this.id = figure_id;\n",
       "\n",
       "    this.ws = websocket;\n",
       "\n",
       "    this.supports_binary = (this.ws.binaryType != undefined);\n",
       "\n",
       "    if (!this.supports_binary) {\n",
       "        var warnings = document.getElementById(\"mpl-warnings\");\n",
       "        if (warnings) {\n",
       "            warnings.style.display = 'block';\n",
       "            warnings.textContent = (\n",
       "                \"This browser does not support binary websocket messages. \" +\n",
       "                    \"Performance may be slow.\");\n",
       "        }\n",
       "    }\n",
       "\n",
       "    this.imageObj = new Image();\n",
       "\n",
       "    this.context = undefined;\n",
       "    this.message = undefined;\n",
       "    this.canvas = undefined;\n",
       "    this.rubberband_canvas = undefined;\n",
       "    this.rubberband_context = undefined;\n",
       "    this.format_dropdown = undefined;\n",
       "\n",
       "    this.image_mode = 'full';\n",
       "\n",
       "    this.root = $('<div/>');\n",
       "    this._root_extra_style(this.root)\n",
       "    this.root.attr('style', 'display: inline-block');\n",
       "\n",
       "    $(parent_element).append(this.root);\n",
       "\n",
       "    this._init_header(this);\n",
       "    this._init_canvas(this);\n",
       "    this._init_toolbar(this);\n",
       "\n",
       "    var fig = this;\n",
       "\n",
       "    this.waiting = false;\n",
       "\n",
       "    this.ws.onopen =  function () {\n",
       "            fig.send_message(\"supports_binary\", {value: fig.supports_binary});\n",
       "            fig.send_message(\"send_image_mode\", {});\n",
       "            if (mpl.ratio != 1) {\n",
       "                fig.send_message(\"set_dpi_ratio\", {'dpi_ratio': mpl.ratio});\n",
       "            }\n",
       "            fig.send_message(\"refresh\", {});\n",
       "        }\n",
       "\n",
       "    this.imageObj.onload = function() {\n",
       "            if (fig.image_mode == 'full') {\n",
       "                // Full images could contain transparency (where diff images\n",
       "                // almost always do), so we need to clear the canvas so that\n",
       "                // there is no ghosting.\n",
       "                fig.context.clearRect(0, 0, fig.canvas.width, fig.canvas.height);\n",
       "            }\n",
       "            fig.context.drawImage(fig.imageObj, 0, 0);\n",
       "        };\n",
       "\n",
       "    this.imageObj.onunload = function() {\n",
       "        fig.ws.close();\n",
       "    }\n",
       "\n",
       "    this.ws.onmessage = this._make_on_message_function(this);\n",
       "\n",
       "    this.ondownload = ondownload;\n",
       "}\n",
       "\n",
       "mpl.figure.prototype._init_header = function() {\n",
       "    var titlebar = $(\n",
       "        '<div class=\"ui-dialog-titlebar ui-widget-header ui-corner-all ' +\n",
       "        'ui-helper-clearfix\"/>');\n",
       "    var titletext = $(\n",
       "        '<div class=\"ui-dialog-title\" style=\"width: 100%; ' +\n",
       "        'text-align: center; padding: 3px;\"/>');\n",
       "    titlebar.append(titletext)\n",
       "    this.root.append(titlebar);\n",
       "    this.header = titletext[0];\n",
       "}\n",
       "\n",
       "\n",
       "\n",
       "mpl.figure.prototype._canvas_extra_style = function(canvas_div) {\n",
       "\n",
       "}\n",
       "\n",
       "\n",
       "mpl.figure.prototype._root_extra_style = function(canvas_div) {\n",
       "\n",
       "}\n",
       "\n",
       "mpl.figure.prototype._init_canvas = function() {\n",
       "    var fig = this;\n",
       "\n",
       "    var canvas_div = $('<div/>');\n",
       "\n",
       "    canvas_div.attr('style', 'position: relative; clear: both; outline: 0');\n",
       "\n",
       "    function canvas_keyboard_event(event) {\n",
       "        return fig.key_event(event, event['data']);\n",
       "    }\n",
       "\n",
       "    canvas_div.keydown('key_press', canvas_keyboard_event);\n",
       "    canvas_div.keyup('key_release', canvas_keyboard_event);\n",
       "    this.canvas_div = canvas_div\n",
       "    this._canvas_extra_style(canvas_div)\n",
       "    this.root.append(canvas_div);\n",
       "\n",
       "    var canvas = $('<canvas/>');\n",
       "    canvas.addClass('mpl-canvas');\n",
       "    canvas.attr('style', \"left: 0; top: 0; z-index: 0; outline: 0\")\n",
       "\n",
       "    this.canvas = canvas[0];\n",
       "    this.context = canvas[0].getContext(\"2d\");\n",
       "\n",
       "    var backingStore = this.context.backingStorePixelRatio ||\n",
       "\tthis.context.webkitBackingStorePixelRatio ||\n",
       "\tthis.context.mozBackingStorePixelRatio ||\n",
       "\tthis.context.msBackingStorePixelRatio ||\n",
       "\tthis.context.oBackingStorePixelRatio ||\n",
       "\tthis.context.backingStorePixelRatio || 1;\n",
       "\n",
       "    mpl.ratio = (window.devicePixelRatio || 1) / backingStore;\n",
       "\n",
       "    var rubberband = $('<canvas/>');\n",
       "    rubberband.attr('style', \"position: absolute; left: 0; top: 0; z-index: 1;\")\n",
       "\n",
       "    var pass_mouse_events = true;\n",
       "\n",
       "    canvas_div.resizable({\n",
       "        start: function(event, ui) {\n",
       "            pass_mouse_events = false;\n",
       "        },\n",
       "        resize: function(event, ui) {\n",
       "            fig.request_resize(ui.size.width, ui.size.height);\n",
       "        },\n",
       "        stop: function(event, ui) {\n",
       "            pass_mouse_events = true;\n",
       "            fig.request_resize(ui.size.width, ui.size.height);\n",
       "        },\n",
       "    });\n",
       "\n",
       "    function mouse_event_fn(event) {\n",
       "        if (pass_mouse_events)\n",
       "            return fig.mouse_event(event, event['data']);\n",
       "    }\n",
       "\n",
       "    rubberband.mousedown('button_press', mouse_event_fn);\n",
       "    rubberband.mouseup('button_release', mouse_event_fn);\n",
       "    // Throttle sequential mouse events to 1 every 20ms.\n",
       "    rubberband.mousemove('motion_notify', mouse_event_fn);\n",
       "\n",
       "    rubberband.mouseenter('figure_enter', mouse_event_fn);\n",
       "    rubberband.mouseleave('figure_leave', mouse_event_fn);\n",
       "\n",
       "    canvas_div.on(\"wheel\", function (event) {\n",
       "        event = event.originalEvent;\n",
       "        event['data'] = 'scroll'\n",
       "        if (event.deltaY < 0) {\n",
       "            event.step = 1;\n",
       "        } else {\n",
       "            event.step = -1;\n",
       "        }\n",
       "        mouse_event_fn(event);\n",
       "    });\n",
       "\n",
       "    canvas_div.append(canvas);\n",
       "    canvas_div.append(rubberband);\n",
       "\n",
       "    this.rubberband = rubberband;\n",
       "    this.rubberband_canvas = rubberband[0];\n",
       "    this.rubberband_context = rubberband[0].getContext(\"2d\");\n",
       "    this.rubberband_context.strokeStyle = \"#000000\";\n",
       "\n",
       "    this._resize_canvas = function(width, height) {\n",
       "        // Keep the size of the canvas, canvas container, and rubber band\n",
       "        // canvas in synch.\n",
       "        canvas_div.css('width', width)\n",
       "        canvas_div.css('height', height)\n",
       "\n",
       "        canvas.attr('width', width * mpl.ratio);\n",
       "        canvas.attr('height', height * mpl.ratio);\n",
       "        canvas.attr('style', 'width: ' + width + 'px; height: ' + height + 'px;');\n",
       "\n",
       "        rubberband.attr('width', width);\n",
       "        rubberband.attr('height', height);\n",
       "    }\n",
       "\n",
       "    // Set the figure to an initial 600x600px, this will subsequently be updated\n",
       "    // upon first draw.\n",
       "    this._resize_canvas(600, 600);\n",
       "\n",
       "    // Disable right mouse context menu.\n",
       "    $(this.rubberband_canvas).bind(\"contextmenu\",function(e){\n",
       "        return false;\n",
       "    });\n",
       "\n",
       "    function set_focus () {\n",
       "        canvas.focus();\n",
       "        canvas_div.focus();\n",
       "    }\n",
       "\n",
       "    window.setTimeout(set_focus, 100);\n",
       "}\n",
       "\n",
       "mpl.figure.prototype._init_toolbar = function() {\n",
       "    var fig = this;\n",
       "\n",
       "    var nav_element = $('<div/>');\n",
       "    nav_element.attr('style', 'width: 100%');\n",
       "    this.root.append(nav_element);\n",
       "\n",
       "    // Define a callback function for later on.\n",
       "    function toolbar_event(event) {\n",
       "        return fig.toolbar_button_onclick(event['data']);\n",
       "    }\n",
       "    function toolbar_mouse_event(event) {\n",
       "        return fig.toolbar_button_onmouseover(event['data']);\n",
       "    }\n",
       "\n",
       "    for(var toolbar_ind in mpl.toolbar_items) {\n",
       "        var name = mpl.toolbar_items[toolbar_ind][0];\n",
       "        var tooltip = mpl.toolbar_items[toolbar_ind][1];\n",
       "        var image = mpl.toolbar_items[toolbar_ind][2];\n",
       "        var method_name = mpl.toolbar_items[toolbar_ind][3];\n",
       "\n",
       "        if (!name) {\n",
       "            // put a spacer in here.\n",
       "            continue;\n",
       "        }\n",
       "        var button = $('<button/>');\n",
       "        button.addClass('ui-button ui-widget ui-state-default ui-corner-all ' +\n",
       "                        'ui-button-icon-only');\n",
       "        button.attr('role', 'button');\n",
       "        button.attr('aria-disabled', 'false');\n",
       "        button.click(method_name, toolbar_event);\n",
       "        button.mouseover(tooltip, toolbar_mouse_event);\n",
       "\n",
       "        var icon_img = $('<span/>');\n",
       "        icon_img.addClass('ui-button-icon-primary ui-icon');\n",
       "        icon_img.addClass(image);\n",
       "        icon_img.addClass('ui-corner-all');\n",
       "\n",
       "        var tooltip_span = $('<span/>');\n",
       "        tooltip_span.addClass('ui-button-text');\n",
       "        tooltip_span.html(tooltip);\n",
       "\n",
       "        button.append(icon_img);\n",
       "        button.append(tooltip_span);\n",
       "\n",
       "        nav_element.append(button);\n",
       "    }\n",
       "\n",
       "    var fmt_picker_span = $('<span/>');\n",
       "\n",
       "    var fmt_picker = $('<select/>');\n",
       "    fmt_picker.addClass('mpl-toolbar-option ui-widget ui-widget-content');\n",
       "    fmt_picker_span.append(fmt_picker);\n",
       "    nav_element.append(fmt_picker_span);\n",
       "    this.format_dropdown = fmt_picker[0];\n",
       "\n",
       "    for (var ind in mpl.extensions) {\n",
       "        var fmt = mpl.extensions[ind];\n",
       "        var option = $(\n",
       "            '<option/>', {selected: fmt === mpl.default_extension}).html(fmt);\n",
       "        fmt_picker.append(option);\n",
       "    }\n",
       "\n",
       "    // Add hover states to the ui-buttons\n",
       "    $( \".ui-button\" ).hover(\n",
       "        function() { $(this).addClass(\"ui-state-hover\");},\n",
       "        function() { $(this).removeClass(\"ui-state-hover\");}\n",
       "    );\n",
       "\n",
       "    var status_bar = $('<span class=\"mpl-message\"/>');\n",
       "    nav_element.append(status_bar);\n",
       "    this.message = status_bar[0];\n",
       "}\n",
       "\n",
       "mpl.figure.prototype.request_resize = function(x_pixels, y_pixels) {\n",
       "    // Request matplotlib to resize the figure. Matplotlib will then trigger a resize in the client,\n",
       "    // which will in turn request a refresh of the image.\n",
       "    this.send_message('resize', {'width': x_pixels, 'height': y_pixels});\n",
       "}\n",
       "\n",
       "mpl.figure.prototype.send_message = function(type, properties) {\n",
       "    properties['type'] = type;\n",
       "    properties['figure_id'] = this.id;\n",
       "    this.ws.send(JSON.stringify(properties));\n",
       "}\n",
       "\n",
       "mpl.figure.prototype.send_draw_message = function() {\n",
       "    if (!this.waiting) {\n",
       "        this.waiting = true;\n",
       "        this.ws.send(JSON.stringify({type: \"draw\", figure_id: this.id}));\n",
       "    }\n",
       "}\n",
       "\n",
       "\n",
       "mpl.figure.prototype.handle_save = function(fig, msg) {\n",
       "    var format_dropdown = fig.format_dropdown;\n",
       "    var format = format_dropdown.options[format_dropdown.selectedIndex].value;\n",
       "    fig.ondownload(fig, format);\n",
       "}\n",
       "\n",
       "\n",
       "mpl.figure.prototype.handle_resize = function(fig, msg) {\n",
       "    var size = msg['size'];\n",
       "    if (size[0] != fig.canvas.width || size[1] != fig.canvas.height) {\n",
       "        fig._resize_canvas(size[0], size[1]);\n",
       "        fig.send_message(\"refresh\", {});\n",
       "    };\n",
       "}\n",
       "\n",
       "mpl.figure.prototype.handle_rubberband = function(fig, msg) {\n",
       "    var x0 = msg['x0'] / mpl.ratio;\n",
       "    var y0 = (fig.canvas.height - msg['y0']) / mpl.ratio;\n",
       "    var x1 = msg['x1'] / mpl.ratio;\n",
       "    var y1 = (fig.canvas.height - msg['y1']) / mpl.ratio;\n",
       "    x0 = Math.floor(x0) + 0.5;\n",
       "    y0 = Math.floor(y0) + 0.5;\n",
       "    x1 = Math.floor(x1) + 0.5;\n",
       "    y1 = Math.floor(y1) + 0.5;\n",
       "    var min_x = Math.min(x0, x1);\n",
       "    var min_y = Math.min(y0, y1);\n",
       "    var width = Math.abs(x1 - x0);\n",
       "    var height = Math.abs(y1 - y0);\n",
       "\n",
       "    fig.rubberband_context.clearRect(\n",
       "        0, 0, fig.canvas.width / mpl.ratio, fig.canvas.height / mpl.ratio);\n",
       "\n",
       "    fig.rubberband_context.strokeRect(min_x, min_y, width, height);\n",
       "}\n",
       "\n",
       "mpl.figure.prototype.handle_figure_label = function(fig, msg) {\n",
       "    // Updates the figure title.\n",
       "    fig.header.textContent = msg['label'];\n",
       "}\n",
       "\n",
       "mpl.figure.prototype.handle_cursor = function(fig, msg) {\n",
       "    var cursor = msg['cursor'];\n",
       "    switch(cursor)\n",
       "    {\n",
       "    case 0:\n",
       "        cursor = 'pointer';\n",
       "        break;\n",
       "    case 1:\n",
       "        cursor = 'default';\n",
       "        break;\n",
       "    case 2:\n",
       "        cursor = 'crosshair';\n",
       "        break;\n",
       "    case 3:\n",
       "        cursor = 'move';\n",
       "        break;\n",
       "    }\n",
       "    fig.rubberband_canvas.style.cursor = cursor;\n",
       "}\n",
       "\n",
       "mpl.figure.prototype.handle_message = function(fig, msg) {\n",
       "    fig.message.textContent = msg['message'];\n",
       "}\n",
       "\n",
       "mpl.figure.prototype.handle_draw = function(fig, msg) {\n",
       "    // Request the server to send over a new figure.\n",
       "    fig.send_draw_message();\n",
       "}\n",
       "\n",
       "mpl.figure.prototype.handle_image_mode = function(fig, msg) {\n",
       "    fig.image_mode = msg['mode'];\n",
       "}\n",
       "\n",
       "mpl.figure.prototype.updated_canvas_event = function() {\n",
       "    // Called whenever the canvas gets updated.\n",
       "    this.send_message(\"ack\", {});\n",
       "}\n",
       "\n",
       "// A function to construct a web socket function for onmessage handling.\n",
       "// Called in the figure constructor.\n",
       "mpl.figure.prototype._make_on_message_function = function(fig) {\n",
       "    return function socket_on_message(evt) {\n",
       "        if (evt.data instanceof Blob) {\n",
       "            /* FIXME: We get \"Resource interpreted as Image but\n",
       "             * transferred with MIME type text/plain:\" errors on\n",
       "             * Chrome.  But how to set the MIME type?  It doesn't seem\n",
       "             * to be part of the websocket stream */\n",
       "            evt.data.type = \"image/png\";\n",
       "\n",
       "            /* Free the memory for the previous frames */\n",
       "            if (fig.imageObj.src) {\n",
       "                (window.URL || window.webkitURL).revokeObjectURL(\n",
       "                    fig.imageObj.src);\n",
       "            }\n",
       "\n",
       "            fig.imageObj.src = (window.URL || window.webkitURL).createObjectURL(\n",
       "                evt.data);\n",
       "            fig.updated_canvas_event();\n",
       "            fig.waiting = false;\n",
       "            return;\n",
       "        }\n",
       "        else if (typeof evt.data === 'string' && evt.data.slice(0, 21) == \"data:image/png;base64\") {\n",
       "            fig.imageObj.src = evt.data;\n",
       "            fig.updated_canvas_event();\n",
       "            fig.waiting = false;\n",
       "            return;\n",
       "        }\n",
       "\n",
       "        var msg = JSON.parse(evt.data);\n",
       "        var msg_type = msg['type'];\n",
       "\n",
       "        // Call the  \"handle_{type}\" callback, which takes\n",
       "        // the figure and JSON message as its only arguments.\n",
       "        try {\n",
       "            var callback = fig[\"handle_\" + msg_type];\n",
       "        } catch (e) {\n",
       "            console.log(\"No handler for the '\" + msg_type + \"' message type: \", msg);\n",
       "            return;\n",
       "        }\n",
       "\n",
       "        if (callback) {\n",
       "            try {\n",
       "                // console.log(\"Handling '\" + msg_type + \"' message: \", msg);\n",
       "                callback(fig, msg);\n",
       "            } catch (e) {\n",
       "                console.log(\"Exception inside the 'handler_\" + msg_type + \"' callback:\", e, e.stack, msg);\n",
       "            }\n",
       "        }\n",
       "    };\n",
       "}\n",
       "\n",
       "// from http://stackoverflow.com/questions/1114465/getting-mouse-location-in-canvas\n",
       "mpl.findpos = function(e) {\n",
       "    //this section is from http://www.quirksmode.org/js/events_properties.html\n",
       "    var targ;\n",
       "    if (!e)\n",
       "        e = window.event;\n",
       "    if (e.target)\n",
       "        targ = e.target;\n",
       "    else if (e.srcElement)\n",
       "        targ = e.srcElement;\n",
       "    if (targ.nodeType == 3) // defeat Safari bug\n",
       "        targ = targ.parentNode;\n",
       "\n",
       "    // jQuery normalizes the pageX and pageY\n",
       "    // pageX,Y are the mouse positions relative to the document\n",
       "    // offset() returns the position of the element relative to the document\n",
       "    var x = e.pageX - $(targ).offset().left;\n",
       "    var y = e.pageY - $(targ).offset().top;\n",
       "\n",
       "    return {\"x\": x, \"y\": y};\n",
       "};\n",
       "\n",
       "/*\n",
       " * return a copy of an object with only non-object keys\n",
       " * we need this to avoid circular references\n",
       " * http://stackoverflow.com/a/24161582/3208463\n",
       " */\n",
       "function simpleKeys (original) {\n",
       "  return Object.keys(original).reduce(function (obj, key) {\n",
       "    if (typeof original[key] !== 'object')\n",
       "        obj[key] = original[key]\n",
       "    return obj;\n",
       "  }, {});\n",
       "}\n",
       "\n",
       "mpl.figure.prototype.mouse_event = function(event, name) {\n",
       "    var canvas_pos = mpl.findpos(event)\n",
       "\n",
       "    if (name === 'button_press')\n",
       "    {\n",
       "        this.canvas.focus();\n",
       "        this.canvas_div.focus();\n",
       "    }\n",
       "\n",
       "    var x = canvas_pos.x * mpl.ratio;\n",
       "    var y = canvas_pos.y * mpl.ratio;\n",
       "\n",
       "    this.send_message(name, {x: x, y: y, button: event.button,\n",
       "                             step: event.step,\n",
       "                             guiEvent: simpleKeys(event)});\n",
       "\n",
       "    /* This prevents the web browser from automatically changing to\n",
       "     * the text insertion cursor when the button is pressed.  We want\n",
       "     * to control all of the cursor setting manually through the\n",
       "     * 'cursor' event from matplotlib */\n",
       "    event.preventDefault();\n",
       "    return false;\n",
       "}\n",
       "\n",
       "mpl.figure.prototype._key_event_extra = function(event, name) {\n",
       "    // Handle any extra behaviour associated with a key event\n",
       "}\n",
       "\n",
       "mpl.figure.prototype.key_event = function(event, name) {\n",
       "\n",
       "    // Prevent repeat events\n",
       "    if (name == 'key_press')\n",
       "    {\n",
       "        if (event.which === this._key)\n",
       "            return;\n",
       "        else\n",
       "            this._key = event.which;\n",
       "    }\n",
       "    if (name == 'key_release')\n",
       "        this._key = null;\n",
       "\n",
       "    var value = '';\n",
       "    if (event.ctrlKey && event.which != 17)\n",
       "        value += \"ctrl+\";\n",
       "    if (event.altKey && event.which != 18)\n",
       "        value += \"alt+\";\n",
       "    if (event.shiftKey && event.which != 16)\n",
       "        value += \"shift+\";\n",
       "\n",
       "    value += 'k';\n",
       "    value += event.which.toString();\n",
       "\n",
       "    this._key_event_extra(event, name);\n",
       "\n",
       "    this.send_message(name, {key: value,\n",
       "                             guiEvent: simpleKeys(event)});\n",
       "    return false;\n",
       "}\n",
       "\n",
       "mpl.figure.prototype.toolbar_button_onclick = function(name) {\n",
       "    if (name == 'download') {\n",
       "        this.handle_save(this, null);\n",
       "    } else {\n",
       "        this.send_message(\"toolbar_button\", {name: name});\n",
       "    }\n",
       "};\n",
       "\n",
       "mpl.figure.prototype.toolbar_button_onmouseover = function(tooltip) {\n",
       "    this.message.textContent = tooltip;\n",
       "};\n",
       "mpl.toolbar_items = [[\"Home\", \"Reset original view\", \"fa fa-home icon-home\", \"home\"], [\"Back\", \"Back to previous view\", \"fa fa-arrow-left icon-arrow-left\", \"back\"], [\"Forward\", \"Forward to next view\", \"fa fa-arrow-right icon-arrow-right\", \"forward\"], [\"\", \"\", \"\", \"\"], [\"Pan\", \"Pan axes with left mouse, zoom with right\", \"fa fa-arrows icon-move\", \"pan\"], [\"Zoom\", \"Zoom to rectangle\", \"fa fa-square-o icon-check-empty\", \"zoom\"], [\"\", \"\", \"\", \"\"], [\"Download\", \"Download plot\", \"fa fa-floppy-o icon-save\", \"download\"]];\n",
       "\n",
       "mpl.extensions = [\"eps\", \"jpeg\", \"pdf\", \"png\", \"ps\", \"raw\", \"svg\", \"tif\"];\n",
       "\n",
       "mpl.default_extension = \"png\";var comm_websocket_adapter = function(comm) {\n",
       "    // Create a \"websocket\"-like object which calls the given IPython comm\n",
       "    // object with the appropriate methods. Currently this is a non binary\n",
       "    // socket, so there is still some room for performance tuning.\n",
       "    var ws = {};\n",
       "\n",
       "    ws.close = function() {\n",
       "        comm.close()\n",
       "    };\n",
       "    ws.send = function(m) {\n",
       "        //console.log('sending', m);\n",
       "        comm.send(m);\n",
       "    };\n",
       "    // Register the callback with on_msg.\n",
       "    comm.on_msg(function(msg) {\n",
       "        //console.log('receiving', msg['content']['data'], msg);\n",
       "        // Pass the mpl event to the overridden (by mpl) onmessage function.\n",
       "        ws.onmessage(msg['content']['data'])\n",
       "    });\n",
       "    return ws;\n",
       "}\n",
       "\n",
       "mpl.mpl_figure_comm = function(comm, msg) {\n",
       "    // This is the function which gets called when the mpl process\n",
       "    // starts-up an IPython Comm through the \"matplotlib\" channel.\n",
       "\n",
       "    var id = msg.content.data.id;\n",
       "    // Get hold of the div created by the display call when the Comm\n",
       "    // socket was opened in Python.\n",
       "    var element = $(\"#\" + id);\n",
       "    var ws_proxy = comm_websocket_adapter(comm)\n",
       "\n",
       "    function ondownload(figure, format) {\n",
       "        window.open(figure.imageObj.src);\n",
       "    }\n",
       "\n",
       "    var fig = new mpl.figure(id, ws_proxy,\n",
       "                           ondownload,\n",
       "                           element.get(0));\n",
       "\n",
       "    // Call onopen now - mpl needs it, as it is assuming we've passed it a real\n",
       "    // web socket which is closed, not our websocket->open comm proxy.\n",
       "    ws_proxy.onopen();\n",
       "\n",
       "    fig.parent_element = element.get(0);\n",
       "    fig.cell_info = mpl.find_output_cell(\"<div id='\" + id + \"'></div>\");\n",
       "    if (!fig.cell_info) {\n",
       "        console.error(\"Failed to find cell for figure\", id, fig);\n",
       "        return;\n",
       "    }\n",
       "\n",
       "    var output_index = fig.cell_info[2]\n",
       "    var cell = fig.cell_info[0];\n",
       "\n",
       "};\n",
       "\n",
       "mpl.figure.prototype.handle_close = function(fig, msg) {\n",
       "    var width = fig.canvas.width/mpl.ratio\n",
       "    fig.root.unbind('remove')\n",
       "\n",
       "    // Update the output cell to use the data from the current canvas.\n",
       "    fig.push_to_output();\n",
       "    var dataURL = fig.canvas.toDataURL();\n",
       "    // Re-enable the keyboard manager in IPython - without this line, in FF,\n",
       "    // the notebook keyboard shortcuts fail.\n",
       "    IPython.keyboard_manager.enable()\n",
       "    $(fig.parent_element).html('<img src=\"' + dataURL + '\" width=\"' + width + '\">');\n",
       "    fig.close_ws(fig, msg);\n",
       "}\n",
       "\n",
       "mpl.figure.prototype.close_ws = function(fig, msg){\n",
       "    fig.send_message('closing', msg);\n",
       "    // fig.ws.close()\n",
       "}\n",
       "\n",
       "mpl.figure.prototype.push_to_output = function(remove_interactive) {\n",
       "    // Turn the data on the canvas into data in the output cell.\n",
       "    var width = this.canvas.width/mpl.ratio\n",
       "    var dataURL = this.canvas.toDataURL();\n",
       "    this.cell_info[1]['text/html'] = '<img src=\"' + dataURL + '\" width=\"' + width + '\">';\n",
       "}\n",
       "\n",
       "mpl.figure.prototype.updated_canvas_event = function() {\n",
       "    // Tell IPython that the notebook contents must change.\n",
       "    IPython.notebook.set_dirty(true);\n",
       "    this.send_message(\"ack\", {});\n",
       "    var fig = this;\n",
       "    // Wait a second, then push the new image to the DOM so\n",
       "    // that it is saved nicely (might be nice to debounce this).\n",
       "    setTimeout(function () { fig.push_to_output() }, 1000);\n",
       "}\n",
       "\n",
       "mpl.figure.prototype._init_toolbar = function() {\n",
       "    var fig = this;\n",
       "\n",
       "    var nav_element = $('<div/>');\n",
       "    nav_element.attr('style', 'width: 100%');\n",
       "    this.root.append(nav_element);\n",
       "\n",
       "    // Define a callback function for later on.\n",
       "    function toolbar_event(event) {\n",
       "        return fig.toolbar_button_onclick(event['data']);\n",
       "    }\n",
       "    function toolbar_mouse_event(event) {\n",
       "        return fig.toolbar_button_onmouseover(event['data']);\n",
       "    }\n",
       "\n",
       "    for(var toolbar_ind in mpl.toolbar_items){\n",
       "        var name = mpl.toolbar_items[toolbar_ind][0];\n",
       "        var tooltip = mpl.toolbar_items[toolbar_ind][1];\n",
       "        var image = mpl.toolbar_items[toolbar_ind][2];\n",
       "        var method_name = mpl.toolbar_items[toolbar_ind][3];\n",
       "\n",
       "        if (!name) { continue; };\n",
       "\n",
       "        var button = $('<button class=\"btn btn-default\" href=\"#\" title=\"' + name + '\"><i class=\"fa ' + image + ' fa-lg\"></i></button>');\n",
       "        button.click(method_name, toolbar_event);\n",
       "        button.mouseover(tooltip, toolbar_mouse_event);\n",
       "        nav_element.append(button);\n",
       "    }\n",
       "\n",
       "    // Add the status bar.\n",
       "    var status_bar = $('<span class=\"mpl-message\" style=\"text-align:right; float: right;\"/>');\n",
       "    nav_element.append(status_bar);\n",
       "    this.message = status_bar[0];\n",
       "\n",
       "    // Add the close button to the window.\n",
       "    var buttongrp = $('<div class=\"btn-group inline pull-right\"></div>');\n",
       "    var button = $('<button class=\"btn btn-mini btn-primary\" href=\"#\" title=\"Stop Interaction\"><i class=\"fa fa-power-off icon-remove icon-large\"></i></button>');\n",
       "    button.click(function (evt) { fig.handle_close(fig, {}); } );\n",
       "    button.mouseover('Stop Interaction', toolbar_mouse_event);\n",
       "    buttongrp.append(button);\n",
       "    var titlebar = this.root.find($('.ui-dialog-titlebar'));\n",
       "    titlebar.prepend(buttongrp);\n",
       "}\n",
       "\n",
       "mpl.figure.prototype._root_extra_style = function(el){\n",
       "    var fig = this\n",
       "    el.on(\"remove\", function(){\n",
       "\tfig.close_ws(fig, {});\n",
       "    });\n",
       "}\n",
       "\n",
       "mpl.figure.prototype._canvas_extra_style = function(el){\n",
       "    // this is important to make the div 'focusable\n",
       "    el.attr('tabindex', 0)\n",
       "    // reach out to IPython and tell the keyboard manager to turn it's self\n",
       "    // off when our div gets focus\n",
       "\n",
       "    // location in version 3\n",
       "    if (IPython.notebook.keyboard_manager) {\n",
       "        IPython.notebook.keyboard_manager.register_events(el);\n",
       "    }\n",
       "    else {\n",
       "        // location in version 2\n",
       "        IPython.keyboard_manager.register_events(el);\n",
       "    }\n",
       "\n",
       "}\n",
       "\n",
       "mpl.figure.prototype._key_event_extra = function(event, name) {\n",
       "    var manager = IPython.notebook.keyboard_manager;\n",
       "    if (!manager)\n",
       "        manager = IPython.keyboard_manager;\n",
       "\n",
       "    // Check for shift+enter\n",
       "    if (event.shiftKey && event.which == 13) {\n",
       "        this.canvas_div.blur();\n",
       "        event.shiftKey = false;\n",
       "        // Send a \"J\" for go to next cell\n",
       "        event.which = 74;\n",
       "        event.keyCode = 74;\n",
       "        manager.command_mode();\n",
       "        manager.handle_keydown(event);\n",
       "    }\n",
       "}\n",
       "\n",
       "mpl.figure.prototype.handle_save = function(fig, msg) {\n",
       "    fig.ondownload(fig, null);\n",
       "}\n",
       "\n",
       "\n",
       "mpl.find_output_cell = function(html_output) {\n",
       "    // Return the cell and output element which can be found *uniquely* in the notebook.\n",
       "    // Note - this is a bit hacky, but it is done because the \"notebook_saving.Notebook\"\n",
       "    // IPython event is triggered only after the cells have been serialised, which for\n",
       "    // our purposes (turning an active figure into a static one), is too late.\n",
       "    var cells = IPython.notebook.get_cells();\n",
       "    var ncells = cells.length;\n",
       "    for (var i=0; i<ncells; i++) {\n",
       "        var cell = cells[i];\n",
       "        if (cell.cell_type === 'code'){\n",
       "            for (var j=0; j<cell.output_area.outputs.length; j++) {\n",
       "                var data = cell.output_area.outputs[j];\n",
       "                if (data.data) {\n",
       "                    // IPython >= 3 moved mimebundle to data attribute of output\n",
       "                    data = data.data;\n",
       "                }\n",
       "                if (data['text/html'] == html_output) {\n",
       "                    return [cell, data, j];\n",
       "                }\n",
       "            }\n",
       "        }\n",
       "    }\n",
       "}\n",
       "\n",
       "// Register the function which deals with the matplotlib target/channel.\n",
       "// The kernel may be null if the page has been refreshed.\n",
       "if (IPython.notebook.kernel != null) {\n",
       "    IPython.notebook.kernel.comm_manager.register_target('matplotlib', mpl.mpl_figure_comm);\n",
       "}\n"
      ],
      "text/plain": [
       "<IPython.core.display.Javascript object>"
      ]
     },
     "metadata": {},
     "output_type": "display_data"
    },
    {
     "data": {
      "text/html": [
       "<img src=\"data:image/png;base64,iVBORw0KGgoAAAANSUhEUgAAAnEAAAJxCAYAAAAtjeQ4AAAgAElEQVR4XuzdB3RU5boG4Dc9pEKoAUKv0juEIqgIFkTsIh5QkXZoYjliBY5dLFhoIkVFARWkKRaUltANvfdOCCGBJKTPXfvnkAtIycx888/s2e+sxTrnwt77+/7n++9d781k7+1js9ls4IcCFKAABShAAQpQwFQCPgxxppoXm6UABShAAQpQgAJKgCGOG4ECFKAABShAAQqYUIAhzoRDY8sUoAAFKEABClCAIY57gAIUoAAFKEABCphQgCHOhENjyxSgAAUoQAEKUIAhjnuAAhSgAAUoQAEKmFCAIc6EQ2PLFKAABShAAQpQgCGOe4ACFKAABShAAQqYUIAhzoRDY8sUoAAFKEABClCAIY57gAIUoAAFKEABCphQgCHOhENjyxSgAAUoQAEKUIAhjnuAAhSgAAUoQAEKmFCAIc6EQ2PLFKAABShAAQpQgCGOe4ACFKAABShAAQqYUIAhzoRDY8sUoAAFKEABClCAIY57gAIUoAAFKEABCphQgCHOhENjyxSgAAUoQAEKUIAhTsMeSEpKwq+//opKlSqhSJEiGiqyBAUoQAEKUIACniZw/vx5HDhwAJ06dUKJEiWcbo8hzmnCG19g+vTp6NGjx40P5BEUoAAFKEABCni9wDfffIPHHnvM6XUyxDlNeOMLxMXFoU2bNjCGVrt27RufwCMoQAEKUIACFPA6ge3bt6sf6qxYsQKtW7d2en0McU4T3vgCf//9N5o0aYL169ejcePGNz6BR1CAAhSgAAUo4HUC0nmAIU7DFpEemoaWWYICFKAABShAAWEB6TzAECc8oKtdTnpoGlpmCQpQgAIUoAAFhAWk8wBDnPCAGOI0gLIEBShAAQpQwIQCDHEcmgkF2DIFKEABClCAAgxxJtwD0kMzIQFbpgAFKEABClheQDoP8OtUDVtKemgaWmYJClCAAhSgAAWEBaTzAEOc8ICudjnpoWlomSUoQAEKUIACFBAWkM4DDHHCA2KI0wDKEhSgAAUoQAETCjDEcWgmFGDLFKAABShAAQowxJlwD0gPzYQEbJkCFKAABShgeQHpPMCvUzVsKemhaWiZJShAAQpQgAIUEBaQzgMMccIDutrlpIemoWWWoAAFKEABClBAWEA6DzDECQ+IIU4DKEtQgAIUoAAFTCjAEMehmVCALVOAAhSgAAUowBBnwj0gPTQTErBlClCAAhSggOUFpPOAab9OTUtLw+jRo7F+/XqsW7cOJ06cQM+ePTF16tR/bJK8vDy8//77mDRpEg4fPoyYmBj07t0bzz//PPz8/C473p5jC7sbpYdW2Lo8jgIUoAAFKEABzxGQzgOmDXEHDhxA5cqVER0djSZNmmDBggXXDHEDBgzAuHHj8MQTTyA2NhZxcXEq7Bl///nnn182XXuOLey2kB5aYevyOApQgAIUoAAFPEdAOg+YNsRlZWUhKSkJ5cqVQ25uLgICAq4a4jZv3owGDRpg0KBBGDNmTMEkhwwZgk8//RQbN25EvXr11N/bc6w9W0J6aPbU5rEUoAAFKEABCniGgHQeMG2Iu3Qc1wtxL7/8Mt566y3s27dP/eTu4mf//v2oUqUKjH9/44031F/bc6w920F6aPbU5rEUoAAFKEABCniGgHQe8PoQ16lTJ/XTNuN35q78lC5dGo0aNcKiRYvUP9lzrD3bQXpoF2snp2djzf5k+Pn6wNcH8PX1gZ+P8d99EOjviyDjT4Dxn37qv4cG+iM0yA/+fr72tM9jKUABClCAAhQQEJDOA14f4oyvSgMDA9UNEFd+GjdujJycHPU1qvGx59hrzfL48eMw/lz62b59O3r06KF6MGpKfVbuPY1Hv1hl9+WCA3wRFhSA8GB/RBYJQLEQ408gIkMCUDw0ECXDgy78CQtGqYgg9XcMfnYz8wQKUIACFKDAZQIMcVfZENf7OrVq1aowfuIWHx//jzONmxwSExOxZ88e9W/2HHutfTlixAiMHDnyqv8sHeLi9iThsUmrXf6/IsZP+kqHByG6aBGUNf5EBiMmKgQVokJQsXiI+rsA/nTP5XNgAQpQgAIUMLcAQ5ydIc6en67Zc6wn/CTO+Dp1w+EzyMsH8m025OfbkG8D8mw25OTmIys3H5k5eQX/mZGdi7Qs408e0rNycfZ8DlKMPxnZSMnIQa5xsgMfI+SVL1YEVUqEomrJMFQtFYZqxp+SYSgWGujAFXkKBShAAQpQwPsEGOLsDHH2/J6bPcfas7Wkh2ZP7cIea7PZVMAzguGpc1kX/qRlIfFsFo6nZuJYynkcTz2PY6mZyM7NL+xlUSo8CDXLhKN2dARqlg7HTWUjUL1UGL+eLbQgD6QABShAAW8RkM4DXv87cS+99BLefvvta96davz7m2++qfaHPcfas6Gkh2ZPbeljjbBnhLvDyedxKDkdh06fx8HkdOxPSsfexDSczcy9YUnjJota0RGoV874E4mGMcXUT+6Mn+jxQwEKUIACFPBWAek84PUhzrgz1bgD9VrPiduwYQPq16+v9os9x9qzwaSHZk9tnccaAe90erYKc3tOpWH3yTTsOHEWO06cU1/XXu8TFuSPBjGRaBRTDI0rFkWTClHqRgt+KEABClCAAt4iIJ0HTB3iPvvsM6SkpCA/Px+vv/66Cmv33XefmvU999xTEM769euHCRMmqDc2tG7dWr2xYcqUKejbty/Gjx9/2d6w59jCbirpoRW2rqccZ4S7xHNZ2H78LLYeO4vNR1Kx+Wgqjqacv2aLPj5QX782rxyFZpWi0KJyFEpFBHvKktgHBShAAQpQwG4B6Txg6hBXqVIlHDx48KqIRkjr1auX+jfj7tX33ntPvTv16NGj6i0PxrtTX3jhBfj7+192vj3HFnZ60kMrbF1PP874/btNR1Kw4XAKEg5d+M/U89f+iZ3xlWvrqsURW60EWlYprh6Pwg8FKEABClDALALSecDUIc6qQzPLuu3t0/iJ3b6kdKw/cAZrDiSrBxkfSs646mWMX5+rX74obq5REjfXLIkG5Yvyd+rsBefxFKAABSigVYAhTiu3TDHpocl0ZY6rnDybidX7k2E82Dh+bxIOnr56qCsaEoA21Urg1tql0L5GKT7axBzjZZcUoAAFLCUgnQf4kzgN20d6aBpa9tgSR85kIH7vaazYnYTlu0/hzFVumDB+Ste0UhRuq10Kt9UujSolwzx2PWyMAhSgAAWsIyCdBxjiNOwd6aFpaNkUJfLybdhyNBVLd51SfxIOnVEPO77yU6N0GDrXjUbnOmVQOzocPsZdE/xQgAIUoAAFNAtI5wGGOA0DlB6ahpZNWeJMejb+2pmIxdsTVagzHl585cd4TdgddaPRpUE0boqOYKAz5aTZNAUoQAFzCkjnAYY4DftAemgaWjZ9CeOtEqv2ncZv207g160n1RsorvxUKRmKLvXLokuDsuphw/xQgAIUoAAFXCkgnQcY4lw5rf9dW3poGlr2qhLG165/HzqDXzafwKItx9Wrw678GD+Vu69xOdzTsCxKhfN5dF61AbgYClCAAh4iIJ0HGOI0DFZ6aBpa9toS+fk2JBxOwfyNx7Bw8/F//ITOePVX2+ol0K1ROXSqUwbBAX5ea8GFUYACFKCAXgHpPMAQp2F+0kPT0LIlShg/oVu9/zTmbbgQ6M5d8d7X8GB/dG1YFg83rYC65fj7c5bYFFwkBShAARcKSOcBhjgXDuvipaWHpqFly5XIzMlTN0TM/vsIluw6BSPgXfqpHR2Bh5uWR7fG5fmmCMvtDi6YAhSggIyAdB5giJOZy3WvIj00DS1bukRSWhZ+SjiKWesOY9fJtMssggN81c0QPVpWRP3ykby71dI7hYunAAUoYJ+AdB5giLPP36GjpYfmUBM8yW4B4zVgG4+kYubaw+p36K58ZInxFWuPFhXRtWE5FAnk787ZDcwTKEABClhMQDoPMMRp2EDSQ9PQMktcIZCRnYsFG49j+uqDKthd+oksEoBHmsWon87FRIXQjgIUoAAFKHBVAek8wBCnYaNJD01DyyxxHYHNR1JVmJu74RjO5+QVHGm87uvW2qXxROtKaFWlOL9q5S6iAAUoQIHLBKTzAEOchg0mPTQNLbNEIQRSz+fg+3WH8dXKgziUnHHZGcZXrb3bVMFd9aMR4OdbiKvxEApQgAIU8HYB6TzAEKdhx0gPTUPLLGGHgHEn65KdiZgafwDLdydddmaZiGD0al0J3VtUQERwgB1X5aEUoAAFKOBtAtJ5gCFOww6RHpqGllnCQYHdJ8/hyxX7MTvhKIxXf138hAf5o0eriuqrVr4RwkFcnkYBClDA5ALSeYAhTsOGkB6ahpZZwkkB412tX686iG9WHURyenbB1QL9ffFgk/Lo064KKhYPdbIKT6cABShAATMJSOcBhjgN05cemoaWWUJIwHiI8Pfrj2Disr04nHy+4KrGTRDGo0n+3aEaqpUKE6rGy1CAAhSggCcLSOcBhjgN05YemoaWWUJYIDcvX73aa9ySvdhx4lzB1X18gLvqRWPQLdVRs0y4cFVejgIUoAAFPElAOg8wxGmYrvTQNLTMEi4SMB4g/NfORHz65x4kHEq5rModdctg6G01GOZcZM/LUoACFHC3gHQeYIjTMFHpoWlomSVcLGCEubg9p/HJ4t1YcyD5Hz+ZM8Icv2Z18RB4eQpQgAKaBaTzAEOchgFKD01DyyyhUWDVvtMY88durNx3uqCq8Ttz9zYshyG3VecNEBpnwVIUoAAFXCkgnQcY4lw5rf9dW3poGlpmCTcIxO9Nwoe/7cK6g2cKqvv7+uCR5jEYfEt1lIoIdkNXLEkBClCAAlIC0nmAIU5qMte5jvTQNLTMEm4SML5mXbbbCHM7L3tHa5EAPzzZphL6tKsK412t/FCAAhSggPkEpPMAQ5yGPSA9NA0ts4SbBYww9/u2kxj9207sOplW0I0R4AbdUg2Pt6qIIH8/N3fJ8hSgAAUoYI+AdB5giLNH38FjpYfmYBs8zYQCxiu95iQcxUe/78LRlP9/zlxMVBG80KkW7q4fDR/jOSX8UIACFKCAxwtI5wGGOA0jlx6ahpZZwsMEsnLzMH3VIXz6526cycgp6K5BTFG8fGdtNK8c5WEdsx0KUIACFLhSQDoPMMRp2GPSQ9PQMkt4qEDq+Rz1wODJcfsvezfrnfXKYPgdtRETFeKhnbMtClCAAhSQzgMMcRr2lPTQNLTMEh4ucORMBj74bZf6qvXix3gv69NtK2NA+2oIDfL38BWwPQpQgALWE5DOAwxxGvaQ9NA0tMwSJhHYdCQFo+Zvu+yxJCXDg/CfzrVwX6Ny8DUeOMcPBShAAQp4hIB0HmCI0zBW6aFpaJklTCRg3Mm6YNNxvPPLjstufmhcoShGda2LuuUiTbQatkoBClDAewWk8wBDnIa9Ij00DS2zhAkFMnPy8MWyfRi7ZC/O5+SpFRg3rnZvXgHP3V4TxUIDTbgqtkwBClDAewSk8wBDnIa9IT00DS2zhIkFjqWcx1s/b1c/nbv4KRoSoB5J8kizGH7FauLZsnUKUMDcAtJ5gCFOw36QHpqGllnCCwSM13i9Pncrdif+/8OCja9Y37i3Hm4qG+EFK+QSKEABCphLQDoPMMRpmL/00DS0zBJeIpCTl49p8Qfw8R+7kZaVq1bl5+uDXrGV8EzHGgjjXaxeMmkugwIUMIOAdB5giNMwdemhaWiZJbxM4OTZTIxasA0LL/mKtUxEMEbcUwed65bxstVyORSgAAU8U0A6DzDEaZiz9NA0tMwSXiqwdNcpvDZ3Cw6ezihYYac6pdVdrKUjgr101VwWBShAAc8QkM4DDHEa5io9NA0ts4QXCxh3sY79aw/GLd2LnDybWml4kD/+c0ctdScrny3nxcPn0ihAAbcKSOcBhjgN45QemoaWWcICArtOnsPw2Zux/uCZgtU2q1QM79xfH1VLhllAgEukAAUooFdAOg8wxGmYn/TQNLTMEhYRyM+3Yfrqg3h30c6CGx+M13cN61gDvdtUhr+fr0UkuEwKUIACrheQzgMMca6fGaSHpqFllrCYwInUTLw6dwt+33ayYOX1y0fivQfqo1YZPo7EYtuBy6UABVwkIJ0HGOJcNKhLLys9NA0ts4QFBS6+vuv1eVuRnJ6tBAL8fDCwQ3UM6FAVAfypnAV3BZdMAQpICkjnAYY4yelc41rSQ9PQMktYWOB0WhaMIHfpGx/qlovAhw81RI3S4RaW4dIpQAEKOCcgnQcY4pybR6HOlh5aoYryIAo4KfDr1hN4ec4WJKVlqSsF+vli2O018HTbKuqBwfxQgAIUoIB9AtJ5gCHOPn+HjpYemkNN8CQKOCBwJj0br83bivkbjxWcbby664OHGqJyiVAHrshTKEABClhXQDoPMMRp2EvSQ9PQMktQ4DIB400Pr/y0GWcyctTfFwnwwyt311bPlfPx4U/luF0oQAEKFEZAOg8wxBVG3cljpIfmZDs8nQIOCZw6l4WX5my+7A7WW2qVwrv310fJ8CCHrsmTKEABClhJQDoPMMRp2D3SQ9PQMktQ4KoCxh2sP6w/ghHztiI9O08dExUaiHfuq4fb6/AdrNw2FKAABa4nIJ0HGOI07DfpoWlomSUocF2BQ6czMGzWBqy75G0PjzaPwat334SQQH/qUYACFKDAVQSk8wBDnIZtJj00DS2zBAVuKJCXb8P4pXvx0e+7kJt/4R2sVUqG4pNHGqFuucgbns8DKEABClhNQDoPMMRp2EHSQ9PQMktQoNACW46mYvB3CdiXlK7OMR5F8kLnmniydWX48lEkhXbkgRSggPcLSOcBhjgNe0Z6aBpaZgkK2CWQnpWLUfO3Yea6wwXntatREh882IA3PdglyYMpQAFvFpDOAwxxGnaL9NA0tMwSFHBIwHgUyfDZm3A2M1edb9y1+vHDDdG6WgmHrseTKEABCniTgHQeYIjTsDukh6ahZZaggMMCR1POY+iMBKw9cEZdw3iM3KAO1TD41urw5/tXHXbliRSggPkFpPMAQ5yGPSE9NA0tswQFnBLIzcvHmMW78dlfe2C7cM8DmleKwphHGyI6sohT1+bJFKAABcwqIJ0HGOI07ATpoWlomSUoICKwYncShs7cUPD+1WIhAfjo4YZoX7OUyPV5EQpQgAJmEpDOAwxxGqYvPTQNLbMEBcQEjDc9GM+UW747SV3z4terQ26rAT/evSrmzAtRgAKeLyCdBxjiNMxcemgaWmYJCogK5OfbMHbJHnz4+y7875FyiK1aHGMeacS7V0WleTEKUMCTBaTzAEOchmlLD01DyyxBAZcIxO9JwuAZCUhKy1bXLxUehE8fbYQWVYq7pB4vSgEKUMCTBKTzAEOchulKD01DyyxBAZcJJJ7NxMDvErBmf7KqYXylOvyOWniqTWX4GN+18kMBClDASwWk8wBDnIaNIj00DS2zBAVcKmDcvfrB77swbsnegjp314/Gu/fXR2gQ373qUnxenAIUcJuAdB5giNMwSumhaWiZJSigReC3rSfw7KyNOJd14eHA1UuFYfzjTVC1ZJiW+ixCAQpQQKeAdB5giNMwPemhaWiZJSigTWB/Ujr6fb0eO0+eUzXDgvzx4UMNcHudMtp6YCEKUIACOgSk8wBDnIapSQ9NQ8ssQQGtAhnZuXjxx82Yt/FYQd0ht1aH8ceXjyHROgsWowAFXCcgnQcY4lw3q4IrSw9NQ8ssQQHtAjabDVPiDuDNn7cj73/PIbmtdml89HADhAcHaO+HBSlAAQpIC0jnAYY46Qld5XrSQ9PQMktQwG0CK/eexr+//RvJ6RceQ1K1ZCgm/qspf0/ObRNhYQpQQEpAOg8wxElN5jrXkR6ahpZZggJuFThyJgN9v16PrcfOqj7Cg/zxyaON0KEWX9fl1sGwOAUo4JSAdB5giHNqHIU7WXpohavKoyhgboHz2XkYPnsTftpw4ffkjEfIGc+Te7ptFT5PztyjZfcUsKyAdB5giNOwlaSHpqFllqCARwgYvyc3afl+vP3L9oLXdd3XuBze6lYPwQF+HtEjm6AABShQWAHpPMAQV1h5J46THpoTrfBUCphS4K+diRj8bULB8+QaVSiKCT2aoFREsCnXw6YpQAFrCkjnAYY4DftIemgaWmYJCnicwJ7Ec+g9bR0OnM5QvUVHBmNSz6aoUzbS43plQxSgAAWuJiCdBxjiNOwz6aFpaJklKOCRAikZ2Rj4bQJW7ElS/YUE+mHMI43Q8abSHtkvm6IABShwqYB0HmCI07C/pIemoWWWoIDHChjvXR05fxu+XnVQ9cgbHjx2VGyMAhS4QkA6DzDEadhi0kPT0DJLUMDjBabFH8DI+VsLbnh4pFkMRnWti0B/X4/vnQ1SgALWFJDOAwxxGvaR9NA0tMwSFDCFwJKdierr1bSsXNVvbNXiGNejCSKL8A0Pphggm6SAxQSk8wBDnIYNJD00DS2zBAVMI7DzxDk8NW0tjpw5r3quVioMU3o1Q0xUiGnWwEYpQAFrCEjnAYY4DftGemgaWmYJCphKICktS925uuFwiuq7RFggJvVshoYxRU21DjZLAQp4t4B0HmCI07BfpIemoWWWoIDpBIw3PDwzcwMWbT2heg8O8FV3rnaqU8Z0a2HDFKCAdwpI5wGGOA37RHpoGlpmCQqYUiA/36be7vDF8v2qf+PO1VfvuglPtqlsyvWwaQpQwLsEpPMAQ5yG/SE9NA0tswQFTC3w1coDGDHv/+9c7dOuCl7sXAu+vj6mXhebpwAFzC0gnQcY4jTsB+mhaWiZJShgeoHF20/i39/+jcycfLWWLg3KYvSD9RHkz3eumn64XAAFTCognQcY4jRsBOmhaWiZJSjgFQLGjQ5PTl2L5PRstZ6WVaIw4fGmfASJV0yXi6CA+QSk84AlQtzhw4fxyiuvYNGiRUhJSUHVqlXRr18/DBo0CD7GL83873Ppf790a9x66634448/HN4t0kNzuBGeSAELChxISkfPKWtw8H/vXK1ZOhzTnmyOMpHBFtTgkilAAXcKSOcBrw9xx48fR5MmTZCWloaBAweiQoUKWLx4MX744Qc8++yzGD169GUhLjY2Fv37979sxtHR0TCCnKMf6aE52gfPo4BVBYxHkDw1dS02HklVBOWKFlFBznimHD8UoAAFdAlI5wGvD3GDBw/GZ599huXLl6N169YFcxowYAAmTJiArVu3olatWurvjZ/EPfbYY/jmm29E5yk9NNHmeDEKWEQgIztXvd3hzx2JasXFQgIwuVczNKpQzCICXCYFKOBuAek84PUhrkGDBkhPT8eePXsum93KlSth/NTt1VdfxahRoy4LcZMnT0ZOTg5CQ0NF5i09NJGmeBEKWFAgJy8fL/64GT/+fUStvkiAH8b1aIz2NUtZUINLpgAFdAtI5wGvD3HGT9kCAwOxadOmy2Zl/M9GwOvcuTN++eWXghAXEhKCzMxM5Ofno1y5cujTpw9eeukl+Pv7Ozxr6aE53AhPpAAFYLPZ8O6inRi/dK/S8Pf1wfsP1ke3RuWpQwEKUMClAtJ5wOtD3L333qtuaNi/fz+M3227+BkzZgyGDh2KevXqFQS8li1b4qGHHkK1atWQlJSEb7/9Vv3+3AMPPIDvv/++UIM1fgfP+HPpZ/v27ejRowfWr1+Pxo0bF+o6PIgCFHCtwKTl+/DGwu0FRV67mw8Fdq04r04BCjDE2bkHjBDWsWNHNGvWTN3EEBMTg7/++gvPPPOM+pq1YsWK//iq9dISjz76KGbMmKHOad++/Q2rjxgxAiNHjrzqcQxxN+TjARTQKvBTwlE89/1G5ObbVN3Bt1bHM7dVv+yuda0NsRgFKODVAgxxDox32rRpGDZsGJKTk9XZRYoUUYHOCFzGV6YJCQnXvOrmzZtRv359DB8+HG+99dYNq/MncTck4gEU8CiBv3Ykot8365GVe+GhwD1bVcTrXerw7Q4eNSU2QwHvEGCIc3CO2dnZ6mtT4z/r1q2rfsctLCxMfX1q/KTtWp+zZ88iMjISTz/9NCZOnOhQdemhOdQET6IABa4psPZAsnoo8LnMXHXMvQ3L4v0HGyDAz5dqFKAABcQEpPOA1/9O3LXkf/rpJ3Tr1g1TpkxBr169rjmgi+DGw4L/+9//OjRI6aE51ARPogAFriuw9Vgqek5eg6S0C293uLVWKXz+WGMEB/A1Xdw6FKCAjIB0HrBkiEtNTVWPF8nIyMC2bdvU16uJiYkoVeryxwzk5eWha9euWLhwIYxHkhg3PjjykR6aIz3wHApQ4MYC+5PS0WPSahxNOa8Ojq1aHF/8qylCgxy/O/3GVXkEBShgFQHpPOD1Ie7EiRPqMSLGXarGTQ3G76xNmjRJ/X7c77//jhYtWqi9Y9ypunTpUtx1113qrQ6nT5/GrFmzsGHDBvTt2xfjx493eI9JD83hRngiBShwQ4HjqedVkNt7Kl0d26hCUUzt1RyRIQE3PJcHUIACFLiegHQe8PoQZ7xuy/i6dPXq1eqnbcWKFVN3q77++uvqUSIXP3PnzlVvdjDe4GAEuKCgIPW7c8Zz4q73dWthtqv00ApTk8dQgAKOCxiv6Xr8yzXYfvysushN0RH4+qnmKB4W5PhFeSYFKGB5Aek84PUhzhN2jPTQPGFN7IEC3i6QmpGDXlPXIOFQilpq1ZKhmN67JcpEBnv70rk+ClDARQLSeYAhzkWDuvSy0kPT0DJLUIACANKzcvH0V+sQv/e08qgQFYJvn26B8sVC6EMBClDAbgHpPMAQZ/cI7D9Bemj2d8AzKEABRwUyc/IwYPrf+HNHorpEuaJFVJCrWFzm3cqO9sXzKEAB8wlI5wGGOA17QHpoGlpmCQpQ4BKB7Nx8DPrub/y69aT629IRQfj26ZaoWjKMThSgAAUKLSCdBxjiCk3v+IHSQ3O8E55JAQo4KpCTl49hszZi/sZj6hIlwoIwvXcL1CwT7rz4zYkAACAASURBVOgleR4FKGAxAek8wBCnYQNJD01DyyxBAQpcRSAv34YXftiEH/8+ov61WEiAutnhprIR9KIABShwQwHpPMAQd0Ny5w+QHprzHfEKFKCAowL5+Ta8/NNmfLfmsLpEURXkWqBO2UhHL8nzKEABiwhI5wGGOA0bR3poGlpmCQpQ4DoCNpsNr8/biq9WHlRHRRa5EOTqlmOQ48ahAAWuLSCdBxjiNOw26aFpaJklKECBGwgYQW7k/G2YGn9AHRkR7K++Wq1XnkGOm4cCFLi6gHQeYIjTsNOkh6ahZZagAAUKIWAEuf8u2I7JcfsLgtzXT7VAg5iihTibh1CAAlYTkM4DDHEadpD00DS0zBIUoEAhBYwg9+bC7Zi04kKQCw/2xzcMcoXU42EUsJaAdB5giNOwf6SHpqFllqAABewQMILcO7/swIRl+wp+Imc8R46/I2cHIg+lgAUEpPMAQ5yGTSM9NA0tswQFKGCngBHk3vp5O75YfuEncrzZwU5AHk4BCwhI5wGGOA2bRnpoGlpmCQpQwAGBK39Hznj8yLd8jpwDkjyFAt4pIJ0HGOI07BPpoWlomSUoQAEHBa68a9V4IPB3fVqiVhk+ENhBUp5GAa8RkM4DDHEatob00DS0zBIUoIATAlc+R654aCBm9m2JaqX4ii4nWHkqBUwvIJ0HGOI0bAnpoWlomSUoQAEnBYwg9+rcLfhm1SF1pVLhQZjZtxUqlwh18so8nQIUMKuAdB5giNOwE6SHpqFllqAABQQEjFd0vTh7E2atu/Cu1ejIYMzq2woxUSECV+clKEABswlI5wGGOA07QHpoGlpmCQpQQEggL9+GZ2dtwE8bjqkrxkQVwcw+rVC2aBGhCrwMBShgFgHpPMAQp2Hy0kPT0DJLUIACggK5efkYPCMBP28+oa5qfKU6s09LlIoIFqzCS1GAAp4uIJ0HGOI0TFx6aBpaZgkKUEBYIDs3HwOmr8cf2xPVlWuUDsOMPq0QFRooXImXowAFPFVAOg8wxGmYtPTQNLTMEhSggAsEsnLz8PRX67Fs1yl19XrlIjH96RaICA5wQTVekgIU8DQB6TzAEKdhwtJD09AyS1CAAi4SOJ+dh56T12DNgWRVoVmlYpj2ZHOEBPq7qCIvSwEKeIqAdB5giNMwWemhaWiZJShAARcKnMvMwWOTVmPTkVRVpW31EpjUsymC/P1cWJWXpgAF3C0gnQcY4jRMVHpoGlpmCQpQwMUCZ9Kz8cjEVdh58pyqdPtNpTH2scbw9/N1cWVengIUcJeAdB5giNMwSemhaWiZJShAAQ0Ciecy8fCEVdiflK6q3de4HEY/0AC+vj4aqrMEBSigW0A6DzDEaZig9NA0tMwSFKCAJoGjKefx4Lh4HEvNVBV7xVbC611ugo8Pg5ymEbAMBbQJSOcBhjgNo5MemoaWWYICFNAosPdUGh4avxKn07NV1aG3VcfQ22po7IClKEABHQLSeYAhTsPUpIemoWWWoAAFNAtsOZqKRyeuwrmsXFXZ+GncE60ra+6C5ShAAVcKSOcBhjhXTut/15YemoaWWYICFHCDwJr9yXj8y9XIys1X1T94sAHub1LeDZ2wJAUo4AoB6TzAEOeKKV1xTemhaWiZJShAATcJ/LnjJPp8tR65+Tb4+fpg4uNNcGvt0m7qhmUpQAFJAek8wBAnOZ1rXEt6aBpaZgkKUMCNAnM3HMXQmRtgswFB/r74pncLNKsU5caOWJoCFJAQkM4DDHESU7nBNaSHpqFllqAABdwsMDVuP0bM36a6iAj2x6x+rVCrTISbu2J5ClDAGQHpPMAQ58w0Cnmu9NAKWZaHUYACJhf44Led+PTPPWoVpcKD8GP/WMREhZh8VWyfAtYVkM4DDHEa9pL00DS0zBIUoIAHCNhsNrw0Zwu+W3NIdVO5RCi+79cKJcKCPKA7tkABCtgrIJ0HGOLsnYADx0sPzYEWeAoFKGBSgbx8G/49/W8s2npCraBeuUjM6NMSoUH+Jl0R26aAdQWk8wBDnIa9JD00DS2zBAUo4EECmTl56DVlDVbtS1ZdtatREl/2bIoAvmfVg6bEVihwYwHpPMAQd2Nzp4+QHprTDfECFKCA6QTOZuaotzrsOHFO9W68Z9V4jhxfz2W6UbJhCwtI5wGGOA2bSXpoGlpmCQpQwAMFTp7NxH1j42G8b9X49G9fFf/pXMsDO2VLFKDA1QSk8wBDnIZ9Jj00DS2zBAUo4KECxntWHxgXjzMZOarDkffUQc/YSh7aLduiAAUuFZDOAwxxGvaX9NA0tMwSFKCABwv8fegMun+xCpk5+fDxAcZ2b4w76kV7cMdsjQIUMASk8wBDnIZ9JT00DS2zBAUo4OECi7efRJ+v18O4ezXQ3xff9m6Bpnyrg4dPje1ZXUA6DzDEadhR0kPT0DJLUIACJhCYseYQXpy9WXVaNCRAPQy4askwE3TOFilgTQHpPMAQp2EfSQ9NQ8ssQQEKmETg0rc6xEQVwez+rVEynA8DNsn42KbFBKTzAEOchg0kPTQNLbMEBShgEgHjrQ7Pfr8Rs/8+qjquX/7Cw4BDAvkwYJOMkG1aSEA6DzDEadg80kPT0DJLUIACJhLIzs3Hk1PXYsWeJNX1LbVKYeLjTeDPhwGbaIps1QoC0nmAIU7DrpEemoaWWYICFDCZwJUPA+7RsgL+27UuHwZssjmyXe8WkM4DDHEa9ov00DS0zBIUoIAJBY6nnke3z+Nx4mym6v7lO2vj6XZVTLgStkwB7xSQzgMMcRr2ifTQNLTMEhSggEkFth07iwfHxyM9O4/PkDPpDNm29wpI5wGGOA17RXpoGlpmCQpQwMQCS3Ym4qlp69Qz5IL8ffFdn5ZoXKGYiVfE1ingHQLSeYAhTsO+kB6ahpZZggIUMLnA9NUH8fKcLWoVxUMDMWdAa1QoHmLyVbF9CphbQDoPMMRp2A/SQ9PQMktQgAJeIPD2z9sxYdk+tZIqJUMxp39rRIYEeMHKuAQKmFNAOg8wxGnYB9JD09AyS1CAAl4gkJ9vw8Dv/sbPm0+o1cRWLY5pTzZHAB894gXT5RLMKCCdBxjiNOwC6aFpaJklKEABLxHIzMnDIxNXYcPhFLWiR5vH4K1u9fjoES+ZL5dhLgHpPMAQp2H+0kPT0DJLUIACXiRw6lwW7v08DkdTzqtV8dEjXjRcLsVUAtJ5gCFOw/ilh6ahZZagAAW8TGDHibN4YNxKpGXlqkePTOjRBLfXKeNlq+RyKODZAtJ5gCFOw7ylh6ahZZagAAW8UOAv49EjU9ci3wYUCfDD9/1aoW65SC9cKZdEAc8UkM4DDHEa5iw9NA0tswQFKOClAtPiD+D1eVvV6spEBGPewNYoFRHspavlsijgWQLSeYAhTsN8pYemoWWWoAAFvFjg9blbMG3lQbXCBuUjMbNvKwQH+Hnxirk0CniGgHQeYIjTMFfpoWlomSUoQAEvFsjNy8cTU9di+e4ktcouDcrik0ca8o5VL545l+YZAtJ5gCFOw1ylh6ahZZagAAW8XCD1fA66jY3DvlPpaqXDOtbA4Fure/mquTwKuFdAOg8wxGmYp/TQNLTMEhSggAUE9ielq0ePGIHO+HzevTHuqh9tgZVziRRwj4B0HmCI0zBH6aFpaJklKEABiwjE70nCvyavQW6+DcEBvvi+byzqlecdqxYZP5epWUA6DzDEaRig9NA0tMwSFKCAhQSmrz6Il+dsUSuOjgzGXOOO1XDesWqhLcClahKQzgMMcRoGJz00DS2zBAUoYDGBS+9YbVyhKL7r0xJB/rxj1WLbgMt1sYB0HmCIc/HAjMtLD01DyyxBAQpYTCAnLx89J69B/N7TauUPNimP9x6ozztWLbYPuFzXCkjnAYY4185LXV16aBpaZgkKUMCCAmfSs9H18zgcSs5Qq3/t7pvwZJvKFpTgkingGgHpPMAQ55o5XXZV6aFpaJklKEABiwrsOnkO3T6PQ3p2Hnx9gKlPNEe7GiUtqsFlU0BWQDoPMMTJzueqV5MemoaWWYICFLCwwB/bTuLpr9fBZgMigv0xd2AbVC4RamERLp0CMgLSeYAhTmYu172K9NA0tMwSFKCAxQU+/2sP3v91p1KoXioMc/7dGmFB/hZX4fIp4JyAdB5giHNuHoU6W3pohSrKgyhAAQo4IWCz2TDwuwQs3HRcXeX2m0pjfI8m8DW+Y+WHAhRwSEA6DzDEOTQG+06SHpp91Xk0BShAAccEMrJzcd/YeOw4cU5dgK/mcsyRZ1HgooB0HmCI07C3pIemoWWWoAAFKKAEDidnoMtnK5CSceHVXF/8qyk63lSaOhSggAMC0nmAIc6BIdh7ivTQ7K3P4ylAAQo4IxC3JwmPf7ka+Tao34v76d+xqFYq3JlL8lwKWFJAOg8wxGnYRtJD09AyS1CAAhS4TGDS8n14Y+F29XfGnarGq7kiggOoRAEK2CEgnQcY4uzAd/RQ6aE52gfPowAFKOCogHGjw7BZGzEn4ai6xG21S2Hi4015o4OjoDzPkgLSeYAhTsM2kh6ahpZZggIUoMA/BDJz8nD/uHhsPXZW/dszt9XAkNuqU4oCFCikgHQeYIgrJLwzh0kPzZleeC4FKEABZwSMGx3u+WwFzmTkwMcH+LJnU9xSizc6OGPKc60jIJ0HGOI07B3poWlomSUoQAEKXFNgxe4k/GvyhRsdwoP9MY9vdOBuoUChBKTzAENcodidO0h6aM51w7MpQAEKOC8wfulevPPLDnWhGqXDMGdAa4TyjQ7Ow/IKXi0gnQcY4jRsF+mhaWiZJShAAQpcV0C90eHbBCzcfOGNDnfVj8ZnjzaCj/EdKz8UoMBVBaTzAEOcho0mPTQNLbMEBShAgRsKpGflotvYOOw6maaOffXum/BUm8o3PI8HUMCqAtJ5gCFOw06SHpqGllmCAhSgQKEE9p1KQ9fP4nAuKxd+vj747umWaF45qlDn8iAKWE1AOg9YIsQdPnwYr7zyChYtWoSUlBRUrVoV/fr1w6BBg/7xo/8vvvgCY8aMwZ49e1CyZEl0794dI0aMQJEiRRzea9JDc7gRnkgBClDABQKLtpxAv2/WqyuXDA/CwkFtUCoi2AWVeEkKmFtAOg94fYg7fvw4mjRpgrS0NAwcOBAVKlTA4sWL8cMPP+DZZ5/F6NGjC3bEe++9h//85z/o2rUr7rrrLmzbtg2ffvopOnfujAULFji8c6SH5nAjPJECFKCAiwSMmxyMmx2MT7NKxfDt0y0R4Ofromq8LAXMKSCdB7w+xA0ePBifffYZli9fjtatWxdMfcCAAZgwYQK2bt2KWrVq4dSpU6hYsSI6duyIuXPnFhz30UcfYdiwYSrEGcHOkY/00BzpgedQgAIUcKVAbl4+/jV5DeL3nlZlnmxdGa91ucmVJXltCphOQDoPeH2Ia9CgAdLT09XXo5d+Vq5cidjYWLz66qsYNWoUjK9R+/Tpgz///BMdOnQoODQjIwPFixfH/fffj2+++cahDSM9NIea4EkUoAAFXCyQlJaFLp+uwPHUTFXp00cboUuDsi6uystTwDwC0nnA60Oc8VO2wMBAbNq06bIpG/+zEfCMr0p/+eUX9O3bFxMnToQR2q78/bcWLVogNTUVO3ZceCaSvR/podlbn8dTgAIU0CWQcOgMHpqwEjl5NoQG+mHuwDaoVipMV3nWoYBHC0jnAa8Pcffee6+6oWH//v2Ijo4uGK5x88LQoUNRr149FfC6dOmC+Ph4nD594auASz/33Xcffv/9d5w7d+6Gm8P4HTzjz6Wf7du3o0ePHli/fj0aN258w2vwAApQgAJmFvhq5QG8NnerWoLxIOCf/t0aIYH+Zl4Se6eAiABDnJ2Mxk0Mxu+5NWvWTN3EEBMTg7/++gvPPPOM+prV+D0446vWW2+9FUbYOnbs2D8qGHeozpo1C7m5uTesbtzJOnLkyKsexxB3Qz4eQAEKeIGA8SDgITM2YN7GC//39N6GZfHRww35IGAvmC2X4JwAQ5wDftOmTVM3JyQnJ6uzja9LjUBnBK5y5cohISGBP4lzwJWnUIACFLiWgPEg4K6fx2FP4oUHAb/ZrS4ea1GRYBSwtABDnIPjz87OVl+bGv9Zt25d+Pv7IywsDA899BBmzJjB34lz0JWnUYACFLiWwO6T51SQy8jOQ6CfL37o3wr1yxclGAUsK8AQJzT6n376Cd26dcOUKVPQq1cvdVODcXPDte5ONX4vbvr06Q5Vlx6aQ03wJApQgAJuEJi74aj6atX4lC9WBAsGtUHRkEA3dMKSFHC/gHQe8PobG642MuNOU+PxIsadqMYDfY2vVxMTE9Xvx3Xq1AlGwLv4uficuHnz5qmvXB35SA/NkR54DgUoQAF3Cbz60xZ8veqgKn9b7dL44l9N+Ptx7hoG67pVQDoPeH2IO3HihHqMiHGXqnFTg3Hn6KRJk9Tvxxl3nBqPD7n4eeeddzB8+HB1rPFgX+NBwMaDgm+77Tb1GBJHP9JDc7QPnkcBClDAHQJZuXl4cPxKbDqSqsq/fGdtPN2uijtaYU0KuFVAOg94fYgzXrdlfF26evVq9dO2YsWKqbtVX3/9dVSrVu0fwzTe4mA8fmTv3r3q3amPPvqouts0JCTE4cFLD83hRngiBShAATcJHE7OwJ2fLMe5zFz4+/pgZt9WaFKxmJu6YVkKuEdAOg94fYhzz5guryo9NE9YE3ugAAUoYK/Ar1tPoO/X69Vp0ZHBWDi4LaJC+ftx9jryePMKSOcBhjgNe0F6aBpaZgkKUIACLhF4Y8E2TFqxX127fc2SmNyzGXx9fVxSixelgKcJSOcBhjgNE5YemoaWWYICFKCASwRy8vLVa7kSDqWo67/QuSYGtP/nr7a4pDgvSgE3C0jnAYY4DQOVHpqGllmCAhSggMsEjqacx12fLEdKRg78fH0wo09LNKsU5bJ6vDAFPEVAOg8wxGmYrPTQNLTMEhSgAAVcKvDnjpN4cuo6VcP4/bifB7dFMf5+nEvNeXH3C0jnAYY4DTOVHpqGllmCAhSggMsF3vp5OyYu26fq3FqrFCb1bMrnx7lcnQXcKSCdBxjiNExTemgaWmYJClCAAi4XMH4/znh+3IbDF34/7pW7aqN3Wz4/zuXwLOA2Aek8wBCnYZTSQ9PQMktQgAIU0CJgPD/O+P24s/97ftwP/WPRMIbvV9WCzyLaBaTzAEOchhFKD01DyyxBAQpQQJvAoi0n0O+bC8+PM96vajw/LrJIgLb6LEQBXQLSeYAhTsPkpIemoWWWoAAFKKBVYMS8rZgaf0DVvKNuGYx9rDF/P07rBFhMh4B0HmCI0zA16aFpaJklKEABCmgVMN6vev+4eGw5elbVfePeuujRsqLWHliMAq4WkM4DDHGunhgA6aFpaJklKEABCmgX2J+Ujrs/WY707DwE+fti3sA2qFkmXHsfLEgBVwlI5wGGOFdN6pLrSg9NQ8ssQQEKUMAtAnMSjuCZmRtV7eqlwlSQKxLo55ZeWJQC0gLSeYAhTnpCV7me9NA0tMwSFKAABdwmMGzWBsz++6iq/2jzGLx9X3239cLCFJAUkM4DDHGS07nGtaSHpqFllqAABSjgNoH0rFzc/ekKGF+vGp/PujfC3fXLuq0fFqaAlIB0HmCIk5rMda4jPTQNLbMEBShAAbcKbDmaivvGxiM7Lx/hQf74eUhbxESFuLUnFqeAswLSeYAhztmJFOJ86aEVoiQPoQAFKGB6gSlx+zFy/ja1jsYVimJW31bw9/M1/bq4AOsKSOcBhjgNe0l6aBpaZgkKUIACbhew2WzoPW0dFu9IVL0MuqUanr29ptv7YgMUcFRAOg8wxDk6CTvOkx6aHaV5KAUoQAFTC5xOy8IdY5Yj8VwWfHyA755uiZZVipt6TWzeugLSeYAhTsNekh6ahpZZggIUoIDHCKzYnYQeX65W/URHBuOXIW1RNCTQY/pjIxQorIB0HmCIK6y8E8dJD82JVngqBShAAVMKvP3zdkxYtk/13rlOGYzrwddymXKQFm9aOg8wxGnYUNJD09AyS1CAAhTwKIHs3Hz1Wq7NR1NVX2/fVw+PNq/gUT2yGQrcSEA6DzDE3Uhc4N+lhybQEi9BAQpQwHQCxnPj7vpkOTKy8xAc4IsFg9qiWqkw062DDVtXQDoPMMRp2EvSQ9PQMktQgAIU8EiB79cdxvM/bFK91SkbgTkDWiPQn48d8chhsal/CEjnAYY4DZtMemgaWmYJClCAAh4pYDx2ZOB3CVi46bjqr+/NVTD8jtoe2SubosCVAtJ5gCFOwx6THpqGllmCAhSggMcKpGbkoPOYZTiemqkeOzK9dwvEVi3hsf2yMQpcFJDOAwxxGvaW9NA0tMwSFKAABTxaYOXe0+g+aRVsNqBMRDAWDeVjRzx6YGxOCUjnAYY4DRtLemgaWmYJClCAAh4v8M4vOzB+6V7V5531yuDz7nzsiMcPzeINSucBhjgNG0p6aBpaZgkKUIACHi9gPHbkvnFx2HL0rOr1/Qfq48GmMR7fNxu0roB0HmCI07CXpIemoWWWoAAFKGAKgb2n0tRjRzJz8hEa6IdfhrRDheIhpuidTVpPQDoPMMRp2EPSQ9PQMktQgAIUMI3A9NUH8fKcLarfJhWLYWaflvD342NHTDNACzUqnQcY4jRsHumhaWiZJShAAQqYRsB47EjvaeuweEei6vm522tg4C3VTdM/G7WOgHQeYIjTsHekh6ahZZagAAUoYCqBU+ey0PnjZTidng1/Xx/MHhCL+uWLmmoNbNb7BaTzAEOchj0jPTQNLbMEBShAAdMJ/LHtJHp/tU71XaVkKBYOaosigX6mWwcb9l4B6TzAEKdhr0gPTUPLLEEBClDAlALDZ2/Gd2sOqd4fb1kR/723rinXwaa9U0A6DzDEadgn0kPT0DJLUIACFDClQHpWrrpb9cDpDNX/lF7N0KFWKVOuhU17n4B0HmCI07BHpIemoWWWoAAFKGBagYRDZ/DA+JXIy7ehZHgQfh3aDlGhgaZdDxv3HgHpPMAQp2FvSA9NQ8ssQQEKUMDUAh/9vgtjFu9Wa+DbHEw9Sq9qXjoPMMRp2B7SQ9PQMktQgAIUMLVATl4+7h8Xj01HUtU6Pn64Ie5tVM7Ua2Lz5heQzgPiIW79+vVo0qSJ+aUFVyA9NMHWeCkKUIACXiuwJ/HC2xyycvMRHuyP355ph+jIIl67Xi7M8wWk84B4iPPz88Njjz2GN998EzExfIedsaWkh+b525QdUoACFPAMgSlx+zFy/jbVTJtqJfDVk83h6+vjGc2xC8sJSOcB8RD38ccf44033sD58+cxdOhQDB8+HGFhYZYb1KULlh6apTG5eApQgAJ2COTn2/D45NWI23NanTXynjroGVvJjivwUArICUjnAfEQZyw1JSUFo0aNwtixY1G0aFGMGDECffr0ga+vNd9lJz00ue3EK1GAAhTwfoFjKefR6eNlOJeZi+AAXywc3BZVS1r7hwveP3XPXKF0HnBJiLtIt3fvXvznP//B7NmzUatWLbz//vu46667PFPWhV1JD82FrfLSFKAABbxSYE7CETwzc6NaW8OYovihXyv4+1nzBwteOWCTLEo6D7g0xF00jYuLw7Bhw7Bu3Tp06NABH3zwARo0aGAScufblB6a8x3xChSgAAWsJWCz2TBg+t/4ZcsJtfDnO9XEvztUsxYCV+t2Aek8oCXEZWdnq1/uf/HFF7Fs2TL1terjjz+Ot956C9HR0W5HdXUD0kNzdb+8PgUoQAFvFDidloXbP1qG0+nZCPDzwdx/t8FNZSO8calck4cKSOcB8RCXk5ODTZs2qZ+6Xfyzbds25Obmwvj/hEqUKKEeQbJ27VoY4e69995Dv379PJRbpi3pocl0xatQgAIUsJ7Ar1tPoO/X69XCa5UJx7yBbRDoz69VrbcT3LNi6TwgHuKCgoIKApvx3xs2bIgWLVoU/KlSpYqSO3fuHF577TV8+umn6m5W46d03vqRHpq3OnFdFKAABXQIDJu5AbMTjqpSAztUw3OdauooyxoUEH/kmHiI69GjB1q2bKlCmxHgAgICrjs243flZs6ciaNHL/wvlDd+GOK8capcEwUoYFaB1IwcdbfqibOZMB4Z92P/WDSqUMysy2HfJhKQzgPiIc5eyxkzZqB79+7Iz8+391TTHC89NNMsnI1SgAIU8FCBpbtOoefkNaq7KiVD8fPgtggO8PPQbtmWtwhI5wG3h7gzZ87g999/x0MPPeQtM/rHOqSH5rVQXBgFKEABjQIvzdmMb1cfUhV7t6mMV+6+SWN1lrKigHQecHuIs8IQpYdmBTOukQIUoICrBdKzctXXqkfOnIePDzCrbys0qxTl6rK8voUFpPMAQ5yGzSQ9NA0tswQFKEABSwjE701C9y9Wq7VWKh6CX4a0Q5FAfq1qieG7YZHSeYAhTsMQpYemoWWWoAAFKGAZgdfmbsFXKw+q9T7RuhJe71LHMmvnQvUKSOcBhjgN85MemoaWWYICFKCAZQSMr1XvGLMch5Iz1Jpn9mmJFlWKW2b9XKg+Aek8wBCnYXbSQ9PQMktQgAIUsJTA6n2n8fDEVWrNFaJCsGhoW4QE+lvKgIt1vYB0HmCIc/3MxB/up6FllqAABShgOYGR87diStwBte5/taqIUV3rWs6AC3atAEOca31dcnXpobmkSV6UAhSggMUFzmfn4Y4xy3Dg9IWvVWf0aYmW/FrV4rtCdvnSeYA/iZOdz1WvJj00DS2zBAUoQAFLCqw9kIyHJqyEzQZULB6CRbxb1ZL7wFWLls4DDHGumtQl15UemoaWWYICFKCAZQVGzNuKqfEXvlZ9snVlvNaFDwG27GYQXrh0HmCIEx7Q1S4nPTQNLbMEBShAAcsKZGTnovPHF+5WNR4C/H3fVmjKhwBbdj9ILlw6DzDESU7n5p/zigAAIABJREFUGteSHpqGllmCAhSggKUFVu49jUe/uHC3apUSofh5CN+taukNIbR46TzAECc0mOtdRnpoGlpmCQpQgAKWF3j1py34etWFhwD3aVcFL91Z2/ImBHBOQDoPMMQ5N49CnS09tEIV5UEUoAAFKOCUgPEQ4Ns/WoajKefh6wP80D8WjSsUc+qaPNnaAtJ5gCFOw36SHpqGllmCAhSgAAUArNidhB5fXni3arVSYVg4uA2C/PluVW4OxwSk8wBDnGNzsOss6aHZVZwHU4ACFKCAUwLDZ2/Cd2sOq2sMuqUanr29plPX48nWFZDOAwxxGvaS9NA0tMwSFKAABSjwP4GzmTm4/cNlOHE2E/6+Ppg3sA1uKhtBHwrYLSCdBxji7B6B/SdID83+DngGBShAAQo4I7B4+0k8NW2dukTdchH4aUBr+Pv5OnNJnmtBAek8wBCnYRNJD01DyyxBAQpQgAJXCAydkYCfNhxTf/tC55oY0L4ajShgl4B0HmCIs4vfsYOlh+ZYFzyLAhSgAAWcEUhOz0bHD5fidHo2Av198fPgtupmB34oUFgB6TzAEFdYeSeOkx6aE63wVApQgAIUcEJgwaZjGPhtgrpCk4rFMKtvK/gZzx/hhwKFEJDOAwxxhUB39hDpoTnbD8+nAAUoQAHHBGw2G/p+vR6/bTupLjCiy03o1bqyYxfjWZYTkM4DDHEatpD00DS0zBIUoAAFKHANgcSzmbjtw6U4m5mLkEA//PZMO5QvFkIvCtxQQDoPMMTdkNz5A6SH5nxHvAIFKEABCjgjMHPtIfznx83qEu1rlsSUXs3g48OvVZ0xtcK50nmAIU7DrpEemoaWWYICFKAABa4jYHyt+tik1Yjfe1od9fHDDXFvo3I0o8B1BaTzAEOchg0nPTQNLbMEBShAAQrcQOBAUjo6fbwMWbn5KBYSgD+G3YziYUF0o8A1BaTzAEOchs0mPTQNLbMEBShAAQoUQmDC0r14+5cd6siuDctizCONCnEWD7GqgHQeYIjTsJOkh6ahZZagAAUoQIFCCOTm5aPb2HhsPpqqjp7cqyluqVW6EGfyECsKSOcBhjgNu0h6aBpaZgkKUIACFCikwNZjqbjnszjk5dtQNjIYvw27GWFB/oU8m4dZSUA6DzDEadg90kPT0DJLUIACFKCAHQLvLtqBcUv2qjN6xVbCiHvq2HE2D7WKgHQeYIjTsHOkh6ahZZagAAUoQAE7BDJz8tD542U4cDoDxpNGZvePRaMKxey4Ag+1goB0HmCI07BrpIemoWWWoAAFKEABOwXi9yah+xer1Vm1yoRj/qA2CPDztfMqPNybBaTzAEOcht0iPTQNLbMEBShAAQo4IPD89xvx/foj6sznO9XEvztUc+AqPMVbBaTzgGVC3NGjRzFy5Ej88ccfOH78OEqXLo127drhlVdeQY0aNdR+OXDgACpXvvo78J566ilMmjTJoX0lPTSHmuBJFKAABSjgcoGUjGz1Sq6ktGwE+vvi16HtULlEqMvrsoA5BKTzgCVCXHJyMurWrYusrCz0799fBbU9e/Zg3Lhx6jUpmzdvRvny5QtCXNeuXfHAAw9ctiOqVauGli1bOrRLpIfmUBM8iQIUoAAFtAjM23gMg79LULVaVSmOb59uwVdyaZH3/CLSecASIc4IawMGDMC8efPQpUuXgin/+OOPKqx99NFHGDp0aEGIe/nll/HGG2+I7QbpoYk1xgtRgAIUoIC4gPFKriemrsWSnafUtd97oD4eahojXocXNJ+AdB6wRIh75513MHz4cKxduxZNmzYtmPrKlSsRGxuLCRMmoE+fPpeFOCPIGZ8iRYo4vUukh+Z0Q7wABShAAQq4VODImQzc/tEyZGTnIbJIABY/ezNK8JVcLjU3w8Wl84AlQtyaNWvQokUL9XXo6NGjUalSJfV16rBhw5CWlqbCXUREREGICwsLU39vfIyvUZ955hn1kzxHP9JDc7QPnkcBClCAAvoEJi3fhzcWblcFuzUqh48ebqivOCt5pIB0HrBEiDMmaXylavx07cyZMwWDNW5smD17NooXL67+7tChQ3jyySfRrVs3VKhQAceOHcPEiRNhoD/33HN4//33b7gpjJsmjD+XfrZv344ePXpg/fr1aNy48Q2vwQMoQAEKUMD8AsYrue4dG4ctR8+qxXzzVAu0qV7C/AvjChwWYIhzkG7+/PkYO3YsOnbsqH66ZtzMYIQy44aHX3/9FaGhV797KC8vDzfffDOMr1537dqFqlWrXreDESNGqLtgr/ZhiHNweDyNAhSggEkFNh9JRdfPVyDfBlQsHqLuVg0O8DPpati2swIMcQ4Izp07V93AYODVq1ev4Aq//fYbOnXqhHfffRcvvPDCNa9sBMB77rmn4HfnrtcCfxLnwIB4CgUoQAEvFhg1fxsmx+1XKxzYoRqe61TTi1fLpV1PgCHOgf3RoUMHnDx5Etu2bfvH2cbvwhlfqy5YsOCaV960aRMaNGiAN998Ey+99JLdHUgPze4GeAIFKEABCrhNIC0rFx0/XIrjqZkI8PPBwsFtUaN0uNv6YWH3CUjnAUv8TlzNmhf+v56dO3deNjnjNnDjJoa2bdti0aJF15yq8Xtz999/v3rYr/HQX3s/0kOztz6PpwAFKEAB9wr8vu0knv5qnWqiacVimNW3FXx9fdzbFKtrF5DOA5YIccbDe42vROPi4tCqVauCof3www948MEH1Q0PxnPhEhMTUapUqcuGev78ebRu3RpbtmzB3r17ERNj/7N+pIemfdexIAUoQAEKOC3Q9+t1+HXrSXWdt++rh0ebV3D6mryAuQSk84AlQlx8fDzat2+PoKAg9agQ4+YE48YG487TqKgoJCQkoEyZMuqu1NOnT+OWW25Rb3Aw7k6dNm0a9u3bh7fffhsvvviiQ7tFemgONcGTKEABClDArQLHU8+j44fLYHy9ymfHuXUUbisunQcsEeKMaRm/1zZq1CisW7dOhTMjvBl3qho/gatYsaIa6JdffqlCm/G1q/GqLuOrVuORIEOGDFE3Njj6kR6ao33wPApQgAIUcK/AlLj9GDn/wu9n39eoHD7ks+PcOxDN1aXzgGVCnOY5XVZOemjuXAtrU4ACFKCA4wJ5+Tb1yJGLz44z3qsaW5XPjnNc1FxnSucBhjgN85cemoaWWYICFKAABVwksOlICrp+HgebDahSIhS/DG2LIH8+O85F3B51Wek8wBCnYbzSQ9PQMktQgAIUoIALBV6fuwXTVh5UFYZ1rIHBt1Z3YTVe2lMEpPMAQ5yGyUoPTUPLLEEBClCAAi4UOJuZg9s+WIrEc1kI9PdVb3KoXOLqbw5yYRu8tGYB6TzAEKdhgNJD09AyS1CAAhSggIsFFmw6hoHfJqgqbauXwFdPNoePD58d52J2t15eOg8wxGkYp/TQNLTMEhSgAAUo4GIB44HzPaesxbJdp1SlMY80RNeG5VxclZd3p4B0HmCI0zBN6aFpaJklKEABClBAg8Ch0xno+NFSZOXmo2R4EBY/ezMiggM0VGYJdwhI5wGGOA1TlB6ahpZZggIUoAAFNAl8sng3Pvx9l6rWK7YSRtxTR1NlltEtIJ0HGOI0TFB6aBpaZgkKUIACFNAkkJWbh84fL8f+pHQYr1OdN7AN6paL1FSdZXQKSOcBhjgN05MemoaWWYICFKAABTQKrNidhB5frlYVG8YUxez+sfA1Eh0/XiUgnQcY4jRsD+mhaWiZJShAAQpQQLPAoO8SMH/jMVX1rW710L1FBc0dsJyrBaTzAEOcqycGQHpoGlpmCQpQgAIU0Cxw8mwmbv1gKdKychFZJAB/PnsziocFae6C5VwpIJ0HGOJcOa3/XVt6aBpaZgkKUIACFHCDwOQV+zFqwTZV+cEm5fH+gw3c0AVLukpAOg8wxLlqUpdcV3poGlpmCQpQgAIUcINAbl4+7vksDtuOn1XVv+/XCs0qRbmhE5Z0hYB0HmCIc8WUrrim9NA0tMwSFKAABSjgJoG/D53BfWPjVfVaZcKxYFAb+Pv5uqkblpUUkM4DDHGS07nGtaSHpqFllqAABShAATcKvPjjJsxYe1h18NrdN+HJNpXd2A1LSwlI5wGGOKnJXOc60kPT0DJLUIACFKCAGwWS07PRYfQSpJ7PQXiQv3qTQ6mIYDd2xNISAtJ5gCFOYio3uIb00DS0zBIUoAAFKOBmgemrD+LlOVtUF/c2LIuPH2nk5o5Y3lkB6TzAEOfsRApxvvTQClGSh1CAAhSggMkF8vJtuG9sHDYeSVUrmdGnJVpWKW7yVVm7fek8wBCnYT9JD01DyyxBAQpQgAIeILDxcAruHRsHmw2oUToMCwe3RQBvcvCAyTjWgnQeYIhzbA52nSU9NLuK82AKUIACFDC1wEtzNuPb1YfUGl66sxb6tKtq6vVYuXnpPMAQp2E3SQ9NQ8ssQQEKUIACHiKQknHhJoczGTkIDfTDn8+1R2ne5OAh07GvDek8wBBnn79DR0sPzaEmeBIFKEABCphWYMaaQ3hx9mbVf9eGZTGGNzmYcpbSeYAhTsM2kB6ahpZZggIUoAAFPEggP9+GbrzJwYMm4lgr0nmAIc6xOdh1lvTQ7CrOgylAAQpQwCsELr3JoWbpcCwczDc5mG2w0nmAIU7DDpAemoaWWYICFKAABTxQYPjsTfhuDd/k4IGjKVRL0nmAIa5Q7M4dJD0057rh2RSgAAUoYFaBK9/kYNzkUDI8yKzLsVzf0nmAIU7DFpIemoaWWYICFKAABTxU4OtVB/HqTxfe5HB/4/L44KEGHtop27pSQDoPMMRp2GPSQ9PQMktQgAIUoICHChhvcrjnsxXYeuys6vDH/q3QpGKUh3bLti4VkM4DDHEa9pf00DS0zBIUoAAFKODBAusPJuP+cStVh3XKRmDewDbw8/Xx4I7ZmiEgnQcY4jTsK+mhaWiZJShAAQpQwMMFnp21ET/+fUR1+Va3eujeooKHd8z2pPMAQ5yGPSU9NA0tswQFKEABCni4QOK5TNwyeinSsnJRLCQAfz3XHkVDAj28a2u3J50HGOI07CfpoWlomSUoQAEKUMAEAl8s24c3f96uOv1Xq4oY1bWuCbq2bovSeYAhTsNekh6ahpZZggIUoAAFTCCQnZuPO8Ysw95T6TB+JW7h4LaoHR1hgs6t2aJ0HmCI07CPpIemoWWWoAAFKEABkwgs23UK/5q8RnXbvHIUZvZpCR8f3uTgieOTzgMMcRqmLD00DS2zBAUoQAEKmEigz1fr8Nu2k6rjTx9thC4Nypqoe+u0Kp0HGOI07B3poWlomSUoQAEKUMBEAoeTM3Drh0thfL0aHRmMxc/ejJBAfxOtwBqtSucBhjgN+0Z6aBpaZgkKUIACFDCZwIe/7cQnf+5RXQ/sUA3PdappshV4f7vSeYAhTsOekR6ahpZZggIUoAAFTCZwPjsPt36wBMdSMxHo74vFw25GTFSIyVbh3e1K5wGGOA37RXpoGlpmCQpQgAIUMKHA/I3HMOi7BNV55zplMP7xJiZchfe2LJ0HGOI07BXpoWlomSUoQAEKUMCEAjabDQ9PXIU1+5NV99/2boHYaiVMuBLvbFk6DzDEadgn0kPT0DJLUIACFKCASQW2HktFl09XIN8G1CwdjoWD28Dfz9ekq/GutqXzAEOchv0hPTQNLbMEBShAAQqYWOClOZvx7epDagUj76mDnrGVTLwa72ldOg8wxGnYG9JD09AyS1CAAhSggIkFTqdlof3oJTiXmYvIIgFY8lx7FAvle1XdPVLpPMAQp2Gi0kPT0DJLUIACFKCAyQUmr9iPUQu2qVU83rIi/nsv36vq7pFK5wGGOA0TlR6ahpZZggIUoAAFTC6Qk2e8V3U59iSm8b2qHjJL6TzAEKdhsNJD09AyS1CAAhSggBcIXPpe1diqxTG9dwu+V9WNc5XOAwxxGoYpPTQNLbMEBShAAQp4icBTU9di8Y5EtZqJjzfB7XXKeMnKzLcM6TzAEKdhD0gPTUPLLEEBClCAAl4isO9UGjp9vAw5eTZULB6C355phyB/Py9ZnbmWIZ0HGOI0zF96aBpaZgkKUIACFPAigTcWbMOkFfvViobfUQt9b67qRaszz1Kk8wBDnIbZSw9NQ8ssQQEKUIACXiSQej4HHUYvQXJ6NsKC/PHXc+1RMjzIi1ZojqVI5wGGOA1zlx6ahpZZggIUoAAFvExg+uqDeHnOFrWqR5rF4J3763vZCj1/OdJ5gCFOw8ylh6ahZZagAAUoQAEvE8jLt+GuT5Zjx4lz8PEB5g9sg7rlIr1slZ69HOk8wBCnYd7SQ9PQMktQgAIUoIAXCsTvTUL3L1arlTWvHIWZfVrykSMa5yydBxjiNAxPemgaWmYJClCAAhTwUoG+X6/Dr1tPqtWN79EYnetGe+lKPW9Z0nmAIU7DjKWHpqFllqAABShAAS8VOHg6HR0/XIbsvHxUiArB78P4yBFdo5bOAwxxGiYnPTQNLbMEBShAAQp4scDbP2/HhGX71Ar5yBF9g5bOAwxxGmYnPTQNLbMEBShAAQp4scDZzBx0eH8JTqdnI9x45Mjz7VEijI8ccfXIpfMAQ5yrJwZAemgaWmYJClCAAhTwcoFvVh3EKz9deOTIYy0q4M1u9bx8xe5fnnQeYIjTMFPpoWlomSUoQAEKUMDLBXLz8nHnJ8ux62QafH2An4e0Ra0yEV6+avcuTzoPMMRpmKf00DS0zBIUoAAFKGABgeW7T+HxL9eolbatXgJfPdmcjxxx4dyl8wBDnAuHdfHS0kPT0DJLUIACFKCARQSenLoWf+5IVKud3KspbqlV2iIr179M6TzAEKdhhtJD09AyS1CAAhSggEUE9iSmofPHy5Cbb0PVkqFYNLQdAvx8LbJ6vcuUzgMMcRrmJz00DS2zBAUoQAEKWEhgxLytmBp/QK34v13r4PFWlSy0en1Llc4DDHEaZic9NA0tswQFKEABClhI4Ex6Nm5+/y+czcxFVGgg/nquPSKLBFhIQM9SpfMAQ5yGuUkPTUPLLEEBClCAAhYT+GLZPrz583a16r7tqmD4nbUtJuD65UrnAYY418+Mz4nTYMwSFKAABSjgnEBWbp56Hdeh5AwE+vli8bM3IyYqxLmL8uzLBBjiTLghpIdmQgK2TAEKUIACJhD4ZfNx9J/+t+r0rvrR+Lx7YxN0bZ4WpfMAfxKnYfbSQ9PQMktQgAIUoIAFBWw2Gx6asBJrD5xRq/+xfyyaVCxmQQnXLFk6DzDEuWZOLv3xqYaWWYICFKAABSwqsOFwCu79PE6tvmFMUcwZEMsHAAvtBYY4IUidl5Eems7eWYsCFKAABawnMGRGAuZuOKYW/smjjXBPg7LWQ3DBiqXzAH8S54IhXXlJ6aFpaJklKEABClDAwgJHU86jw+glyM7NR/liRdRNDkH+fhYWkVm6dB5giJOZy3WvIj00DS2zBAUoQAEKWFzg3UU7MG7JXqXw8p218XS7KhYXcX750nmAIc75mdzwCtJDu2FBHkABClCAAhRwUuBsZg7av78EyenZiAj2x9LnO6BYaKCTV7X26dJ5gCFOw36SHpqGllmCAhSgAAUogK9WHsBrc7cqiSdbV8ZrXW6iihMC0nmAIc6JYRT2VOmhFbYuj6MABShAAQo4I5CTl49OHy3DvqR0BPj54I9hN6Ni8VBnLmnpc6XzAEOchu0kPTQNLbMEBShAAQpQQAn8uvUE+n69Xv33u+pF4/PH+ABgR7eGdB5giHN0EnacJz00O0rzUApQgAIUoIBTAsYDgB+esAprDiSr6/ABwI5zSucBhjjHZ1HoM6WHVujCPJACFKAABSggIHDpA4AbVyiqgpyPj4/Ala11Cek8wBCnYf9ID01DyyxBAQpQgAIUuExg8HcJmLfxwgOAxz3WGHfUi6aQnQLSeYAhzs4BOHK49NAc6YHnUIACFKAABZwROJycgVs/WIrsvHxUKh6C3565GYH+vs5c0nLnSucBhjgNW0h6aBpaZgkKUIACFKDAPwTeWLANk1bsV38/8p466BlbiUp2CEjnAYY4O/AdPVR6aI72wfMoQAEKUIACzgikZGSj3Xt/4WxmLqJCA7H0+fYIDw5w5pKWOlc6D1gmxB09ehQjR47EH3/8gePHj6N06dJo164dXnnlFdSoUaNgE+Xl5eH999/HpEmTcPjwYcTExKB37954/vnn4efn2HvjpIdmqR3PxVKAAhSggEcJTFy2F2/9vEP19O8OVfF8p1oe1Z8nNyOdBywR4pKTk1G3bl1kZWWhf//+qFy5Mvbs2YNx48apu2s2b96M8uXLq7kPGDBA/f0TTzyB2NhYxMXFYerUqervP//8c4f2hvTQHGqCJ1GAAhSgAAUEBDJz8tTvxh1NOY8gf18seb49oiOLCFzZ+y8hnQcsEeKMUGaEsHnz5qFLly4Fu+THH3/EAw88gI8++ghDhw5VYa5BgwYYNGgQxowZU3DckCFD8Omnn2Ljxo2oV6+e3btMemh2N8ATKEABClCAAoICcxKO4JmZG9UVH2paHu890EDw6t57Kek8YIkQ984772D48OFYu3YtmjZtWrA7Vq5cqX7aNmHCBPTp0wcvv/wy3nrrLezbt0/9tO7iZ//+/ahSpYr69zfeeMPu3SU9NLsb4AkUoAAFKEABQYH8fBu6fLYCW4+dhfG4uF+GtEWtMhGCFbzzUtJ5wBIhbs2aNWjRogVatmyJ0aNHo1KlSurr1GHDhiEtLU2Fu4iICHTq1En9tO3EiRP/2D3G79A1atQIixYtsntnSQ/N7gZ4AgUoQAEKUEBYIG5PEh6btFpdtX3Nkpj6RHPhCt53Oek8YIkQZ2wD4ytV4ydpZ86cKdgVxo0Ns2fPRvHixdXfGV+VBgYGYv36C++Iu/TTuHFj5OTkqK9cr/cxbpow/lz62b59O3r06KGua1yHHwpQgAIUoIA3CPScvAZLd51SS/n26RaIrVrCG5blsjUwxDlIO3/+fIwdOxYdO3ZEtWrVVBgz7kI1bnj49ddfERoaiqpVq6q7VuPj4/9RxfjaNTExUf0E73qfESNGqLtgr/ZhiHNweDyNAhSgAAU8UmD78bO485PlsNmA+uUj8dOA1vD15eu4rjUshjgHtvHcuXPVDQwG3qU3Jvz222/qK9R3330XL7zwAn8S54AtT6EABShAAWsLDJu1AbP/PqoQPuveCHfXL2ttkOusniHOga3RoUMHnDx5Etu2bfvH2cbvwhlfqy5YsIC/E+eALU+hAAUoQAFrCxw5k4FbRl94HVfF4iH4na/juuaGYIhz4H9Xatasqc7auXPnZWfbbDaEhYWhbdu26oaFl156CW+//fY17041/v3NN9+0uwPpodndAE+gAAUoQAEKuFDgzYXb8MVyvo7rRsTSecASNzZ07doVxu/EGQ/ubdWqVYHxDz/8gAcffLDg0SHGnanGHajXek7chg0bUL9+/RvN6B//Lj00uxvgCRSgAAUoQAEXChiv42r73l84l5mL4sbruF7ogLAgfxdWNOelpfOAJUKccaNC+/btERQUpB76a9zAYNzYMHHiRERFRSEhIQFlypRRO6Jfv37quXHGGxtat26tgt+UKVPQt29fjB8/3qFdIz00h5rgSRSgAAUoQAEXCoxbshfvLrrwOq7Bt1bHsI7//0pLF5Y11aWl84AlQpwx4U2bNmHUqFFYt24djh07psKbcaeq8fDeihUrFmyC3NxcvPfee+rdqcb7VsuVK6fenWrc+ODv79j/VyE9NFPtWDZLAQpQgAKWEDBex9Vh9BIcT81ESKCfeh1XqfBgS6y9sIuUzgOWCXGFBXbFcdJDc0WPvCYFKEABClDAWYFZ6w7jhR82qcv0aFkBb9xr/6sqne3Bk8+XzgMMcRqmLT00DS2zBAUoQAEKUMBugbx8G+4Yswy7TqbB39cHfwy7GZVKhNp9HW89QToPMMRp2CnSQ9PQMktQgAIUoAAFHBL4Y9tJ9P5qnTr37vrR+Kw731R0EVI6DzDEObRF7TtJemj2VefRFKAABShAAX0CxuO7Hhy/EusOXnjN5fyBbVCvfKS+Bjy4knQeYIjTMGzpoWlomSUoQAEKUIACDgusO5CMB8avVOe3rV4CXz/VwuFredOJ0nmAIU7D7pAemoaWWYICFKAABSjglEDvaWvxx/ZEdY1vnmqBNtVLOHU9bzhZOg8wxGnYFdJD09AyS1CAAhSgAAWcEth54py6ySH//9q793ib6vyP4x/3azQYd7lWSCkiOu5TpBET/SqlSKKk/CTR5fGb+v0yupgK3ShTSJcRM6XSXepwCE0kwpDcya3chnB+j+/qcXRwztlrn/XZ3/Vde7/W4zF/jNZe38/3+Vlf623tvdfOFDm3Wll56/Y0KViwQKBjRv3F2nmAEGfhjNBumoWSGQIBBBBAAIHAAndPWyJvLt7oHefp6y6QLudVDXzMKB9AOw8Q4iycDdpNs1AyQyCAAAIIIBBYYNOeg94DgA8fOSa1ypeUj+5qK0UKFQx83KgeQDsPEOIsnAnaTbNQMkMggAACCCCgIvDwO8vlxfTvvWM9/KdG0qvFb7+SpDJAhA6inQcIcRaar900CyUzBAIIIIAAAioCu/cfljaPzZa9h45IxdOKyZxh7aVE0UIqx47aQbTzACHOwhmg3TQLJTMEAggggAACagLjPlktf/1olXe8EZ3ry61t66odO0oH0s4DhDgL3ddumoWSGQIBBBBAAAE1gf2Hjkjbx2fLjn2HpUzxwvLFPR2kbMkiasePyoG08wAhzkLntZtmoWSGQAABBBBAQFXg5bnfy4Mzl3vHHNiurtxzWX3V40fhYNp5gBBnoevaTbNQMkMggAACCCCgKnDoyFH5w1/nyMbdB6VEkUIyZ1g7qVimuOoYrh9MOw8Q4ix0XLtpFkpmCAQQQAABBNQFpi/eKEMBnfGVAAAgAElEQVSnLfGOe0OLmvJ/f2qkPobLB9TOA4Q4C93WbpqFkhkCAQQQQAABdYGjxzK9X3FYtW2fFC5YQD4Z2lZqli+lPo6rB9TOA4Q4C53WbpqFkhkCAQQQQACBhAh8tHyb3DJ5kXfsbudXlTHXXpCQcVw8qHYeIMRZ6LJ20yyUzBAIIIAAAggkRCAzM1N6PDdPvlq/RwoUEHnvztbSoEqZhIzl2kG18wAhzkKHtZtmoWSGQAABBBBAIGECGWt2Ss8X5nvHv6RBRXmxd7OEjeXSgbXzACHOQne1m2ahZIZAAAEEEEAgoQI3TFwgX6ze4Y0x/baLpWnN3yV0PBcOrp0HCHEWuqrdNAslMwQCCCCAAAIJFVi6cY90fXquN0aLOuXktVtaSAHz/moSb9p5gBBn4WTRbpqFkhkCAQQQQACBhAvcOmWxvP/tVm+cV26+SFqdWSHhY4Y5gHYeIMRZ6KZ20yyUzBAIIIAAAggkXGD1tr3S6anP5VimSOPqZeWft6cl9d047TxAiEv4KSqi3TQLJTMEAggggAACVgSG/n2JTP9qozfW+BuaSqdzKlsZN4xBtPMAIc5CF7WbZqFkhkAAAQQQQMCKwIZdB6TDXz+TX45mylmVSsuswW2kUMHk/Gycdh4gxFk4RbWbZqFkhkAAAQQQQMCawP+8tUwmZ/zgjffE1Y2le5Pq1sa2OZB2HiDEWeiedtMslMwQCCCAAAIIWBPY/vN/pM3js+U/vxyTGuVKyKdD20mRQgWtjW9rIO08QIiz0DntplkomSEQQAABBBCwKvDIrO/k+TlrvDFHXtlIrr+optXxbQymnQcIcRa6pt00CyUzBAIIIIAAAlYF9hw4LK0fnS17Dx2RymWKy2fD2knxIoWs1pDowbTzACEu0R0Tvp1qgZghEEAAAQSSQOCpj1fJUx+v9mbywB8bSL/WdZJgVr9NgRAXwXZqNy2CBJSMAAIIIIBATIG9//lF2jw2W3Yf+EXKlyoqn9/TXkoVKxzzdVHZQTsPcCfOQue1m2ahZIZAAAEEEEAgFIHxc9bIqFnfeWMP63S23N6+Xih1JGJQ7TxAiEtEl046pnbTLJTMEAgggAACCIQicPDwUe+bqj/uPSRliheWL4Z3kLIlioRSi/ag2nmAEKfdoRyOp900CyUzBAIIIIAAAqEJTJq3Tv789rfe+Hd0qCdDO54dWi2aA2vnAUKcZndyOZZ20yyUzBAIIIAAAgiEJnDoyFHpMHqObNpzUEoVLeR9Nq586WKh1aM1sHYeIMRpdSaP42g3zULJDIEAAggggECoAm8sXC/Dp3/j1dCvVW15oEvDUOvRGFw7DxDiNLoS4xjaTbNQMkMggAACCCAQqsCRo8fk0ic/l+937JdihQt6d+MqlSkeak1BB9fOA4S4oB3x8XrtpvkYkl0QQAABBBCIvMA//7VJ/vuNr7159G5ZUx7q1ijSc9LOA4Q4C6eDdtMslMwQCCCAAAIIhC5w9FimXPbU57J6+z4pWqigzB7WTqqdXiL0uvJbgHYeIMTltxNxvE67aXEMza4IIIAAAghEWuC9b7bIwKlfeXPo2byGjOp+XmTno50HCHEWTgXtplkomSEQQAABBBBwQuDYsUz547h0WbHlZylcsIB8MrSt1Cxfyona4i1COw8Q4uLtQD72125aPkrgJQgggAACCERW4OPl26Tf5EVe/d2bVJMnrj4/knPRzgOEOAungXbTLJTMEAgggAACCDgjkJmZKX96dp4s2bBHChYQ+XBIW6lXsbQz9fktRDsPEOL8ygfYT7tpAUrhpQgggAACCERSYM6qH6X33770ar+icVUZ1/OCyM1DOw8Q4iycAtpNs1AyQyCAAAIIIOCUgLkbd/X4DFm4brdX1/v/3VrqVy7jVI2xitHOA4S4WOIK/127aQolcQgEEEAAAQQiJ5CxZqf0fGG+V3fnRpXluV5NIzUH7TxAiLPQfu2mWSiZIRBAAAEEEHBSoOeE+ZKxdqdX27t3tpJzqpZ1ss6citLOA4Q4C63XbpqFkhkCAQQQQAABJwW+/H6X97aq2S5tWEleuPFCJ+skxEWmLXkXSohLkkYyDQQQQAABJwRumLhAvli9w6tl5qBWcm71aNyN084D3ImzcDpqN81CyQyBAAIIIICAswKLf9gtPZ6b59XXoX5F+VufZs7Wmr0w7TxAiLPQdu2mWSiZIRBAAAEEEHBaoM9LX8pnK3/0avzHwIvlgjN+53S9pjjtPECIs9By7aZZKJkhEEAAAQQQcFrAPPi32zNzvRrbnPV7mdy3udP1EuKcb0/OBRLiIto4ykYAAQQQcFqg36SF8vGK7V6N029rKU1rlnO6Xu08wJ04C+3WbpqFkhkCAQQQQAAB5wWWbfpJuoxL9+pMq1depvZr4XTN2nmAEGeh3dpNs1AyQyCAAAIIIBAJgf6TF8mHy7d5tf59QEtpXtvdu3HaeYAQZ+EU1W6ahZIZAgEEEEAAgUgILN/8s1w+9guv1ovrlpdXb3H3bpx2HiDEWThFtZtmoWSGQAABBBBAIDICt05ZLO9/u9Wr943+LeSiOuWdrF07DxDiLLRZu2kWSmYIBBBAAAEEIiOwYsvP0nnMr3fjWtYpL6/1d/NunHYeIMRZOEW1m2ahZIZAAAEEEEAgUgK3vbJYZi379W7c6/1bSAsH78Zp5wFCnIVTVLtpFkpmCAQQQAABBCIl8N3Wn+Wyp369G9eiTjl5vX9L5+rXzgOEOAst1m6ahZIZAgEEEEAAgcgJDJy6WN775te7ca/d0kJa1nXrs3HaeYAQZ+EU1W6ahZIZAgEEEEAAgcgJrNy6Vzo99blX90W1y8kbA9y6G6edBwhxFk5R7aZZKJkhEEAAAQQQiKTA7VO/kne/2eLk3TjtPECIs3CKajfNQskMgQACCCCAQCQFzN24y8Z8LpmZ4j341zwA2JVNOw8Q4ix0VrtpFkpmCAQQQAABBCIrcPurX8m7S927G6edBwhxFk5R7aZZKJkhEEAAAQQQiKxA9s/GufRNVe08QIizcIpqN81CyQyBAAIIIIBApAWyfzbOlV9x0M4DhDgLp6h20yyUzBAIIIAAAghEWiD7c+Nc+U1V7TxAiLNwimo3zULJDIEAAggggEDkBbL/ioP5goP5okOYm3YeIMRZ6KZ20yyUzBAIIIAAAghEXiD7b6qm1SsvU/uF+5uq2nmAEGfhFNVumoWSGQIBBBBAAIGkEBgwZZF88O02by5v3tpSLqwV3t047TxAiLNwimo3zULJDIEAAggggEBSCHy7+Sf549h0by6tz6wgU26+KLR5aecBQpyFVmo3zULJDIEAAggggEDSCPSfvEg+XP7r3bjpt7WUpjXDuRunnQcIcRZOUe2mWSiZIRBAAAEEEEgagWWbfpIu4369G9f2rN/LpL7NQ5mbdh4gxFloo3bTLJTMEAgggAACCCSVQL9Ji+TjFb/ejfvn7Wlyfo3Trc9POw8Q4iy0ULtpFkpmCAQQQAABBJJKYOnGPdL16bnenP5Qv6JM7NPM+vy08wAhzkILtZtmoWSGQAABBBBAIOkEbnrpS5m98kdvXu/c0UoaVStrdY7aeYAQZ6F92k2zUDJDIIAAAgggkHQCX63fLd2fnefNq2PDSjLhxgutzlE7DxDiLLRPu2kWSmYIBBBAAAEEklLghokL5IvVO7y5vXdna2lYtYy1eWrnAUKchdZpN81CyQyBAAIIIIBAUgosXLdL/uv5DG9ul59bWZ69vqm1eWrnAUKchdZpN81CyQyBAAIIIIBA0gr0nDBfMtbu9Ob34ZA2clal06zMVTsPEOIstE27aRZKZggEEEAAAQSSViBjzU7p+cJ8b35dG1eVsT0vsDJX7TyQEiGuT58+MmnSpFwb9PDDD8v9998v69atk9q1a+e438033ywvvvhivpqs3bR8FcGLEEAAAQQQQMATyMzMlGvGz5cv1+2SAgVEPhrSVupVLJ1wHe08kBIhLiMjQ9asWXNKc8aMGSOLFi2SxYsXS5MmTY6HuG7duslVV111wv716tWTFi1a5KvB2k3LVxG8CAEEEEAAAQSOC6Sv3iG9Ji7w/n/3JtXkiavPT7iOdh5IiRCXU1cOHDgglStXllq1asnSpUu9XbLuxJm7cubunNam3TStujgOAggggAACqSpg7sZ1f26e/Gv9HilUsIDMHtpOzihfMqEc2nkgZUPc1KlTpVevXjJ69GgZOnToKSHOBDmzlShRInBDtZsWuCAOgAACCCCAAALy6XfbpO/LizyJa5vVkEd6nJdQFe08kLIhrmPHjjJ79mzZuHGjVKpU6YQQV7p0adm3b5/3Z+Zt1CFDhsjAgQPz3VjtpuW7EF6IAAIIIIAAAscFzN24LuPS5dvNP0uRQgXks2HtpdrpwW/e5EasnQdSMsRt2rRJzjjjDOncubO88847x63Xr18vffv2lSuvvNL775s3b5YJEyaIQb/77rvl8ccfj3nqb9myRcz/sm8rVqzw7vplffYu5kHYAQEEEEAAAQSsCLy/bIvc+spX3lg3tqwp/9utUcLGJcQp0D7yyCNy7733yrRp0075AsPJhz969Ki0bdtWzJcjVq1aJXXr1s2zggcffFAeeuihHPchxCk0j0MggAACCCCgKHDsWKZ0HvOFrNy2V4oWLijp97SXimWKK47w26EIcQqsDRs2lG3btnl32ooVKxbziDNnzpSuXbvK+PHjpX///nnuz524mJzsgAACCCCAgFMCby/ZLHe+9i+vpn6tassDXRompD5CXEDWhQsXSvPmzb3PuD3zzDO+jma+vdq4cWMZOXKk3Hfffb5ek30n7abFXQAvQAABBBBAAIFcBY4ey5RLn5gja3fslxJFCkn68PZSvnTsmzzxkmrngZT7TNygQYO88LZgwQIvzPnZZsyYIT169PAe9mse+hvvpt20eMdnfwQQQAABBBDIW+DNxRvl7mlLvJ1ua1dXhl9WX51MOw+kVIg7fPiwVKlSxfs26vLly09pzvbt26VixYon/PnBgwclLS1Nli1b5j0wuEaNGnE3VbtpcRfACxBAAAEEEEAgT4Ffjh6T9qM/k427D0qpooVk7ogOcnrJoqpq2nkgpUJc1h0188WG4cOHn9IY863UnTt3SocOHaR69ereZ+bMz3WtXbtWRo0aJSNGjMhXM7Wblq8ieBECCCCAAAII5Cnw6oL1ct8/vpHTiheW8Tc0lYvrVlAV084DKRXizM9pmUeKbNiwQapWrXpKYyZOnOiFtpUrV8quXbvEPC/O/BzX4MGDvS825HfTblp+6+B1CCCAAAIIIJC7wKEjR2XyvB/k6mY1pGyJIupU2nkgpUKcejd8HlC7aT6HZTcEEEAAAQQQcEhAOw8Q4iw0V7tpFkpmCAQQQAABBBBQFtDOA4Q45QbldDjtplkomSEQQAABBBBAQFlAOw8Q4pQbRIizAMoQCCCAAAIIRFCAEEfTIihAyQgggAACCCBAiIvgOaDdtAgSUDICCCCAAAIpL6CdB3g71cIppd00CyUzBAIIIIAAAggoC2jnAUKccoNyOpx20yyUzBAIIIAAAgggoCygnQcIccoNIsRZAGUIBBBAAAEEIihAiKNpERSgZAQQQAABBBAgxEXwHNBuWgQJKBkBBBBAAIGUF9DOA7ydauGU0m6ahZIZAgEEEEAAAQSUBbTzACFOuUE5HU67aRZKZggEEEAAAQQQUBbQzgOEOOUGEeIsgDIEAggggAACERQgxNG0CApQMgIIIIAAAggQ4iJ4Dmg3LYIElIwAAggggEDKC2jnAd5OtXBKaTfNQskMgQACCCCAAALKAtp5gBCn3KCcDqfdNAslMwQCCCCAAAIIKAto5wFCnHKDCHEWQBkCAQQQQACBCAoQ4mhaBAUoGQEEEEAAAQQIcRE8B7SbFkECSkYAAQQQQCDlBbTzAG+nWjil5s6dK61atZJXXnlFGjRoYGFEhkAAAQQQQAAB1wRWrFghvXr1kvT0dElLSwtcHiEuMGHsA0ydOtVrGhsCCCCAAAIIIGBu6lx//fWBIQhxgQljH2DHjh3ywQcfSK1ataREiRKxXxDHHlmpPhXu8qXKXFNlnuY0Z65xLPYI7ZoqfU2VebJW9RbfwYMHZd26ddKpUyepUKFC4AMT4gIThnsA7ffXw51N3qOnylxTZZ6m28zV5RWX/9pSpa+pMk/Wav7XQqJfSYhLtHCCj89fIgkGDuHw9DQEdAtD0lcLyJaHoKeWwS0NF6W+EuIsnRSJGiZKJ1tQg1SZa6rMk3/dB10R7r4+Vc7hVJkna9XdtUaIc7c3virjLxFfTJHaiZ5Gql2+i6WvvqkisyM9jUyr4io0Sn0lxMXVWvd23rJli4wfP14GDBggVapUca9AxYpSZa6pMk9zajBXxQXi0KFSpa+pMk/WqkOL66RSCHHu9obKEEAAAQQQQACBXAUIcZwcCCCAAAIIIIBABAUIcRFsGiUjgAACCCCAAAKEOM4BBBBAAAEEEEAgggKEuAg2jZIRQAABBBBAAAFCHOcAAggggAACCCAQQQFCnINNO3r0qDz++OPy4osvyoYNG6RGjRrSr18/GTZsmBQqVChmxcuWLZN77rlH0tPTvX1btWoljz32mDRq1Cjma23usGjRIjG/+frpp5/K999/L6VKlZJzzjlH7r33XrnkkktiltKnTx+ZNGlSjvsZt+rVq8c8hq0dzG/l1a5dO8fhbr75Zq/Xsbao9DWvvpg5Pvzww3L//ffnOl1X+7pv3z4ZPXq0LF68WMy5u3XrVundu7e8/PLLp8wl6Bo2Bwyr337nGXT9mjmG3Wu/c9VYv2H21Iztd65B12/YfY3nvIzyOs36S4cQF+vKGcJ/HzhwoDz33HNy0003ycUXXyxz5871LhTmz5955pk8K1q9erU0a9ZMypUrJ3fccYe379ixY2XPnj3y5ZdfyplnnhnCjHIe8qqrrpI5c+ZIjx49pEmTJt5fMi+99JJ38Xr22Wfltttuy7PWrL9sTJArWLDgCft2795dSpYs6cxcsy4C3bp1EzPv7Fu9evWkRYsWSdPXjIwMWbNmzSnzGTNmjBd+TAgy/c5tc7WvWT00z2Ns2rSpvPPOO7mGuCBr2LiEuY79zjPo+s1+sQ9rDfuda9D1G3ZPzfh+5xp0/Ybd13jOyyivU0KcM5f3Ewv55ptvpHHjxl4AMxe9rG3w4MEybtw4WbJkiZx77rm5Vm9O4Pfff19WrFjh3cEzm7kr1aBBA+ncubNMmzbNmZmbcHrhhRdKsWLFjtd08OBBOf/88+XHH3+U7du3S+HChWNe7H/55Zc893Nhwll/gZo7UOZOVLxblPqa09wOHDgglStXllq1asnSpUt9hXPX+nro0CHZsWOHVKtWTY4cOSJFihTJMcQFXcMGJ8x++51n0PWb/WIfVq/9zjXo+g27p2Z8v3MNun7D7qvf8zLq65QQF+9V1NL+5iL/l7/8RdauXXvC22/m7cY6dep4b0PlFgLMnazy5cvLtddee8rbjOZtnzfeeEN27tzpvW3p8jZ06FB54oknvPCZ11uiWXdsDh8+LCb8lS5d+pQ7cq7MM/tFIOutxBIlSvgqLxn6OnXqVOnVq5f3dqTpb15bFPqaV4gLsoaNi0v9zmueufXQ7/rNfrF3YQ3nNdcg69e1npp64u1rPOvXtb5mnacnn5fJsk55O9XXZdTeTp06dfLutpnP25y8VapUSS644ALvTltOm7kNbt5+NW/F3nrrrSfsYv7M3Do2+8R6687ebHMeqWfPnvLmm2/K7t27vWCW25Z1sT/ttNNk7969YkKRudtoPv9Xt27dsKdxwvhZFwEzH3ORNpt5G3XIkCFeX/LakqGvHTt2lNmzZ8vGjRvFnMd+QpzLfc3rIhhkDRsXl/od78Xe1O93/Wa/2LvQaz8hLj/r17We5ifExbN+Xetr1t81J5+XybJOCXFOXerFe6u0aNGi3ueGTt7M54jM2w7mNnBO2/Tp0723Yd5++2254oorTtjF/Jn5PJYJR+YzaK5u5m1g83Zqly5dxMwnr23EiBHevyjN55OM2bx58+Tpp5+WMmXKeJ+9qlmzpjPTXL9+vfTt21euvPJKOeOMM2Tz5s0yYcIEMT+0fPfdd3tfZMlti3pfN23a5M3ZBGzzObJYWxT6mtcFP8gaNjYu9TveEBfP+jVzdanXec01yPp1rafxhrh4169rfTX15HReJss6JcTFuqJY/u/mDpK5U2ECycmbuctmPif273//O8eqpkyZIjfeeKN88MEHYv7llH378MMPxfzLw+xj3tZycfvpp5+kZcuWXsAxdyPzE8LMXUoTFnL71qBL8zbfjGrbtq1352XVqlW53j2Mel8feeQR7xvH5vOYJ3+pw28/XOtrXhf8IGvYeLjU73hCnMb6NfMPq9fxzNXU6Xf9utbTeEOcxvoNs6+5nZfJsk4JcX6vIpb2C/KvA5f+BR8vl/lMmwmZ5hu0s2bNkvbt28d7iOP7mztzW7Zs8cKg69vMmTOla9euMn78eOnfv3+O5Ua5r2ZCDRs2lG3btnn9yP4llnh741JfuRN3Yvc01685chi9jjfEmTr9rF+zn2trOJ65aq3fMPqa13kZ5FrrUk8JcfFeSRK8f5D36V36LE08TOZDzSbIfPLJJ97bveZt3yCbebyIedvOHNf1zXxT03wbeeTIkXLfffflWG5U+2oms3DhQmnevLmvx+PE6pVLfeUzcb91S3v9miOH0et4gk3W7P2sX7Ova2vY71w116/tvsY6L4Nca13qKSEu1pXD8n83F/JRo0bl+u1U89/NBT+nLda32l5//XXv26l5fVnA8nS9z7SZt9jMv2gnT54s119/feASzjvvPO9LEebbra5vM2bM8D6jaB72ax76myx9zZrHoEGDvGcbLliwwAtzQTaX+prXRTDIGjY+Lq3jWBf7RKxfYxBGr2PNNadz18/6da2nph6/c9Vcvzb76ue8TJZ1SogLclVJwGvNZ8HMN1Bze07c119/7f0FZ77gYB6oWrZsWTEPH83aTCAwn4n77rvvjj+eI+s5ceZfHrG+LJCAKeV6yGPHjsl1113nPfrk+eeflwEDBuS4b05z3b9/v7fvyY9LMccyj1gxxzLHdGUzn2WsWLHiCeWYW/1paWnew41NL81z/ZKhr1mTNP8SNuem+Yzn8uXLT2lFlPua10XQ7xo2IK73O695+l2/uc3TtTWc11z9rt8o9NRviIu1fl3tq9/zMlnWKSHOlat8tjrM40HMZ6TMLzaYi7x5eKH5JYPswSTrkRUnf4B/5cqV3h0P87y4O++80zuq+cUGcwfOfN7s7LPPdmbGd911lzz55JPSpk0bueWWW06p69JLL/UCQE5zNWG2Q4cOcs0113hzMt9ONW9ZmOcZmW9Cmjs/sR5lYRPCfCvV9MDUbJ59Zz4fZp5Sb54HaO68mm/pmS0Z+prlmnWXwnwwevjw4adwR7Gv5tvP5tdPzIXiz3/+s/cPLvPWn9nMRwLMP7DM5mcNu9xvP/P0u35zm6cra9jPXP2uX5d7amrzM1e/69fVvsZzXkZ9nZoeEOJsXsl9jmX+RWiedWbeYjNf7zZPiDe/nWp+DzXrFwxyu9ibIcznNMxFM/tvpz766KPHLzA+y0j4bu3atfN+diu3zTxXzOyT01zNc/TMwxvNZzZMIDJ3NMydLPNoFfMQxwoVKiS8/ngGmDhxohfaTMjetWuX95a2eWSM+SUOc/HP2pKhr1lzMZ9tNJ9NNHeCq1at6ivEud5X84sTP/zwQ46tN//QMs8uNJufNZzXBT/sdexnnn7Xb27zdKXXfubqd/263FNTm5+5+l2/rvY1nvMy6uuUEBfPVZh9EUAAAQQQQAABhwS4E+dQMygFAQQQQAABBBDwK0CI8yvFfggggAACCCCAgEMChDiHmkEpCCCAAAIIIICAXwFCnF8p9kMAAQQQQAABBBwSIMQ51AxKQQABBBBAAAEE/AoQ4vxKsR8CCCCAAAIIIOCQACHOoWZQCgIIIIAAAggg4FeAEOdXiv0QQAABBBBAAAGHBAhxDjWDUhBAAAEEEEAAAb8ChDi/UuyHAAIIIIAAAgg4JECIc6gZlIIAAggggAACCPgVIMT5lWI/BBBAAAEEEEDAIQFCnEPNoBQEEEAAAQQQQMCvACHOrxT7IYAAAggggAACDgkQ4hxqBqUggEDyCOzevVvq1Kkj9evXl4yMjOMTM3+elpYmBw4c8P68SpUqyTNpZoIAAlYFCHFWuRkMAQRSSWDkyJHywAMPyLvvviuXX365HDp0SDp27CjLli2TuXPnegGPDQEEEMivACEuv3K8DgEEEIghsH//fu9uXM2aNWX+/Ply3XXXyVtvvSUff/yxdzeODQEEEAgiQIgLosdrEUAAgRgCY8eOlcGDB0uHDh3ks88+k2nTpkn37t1xQwABBAILEOICE3IABBBAIHeBw4cPe59727Vrl5hAd8cdd8CFAAIIqAgQ4lQYOQgCCCCQs8Bjjz0mw4cP9/7jyy+/LL1794YKAQQQUBEgxKkwchAEEEDgVIFXX31VevXq5YU48+WGvXv3ysqVK6Vo0aJwIYAAAoEFCHGBCTkAAgggcKrAp59+Kp07d5arr75apkyZIjNmzJAePXrIuHHjZNCgQZAhgAACgQUIcYEJOQACCCBwosDSpUuldevW0qxZM5k1a5YUKVJEMjMzpUmTJrJ161ZZs2aNlCxZEjYEEEAgkAAhLhAfL0YAAQROFNiwYYO0bNlSypUrJ+np6VKmTJnjO8ycOVO6du0qo0aNkhEjRkCHAAIIBBIgxAXi48UIIIAAAggggEA4AoS4cNwZFQEEEEAAAQQQCCRAiAvEx4sRQAABBBBAAIFwBAhx4bgzKgIIIIAAAgggEEiAEBeIjxcjgAACCCCAAALhCBDiwnFnVAQQQAABBBBAIBQSsKMAAAERSURBVJAAIS4QHy9GAAEEEEAAAQTCESDEhePOqAgggAACCCCAQCABQlwgPl6MAAIIIIAAAgiEI0CIC8edURFAAAEEEEAAgUAChLhAfLwYAQQQQAABBBAIR4AQF447oyKAAAIIIIAAAoEECHGB+HgxAggggAACCCAQjgAhLhx3RkUAAQQQQAABBAIJEOIC8fFiBBBAAAEEEEAgHAFCXDjujIoAAggggAACCAQSIMQF4uPFCCCAAAIIIIBAOAKEuHDcGRUBBBBAAAEEEAgkQIgLxMeLEUAAAQQQQACBcAQIceG4MyoCCCCAAAIIIBBIgBAXiI8XI4AAAggggAAC4QgQ4sJxZ1QEEEAAAQQQQCCQwP8DW0Nh104JyacAAAAASUVORK5CYII=\" width=\"500\">"
      ],
      "text/plain": [
       "<IPython.core.display.HTML object>"
      ]
     },
     "metadata": {},
     "output_type": "display_data"
    }
   ],
   "source": [
    "#Integra la ecuación de la geodésica\n",
    "from scipy.integrate import odeint\n",
    "from export import ecuacion_geodesica\n",
    "N=4\n",
    "Ys=odeint(ecuacion_geodesica,Y0s,ss,args=(g_newtoniana_4d,(R/c,),N))\n",
    "\n",
    "#Convierte solución en coordenadas esféricas\n",
    "ts=Ys[:,0]\n",
    "rs=Ys[:,1]\n",
    "fs=Ys[:,2]\n",
    "qs=Ys[:,3]\n",
    "\n",
    "#Convierte coordenadas esféricas en coordenadas cartesianas\n",
    "from numpy import sin,cos\n",
    "xs=rs*sin(qs)*cos(fs)\n",
    "ys=rs*sin(qs)*sin(fs)\n",
    "zs=rs*cos(qs)\n",
    "\n",
    "#Gráfico\n",
    "import matplotlib.pyplot as plt\n",
    "fig=plt.figure(figsize=(5,5))\n",
    "ax=fig.gca()\n",
    "ax.plot(c*xs,c*ys-Rp)\n",
    "\n",
    "#Comparación con el movimiento parabólico\n",
    "#xs_par=v*ss\n",
    "#ys_par=h-0.5*gp*ss**2\n",
    "#ax.plot(xs_par,ys_par)\n",
    "\n",
    "#Decoración\n",
    "ax.set_xlabel(\"$x$\")\n",
    "ax.set_ylabel(\"$y$\")\n",
    "fig.tight_layout()"
   ]
  },
  {
   "cell_type": "markdown",
   "metadata": {},
   "source": [
    "<a id='fig:01.05.00.00.RelatividadGeneral.InerciaYGeodesicas_8'></a><center><b>Figura 1.8.</b> </center>"
   ]
  },
  {
   "cell_type": "markdown",
   "metadata": {},
   "source": [
    "Que se corresponde con lo esperado: el cuerpo describe una trayectoria parabólica en el espacio."
   ]
  },
  {
   "cell_type": "markdown",
   "metadata": {},
   "source": [
    "## 1.8. Simetrías y cantidades conservadas\n",
    "<a id='simetrias_conservacion'></a>"
   ]
  },
  {
   "cell_type": "markdown",
   "metadata": {},
   "source": [
    "Las ecuaciones geodésicas son funamentales en Relatividad general y como tal deben ser revisadas con sumo cuidado.  Como sucede en la mecánica clásica con las ecuaciones de movimiento de Newton o las ecuaciones de Lagrange, ellas representan las ecuaciones diferenciales más importantes de la relatividad general."
   ]
  },
  {
   "cell_type": "markdown",
   "metadata": {},
   "source": [
    "Existen distintas maneras de escribir las ecuaciones de la geodésica:\n",
    "\n",
    "\n",
    "1. Versión original:\n",
    "   $$\n",
    "    \\frac{\\mathrm{d^2} x^\\mu}{\\mathrm{d}\\tau^2} = - \\Gamma^\\mu_{\\alpha\\beta} \\frac{\\mathrm{d} x^\\alpha}{\\mathrm{d}\\tau}\\frac{\\mathrm{d} x^\\beta}{\\mathrm{d}\\tau}\n",
    "    $$\n",
    "   que en notación de Newton es:\n",
    "   $$\n",
    "   \\ddot{x}^\\mu = - \\Gamma^\\mu_{\\alpha\\beta} \\dot{x}^\\alpha\\dot{x}^\\beta\n",
    "   $$\n",
    "    \n",
    "2. Versión linearizada\n",
    "\n",
    "   \\begin{eqnarray}\n",
    "   \\nonumber\n",
    "   \\dot{x}^\\mu & = & U^\\mu\\\\\n",
    "   \\nonumber\n",
    "   \\dot{U}^\\mu & = & - \\Gamma^\\mu_{\\alpha\\beta} U^\\alpha U^\\beta\n",
    "   \\end{eqnarray}\n",
    "   \n",
    "3. Versión variacional: si se define:\n",
    "   $$\n",
    "   L=\\sqrt{g_{\\mu\\nu}\\dot{x}^\\mu\\dot{x}^\\nu}\n",
    "   $$\n",
    "   entonces la ecuación de la geodésica es:\n",
    "   $$\n",
    "   \\frac{\\mathrm{d}}{\\mathrm{d}\\tau}\\left(\\frac{\\partial L}{\\partial \\dot x^\\alpha}\\right)-\\frac{\\partial L}{\\partial x^\\alpha}=0\n",
    "   $$"
   ]
  },
  {
   "cell_type": "markdown",
   "metadata": {},
   "source": [
    "Esta última manera de expresar la ecuación permite encontrar constantes de movimiento usando principios similares a los que se usaron en la mecánica clásica."
   ]
  },
  {
   "cell_type": "markdown",
   "metadata": {},
   "source": [
    "### 1.8.1. La métrica como constante\n",
    "<a id='metrica_constante'></a>"
   ]
  },
  {
   "cell_type": "markdown",
   "metadata": {},
   "source": [
    "Como hemos visto antes si se escoge de manera apropiada el parámetro afin entonces el valor de $L$ resulta constante e igual a D.  De aquí resulta nuestra primera constante de movimiento o cuadratura:\n",
    "\n",
    "$$\n",
    "\\sqrt{g_{\\mu\\nu}\\dot{x}^\\mu\\dot{x}^\\nu}=D\n",
    "$$\n",
    "que se puede escribir como:\n",
    "\n",
    "$$\n",
    "g_{\\mu\\nu}U^\\mu U^\\nu=D^2\n",
    "$$"
   ]
  },
  {
   "cell_type": "markdown",
   "metadata": {},
   "source": [
    "En el caso por ejemplo de una geodésica temporaloide, $D=c$ y $\\sigma=\\tau$ de modo que:\n",
    "\n",
    "$$\n",
    "g_{\\mu\\nu}U^\\mu U^\\nu=c^2\n",
    "$$"
   ]
  },
  {
   "cell_type": "markdown",
   "metadata": {},
   "source": [
    "### 1.8.2. Coordenadas cíclicas y vectores de Killing\n",
    "<a id='vector_killing'></a>"
   ]
  },
  {
   "cell_type": "markdown",
   "metadata": {},
   "source": [
    "Si una métrica no depende de una de las coordenadas $x^\\kappa$, entonces la ecuación de Euler (ecuación de la geodésica) se puede escribir como:\n",
    "\n",
    "$$\n",
    "   \\frac{\\mathrm{d}}{\\mathrm{d}\\tau}\\left(\\frac{\\partial L}{\\partial \\dot x^\\kappa}\\right)=0\n",
    "   $$"
   ]
  },
  {
   "cell_type": "markdown",
   "metadata": {},
   "source": [
    "De aquí se obtiene que la cuadratura:\n",
    "\n",
    "$$\n",
    "\\frac{\\partial L}{\\partial \\dot x^\\kappa}=\\mathrm{cte}\n",
    "$$"
   ]
  },
  {
   "cell_type": "markdown",
   "metadata": {},
   "source": [
    "Desarrollando esta ecuación obtenemos:\n",
    "\n",
    "$$\n",
    "-g_{\\kappa\\nu}\\frac{1}{L}\\frac{\\mathrm{d}x^\\nu}{\\mathrm{d}\\sigma}=-g_{\\kappa\\nu}U^\\nu=\\mathrm{cte}\n",
    "$$"
   ]
  },
  {
   "cell_type": "markdown",
   "metadata": {},
   "source": [
    "Si definimos el vector:\n",
    "\n",
    "$$\n",
    "\\xi^\\mu:(0_0,...,1_\\kappa,...,0_4)\n",
    "$$\n",
    "donde la única componente distinta de 0 es la componente $\\kappa$ entonces la constante encontrada se puede escribir como:\n",
    "\n",
    "$$\n",
    "g_{\\mu\\nu}\\xi^\\mu U^\\nu=\\mathrm{cte}\n",
    "$$"
   ]
  },
  {
   "cell_type": "markdown",
   "metadata": {},
   "source": [
    "Que no es otra cosa que el producto punto del cuadrivector $\\xi^\\mu$ y la cuadrivelocidad $U_\\nu$:\n",
    "\n",
    "$$\n",
    "\\xi^\\mu U_\\mu=\\mathrm{cte}\n",
    "$$"
   ]
  },
  {
   "cell_type": "markdown",
   "metadata": {},
   "source": [
    "Al cuadrivector $\\xi^\\mu$ se lo llama el vector de *Killing* asociado con la simetría correspondiente[$^1$](#notaspie_1)."
   ]
  },
  {
   "cell_type": "markdown",
   "metadata": {},
   "source": [
    "### 1.8.3. Ejemplo: geodésicas en coordenadas cilíndricas\n",
    "<a id='ejemplo_geodesica_cilindricas'></a>"
   ]
  },
  {
   "cell_type": "markdown",
   "metadata": {},
   "source": [
    "Un ejemplo clásico consiste en calcular las geodésicas en un espacio plano cuya métrica es expresada en coordenadas cilíndricas:\n",
    "\n",
    "$$\n",
    "\\mathrm{d}l^2=\\mathrm{d}r^2+r^2\\mathrm{d}\\phi^2+\\mathrm{d}z^2\n",
    "$$"
   ]
  },
  {
   "cell_type": "markdown",
   "metadata": {},
   "source": [
    "Consideremos geodésicas sobre el plano $z=0$.  Podemos escribir la ecuación de la geodésica o escribir sus constantes:"
   ]
  },
  {
   "cell_type": "markdown",
   "metadata": {},
   "source": [
    "1. **Constancia de la métrica**:  En este caso podemos escoger un parámetro afin tal que $D=1$:\n",
    "    \n",
    "    $$\n",
    "    \\sqrt{g_{\\mu\\nu}\\dot{x}^\\mu\\dot{x}^\\nu}=1\n",
    "    $$\n",
    "\n",
    "    que se escribe explícitamente como:\n",
    "    \n",
    "    $$\n",
    "    \\left(\\frac{\\mathrm{d}r}{\\mathrm{d}\\lambda}\\right)^2+r^2\\left(\\frac{\\mathrm{d}\\phi}{\\mathrm{d}\\lambda}\\right)^2=1\n",
    "    $$"
   ]
  },
  {
   "cell_type": "markdown",
   "metadata": {},
   "source": [
    "2. **Variables cíclicas**: En este caso $\\phi$ no aparece en la métrica y por lo tanto el vector de Killing es $\\xi^\\mu:(0,1,0)$, de allí que la siguiente cantidad sea constante:\n",
    "\n",
    "   $$\n",
    "   \\xi^\\mu \\dot{x}_\\mu=h\n",
    "   $$\n",
    "   aquí hemos escogido llamar $h$ a la constante.  Explícitamente:\n",
    "   \n",
    "   $$\n",
    "   g_{\\mu\\nu}\\xi^\\mu\\dot{x}^\\nu=h\n",
    "   $$\n",
    "   o lo que es lo mismo:\n",
    "   \n",
    "   $$\n",
    "   g_{\\phi\\phi}\\dot{\\phi}=r^2\\dot{\\phi}=h\n",
    "   $$"
   ]
  },
  {
   "cell_type": "markdown",
   "metadata": {},
   "source": [
    "Dividiendo esta última ecuación por la primera obtenemos:\n",
    "\n",
    "$$\n",
    "\\frac{\\mathrm{d}\\phi}{\\mathrm{d}r}=\\frac{l}{r^2}\\left(1-\\frac{h^2}{r^2}\\right)^{-1/2}\n",
    "$$"
   ]
  },
  {
   "cell_type": "markdown",
   "metadata": {},
   "source": [
    "Que puede integrarse para dar:\n",
    "\n",
    "$$\n",
    "\\phi=\\phi_0+\\cos^{-1}\\left(\\frac{h}{r}\\right)\n",
    "$$"
   ]
  },
  {
   "cell_type": "markdown",
   "metadata": {},
   "source": [
    "Despejando $r$ obtenemos la forma de las geodésicas:\n",
    "\n",
    "$$\n",
    "r \\cos(\\phi-\\phi_0)=h\n",
    "$$"
   ]
  },
  {
   "cell_type": "markdown",
   "metadata": {},
   "source": [
    "Desarrollando el coseno y teniendo en cuenta que $r\\cos\\phi=x$ y $r\\sin\\phi=y$:\n",
    "\n",
    "$$\n",
    "x\\cos\\phi_0+y\\sin\\phi_0=h\n",
    "$$\n",
    "que es la ecuación general de una línea recta y que es lo que estabamos esperando."
   ]
  },
  {
   "cell_type": "markdown",
   "metadata": {},
   "source": [
    "### 1.8.4. Ejemplo: geodésicas sobre una esfera\n",
    "<a id='ejemplo_geodesica_esfera'></a>"
   ]
  },
  {
   "cell_type": "markdown",
   "metadata": {},
   "source": [
    "Un ejemplo clásico consiste en calcular las geodésicas sobre una esfera:\n",
    "\n",
    "$$\n",
    "\\mathrm{d}l^2=R^2\\mathrm{d}\\theta^2+R^2\\sin^2\\theta\\;\\mathrm{d}\\phi^2\n",
    "$$\n",
    "\n",
    "Ya habíamos hecho este cálculo numéricamente.  Hagámoslo ahora analíticamente."
   ]
  },
  {
   "cell_type": "markdown",
   "metadata": {},
   "source": [
    "1. **Constancia de la métrica**:  En este caso podemos escoger un parámetro afin tal que $D=1$:\n",
    "    \n",
    "    $$\n",
    "    \\sqrt{g_{\\mu\\nu}\\dot{x}^\\mu\\dot{x}^\\nu}=1\n",
    "    $$\n",
    "\n",
    "    que se escribe explícitamente como:\n",
    "    \n",
    "    $$\n",
    "    R^{2}\\left(\\frac{\\mathrm{d} \\theta}{\\mathrm{d} \\lambda}\\right)^{2}+R^{2} \\sin^{2} \\theta\\left(\\frac{\\mathrm{d} \\varphi}{\\mathrm{d} \\lambda}\\right)^{2}=1\n",
    "    $$"
   ]
  },
  {
   "cell_type": "markdown",
   "metadata": {},
   "source": [
    "2. **Variables cíclicas**: En este caso $\\phi$ no aparece en la métrica y por lo tanto el vector de Killing es $\\xi^\\mu:(0,1,0)$, de allí que la siguiente cantidad sea constante:\n",
    "\n",
    "   $$\n",
    "   g_{\\phi\\phi}\\dot{\\phi}=R^2\\sin^2\\theta\\dot{\\phi}=h\n",
    "   $$"
   ]
  },
  {
   "cell_type": "markdown",
   "metadata": {},
   "source": [
    "Dividiendo término a término la primera por el cuadrado de la segunda y reorganizando se produce:\n",
    "\n",
    "$$\n",
    "\\frac{1}{\\sin^2\\theta}\\left(\\frac{\\mathrm{d} \\theta}{\\mathrm{d} \\phi}\\right)^{2}+1=h^2 R^2\\sin^2\\theta\n",
    "$$"
   ]
  },
  {
   "cell_type": "markdown",
   "metadata": {},
   "source": [
    "Llamando $\\kappa=h^2R^2$, la integral y separando variables obtenemos:\n",
    "\n",
    "$$\n",
    "\\pm \\int d \\phi=\\int \\frac{d \\theta}{\\operatorname{sen} \\theta \\sqrt{\\kappa \\operatorname{sen}^{2} \\theta-1}}\n",
    "$$"
   ]
  },
  {
   "cell_type": "markdown",
   "metadata": {},
   "source": [
    "Por tablas de integrales:\n",
    "\n",
    "$$\n",
    "\\tan\\left(\\phi+\\phi_{0}\\right)=\\mp \\frac{\\cos \\theta}{\\sqrt{\\kappa \\operatorname{sen}^{2} \\theta-1}}\n",
    "$$"
   ]
  },
  {
   "cell_type": "markdown",
   "metadata": {},
   "source": [
    "Que puede escribirse como:\n",
    "\n",
    "$$\n",
    "\\operatorname{sin}\\left(\\phi+\\phi_{0}\\right)=\\frac{\\cos \\theta}{\\sqrt{\\kappa-1} \\operatorname{sin} \\theta}\n",
    "$$"
   ]
  },
  {
   "cell_type": "markdown",
   "metadata": {},
   "source": [
    "Y que se puede desarrollar como:\n",
    "\n",
    "$$\n",
    "\\operatorname{sin} \\phi_{0}(R \\operatorname{sin} \\theta \\cos \\phi)+\\cos \\phi_{0}(R \\operatorname{sin} \\theta \\operatorname{sin} \\varphi)=\\frac{1}{\\sqrt{\\kappa-1}}(R \\cos \\theta)\n",
    "$$"
   ]
  },
  {
   "cell_type": "markdown",
   "metadata": {},
   "source": [
    "Que se puede escribir en coordenadas cartesianas como:\n",
    "\n",
    "$$\n",
    "x\\sin\\phi_0+y\\cos\\phi_0-z\\frac{1}{\\sqrt{\\kappa-1}}=0\n",
    "$$\n",
    "que es la ecuación de un plano que pasa por el origen de coordenadas y cuyas coordenadas $x,y,z$ están sobre la superficie de la esfera.  Es decir, esta es la ecuación de una circunferencia máxima, que es lo que sabemos para una geodésica sobre una esfera."
   ]
  },
  {
   "cell_type": "markdown",
   "metadata": {
    "tags": [
     "footnote"
    ]
   },
   "source": [
    "**NOTAS AL PIE:**\n",
    "\n",
    "<a id='notaspie_1'></a>\n",
    "1. El nombre de vector de Killing viene del matemático alemán Wilhelm Killing (1847-1923) y no de que sea un vector con una acción *asesina*.\n",
    "\n"
   ]
  }
 ],
 "metadata": {
  "celltoolbar": "Tags",
  "kernelspec": {
   "display_name": "Python 3",
   "language": "python",
   "name": "python3"
  },
  "language_info": {
   "codemirror_mode": {
    "name": "ipython",
    "version": 3
   },
   "file_extension": ".py",
   "mimetype": "text/x-python",
   "name": "python",
   "nbconvert_exporter": "python",
   "pygments_lexer": "ipython3",
   "version": "3.6.8"
  }
 },
 "nbformat": 4,
 "nbformat_minor": 2
}
