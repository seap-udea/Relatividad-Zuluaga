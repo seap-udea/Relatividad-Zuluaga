{
 "cells": [
  {
   "cell_type": "markdown",
   "metadata": {
    "tags": [
     "navigation"
    ]
   },
   "source": [
    "[Indice](index.ipynb) | Previo: [Aplicaciones.CosmologiaRelativista.EcuacionesFriedmann](01.01.02.00.Aplicaciones.CosmologiaRelativista.EcuacionesFriedmann.ipynb) | "
   ]
  },
  {
   "cell_type": "markdown",
   "metadata": {},
   "source": [
    "# 2. Apéndices\n",
    "<a id='apendices'></a>"
   ]
  },
  {
   "cell_type": "markdown",
   "metadata": {},
   "source": [
    "## 2.1. Códigos útiles\n",
    "<a id='apendice_codigos_utiles'></a>"
   ]
  },
  {
   "cell_type": "markdown",
   "metadata": {},
   "source": [
    "A continuación encontrarán algunos códigos útiles usados en el curso."
   ]
  },
  {
   "cell_type": "markdown",
   "metadata": {},
   "source": [
    "### 2.1.1. Cálculo analítico de tensores en relatividad general\n",
    "<a id='calculo_analitico_rg'></a>"
   ]
  },
  {
   "cell_type": "markdown",
   "metadata": {},
   "source": [
    "El código a continuación fue adaptado de Hartle y sirve para el cálculo de las cantidades geométricas y tensoriales útiles en relatividad general."
   ]
  },
  {
   "cell_type": "markdown",
   "metadata": {},
   "source": [
    "```\n",
    "(*\n",
    "Instrucciones:\n",
    "1) Abra una cuenta en https://lab.wolframcloud.com.\n",
    "2) Cree un nuevo Notebook.\n",
    "3) Copie el contenido de este archivo dentro del Notebook.\n",
    "4) Ejecute el código de ejemplo\n",
    "*)\n",
    "\n",
    "(*Variables básicas*)\n",
    "Clear[n,\n",
    "Inversa,Matriz,Tabla,\n",
    "Gama,Geodesica,Riemann,\n",
    "GeodesicaTabla ,ListaDos,ListaTres,ListaCuatro];\n",
    "n = 4;\n",
    "(*Genericos*)\n",
    "Inversa[g_]:=Simplify[Inverse[g]]\n",
    "(*Muestra*)\n",
    "Matriz[g_]:= g//MatrixForm\n",
    "Tabla[Lista_]:=TableForm[Partition[DeleteCases[Flatten[Lista], Null], 2],TableSpacing -> {2, 2}]\n",
    "GeodesicaTabla[geodesica_]:=TableForm[\n",
    "Table[{\"d/d\\[Tau]\" ToString[u[i-1]], \"=\",geodesica[[i]]},\n",
    "{i, 1, n}], TableSpacing -> {2}]\n",
    "ListaDos[Tensor_,simbolo_,coords_]:=Table[\n",
    "If[UnsameQ[Tensor[[j, l]], 0],\n",
    "{ToString[simbolo[coords[[j]], coords[[l]]]]<>\" = \",Tensor[[j, l]]}] ,\n",
    "{j, 1, n}, {l, 1, j}];\n",
    "ListaTres[Tensor_,simbolo_,coords_] := Table[\n",
    "If[UnsameQ[Tensor[[i, j, k]], 0],\n",
    "{ToString[simbolo[coords[[i]], coords[[j]],coords[[ k]]]]<>\" = \", Tensor[[i, j, k]]}] ,\n",
    "{i, 1, n}, {j, 1, n}, {k, 1, j}];\n",
    "ListaCuatro[Tensor_,simbolo_,coords_]:=Table[\n",
    "If[UnsameQ[Tensor[[i, j, k, l]], 0],\n",
    "{ToString[simbolo[coords[[i]], coords[[j]],coords[[ k]],coords[[ l]]]]<>\" = \",Tensor[[i, j, k, l]]}] ,\n",
    "{i, 1, n}, {j, 1, n}, {k, 1, n}, {l, 1,n}];\n",
    "(*Relatividad General*)\n",
    "Gama[g_,gi_,coord_] := Simplify[\n",
    "Table[(1/2)*Sum[(gi[[i, s]])*\n",
    "       (D[g[[s, j]], coord[[k]] ] +\n",
    "         D[g[[s, k]], coord[[j]] ] -\n",
    "         D[g[[j, k]], coord[[s]] ]), {s, 1, n}],\n",
    "    {i, 1, n}, {j, 1, n}, {k, 1, n}] ];\n",
    "Riemann[G_,coord_] := -Simplify[Table[D[G[[i, j, k]],coord[[l]] ] - D[G[[i, j, l]], coord[[k]] ] +\n",
    "     Sum[G[[s, j, k]]G[[i, l, s]] -  G[[s, j, l]]G[[i, k, s]],  {s, 1, n}],\n",
    "    {i, 1, n}, {j, 1, n}, {k, 1, n}, {l, 1, n}] ]\n",
    "Ricci[Rm_]:=Simplify[Table[\n",
    "  Sum[Rm[[i, j, i, l]], {i, 1, n}], {j, 1, n}, {l, 1, n}] ]\n",
    "Scalar[gi_,Ri_]:= Simplify[ Sum[gi[[i, j]] Ri[[i, j]], {i, 1, n}, {j, 1, n}] ]\n",
    "Einstein[Ri_,R_,g_] :=Simplify[Ri - (1/2) R*g]\n",
    "Geodesica[G_] := Simplify[Table[-Sum[G[[i, j, k]] u[j-1] u[k-1], {j, 1, n}, {k, 1, n}], {i, 1, n}]]\n",
    "(*\n",
    "--------------------------------------------------------------------------\n",
    "Ejemplo agujero de gusano:\n",
    "coords = {T,r, \\[Theta], \\[Phi]};\n",
    "gij = {{1,0,0,0},-{0, 1, 0, 0}, -{0,0, r^2 + b^2, 0}, -{0,0,\n",
    "   0, (r^2 + b^2) Sin[\\[Theta]]^2}};\n",
    "nij = Inversa[gij];\n",
    "Gijk=Gama[gij,nij,coords];\n",
    "Rijkl=Riemann[Gijk,coords];\n",
    "Rij=Ricci[Rijkl];\n",
    "Rs=Scalar[nij,Rij];\n",
    "Gij=Einstein[Rij,Rs,gij];\n",
    "dxidt=Geodesica[Gijk];\n",
    "Matriz[gij]\n",
    "Matriz[nij]\n",
    "Tabla[ListaTres[Gijk,\\[CapitalGamma],coords]]\n",
    "Tabla[ListaCuatro[Rijkl,Riemann,coords]]\n",
    "Tabla[ListaDos[Rij,Ricci,coords]]\n",
    "Rs\n",
    "Tabla[ListaDos[Gij,G,coords]]\n",
    "GeodesicaTabla[dxidt]\n",
    "--------------------------------------------------------------------------\n",
    "Ejemplo métrica simétrica:\n",
    "coords = {T,r, \\[Theta], \\[Phi]};\n",
    "gij = {{Exp[2A[r]],0,0,0},-{0, Exp[2B[r]], 0, 0}, -{0,0, r^2 , 0}, -{0,0,\n",
    "   0, r^2 Sin[\\[Theta]]^2}};\n",
    "nij = Inversa[gij];\n",
    "Gijk=Gama[gij,nij,coords];\n",
    "Rijkl=Riemann[Gijk,coords];\n",
    "Rij=Ricci[Rijkl];\n",
    "Rs=Scalar[nij,Rij];\n",
    "Gij=Einstein[Rij,Rs,gij];\n",
    "dxidt=Geodesica[Gijk];\n",
    "Matriz[gij]\n",
    "Matriz[nij]\n",
    "Tabla[ListaTres[Gijk,\\[CapitalGamma],coords]]\n",
    "Tabla[ListaCuatro[Rijkl,Riemann,coords]]\n",
    "Tabla[ListaDos[Rij,Ricci,coords]]\n",
    "Rs\n",
    "Tabla[ListaDos[Gij,G,coords]]\n",
    "GeodesicaTabla[dxidt]\n",
    "*)\n",
    "\n",
    "```"
   ]
  }
 ],
 "metadata": {
  "kernelspec": {
   "display_name": "Python 3",
   "language": "python",
   "name": "python3"
  },
  "language_info": {
   "codemirror_mode": {
    "name": "ipython",
    "version": 3
   },
   "file_extension": ".py",
   "mimetype": "text/x-python",
   "name": "python",
   "nbconvert_exporter": "python",
   "pygments_lexer": "ipython3",
   "version": "3.6.8"
  }
 },
 "nbformat": 4,
 "nbformat_minor": 2
}
