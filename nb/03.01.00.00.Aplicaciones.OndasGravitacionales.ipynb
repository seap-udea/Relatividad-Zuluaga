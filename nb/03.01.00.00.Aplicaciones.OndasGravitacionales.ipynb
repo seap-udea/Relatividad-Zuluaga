{
 "cells": [
  {
   "cell_type": "markdown",
   "metadata": {
    "tags": [
     "navigation"
    ]
   },
   "source": [
    "[Indice](index.ipynb) | Previo: [Aplicaciones](03.00.00.00.Aplicaciones.ipynb) | Siguiente: [Aplicaciones.OndasGravitacionales.GravedadLinearizada](03.01.01.00.Aplicaciones.OndasGravitacionales.GravedadLinearizada.ipynb)"
   ]
  },
  {
   "cell_type": "markdown",
   "metadata": {},
   "source": [
    "## 3.1. Ondas gravitacionales\n",
    "<a id='ondas_gravitacionales'></a>"
   ]
  },
  {
   "cell_type": "markdown",
   "metadata": {},
   "source": [
    "Las ondas gravitacionales son una de las más increíbles predicciones de la relatividad general."
   ]
  },
  {
   "cell_type": "markdown",
   "metadata": {},
   "source": [
    "### 3.1.1. Historia de las ondas gravitacionales\n",
    "<a id='historia_gw'></a>"
   ]
  },
  {
   "cell_type": "markdown",
   "metadata": {},
   "source": [
    "Las ondas gravitacionales fueron predichas por primera vez por Einstein en 1916.  En 1922, sin embargo Eddington mostró que las ondas originalmente predichas por Einstein eran en realidad un artefacto matemático debido al cambio de coordenadas, las llamo *ondas de coordenadas* y que se podían mover a cualquier velocidad.  Sin embargo el mismo Eddington predijo que había un tercer tipo de ondas que se propagaban a la velocidad de la luz.  "
   ]
  },
  {
   "cell_type": "markdown",
   "metadata": {},
   "source": [
    "En 1936 Einstein y Nathan Rosen sometieron un artículo demostrando que las ondas gravitacionales no existían porque aparecían singularidades en la solución ondulatoria de la ecuación de campo.  Afortunadamente el artículo no fue aceptado por un referee inicialmente anónimo (después resulto ser Howard Robertson, el mismo de la métrica cosmológica) quien demostro que las singularidades en realidad eran producto e las coordenadas."
   ]
  },
  {
   "cell_type": "markdown",
   "metadata": {},
   "source": [
    "La predicción de las ondas gravitacionales y de sus propiedades se concreto en las decadas por venir entre finales de 1930 y mediados de los 1950."
   ]
  },
  {
   "cell_type": "markdown",
   "metadata": {},
   "source": [
    "En 1974 se descubrió un pulsar binario cuya orbita decaía obedeciendo las predicciones de la relatividad general y de la emisión de ondas gravitacionales.  El decaimiento del pulsar binario fue confirmado a lo largo de dos décadas y le valió a sus descubridores, Russell Hulse y Joseph Taylor el premio Nobel de física de 1993.  "
   ]
  },
  {
   "cell_type": "markdown",
   "metadata": {},
   "source": [
    "Entre mediados de 1970 y principios de 1990 se consolido un proyecto de detector usando interferometría, una idea que había sido concebida por varios en los 1960.  Este proyecto fue el *Laser Interferometer Gravitational Observatory* LIGO, que finalmente inició observaciones en 2002.  Durante 13 años el detector no vio nada.  El 18 de septiembre de 2015 se inauguro una nueva fase conocida como *LIGO mejorado*."
   ]
  },
  {
   "cell_type": "markdown",
   "metadata": {},
   "source": [
    "El 14 de septiembre de 2015 una señal fue detectada por los observatorios aún en prueba.  El paper sobre la detección fue publicado el 11 de febrero de 2016.  La detección correspondía a la fusión de dos agujeros negros de cerca de 30 masas solares a la increíble distancia de 1300 millones de años luz.  En 2017 se otorgo el premio Nobel de física a 3 de los más destacados personajes asociados con el detector."
   ]
  },
  {
   "cell_type": "markdown",
   "metadata": {},
   "source": [
    "El 25 de agosto de 2017 se detecto simultaenamente en rayos gama, luz visible, ondas de radio y ondas gravitacionales la primera fuente astrofísica dando nacimiento a la que hoy se conoce como la *astronomía multimensajero*, una de las más importantes revoluciones en la astronomía desde la invención del telescopio."
   ]
  },
  {
   "cell_type": "markdown",
   "metadata": {},
   "source": [
    "Es muy importante para cualquier profesional de la astronomía o de la física conocer algunos detalles sobre la predicción de la existencia de las ondas gravitacionales y de sus propiedades específicas."
   ]
  },
  {
   "cell_type": "markdown",
   "metadata": {},
   "source": [
    "### 3.1.2. Un programa de estudio\n",
    "<a id='programa_gw'></a>"
   ]
  },
  {
   "cell_type": "markdown",
   "metadata": {},
   "source": [
    "En estas notas nos concentraremos en algunos de los aspectos básicos de la física de estas ondas sin profundizar en todos sus detalles (que escapan al nivel del curso).  Nos concentraremos en los siguientes aspectos:\n",
    "\n",
    "- La teoría linearizada de la gravedad y sus ecuaciones correspondientes.\n",
    "- La predicción de la existencia de ondas gravitacionales y las ecuaciones correspondientes.\n",
    "- La solución a la ecuación de onda en el vacío y las propiedades básicas de las ondas gravitacionales.\n",
    "- La ecuación de onda con fuentes y la predicción de la intensidad de este tipo de ondas.\n",
    "- La física de la emisión de ondas gravitacionales y las ecuaciones básicas resultantes.\n",
    "- El estudio de algunos sistemas de interés en astrofísica.\n",
    "- La física básica de la deteccción de las ondas."
   ]
  },
  {
   "cell_type": "markdown",
   "metadata": {
    "tags": [
     "navigation"
    ]
   },
   "source": [
    "[Indice](index.ipynb) | Previo: [Aplicaciones](03.00.00.00.Aplicaciones.ipynb) | Siguiente: [Aplicaciones.OndasGravitacionales.GravedadLinearizada](03.01.01.00.Aplicaciones.OndasGravitacionales.GravedadLinearizada.ipynb)"
   ]
  }
 ],
 "metadata": {
  "kernelspec": {
   "display_name": "Python 3",
   "language": "python",
   "name": "python3"
  },
  "language_info": {
   "codemirror_mode": {
    "name": "ipython",
    "version": 3
   },
   "file_extension": ".py",
   "mimetype": "text/x-python",
   "name": "python",
   "nbconvert_exporter": "python",
   "pygments_lexer": "ipython3",
   "version": "3.6.8"
  }
 },
 "nbformat": 4,
 "nbformat_minor": 2
}
