{
 "cells": [
  {
   "cell_type": "markdown",
   "metadata": {
    "tags": [
     "navigation"
    ]
   },
   "source": [
    "[Indice](index.ipynb) | Previo: [RelatividadGeneral.Geodesicas](01.04.00.00.RelatividadGeneral.Geodesicas.ipynb) | "
   ]
  },
  {
   "cell_type": "markdown",
   "metadata": {},
   "source": [
    "## 1.5. Geodésicas y movimiento inercial\n",
    "<a id='geodesicas_inercia'></a>"
   ]
  },
  {
   "cell_type": "markdown",
   "metadata": {},
   "source": [
    "La introducción en la sección anterior del concepto de geodésica conduce a la formulación de un principio físico nuevo en la relatividad general, a saber un principio de inercia generalizado."
   ]
  },
  {
   "cell_type": "markdown",
   "metadata": {
    "label": "",
    "subtitle": "Postulado de las geodésicas",
    "tags": [
     "box_postulate"
    ],
    "title": "Postulado"
   },
   "source": [
    "> **Postulado: Postulado de las geodésicas.**<a id=''></a> Una partícula de prueba completamente libre de fuerzas, en un espacio tiempo general caracterizado por una métrica $g_{\\mu\\nu}$ y símbolos de Christoffel (coeficientes conexión) asociado $\\Gamma^{\\alpha}_{\\mu\\nu}$, se mueve sobre una geodésica en el espacio-tiempo:\n",
    "\n",
    "$$\n",
    "\\frac{\\mathrm{d^2} x^\\mu}{\\mathrm{d}\\sigma^2} + \\Gamma^\\mu_{\\alpha\\gamma} \\frac{\\mathrm{d} x^\\alpha}{\\mathrm{d}\\sigma}\\frac{\\mathrm{d} x^\\gamma}{\\mathrm{d}\\sigma}=0\n",
    "$$"
   ]
  },
  {
   "cell_type": "markdown",
   "metadata": {},
   "source": [
    "Es interesante anotar que el resultado anterior vale tanto si la partícula es masiva como si no lo es, es decir, aplica en el caso de la luz o de otras partículas de prueba.  La diferencia es que en el caso de una partícula masiva en la cual los intervalos son temporaloides, el parámetro afín puede identificarse con el tiempo propio y la ecuación geodésica adopta la forma general:\n",
    "\n",
    "$$\n",
    "\\frac{\\mathrm{d^2} x^\\mu}{\\mathrm{d}\\tau^2} + \\Gamma^\\mu_{\\alpha\\gamma} \\frac{\\mathrm{d} x^\\alpha}{\\mathrm{d}\\tau}\\frac{\\mathrm{d} x^\\gamma}{\\mathrm{d}\\tau}=0\n",
    "$$\n",
    "que ahora es una ecuación completamente física (todas las cantidades involucradas son físicas)."
   ]
  },
  {
   "cell_type": "markdown",
   "metadata": {},
   "source": [
    "Si despejamos $\\mathrm{d^2} x^\\mu/\\mathrm{d}\\tau^2$ obtenemos:\n",
    "\n",
    "$$\n",
    "\\frac{\\mathrm{d^2} x^\\mu}{\\mathrm{d}\\tau^2} = - \\Gamma^\\mu_{\\alpha\\gamma} \\frac{\\mathrm{d} x^\\alpha}{\\mathrm{d}\\tau}\\frac{\\mathrm{d} x^\\gamma}{\\mathrm{d}\\tau}\n",
    "$$\n"
   ]
  },
  {
   "cell_type": "markdown",
   "metadata": {},
   "source": [
    "Clásicamente se puede interpretar como que un cuerpo en un espacio-tiempo con métrica general, experimenta una aceleración incluso en la ausencia de fuerzas."
   ]
  }
 ],
 "metadata": {
  "celltoolbar": "Tags",
  "kernelspec": {
   "display_name": "Python 3",
   "language": "python",
   "name": "python3"
  },
  "language_info": {
   "codemirror_mode": {
    "name": "ipython",
    "version": 3
   },
   "file_extension": ".py",
   "mimetype": "text/x-python",
   "name": "python",
   "nbconvert_exporter": "python",
   "pygments_lexer": "ipython3",
   "version": "3.6.8"
  }
 },
 "nbformat": 4,
 "nbformat_minor": 2
}
