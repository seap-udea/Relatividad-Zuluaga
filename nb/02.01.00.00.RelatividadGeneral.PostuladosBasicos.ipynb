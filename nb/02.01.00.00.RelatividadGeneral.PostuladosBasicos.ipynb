{
 "cells": [
  {
   "cell_type": "markdown",
   "metadata": {
    "tags": [
     "navigation"
    ]
   },
   "source": [
    "[Indice](index.ipynb) | Previo: [RelatividadGeneral](02.00.00.00.RelatividadGeneral.ipynb) | Siguiente: [RelatividadGeneral.TransporteParalelo](02.02.00.00.RelatividadGeneral.TransporteParalelo.ipynb)"
   ]
  },
  {
   "cell_type": "markdown",
   "metadata": {},
   "source": [
    "## 2.2. Principios y postulados básicos\n",
    "<a id='rgeneral_postulados'></a>"
   ]
  },
  {
   "cell_type": "markdown",
   "metadata": {},
   "source": [
    "Hoy se acepta que la teoría general de la relatividad se construye, físicamente, sobre la báse de tres principios o postulados básicos:\n",
    "\n",
    "- El **principio de equivalencia** que tenía ya una historia de más de 350 años desde los experimentos de Galileo con planos inclinados.\n",
    "\n",
    "- El **principio de covarianza general**, una inteligente generalización del postulado de realtividad especial.\n",
    "\n",
    "- El **principio de consistencia**, una inteligente idea que, en términos prácticos, permite reconstruir las ecuaciones de teorías nuevas y más fundamentales a partir de las ecuaciones *efectivas* de teorías anteriores."
   ]
  },
  {
   "cell_type": "markdown",
   "metadata": {},
   "source": [
    "### 2.2.1. Principio de Equivalencia\n",
    "<a id='principio_equivalencia'></a>"
   ]
  },
  {
   "cell_type": "markdown",
   "metadata": {},
   "source": [
    "El principio de equivalencia fue llamado por Einstein *la idea más feliz de mi vida*. "
   ]
  },
  {
   "cell_type": "markdown",
   "metadata": {},
   "source": [
    "Existen distintas versiones del principio de equivalencia y por razones históricas y de la motivación física de la teoría general bien vale revisar cada una de ellas."
   ]
  },
  {
   "cell_type": "markdown",
   "metadata": {},
   "source": [
    "#### 2.2.1.1. Principio de Galileo\n",
    "<a id='principio_galileo'></a>"
   ]
  },
  {
   "cell_type": "markdown",
   "metadata": {},
   "source": [
    "Es bien conocida la historia apócrifa de Galileo lanzando desde lo alto de la Torre de Pisa bolas metálicas de distinta masa para demostrar, contra la creencia de los filósofos escolásticos que estudiaban la obra de Aristóteles, que sin importar la masa las bolas caían al mismo tiempo. "
   ]
  },
  {
   "cell_type": "markdown",
   "metadata": {},
   "source": [
    "Este importante resultado no tiene una justificación teórica en el contexto de las ideas galileanas, fue solo una intuición, posiblemente en reacción a las ideas no contrastadas de Aristóteles que formuló Galileo.  Por la misma razón se lo puede considerar un principio."
   ]
  },
  {
   "cell_type": "markdown",
   "metadata": {
    "label": "",
    "subtitle": "Principio de Galileo",
    "tags": [
     "box_postulate"
    ],
    "title": "Postulado"
   },
   "source": [
    "> **Postulado: Principio de Galileo.**<a id=''></a> La trayectoria que sigue un objeto en caída libre y en ausencia del aire (o despreciando su efecto), es independientemente de la constitución y tamaño del objeto."
   ]
  },
  {
   "cell_type": "markdown",
   "metadata": {},
   "source": [
    "#### 2.2.1.2. Principio de igualdad de las masas\n",
    "<a id='principio_equivalencia_masas'></a>"
   ]
  },
  {
   "cell_type": "markdown",
   "metadata": {},
   "source": [
    "Aunque este principio hunde sus raíces en la teoría Newtoniana, nunca fue formulado explícitamente por Newton."
   ]
  },
  {
   "cell_type": "markdown",
   "metadata": {},
   "source": [
    "Existen dos cantidades que llamamos masa en la física Newtoniana: la **masa inercial** que esta relacionada con la *resistencia* o *inercia* que opone la partícula a cambiar su estado de movimiento y la **masa gravitacional** que es una medidad de su capacidad para producir una atracción sobre otras partículas y para sentirla."
   ]
  },
  {
   "cell_type": "markdown",
   "metadata": {},
   "source": [
    "La masa inercial es la que aparece en la definición del momentum de la partícula $\\vec p=m^{(i)}\\vec v$ y por lo tanto (suponiendo que no cambia en un instante dado) es la misma que aparece en el postulado de fuerzas:\n",
    "\n",
    "$$\n",
    "\\vec a = \\frac{\\vec F}{m^{(i)}}\n",
    "$$"
   ]
  },
  {
   "cell_type": "markdown",
   "metadata": {},
   "source": [
    "Por otro lado la masa gravitacional es la que aparece en la definición misma de la fuerza de atracción gravitacional:\n",
    "\n",
    "$$\n",
    "\\vec F_g = G \\frac{m^{(g)} M^{(g)}}{r^3}\\vec r\n",
    "$$"
   ]
  },
  {
   "cell_type": "markdown",
   "metadata": {},
   "source": [
    "Si usamos esta fuerza para calcular la aceleración de caída libre obtenemos:\n",
    "\n",
    "$$\n",
    "\\vec g = G\\frac{m^{(g)}}{m^{(i)}} \\frac{M^{(g)}}{r^3}\\vec r\n",
    "$$"
   ]
  },
  {
   "cell_type": "markdown",
   "metadata": {},
   "source": [
    "En principio siempre será posible ajustar el valor de la constante de gravitación universal $G$ para hacer que el valor numérico de la masa gravitacional de un cuerpo sea idéntico el valor numérico de su masa inercial.  Sin embargo, y esta es la motivación del principio, experimentalemnte se ha mostrado (ver experimento de Eötvos) que una vez ajustado para un cuerpo, la identidad numérica se mantiene para todos independientemente de su composición. "
   ]
  },
  {
   "cell_type": "markdown",
   "metadata": {},
   "source": [
    "> **Postulado: Principio de igualdad de las masas gravitacional e inercial**. Una vez fijado el valor de la constante gravitacional $G=6.67\\times 10^{-11}$ m$^{3}$ kg$^{-1}$ s$^{-2}$ La masa gravitacional e inercial de un cuerpo, en la teoría newtoniana, tienen el mismo valor numérico, independientemente del lugar y de la composición del cuerpo:\n",
    "\n",
    "> $$m^{(i)} = m^{(g)}$$\n",
    "\n",
    "> Este principio es equivalente a decir que la aceleración gravitacional que experimenta un objeto en presencia de otro es *explícitamente*[$^1$](#notaspie_1) independiente de su masa:\n",
    "\n",
    "> $$\\vec g = \\frac{GM}{r^3}\\vec r$$\n",
    "\n",
    "> Por este último hecho a este también se lo llama el **principio de universalidad de la caída libre**. "
   ]
  },
  {
   "cell_type": "markdown",
   "metadata": {},
   "source": [
    "El principio de equivalencia de la masa gravitacional e inercial no implican que sean la misma cantidad, sino simplemente que tienen el mismo valor, pero parecen sugerir de fondo la existencia de un hecho más fundamental, que es precisamente lo que descubrió Einstein."
   ]
  },
  {
   "cell_type": "markdown",
   "metadata": {},
   "source": [
    "#### 2.2.1.3. Principio de equivalencia de Einstein\n",
    "<a id='principio_equivalencia_einstein'></a>"
   ]
  },
  {
   "cell_type": "markdown",
   "metadata": {},
   "source": [
    "Si la aceleración gravitacional de los cuerpos es explícitamente independiente de su masa, entonces cuerpos que caen libremente en presencia de un cuerpo mayor y que comienzan con condiciones iniciales idénticas, caerán conservando una relación espacial relativa simple. "
   ]
  },
  {
   "cell_type": "markdown",
   "metadata": {},
   "source": [
    "En un campo gravitacional uniforme $\\vec g_0$ los cuerpos se mantendrán a una distancia relativa constante con el tiempo mientras caen.  En un campo gravitacional más realista, como el producido por la Tierra, debido a que los cuerpos se mueven hacia el centro del planeta, los cuerpos tenderán a acercarse en dirección perpendicular a la dirección hacia el centro y a alejarse en esa misma dirección.  A este efecto se lo llama aceleración de marea."
   ]
  },
  {
   "cell_type": "markdown",
   "metadata": {},
   "source": [
    "Sin embargo, si estamos cerca al cuerpo atractor y el sistema en caída libre es suficientemente pequeño, un observador en el interior del sistema podría no percibir que se encuentra en caída libre.  Esta fue *la idea más feliz* de la vida de Einstein."
   ]
  },
  {
   "cell_type": "markdown",
   "metadata": {
    "label": "",
    "subtitle": "Principio de Equivalencia de Einstein",
    "tags": [
     "box_postulate"
    ],
    "title": "Postulado"
   },
   "source": [
    "> **Postulado: Principio de Equivalencia de Einstein.**<a id=''></a> Un observador en caída libre (acelerado) en un campo gravitacional arbitrario, es *localmente* indistinguible de un observador inercial.  \n",
    "\n",
    "> Otra manera de expresar este principio es decir que *localmente* los efectos cinemáticos de un campo gravitacional son *indistinguibles* de aquellos que se producen en un sistema de referencia acelerado."
   ]
  },
  {
   "cell_type": "markdown",
   "metadata": {},
   "source": [
    "Hay dos palabras claves en el principio de equivalencia de Einstein: *local* e *indistinguible*.  "
   ]
  },
  {
   "cell_type": "markdown",
   "metadata": {},
   "source": [
    "Por **local** entendemos que los fenómenos deben estudiarse en la vecindad infinitesimal de un punto, es decir no podemos afirmar que el observador en caída libre sea inercial en todos los puntos de su sistema de referencia.  En términos de la fenomenología newtoniana esto es debido a los efectos de marea producidos por la variación del campo gravitacional. "
   ]
  },
  {
   "cell_type": "markdown",
   "metadata": {},
   "source": [
    "Por **indistingible** entendemos que no habría ningún experimento cinemático que le permitiera al observador demostrar que esta en un sistema en caída libre o en un sistema inercial, o bien que esta en un campo gravitacional o en un sistema de referencia acelerado."
   ]
  },
  {
   "cell_type": "markdown",
   "metadata": {},
   "source": [
    "Otra manera de decirlo sería que la gravedad, al menos sus efectos cinemáticos, son relativos.  Este fue justamente el *pensamiento más feliz* de la vida de Einstein."
   ]
  },
  {
   "cell_type": "markdown",
   "metadata": {},
   "source": [
    "\n",
    "#### Principio de equivalencia fuerte {#principio_equivalencia_fuerte}"
   ]
  },
  {
   "cell_type": "markdown",
   "metadata": {},
   "source": [
    "Puede decirse que lo postulado por Einstein en su principio de equivalencia no es más que una consecuencia del postulado de la universalidad de la caída libre, algo que podría perfectamente haber descubierto Newton.  En este sentido más que un postulado sería un corolario.  "
   ]
  },
  {
   "cell_type": "markdown",
   "metadata": {},
   "source": [
    "Es por eso que muchos autores llaman al principio de equivalencia de Einstein el **principio de equivalencia débil**.  Pero la teoría general de la relatividad va más lejos.  De la misma manera que la teoría especial donde el principio de relatividad primero se reconoce en los fenómenos electromagnéticos y después se extiende a todos los fenómenos físicos, incluyendo los mecánicos, en relatividad general el principio de equivalencia se extiende también."
   ]
  },
  {
   "cell_type": "markdown",
   "metadata": {
    "label": "",
    "subtitle": "Principio de Equivalencia de Fuerte",
    "tags": [
     "box_postulate"
    ],
    "title": "Postulado"
   },
   "source": [
    "> **Postulado: Principio de Equivalencia de Fuerte.**<a id=''></a> Localmente todos los efectos físicos de un campo gravitacional son *indistinguibles* de aquellos que se producen en un sistema de referencia acelerado.\n",
    "\n",
    "> Es decir, no es posible distinguir un campo gravitacional de un sistema de referencia inercial mediante ningún experimento, bien sea este cinemático, dinámico, electromagnético, óptico, nuclear, etc."
   ]
  },
  {
   "cell_type": "markdown",
   "metadata": {},
   "source": [
    "\n",
    "#### Principio de equivalencia geométrico {#principio_equivalencia_geométrico}"
   ]
  },
  {
   "cell_type": "markdown",
   "metadata": {},
   "source": [
    "En su versión moderna el principio de equivalencia adopta una formulación mucho más general y poderosa que irá teniendo sentido a lo largo de este capítulo."
   ]
  },
  {
   "cell_type": "markdown",
   "metadata": {
    "label": "",
    "subtitle": "Principio de equivalencia",
    "tags": [
     "box_postulate"
    ],
    "title": "Postulado"
   },
   "source": [
    "> **Postulado: Principio de equivalencia.**<a id=''></a> En cualquier evento $x^\\nu$ de un espacio-tiempo arbitrario, donde la métrica sea $g_{\\mu\\nu}(x^\\nu)$ es posible encontrar un sistema de coordenadas $x^{\\mu'}(x^\\nu)$ (transformación general no lineal) tal que se cumplan simultáneamente:\n",
    "\n",
    "> $$g_{\\mu'\\nu'}\\left.\\right|_{x^\\nu} =\\eta_{\\mu'\\nu'}$$\n",
    "> y \n",
    "> $$\\partial_{\\alpha'} g_{\\mu'\\nu'}|_{x^\\nu}= 0$$\n",
    "\n",
    "> En este sistema de coordenadas las ecuaciones manifiestamente covariantes que describen toas las leyes de la física en el espacio-tiempo plano son válidas.  Llamamos al sistema de coordenadas donde se cumple esto un **sistema de referencia inercial local** o un **sistema de coordenadas geodésico**."
   ]
  },
  {
   "cell_type": "markdown",
   "metadata": {},
   "source": [
    "Las implicaciones de este principio son fantásticas.  De un lado implica que todo lo que hemos aprendido en la teoría especial de la relatividad seguirá siendo válido en el contexto de la relatividad general y por lo tanto no hay que construir nuevas leyes para el espacio-tiempo curvo, solo hay que aprender a hacer transformaciones generales (no lineales) de coordenadas en el espacio-tiempo."
   ]
  },
  {
   "cell_type": "markdown",
   "metadata": {
    "label": "",
    "subtitle": "Gravedad no es lo mismo que aceleración",
    "tags": [
     "box_note"
    ],
    "title": "Nota"
   },
   "source": [
    "> **Nota: Gravedad no es lo mismo que aceleración.**<a id=''></a> El principio de equivalencia moderno formulado anteriormente tiene una importante y sutil diferencia con el principio de equivalencia de Einstein de 1907.  Según ese principio un campo gravitacional es equivalente a un sistema de referencia acelerado.  Si bien en su momento este principio fue de utilidad para Einstein para realizar sus primeras predicciones asombrosas sobre las implicaciones de la teoría de la relatividad, en realidad, como lo probó el mismo Einstein en su versión final de la teoría. \n",
    "\n",
    "> Lo explicaremos más adelante pero bastará con decir por ahora que el principio de equivalencia solo supone la anulación de las primeras derivadas de la métrica en el sistema geodésico, pero en un campo gravitacional las segundas derivadas de la métrica son realmente las más importantes y son diferentes de cero.  Esto no se puede conseguir solo con aceleración.  \n",
    "\n",
    "> Puesto en otros términos, con sistemas acelerados es imposible *imitar* los efectos de las mareas gravitacionales (que dependen de las segundas derivadas de la métrica).\n",
    "\n",
    "> Una manifestación concreta del hecho de que un sistema de referencia acelerado no es equivalente a un campo gravitacional tiene que ver con el fenómeno de dilatación temporal.  Habíamos visto en el postulado de los relojes que la aceleración **no produce atraso presente**, solo se produce atraso a lo largo del tiempo.  En cambio, como veremos, la gravedad **produce atraso presente**. "
   ]
  },
  {
   "cell_type": "markdown",
   "metadata": {},
   "source": [
    "### 2.2.2. Principio de consistencia\n",
    "<a id='principio_consistencia'></a>"
   ]
  },
  {
   "cell_type": "markdown",
   "metadata": {},
   "source": []
  },
  {
   "cell_type": "markdown",
   "metadata": {},
   "source": [
    "### 2.2.3. Principio de covarianza general\n",
    "<a id='principio_covarianza'></a>"
   ]
  },
  {
   "cell_type": "markdown",
   "metadata": {},
   "source": [
    "Uno de los fundamentos de la relatividad es la idea que las leyes son las mismas para todos los observadores.  Esto fue formulado en su **principio de relatividad especial** y es la base para la construcción de la teoría especial de la relatividad y sus construcciones geométricas incluyendo cuadrivectores y tensores."
   ]
  },
  {
   "cell_type": "markdown",
   "metadata": {},
   "source": [
    "La teoría general de la relatividad no se podría levantar sobre un principio menos general y es por eso que ella parte del siguiente postulado:"
   ]
  },
  {
   "cell_type": "markdown",
   "metadata": {
    "label": "",
    "subtitle": "Principio de covarianza general",
    "tags": [
     "box_postulate"
    ],
    "title": "Postulado"
   },
   "source": [
    "> **Postulado: Principio de covarianza general.**<a id=''></a> Las leyes de la física son covariantes bajo  transformaciones de coordenadas generales $x^{\\mu'}$, es decir cualquier regularidad física que pueda expresarse como relaciones entre *cantidades tensoriales generales* puede elevarse a la categoría de una ley física."
   ]
  },
  {
   "cell_type": "markdown",
   "metadata": {},
   "source": [
    "En el principio de covarianza general el adjetivo *general* para referirse a las transformaciones de coordenadas y a los tensores tiene una connotación matemática muy específica."
   ]
  },
  {
   "cell_type": "markdown",
   "metadata": {},
   "source": [
    "Considere por ejemplo el caso de un sistema de referencia que esta acelerado en dirección del eje x respecto a un sistema de referencia inercial.  En el caso de la relatividad newtoniana caso las reglas de transformación entre los dos sistemas será:\n",
    "\n",
    "$$\n",
    "\\begin{array}{rcl}\n",
    "t' & = & t \\\\\n",
    "x' & = & x - u t - g t^2/2\\\\\n",
    "y' & = & y\\\\\n",
    "z' & = & z\\\\\n",
    "\\end{array}\n",
    "$$"
   ]
  },
  {
   "cell_type": "markdown",
   "metadata": {},
   "source": [
    "Estas transformaciones no son lineales, como lo eran las transformaciones de Galileo-Newton:\n",
    "\n",
    "$$\n",
    "\\frac{\\partial x'}{\\partial t}=-u-gt\n",
    "$$"
   ]
  },
  {
   "cell_type": "markdown",
   "metadata": {},
   "source": [
    "Es justamente en ese sentido que hablamos de **transformaciones generales**."
   ]
  },
  {
   "cell_type": "markdown",
   "metadata": {},
   "source": [
    "Bajo transformaciones generales de coordenadas no es posible tampoco definir sistemas de referencia globales, que cubran todo el espacio tiempo.  Esto es porque bajo estas transformaciones generales el cuadrivector posición ya no transforma de la manera que lo hacía en el caso de las transformaciones lineales de Lorentz-Einstein.\n",
    "\n",
    "$$\n",
    "x^{\\mu'} \\neq \\frac{\\partial x^{\\mu'}}{\\partial x^\\mu} x^\\mu\n",
    "$$"
   ]
  },
  {
   "cell_type": "markdown",
   "metadata": {},
   "source": [
    "Solo es posible construir sistemas de referencia locales, o en términos matemáticos, solo el intervalo sigue siendo estrictamente un tensor:\n",
    "\n",
    "$$\n",
    "\\mathrm{d}x^{\\mu'} = \\frac{\\partial x^{\\mu'}}{\\partial x^\\mu} \\mathrm{d}x^\\mu\n",
    "$$\n",
    "que podemos escribir también como:\n",
    "\n",
    "$$\n",
    "\\mathrm{d}x^{\\mu'} = {\\cal G}^{\\mu'}_\\mu \\mathrm{d}x^\\mu\n",
    "$$\n",
    "donde la matriz ${\\cal G}^{\\mu'}_\\mu$ (que también podemos identificar como el Jacobiano de la transformación) jugará ahora el papel que en la relatividad especial jugo $\\Lambda^{\\mu'}_\\mu$, con la diferencia que esta matriz es ahora distinta en cada punto del espacio."
   ]
  },
  {
   "cell_type": "markdown",
   "metadata": {},
   "source": [
    "Justamente en términos de la nueva matriz de transformación definimos lo que llamaremos un **tensor general**, que será cualquier cantidad que transforme como lo hace el intervalo:\n",
    "\n",
    "$$\n",
    "A^{\\mu'} = {\\cal G}^{\\mu'}_\\mu A^\\mu\n",
    "$$"
   ]
  },
  {
   "cell_type": "markdown",
   "metadata": {},
   "source": [
    "Bajo transformaciones generales de coordenadas tenemos que admitir también que la métrica no será simplemente la métrica de Minkowski.  En general, el espacio-tiempo en estas condiciones tendrá una métrica general definida por:\n",
    "\n",
    "$$\n",
    "\\mathrm{d}s^2 = g_{\\mu\\nu} \\mathrm{d}x^\\mu \\mathrm{d}x^\\nu\n",
    "$$"
   ]
  },
  {
   "cell_type": "markdown",
   "metadata": {},
   "source": [
    "La cantidad $g_{\\mu\\nu}$ es en sí misma un tensor general y transforma entonces de la forma:\n",
    "\n",
    "$$\n",
    "g_{\\mu'\\nu'} = {\\cal G}^{\\mu}_{\\mu'}{\\cal G}^{\\nu}_{\\nu'} g_{\\mu\\nu}\n",
    "$$\n",
    "de modo que $\\mathrm{d}s^2$ sigue siendo una cantidad invariante bajo estas transformaciones. "
   ]
  },
  {
   "cell_type": "markdown",
   "metadata": {},
   "source": [
    "Por definición el tensor métrico es simétrico:\n",
    "\n",
    "$$\n",
    "g_{\\mu\\nu} = g_{\\nu\\mu}\n",
    "$$"
   ]
  },
  {
   "cell_type": "markdown",
   "metadata": {},
   "source": [
    "La inversa del tensor métrico se escribe como $g^{\\mu\\nu}$ y se define como:\n",
    "\n",
    "$$\n",
    "g^{\\mu\\alpha}g_{\\alpha\\nu}=\\delta^\\mu_\\nu\n",
    "$$"
   ]
  },
  {
   "cell_type": "markdown",
   "metadata": {},
   "source": [
    "### 2.2.4. Tensores generales\n",
    "<a id='tensores_generales'></a>"
   ]
  },
  {
   "cell_type": "markdown",
   "metadata": {},
   "source": [
    "Casi todo lo que dijimos en la relativiad especial sobre las cantidades tensoriales puede generalizarse cuando trabajamos con transformaciones generales de coordenadas.  A continuación se sintetizan las propiedades de los tensores generales:"
   ]
  },
  {
   "cell_type": "markdown",
   "metadata": {},
   "source": [
    "- **Reglas de transformación**:\n",
    "  $$\n",
    "  A^{\\alpha'\\beta'\\ldots}_{\\mu'\\nu'\\ldots} = \\left({\\cal G}^{\\mu'}_{\\mu}{\\cal G}^{\\nu'}_{\\nu}\\ldots\\right)\\left({\\cal G}^{\\alpha}_{\\alpha'}{\\cal G}^{\\beta}_{\\beta'}\\ldots\\right) A^{\\alpha\\beta\\ldots}_{\\mu\\nu\\ldots}\n",
    "  $$"
   ]
  },
  {
   "cell_type": "markdown",
   "metadata": {},
   "source": [
    "- **Operaciones tensoriales**: la multiplicación (interna y externa por escalares) y la suma de tensores produce también cantidades tensoriales con rango y posición de índices correspondientes.  Ejemplo:\n",
    "\n",
    "  $$\n",
    "  A^\\alpha_{\\mu\\nu}= k B^\\alpha C_\\mu D_\\nu + E^\\alpha_{\\mu\\nu}\n",
    "  $$"
   ]
  },
  {
   "cell_type": "markdown",
   "metadata": {},
   "source": [
    "- **Subida y bajada de índices**:  Las operaciones de un tensor con la métrica son de suma importancia.  Las componentes covariantes del tensor se definen por:\n",
    "\n",
    "  $$\n",
    "  A_\\nu = g_{\\mu\\nu} A^\\mu\n",
    "  $$\n",
    "  \n",
    "  A esta operación se la llama también \"bajar un índice\" y aplica para cualquier tensor:\n",
    "  \n",
    "  $$\n",
    "  {A^\\mu}_\\nu = g_{\\alpha\\nu} A^{\\mu\\alpha}\n",
    "  $$\n",
    "  \n",
    "  Usando esta propiedad podemos mostrar que:\n",
    "  \n",
    "  $$\n",
    "  g^{\\mu\\alpha}g_{\\alpha\\nu}=g^\\mu_\\nu=\\delta^\\mu_\\nu\n",
    "  $$"
   ]
  },
  {
   "cell_type": "markdown",
   "metadata": {},
   "source": [
    "- **Contracción de índices**:  Cuando en un tensor se utilizan los mismos indices se realiza lo que se conoce como una contracción, que equivale a una multiplicación por el tensor métrico\n",
    "\n",
    "  $$\n",
    "  A_\\nu = {B^{\\mu}}_{\\mu\\nu} = g^{\\mu\\alpha}B_{\\alpha\\mu\\nu} \n",
    "  $$"
   ]
  },
  {
   "cell_type": "markdown",
   "metadata": {
    "tags": [
     "footnote"
    ]
   },
   "source": [
    "**NOTAS AL PIE:**\n",
    "\n",
    "<a id='notaspie_1'></a>\n",
    "1. La independencia explícita no implica que en realidad haya una dependencia implícita en tanto un cuerpo modifica la posición y movimiento de los cuerpos que lo atraen gravitacionalmente, cambiando a su vez su propia aceleración.  Este efecto será mayor en tanto mayor sea su masa.  Es decir, la aceleración gravitacional de un cuerpo es implícitamente depeniente de su masa.\n",
    "\n"
   ]
  },
  {
   "cell_type": "markdown",
   "metadata": {
    "tags": [
     "navigation"
    ]
   },
   "source": [
    "[Indice](index.ipynb) | Previo: [RelatividadGeneral](02.00.00.00.RelatividadGeneral.ipynb) | Siguiente: [RelatividadGeneral.TransporteParalelo](02.02.00.00.RelatividadGeneral.TransporteParalelo.ipynb)"
   ]
  }
 ],
 "metadata": {
  "celltoolbar": "Tags",
  "kernelspec": {
   "display_name": "Python 3",
   "language": "python",
   "name": "python3"
  },
  "language_info": {
   "codemirror_mode": {
    "name": "ipython",
    "version": 3
   },
   "file_extension": ".py",
   "mimetype": "text/x-python",
   "name": "python",
   "nbconvert_exporter": "python",
   "pygments_lexer": "ipython3",
   "version": "3.6.8"
  }
 },
 "nbformat": 4,
 "nbformat_minor": 2
}
