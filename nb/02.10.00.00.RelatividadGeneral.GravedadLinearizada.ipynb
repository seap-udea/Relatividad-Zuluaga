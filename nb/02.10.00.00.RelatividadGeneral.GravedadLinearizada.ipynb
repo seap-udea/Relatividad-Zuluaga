{
 "cells": [
  {
   "cell_type": "markdown",
   "metadata": {
    "tags": [
     "navigation"
    ]
   },
   "source": [
    "[Indice](index.ipynb) | Previo: [RelatividadGeneral.EcuacionCampoMetrico](02.09.00.00.RelatividadGeneral.EcuacionCampoMetrico.ipynb) | Siguiente: [RelatividadGeneral.GravedadLinearizada.EcuacionDeCampo](02.10.01.00.RelatividadGeneral.GravedadLinearizada.EcuacionDeCampo.ipynb)"
   ]
  },
  {
   "cell_type": "markdown",
   "metadata": {},
   "source": [
    "## 2.13. Gravedad linearizada\n",
    "<a id='gravedad_linearizada'></a>"
   ]
  },
  {
   "cell_type": "markdown",
   "metadata": {},
   "source": [
    "La teoría general de la relatividad que desarrollamos aquí\n",
    "tiene una gran generalidad.  Excepto por los casos en los que estudiamos situaciones donde los campos gravitacionales eran muy pequeños, especialmente con el propósito de utilizar el principio de consistencia, los resultados obtenidos aplican para cualquier campo.  Para estudiar campos gravitacionales débiles, como los producidos por planetas y estrellas o aquellos en las ondas gravitacionales, vamos a asumir que el espacio-tiempo es plano, excepto en la onda, y que la onda misma tiene una amplitud muy pequeña.  La teoría resultante se conoce como gravedad linearizada."
   ]
  },
  {
   "cell_type": "markdown",
   "metadata": {},
   "source": [
    "La métrica de un espacio-tiempo así tiene la forma:\n",
    "\n",
    "$$\n",
    "g_{\\mu\\nu}=\\eta_{\\mu\\nu}+h_{\\mu\\nu}(x^\\alpha)\n",
    "$$\n",
    "donde $|h_{\\mu\\nu}(x^\\alpha)|\\ll 1$ es una perturbación a la métrica del espacio-tiempo plano."
   ]
  },
  {
   "cell_type": "markdown",
   "metadata": {},
   "source": [
    "Otra manera de expresar la condición anterior es suponiendo que podemos escribir $h_{\\mu\\nu}$ en términos de funciones convencionales $H_{\\mu\\nu}$ tal que:\n",
    "\n",
    "$$\n",
    "h_{\\mu\\nu}=\\epsilon H_{\\mu\\nu}\n",
    "$$\n",
    "con $\\epsilon\\ll 1$.  "
   ]
  },
  {
   "cell_type": "markdown",
   "metadata": {},
   "source": [
    "Asumiremos también que las derivadas de $h_{\\mu\\nu}$, $h_{\\mu\\nu,\\alpha}$ son del mismo orden que $\\epsilon$ y por lo tanto son muy pequeña."
   ]
  },
  {
   "cell_type": "markdown",
   "metadata": {},
   "source": [
    "La gravedad linearizada se obtiene cuando partiendo de estas suposiciones se deducen las ecuaciones de la relatividad general eliminando todos los términos proporcionales a $\\epsilon^2$. "
   ]
  },
  {
   "cell_type": "markdown",
   "metadata": {},
   "source": [
    "### 2.13.1. Inversa de la métrica linearizada\n",
    "<a id='inversa_metrica_linearizada'></a>"
   ]
  },
  {
   "cell_type": "markdown",
   "metadata": {},
   "source": [
    "El primer cálculo interesante en gravedad linearizada se hace para obtener la inversa de la métrica.  Suponemos que se puede escribir de la forma.\n",
    "\n",
    "$$\n",
    "g^{\\mu\\nu}=\\eta^{\\mu\\nu}+b^{\\mu\\nu}\n",
    "$$\n",
    "tal que $g^{\\mu\\alpha}g_{\\alpha\\nu}=\\delta^\\mu_\\nu$."
   ]
  },
  {
   "cell_type": "markdown",
   "metadata": {},
   "source": [
    "Reemplazando queda:\n",
    "\n",
    "$$\n",
    "\\begin{array}{rcl}\n",
    "g^{\\mu\\alpha}g_{\\alpha\\nu} & = & \\eta^{\\mu\\alpha}\\eta_{\\alpha\\nu}+\\eta^{\\mu\\alpha}h_{\\alpha\\nu}+b^{\\mu\\alpha}\\eta_{\\alpha\\nu}+b^{\\mu\\alpha}h_{\\alpha\\beta}\\\\\n",
    "& \\approx & \\delta^{\\mu}_{\\nu} + \\eta^{\\mu\\alpha}h_{\\alpha\\nu}+b^{\\mu\\alpha}\\eta_{\\alpha\\nu}\n",
    "\\end{array}\n",
    "$$\n",
    "de modo que $b$ debe cumplir la condición:\n",
    "\n",
    "$$\n",
    "b^{\\mu\\alpha}\\eta_{\\alpha\\nu}=-\\eta^{\\mu\\alpha}h_{\\alpha\\nu}\n",
    "$$"
   ]
  },
  {
   "cell_type": "markdown",
   "metadata": {},
   "source": [
    "Si multiplicamos por $\\eta^{\\lambda\\nu}$ a ambos lados obtenemos:\n",
    "\n",
    "$$\n",
    "b^{\\mu\\lambda}=-h^{\\mu\\lambda}\n",
    "$$"
   ]
  },
  {
   "cell_type": "markdown",
   "metadata": {},
   "source": [
    "Concluímos entonces que:\n",
    "\n",
    "$$\n",
    "g^{\\mu\\nu}\\approx\\eta^{\\mu\\nu}-h^{\\mu\\nu}\n",
    "$$"
   ]
  },
  {
   "cell_type": "markdown",
   "metadata": {},
   "source": [
    "#### 2.13.1.1. Símbolo de Christoffel linearizado\n",
    "<a id='simbolo_christoffel_linearizado'></a>"
   ]
  },
  {
   "cell_type": "markdown",
   "metadata": {},
   "source": [
    "Los símbolos de Christoffel se definen como:\n",
    "\n",
    "$$\n",
    "\\Gamma^\\lambda_{\\mu\\nu}=\\frac{1}{2}g^{\\lambda\\rho}(g_{\\rho\\mu,\\nu}-\n",
    "g_{\\mu\\nu,\\rho}+g_{\\nu\\rho,\\mu})\n",
    "$$"
   ]
  },
  {
   "cell_type": "markdown",
   "metadata": {},
   "source": [
    "Es claro que para espacio-tiempo plano $\\eta_{\\mu\\nu}$ los símbolos de Christoffel son cero. Sin embargo en una métrica linearizada los símbolos de Christoffel tienen un pequeño valor:\n",
    "\n",
    "$$\n",
    "\\begin{array}{rcl}\n",
    "\\Gamma^\\lambda_{\\mu\\nu} & = & \\frac{1}{2}(\\eta^{\\lambda\\rho}+h^{\\lambda\\rho})(h_{\\rho\\mu,\\nu}-\n",
    "h_{\\mu\\nu,\\rho}+h_{\\nu\\rho,\\mu})\\\\\n",
    "\\delta\\Gamma^\\lambda_{\\mu\\nu} & \\approx & \\frac{1}{2}\\eta^{\\lambda\\rho}(h_{\\rho\\mu,\\nu}-\n",
    "h_{\\mu\\nu,\\rho}+h_{\\nu\\rho,\\mu})\n",
    "\\end{array}\n",
    "$$"
   ]
  },
  {
   "cell_type": "markdown",
   "metadata": {},
   "source": [
    "Nótese que hemos usado la notación $\\delta \\Gamma$ para dar a entender que estamos lidiando con una perturbación (sobre 0) del símbolo de Christoffel.  Aquí podemos ver que $\\delta\\Gamma$ también es una cantidad proporcional a $\\epsilon$."
   ]
  },
  {
   "cell_type": "markdown",
   "metadata": {},
   "source": [
    "El hecho que $\\eta$ sea diagonal nos permite también escribir:\n",
    "\n",
    "$$\n",
    "\\delta\\Gamma^\\lambda_{\\mu\\nu} \\approx \\frac{1}{2}\\eta^{\\lambda\\lambda}(h_{\\lambda\\mu,\\nu}-\n",
    "h_{\\mu\\nu,\\lambda}+h_{\\nu\\lambda,\\mu})\n",
    "$$"
   ]
  },
  {
   "cell_type": "markdown",
   "metadata": {},
   "source": [
    "### 2.13.2. El tensor de Riemann linearizado\n",
    "<a id='riemann_gravedad_linearizado'></a>"
   ]
  },
  {
   "cell_type": "markdown",
   "metadata": {},
   "source": [
    "El tensor de Riemann se define como:\n",
    "\n",
    "$$\n",
    "{R^{\\rho}}_{\\sigma\\mu\\nu} = \\Gamma^\\rho_{\\sigma\\mu,\\nu} - \\Gamma^\\rho_{\\sigma\\nu,\\mu}  + \\Gamma_{\\sigma\\mu}^\\delta \\Gamma_{\\nu\\delta}^\\rho - \\Gamma_{\\sigma\\nu}^\\delta \\Gamma_{\\mu\\delta}^\\rho \n",
    "$$"
   ]
  },
  {
   "cell_type": "markdown",
   "metadata": {},
   "source": [
    "De nuevo, para el espacio tiempo plano todas las componentes de este tensor son cero.  En espacio tiempo linearizado nos quedan también una versión perturbada que a primer orden y en término de las perturbaciones en los símbolos de Christoffel se escriben:\n",
    "\n",
    "$$\n",
    "{\\delta R^{\\rho}}_{\\sigma\\mu\\nu} \\approx \\delta \\Gamma^\\rho_{\\sigma\\mu,\\nu} - \\delta \\Gamma^\\rho_{\\sigma\\nu,\\mu}  \n",
    "$$"
   ]
  },
  {
   "cell_type": "markdown",
   "metadata": {},
   "source": [
    "Alternativamente:\n",
    "\n",
    "\\begin{eqnarray}\n",
    "\\nonumber\n",
    "R_{\\lambda\\mu\\nu\\kappa} & = & -\\frac{1}{2}(g_{\\mu\\nu,\\lambda,\\kappa}-g_{\\nu\\lambda,\\kappa,\\mu}+g_{\\lambda\\kappa,\\mu,\\nu}-g_{\\kappa\\mu,\\nu,\\lambda})+\\\\\n",
    "\\nonumber\n",
    "& & +g_{\\sigma\\xi}(\\Gamma^\\sigma_{\\mu\\kappa}\\Gamma^\\xi_{\\lambda\\nu}-\\Gamma^\\sigma_{\\mu\\nu}\\Gamma^\\xi_{\\lambda\\kappa})\n",
    "\\end{eqnarray}"
   ]
  },
  {
   "cell_type": "markdown",
   "metadata": {},
   "source": [
    "Eliminando los términos cuadráticos en $\\epsilon$, el tensor de Riemann queda:\n",
    "\n",
    "$$\n",
    "\\delta R_{\\lambda\\mu\\nu\\kappa} \\approx -\\frac{1}{2}(h_{\\mu\\nu,\\lambda,\\kappa}-h_{\\nu\\lambda,\\kappa,\\mu}+h_{\\lambda\\kappa,\\mu,\\nu}-h_{\\kappa\\mu,\\nu,\\lambda})\n",
    "$$"
   ]
  },
  {
   "cell_type": "markdown",
   "metadata": {},
   "source": [
    "#### 2.13.2.1. El tensor de Ricci linearizado\n",
    "<a id='riemann_linearizado'></a>"
   ]
  },
  {
   "cell_type": "markdown",
   "metadata": {},
   "source": [
    "Por definición el tensor de Ricci es:\n",
    "\n",
    "$$\n",
    "R_{\\mu\\nu}=g^{\\lambda\\alpha} R_{\\lambda\\mu\\nu\\alpha}\\\\ \n",
    "$$"
   ]
  },
  {
   "cell_type": "markdown",
   "metadata": {},
   "source": [
    "De modo que la versión linearizada será \n",
    "\n",
    "$$\n",
    "\\begin{array}{rcl}\n",
    "\\delta R_{\\mu\\nu} & \\approx &  -\\frac{1}{2}\\eta^{\\lambda\\alpha}(h_{\\mu\\nu,\\lambda,\\alpha}-h_{\\nu\\lambda,\\alpha,\\mu}+h_{\\lambda\\alpha,\\mu,\\nu}-h_{\\alpha\\mu,\\nu,\\lambda})\\\\\n",
    "& \\approx &  -\\frac{1}{2}\\eta^{\\lambda\\lambda}(h_{\\mu\\nu,\\lambda,\\lambda}-h_{\\nu\\lambda,\\lambda,\\mu}+h_{\\lambda\\lambda,\\mu,\\nu}-h_{\\lambda\\mu,\\nu,\\lambda})\n",
    "\\end{array}\n",
    "$$"
   ]
  },
  {
   "cell_type": "markdown",
   "metadata": {},
   "source": [
    "Aquí podemos reconocer algunas propiedades y simetrías interesantes."
   ]
  },
  {
   "cell_type": "markdown",
   "metadata": {},
   "source": [
    "En primer lugar la operación $\\eta^{\\lambda\\lambda} h_{\\mu\\nu,\\lambda,\\lambda}$ se puede escribir como:\n",
    "\n",
    "$$\n",
    "\\eta^{\\lambda\\lambda} h_{\\mu\\nu,\\lambda,\\lambda}=\\frac{1}{c^2}\\frac{\\partial^2 h_{\\mu\\nu}}{\\partial t^2}-\\nabla^2 h_{\\mu\\nu}=\\square h_{\\mu\\nu}\n",
    "$$\n",
    "que es lo que nosotros llamamos el *D'Alambertiano de $h_{\\mu\\nu}$*."
   ]
  },
  {
   "cell_type": "markdown",
   "metadata": {},
   "source": [
    "De otro lado los términos restantes de la asuma se pueden escribir como:\n",
    "\n",
    "$$\n",
    "-\\eta^{\\lambda\\lambda}(-h_{\\nu\\lambda,\\lambda,\\mu}+h_{\\lambda\\lambda,\\mu,\\nu}-h_{\\lambda\\mu,\\nu,\\lambda})\n",
    "={h_{\\nu}^\\lambda}_{,\\lambda,\\mu}-\\frac{1}{2}h^\\lambda_{\\lambda,\\mu,\\nu}-\\frac{1}{2}h^\\lambda_{\\lambda,\\mu,\\nu}+h^\\lambda_{\\mu,\\nu,\\lambda}\n",
    "$$\n",
    "nótese que dividimos el término $h_{\\lambda\\lambda,\\mu,\\nu}$ en dos para poder escribir dos términos muy parecidos uno de otro."
   ]
  },
  {
   "cell_type": "markdown",
   "metadata": {},
   "source": [
    "Si definimos:\n",
    "\n",
    "$$\n",
    "V_\\mu=h^\\lambda_{\\mu,\\lambda}-\\frac{1}{2}h^\\lambda_{\\lambda,\\mu}\n",
    "$$"
   ]
  },
  {
   "cell_type": "markdown",
   "metadata": {},
   "source": [
    "El tensor de Ricci se escribirá:\n",
    "\n",
    "$$\n",
    "\\delta R_{\\mu\\nu} \\approx \\frac{1}{2}(-\\Box h_{\\mu\\nu}+V_{\\mu,\\nu}+V_{\\nu,\\mu})\n",
    "$$"
   ]
  },
  {
   "cell_type": "markdown",
   "metadata": {},
   "source": [
    "### 2.13.3. El tensor de Einstein linearizado\n",
    "<a id='einstein_linearizado'></a>"
   ]
  },
  {
   "cell_type": "markdown",
   "metadata": {},
   "source": [
    "El tensor de Einstein se define como:\n",
    "\n",
    "$$\n",
    "G_{\\mu\\nu}=R_{\\mu\\nu}-\\frac{1}{2}g_{\\mu\\nu} R\n",
    "$$"
   ]
  },
  {
   "cell_type": "markdown",
   "metadata": {},
   "source": [
    "Este tipo de tensores se conocen también en relatividad como tensores de **traza invertida** (*trace-reversed* en inglés) porque:\n",
    "\n",
    "$$\n",
    "G=g^{\\mu\\nu}G_{\\mu\\nu}=g^{\\mu\\nu}R_{\\mu\\nu}-\\frac{1}{2}g^{\\mu\\nu}g_{\\mu\\nu} R=-R\n",
    "$$\n",
    "de modo que en lo sucesivo diremos que $G_{\\mu\\nu}$ es la *traza invertida* del tensor de Ricci."
   ]
  },
  {
   "cell_type": "markdown",
   "metadata": {},
   "source": [
    "Aplicando la definición obtenemos:\n",
    "\n",
    "$$\n",
    "\\delta G_{\\mu \\nu}=-\\frac{1}{2} \\square h_{\\mu \\nu}+\\frac{1}{2}\\left(\\partial_{\\mu} V_{\\nu}+\\partial_{\\nu} V_{\\mu}\\right)+\\frac{1}{4} \\eta_{\\mu\\nu} \\square h-\\frac{1}{4} \\eta_{\\mu \\nu} \\eta^{\\alpha \\beta}\\left(\\partial_{\\alpha} V_{\\beta}+\\partial_{\\beta} V_{\\alpha}\\right)\n",
    "$$"
   ]
  },
  {
   "cell_type": "markdown",
   "metadata": {},
   "source": [
    "Donde $h=h^\\alpha_\\beta$ es la traza de la perturbación."
   ]
  },
  {
   "cell_type": "markdown",
   "metadata": {},
   "source": [
    "### 2.13.4. El tensor momentum-energía\n",
    "<a id='Tmunu_linearizado'></a>"
   ]
  },
  {
   "cell_type": "markdown",
   "metadata": {},
   "source": [
    "Finalmente el tensor de momentum energía será:\n",
    "\n",
    "\\begin{eqnarray}\n",
    "\\nonumber\n",
    "T_{\\mu\\nu} & = & g_{\\alpha\\mu}g_{\\beta\\nu} T^{\\alpha\\beta}\\\\\n",
    "& \\approx & (\\eta_{\\alpha\\mu}\\eta_{\\beta\\nu} +\\eta_{\\alpha\\mu}h_{\\beta\\nu} +h_{\\alpha\\mu}\\eta_{\\beta\\nu}) T^{\\alpha\\beta}\\\\\n",
    "\\end{eqnarray}"
   ]
  },
  {
   "cell_type": "markdown",
   "metadata": {},
   "source": [
    "### La métrica de Newton y la ecuación de Poisson"
   ]
  },
  {
   "cell_type": "markdown",
   "metadata": {},
   "source": [
    "Para aplicar el principio de consistencia asumamos que tenemos una nube de polvo, $T^{00}=\\mathrm{diag}(\\rho_0 c^2,0,0,0)$ y la métrica de Newton, $h_{00}=2\\Phi/c^2$, $h_{ij}=h_{i0}=0$."
   ]
  },
  {
   "cell_type": "markdown",
   "metadata": {},
   "source": [
    "Tomemos la ecuación $00$:\n",
    "\n",
    "$$\n",
    "R_{00}=\\frac{8\\pi G}{c^4}\\left(T_{00}-\\frac{1}{2}g_{00}T\\right)\n",
    "$$"
   ]
  },
  {
   "cell_type": "markdown",
   "metadata": {},
   "source": [
    "La componente $T_{00}$ será:\n",
    "\n",
    "$$\n",
    "T_{00}=g_{0\\mu}g_{0\\nu}T^{\\mu\\nu}\\approx (g_{00})^2 T^{00}\n",
    "$$"
   ]
  },
  {
   "cell_type": "markdown",
   "metadata": {},
   "source": [
    "La traza de $T$ sera:\n",
    "\n",
    "$$\n",
    "T=T^{\\mu}_{\\mu}=g_{\\mu\\nu}T^{\\mu\\nu}=g_{00}T^{00}\n",
    "$$\n"
   ]
  },
  {
   "cell_type": "markdown",
   "metadata": {},
   "source": [
    "Por otro lado el tensor de Ricci $R_{\\mu\\nu}$ linearizado:\n",
    "\n",
    "$$\n",
    "\\delta R_{\\mu\\nu}\\approx-\\frac{1}{2}\\eta^{\\alpha\\alpha}(h_{\\mu\\nu,\\alpha,\\alpha}-h_{\\nu\\alpha,\\alpha,\\mu}+h_{\\alpha\\alpha,\\mu,\\nu}-h_{\\alpha\\mu,\\nu,\\alpha})\n",
    "$$"
   ]
  },
  {
   "cell_type": "markdown",
   "metadata": {},
   "source": [
    "Como la métrica es estática, las únicas componentes no nulas del tensor son:\n",
    "\n",
    "\\begin{eqnarray}\n",
    "\\delta R_{00} \\approx -\\frac{1}{2}\\eta^{ij}h_{00,i,j} = \\frac{1}{c^2}\\nabla^2 \\Phi\\\\\n",
    "\\end{eqnarray}\n"
   ]
  },
  {
   "cell_type": "markdown",
   "metadata": {},
   "source": [
    "Reemplazando en la ecuación tenemos:\n",
    "\n",
    "$$\n",
    "\\frac{1}{c^2}\\nabla^2 \\Phi=\\frac{8\\pi G}{c^4}\\left[(g_{00})^2 \\rho_0 c^2-\\frac{1}{2}(g_{00})^2 \\rho_0 c^2\\right]\n",
    "$$"
   ]
  },
  {
   "cell_type": "markdown",
   "metadata": {},
   "source": [
    "Haciendo $(g_{00})^2=(1+2\\Phi/c^2)^2\\approx 1$, la ecuación queda finalmente como:\n",
    "\n",
    "$$\n",
    "\\nabla^2 \\Phi=4\\pi G\\rho_0\n",
    "$$"
   ]
  },
  {
   "cell_type": "markdown",
   "metadata": {},
   "source": [
    "Nótese que si hubiéramos dejado la constante $k$ libre en la ecuación de campo el resultado habría sido na ecuación distinta.  De allí que concluyamos que por el principio de consistencia $k=1$."
   ]
  },
  {
   "cell_type": "markdown",
   "metadata": {},
   "source": [
    "Para un fluído perfecto $T^{\\mu\\nu}=\\mathrm{diag}(\\rho_0 c^2,p,p,p)$ donde $p$ es la presión.  En la aproximación de campo débil la traza del tensor de momentum energía es:\n",
    "\n",
    "$$\n",
    "T=g_{\\mu\\nu}T^{\\mu\\nu}\\approx T^{00}-T^{11}-T^{22}-T^{33} = \\rho_0 c^2 - 3 p\n",
    "$$"
   ]
  },
  {
   "cell_type": "markdown",
   "metadata": {},
   "source": [
    "Por otro lado:\n",
    "\n",
    "$$\n",
    "T_{00}=g_{0\\mu}g_{0\\nu} T^{\\mu\\nu}\\approx(g_{00})^2 T^{00}\\approx T^{00}\n",
    "$$"
   ]
  },
  {
   "cell_type": "markdown",
   "metadata": {},
   "source": [
    "Mientras que la componente $00$ del tensor de Riemann linearizado habíamos demostrado es igual a:\n",
    "\n",
    "$$\n",
    "\\delta R_{00} \\approx \\frac{1}{c^2}\\nabla^2 \\Phi\\\\\n",
    "$$"
   ]
  },
  {
   "cell_type": "markdown",
   "metadata": {},
   "source": [
    "Reemplazando en la ecuación de campo obtenemos una nueva versión de la ecuación de Poisson:\n",
    "\n",
    "$$\n",
    "\\nabla^2 \\Phi = 4\\pi G \\left(\\rho+\\frac{3p}{c^2}\\right)\n",
    "$$"
   ]
  },
  {
   "cell_type": "markdown",
   "metadata": {},
   "source": [
    "Esta es una predicción nueva de la relatividad general: la presión también produce gravitación."
   ]
  },
  {
   "cell_type": "markdown",
   "metadata": {
    "tags": [
     "navigation"
    ]
   },
   "source": [
    "[Indice](index.ipynb) | Previo: [RelatividadGeneral.EcuacionCampoMetrico](02.09.00.00.RelatividadGeneral.EcuacionCampoMetrico.ipynb) | Siguiente: [RelatividadGeneral.GravedadLinearizada.EcuacionDeCampo](02.10.01.00.RelatividadGeneral.GravedadLinearizada.EcuacionDeCampo.ipynb)"
   ]
  }
 ],
 "metadata": {
  "celltoolbar": "Tags",
  "kernelspec": {
   "display_name": "Python 3",
   "language": "python",
   "name": "python3"
  },
  "language_info": {
   "codemirror_mode": {
    "name": "ipython",
    "version": 3
   },
   "file_extension": ".py",
   "mimetype": "text/x-python",
   "name": "python",
   "nbconvert_exporter": "python",
   "pygments_lexer": "ipython3",
   "version": "3.6.8"
  }
 },
 "nbformat": 4,
 "nbformat_minor": 2
}
