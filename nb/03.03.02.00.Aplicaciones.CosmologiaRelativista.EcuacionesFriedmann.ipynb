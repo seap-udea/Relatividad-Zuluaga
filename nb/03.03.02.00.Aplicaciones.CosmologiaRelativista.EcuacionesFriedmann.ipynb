{
 "cells": [
  {
   "cell_type": "markdown",
   "metadata": {
    "tags": [
     "navigation"
    ]
   },
   "source": [
    "[Indice](index.ipynb) | Previo: [Aplicaciones.CosmologiaRelativista.MetricaUniverso](03.03.01.00.Aplicaciones.CosmologiaRelativista.MetricaUniverso.ipynb) | Siguiente: [Aplicaciones.CosmologiaRelativista.DensidadCosmica](03.03.03.00.Aplicaciones.CosmologiaRelativista.DensidadCosmica.ipynb)"
   ]
  },
  {
   "cell_type": "markdown",
   "metadata": {},
   "source": [
    "### 3.3.6. Las ecuaciones de Friedmann\n",
    "<a id='ecuacion_friedmann'></a>"
   ]
  },
  {
   "cell_type": "markdown",
   "metadata": {},
   "source": [
    "Nótese que hasta ahora no hemos usado en ningún momento las ecuaciones de campo.  ¿Por qué?.  Básicamente hemos construído la métrica sobre argumentos y principios de simetría.  Sin embargo los parámetros libres de la métrica, a saber la función $a(t)$ y el parámetro $k$ solo podrán determinarse si usamos las ecuaciones de campo."
   ]
  },
  {
   "cell_type": "markdown",
   "metadata": {},
   "source": [
    "Primero necesitamos asumir un tensor de momentum-energía para el Universo.  Vamos a asumir un fluído perfecto, para el cuál el tensor de momentum energía es el que habíamos escrito en la sección correspondiente:\n",
    "\n",
    "$$\n",
    "T^{\\mu\\nu}_\\mathrm{perfecto}=\\left(\\rho_0+\\frac{p_0}{c^2}\\right)U^\\mu U^\\nu-p_0 g^{\\mu\\nu}\n",
    "$$\n",
    "donde $\\rho_0$ y $p_0$ son la densidad y presiones propias del fluído."
   ]
  },
  {
   "cell_type": "markdown",
   "metadata": {},
   "source": [
    "Si nos paramos en el sistema de referencia del observador fundamental donde el fluído esta en reposo ($U^t=c,U^i=0$), pero su densidad propia $\\rho_0(t)$ puede cambiar en el tiempo, lo mismo que su presión $p(t)$, las componentes no nulas del tensor momentum-energía serán entonces:\n",
    "\n",
    "$$\n",
    "T_{00}=\\rho_0(t)c^2 g_{00},\\;T_{ii}=-p_0 g_{ii}\n",
    "$$"
   ]
  },
  {
   "cell_type": "markdown",
   "metadata": {},
   "source": [
    "Ahora necesitamos calcular las componentes de los tensores relevantes.  Para ello usamos el programa en Wolfram Lab poniendo como coeficientes métricos:\n",
    "\n",
    "$$\n",
    "g_{\\mu\\nu}\n",
    "=\\left(\n",
    "\\begin{array}{cccc}\n",
    "c^2 & 0 & 0 & 0 \\\\\n",
    "0 & -a(t)^2(1-kr^2)^{-1} & 0 & 0 \\\\\n",
    "0 & 0 & -a(t)^2r^2 & 0 \\\\\n",
    "0 & 0 & 0 & -a(t)^2 r^2\\sin^2\\theta \\\\\n",
    "\\end{array}\n",
    "\\right)\n",
    "$$\n"
   ]
  },
  {
   "cell_type": "markdown",
   "metadata": {},
   "source": [
    "El tensor que nos interesa es el tensor de Riemann y el escalar de Ricci. "
   ]
  },
  {
   "cell_type": "markdown",
   "metadata": {},
   "source": [
    "Las únicas componentes distintas de cero del tensor de Ricci son:\n",
    "\n",
    "\\begin{eqnarray}\n",
    "\\nonumber\n",
    "R_{tt} & = & -3\\frac{\\ddot{a}}{a}\\\\\n",
    "\\nonumber\n",
    "c^2 R_{rr} & = & \\frac{2c^2 k}{1-kr^2}+\\frac{2\\dot{a}^2}{1-kr^2}+\\frac{a\\ddot{a}}{1-kr^2}\\\\\n",
    "\\nonumber\n",
    "c^2 R_{\\theta\\theta} & = & r^2 a\\ddot{a}+2r^2\\dot{a}^2+2c^2 k r^2\\\\\n",
    "\\nonumber\n",
    "c^2 R_{\\phi\\phi} & = & r^2 \\sin^2\\theta a\\ddot{a}+2r^2\\sin^2\\theta \\dot{a}^2+2c^2 k r^2\\sin^2\\theta\\\\\n",
    "\\end{eqnarray}"
   ]
  },
  {
   "cell_type": "markdown",
   "metadata": {},
   "source": [
    "Este último resultado se puede escribir como:\n",
    "\n",
    "$$\n",
    "c^2 R_{ii}=-\\frac{g_{ii}}{a^2}(a\\ddot{a}+2\\dot{a}^2+2c^2k)\n",
    "$$"
   ]
  },
  {
   "cell_type": "markdown",
   "metadata": {},
   "source": [
    "Mientras que el escalar de curvatura es:\n",
    "\n",
    "$$\n",
    "c^2R=-6 c^2 \\frac{k}{a^2}-6\\left(\\frac{\\dot{a}}{a}\\right)^2-6\\frac{\\ddot{a}}{a}\n",
    "$$"
   ]
  },
  {
   "cell_type": "markdown",
   "metadata": {},
   "source": [
    "La ecuación de campo es:"
   ]
  },
  {
   "cell_type": "markdown",
   "metadata": {},
   "source": [
    "$$\n",
    "R_{\\mu\\nu}-\\frac{1}{2}g_{\\mu\\nu} R-\\Lambda g_{\\mu\\nu}=\\frac{8\\pi G}{c^4}T_{\\mu\\nu}\n",
    "$$"
   ]
  },
  {
   "cell_type": "markdown",
   "metadata": {},
   "source": [
    "Dado que solo las componentes a lo largo de la diagonal del tensor de momentum energía son distintas de cero:\n",
    "\n",
    "\\begin{eqnarray}\n",
    "R_{tt}-\\frac{1}{2}g_{tt} R-\\Lambda g_{tt} & = & \\frac{8\\pi G}{c^4}T_{tt}\\\\\n",
    "R_{ii}-\\frac{1}{2}g_{ii} R-\\Lambda g_{ii} & = & \\frac{8\\pi G}{c^4}T_{ii}\n",
    "\\end{eqnarray}"
   ]
  },
  {
   "cell_type": "markdown",
   "metadata": {},
   "source": [
    "La componente temporal se puede escribir como:\n",
    "\n",
    "$$\n",
    "-3\\frac{\\ddot{a}}{a}-\\frac{1}{2}\\left(-6 c^2 \\frac{k}{a^2}-6\\left(\\frac{\\dot{a}}{a}\\right)^2-6\\frac{\\ddot{a}}{a}\\right)-\\Lambda c^2=\\frac{8\\pi G}{c^4}\\rho_0 c^2 c^2\n",
    "$$"
   ]
  },
  {
   "cell_type": "markdown",
   "metadata": {},
   "source": [
    "Que se puede escribir como:\n",
    "\n",
    "$$\n",
    "\\left(\\frac{\\dot{a}}{a}\\right)^2=\\frac{8\\pi G}{3}\\rho_0(t)+\\frac{\\Lambda c^2}{3}-\\frac{kc^2}{a^2}\n",
    "$$"
   ]
  },
  {
   "cell_type": "markdown",
   "metadata": {},
   "source": [
    "Por otro lado la componente espacial es:\n",
    "\n",
    "$$\n",
    "-\\frac{g_{ii}}{a^2c^2}(a\\ddot{a}+2\\dot{a}^2+2c^2k)-\\frac{1}{2c^2}Rg_{ii}-\\Lambda g_{ii} = \\frac{8\\pi G}{c^4}(-p_0 g_{ii})\n",
    "$$"
   ]
  },
  {
   "cell_type": "markdown",
   "metadata": {},
   "source": [
    "Vemos que el resultado es la misma ecuación independientemente de la componente espacial considerada."
   ]
  },
  {
   "cell_type": "markdown",
   "metadata": {},
   "source": [
    "La ecuación resultante es:\n",
    "$$\n",
    "-\\frac{\\ddot{a}}{a}-2\\left(\\frac{\\dot{a}}{a}\\right)^2-2\\frac{kc^2}{a^2}-\\frac{1}{2}\\left(-6 c^2 \\frac{k}{a^2}-6\\left(\\frac{\\dot{a}}{a}\\right)^2-6\\frac{\\ddot{a}}{a}\\right)-\\Lambda c^2=-\\frac{8\\pi G}{c^2}p_0\n",
    "$$"
   ]
  },
  {
   "cell_type": "markdown",
   "metadata": {},
   "source": [
    "Que se puede simplificar como:\n",
    "\n",
    "$$\n",
    "\\frac{\\ddot{a}}{a}+\\frac{1}{2}\\left(\\frac{\\dot{a}}{a}\\right)^2=-\\frac{4\\pi G}{c^2} p_0+\\frac{\\Lambda c^2}{2}-\\frac{kc^2}{2a^2}\n",
    "$$"
   ]
  },
  {
   "cell_type": "markdown",
   "metadata": {},
   "source": [
    "Nótese que es posible combinar la ecuación inicial con esta ecuación para obtener una ecuación más simple:\n",
    "\n",
    "$$\n",
    "\\frac{\\ddot{a}}{a}=-\\frac{4\\pi G}{3}\\left[\\rho_0(t)+\\frac{3p_0(t)}{c^2}\\right]+\\frac{\\Lambda c^2}{3}\n",
    "$$"
   ]
  },
  {
   "cell_type": "markdown",
   "metadata": {},
   "source": [
    "### 3.3.7. El parámetro $\\Omega$\n",
    "<a id='parametro_omega'></a>"
   ]
  },
  {
   "cell_type": "markdown",
   "metadata": {},
   "source": [
    "Definamos la **tasa relativa de expansión** como:\n",
    "\n",
    "$$\n",
    "H\\equiv\\frac{\\dot{a}}{a}\n",
    "$$\n",
    "\n",
    "Esta cantidad indica en que proporción crece que el factor de escala $a(t)=S(t)R$ por unidad de tiempo.  $H$ tiene unidades de velocidad sobre tiempo o del inverso del tiempo."
   ]
  },
  {
   "cell_type": "markdown",
   "metadata": {},
   "source": [
    "Además introducimos las definiciones que habíamos hecho cuando consideramos la posibilidad que el término cosmológico funcionara como la densidad de un fluído perfecto con densidad:\n",
    "\n",
    "$$\n",
    "\\rho_\\Lambda=\\frac{\\Lambda c^2}{8\\pi G}\n",
    "$$\n",
    "y presión:\n",
    "\n",
    "$$\n",
    "p_\\Lambda=-c^2\\rho_\\Lambda=\\frac{\\Lambda c^4}{8\\pi G}\n",
    "$$"
   ]
  },
  {
   "cell_type": "markdown",
   "metadata": {},
   "source": [
    "Las ecuación de Friedmann se pueden escribir como:\n",
    "\n",
    "\\begin{eqnarray}\n",
    "\\nonumber\n",
    "H^2 & = & \\frac{8\\pi G}{3}\\rho(t)-\\frac{kc^2}{a^2}\\\\\n",
    "\\nonumber\n",
    "\\dot{H}+H^2&=&-\\frac{4\\pi G}{3}\\left[\\rho(t)+\\frac{3p(t)}{c^2}\\right]\n",
    "\\end{eqnarray}\n",
    "donde $\\rho(t)=\\rho_0(t)+\\rho_\\Lambda$ y $p(t)=p_0(t)+p_\\Lambda$ son la densidad total y la presión total, incluyendo todas las formas de masa-energía del universo y la *energía oscura*."
   ]
  },
  {
   "cell_type": "markdown",
   "metadata": {},
   "source": [
    "Una forma particularmente útil de la primera ecuación de Friedmann se puede obtener si se escribe de la forma:\n",
    "\n",
    "$$\n",
    "\\frac{kc^2}{H^2a^2}=\\frac{8\\pi G}{3H^2}\\rho(t)-1\n",
    "$$"
   ]
  },
  {
   "cell_type": "markdown",
   "metadata": {},
   "source": [
    "Como vemos todos los términos de esta ecuación son adimensionales y por lo tanto el coeficiente que acompaña la densidad debe tener unidades de inverso de densidad.  Esto nos permite introducir un importante parámetro cosmológico conocido como la **densidad crítica**:\n",
    "\n",
    "$$\n",
    "\\rho_c(t)\\equiv\\frac{3H^2}{8\\pi G}\n",
    "$$"
   ]
  },
  {
   "cell_type": "markdown",
   "metadata": {},
   "source": [
    "Nótese que la densidad crítica dependerá del parámetro de expansión que a su vez depende del tiempo en general."
   ]
  },
  {
   "cell_type": "markdown",
   "metadata": {},
   "source": [
    "Si definimos ahora el parámetro $\\Omega$ como:\n",
    "\n",
    "$$\n",
    "\\Omega(t)\\equiv\\frac{\\rho(t)}{\\rho_c(t)}\n",
    "$$\n",
    "entonces la primera ecuación de Friedmann se puede escribir como:\n",
    "\n",
    "$$\n",
    "\\frac{kc^2}{H^2a^2}=\\Omega(t)-1\n",
    "$$"
   ]
  },
  {
   "cell_type": "markdown",
   "metadata": {},
   "source": [
    "Dado que todas las cantidades que acompañan a $k$ en el lado izquierdo de la ecuación son definidas positivas, esta ecuación permite determinar el tipo de geometría que tendrán las hipersuperficies del universo, dependiendo de su contenido de materia, así:\n",
    "\n",
    "$$\n",
    "k=\n",
    "\\left\\{\n",
    "\\begin{array}{ll}\n",
    "+1 & \\mathrm{sii}\\;\\Omega(t)>1\\\\\n",
    "-1 & \\mathrm{sii}\\;\\Omega(t)<1\\\\\n",
    "0 & \\mathrm{sii}\\;\\Omega(t)=1\n",
    "\\end{array}\n",
    "\\right.\n",
    "$$"
   ]
  },
  {
   "cell_type": "markdown",
   "metadata": {},
   "source": [
    "Esto implica que la geometría del Universo depende de su contenido de materia-energía comparado con la densidad crítica. ¿Pero cuánto vale la densidad crítica?."
   ]
  },
  {
   "cell_type": "markdown",
   "metadata": {
    "tags": [
     "navigation"
    ]
   },
   "source": [
    "[Indice](index.ipynb) | Previo: [Aplicaciones.CosmologiaRelativista.MetricaUniverso](03.03.01.00.Aplicaciones.CosmologiaRelativista.MetricaUniverso.ipynb) | Siguiente: [Aplicaciones.CosmologiaRelativista.DensidadCosmica](03.03.03.00.Aplicaciones.CosmologiaRelativista.DensidadCosmica.ipynb)"
   ]
  }
 ],
 "metadata": {
  "celltoolbar": "Tags",
  "kernelspec": {
   "display_name": "Python 3",
   "language": "python",
   "name": "python3"
  },
  "language_info": {
   "codemirror_mode": {
    "name": "ipython",
    "version": 3
   },
   "file_extension": ".py",
   "mimetype": "text/x-python",
   "name": "python",
   "nbconvert_exporter": "python",
   "pygments_lexer": "ipython3",
   "version": "3.6.8"
  }
 },
 "nbformat": 4,
 "nbformat_minor": 2
}
