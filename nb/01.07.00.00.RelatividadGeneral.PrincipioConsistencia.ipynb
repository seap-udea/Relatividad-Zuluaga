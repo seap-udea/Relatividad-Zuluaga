{
 "cells": [
  {
   "cell_type": "markdown",
   "metadata": {
    "tags": [
     "navigation"
    ]
   },
   "source": [
    "[Indice](index.ipynb) | Previo: [RelatividadGeneral.Curvatura](01.06.00.00.RelatividadGeneral.Curvatura.ipynb) | Siguiente: [RelatividadGeneral.TensorDeMomentumEnergia](01.08.00.00.RelatividadGeneral.TensorDeMomentumEnergia.ipynb)"
   ]
  },
  {
   "cell_type": "markdown",
   "metadata": {},
   "source": [
    "## 1.9. Principio de consistencia\n",
    "<a id='principio_consistencia'></a>"
   ]
  },
  {
   "cell_type": "markdown",
   "metadata": {},
   "source": [
    "Hasta ahora hemos desarrollado una teoría del movimiento de la materia bajo métricas distintas a la métrica de Minkoski.  En secciones anteriores descubrimos que es posible describir los efectos del movimiento en un campo gravitacional débil como movimiento inercial en una métrica simple que llamamos la métrica de Newton.  Esta idea, además del principio de equivalencia, nos permite conjeturar que la gravedad es un fenómeno geométrico.  Que la presencia de materia tiene un efecto sobre el espacio-tiempo que implica el cambio de la métrica de Minkowski a métricas diferentes."
   ]
  },
  {
   "cell_type": "markdown",
   "metadata": {},
   "source": [
    "Pero ¿cómo determina la materia el valor de la métrica? ¿cuáles son las ecuaciones que conectan esas dos cosas?"
   ]
  },
  {
   "cell_type": "markdown",
   "metadata": {},
   "source": [
    "La teoría general de la relatividad ha resultado ser, sin proponerlo en este desarrollo una teoría de los fenómenos gravitacionales.  Nos proponemos en las siguientes secciones desarrollar los elementos centrales de esta teoría partiendo de los conceptos geométricos que hemos visto hasta ahora."
   ]
  },
  {
   "cell_type": "markdown",
   "metadata": {},
   "source": [
    "Cualquiera sea la respuesta a la anterior pregunta es necesario que la teoría que desarrollemos prediga, en el límite de curvatura muy pequeña las mismas cosas que veíamos en el caso de la relatividad especial y en la teoría gravitacional de Newton.  Esta coincidencia la elevaremos a la altura de un principio:"
   ]
  },
  {
   "cell_type": "markdown",
   "metadata": {
    "label": "",
    "subtitle": "Principio de consistencia",
    "tags": [
     "box_principle"
    ],
    "title": "Principio"
   },
   "source": [
    "> **Principio: Principio de consistencia.**<a id=''></a> Cualquier teoría del espacio-tiempo y la manera como sus propiedades son determinadas por la masa-energía y como esas propiedadades determinan el movimiento de la materia, debe predecir en el límite de curvatura cercana a cero:\n",
    "> 1. Las mismas cosas que predecimos con la teoría de la gravedad Newtoniana. \n",
    "> 2. Las mismas cosas que predecimos con la teoría especial de la relatividad."
   ]
  },
  {
   "cell_type": "markdown",
   "metadata": {},
   "source": [
    "## 1.1. Una ecuación de campo general\n",
    "<a id='ecuacion_campo_general'></a>"
   ]
  },
  {
   "cell_type": "markdown",
   "metadata": {},
   "source": [
    "La teoría gravitacional newtoniana se formula normalmente en términos de fuerzas.  Para lo que nos proponemos hacer aquí debemos formularla como una teoría de campos, de manera análoga a como lo hicimos con la electrodinámica."
   ]
  },
  {
   "cell_type": "markdown",
   "metadata": {},
   "source": [
    "Ya habíamos recordado antes que es posible escribir la aceleración gravitacional producida por un cuerpo puntual como\n",
    ":\n",
    "\n",
    "$$\n",
    "\\vec{g}=-\\frac{GM}{r^3}\\vec{r}\n",
    "$$"
   ]
  },
  {
   "cell_type": "markdown",
   "metadata": {},
   "source": [
    "Podemos definir, como lo hacemos en la teoría electromagnética, el flujo de campo gravitacional como:\n",
    "\n",
    "$$\n",
    "\\Phi=\\int_S \\vec{g}\\cdot\\mathrm{d}\\vec{S}\n",
    "$$"
   ]
  },
  {
   "cell_type": "markdown",
   "metadata": {},
   "source": [
    "En el caso de una partícula puntual o una distribución esférica de materia:\n",
    "\n",
    "$$\n",
    "\\Phi=4\\pi r^2 g\n",
    "$$\n",
    "donde $R$ es la distancia al centro de la distribución esférica de materia y $g$ es campo gravitacional, constante en este caso a una distancia $r$ del centro."
   ]
  },
  {
   "cell_type": "markdown",
   "metadata": {},
   "source": [
    "En este caso:\n",
    "\n",
    "$$\n",
    "\\Phi=-4\\pi G m_r\n",
    "$$\n",
    "donde $m_r$ es la cantidad de masa contenida dentro de $r$"
   ]
  },
  {
   "cell_type": "markdown",
   "metadata": {},
   "source": [
    "Sabiendo que:\n",
    "\n",
    "$$\n",
    "m_r=\\int_V \\rho\\mathrm{d}V\n",
    "$$"
   ]
  },
  {
   "cell_type": "markdown",
   "metadata": {},
   "source": [
    "E igualando queda:\n",
    "\n",
    "$$\n",
    "\\int_S \\vec{g}\\cdot\\mathrm{d}\\vec{S}=-4\\pi G \\int_V \\rho\\mathrm{d}V\n",
    "$$"
   ]
  },
  {
   "cell_type": "markdown",
   "metadata": {},
   "source": [
    "Dado que $\\vec g=-\\vec{\\nabla}\\phi$ independientemente de la distribución de materia, y aplicando el teorema de la divergencia concluimos que:\n",
    "\n",
    "$$\n",
    "\\nabla^2\\phi=4\\pi G \\rho_0\n",
    "$$"
   ]
  },
  {
   "cell_type": "markdown",
   "metadata": {},
   "source": [
    "Esta ecuación, que llamamos **la ecuación de Poisson** para el campo gravitacional aplica en general para calcular el potencial gravitacional $\\phi(\\vec r)$ en un punto arbitrario del espacio, dada cualquier distribución de materia con densidad propia $\\rho_0(\\vec r)$."
   ]
  },
  {
   "cell_type": "markdown",
   "metadata": {},
   "source": [
    "Usando la notación que hemos venido utilizando en el curso, la ecuación de Poisson se puede escribir como:\n",
    "\n",
    "$$\n",
    "\\partial_i\\partial^i \\phi=4\\pi G\\rho_0\n",
    "$$"
   ]
  },
  {
   "cell_type": "markdown",
   "metadata": {},
   "source": [
    "En un espacio $\\partial^i=\\partial_i$ esta ecuación se puede escribir también como:\n",
    "\n",
    "$$\n",
    "\\phi_{,i,i}=4\\pi G\\rho_0\n",
    "$$\n",
    "donde hay una suma sobre los índices repetidos que no se representa aquí."
   ]
  },
  {
   "cell_type": "markdown",
   "metadata": {},
   "source": [
    "Si queremos construir una teoría consistente con la gravedad Newtoniana, esa teoría debe conducir a una ecuación similar a la anterior. "
   ]
  },
  {
   "cell_type": "markdown",
   "metadata": {},
   "source": [
    "En secciones anteriores habíamos visto que el potencial gravitacional de un campo débil estaba relacionado con las componentes de la métrica:\n",
    "\n",
    "$$\n",
    "1+\\frac{2\\mathrm{\\phi}}{c^2}= g_{00}\n",
    "$$"
   ]
  },
  {
   "cell_type": "markdown",
   "metadata": {},
   "source": [
    "Si queremos deducir ecuaciones que describan la gravedad en relatividad y que sean consistentes con las ecuaciones de la gravedad de Newton debemos encontrar una ecuación que sea similar a la ecuación de Poisson pero involucrando la métrica.  Derivando dos veces la ecuación anterior, obtenemos:\n",
    "\n",
    "$$\n",
    "\\phi_{,i,i}=\\frac{1}{2}g_{00,i,i}c^2\n",
    "$$"
   ]
  },
  {
   "cell_type": "markdown",
   "metadata": {},
   "source": [
    "Reemplazando en la ecuación de Poisson:\n",
    "\n",
    "$$\n",
    "\\frac{1}{2}g_{00,i,i}c^2=4\\pi G\\rho_0\n",
    "$$"
   ]
  },
  {
   "cell_type": "markdown",
   "metadata": {},
   "source": [
    "O en términos de la derivada:\n",
    "\n",
    "$$\n",
    "g_{00,i,i}=\\frac{8\\pi G}{c^2}\\rho_0\n",
    "$$"
   ]
  },
  {
   "cell_type": "markdown",
   "metadata": {},
   "source": [
    "En el lado derecho de esta ecuación aparece la cantidad de materia medida en términos de la densidad de masa. Pero en realidad, para ser consistentes con la relatividad, deberíamos tener la densidad de energía.  De modo que la ecuación es:\n",
    "\n",
    "$$\n",
    "g_{00,i,i}=\\frac{8\\pi G}{c^4}(\\rho_0 c^2)\n",
    "$$"
   ]
  },
  {
   "cell_type": "markdown",
   "metadata": {},
   "source": [
    "Esta ecuación nos da el molde básico al cual la ecuación de general que tenemos que deducir.  Esta ecuación naturalmente no debería contener solo el coeficiente métrico correspondiente al tiempo y podría contener combinaciones complejas de las segundas derivadas. Podemos conjeturar que se escribe así:\n",
    "\n",
    "$$\n",
    "{\\cal G}(g_{\\mu\\nu,\\alpha,\\alpha})\\equiv {\\cal G}_{\\mu\\nu}=\\frac{8\\pi G}{c^4}E_{\\mu\\nu}\n",
    "$$\n",
    "o de forma más compacta:\n",
    "\n",
    "$$\n",
    "{\\cal G}_{\\mu\\nu}=\\frac{8\\pi G}{c^4}E_{\\mu\\nu}\n",
    "$$"
   ]
  },
  {
   "cell_type": "markdown",
   "metadata": {},
   "source": [
    "Llamaremos a esta **la ecuación de campo general**."
   ]
  },
  {
   "cell_type": "markdown",
   "metadata": {},
   "source": [
    "Donde la función tensorial ${\\cal G}(g_{\\mu\\nu,\\alpha,\\alpha})\\equiv {\\cal G}_{\\mu\\nu}$, es una *función lineal* de las segundas derivadas de la métrica (contraídas) y el tensor general $E_{\\mu\\nu}$ contiene la densidad de energía.  En el límite de campo débil:\n",
    "\n",
    "$$\n",
    "\\begin{array}{rcl}\n",
    "{\\cal G}_{00} & = & g_{00,i,i}\\\\\n",
    "E_{00} & = & \\rho_0 c^2\n",
    "\\end{array}\n",
    "$$"
   ]
  },
  {
   "cell_type": "markdown",
   "metadata": {},
   "source": [
    "La tarea que nos proponemos es encontrar los tensores $G_{\\mu\\nu}$ y $E_{\\mu\\nu}$ tal que la ecuación derivada de forma heurística aquí sea consistente físicamente.  Lo único que sabemos por ahora es que si las cantidades a la izquierda y a la derecha de la ecuación son *cantidades tensoriales* entonces esta ecuación cumplirá además con el principio de covariancia general."
   ]
  },
  {
   "cell_type": "markdown",
   "metadata": {
    "tags": [
     "navigation"
    ]
   },
   "source": [
    "[Indice](index.ipynb) | Previo: [RelatividadGeneral.Curvatura](01.06.00.00.RelatividadGeneral.Curvatura.ipynb) | Siguiente: [RelatividadGeneral.TensorDeMomentumEnergia](01.08.00.00.RelatividadGeneral.TensorDeMomentumEnergia.ipynb)"
   ]
  }
 ],
 "metadata": {
  "celltoolbar": "Tags",
  "kernelspec": {
   "display_name": "Python 3",
   "language": "python",
   "name": "python3"
  },
  "language_info": {
   "codemirror_mode": {
    "name": "ipython",
    "version": 3
   },
   "file_extension": ".py",
   "mimetype": "text/x-python",
   "name": "python",
   "nbconvert_exporter": "python",
   "pygments_lexer": "ipython3",
   "version": "3.6.8"
  }
 },
 "nbformat": 4,
 "nbformat_minor": 2
}
