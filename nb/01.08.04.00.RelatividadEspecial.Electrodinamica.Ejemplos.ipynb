{
 "cells": [
  {
   "cell_type": "markdown",
   "metadata": {
    "tags": [
     "navigation"
    ]
   },
   "source": [
    "[Indice](index.ipynb) | Previo: [RelatividadEspecial.Electrodinamica.TensorFaraday](01.08.03.00.RelatividadEspecial.Electrodinamica.TensorFaraday.ipynb) | Siguiente: [RelatividadEspecial.ProblemasSeleccionados](01.09.00.00.RelatividadEspecial.ProblemasSeleccionados.ipynb)"
   ]
  },
  {
   "cell_type": "markdown",
   "metadata": {},
   "source": [
    "### Ejemplos"
   ]
  },
  {
   "cell_type": "markdown",
   "metadata": {},
   "source": [
    "No puede subestimarse el poder que tiene la formulación covariante de la electrodinámica que hemos desarrollado en esta sección.  En los ejemplos a continuación ilustramos la manera en la que se aplica lo que hemos visto para resolver algunas situaciones particulares que son de interés físico aunque no necesariamente son las más generales."
   ]
  },
  {
   "cell_type": "markdown",
   "metadata": {},
   "source": [
    "#### 1.15.12.1. Fuerza experimentada por una carga en movimiento\n",
    "<a id='fuerza_carga_movimiento'></a>"
   ]
  },
  {
   "cell_type": "markdown",
   "metadata": {},
   "source": [
    "El ejemplo más sencillo de aplicación de lo visto en esta sección es el cálculo de la fuerza producida sobre una carga eléctrica $q$ que se mueve con velocidad constante $v_x$ en un campo magnético estático $B_z$.  "
   ]
  },
  {
   "cell_type": "markdown",
   "metadata": {},
   "source": [
    "Sin postular la fuerza de Lorentz, es difícil entender por qué en este caso la carga debería experimentar una fuerza si no hay un campo eléctrico.  En principio las cargas eléctricas solo se deberían acoplar con los campos eléctricos de modo que la fuerza experimentada por una carga debería ser solamente $\\vec F=q\\vec E$.  Es aquí donde la relatividad nos ayuda a entender la razón por la cuá e "
   ]
  },
  {
   "cell_type": "markdown",
   "metadata": {},
   "source": [
    "Los campo en el sistema de referencia del observador son:\n",
    "\n",
    "$$\n",
    "\\begin{array}{rcl}\n",
    "\\vec E & : & (0,0,0)\\\\\n",
    "\\vec B & : & (0,0,B_z)\\\\\n",
    "\\end{array}\n",
    "$$\n",
    "pero en el sistema de referencia de la carga y por las reglas de transformación son:\n",
    "\n",
    "$$\n",
    "\\begin{array}{rcl}\n",
    "\\vec E' & : & (0,-\\gamma_v v_L B_z,0)\\\\\n",
    "\\vec B' & : & (0,0,\\gamma B_z)\\\\\n",
    "\\end{array}\n",
    "$$"
   ]
  },
  {
   "cell_type": "markdown",
   "metadata": {},
   "source": [
    "De modo que en el sistema de referencia de la carga la fuerza será:\n",
    "\n",
    "$$\n",
    "\\vec F' = q \\vec E' -\\gamma_v q v_L B_z\n",
    "$$\n",
    "es decir:\n",
    "\n",
    "$$\n",
    "\\vec F_y' = -\\gamma_v q v_L B_z\n",
    "$$"
   ]
  },
  {
   "cell_type": "markdown",
   "metadata": {},
   "source": [
    "Por las reglas de transformación de la componente $y$ de la fuerza:\n",
    "\n",
    "$$\n",
    "\\vec F_y = \\frac{\\gamma_u^{-1}}{1+u_l v'_l} F'_y\n",
    "$$\n",
    "y teniendo en cuenta que $u_L=v_L$ y $v'_L=0$ obtenemos:\n",
    "\n",
    "$$\n",
    "\\vec F_y = -q v_L B_z\n",
    "$$\n",
    "que es justamente lo que esperamos de la fuerza de Lorentz."
   ]
  },
  {
   "cell_type": "markdown",
   "metadata": {},
   "source": [
    "#### 1.15.12.2. Campo producido por una carga en movimiento\n",
    "<a id='campo_carga_movimiento'></a>"
   ]
  },
  {
   "cell_type": "markdown",
   "metadata": {},
   "source": [
    "#### 1.15.12.3. Campo producido por un alambre recto\n",
    "<a id='campo_alambre'></a>"
   ]
  },
  {
   "cell_type": "markdown",
   "metadata": {
    "tags": [
     "navigation"
    ]
   },
   "source": [
    "[Indice](index.ipynb) | Previo: [RelatividadEspecial.Electrodinamica.TensorFaraday](01.08.03.00.RelatividadEspecial.Electrodinamica.TensorFaraday.ipynb) | Siguiente: [RelatividadEspecial.ProblemasSeleccionados](01.09.00.00.RelatividadEspecial.ProblemasSeleccionados.ipynb)"
   ]
  }
 ],
 "metadata": {
  "kernelspec": {
   "display_name": "Python 3",
   "language": "python",
   "name": "python3"
  },
  "language_info": {
   "codemirror_mode": {
    "name": "ipython",
    "version": 3
   },
   "file_extension": ".py",
   "mimetype": "text/x-python",
   "name": "python",
   "nbconvert_exporter": "python",
   "pygments_lexer": "ipython3",
   "version": "3.6.8"
  }
 },
 "nbformat": 4,
 "nbformat_minor": 2
}
