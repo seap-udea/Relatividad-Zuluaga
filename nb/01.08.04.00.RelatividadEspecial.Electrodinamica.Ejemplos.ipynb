{
 "cells": [
  {
   "cell_type": "markdown",
   "metadata": {
    "tags": [
     "navigation"
    ]
   },
   "source": [
    "[Indice](index.ipynb) | Previo: [RelatividadEspecial.Electrodinamica.TensorFaraday](01.08.03.00.RelatividadEspecial.Electrodinamica.TensorFaraday.ipynb) | Siguiente: [RelatividadEspecial.ProblemasSeleccionados](01.09.00.00.RelatividadEspecial.ProblemasSeleccionados.ipynb)"
   ]
  },
  {
   "cell_type": "markdown",
   "metadata": {},
   "source": [
    "### Ejemplos"
   ]
  },
  {
   "cell_type": "markdown",
   "metadata": {},
   "source": [
    "No puede subestimarse el poder que tiene la formulación covariante de la electrodinámica que hemos desarrollado en esta sección.  En los ejemplos a continuación ilustramos la manera en la que se aplica lo que hemos visto para resolver algunas situaciones particulares que son de interés físico aunque no necesariamente son las más generales."
   ]
  },
  {
   "cell_type": "markdown",
   "metadata": {},
   "source": [
    "#### 1.16.10.1. Campo producido por una carga en movimiento\n",
    "<a id='campo_carga_movimiento'></a>"
   ]
  },
  {
   "cell_type": "markdown",
   "metadata": {},
   "source": [
    "Uno de los más interesantes ejemplos de aplicación de la electrodinámica manifiestamente covariante es el cálculo del campo electromagnético producido por una carga en movimiento rectilíneo y uniforme."
   ]
  },
  {
   "cell_type": "markdown",
   "metadata": {},
   "source": [
    "El cálculo de este campo usando la electrodinámica clásica es realmente laborioso.  Sin embargo si usamos los resultados vistos en esta sección el cálculo resulta bastante directo."
   ]
  },
  {
   "cell_type": "markdown",
   "metadata": {},
   "source": [
    "El truco consiste siempre en describir el problema en un sistema de referencia en el que el cálculo del campo sea realmente sencillo.  En este caso el sistema de referencia es aquel que se mueve con la misma velocidad de la partícula.  En este sistema de referencia esta probado no hay campo magnético producido por la carga y solo hay un campo eléctrico que viene dado por:\n",
    "\n",
    "$$\n",
    "\\vec E' = \\frac{1}{4\\pi\\epsilon_0}\\frac{q}{r'^3}\\vec{r}'\n",
    "$$\n",
    "donde $\\vec r'=\\Delta x' \\hat{e}_x + \\Delta y' \\hat{e}_y + \\Delta z' \\hat{e}_z$."
   ]
  },
  {
   "cell_type": "markdown",
   "metadata": {},
   "source": [
    "Según las reglas de transformación el campo en el sistema de referencia del observador quedaría:\n",
    "\n",
    "$$\n",
    "\\begin{array}{rcl}\n",
    "\\vec E & = &  \\vec E'+(\\gamma-1) \\vec E_\\perp\\\\\n",
    "\\vec B & = &  \\gamma \\vec u_L \\times \\vec E'\\\\\n",
    "\\end{array}\n",
    "$$"
   ]
  },
  {
   "cell_type": "markdown",
   "metadata": {},
   "source": [
    "Teniendo en cuenta que $\\vec E'-\\vec E'_\\perp = \\vec E'_\\parallel$ y que $\\vec u_L\\times \\vec E'=\\vec u_L\\times \\vec E'_\\perp$, el resultado se puede escribir como:\n",
    "\n",
    "$$\n",
    "\\begin{array}{rcl}\n",
    "\\vec E & = &  \\vec E'_\\parallel+\\gamma \\vec E_\\perp\\\\\n",
    "\\vec B & = &  \\vec u_L \\times \\vec E\\\\\n",
    "\\end{array}\n",
    "$$"
   ]
  },
  {
   "cell_type": "markdown",
   "metadata": {},
   "source": [
    "Aquí notamos un interesante efecto: el campo eléctrico en dirección del movimiento no se modifica, pero si lo hace en dirección perpendicular donde es incrementado por un factor $\\gamma$. "
   ]
  },
  {
   "cell_type": "markdown",
   "metadata": {},
   "source": [
    "Ahora bien, el valor del campo dado por la ley de Coulomb tiene una modificación debido a la contracción de longitudes en dirección de propagación.  Si fijamos el eje x en la dirección de la velocidad, entonces:\n",
    "\n",
    "$$\n",
    "\\vec r' = \\gamma \\Delta x \\hat{e}_x + \\Delta y \\hat{e}_y + \\Delta z \\hat{e}_z\n",
    "$$\n",
    "de donde:\n",
    "\n",
    "$$\n",
    "r'^2 = \\gamma \\Delta x^2 + \\Delta y^2 + \\Delta z^2\n",
    "$$\n",
    "que se puede escribir como:\n",
    "\n",
    "$$\n",
    "r'^2 = \\gamma^2 r^2 (1-v_L^2 \\sin^2\\theta)\n",
    "$$\n",
    "donde $\\sin\\theta=\\sqrt{\\Delta y^2+\\Delta z^2}/\\Delta x$ es el ángulo entre la dirección al punto en la que se esta calculando el campo y la dirección e propagación.  Este resultado es general independientemente de si se usa o no la configuración estándar."
   ]
  },
  {
   "cell_type": "markdown",
   "metadata": {},
   "source": [
    "Con este resultado el campo eléctrico en el sistema de referencia del observaor se puede escribir como:\n",
    "\n",
    "$$\n",
    "\\vec E=\\frac{1}{\\gamma^2 (1-v_L^2\\sin^2\\theta)^{3/2}}\\frac{1}{4\\pi\\epsilon_0}\\frac{q}{r^3}\\vec{r}\n",
    "$$"
   ]
  },
  {
   "cell_type": "markdown",
   "metadata": {},
   "source": [
    "#### 1.16.10.2. Campo producido por un alambre recto\n",
    "<a id='campo_alambre'></a>"
   ]
  },
  {
   "cell_type": "markdown",
   "metadata": {
    "tags": [
     "navigation"
    ]
   },
   "source": [
    "[Indice](index.ipynb) | Previo: [RelatividadEspecial.Electrodinamica.TensorFaraday](01.08.03.00.RelatividadEspecial.Electrodinamica.TensorFaraday.ipynb) | Siguiente: [RelatividadEspecial.ProblemasSeleccionados](01.09.00.00.RelatividadEspecial.ProblemasSeleccionados.ipynb)"
   ]
  }
 ],
 "metadata": {
  "celltoolbar": "Tags",
  "kernelspec": {
   "display_name": "Python 3",
   "language": "python",
   "name": "python3"
  },
  "language_info": {
   "codemirror_mode": {
    "name": "ipython",
    "version": 3
   },
   "file_extension": ".py",
   "mimetype": "text/x-python",
   "name": "python",
   "nbconvert_exporter": "python",
   "pygments_lexer": "ipython3",
   "version": "3.6.8"
  }
 },
 "nbformat": 4,
 "nbformat_minor": 2
}
