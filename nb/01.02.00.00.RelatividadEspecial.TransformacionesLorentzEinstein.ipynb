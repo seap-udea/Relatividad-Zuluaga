{
 "cells": [
  {
   "cell_type": "markdown",
   "metadata": {
    "tags": [
     "navigation"
    ]
   },
   "source": [
    "[Indice](index.ipynb) | Previo: [RelatividadEspecial.ConceptosBasicos](01.01.00.00.RelatividadEspecial.ConceptosBasicos.ipynb) | "
   ]
  },
  {
   "cell_type": "markdown",
   "metadata": {},
   "source": [
    "## 1.6. Las transformaciones de Lorentz-Einstein\n",
    "<a id='transformaciones_einstein'></a>"
   ]
  },
  {
   "cell_type": "markdown",
   "metadata": {},
   "source": [
    "Como vemos las leyes del electromagnetismo no son covariantes bajor las TGN.  ¿Qué está mal? ¿las transformaciones o las leyes del EM?.  Supongamos que son las transformaciones."
   ]
  },
  {
   "cell_type": "markdown",
   "metadata": {},
   "source": [
    "Para ello asumamos que existe una familia de transformaciones más generales que relacionan las coordenadas.  \n",
    "\n",
    "$$\n",
    "\\begin{array}{rcl}\n",
    "t' & = & a_{tt} t + a_{tx} x \\\\\n",
    "x' & = & a_{xt} t + a_{xx} x \\\\\n",
    "\\end{array}\n",
    "$$"
   ]
  },
  {
   "cell_type": "markdown",
   "metadata": {},
   "source": [
    "La linealidad es consecuencia de o bien la homogeneidad e isotropía o de la inercialidad de los observadores."
   ]
  },
  {
   "cell_type": "markdown",
   "metadata": {},
   "source": [
    "Apliquemos estas transformaciones a las leyes de Faraday y Ampere:"
   ]
  },
  {
   "cell_type": "markdown",
   "metadata": {},
   "source": [
    "De donde se prueban dos cosas:"
   ]
  },
  {
   "cell_type": "markdown",
   "metadata": {
    "label": "",
    "subtitle": "Transformaciones de Einstein",
    "tags": [
     "box_theorem"
    ],
    "title": "Proposición"
   },
   "source": [
    "> **Proposición: Transformaciones de Einstein.**<a id=''></a> Las transformaciones de coordenadas que dejan invariantes las leyes de la física ante cambios de observador inercial son:\n",
    "\n",
    "\\begin{eqnarray}\n",
    "t' & = & \\gamma \\left( t - \\frac{v}{c^2} x \\right)\\\\\n",
    "x' & = & \\gamma \\left( -vt + x \\right)\n",
    "\\end{eqnarray}\n",
    "> donde:\n",
    "\\begin{equation}\n",
    "\\gamma\\equiv\\frac{1}{\\sqrt{1-v^2/c^2}}\n",
    "\\end{equation}\n",
    "> se conocerá en lo sucesivo como el **factor de Einstein**."
   ]
  },
  {
   "cell_type": "markdown",
   "metadata": {},
   "source": [
    "Y una interesante conclusión adicional:"
   ]
  },
  {
   "cell_type": "markdown",
   "metadata": {
    "label": "",
    "subtitle": "Invarianza de la velocidad de la luz",
    "tags": [
     "box_theorem"
    ],
    "title": "Proposición"
   },
   "source": [
    "> **Proposición: Invarianza de la velocidad de la luz.**<a id=''></a> La velocidad de la luz medida por dos observadores inerciales diferentes es siempre la misma:\n",
    "\n",
    "$$\n",
    "c=c'\n",
    "$$"
   ]
  },
  {
   "cell_type": "markdown",
   "metadata": {},
   "source": [
    "## 1.7. Una perspectiva geo-métrica\n",
    "<a id='perspectiva_geometrica'></a>"
   ]
  }
 ],
 "metadata": {
  "celltoolbar": "Tags",
  "kernelspec": {
   "display_name": "Python 3",
   "language": "python",
   "name": "python3"
  },
  "language_info": {
   "codemirror_mode": {
    "name": "ipython",
    "version": 3
   },
   "file_extension": ".py",
   "mimetype": "text/x-python",
   "name": "python",
   "nbconvert_exporter": "python",
   "pygments_lexer": "ipython3",
   "version": "3.6.8"
  }
 },
 "nbformat": 4,
 "nbformat_minor": 2
}
