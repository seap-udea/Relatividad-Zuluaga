{
 "cells": [
  {
   "cell_type": "markdown",
   "metadata": {
    "tags": [
     "navigation"
    ]
   },
   "source": [
    "[Indice](index.ipynb) | Previo: [RelatividadEspecial.ConceptosBasicos](01.01.00.00.RelatividadEspecial.ConceptosBasicos.ipynb) | "
   ]
  },
  {
   "cell_type": "markdown",
   "metadata": {},
   "source": [
    "## 1.6. Las transformaciones de Lorentz-Einstein\n",
    "<a id='transformaciones_einstein'></a>"
   ]
  },
  {
   "cell_type": "markdown",
   "metadata": {},
   "source": [
    "Como vemos las leyes del electromagnetismo no son covariantes bajor las TGN.  ¿Qué está mal? ¿las transformaciones o las leyes del EM?.  Supongamos que son las transformaciones."
   ]
  },
  {
   "cell_type": "markdown",
   "metadata": {
    "label": "",
    "subtitle": "Covarianza manifiesta de las ecuaciones de Maxwell",
    "tags": [
     "box_theorem"
    ],
    "title": "Postulado"
   },
   "source": [
    "> **Postulado: Covarianza manifiesta de las ecuaciones de Maxwell.**<a id=''></a> Las ecuaciones de Maxwell son *manifiestamente* covariantes, es decir, la forma en la que fueron escritas originalmente por Maxwell es covariante para observadores inerciales."
   ]
  },
  {
   "cell_type": "markdown",
   "metadata": {},
   "source": [
    "Este postulado es fuerte en el sentido en el que da mucha confianza a un conjunto de ecuaciones que esencialmente se obtienen a partir de experimentos.  Esta es una prueba de la confianza que tenían los Einstein en el electromagnetismo incluso sobre "
   ]
  },
  {
   "cell_type": "markdown",
   "metadata": {},
   "source": [
    "Como ya vimos que las ecuaciones no son covariantes bajo las transformaciones de Galileo-Newton, debemos encontrar un conjunto nuevo de transformaciones con las cuales las ecuaciones de Maxwell si son covariantes.  Para ello asumamos que existe una familia de transformaciones lineal más generales que relacionan las coordenadas.  \n",
    "\n",
    "\\begin{eqnarray}\n",
    "\\label{eq:tg_t}\n",
    "t' & = & a_{tt} t + a_{tx} x \\\\\n",
    "\\label{eq:tg_x}\n",
    "x' & = & a_{xt} t + a_{xx} x \\\\\n",
    "\\end{eqnarray}\n",
    "\n",
    "donde los coeficientes $a_{tt}$, $a_{tx}$, $a_{xt}$, $a_{xx}$ son cantidades que no dependen de la posición, ni del tiempo y a lo sumo pueden depender de la velocidad relativa $u$ entre los sistemas coordenados:\n",
    "\n",
    "$$\n",
    "a_{\\mu \\nu}=a_{\\mu \\nu}(u)\n",
    "$$\n",
    "donde $\\mu:t,x$."
   ]
  },
  {
   "cell_type": "markdown",
   "metadata": {
    "label": "",
    "subtitle": "Las transformaciones entre sistemas inerciales son lineales",
    "tags": [
     "box_note"
    ],
    "title": "Nota"
   },
   "source": [
    "> **Nota: Las transformaciones entre sistemas inerciales son lineales.**<a id=''></a> En principio las transformaciones entre las variables de dos sistemas de referencia podrían tener una forma funcional arbitraria:\n",
    "\n",
    "$$\n",
    "\\begin{array}{rcl}\n",
    "t' & = & t'(t,x) \\\\\n",
    "x' & = & x'(t,x) \\\\\n",
    "\\end{array}\n",
    "$$\n",
    ">sin embargo la definición misma de observador inercial, sumado al principio de homogeneidad e isotropía, restringen el número posible de funciones.  \n",
    "\n",
    "> Por la definición de sistema de referencia inercial, debe cumplirse que si el observador $O$ observa una partícula que se mueve con velocidad constante $v=\\mathrm{d}x/\\mathrm{d}t$ constante (no actúa ninguna fuerza sobre ella), también el observador $O'$ debe medir $v'=\\mathrm{d}x'/\\mathrm{d}t'$ constante. Para calcular esta última cantidad primero podemos determinar los diferenciales:\n",
    "\n",
    "\\begin{eqnarray}\n",
    "\\mathrm{d}x' &=& \\mathrm{d}t\\left(\\frac{\\partial x'}{\\partial x}v+\\frac{\\partial x'}{\\partial t}\\right)\\\\\n",
    "\\mathrm{d}t' &=& \\mathrm{d}t\\left(\\frac{\\partial t'}{\\partial x}v+\\frac{\\partial t'}{\\partial t}\\right)\\\\\n",
    "\\end{eqnarray}\n",
    "> de donde se sigue que:\n",
    "\n",
    "$$\n",
    "v'=\\frac{\\mathrm{d}x'}{\\mathrm{d}t'}=\n",
    "\\frac{v\\partial x'/\\partial x+\\partial x'/\\partial t}\n",
    "{v\\partial t'/\\partial t+\\partial t'/\\partial t}\n",
    "$$\n",
    "> de esta última expresión se ve que solo si las derivadas parciales respecto al espacio y el tiempo de las reglas de transformación son constantes, es decir, solo si las transformaciones son líneales, entonces $v$ constante implicará $v'$ constante y viceversa. "
   ]
  },
  {
   "cell_type": "markdown",
   "metadata": {},
   "source": [
    "Sin necesidad de conocer la forma funcional de los coeficientes de las transformaciones generales, es posible encontrar algunas propiedades básicas que nos permiten simplificar mucho la búsqueda de sus valores.  Así por ejemplo:\n",
    "\n",
    "1. Por la definición misma de observador inercial sabemos que el origen del sistema $O'$ esta localizado en $x'=0$ según su propio sistema de referencia, mientras que en el sistema $O$ se encuentra ubicado en $x=ut$.  Reemplazando estas dos condiciones en la Ec. ([tg_x](#mjx-eqn-eq%3Atg_x)) obtenemos:\n",
    "\n",
    "   $$\n",
    "   0=a_{xt} t + a_{xx} u t\n",
    "   $$\n",
    "   \n",
    "   Para $t>0$ esta condición implica que $a_{xt}=-u a_{xx}$ con lo que la Ec. ([tg_x](#mjx-eqn-eq%3Atg_x)) se escribe:\n",
    " \n",
    "   \\begin{eqnarray}\n",
    "   x' = a_{xx} ( -ut + x ) \\\\\n",
    "   \\end{eqnarray}"
   ]
  },
  {
   "cell_type": "markdown",
   "metadata": {},
   "source": [
    "2. Un razonamiento similar pero aplicado al origen del sistema $O$ para el cual $x=0$ y $x'=-u t'$ conduce a las condiciones:\n",
    "\n",
    "   $$\n",
    "   \\begin{array}{rcl}\n",
    "   t' & = & a_{tt} t \\\\\n",
    "   -ut' & = & -u a_{xx} t \\\\\n",
    "   \\end{array}\n",
    "   $$\n",
    "  \n",
    "   Para $t>0$, $t'>0$ lo que implica: 1) $a_{tt}>0$ y 2) dividiendo término a término las ecuaciones anteriores obtenemos:\n",
    "   \n",
    "   $$\n",
    "   a_{tt}=a_{xx}\\equiv\\gamma(u)>0\n",
    "   $$\n",
    "   donde hemos introducido la función $\\gamma(u)$."
   ]
  },
  {
   "cell_type": "markdown",
   "metadata": {},
   "source": [
    "3. Si introducimos un tercer observador $O''$ que se mueve con velocidad $-u$ (en dirección del eje $x$ respecto de $O$, el tiempo de eventos en el origen de coordenadas de $O$ registrados por $O''$ será:\n",
    "\n",
    "   $$t'' = \\gamma(-u) t$$\n",
    "   \n",
    "   Ahora bien, por la postulado de isotropía, un obervador que se dirige hacia $+x$ y uno que se dirije hacia $-x$ deben producir las mismas medidas de un evento en el lugar común $x=0$, es decir para este evento $t''=t'$ y por lo tanto:\n",
    "   \n",
    "   $$\\gamma(-u) = \\gamma(u)$$"
   ]
  },
  {
   "cell_type": "markdown",
   "metadata": {},
   "source": [
    "Con estas propiedades, la transformación general de coordenadas entre observadores inerciales que satisfacen el postulado de homogeneidad e isotropía se pueden escribir como:\n",
    "\n",
    "\\begin{eqnarray}\n",
    "\\label{eq:tg_t_sim}\n",
    "t' & = & \\gamma(u)( t + b x)\\\\\n",
    "\\label{eq:tg_x_sim}\n",
    "x' & = & \\gamma(u)(-u t + x) \\\\\n",
    "\\end{eqnarray}\n",
    "donde hemos definido $b\\equiv a_{tx}/\\gamma$."
   ]
  },
  {
   "cell_type": "markdown",
   "metadata": {},
   "source": [
    "No es difícil mostrar que las derivadas parciales respecto a las variables espacio-temporales serán entonces:\n",
    "\n",
    "\\begin{eqnarray}\n",
    "\\label{eq:dtg_t}\n",
    "\\partial_{t} & = & \\gamma(\\partial_{t'}-u\\partial_{x'})\\\\\n",
    "\\label{eq:dtg_x}\n",
    "\\partial_{x} & = & \\gamma(b\\partial_{t'}+\\partial_{x'})\\\\\n",
    "\\label{eq:dtg_y}\n",
    "\\partial_{y} & = & \\partial_{y'}\\\\\n",
    "\\label{eq:dtg_z}\n",
    "\\partial_{z} & = & \\partial_{z'}\n",
    "\\end{eqnarray}"
   ]
  },
  {
   "cell_type": "markdown",
   "metadata": {},
   "source": [
    "El reto consiste en encontrar las cantidades $\\gamma$ y $b$ de la transformación tal que las ecuaciones de Maxwell sean covariantes."
   ]
  },
  {
   "cell_type": "markdown",
   "metadata": {},
   "source": [
    "La componente $z$ de la ley de Faraday:\n",
    "\n",
    "$$\n",
    "\\frac{1}{c}\\partial_t \\vec B=-\\vec\\nabla\\times \\vec E\n",
    "$$\n",
    "es:\n",
    "\\begin{equation}\n",
    "\\label{eq:LF_z}\n",
    "\\frac{1}{c}\\partial_{t}B_z=\\partial_z E_x-\\partial_{x}E_y\n",
    "\\end{equation}"
   ]
  },
  {
   "cell_type": "markdown",
   "metadata": {},
   "source": [
    "Escrita después de aplicar las transformaciones de las derivadas será:\n",
    "\n",
    "$$\n",
    "\\frac{1}{c}\\gamma(\\partial_{t'}-u\\partial_{x'})B_z=\\partial_z E_x-\\gamma(b\\partial_{t'}+\\partial_{x'})E_y\n",
    "$$\n",
    "reuniendo términos semejantes:\n",
    "\n",
    "$$\n",
    "\\frac{1}{c'}\\partial_{t'}\\left[\\gamma\\left(\\frac{c'}{c}B_z+bc E_y\\right)\\right]=\\partial_z E_x-\\partial_{x'}\\left[\\gamma\\left(E_y-\\frac{u}{c} B_z\\right)\\right]\n",
    "$$"
   ]
  },
  {
   "cell_type": "markdown",
   "metadata": {},
   "source": [
    "Para que la ley de Faraday sea covariante y la ecuación anterior tenga la misma forma que la Ec. ([LF_z](#mjx-eqn-eq%3ALF_z)) se debe cumplir que:\n",
    "\n",
    "\\begin{eqnarray}\n",
    "\\label{eq:Bz_LF}\n",
    "B_z'&=&\\gamma\\left(\\frac{c'}{c}B_z+bc E_y\\right)\\\\\n",
    "\\label{eq:Ey_LF}\n",
    "E_y'&=&\\gamma\\left(E_y-\\frac{u}{c} B_z\\right)\n",
    "\\end{eqnarray}"
   ]
  },
  {
   "cell_type": "markdown",
   "metadata": {},
   "source": [
    "Por otro lado, la componente $y$ de la ley de Ampere-Maxwell:\n",
    "\n",
    "$$\n",
    "\\frac{1}{c}\\partial_t \\vec E=\\vec\\nabla\\times \\vec B\n",
    "$$\n",
    "es:\n",
    "\\begin{equation}\n",
    "\\label{eq:LAM_y}\n",
    "\\frac{1}{c}\\partial_{t}E_y=\\partial_y B_x-\\partial_{x}B_z\n",
    "\\end{equation}"
   ]
  },
  {
   "cell_type": "markdown",
   "metadata": {},
   "source": [
    "Aplicando un procedimiento análogo obtenemos que para que esta ecuación sea covariante bajo la transformación lineal general definida antes, la regla de transformación de las componentes $z$ y $y$ de los campos debería ser:\n",
    "\n",
    "\\begin{eqnarray}\n",
    "\\label{eq:Bz_LAM}\n",
    "B_z'&=&\\gamma\\left(B_z-\\frac{u}{c} E_y\\right)\\\\\n",
    "\\label{eq:Ey_LAM}\n",
    "E_y'&=&\\gamma\\left(\\frac{c'}{c}E_y+bc B_z\\right)\n",
    "\\end{eqnarray}"
   ]
  },
  {
   "cell_type": "markdown",
   "metadata": {},
   "source": [
    "Es claro que para que las Ecs. ([Bz_LF](#mjx-eqn-eq%3ABz_LF)),([Ey_LF](#mjx-eqn-eq%3AEy_LF)) y ([Bz_LAM](#mjx-eqn-eq%3ABz_LAM)),([Ey_LAM](#mjx-eqn-eq%3AEy_LAM)) correspondan al mismo conjunto de ecuaciones, sin importar cuál es el valor de los campos se debe cumplir que:\n",
    "\n",
    "$$\n",
    "c'=c\n",
    "$$\n",
    "y \n",
    "\n",
    "$$\n",
    "b=-\\frac{u}{c^2}\n",
    "$$"
   ]
  },
  {
   "cell_type": "markdown",
   "metadata": {},
   "source": [
    "De donde obtenemos nuestro primer resultado significativo:"
   ]
  },
  {
   "cell_type": "markdown",
   "metadata": {
    "label": "",
    "subtitle": "Invarianza de la velocidad de la luz",
    "tags": [
     "box_theorem"
    ],
    "title": "Proposición"
   },
   "source": [
    "> **Proposición: Invarianza de la velocidad de la luz.**<a id=''></a> La velocidad de la luz medida por dos observadores inerciales diferentes es siempre la misma:\n",
    "\n",
    "$$\n",
    "c=c'\n",
    "$$"
   ]
  },
  {
   "cell_type": "markdown",
   "metadata": {},
   "source": [
    "Esta conclusión es muy interesante y contraintuitiva.  La velocidad de propagación de la luz juega un papel central en la relatividad y en la física en general.  Lograr que su valor sea una cantidad constante independiente del observador inercial es significativo.  No era para menos puesto que sabemos que la cantidad en la teoría electromagnética deènde de dos constantes de la naturaleza:\n",
    "\n",
    "$$\n",
    "c=\\frac{1}{\\sqrt{\\mu_0 \\epsilon_0}}\n",
    "$$"
   ]
  },
  {
   "cell_type": "markdown",
   "metadata": {},
   "source": [
    "En la versión original de la teoría presentada por los Einstein, la constancia de la velocidad de la luz aparece como una hipótesis sin ninguna justificación. La aproximación utilizada aquí, por lo menos, obtiene este resultado como consecuencia de la covarianza de las ecuaciones de Maxwell, es decir es un teorema que se deriva de un postulado muy razonable, a saber que las ecuaciones de Maxwell del electromagnetismo son *manifiestamente covariantes*."
   ]
  },
  {
   "cell_type": "markdown",
   "metadata": {},
   "source": [
    "Adicionalmente encontramos la manera como se relacionan las componentes $y$ y $z$ de los campos eléctrico y magnético:\n",
    "\n",
    "\\begin{eqnarray}\n",
    "\\label{eq:Bpz_tg}\n",
    "B_z'&=&\\gamma\\left(B_z-\\frac{u}{c} E_y\\right)\\\\\n",
    "\\label{eq:Epy_tg}\n",
    "E_y'&=&\\gamma\\left(E_y-\\frac{u}{c}B_z\\right)\n",
    "\\end{eqnarray}"
   ]
  },
  {
   "cell_type": "markdown",
   "metadata": {},
   "source": [
    "Solo nos queda una cuestión por resolver: ¿cuánto vale $\\gamma$?."
   ]
  },
  {
   "cell_type": "markdown",
   "metadata": {},
   "source": [
    "La inversa de las transformaciones en las Ecs. ([Bpz_tg](#mjx-eqn-eq%3ABpz_tg)) y ([Epy_tg](#mjx-eqn-eq%3AEpy_tg)) se puede obtener cambiando $u$ por $-u$:\n",
    "\n",
    "\\begin{eqnarray}\n",
    "\\label{eq:Bz_tg}\n",
    "B_z&=&\\gamma\\left(B'_z+\\frac{u}{c}E'_y\\right)\\\\\n",
    "\\label{eq:Ey_tg}\n",
    "E_y&=&\\gamma\\left(E'_y+\\frac{u}{c}B'_z\\right)\n",
    "\\end{eqnarray}\n",
    "donde hemos usado el hecho que $\\gamma(-u)=\\gamma(u)$."
   ]
  },
  {
   "cell_type": "markdown",
   "metadata": {},
   "source": [
    "Las 4 ecuaciones anteriores son completamente independientes.  Conociendo el valor de $\\gamma$ y $u$, podrían usarse para encontrar el valor de cualquier componente del campo en función de las demás.  Pero una característica curiosa que tienen es que pueden usarse también para encontrar el valor de gamma."
   ]
  },
  {
   "cell_type": "markdown",
   "metadata": {},
   "source": [
    "Si reemplazamos el $B_z$ de la Ec. ([Bz_tg](#mjx-eqn-eq%3ABz_tg)) y el $E_y$ de la Ec. ([Ey_tg](#mjx-eqn-eq%3AEy_tg)) en la ecuación para $B'_z$ (Ec. [Bpz_tg](#mjx-eqn-eq%3ABpz_tg)) obtenemos:\n",
    "\n",
    "$$\n",
    "B_z'=\n",
    "\\gamma\n",
    "\\left[\n",
    "\\gamma\\left(B'_z+\\frac{u}{c}E'_y\\right)-\n",
    "\\frac{u}{c}\\gamma\\left(E'_y+\\frac{u}{c}B'_z\\right)\n",
    "\\right]\n",
    "$$\n",
    "y reunimos los términos comunes obtenemos:\n",
    "\n",
    "$$\n",
    "\\left[1-\\gamma^2\\left(1-\\frac{u^2}{c^2}\\right)\\right] B'_z=0\n",
    "$$"
   ]
  },
  {
   "cell_type": "markdown",
   "metadata": {},
   "source": [
    "Puesto que suponemos que esta relación es válida para cualquier campo magnético, entonces:\n",
    "\n",
    "$$\n",
    "\\gamma=\\frac{1}{\\sqrt{1-u^2/c^2}}\n",
    "$$"
   ]
  },
  {
   "cell_type": "markdown",
   "metadata": {
    "label": "",
    "subtitle": "Transformaciones de Lorentz-Einstein (TLE)",
    "tags": [
     "box_theorem"
    ],
    "title": "Proposición"
   },
   "source": [
    "> **Proposición: Transformaciones de Lorentz-Einstein (TLE).**<a id=''></a> Las transformaciones de coordenadas que dejan covariantes las ecuaciones de Maxwell ante cambios de observador inercial con velocidad relativa $u_x=u$ son:\n",
    "\n",
    "\\begin{equation}\n",
    "\\label{eq:trans_lorentz_x}\n",
    "\\begin{array}{rcl}\n",
    "t' & = & \\gamma \\left( t - ux/c^2 \\right)\\\\\n",
    "x' & = & \\gamma \\left( -ut + x \\right)\\\\\n",
    "y' & = & y\\\\\n",
    "z' & = & z\\\\\n",
    "\\end{array}\n",
    "\\end{equation}\n",
    "> donde:\n",
    "\\begin{equation}\n",
    "\\gamma\\equiv\\frac{1}{\\sqrt{1-u^2/c^2}}\n",
    "\\end{equation}\n",
    "> se conocerá en lo sucesivo como el **factor de Lorentz** o **factor de Einstein**."
   ]
  }
 ],
 "metadata": {
  "celltoolbar": "Tags",
  "kernelspec": {
   "display_name": "Python 3",
   "language": "python",
   "name": "python3"
  },
  "language_info": {
   "codemirror_mode": {
    "name": "ipython",
    "version": 3
   },
   "file_extension": ".py",
   "mimetype": "text/x-python",
   "name": "python",
   "nbconvert_exporter": "python",
   "pygments_lexer": "ipython3",
   "version": "3.6.8"
  }
 },
 "nbformat": 4,
 "nbformat_minor": 2
}
