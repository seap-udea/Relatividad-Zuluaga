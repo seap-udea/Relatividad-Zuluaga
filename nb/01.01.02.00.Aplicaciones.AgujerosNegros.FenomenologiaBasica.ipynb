{
 "cells": [
  {
   "cell_type": "markdown",
   "metadata": {
    "tags": [
     "navigation"
    ]
   },
   "source": [
    "[Indice](index.ipynb) | Previo: [Aplicaciones.AgujerosNegros.MetricaSchwarzschild](01.01.01.00.Aplicaciones.AgujerosNegros.MetricaSchwarzschild.ipynb) | Siguiente: [Apendices.CodigosUtiles](02.01.00.00.Apendices.CodigosUtiles.ipynb)"
   ]
  },
  {
   "cell_type": "markdown",
   "metadata": {},
   "source": [
    "### 1.1.6. Una singularidad en la métrica\n",
    "<a id='singularidad_schw'></a>"
   ]
  },
  {
   "cell_type": "markdown",
   "metadata": {},
   "source": [
    "La característica más notable de la métrica de Schwarzschild es que no admite cualquier valor de $r$.  En particular si $r\\rightarrow R_S$ la métrica se hace *singular*.  En particular en coordenadas de Schwarzchild a una distancia cercana a $R_S$ la curvatura del espacio tiempo:\n",
    "\n",
    "$$\n",
    "\\lim_{r\\rightarrow R_S}{R^{T}}_{rrT} =  \\lim_{r\\rightarrow R_S}\\frac{R_S}{r^3}\\frac{1}{1-R_S/r}=\\infty\n",
    "$$\n",
    "tiende también a infinito."
   ]
  },
  {
   "cell_type": "markdown",
   "metadata": {},
   "source": [
    "¿Qué significa esa singularidad?"
   ]
  },
  {
   "cell_type": "markdown",
   "metadata": {},
   "source": [
    "Consideremos dos eventos que corresponden al inicio de la emisión de un mensaje $E_1:(t,r,\\theta,\\phi)$ y el fin de la emisión $E_2:(t+\\mathrm{d}t_\\mathrm{mens},r,\\theta,\\phi)$ que ocurren en un mismo lugar del espacio a una distancia $r$ del cuerpo.  Llamamos la duración $\\mathrm{d}t$ el tiempo coordenado del evento."
   ]
  },
  {
   "cell_type": "markdown",
   "metadata": {},
   "source": [
    "La separación espacio temporal medida localmente por el observador es:\n",
    "\n",
    "$$\n",
    "\\mathrm{d}s^2=\\sqrt{1-\\frac{R_S}{r}}\\;c^2\\mathrm{d}t_\\mathrm{mens}^2\n",
    "$$"
   ]
  },
  {
   "cell_type": "markdown",
   "metadata": {},
   "source": [
    "El mensaje viaja hasta un observador en la misma coordenada $\\theta,\\phi$ pero en un lugar remoto.  Cuando el evento llega al observador lejano, la separación coordenada en el tiempo es exactamente la misma (ver figura), pero la separación en el espacio tiempo será diferente:\n",
    "\n",
    "$$\n",
    "\\mathrm{d}s_\\mathrm{obs}^2=\\left(1-\\frac{R_S}{r_\\mathrm{obs}}\\right)\\;c^2\\mathrm{d}t_\\mathrm{mens}^2\n",
    "$$"
   ]
  },
  {
   "cell_type": "markdown",
   "metadata": {},
   "source": [
    "Si el obsrvador esta en el infinito, \n",
    "\n",
    "$$\n",
    "\\mathrm{d}\\tau_\\mathrm{\\infty}^2=\\mathrm{d}t_\\mathrm{mens}^2\n",
    "$$"
   ]
  },
  {
   "cell_type": "markdown",
   "metadata": {},
   "source": [
    "De modo que la duración coordenada del mensaje es la misma que mide un observador muy alejado."
   ]
  },
  {
   "cell_type": "markdown",
   "metadata": {},
   "source": [
    "Si definimos:\n",
    "\n",
    "$$\n",
    "\\mathrm{d}\\tau=\\frac{\\mathrm{d}s}{c}\n",
    "$$"
   ]
  },
  {
   "cell_type": "markdown",
   "metadata": {},
   "source": [
    "Obtenemos la relación:\n",
    "\n",
    "$$\n",
    "\\mathrm{d}\\tau_\\infty=\\frac{1}{\\sqrt{1-\\frac{R_S}{r}}}\\mathrm{d}\\tau\n",
    "$$"
   ]
  },
  {
   "cell_type": "markdown",
   "metadata": {},
   "source": [
    "Vemos que si una señal es emitida cerca a $R_S$ en un tiempo finito $\\mathrm{d}\\tau$ el tiempo que registra un observador en el infinito será $\\mathrm{d}\\tau_\\infty\\rightarrow\\infty$."
   ]
  },
  {
   "cell_type": "markdown",
   "metadata": {
    "tags": [
     "navigation"
    ]
   },
   "source": [
    "[Indice](index.ipynb) | Previo: [Aplicaciones.AgujerosNegros.MetricaSchwarzschild](01.01.01.00.Aplicaciones.AgujerosNegros.MetricaSchwarzschild.ipynb) | Siguiente: [Apendices.CodigosUtiles](02.01.00.00.Apendices.CodigosUtiles.ipynb)"
   ]
  }
 ],
 "metadata": {
  "kernelspec": {
   "display_name": "Python 3",
   "language": "python",
   "name": "python3"
  },
  "language_info": {
   "codemirror_mode": {
    "name": "ipython",
    "version": 3
   },
   "file_extension": ".py",
   "mimetype": "text/x-python",
   "name": "python",
   "nbconvert_exporter": "python",
   "pygments_lexer": "ipython3",
   "version": "3.6.8"
  }
 },
 "nbformat": 4,
 "nbformat_minor": 2
}
