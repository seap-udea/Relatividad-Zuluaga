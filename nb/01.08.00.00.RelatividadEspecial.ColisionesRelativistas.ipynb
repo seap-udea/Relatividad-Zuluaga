{
 "cells": [
  {
   "cell_type": "markdown",
   "metadata": {
    "tags": [
     "navigation"
    ]
   },
   "source": [
    "[Indice](index.ipynb) | Previo: [RelatividadEspecial.SintesisMecanicaRelativista](01.07.00.00.RelatividadEspecial.SintesisMecanicaRelativista.ipynb) | Siguiente: [RelatividadEspecial.ProblemasSeleccionados](01.09.00.00.RelatividadEspecial.ProblemasSeleccionados.ipynb)"
   ]
  },
  {
   "cell_type": "markdown",
   "metadata": {},
   "source": [
    "## 1.14. Colisiones relativistas\n",
    "<a id='colisiones_relativistas'></a>"
   ]
  },
  {
   "cell_type": "markdown",
   "metadata": {},
   "source": [
    "Una de las más interesantes aplicaciones que tiene la dinámica relativista, es el estudio de colisiones entre partículas de alta energía.  Estas colisiones pueden ocurrir en el Universo en el interior de estrellas agonizantes, en el Universo primitivo, en los rayos cósmicos cuando colisionan con el medio interestelar o la atmósfera de la Tierra e incluso con la radiación de fondo. Naturalmente, en la Tierra, las colisiones de alta energía se han usado por décadas para estudiar la estructura íntima de la materia y el funcionamiento de las fuerzas fundamentales."
   ]
  },
  {
   "cell_type": "markdown",
   "metadata": {},
   "source": [
    "### 1.14.1. Energía en el centro de masa\n",
    "<a id='energia_cm'></a>"
   ]
  },
  {
   "cell_type": "markdown",
   "metadata": {},
   "source": [
    "Considere dos partículas idénticas que chocan.  Una de ellas esta animada de una velocidad muy grande (vista en el sistema de referencia del observador (que llamaremos aquí **sistema de referencia del laboratorio**) y la otra esta en reposo allí.  ¿Cómo son sus cuadrimomentos individuales? ¿cuál es su cuadrimomento total?"
   ]
  },
  {
   "cell_type": "markdown",
   "metadata": {},
   "source": [
    "Consideremos en general dos partículas de masas diferentes, $m_1$ (impactor) y $m_2$ (objetivo o *target*).  Inicialmente el impactor tiene una velocidad en el sistema de referencia del laboratorio $v^\\mathrm{lab}_1$ que lo anima de un momento lineal allí $p_{L1}=\\gamma_{1} m_1 v^\\mathrm{lab}_{1}$.  El cuadrimomento total en el laboratorio será:\n",
    "\n",
    "$$\n",
    "P^\\mathrm{lab}_L:(E^\\mathrm{lab}_{L1},p^\\mathrm{lab}_{L1})+(E^\\mathrm{lab}_{L2},0)\n",
    "$$"
   ]
  },
  {
   "cell_type": "markdown",
   "metadata": {},
   "source": [
    "El módulo de este cuadrimomento será:\n",
    "\n",
    "$$\n",
    "\\begin{array}{rcl}\n",
    "M^2 & = & (E^\\mathrm{lab}_{L1}+E^\\mathrm{lab}_{L2})^2-(p^\\mathrm{lab}_{L1})^2\\\\\n",
    "& = & (E^\\mathrm{lab}_{L1})^2-(p^\\mathrm{lab}_{L1})^2 + (E^\\mathrm{lab}_{L2})^2 + 2 E^\\mathrm{lab}_{L1} E^\\mathrm{lab}_{L2}\\\\\n",
    "& = & m_1^2 + m_2^2 + 2 m_2 E^\\mathrm{lab}_{L1} \\\\\n",
    "\\end{array}\n",
    "$$\n",
    "donde hemos introducido el parámetro $M$ como el módulo del cuadrimomento total."
   ]
  },
  {
   "cell_type": "markdown",
   "metadata": {},
   "source": [
    "Si nos pasamos ahora al **sistema de referencia del centro de masa**, es decir, aquel en el que el momento lineal total del sistema es cero:\n",
    "\n",
    "$$\n",
    "P^\\mathrm{CM}_L:(E^\\mathrm{CM}_{L1},p^\\mathrm{CM}_{L})+(E^\\mathrm{CM}_{L2},-p^\\mathrm{CM}_{L})\n",
    "$$"
   ]
  },
  {
   "cell_type": "markdown",
   "metadata": {},
   "source": [
    "En este sistema de referencia el módulo del cuadrimomento será el mismo, pero su dependencia de las masas de las partículas individuales será diferente:\n",
    "\n",
    "$$\n",
    "M^2 = (E^\\mathrm{CM}_{L1}+E^\\mathrm{CM}_{L2})^2=(E_L^\\mathrm{CM,fix})^2\n",
    "$$"
   ]
  },
  {
   "cell_type": "markdown",
   "metadata": {},
   "source": [
    "La diferencia será que esta energía esta completamente disponible para la producción de partículas. Igualando nos queda:\n",
    "\n",
    "$$\n",
    "E_L^\\mathrm{CM,fix} = \\sqrt{m_1^2 + m_2^2 + 2 m_2 E^\\mathrm{lab}_{L1}}\n",
    "$$"
   ]
  },
  {
   "cell_type": "markdown",
   "metadata": {},
   "source": [
    "Si asumimos que la energía de la partícula impactora es mucho mayor que su masa y la del blanco $E^\\mathrm{lab}_{L1}\\gg m_1, m_2$, entonces la energía del impacto en el centro de masa será:\n",
    "\n",
    "$$\n",
    "E_L^\\mathrm{CM,fix}\\approx \\sqrt{2 m_2 E^\\mathrm{lab}_{L1}}\n",
    "$$"
   ]
  },
  {
   "cell_type": "markdown",
   "metadata": {},
   "source": [
    "¿Qué pasa ahora si lo que tengo ahora son dos partículas que se mueven una hacia la otra con una cierta velocidad?.  EN ese caso el momento total será:\n",
    "\n",
    "$$\n",
    "P^\\mathrm{lab}_L:(E^\\mathrm{lab}_{L1},p^\\mathrm{lab}_{L1})+(E^\\mathrm{lab}_{L2},-p^\\mathrm{lab}_{L2})\n",
    "$$\n",
    "cuyo módulo será:\n",
    "\n",
    "$$\n",
    "\\begin{array}{rcl}\n",
    "(E_L^\\mathrm{CM,col})^2 & = & (E^\\mathrm{lab}_{L1}+E^\\mathrm{lab}_{L2})^2-(p^\\mathrm{lab}_{L1}-p^\\mathrm{lab}_{L2})^2\\\\\n",
    "& = & (E^\\mathrm{lab}_{L1})^2-(p^\\mathrm{lab}_{L1})^2 + (E^\\mathrm{lab}_{L2})^2 -(p^\\mathrm{lab}_{L1})^2 + 2( E^\\mathrm{lab}_{L1} E^\\mathrm{lab}_{L2}+p^\\mathrm{lab}_{L1}p^\\mathrm{lab}_{L2})\\\\\n",
    "& = & m_1^2 + m_2^2 + 2 (E^\\mathrm{lab}_{L1}E^\\mathrm{lab}_{L2}+p^\\mathrm{lab}_{L1}p^\\mathrm{lab}_{L2}) \\\\\n",
    "\\end{array}\n",
    "$$"
   ]
  },
  {
   "cell_type": "markdown",
   "metadata": {},
   "source": [
    "¿Cuál es la diferencia entre esta situación y la anterior?.  Si suponemos que $E^\\mathrm{lab}_{L1},E^\\mathrm{lab}_{L2}\\gg m_1, m_2$ y por tanto $p^\\mathrm{lab}_{L1}\\approx E^\\mathrm{lab}_{L1}$ y $p^\\mathrm{lab}_{L2}\\approx E^\\mathrm{lab}_{L2}$, entonces la enegría en el centro de masa de estas colisiones será:\n",
    "\n",
    "$$\n",
    "E_L^\\mathrm{CM,col}\\approx \\sqrt{4 E^\\mathrm{lab}_{L1}E^\\mathrm{lab}_{L2}}\n",
    "$$"
   ]
  },
  {
   "cell_type": "markdown",
   "metadata": {},
   "source": [
    "Comparando las energía disponibles en el centro de masa en el caso de una colisión con un objetivo fijo y la colisión de dos haces, vemos que la energía disponible en este segundo caso es mucho mayor. "
   ]
  },
  {
   "cell_type": "markdown",
   "metadata": {},
   "source": [
    "Pongámosle número a estos procesos.  Imaginemos que tenemos un acelerador que puede llevar protones hasta 7 TeV de energía (energía típica en el LHC).  ¿Cuánta energía en el centro de masa podemos conseguir si disparamos estos protones hacia protones que están en reposo?.  En unidades convencionales:\n",
    "\n",
    "$$\n",
    "\\frac{E^\\mathrm{CM,fix}}{c^2}\\approx \\sqrt{2 m_2 \\frac{E^\\mathrm{lab}_{1}}{c^2}}\n",
    "$$\n",
    "o lo que es lo mismo:\n",
    "\n",
    "$$\n",
    "E^\\mathrm{CM,fix}\\approx \\sqrt{2 (m_2c^2) E^\\mathrm{lab}_{1}}\n",
    "$$"
   ]
  },
  {
   "cell_type": "markdown",
   "metadata": {},
   "source": [
    "La energía en reposo de un protón $mc^2=938$ MeV$=0.938$ TeV. "
   ]
  },
  {
   "cell_type": "code",
   "execution_count": 70,
   "metadata": {
    "codelabel": "",
    "codeplot": 0
   },
   "outputs": [],
   "source": [
    "#Masa del protón\n",
    "mc2=0.938 #TeV\n",
    "E1_lab=7 #TeV\n",
    "\n",
    "#Energía en el centro de masa para choque fijo\n",
    "ECM_fix=(2*mc2*E1_lab)**0.5"
   ]
  },
  {
   "cell_type": "code",
   "execution_count": 71,
   "metadata": {
    "codelabel": "",
    "codeplot": 0,
    "tags": [
     "hide_input"
    ]
   },
   "outputs": [
    {
     "name": "stdout",
     "output_type": "stream",
     "text": [
      "ECM_fix = 3.6238101495525394 TeV\n"
     ]
    }
   ],
   "source": [
    "print(f\"ECM_fix = {ECM_fix} TeV\")"
   ]
  },
  {
   "cell_type": "markdown",
   "metadata": {},
   "source": [
    "En contraposición la energía en el centro de masa obtenida si hacemos chocar dos haces de protones con 7 TeV es:"
   ]
  },
  {
   "cell_type": "code",
   "execution_count": 72,
   "metadata": {
    "codelabel": "",
    "codeplot": 0
   },
   "outputs": [],
   "source": [
    "#Energía en el centro de masa para colision \n",
    "ECM_col=(4*E1_lab*E1_lab)**0.5"
   ]
  },
  {
   "cell_type": "code",
   "execution_count": 73,
   "metadata": {
    "codelabel": "",
    "codeplot": 0,
    "tags": [
     "hide_input"
    ]
   },
   "outputs": [
    {
     "name": "stdout",
     "output_type": "stream",
     "text": [
      "ECM_col = 14.0 TeV\n",
      "ECM_col / ECM_fix = 3.86\n"
     ]
    }
   ],
   "source": [
    "print(f\"ECM_col = {ECM_col} TeV\")\n",
    "print(f\"ECM_col / ECM_fix = {ECM_col/ECM_fix:.2f}\")"
   ]
  },
  {
   "cell_type": "markdown",
   "metadata": {},
   "source": [
    "Es decir, con una colisión frontal es posible extraer casi 4 veces más energía de una colisión que con la colisión en reposo."
   ]
  },
  {
   "cell_type": "markdown",
   "metadata": {},
   "source": [
    "Cuánta energía necesitaría un haz de protones que choca contra un blanco fijo de protones para igualar esta energía e 14 TeV.  Igualando $E^\\mathrm{CM,fix}$ con $E^\\mathrm{CM,lab}$ obtenemos:\n",
    "\n",
    "$$\n",
    "\\sqrt{2 m E_L^\\mathrm{lab,fix-eq}}=\\sqrt{4 (E^\\mathrm{lab,col}_{L})^2}\n",
    "$$\n",
    "y despejando $E_L^\\mathrm{lab,fix-eq}$ obtenemos:\n",
    "\n",
    "$$\n",
    "E_L^\\mathrm{lab,fix-eq}=\\frac{2 (E^\\mathrm{lab,col}_{L})^2}{m}\n",
    "$$\n"
   ]
  },
  {
   "cell_type": "markdown",
   "metadata": {},
   "source": [
    "De modo que para igualar la energía en el centro de masa obtenida por una colisión de haces de protones ($mc^2=0.938$ TeV) con energía $E^\\mathrm{lab,col}=1$ TeV, será:\n",
    "\n",
    "$$\n",
    "E_L^\\mathrm{lab,fix-eq}\\approx 418\\;\\mathrm{TeV}\n",
    "$$"
   ]
  },
  {
   "cell_type": "markdown",
   "metadata": {},
   "source": [
    "### Choques con la luz"
   ]
  },
  {
   "cell_type": "markdown",
   "metadata": {},
   "source": [
    "Los choques con fotones son una de las situaciones más comunes en astrofísica de altas energías.  Lo que debemos tener en cuenta cuando describimos la colisión con un fotón es que su masa invariante es cero, de modo que:\n",
    "\n",
    "$$\n",
    "E_L^\\mathrm{fotón}=p_L^\\mathrm{fotón}\n",
    "$$"
   ]
  },
  {
   "cell_type": "markdown",
   "metadata": {},
   "source": [
    "Existen tres posibles resultados de la colisión con un fotón:\n",
    "\n",
    "1. **Efecto Compton**.  La dispersión de un fotón de alta energía contra una partícula, de modo que la partícula recibe energía del fotón.\n",
    "\n",
    "2. **Efecto Compton inverso**.  La dispersión de una partícula de alta energía contra un fotón, de modo que el fotón recibe energía.\n",
    "\n",
    "3. **Absorción**.  La absorción de un fotón de alta energía por una partícula y la producción de nuevas partículas a partir de este proceso."
   ]
  },
  {
   "cell_type": "markdown",
   "metadata": {},
   "source": [
    "Consideremos el último proceso.  Un caso partícular de una reacción de este tipo se produce en la radiación cósmica de fondo (RCF).  En este caso protones de alta energía pueden chocar con los fotones de la RCF produciendo la reacción:\n",
    "\n",
    "$$\n",
    "\\gamma + p \\rightarrow p + \\pi^+\n",
    "$$\n",
    "donde $m_p c^2=938$ MeV y $m_\\pi c^2=140$ MeV.  ¿Cuál es la energía mínima que deber tener el protón para producir esta reacción con un fotón con una energía dada?"
   ]
  },
  {
   "cell_type": "markdown",
   "metadata": {},
   "source": [
    "Podemos calcular esta energía asumiendo que al crearse, el neutrón y el pión resultante de la reacción anterior se crean en reposo en el sistema de referencia de su centro de masa (esta sería la mínima energía).  Ahora bien, como el módulo del cuadrimomentum es el mismo en cualquier sistema de referencia de modo que:\n",
    "\n",
    "$$\n",
    "\\begin{array}{rcl}\n",
    "|P_{L\\gamma}^\\mathrm{lab}+P_{Lp}^\\mathrm{lab}|^2 & = & |P^\\mathrm{res}_{Lp}+P^\\mathrm{res}_{L\\pi}|^2\\\\\n",
    "|(E_{L\\gamma}^\\mathrm{lab}+E_{Lp}^\\mathrm{lab},E_{L\\gamma}^\\mathrm{lab}-p_{Lp}^\\mathrm{lab})|^2 & = & (m_p+n_\\pi)^2\\\\\n",
    "2 E_{L\\gamma}^\\mathrm{lab} E_{Lp}^\\mathrm{lab} +\n",
    "m_p^2\n",
    "+2 p_{Lp}^\\mathrm{lab}E_{L\\gamma}^\\mathrm{lab} & = & (m_p+n_\\pi)^2\n",
    "\\end{array}\n",
    "$$"
   ]
  },
  {
   "cell_type": "markdown",
   "metadata": {},
   "source": [
    "Si dejamos solo las propiedades del protón en un solo lado:\n",
    "\n",
    "$$\n",
    "E_{Lp}^\\mathrm{lab} \n",
    "+p_{Lp}^\\mathrm{lab} = \\frac{(m_p+m_\\pi)^2-m_p^2}{2 E_{L\\gamma}^\\mathrm{lab} }\n",
    "$$\n",
    "\n",
    "Usando la relación $(p_{Lp}^\\mathrm{lab})^2=(E_{Lp}^\\mathrm{lab})^2-m_p^2$, la energía del protón estaría determinada por:\n",
    "\n",
    "$$\n",
    "E_{Lp}^\\mathrm{lab} \n",
    "+\\sqrt{(E_{Lp}^\\mathrm{lab})^2-m_p^2} = \\frac{m_\\pi^2+2 m_\\pi m_p}{2 E_{L\\gamma}^\\mathrm{lab} }\n",
    "$$\n"
   ]
  },
  {
   "cell_type": "markdown",
   "metadata": {},
   "source": [
    "### Una aplicación: El límite GZK"
   ]
  },
  {
   "cell_type": "markdown",
   "metadata": {},
   "source": [
    "Ahora bien ¿en qué situaciones un protón de alta energía puede toparse con un fotón?  Para que esto pase la abundancia de fotones debe ser enorme.  Los fotones más energéticos en el Universo son los fotones de la radiación cósmica de fondo que tienen además una muy pequeña energía  $E_\\gamma=2,5\\times 10^{-10}$ MeV.  Esto implica que para producir la reacción anterior el protón debe tener una energía enorme, $E_{Lp}^\\mathrm{lab}\\gg m_p$.  Con esto podemos finalmente aproximar la expresión anterior como:\n",
    "\n",
    "$$\n",
    "E_{Lp}^\\mathrm{lab}\\approx \\frac{m_\\pi^2+2 m_\\pi m_p}{4 E_{L\\gamma}^\\mathrm{lab} }\n",
    "$$\n",
    "que en unidades convencionales quedaría:\n",
    "\n",
    "$$\n",
    "E_{p}^\\mathrm{lab}\\approx \\frac{(m_\\pi c^2)^2+2 (m_\\pi c^2) (m_p c^2)}{4 E_{\\gamma}^\\mathrm{lab} }\n",
    "$$\n"
   ]
  },
  {
   "cell_type": "markdown",
   "metadata": {},
   "source": [
    "Usando la energía de los fotones de rayos gama obtenemos:"
   ]
  },
  {
   "cell_type": "code",
   "execution_count": 82,
   "metadata": {
    "codelabel": "",
    "codeplot": 0
   },
   "outputs": [],
   "source": [
    "mpc2=938 #MeV\n",
    "mpic2=140 #MeV\n",
    "ERCF=2.5e-10 #MeV\n",
    "\n",
    "Ep=((mpic2)**2+2*mpic2*mpc2)/(4*ERCF)"
   ]
  },
  {
   "cell_type": "code",
   "execution_count": 83,
   "metadata": {
    "codelabel": "",
    "codeplot": 0,
    "tags": [
     "hide_input"
    ]
   },
   "outputs": [
    {
     "name": "stdout",
     "output_type": "stream",
     "text": [
      "Energía límite de protones = 2.822400e+20 eV\n"
     ]
    }
   ],
   "source": [
    "print(f\"Energía límite de protones = {Ep*1e6:e} eV\")"
   ]
  },
  {
   "cell_type": "markdown",
   "metadata": {},
   "source": [
    "Llamamos a este el *umbral de Greisen–Zatsepin–Kuzmin* y corresponde a la energía máxima en la que un protón de rayos cósmicos puede viajar sin sufrir interacciones relavantes con los fotones de la radiación de fondo."
   ]
  },
  {
   "cell_type": "markdown",
   "metadata": {},
   "source": [
    "### 1.14.2. Colisiones relativistas interactivas\n",
    "<a id='colisiones_interactivas'></a>"
   ]
  },
  {
   "cell_type": "markdown",
   "metadata": {},
   "source": [
    "Una excelente manera de entender las colisiones relativistas y algunos de los resultados que hemos mostrado antes es graficando el resultado de estas interacciones en diagramas espacio-tiempo."
   ]
  },
  {
   "cell_type": "markdown",
   "metadata": {},
   "source": [
    "En el código interactivo abajo podemos ver el resultado de la colisión de dos partículas cuya naturaleza se puede modificar a voluntad y cambiar el sistema de referencia desde el que se ve la colisión."
   ]
  },
  {
   "cell_type": "code",
   "execution_count": 34,
   "metadata": {
    "codelabel": "",
    "codeplot": 0,
    "tags": [
     "hide_pdf"
    ]
   },
   "outputs": [],
   "source": [
    "%matplotlib nbagg"
   ]
  },
  {
   "cell_type": "code",
   "execution_count": 160,
   "metadata": {
    "codelabel": "",
    "codeplot": 0
   },
   "outputs": [],
   "source": [
    "def colision_relativista(m1=940,E1=7000,\n",
    "                         m2=940,E2=940,\n",
    "                         uL=0.0,\n",
    "                         rang=5000,\n",
    "                        ):\n",
    "    m1=float(m1)\n",
    "    m2=float(m2)\n",
    "    E1=float(E1)\n",
    "    E2=float(E2)\n",
    "    \n",
    "    #Factor gama de las partículas\n",
    "    if m1>0:\n",
    "        gama1=E1/m1\n",
    "        pc1=(E1**2-m1**2)**0.5\n",
    "    else:\n",
    "        pc1=E1\n",
    "    if m2>0:\n",
    "        gama2=E2/m2\n",
    "        pc2=(E2**2-m2**2)**0.5\n",
    "    else:\n",
    "        pc2=E2\n",
    "    \n",
    "    #Componentes de los cuadrimomentos\n",
    "    from numpy import array\n",
    "    P1=array([E1,pc1])\n",
    "    P2=array([E2,-pc2])\n",
    "    \n",
    "    #Rotar los ejes de acuerdo a uL\n",
    "    gamma=1/(1-uL)**0.5\n",
    "    Pp1=array([0,0])\n",
    "    Pp1[0]=gamma*(P1[0]-uL*P1[1])\n",
    "    Pp1[1]=gamma*(-uL*P1[0]+P1[1])\n",
    "    Pp2=array([0,0])\n",
    "    Pp2[0]=gamma*(P2[0]-uL*P2[1])\n",
    "    Pp2[1]=gamma*(-uL*P2[0]+P2[1])\n",
    "\n",
    "    #Cuadrimomento total\n",
    "    PpT=Pp1+Pp2\n",
    "    \n",
    "    #Masa asociada\n",
    "    M=(PpT[0]**2-PpT[1]**2)**0.5\n",
    "\n",
    "    #Gráfica\n",
    "    import matplotlib.pyplot as plt\n",
    "    plt.close(\"all\")\n",
    "    fig=plt.figure(figsize=(5,5))\n",
    "    ax=fig.gca()\n",
    "    \n",
    "    ax.arrow(0,0,Pp1[0],Pp1[1],color='r',lw=2,zorder=100)\n",
    "    ax.arrow(0,0,Pp2[0],Pp2[1],color='r',lw=2,zorder=100)\n",
    "    ax.arrow(0,0,PpT[0],PpT[1],color='b',zorder=100)\n",
    "    ax.arrow(0,0,M,0,color='k',lw=2,alpha=0.3,zorder=100)\n",
    "\n",
    "    #Decoración\n",
    "    ax.grid(zorder=-100);\n",
    "    ax.set_xlim((-0.1,rang));\n",
    "    ax.set_ylim((-rang,rang));\n",
    "    ax.set_title(f\"$u_L={uL:0.2f}$ c, $m_1 c^2={m1}$ MeV, $m_2 c^2={m2}$ MeV\",fontsize=10)\n",
    "    ax.set_xlabel(f\"$E$ [MeV]\");\n",
    "    ax.set_ylabel(f\"$pc$ [MeV]\");\n",
    "    fig.tight_layout();"
   ]
  },
  {
   "cell_type": "code",
   "execution_count": 164,
   "metadata": {
    "codelabel": "fig:01.08.00.00.RelatividadEspecial.ColisionesRelativistas_21",
    "codeplot": 1,
    "figcaption": "<b>Figura 1.21.</b> "
   },
   "outputs": [
    {
     "data": {
      "application/vnd.jupyter.widget-view+json": {
       "model_id": "57369dfbde8e480e9fdbdba1b4e2f8a0",
       "version_major": 2,
       "version_minor": 0
      },
      "text/plain": [
       "interactive(children=(Text(value='940', continuous_update=False, description='m1'), Text(value='1000', continu…"
      ]
     },
     "metadata": {},
     "output_type": "display_data"
    }
   ],
   "source": [
    "from ipywidgets import interact,fixed,widgets\n",
    "opciones=dict(continuous_update=False)\n",
    "interact(colision_relativista,\n",
    "         uL=widgets.FloatSlider(value=0.0,min=-0.99,max=0.99,step=0.01,**opciones),\n",
    "         rang=widgets.FloatSlider(value=10000.0,min=1000,max=50000,step=1000,**opciones),\n",
    "         m1=widgets.Text(value=\"940\",**opciones),\n",
    "         m2=widgets.Text(value=\"940\",**opciones),\n",
    "         E1=widgets.Text(value=\"1000\",**opciones),\n",
    "         E2=widgets.Text(value=\"940\",**opciones),\n",
    "        );"
   ]
  },
  {
   "cell_type": "markdown",
   "metadata": {},
   "source": [
    "<a id='fig:01.08.00.00.RelatividadEspecial.ColisionesRelativistas_21'></a><center><b>Figura 1.21.</b> </center>"
   ]
  },
  {
   "cell_type": "markdown",
   "metadata": {
    "tags": [
     "navigation"
    ]
   },
   "source": [
    "[Indice](index.ipynb) | Previo: [RelatividadEspecial.SintesisMecanicaRelativista](01.07.00.00.RelatividadEspecial.SintesisMecanicaRelativista.ipynb) | Siguiente: [RelatividadEspecial.ProblemasSeleccionados](01.09.00.00.RelatividadEspecial.ProblemasSeleccionados.ipynb)"
   ]
  }
 ],
 "metadata": {
  "celltoolbar": "Tags",
  "kernelspec": {
   "display_name": "Python 3",
   "language": "python",
   "name": "python3"
  },
  "language_info": {
   "codemirror_mode": {
    "name": "ipython",
    "version": 3
   },
   "file_extension": ".py",
   "mimetype": "text/x-python",
   "name": "python",
   "nbconvert_exporter": "python",
   "pygments_lexer": "ipython3",
   "version": "3.6.8"
  }
 },
 "nbformat": 4,
 "nbformat_minor": 2
}
