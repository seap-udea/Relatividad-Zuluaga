{
 "cells": [
  {
   "cell_type": "markdown",
   "metadata": {
    "tags": [
     "navigation"
    ]
   },
   "source": [
    "[Indice](index.ipynb) | Previo: [Aplicaciones.CosmologiaRelativista.MetricaUniverso](01.01.01.00.Aplicaciones.CosmologiaRelativista.MetricaUniverso.ipynb) | Siguiente: [Apendices.CodigosUtiles](02.01.00.00.Apendices.CodigosUtiles.ipynb)"
   ]
  },
  {
   "cell_type": "markdown",
   "metadata": {},
   "source": [
    "### 1.1.6. Las ecuaciones de Friedmann\n",
    "<a id='ecuacion_friedmann'></a>"
   ]
  },
  {
   "cell_type": "markdown",
   "metadata": {},
   "source": [
    "Nótese que hasta ahora no hemos usado en ningún momento las ecuaciones de campo.  ¿Por qué?.  Básicamente hemos construído la métrica sobre argumentos y principios de simetría.  Sin embargo los parámetros libres de la métrica, a saber la función $a(t)$ y el parámetro $k$ solo podrán determinarse si usamos las ecuaciones de campo."
   ]
  },
  {
   "cell_type": "markdown",
   "metadata": {},
   "source": [
    "Primero necesitamos asumir un tensor de momentum-energía para el Universo.  Vamos a asumir un fluído perfecto, para el cuál el tensor de momentum energía es el que habíamos escrito en la sección correspondiente:\n",
    "\n",
    "$$\n",
    "T^{\\mu\\nu}_\\mathrm{perfecto}=\\left(\\rho_0+\\frac{p}{c^2}\\right)U^\\mu U^\\nu-pg^{\\mu\\nu}\n",
    "$$"
   ]
  },
  {
   "cell_type": "markdown",
   "metadata": {},
   "source": [
    "Si nos paramos en el sistema de referencia del observador fundamental done el fluído esta en reposo pero su densidad propia $\\rho_0(t)$ puede cambiar en el tiempo, lo mismo que su presión $p(t)$ el tensor es entonces:\n",
    "\n",
    "$$\n",
    "T_{00}=\\rho_0(t)c^2 g_{00},\\;T_{ii}=-pg_{ii}\n",
    "$$"
   ]
  },
  {
   "cell_type": "markdown",
   "metadata": {},
   "source": [
    "Ahora necesitamos calcular las componentes de los tensores relevantes.  Para ello usamos el programa en Wolfram Lab poniendo como coeficientes métricos:\n",
    "\n",
    "$$\n",
    "g_{\\mu\\nu}\n",
    "=\\left(\n",
    "\\begin{array}{cccc}\n",
    "c^2 & 0 & 0 & 0 \\\\\n",
    "0 & -a(t)^2(1-kr^2)^{-1} & 0 & 0 \\\\\n",
    "0 & 0 & -a(t)^2r^2 & 0 \\\\\n",
    "0 & 0 & 0 & -a(t)^2 r^2\\sin^2\\theta \\\\\n",
    "\\end{array}\n",
    "\\right)\n",
    "$$\n"
   ]
  },
  {
   "cell_type": "markdown",
   "metadata": {},
   "source": [
    "El tensor que nos interesa es el tensor de Riemann y el escalar de Ricci. "
   ]
  },
  {
   "cell_type": "markdown",
   "metadata": {},
   "source": [
    "Las únicas componentes distintas de cero del tensor de Ricci son:\n",
    "\n",
    "\\begin{eqnarray}\n",
    "\\nonumber\n",
    "R_{tt} & = & -3\\frac{\\ddot{a}}{a}\\\\\n",
    "\\nonumber\n",
    "c^2 R_{rr} & = & \\frac{2c^2 k}{1-kr^2}+\\frac{2\\dot{a}^2}{1-kr^2}+\\frac{\\dot{a}\\ddot{a}}{1-kr^2}\\\\\n",
    "\\nonumber\n",
    "c^2 R_{\\theta\\theta} & = & r^2 a\\ddot{a}-2r^2\\dot{a}^2+2c^2 k r^2\\\\\n",
    "\\nonumber\n",
    "c^2 R_{\\phi\\phi} & = & r^2 \\sin^2\\theta a\\ddot{a}+2r^2\\sin^2\\theta \\dot{a}^2+2c^2 k r^2\\sin^2\\theta\\\\\n",
    "\\end{eqnarray}"
   ]
  },
  {
   "cell_type": "markdown",
   "metadata": {},
   "source": [
    "Este último resultado se puede escribir como:\n",
    "\n",
    "$$\n",
    "c^2 R_{ii}=-\\frac{g_{ii}}{a^2}(a\\ddot{a}+2\\dot{a}^2+2c^2k)\n",
    "$$"
   ]
  },
  {
   "cell_type": "markdown",
   "metadata": {},
   "source": [
    "Mientras que el escalar de curvatura es:\n",
    "\n",
    "$$\n",
    "c^2R=-6 c^2 \\frac{k}{a^2}-6\\left(\\frac{\\dot{a}}{a}\\right)^2-6\\frac{\\ddot{a}}{a}\n",
    "$$"
   ]
  },
  {
   "cell_type": "markdown",
   "metadata": {},
   "source": [
    "La ecuación de campo es:"
   ]
  },
  {
   "cell_type": "markdown",
   "metadata": {},
   "source": [
    "$$\n",
    "R_{\\mu\\nu}-\\frac{1}{2}g_{\\mu\\nu} R-\\Lambda g_{\\mu\\nu}=\\frac{8\\pi G}{c^4}T_{\\mu\\nu}\n",
    "$$"
   ]
  },
  {
   "cell_type": "markdown",
   "metadata": {},
   "source": [
    "Dado que solo las componentes a lo largo de la diagonal del tensor de momentum energía son distintas de cero:\n",
    "\n",
    "\\begin{eqnarray}\n",
    "R_{tt}-\\frac{1}{2}g_{tt} R-\\Lambda g_{tt} & = & \\frac{8\\pi G}{c^4}T_{tt}\\\\\n",
    "R_{ii}-\\frac{1}{2}g_{ii} R-\\Lambda g_{ii} & = & \\frac{8\\pi G}{c^4}T_{ii}\n",
    "\\end{eqnarray}"
   ]
  },
  {
   "cell_type": "markdown",
   "metadata": {},
   "source": [
    "La componente temporal se puede escribir como:\n",
    "\n",
    "$$\n",
    "-3\\frac{\\ddot{a}}{a}-\\frac{1}{2}\\left(-6 c^2 \\frac{k}{a^2}-6\\left(\\frac{\\dot{a}}{a}\\right)^2-6\\frac{\\ddot{a}}{a}\\right)-\\Lambda c^2=\\frac{8\\pi G}{c^4}\\rho_0 c^4\n",
    "$$"
   ]
  },
  {
   "cell_type": "markdown",
   "metadata": {},
   "source": [
    "Que se puede escribir como:\n",
    "\n",
    "$$\n",
    "\\left(\\frac{\\dot{a}}{a}\\right)^2=\\frac{8\\pi G}{3}\\rho_0(t)+\\frac{\\Lambda c^2}{3}-\\frac{kc^2}{a^2}\n",
    "$$"
   ]
  },
  {
   "cell_type": "markdown",
   "metadata": {},
   "source": [
    "Por otro lado la componente espacial es:\n",
    "\n",
    "$$\n",
    "-\\frac{g_{ii}}{a^2}(a\\ddot{a}+2\\dot{a}^2+2c^2k)-\\frac{1}{2}Rg_{ii}-\\Lambda g_{ii} = \\frac{8\\pi G}{c^4}(-p c^2 g_{ii})\n",
    "$$"
   ]
  },
  {
   "cell_type": "markdown",
   "metadata": {},
   "source": [
    "Vemos que el resultado es la misma ecuación independientemente de la componente espacial considerada."
   ]
  },
  {
   "cell_type": "markdown",
   "metadata": {},
   "source": [
    "La ecuación resultante es:\n",
    "$$\n",
    "-\\frac{\\ddot{a}}{a}-2\\left(\\frac{\\dot{a}}{a}\\right)^2-2\\frac{kc^2}{a^2}-\\frac{1}{2}\\left(-6 c^2 \\frac{k}{a^2}-6\\left(\\frac{\\dot{a}}{a}\\right)^2-6\\frac{\\ddot{a}}{a}\\right)-\\Lambda=-\\frac{8\\pi G}{c^2}p\n",
    "$$"
   ]
  },
  {
   "cell_type": "markdown",
   "metadata": {},
   "source": [
    "Que se puede simplificar como:\n",
    "\n",
    "$$\n",
    "\\frac{\\ddot{a}}{a}+\\frac{1}{2}\\left(\\frac{\\dot{a}}{a}\\right)^2=-\\frac{4\\pi G}{c^2} p+\\frac{\\Lambda}{2}-\\frac{kc^2}{2a^2}\n",
    "$$"
   ]
  },
  {
   "cell_type": "markdown",
   "metadata": {},
   "source": [
    "Nótese que es posible combinar la ecuación inicial con esta ecuación para obtener una ecuación más simple:\n",
    "\n",
    "$$\n",
    "\\frac{\\ddot{a}}{a}=-\\frac{4\\pi G}{c^2}[\\rho_0(t)+3p(t)]+\\frac{\\Lambda}{3}\n",
    "$$"
   ]
  },
  {
   "cell_type": "markdown",
   "metadata": {
    "tags": [
     "navigation"
    ]
   },
   "source": [
    "[Indice](index.ipynb) | Previo: [Aplicaciones.CosmologiaRelativista.MetricaUniverso](01.01.01.00.Aplicaciones.CosmologiaRelativista.MetricaUniverso.ipynb) | Siguiente: [Apendices.CodigosUtiles](02.01.00.00.Apendices.CodigosUtiles.ipynb)"
   ]
  }
 ],
 "metadata": {
  "celltoolbar": "Tags",
  "kernelspec": {
   "display_name": "Python 3",
   "language": "python",
   "name": "python3"
  },
  "language_info": {
   "codemirror_mode": {
    "name": "ipython",
    "version": 3
   },
   "file_extension": ".py",
   "mimetype": "text/x-python",
   "name": "python",
   "nbconvert_exporter": "python",
   "pygments_lexer": "ipython3",
   "version": "3.6.8"
  }
 },
 "nbformat": 4,
 "nbformat_minor": 2
}
