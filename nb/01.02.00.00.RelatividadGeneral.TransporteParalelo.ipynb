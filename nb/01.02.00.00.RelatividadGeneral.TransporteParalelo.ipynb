{
 "cells": [
  {
   "cell_type": "markdown",
   "metadata": {
    "tags": [
     "navigation"
    ]
   },
   "source": [
    "[Indice](index.ipynb) | Previo: [RelatividadGeneral.PostuladosBasicos](01.01.00.00.RelatividadGeneral.PostuladosBasicos.ipynb) | Siguiente: [RelatividadGeneral.SimbolosChristoffel](01.03.00.00.RelatividadGeneral.SimbolosChristoffel.ipynb)"
   ]
  },
  {
   "cell_type": "markdown",
   "metadata": {},
   "source": [
    "## 1.3. Transporte paralelo y derivada covariante\n",
    "<a id='transporte_paralelo'></a>"
   ]
  },
  {
   "cell_type": "markdown",
   "metadata": {},
   "source": [
    "### 1.3.1. El gradiente no es un tensor general\n",
    "<a id='gradiente_notensor'></a>"
   ]
  },
  {
   "cell_type": "markdown",
   "metadata": {},
   "source": [
    "Al introducir las transfromaciones generales de coordenadas hay una cantidad que bajo transformaciones de Lorentz-Einstein (lineales) transformaba como un tensor, pero que bajo transformaciones generales ya no lo hace: la derivada o el gradiente.  "
   ]
  },
  {
   "cell_type": "markdown",
   "metadata": {},
   "source": [
    "Considerese la definición:\n",
    "\n",
    "$$\n",
    "{A^\\alpha}_{,\\mu}=\\partial_\\mu A^\\alpha=\\frac{\\partial}{\\partial x^\\mu} A^\\alpha\n",
    "$$"
   ]
  },
  {
   "cell_type": "markdown",
   "metadata": {},
   "source": [
    "Bajo transformaciones generales, la derivada covariante $\\partial_{\\mu'} A^{\\alpha'}$ en el nuevo sistema será:\n",
    "\n",
    "$$\n",
    "\\partial_{\\mu'} A^{\\alpha'}=\\left(\\frac{\\partial x^{\\mu}}{\\partial x^{\\mu'}}\\partial_{\\mu}\\right)\\left(\\frac{\\partial x^{\\alpha'}}{\\partial x^{\\alpha}}A^\\alpha\\right)={{\\cal G}^\\mu}_{\\mu'}\\partial_{\\mu}\\left({{\\cal G}^{\\alpha'}}_{\\alpha}A^\\alpha\\right)\n",
    "$$\n",
    "donde para la expresión en el primer paréntesis hemos usado la regla de la cadena."
   ]
  },
  {
   "cell_type": "markdown",
   "metadata": {},
   "source": [
    " La diferencia respecto al caso que habíamos estudiado en el capítulo anterior es que ahora las componentes de la matriz de transformación general ${{\\cal G}^{\\alpha'}}$ no son constantes y por lo tanto no es posible escribir esta expresión de la forma simple:\n",
    "\n",
    "$$\n",
    "\\partial_{\\mu'} A^{\\alpha'}\\neq{{\\cal G}^\\mu}_{\\mu'}{{\\cal G}^{\\alpha'}}_{\\alpha}\\;\\partial_\\mu A^\\alpha\n",
    "$$"
   ]
  },
  {
   "cell_type": "markdown",
   "metadata": {},
   "source": [
    "Siendo esta cantidad tan importante para los propósitos de formular teorías físicas manifiestamente covariantes es importante que estudiemos lo que debemos hacer en este caso."
   ]
  },
  {
   "cell_type": "markdown",
   "metadata": {},
   "source": [
    "### 1.3.2. Transporte paralelo\n",
    "<a id='transporte_paralelo_explicito'></a>"
   ]
  },
  {
   "cell_type": "markdown",
   "metadata": {},
   "source": [
    "Derivar un tensor significa esencialmente calcular la tasa a la que cambian sus componentes al movernos de un evento a otro en el espacio-tiempo."
   ]
  },
  {
   "cell_type": "markdown",
   "metadata": {},
   "source": [
    "El problema es que en un sistema de coordenadas general las componentes pueden cambiar por dos razones:\n",
    "\n",
    "1. Porque el tensor cambie (el campo tensorial) cambie.  Este es el cambio que nos interesa.\n",
    "2. Porque la base sobre la que se define el tensor cambie."
   ]
  },
  {
   "cell_type": "markdown",
   "metadata": {},
   "source": [
    "<a id='fig:transporte_paralelo'></a>![Transporte paralelo.++t!++0.5++\\label{fig:transporte_paralelo}](./figures/horizontal-transporte-paralelo.png)\n",
    "\n",
    "<center><b>Figura 1.1</b>. Transporte paralelo.</center>"
   ]
  },
  {
   "cell_type": "markdown",
   "metadata": {},
   "source": [
    "Un caso elemental es el de un vector en el espacio euclidiano de dos dimensiones.  Si se utilizan coordenadas cartesianas y tenemos un campo vectorial constante, las componentes del campo vectorial serán las mismas no importa si te desplazas en el plano (ver panel izquierdo en la Figura ([transporte_paralelo](#fig:transporte_paralelo))).  En este caso, si al contrario, el vector cambia intrínsecamente lo notarás comparando las componentes.  Pero que pasa su usamos coordenadas cilíndricas.  En este caso incluso si el campo vectorial es constante, las componentes del campo cambiaran punto a punto debido solamente a la manera en la que se define el sistema de coordenadas (ver panel derecho en la Figura ([transporte_paralelo](#fig:transporte_paralelo))).  "
   ]
  },
  {
   "cell_type": "markdown",
   "metadata": {},
   "source": [
    "La manera para determinar si el campo vectorial efectivamente cambia a lo largo de una trayectoria es la de *transportar* el vector del punto en el que se esta midiendo al punto original y mirar si hay una discrepancia entre ambos.  "
   ]
  },
  {
   "cell_type": "markdown",
   "metadata": {},
   "source": [
    "El **transporte paralelo** es la operación de transformación de un vector de un punto del espacio a otro de modo que su *dirección intrínseca* no se modifique durante el transporte."
   ]
  },
  {
   "cell_type": "markdown",
   "metadata": {},
   "source": [
    "Si el vector lo llamamos $A^\\mu(x^\\nu)$ en un evento $x^\\nu$, el mismo vector transportado de forma paralela a un evento distinto $y^\\nu$ se llamara $A^\\mu_\\parallel(y^\\nu)$ "
   ]
  },
  {
   "cell_type": "markdown",
   "metadata": {},
   "source": [
    "### 1.3.3. Derivada direccional general\n",
    "<a id='derivada_direccional'></a>"
   ]
  },
  {
   "cell_type": "markdown",
   "metadata": {},
   "source": [
    "Definimos la **derivada direccional general** de un campo tensorial $A^\\mu$ a lo largo de una dirección arbitraria $t^\\alpha$, y la denotamos como $(\\mathrm{D}_t A)^\\mu$ mediante la expresión:"
   ]
  },
  {
   "cell_type": "markdown",
   "metadata": {},
   "source": [
    "$$\n",
    "(\\mathrm{D}_t A)^\\mu=\\lim_{\\epsilon\\rightarrow 0}\\frac{A^\\mu_\\parallel(x^\\alpha+\\mathrm{d}x^\\alpha)-A^\\mu(x^\\alpha)}{\\epsilon}\n",
    "$$\n",
    "donde $\\mathrm{d}x^\\alpha=\\epsilon t^\\alpha$ y $A^\\mu_\\parallel(x^\\alpha+\\mathrm{d}x^\\alpha)$ son las componentes del campo $A^\\mu$ evaluado en el punto $x^\\alpha+\\mathrm{d}x^\\alpha$ pero transportado de forma paralela a lo largo de $t^\\alpha$ hasta el punto inicial $x^\\alpha$ (ver Figura ([transporte_paralelo_derivada](#fig:transporte_paralelo_derivada)))."
   ]
  },
  {
   "cell_type": "markdown",
   "metadata": {},
   "source": [
    "<a id='fig:transporte_paralelo_derivada'></a>![Derivada direccional.++t!++0.5++\\label{fig:transporte_paralelo_derivada}](./figures/square-transporte-paralelo.png)\n",
    "\n",
    "<center><b>Figura 1.2</b>. Derivada direccional.</center>"
   ]
  },
  {
   "cell_type": "markdown",
   "metadata": {
    "label": "",
    "subtitle": "¿Es la derivada direccional general una cantidad tensorial?",
    "tags": [
     "box_note"
    ],
    "title": "Nota"
   },
   "source": [
    "> **Nota: ¿Es la derivada direccional general una cantidad tensorial?.**<a id=''></a> Nótese que esta definición es una definición geométrica rigurosa y en principio esperaría uno que al definirse de esta manera la cantidad resultante tuviera las propiedades de una cantidad geométrica, i.e. tensorial."
   ]
  },
  {
   "cell_type": "markdown",
   "metadata": {},
   "source": [
    "Las componentes del cuadrivector transportado de forma paralela *se pueden* escribir, en general, como:\n",
    "$$\n",
    "A^\\mu_\\parallel(x^\\alpha+\\mathrm{d}x^\\alpha) = A^\\mu(x^\\alpha+\\mathrm{d}x^\\alpha) + C^\\mu_{\\gamma\\delta} A^\\gamma(x^\\alpha+\\mathrm{d}x^\\alpha) \\mathrm{d}x^\\delta\n",
    "$$\n",
    "donde $C^\\mu_{\\gamma\\delta}$ son en general coeficientes que permiten expresar el cambio en las componentes del cuadrivector transportado en función de las componentes de ambos, el cuadrivector original y el cuadrivector de la dirección de transporte.  Llamamos a estos coeficientes **los coeficientes de conexión**. En el caso más general habrán 64 coeficientes ($4^3$) de conexión distintos de cero. "
   ]
  },
  {
   "cell_type": "markdown",
   "metadata": {},
   "source": [
    "Reemplazando en la fórmula para la derivada covariante obtenemos:\n",
    "\n",
    "$$\n",
    "(\\mathrm{D}_t A)^\\mu=(\\partial_t A)^\\mu + C^\\mu_{\\gamma\\delta} A^\\gamma t^\\delta\n",
    "$$\n",
    "donde hemos usado la definición de la derivada direccional convencional:\n",
    "\n",
    "$$\n",
    "(\\mathrm{\\partial}_t A)^\\mu=\\lim_{\\epsilon\\rightarrow 0}\\frac{A^\\mu(x^\\alpha+\\mathrm{d}x^\\alpha)-A^\\mu(x^\\alpha)}{\\epsilon}\n",
    "$$"
   ]
  },
  {
   "cell_type": "markdown",
   "metadata": {},
   "source": [
    "En términos de sus componentes la derivada direccional queda:\n",
    "\n",
    "$$\n",
    "\\mathrm{D}_\\alpha A^\\mu t^\\alpha=\\partial_\\alpha A^\\mu t^\\alpha + C^\\mu_{\\gamma\\alpha} A^\\gamma t^\\alpha\n",
    "$$\n",
    "en la que hemos usado la idea bien conocida del cálculo vectorial de que la derivada direcciónal se puede escribir como $\\partial_t A = \\vec{\\nabla} A\\cdot \\vec t=\\partial_\\alpha A^\\mu t^\\alpha$"
   ]
  },
  {
   "cell_type": "markdown",
   "metadata": {},
   "source": [
    "Finalmente, suponiendo que las componentes del cuadrivector que define la dirección son indepenientes, llegamos a una definición general de la derivada bajo una transformación general:\n",
    "\n",
    "$$\n",
    "\\mathrm{D}_\\alpha A^\\mu = \\partial_\\alpha A^\\mu + C^\\mu_{\\gamma\\alpha} A^\\gamma\n",
    "$$"
   ]
  },
  {
   "cell_type": "markdown",
   "metadata": {},
   "source": [
    "A esta la llamaremos **derivada covariante general** o simplemente **derivada covariante** y para representarla en lo sucesivo usaremos el símbolo \";\" en analogía a como usamos el símbolo \",\" para representar la derivada covariante $\\partial_\\alpha A^\\mu$ que introdujimos en las transformaciones lineales, Así:\n",
    "\n",
    "$$\n",
    "{A^\\mu}_{;\\alpha} = {A^\\mu}_{,\\alpha} + C^\\mu_{\\gamma\\alpha} A^\\gamma\n",
    "$$"
   ]
  },
  {
   "cell_type": "markdown",
   "metadata": {
    "label": "",
    "subtitle": "Propiedades de la derivada covariante",
    "tags": [
     "box_theorem"
    ],
    "title": "Proposición"
   },
   "source": [
    "> **Proposición: Propiedades de la derivada covariante.**<a id=''></a> Las siguientes son propiedades de la derivada covariante:\n",
    "\n",
    "> 1. **Derivada covariante de una suma**: $(A^\\mu+B^\\mu)_{;\\nu}={A^\\mu}_{;\\nu}+{B^\\mu}_{;\\nu}$\n",
    "> 2. **Derivada covariante de un producto o regla de Leibniz**: $(A^\\mu B^\\nu)_{;\\alpha}={A^\\mu}_{;\\alpha}B^\\nu+A^\\mu{B^\\nu}_{;\\alpha}$\n",
    "> 3. **Derivada covariante de un campo escalar**: $\\phi_{;\\mu}=\\phi_{,\\mu}$\n",
    "> 4. **Derivada covariante de un tensor contraido**: $(A^\\mu B_\\mu)_{;\\alpha}=(A^\\mu B_\\mu)_{,\\alpha}$\n",
    "> 5. **Derivada covariante de un tensor covariante**: $B_{\\mu;\\nu}=B_{\\mu,\\nu}-C^\\gamma_{\\mu\\nu} B_\\gamma$\n",
    "> 6. **Derivada covariante de un tensor contravariante de segundo rango**:\n",
    "> $${A^{\\mu\\nu}}_{;\\alpha}={A^{\\mu\\nu}}_{,\\alpha}+C^\\mu_{\\gamma\\alpha} A^{\\gamma\\nu}+C^\\nu_{\\alpha\\gamma} A^{\\mu\\gamma}$$\n",
    "> 7. **Derivada covariante de un tensor covariante de segundo rango**:\n",
    "> $${A_{\\mu\\nu}}_{;\\alpha}={A_{\\mu\\nu}}_{,\\alpha}-C^\\gamma_{\\mu\\alpha} A_{\\gamma\\nu}-C^\\gamma_{\\alpha\\nu} A_{\\mu\\gamma}$$"
   ]
  },
  {
   "cell_type": "markdown",
   "metadata": {},
   "source": [
    "¿Es la cantidad $\\mathrm{D}_\\alpha$ un tensor bajo transformaciones generales?  Hasta ahora la construcción geométrica que hemos realizado no hace explícita esta propiedad.  En realidad la naturaleza tensorial de ella dependerá de la naturaleza misma de los coeficientes de conexión.  Por ahora asumiremos que por el hecho de ser esta cantidad construída de forma geométrica rigurosa, entonces es una cantidad tensorial.  Más adelante iremos encontrando evidencias matemáticas de que es así."
   ]
  },
  {
   "cell_type": "markdown",
   "metadata": {
    "tags": [
     "navigation"
    ]
   },
   "source": [
    "[Indice](index.ipynb) | Previo: [RelatividadGeneral.PostuladosBasicos](01.01.00.00.RelatividadGeneral.PostuladosBasicos.ipynb) | Siguiente: [RelatividadGeneral.SimbolosChristoffel](01.03.00.00.RelatividadGeneral.SimbolosChristoffel.ipynb)"
   ]
  }
 ],
 "metadata": {
  "celltoolbar": "Tags",
  "kernelspec": {
   "display_name": "Python 3",
   "language": "python",
   "name": "python3"
  },
  "language_info": {
   "codemirror_mode": {
    "name": "ipython",
    "version": 3
   },
   "file_extension": ".py",
   "mimetype": "text/x-python",
   "name": "python",
   "nbconvert_exporter": "python",
   "pygments_lexer": "ipython3",
   "version": "3.6.8"
  }
 },
 "nbformat": 4,
 "nbformat_minor": 2
}
