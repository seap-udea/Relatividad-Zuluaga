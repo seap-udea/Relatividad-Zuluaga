{
 "cells": [
  {
   "cell_type": "markdown",
   "metadata": {
    "tags": [
     "navigation"
    ]
   },
   "source": [
    "[Indice](index.ipynb) | Previo: [RelatividadEspecial.SintesisMecanicaRelativista](01.07.00.00.RelatividadEspecial.SintesisMecanicaRelativista.ipynb) | Siguiente: [RelatividadEspecial.ProblemasSeleccionados](01.09.00.00.RelatividadEspecial.ProblemasSeleccionados.ipynb)"
   ]
  },
  {
   "cell_type": "markdown",
   "metadata": {},
   "source": [
    "## Electrodinamica manifiestamente covariante"
   ]
  },
  {
   "cell_type": "markdown",
   "metadata": {},
   "source": [
    "En la deducción de las transformaciones de Lorentz-Einstein habíamos encontrado que por ser covariantes los campos eléctrico y magnético deben transformar como:\n",
    "\n",
    "\\begin{eqnarray}\n",
    "\\nonumber\n",
    "B_z'&=&\\gamma\\left(B_z-\\frac{u}{c} E_y\\right)\\\\\n",
    "\\nonumber\n",
    "E_y'&=&\\gamma\\left(E_y-\\frac{u}{c}B_z\\right)\n",
    "\\end{eqnarray}"
   ]
  },
  {
   "cell_type": "markdown",
   "metadata": {},
   "source": [
    "Esta relación es una interesante novedad en el electromagnetismo clásico en tanto propone una conexión entre los campos eléctrico y magnético (incluso estáticos) que no estaba en la teoría original de Maxwell. Nos lleva a pensar en la idea de que existe una manera alternativa y más general de escribir la teoría electromagnética consistente con los postulados de la relatividad."
   ]
  },
  {
   "cell_type": "markdown",
   "metadata": {},
   "source": [
    "Como hemos visto antes, una manera de garantizar que las nuevas ecuaciones sean covariantes sería escribirlas en términos de escalares y tensores, o en otros términos necesitamos escribir las **ecuaciones de la electrodinámica manifiestamente covariantes**."
   ]
  },
  {
   "cell_type": "markdown",
   "metadata": {},
   "source": [
    "### 1.15.3. Ecuaciones de la electrodinámica\n",
    "<a id='ecuaciones_electrodinamica'></a>"
   ]
  },
  {
   "cell_type": "markdown",
   "metadata": {},
   "source": [
    "Las ecuaciones que necesitamos escribir de forma manifiestamente covariantes son:\n",
    "\n",
    "- **Ecuaciones de Maxwell**:\n",
    "\n",
    "  \\begin{eqnarray}\n",
    "  \\vec{\\nabla}\\cdot\\vec{E}&=&4\\pi\\rho\\\\\n",
    "  \\vec{\\nabla}\\cdot\\vec{B}&=&0\\\\\n",
    "  \\vec{\\nabla}\\times\\vec{E}+\\frac{1}{c}\\frac{\\partial\\vec B}{\\partial t}&=&0\\\\\n",
    "  \\vec{\\nabla}\\times\\vec{B}-\\frac{1}{c}\\frac{\\partial\\vec E}{\\partial t}&=&\\frac{4\\pi}{c}\\vec{J}\\\\  \n",
    "  \\end{eqnarray}"
   ]
  },
  {
   "cell_type": "markdown",
   "metadata": {},
   "source": [
    "\n",
    "- **Conservación de la carga eléctrica**:\n",
    "\n",
    "  $$\n",
    "  \\frac{\\partial\\rho}{\\partial t}=-\\vec{\\nabla}\\cdot\\vec J\n",
    "  $$"
   ]
  },
  {
   "cell_type": "markdown",
   "metadata": {},
   "source": [
    "- **Ley de Lorentz**:\n",
    "\n",
    "  Sobre una carga individual:\n",
    "  $$\n",
    "  \\vec F = q (\\vec E + \\frac{1}{c}q\\vec v\\times \\vec B)\n",
    "  $$\n",
    "  \n",
    "  Sobre una corriente de carga:\n",
    "  $$\n",
    "  \\vec f = \\rho \\vec E + \\frac{1}{c}\\vec J\\times \\vec B\n",
    "  $$"
   ]
  },
  {
   "cell_type": "markdown",
   "metadata": {},
   "source": [
    "Donde las cantidades implicadas son:\n",
    "\n",
    "+ **Campo eléctrico ${\\vec E}$**. Es una cantidad fundamental.  En la teoría clásica es producido por cargas individuales (a través de la primera ecuación) o en simultánea con campos magnéticos variables (tercera ecuación). Las unidades del campo eléctrico son: $[E]=$V/m (1 V = 1 J/C)."
   ]
  },
  {
   "cell_type": "markdown",
   "metadata": {},
   "source": [
    "+ **Densidad de flujo magnético ${\\vec B}$**.  Esta relacionada con el campo magnético $\\vec H$.  En el vacío $\\vec H=\\mu_0 \\vec B$, donde $\\mu_0=4\\pi\\times 10^{-7}$ N m A$^{-1}$ (1 A = 1 C/s).  Las unidades de la densidad de flujo magnético son: $[B]=$T (Tesla, 1 T = N m$^{-1}$ A$^{-1}$)."
   ]
  },
  {
   "cell_type": "markdown",
   "metadata": {},
   "source": [
    "+ **Densidad de carga eléctrica $\\rho$**.  La carga eléctrica es una propiedad fundamental de algunas partículas elementales en la naturaleza.  La carga de una partícula se *asume* un invariante en la relatividad.  Las unidades de densidad de carga son $[\\rho]$=C m$^{-3}$."
   ]
  },
  {
   "cell_type": "markdown",
   "metadata": {},
   "source": [
    "+ **Densidad de flujo de corriente $\\vec J$**. Cuando en el espacio hay cargas en movimiento se puede definir el clujo de carga somo la tasa a la que pasa carga eléctrica por unidad de área.  Las unidades de la densidad de flujo de corriente es $[J]$=A m$^{-2}$."
   ]
  },
  {
   "cell_type": "markdown",
   "metadata": {},
   "source": [
    "+ **Veclocidad de la luz $c$**.  Es una constante de la naturaleza $c=2.999792458\\times 10^8$ m s$^{-1}$.  Se relaciona con otra constante que no aparece explícitamente en la versión de las ecuaciones escritas arriba, la permeabilidad eléctrica del vacío, $\\epsilon_0=8.854\\times 10^{-12}$ C$^2$ m$^{-2}$ N$^{-1}$."
   ]
  },
  {
   "cell_type": "markdown",
   "metadata": {},
   "source": [
    "+ **Potencial escalar eléctrico $\\phi$ y vectorial magnético $\\vec A$**.  Las ecuaciones de Maxwell pueden escribirse también en términos de funciones potenciales, que permiten escribir los campos de forma alternativa como:\n",
    "\n",
    "    \\begin{eqnarray}\n",
    "    \\nonumber\n",
    "    \\vec B & = & \\vec{\\nabla}\\times\\vec A\\\\\n",
    "    \\nonumber\n",
    "    \\vec E & = & -\\vec{\\nabla}\\phi-\\frac{1}{c}\\frac{\\partial\\vec A}{\\partial t}\n",
    "    \\end{eqnarray}"
   ]
  },
  {
   "cell_type": "markdown",
   "metadata": {},
   "source": [
    "+ **Libertad Gauge**.  Los potenciales pueden escogerse de una diversidad muy amplia de familias.  En particular:\n",
    "\n",
    "    \\begin{eqnarray}\n",
    "      \\nonumber\n",
    "      \\vec A' & = & \\vec A+\\vec{\\nabla}\\chi\\\\\n",
    "      \\nonumber\n",
    "      \\phi' & = & \\phi-\\frac{1}{c}\\frac{\\partial \\chi}{\\partial t}\n",
    "      \\end{eqnarray}\n",
    "\n",
    "    también son potenciales validos.  ¿Qué funciones de potencial elegir?."
   ]
  },
  {
   "cell_type": "markdown",
   "metadata": {},
   "source": [
    "+ **Gauge de Coulomb**.  Si se reemplaza la definición del campo eléctrico en la primera ecuación de Maxwell se obtiene:\n",
    "\n",
    "  $$\n",
    "  \\frac{1}{c}\\frac{\\partial}{\\partial t}(\\vec{\\nabla}\\cdot\\vec{A})+\\vec{\\nabla}^2\\phi=-4\\pi\\rho\n",
    "  $$\n",
    "  Esta ecuación adopta la forma de la ley de Coulomb si se escoge arbitrariamente que el potencial vectorial magnético cumpla la condición:\n",
    "  \n",
    "  $$\n",
    "  \\vec{\\nabla}\\cdot\\vec{A}=0\n",
    "  $$\n",
    "  que se conoce como **gauge de Coulomb**.  Esta condición sin embargo no es covariante (no involucra tensores, ni invariantes) y por lo tanto no es apropiada para la relatividad."
   ]
  },
  {
   "cell_type": "markdown",
   "metadata": {},
   "source": [
    "+ **Gauge de Lorentz**.  Un gauge que resulta covariante puede escribirse como:\n",
    "\n",
    "  $$\n",
    "  \\frac{1}{c}\\frac{\\partial\\phi}{\\partial t}+\\vec{\\nabla}\\cdot\\vec{A}=0\n",
    "  $$\n",
    "  \n",
    "  Cuando los potenciales se escriben con esta condición se dice que se usa el gauge de Lorenz.\n",
    "  \n",
    "  Nótese que si se usa el gauge de Lorentz la primera ecuación inhomogénea de Maxwell es equivalente a la ecuación:\n",
    "  \n",
    "  $$\n",
    "  \\frac{1}{c^2}\\frac{\\partial^2\\phi}{\\partial t^2}-\\vec{\\nabla}^2\\phi=4\\pi\\rho\n",
    "  $$\n",
    "  \n",
    "  Puede probarse, de la misma manera, que la ecuación inhomogénea del campo magnético se puede escribir de forma análoga como:\n",
    "  \n",
    "  $$\n",
    "  \\frac{1}{c^2}\\frac{\\partial^2\\vec A}{\\partial t^2}-\\vec{\\nabla}^2\\vec A=\\frac{4\\pi}{c}\\vec J\n",
    "  $$\n",
    "  \n",
    "  Estas dos ecuaciones son ecuaciones de onda con fuentes $\\rho$ y $\\vec J$.  El gauge de Lorenz entonces, físicamente, representa la acción de los campos mediada por ondas electromagnéticas, mientras que el gauge de Coulomb representa la acción del campo a distancia, instantáneamente."
   ]
  },
  {
   "cell_type": "markdown",
   "metadata": {},
   "source": [
    "### 1.15.4. La cuadricorriente\n",
    "<a id='continuidad'></a>"
   ]
  },
  {
   "cell_type": "markdown",
   "metadata": {},
   "source": [
    "La primera cantidad que podemos escribir como un tensor es la densidad de corriente eléctrica."
   ]
  },
  {
   "cell_type": "markdown",
   "metadata": {},
   "source": [
    "En el sistema de referencia propio de una nube de cargas, la densidad de carga eléctrica es:\n",
    "\n",
    "$$\n",
    "\\rho_0=\\frac{\\sum q_i}{V_0}\n",
    "$$"
   ]
  },
  {
   "cell_type": "markdown",
   "metadata": {},
   "source": [
    "En un sistema de referencia inercial arbitrario sabemos que la carga es invariante pero el volumen transforma como $V=V_0/\\gamma$ de modo que la densidad en el sistema del observador:\n",
    "\n",
    "$$\n",
    "\\rho=\\gamma\\rho_0\n",
    "$$"
   ]
  },
  {
   "cell_type": "markdown",
   "metadata": {},
   "source": [
    "Por otro lado la densidad de carga eléctrica de una nube que se mueve con velocidad $\\vec v$ respecto al observador es:\n",
    "\n",
    "$$\n",
    "\\vec J = \\rho \\vec v = \\gamma \\rho_0 \\frac{\\mathrm{d}\\vec r}{\\mathrm{d}t}\n",
    "$$"
   ]
  },
  {
   "cell_type": "markdown",
   "metadata": {},
   "source": [
    "Al comparar las cantidades anteriores con el cuadrivector velocidad podemos ver que tanto $\\rho$ como $\\vec J$ se pueden considerar las componentes temporal y espacial del cuadrivector:\n",
    "\n",
    "$$\n",
    "J_L^\\mu=\\rho_0 U_L^\\mu:\\gamma\\rho_0(1,\\vec{v}_L):(\\rho,\\vec{J}_L)\n",
    "$$\n",
    "o en unidades convencionales:\n",
    "\n",
    "$$\n",
    "J^\\mu:(c\\rho,\\vec{J})\n",
    "$$\n"
   ]
  },
  {
   "cell_type": "markdown",
   "metadata": {},
   "source": [
    "En términos de la cuadricorriente la ecuación de continuidad o de conservación de la carga se puede escribir como:\n",
    "\n",
    "\\begin{eqnarray}\n",
    "\\nonumber\n",
    "\\frac{\\partial\\rho}{\\partial t}+\\vec{\\nabla}\\cdot\\vec J&=&0\\\\\n",
    "\\nonumber\n",
    "\\frac{\\partial\\rho}{\\partial t}+\\sum_i\\frac{\\partial J_{Li}}{\\partial x_{Li}}&=&0\\\\\n",
    "\\nonumber\n",
    "\\frac{\\partial J_L^0}{\\partial x^0}+\\sum_i\\frac{\\partial J_{Li}}{\\partial x^i_{L}}&=&0\n",
    "\\end{eqnarray}\n",
    "y usando la notación de Einstein:\n",
    "\n",
    "$$\n",
    "\\partial_\\mu J^\\mu=0\n",
    "$$"
   ]
  },
  {
   "cell_type": "markdown",
   "metadata": {
    "label": "",
    "subtitle": "Derivada covariante o derivada coma**.  Definimos la **derivada covariante** o **derivada coma",
    "tags": [
     "box_definition"
    ],
    "title": "Definición"
   },
   "source": [
    "> **Definición 1.14. Derivada covariante o derivada coma**.  Definimos la **derivada covariante** o **derivada coma.**<a id=''></a> de un campo tensorial $A^{\\alpha\\beta\\gamma\\ldots}$ como la derivada del campo respecto a una componente:\n",
    "\n",
    "$$\n",
    "A^{\\alpha\\beta\\gamma\\ldots}{,_\\mu} \\equiv \\partial_\\mu A^{\\alpha\\beta\\gamma\\ldots}\n",
    "$$"
   ]
  },
  {
   "cell_type": "markdown",
   "metadata": {},
   "source": [
    "Usando la notación de la derivada coma, la ecuación de continuidad se escribe finalmente como:\n",
    "\n",
    "$$\n",
    "J^\\mu_{,\\mu}=0\n",
    "$$\n",
    "\n",
    "Esta es la forma **manifiestamente covariante** de la ecuación de continudad."
   ]
  },
  {
   "cell_type": "markdown",
   "metadata": {},
   "source": [
    "### 1.15.5. Ecuaciones de Maxwell inhomogéneas\n",
    "<a id='maxwell_inhomogeneas'></a>"
   ]
  },
  {
   "cell_type": "markdown",
   "metadata": {},
   "source": [
    "Habíamos escrito las ecuaciones inhomogéneas en la forma:\n",
    "\n",
    "\\begin{eqnarray}\n",
    "\\nonumber\n",
    "\\frac{1}{c^2}\\frac{\\partial^2\\phi}{\\partial t^2}-\\vec{\\nabla}^2\\phi & = & 4\\pi\\rho\\\\\n",
    "\\nonumber\n",
    "\\frac{1}{c^2}\\frac{\\partial^2\\vec A}{\\partial t^2}-\\vec{\\nabla}^2\\vec A & = & \\frac{4\\pi}{c}\\vec J\n",
    "\\end{eqnarray}\n",
    "  "
   ]
  },
  {
   "cell_type": "markdown",
   "metadata": {},
   "source": [
    "En estas ecuaciones se pueden reconocer algunas propiedades importantes para nuestro propósito:\n",
    "\n",
    "- El operador diferencial en las dos ecuaciones se puede escribir en términos de la derivada covariante como:\n",
    "\n",
    "  $$\n",
    "  \\frac{1}{c^2}\\frac{\\partial^2}{\\partial t^2}-\\vec{\\nabla}^2=\\partial_\\mu \\partial^\\mu\n",
    "  $$\n",
    "  \n",
    "- El lado derecho de las dos ecuaciones son las componentes de la cuadricorriente."
   ]
  },
  {
   "cell_type": "markdown",
   "metadata": {},
   "source": [
    "De este modo las ecuaciones se pueden escribir como:\n",
    "\n",
    "\\begin{eqnarray}\n",
    "\\nonumber\n",
    "\\partial_\\mu \\partial^\\mu \\phi & = & \\frac{4\\pi}{c} J^0\\\\\n",
    "\\nonumber\n",
    "\\partial_\\mu \\partial^\\mu \\vec A & = & \\frac{4\\pi}{c} \\vec{J}\\\\\n",
    "\\end{eqnarray}"
   ]
  },
  {
   "cell_type": "markdown",
   "metadata": {},
   "source": [
    "Es decir si definimos la cantidad:\n",
    "\n",
    "$$\n",
    "A^\\mu:(\\phi,\\vec A)\n",
    "$$\n",
    "las ecuaciones inhomogéneas de Maxwell se pueden escribir de forma manifiestamente covariantes como:\n",
    "\n",
    "$$\n",
    "\\partial_\\mu \\partial^\\mu A^\\nu = \\frac{4\\pi}{c} J^\\nu\n",
    "$$\n",
    "y de la naturaleza tensorial de las cantidades involucrados podemos deducir que $A^\\nu$ es también un tensor que podríamos llamar el **cuadripotencial** electromagnético."
   ]
  },
  {
   "cell_type": "markdown",
   "metadata": {},
   "source": [
    "### 1.15.6. Los campos en términos tensoriales\n",
    "<a id='campos_tensoriales'></a>"
   ]
  },
  {
   "cell_type": "markdown",
   "metadata": {},
   "source": [
    "La introducción del cuadripotencial nos permite escribir los campos eléctrico y magnético en términos tensoriales, lo que será muy útil para derivar la forma de las ecuaciones de Maxwell manifiestamente covariantes."
   ]
  },
  {
   "cell_type": "markdown",
   "metadata": {},
   "source": [
    "Por definición de los potenciales:\n",
    "\n",
    "\\begin{eqnarray}\n",
    "\\nonumber\n",
    "\\vec B & = & \\vec{\\nabla}\\times\\vec A\\\\\n",
    "\\nonumber\n",
    "\\vec E & = & -\\vec{\\nabla}\\phi-\\frac{1}{c}\\frac{\\partial\\vec A}{\\partial t}\n",
    "\\end{eqnarray}"
   ]
  },
  {
   "cell_type": "markdown",
   "metadata": {},
   "source": [
    "Si lo escribimos en términos de las componentes explícitas del cuadripotencial obtenemos:\n",
    "\n",
    "$$\n",
    "\\begin{array}{rcl}\n",
    "B^i & = & \\sum_{j,k} \\epsilon_{ijk} \\partial_j A^k\\\\\n",
    "E^i & = & -\\partial_i A^0-\\partial_0 A^i\n",
    "\\end{array}\n",
    "$$\n",
    "donde $\\epsilon_{ijk}$ es el símbolo de Levi-Civita."
   ]
  },
  {
   "cell_type": "markdown",
   "metadata": {},
   "source": [
    "Una interesante simetría se produce si escribimos las componentes explícitas:\n",
    "\n",
    "$$\n",
    "\\begin{array}{rcl}\n",
    "B^1 & = & \\partial_2 A^3-\\partial_3 A^2\\\\\n",
    "E^1 & = & -\\partial_1 A^0-\\partial_0 A^1\n",
    "\\end{array}\n",
    "$$"
   ]
  },
  {
   "cell_type": "markdown",
   "metadata": {},
   "source": [
    "### 1.15.7. El tensor de Faraday\n",
    "<a id='tensor_faraday'></a>"
   ]
  },
  {
   "cell_type": "markdown",
   "metadata": {},
   "source": [
    "Si usamos las componentes contravariantes de la derivada (que implican simplemente un cambio en el signo de las componentes espaciales de las derivadas) podemos escribir:\n",
    "\n",
    "$$\n",
    "\\begin{array}{rcl}\n",
    "B^1 & = & -\\partial^2 A^3+\\partial^2 A^2\\\\\n",
    "E^1 & = & \\partial^1 A^0-\\partial^0 A^1\n",
    "\\end{array}\n",
    "$$\n",
    "que se puede escribir como:\n",
    "\n",
    "$$\n",
    "\\begin{array}{rcl}\n",
    "B^1 & = & -(\\partial^2 A^3-\\partial^2 A^2)\\\\\n",
    "E^1 & = & -(\\partial^0 A^1-\\partial^1 A^0)\n",
    "\\end{array}\n",
    "$$\n"
   ]
  },
  {
   "cell_type": "markdown",
   "metadata": {},
   "source": [
    "De aquí, si definimos el tensor contravariante de segundo rango:\n",
    "\n",
    "$$\n",
    "F^{\\mu\\nu}\\equiv\\partial^\\mu A^\\nu - \\partial^\\nu A^\\mu\n",
    "$$"
   ]
  },
  {
   "cell_type": "markdown",
   "metadata": {},
   "source": [
    "Vemos que el campo eléctrico y el campo magnético se pueden escribir en términos de este tensor como:\n",
    "\n",
    "$$\n",
    "\\begin{array}{rcl}\n",
    "B^i & = & - \\epsilon_{ijk} F^{jk}\\\\\n",
    "E^i & = & - F^{i0}\n",
    "\\end{array}\n",
    "$$\n",
    "donde es importante anotar que en la primera expresión no se usa la convención de suma de Einstein."
   ]
  },
  {
   "cell_type": "markdown",
   "metadata": {},
   "source": [
    "Otra manera de verlo podría ser escribir explícitamente las componentes del tensor en coordenadas cartesianas:\n",
    "\n",
    "$$\n",
    "F^{\\mu\\nu}:\n",
    "\\left(\n",
    "\\begin{array}{cccc}\n",
    "0 & -E_x & -E_y & -E_z\\\\\n",
    "E_x & 0 & -B_z & +B_y \\\\\n",
    "E_y & +B_z & 0 & -B_x \\\\\n",
    "E_z & -B_y & +B_x & 0 \\\\\n",
    "\\end{array}\n",
    "\\right)\n",
    "$$"
   ]
  },
  {
   "cell_type": "markdown",
   "metadata": {},
   "source": [
    "Llamamos a $F^{\\mu\\nu}$ el **tensor electromagnético** o **tensor de Faraday**."
   ]
  },
  {
   "cell_type": "markdown",
   "metadata": {
    "label": "",
    "subtitle": "Propiedades del tensor de Faraday",
    "tags": [
     "box_proposition"
    ],
    "title": "Proposición"
   },
   "source": [
    "> **Proposición: Propiedades del tensor de Faraday.**<a id=''></a> El tensor de Faraday tiene las siguientes propiedades:\n",
    "\n",
    "> - **Antisimetría**: $F^{\\mu\\nu}=-F^{\\nu\\mu}$\n",
    "> - **Traza nula**: $\\sum_\\mu F^{\\mu\\mu}=0$\n",
    "> - **Propiedad cíclica de la derivada contravariante**: \n",
    "    $$\\partial^{[\\alpha}F^{\\mu\\nu]}\\equiv\\partial^\\alpha F^{\\mu\\nu}+\\partial^\\mu F^{\\nu\\alpha}+\\partial^\\nu F^{\\alpha\\mu}=0$$\n",
    "> - **Determinante invariante**: $\\det F^{\\mu\\nu}=(\\vec E\\cdot \\vec B)^2$\n",
    "> - **Escalar**: $F^{\\mu\\nu}F_{\\mu\\nu}=2(E^2-B^2)$."
   ]
  },
  {
   "cell_type": "markdown",
   "metadata": {},
   "source": [
    "### 1.15.8. Ecuaciones de Maxwell y el tensor de Faraday\n",
    "<a id='maxwell_faraday'></a>"
   ]
  },
  {
   "cell_type": "markdown",
   "metadata": {},
   "source": [
    "Las ecuaciones de Maxwell inhomogenéas las habíamos escrito como:\n",
    "\n",
    "$$\n",
    "\\partial_\\nu \\partial^\\mu A^\\nu = \\frac{4\\pi}{c} J^\\nu\n",
    "$$"
   ]
  },
  {
   "cell_type": "markdown",
   "metadata": {},
   "source": [
    "Podemos sumar y restar $\\partial_\\mu\\partial^\\nu A^\\mu$ para obtener:\n",
    "\n",
    "$$\n",
    "\\partial_\\mu(\\partial^\\mu A^\\nu-\\partial^\\nu A^\\mu)+ \\partial_\\mu \\partial^\\nu A^\\mu= \\frac{4\\pi}{c} J^\\nu\n",
    "$$"
   ]
  },
  {
   "cell_type": "markdown",
   "metadata": {},
   "source": [
    "Ahora bien, por el gauge de Lorenz:\n",
    "\n",
    "$$\n",
    "\\frac{1}{c}\\frac{\\partial\\phi}{\\partial t}+\\vec{\\nabla}\\cdot\\vec{A}=\\partial_\\mu A^\\mu \n",
    "$$\n",
    "y por lo tanto el segundo término en el lado izquierdo es cero."
   ]
  },
  {
   "cell_type": "markdown",
   "metadata": {},
   "source": [
    "Con esto las ecuaciones de Maxwell inhomogeneas se pueden escribir en términos del tensor de Faraday como:\n",
    "\n",
    "$$\n",
    "{F^{\\mu\\nu}}_{,\\mu}=\\frac{4\\pi}{c}J^\\nu\n",
    "$$"
   ]
  },
  {
   "cell_type": "markdown",
   "metadata": {},
   "source": [
    "Qué es la **forma manifiestamente covariante de las ecuaciones inhomogéneas de Maxwell**."
   ]
  },
  {
   "cell_type": "markdown",
   "metadata": {},
   "source": [
    "¿Y las ecuaciones de Maxwell homogéneas?.  Estas ecuaciones son:\n",
    "\n",
    "\\begin{eqnarray}\n",
    "\\nonumber\n",
    "\\vec{\\nabla}\\cdot\\vec{B}&=&0\\\\\n",
    "\\nonumber\n",
    "\\vec{\\nabla}\\times\\vec{E}+\\frac{1}{c}\\frac{\\partial\\vec B}{\\partial t}&=&0\\\\\n",
    "\\end{eqnarray}"
   ]
  },
  {
   "cell_type": "markdown",
   "metadata": {},
   "source": [
    "Vemos que se trata de 4 ecuaciones que se pueden escribir también en la forma:\n",
    "\n",
    "$$\n",
    "\\begin{array}{rcl}\n",
    "\\partial_1 B_x + \\partial_2 B_y + \\partial_3 B_z & = & 0 \\\\\n",
    "\\partial_0 B_x + \\partial_2 E_z - \\partial_3 E_y & = & 0 \\\\\n",
    "\\partial_0 B_y + \\partial_3 E_x - \\partial_1 E_z & = & 0 \\\\\n",
    "\\partial_0 B_z + \\partial_1 E_y - \\partial_2 E_x & = & 0 \\\\\n",
    "\\end{array}\n",
    "$$"
   ]
  },
  {
   "cell_type": "markdown",
   "metadata": {},
   "source": [
    "Reemplazando los valores del campo por las respectivas entradas del vector de Faraday estas ecuaciones se pueden escribir como:\n",
    "\n",
    "$$\n",
    "\\begin{array}{rcl}\n",
    "\\partial_1 F^{32} + \\partial_2 F^{13} + \\partial_3 F^{21} & = & 0 \\\\\n",
    "\\partial_0 F^{32} + \\partial_2 F^{30} - \\partial_3 F^{20} & = & 0 \\\\\n",
    "\\partial_0 F^{13} + \\partial_3 F^{10} - \\partial_1 F^{30} & = & 0 \\\\\n",
    "\\partial_0 F^{21} + \\partial_1 F^{20} - \\partial_2 F^{10} & = & 0 \\\\\n",
    "\\end{array}\n",
    "$$"
   ]
  },
  {
   "cell_type": "markdown",
   "metadata": {},
   "source": [
    "Si se cambian las derivadas covariantes por derivadas contravariantes y se reorganizan los índices, se obtienen expresiones que recuerdan una propiedad introducida antes:\n",
    "\n",
    "$$\n",
    "\\begin{array}{rcl}\n",
    "\\partial^1 F^{23} + \\partial^2 F^{31} + \\partial^3 F^{12} & = & 0 \\\\\n",
    "\\partial^0 F^{32} + \\partial^3 F^{20} + \\partial^2 F^{03} & = & 0 \\\\\n",
    "\\partial^0 F^{13} + \\partial^1 F^{30} + \\partial^3 F^{10} & = & 0 \\\\\n",
    "\\partial^0 F^{21} + \\partial^2 F^{10} + \\partial^1 F^{02} & = & 0 \\\\\n",
    "\\end{array}\n",
    "$$\n",
    "que no son otra cosa que la propiedad cíclica de la derivada contravariante del tensor de Faraday:\n",
    "\n",
    "$$\n",
    "\\partial^{[\\alpha}F^{\\mu\\nu]}=0\n",
    "$$"
   ]
  },
  {
   "cell_type": "markdown",
   "metadata": {},
   "source": [
    "### 1.15.9. La fuerza de Lorentz\n",
    "<a id='fuerza_lorentz_covariante'></a>"
   ]
  },
  {
   "cell_type": "markdown",
   "metadata": {},
   "source": [
    "La fuerza de Lorentz para una sola partícula es:\n",
    "\n",
    "$$\n",
    "\\vec F = q \\vec E + \\frac{1}{c}q\\vec{v}\\times \\vec B\n",
    "$$"
   ]
  },
  {
   "cell_type": "markdown",
   "metadata": {},
   "source": [
    "Escribiendo explícitamente la componente $x$ queda:\n",
    "\n",
    "$$\n",
    "\\frac{\\mathrm{d}p_x}{\\mathrm{d}t}=\\frac{q}{c} (cE_x + v_y B_z - v_z B_y)\n",
    "$$"
   ]
  },
  {
   "cell_type": "markdown",
   "metadata": {},
   "source": [
    "Multiplicando por $\\gamma$ a ambos lados podemos escribir:\n",
    "\n",
    "$$\n",
    "\\frac{\\mathrm{d}P^1}{\\mathrm{d}\\tau}=\\frac{q}{c} (U^0 F^{10} - U^2 F^{12} - U^3 F^{13})\n",
    "$$"
   ]
  },
  {
   "cell_type": "markdown",
   "metadata": {},
   "source": [
    "De donde podemos proponer la generalización para calcular la cuadrifuerza:\n",
    "\n",
    "$$\n",
    "f^\\mu=\\frac{q}{c}F^{\\mu\\nu}U_\\nu\n",
    "$$\n",
    "que llevada a un conjunto de cargas se puede escribir como:\n",
    "\n",
    "$$\n",
    "f^\\mu=F^{\\mu\\nu}J_\\nu\n",
    "$$\n"
   ]
  },
  {
   "cell_type": "markdown",
   "metadata": {},
   "source": [
    "### 1.15.1. Transformación de los campos\n",
    "<a id='transformacion_campos'></a>"
   ]
  },
  {
   "cell_type": "markdown",
   "metadata": {},
   "source": [
    "Llegados a este punto podemos encontrar las leyes de transformación de los campos eléctricos y magnético."
   ]
  },
  {
   "cell_type": "markdown",
   "metadata": {},
   "source": [
    "### 1.15.11. Síntesis\n",
    "<a id='sintesis'></a>"
   ]
  },
  {
   "cell_type": "markdown",
   "metadata": {},
   "source": [
    "En síntesis la dinámica de cargas y campos electromagnéticos clásicos se describen con:\n",
    "\n",
    "\\begin{eqnarray}\n",
    "F^{[\\mu\\nu,\\alpha]} & = & 0\\\\\n",
    "{F^{\\mu\\nu}}_{,\\mu} & = & \\frac{4\\pi}{c}J^\\mu\\\\\n",
    "{J^\\mu}_{,\\nu} & = & 0\\\\\n",
    "f^\\mu & = & F^{\\mu\\nu} J_\\nu\n",
    "\\end{eqnarray}\n",
    "\n",
    "donde $F^{\\mu\\nu}\\equiv\\partial^\\mu A^\\nu-\\partial^\\nu A^\\mu$ y el cuadripotencial cumple ${A^\\mu}_{,\\mu}=0$ (gauge de Lorenz)."
   ]
  },
  {
   "cell_type": "markdown",
   "metadata": {
    "tags": [
     "navigation"
    ]
   },
   "source": [
    "[Indice](index.ipynb) | Previo: [RelatividadEspecial.SintesisMecanicaRelativista](01.07.00.00.RelatividadEspecial.SintesisMecanicaRelativista.ipynb) | Siguiente: [RelatividadEspecial.ProblemasSeleccionados](01.09.00.00.RelatividadEspecial.ProblemasSeleccionados.ipynb)"
   ]
  }
 ],
 "metadata": {
  "celltoolbar": "Tags",
  "kernelspec": {
   "display_name": "Python 3",
   "language": "python",
   "name": "python3"
  },
  "language_info": {
   "codemirror_mode": {
    "name": "ipython",
    "version": 3
   },
   "file_extension": ".py",
   "mimetype": "text/x-python",
   "name": "python",
   "nbconvert_exporter": "python",
   "pygments_lexer": "ipython3",
   "version": "3.6.8"
  }
 },
 "nbformat": 4,
 "nbformat_minor": 2
}
