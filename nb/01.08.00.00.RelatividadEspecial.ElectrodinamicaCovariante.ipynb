{
 "cells": [
  {
   "cell_type": "markdown",
   "metadata": {
    "tags": [
     "navigation"
    ]
   },
   "source": [
    "[Indice](index.ipynb) | Previo: [RelatividadEspecial.SintesisMecanicaRelativista](01.07.00.00.RelatividadEspecial.SintesisMecanicaRelativista.ipynb) | Siguiente: [RelatividadEspecial.ProblemasSeleccionados](01.09.00.00.RelatividadEspecial.ProblemasSeleccionados.ipynb)"
   ]
  },
  {
   "cell_type": "markdown",
   "metadata": {},
   "source": [
    "## Electrodinamica Covariante"
   ]
  },
  {
   "cell_type": "markdown",
   "metadata": {},
   "source": [
    "En la deducción de las transformaciones de Lorentz-Einstein habíamos encontrado que por ser covariantes los campos eléctrico y magnético deben transformar como:\n",
    "\n",
    "\\begin{eqnarray}\n",
    "\\nonumber\n",
    "B_z'&=&\\gamma\\left(B_z-\\frac{u}{c} E_y\\right)\\\\\n",
    "\\nonumber\n",
    "E_y'&=&\\gamma\\left(E_y-\\frac{u}{c}B_z\\right)\n",
    "\\end{eqnarray}"
   ]
  },
  {
   "cell_type": "markdown",
   "metadata": {},
   "source": [
    "Esta relación es una interesante novedad en el electromagnetismo clásico en tanto propone una conexión entre los campos eléctrico y magnético (incluso estáticos) que no estaba en la teoría original de Maxwell. Nos lleva a pensar en la idea de que existe una manera alternativa y más general de escribir la teoría electromagnética consistente con los postulados de la relatividad."
   ]
  },
  {
   "cell_type": "markdown",
   "metadata": {},
   "source": [
    "Como hemos visto antes, una manera de garantizar que las nuevas ecuaciones sean covariantes sería escribirlas en términos de escalares y tensores, o en otros términos necesitamos escribir las **ecuaciones de la electrodinámica manifiestamente covariantes**."
   ]
  },
  {
   "cell_type": "markdown",
   "metadata": {},
   "source": [
    "### 1.15.3. Ecuaciones de la electrodinámica\n",
    "<a id='ecuaciones_electrodinamica'></a>"
   ]
  },
  {
   "cell_type": "markdown",
   "metadata": {},
   "source": [
    "Las ecuaciones que necesitamos escribir de forma manifiestamente covariantes son:\n",
    "\n",
    "- **Ecuaciones de Maxwell**:\n",
    "\n",
    "  \\begin{eqnarray}\n",
    "  \\vec{\\nabla}\\cdot\\vec{E}&=&4\\pi\\rho\\\\\n",
    "  \\vec{\\nabla}\\cdot\\vec{B}&=&0\\\\\n",
    "  \\vec{\\nabla}\\times\\vec{E}+\\frac{1}{c}\\frac{\\partial\\vec B}{\\partial t}&=&0\\\\\n",
    "  \\vec{\\nabla}\\times\\vec{B}-\\frac{1}{c}\\frac{\\partial\\vec E}{\\partial t}&=&\\frac{4\\pi}{c}\\vec{J}\\\\  \n",
    "  \\end{eqnarray}"
   ]
  },
  {
   "cell_type": "markdown",
   "metadata": {},
   "source": [
    "\n",
    "- **Conservación de la carga eléctrica**:\n",
    "\n",
    "  $$\n",
    "  \\frac{\\partial\\rho}{\\partial t}=-\\vec{\\nabla}\\cdot\\vec J\n",
    "  $$"
   ]
  },
  {
   "cell_type": "markdown",
   "metadata": {},
   "source": [
    "- **Ley de Lorentz**:\n",
    "\n",
    "  $$\n",
    "  \\vec f = \\rho \\vec E + \\frac{1}{c}\\vec J\\times \\vec B\n",
    "  $$"
   ]
  },
  {
   "cell_type": "markdown",
   "metadata": {},
   "source": [
    "Donde las cantidades implicadas son:\n",
    "\n",
    "+ **Campo eléctrico ${\\vec E}$**. Es una cantidad fundamental.  En la teoría clásica es producido por cargas individuales (a través de la primera ecuación) o en simultánea con campos magnéticos variables (tercera ecuación). Las unidades del campo eléctrico son: $[E]=$V/m (1 V = 1 J/C)."
   ]
  },
  {
   "cell_type": "markdown",
   "metadata": {},
   "source": [
    "+ **Densidad de flujo magnético ${\\vec B}$**.  Esta relacionada con el campo magnético $\\vec H$.  En el vacío $\\vec H=\\mu_0 \\vec B$, donde $\\mu_0=4\\pi\\times 10^{-7}$ N m A$^{-1}$ (1 A = 1 C/s).  Las unidades de la densidad de flujo magnético son: $[B]=$T (Tesla, 1 T = N m$^{-1}$ A$^{-1}$)."
   ]
  },
  {
   "cell_type": "markdown",
   "metadata": {},
   "source": [
    "+ **Densidad de carga eléctrica $\\rho$**.  La carga eléctrica es una propiedad fundamental de algunas partículas elementales en la naturaleza.  La carga de una partícula se *asume* un invariante en la relatividad.  Las unidades de densidad de carga son $[\\rho]$=C m$^{-3}$."
   ]
  },
  {
   "cell_type": "markdown",
   "metadata": {},
   "source": [
    "+ **Densidad de flujo de corriente $\\vec J$**. Cuando en el espacio hay cargas en movimiento se puede definir el clujo de carga somo la tasa a la que pasa carga eléctrica por unidad de área.  Las unidades de la densidad de flujo de corriente es $[J]$=A m$^{-2}$."
   ]
  },
  {
   "cell_type": "markdown",
   "metadata": {},
   "source": [
    "+ **Veclocidad de la luz $c$**.  Es una constante de la naturaleza $c=2.999792458\\times 10^8$ m s$^{-1}$.  Se relaciona con otra constante que no aparece explícitamente en la versión de las ecuaciones escritas arriba, la permeabilidad eléctrica del vacío, $\\epsilon_0=8.854\\times 10^{-12}$ C$^2$ m$^{-2}$ N$^{-1}$."
   ]
  },
  {
   "cell_type": "markdown",
   "metadata": {},
   "source": [
    "+ **Potencial escalar eléctrico $\\phi$ y vectorial magnético $\\vec A$**.  Las ecuaciones de Maxwell pueden escribirse también en términos de funciones potenciales, que permiten escribir los campos de forma alternativa como:\n",
    "\n",
    "    \\begin{eqnarray}\n",
    "    \\nonumber\n",
    "    \\vec B & = & \\vec{\\nabla}\\times\\vec A\\\\\n",
    "    \\nonumber\n",
    "    \\vec E & = & -\\vec{\\nabla}\\phi-\\frac{1}{c}\\frac{\\partial\\vec A}{\\partial t}\n",
    "    \\end{eqnarray}"
   ]
  },
  {
   "cell_type": "markdown",
   "metadata": {},
   "source": [
    "+ **Libertad Gauge**.  Los potenciales pueden escogerse de una diversidad muy amplia de familias.  En particular:\n",
    "\n",
    "    \\begin{eqnarray}\n",
    "      \\nonumber\n",
    "      \\vec A' & = & \\vec A+\\vec{\\nabla}\\chi\\\\\n",
    "      \\nonumber\n",
    "      \\phi' & = & \\phi-\\frac{1}{c}\\frac{\\partial \\chi}{\\partial t}\n",
    "      \\end{eqnarray}\n",
    "\n",
    "    también son potenciales validos.  ¿Qué funciones de potencial elegir?."
   ]
  },
  {
   "cell_type": "markdown",
   "metadata": {},
   "source": [
    "+ **Gauge de Coulomb**.  Si se reemplaza la definición del campo eléctrico en la primera ecuación de Maxwell se obtiene:\n",
    "\n",
    "  $$\n",
    "  \\frac{1}{c}\\frac{\\partial}{\\partial t}(\\vec{\\nabla}\\cdot\\vec{A})+\\vec{\\nabla}^2\\phi=-4\\pi\\rho\n",
    "  $$\n",
    "  Esta ecuación adopta la forma de la ley de Coulomb si se escoge arbitrariamente que el potencial vectorial magnético cumpla la condición:\n",
    "  \n",
    "  $$\n",
    "  \\vec{\\nabla}\\cdot\\vec{A}=0\n",
    "  $$\n",
    "  que se conoce como **gauge de Coulomb**.  Esta condición sin embargo no es covariante (no involucra tensores, ni invariantes) y por lo tanto no es apropiada para la relatividad."
   ]
  },
  {
   "cell_type": "markdown",
   "metadata": {},
   "source": [
    "+ **Gauge de Lorentz**.  Un gauge que resulta covariante puede escribirse como:\n",
    "\n",
    "  $$\n",
    "  \\frac{1}{c}\\frac{\\partial\\phi}{\\partial t}+\\vec{\\nabla}\\cdot\\vec{A}=0\n",
    "  $$\n",
    "  \n",
    "  Cuando los potenciales se escriben con esta condición se dice que se usa el gauge de Lorenz.\n",
    "  \n",
    "  Nótese que si se usa el gauge de Lorentz la primera ecuación inhomogénea de Maxwell es equivalente a la ecuación:\n",
    "  \n",
    "  $$\n",
    "  \\frac{1}{c^2}\\frac{\\partial^2\\phi}{\\partial t^2}-\\vec{\\nabla}^2\\phi=4\\pi\\rho\n",
    "  $$\n",
    "  \n",
    "  Puede probarse, de la misma manera, que la ecuación inhomogénea del campo magnético se puede escribir de forma análoga como:\n",
    "  \n",
    "  $$\n",
    "  \\frac{1}{c^2}\\frac{\\partial^2\\vec A}{\\partial t^2}-\\vec{\\nabla}^2\\vec A=\\frac{4\\pi}{c}\\vec J\n",
    "  $$\n",
    "  \n",
    "  Estas dos ecuaciones son ecuaciones de onda con fuentes $\\rho$ y $\\vec J$.  El gauge de Lorenz entonces, físicamente, representa la acción de los campos mediada por ondas electromagnéticas, mientras que el gauge de Coulomb representa la acción del campo a distancia, instantáneamente."
   ]
  },
  {
   "cell_type": "markdown",
   "metadata": {},
   "source": [
    "### 1.15.4. La cuadricorriente\n",
    "<a id='cuadricorriente'></a>"
   ]
  },
  {
   "cell_type": "markdown",
   "metadata": {},
   "source": [
    "La primera cantidad que podemos escribir como un tensor es la densidad de corriente eléctrica."
   ]
  },
  {
   "cell_type": "markdown",
   "metadata": {},
   "source": [
    "En el sistema de referencia propio de una nube de cargas, la densidad de carga eléctrica es:\n",
    "\n",
    "$$\n",
    "\\rho_0=\\frac{\\sum q_i}{V_0}\n",
    "$$"
   ]
  },
  {
   "cell_type": "markdown",
   "metadata": {},
   "source": [
    "En un sistema de referencia inercial arbitrario sabemos que la carga es invariante pero el volumen transforma como $V=V_0/\\gamma$ de modo que la densidad en el sistema del observador:\n",
    "\n",
    "$$\n",
    "\\rho=\\gamma\\rho_0\n",
    "$$"
   ]
  },
  {
   "cell_type": "markdown",
   "metadata": {},
   "source": [
    "Por otro lado la densidad de carga eléctrica de una nube que se mueve con velocidad $\\vec v$ respecto al observador es:\n",
    "\n",
    "$$\n",
    "\\vec J = \\rho \\vec v = \\gamma \\rho_0 \\frac{\\mathrm{d}\\vec r}{\\mathrm{d}t}\n",
    "$$"
   ]
  },
  {
   "cell_type": "markdown",
   "metadata": {},
   "source": [
    "Al comparar las cantidades anteriores con el cuadrivector velocidad podemos ver que tanto $\\rho$ como $\\vec J$ se pueden considerar las componentes temporal y espacial del cuadrivector:\n",
    "\n",
    "$$\n",
    "J_L^\\mu=\\rho_0 U_L^\\mu:\\gamma\\rho_0(1,\\vec{v}_L)\n",
    "$$"
   ]
  },
  {
   "cell_type": "markdown",
   "metadata": {
    "tags": [
     "navigation"
    ]
   },
   "source": [
    "[Indice](index.ipynb) | Previo: [RelatividadEspecial.SintesisMecanicaRelativista](01.07.00.00.RelatividadEspecial.SintesisMecanicaRelativista.ipynb) | Siguiente: [RelatividadEspecial.ProblemasSeleccionados](01.09.00.00.RelatividadEspecial.ProblemasSeleccionados.ipynb)"
   ]
  }
 ],
 "metadata": {
  "kernelspec": {
   "display_name": "Python 3",
   "language": "python",
   "name": "python3"
  },
  "language_info": {
   "codemirror_mode": {
    "name": "ipython",
    "version": 3
   },
   "file_extension": ".py",
   "mimetype": "text/x-python",
   "name": "python",
   "nbconvert_exporter": "python",
   "pygments_lexer": "ipython3",
   "version": "3.6.8"
  }
 },
 "nbformat": 4,
 "nbformat_minor": 2
}
