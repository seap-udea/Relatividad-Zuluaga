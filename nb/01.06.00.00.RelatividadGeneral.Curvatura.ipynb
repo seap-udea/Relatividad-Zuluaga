{
 "cells": [
  {
   "cell_type": "markdown",
   "metadata": {
    "tags": [
     "navigation"
    ]
   },
   "source": [
    "[Indice](index.ipynb) | Previo: [RelatividadGeneral.InerciaYGeodesicas](01.05.00.00.RelatividadGeneral.InerciaYGeodesicas.ipynb) | "
   ]
  },
  {
   "cell_type": "markdown",
   "metadata": {},
   "source": [
    "\n",
    "## Transporte paralelo y curvatura {#tparalelo_curvatura}"
   ]
  },
  {
   "cell_type": "markdown",
   "metadata": {},
   "source": [
    "En una sección anterior vimos dos situaciones diferentes en el transporte paralelo: en espacio plano y en espacio curvo (ver figuras abajo) y un hecho es notable: al recorrer una trayectoria cerrada en el espacio plano un vector transportado de forma paralela no se modifica.  Sin embargo en otro tipo de espacio (sobre la superficie de una esfera), sobre una trayectoria circular un vector transportado de forma paralela no vuelve a ser lo mismo. "
   ]
  },
  {
   "cell_type": "markdown",
   "metadata": {},
   "source": [
    "<a id='fig:Figure_11'></a>![Figura](./figures/square-tparalelo-plano.png)\n",
    "\n",
    "<center><b>Figura 1.11</b>. Figura</center>\n",
    "<a id='fig:Figure_11'></a>![Figura](./figures/square-tparalelo-esferico.png)\n",
    "\n",
    "<center><b>Figura 1.11</b>. Figura</center>"
   ]
  },
  {
   "cell_type": "markdown",
   "metadata": {},
   "source": [
    "¿Por qué ocurre esto? ¿de qué depende?"
   ]
  },
  {
   "cell_type": "markdown",
   "metadata": {},
   "source": [
    "Otra manera de expresar la diferencia es decir que el vector transportado de forma paralela depene del camino que se siga.  En la figura se muestra el transporte paralelo de un vector $A^\\mu$ desde un punto $P$ hasta un punto $Q$ por dos caminos diferentes $\\mathrm{d}x^\\alpha\\rightarrow \\mathrm{d}x^\\beta$ y $\\mathrm{d}x^\\beta\\rightarrow \\mathrm{d}x^\\alpha$"
   ]
  },
  {
   "cell_type": "markdown",
   "metadata": {},
   "source": [
    "<a id='fig:Figure_12'></a>![Figura](./figures/square-diferencia-curvatura.png)\n",
    "\n",
    "<center><b>Figura 1.12</b>. Figura</center>"
   ]
  },
  {
   "cell_type": "markdown",
   "metadata": {},
   "source": [
    "La diferencia a través de los dos recorridos la hemos llamado $\\mathrm{d}^2A^\\mu$."
   ]
  },
  {
   "cell_type": "markdown",
   "metadata": {},
   "source": [
    "Usemos la derivada covariante para el transporte paralelo hasta los puntos intermedios $R$ y $S$:\n",
    "\n",
    "$$\n",
    "A^\\mu_{\\parallel,\\mathrm{R}}=A^\\mu+\\mathrm{D}_\\beta A^\\mu \\mathrm{d}x^\\beta\n",
    "$$"
   ]
  },
  {
   "cell_type": "markdown",
   "metadata": {},
   "source": [
    "Ror otro lado es transporte de $S$ a $Q$ es:\n",
    "\n",
    "$$\n",
    "A^\\mu_{\\parallel,\\mathrm{RQ}}=A^\\mu_{\\parallel,\\mathrm{R}}+\\mathrm{D}_\\alpha A^\\mu_{\\parallel,\\mathrm{R}} \\mathrm{d}x^\\alpha\n",
    "$$\n",
    "reemplazando lo obtenido antes obtenemos:\n",
    "\n",
    "$$\n",
    "A^\\mu_{\\parallel,\\mathrm{RQ}}=A^\\mu+\\mathrm{D}_\\beta A^\\mu \\mathrm{d}x^\\beta+\\mathrm{D}_\\alpha A^\\mu \\mathrm{d}x^\\alpha+\\mathrm{D}_{\\alpha\\beta} A^\\mu \\mathrm{d}x^\\alpha\\mathrm{d}x^\\beta\n",
    "$$"
   ]
  },
  {
   "cell_type": "markdown",
   "metadata": {},
   "source": [
    "El recorrido por el otro recorrido es:\n",
    "\n",
    "$$\n",
    "A^\\mu_{\\parallel,\\mathrm{SQ}}=A^\\mu+\\mathrm{D}_\\alpha A^\\mu \\mathrm{d}x^\\alpha+\\mathrm{D}_\\beta A^\\mu \\mathrm{d}x^\\beta+\\mathrm{D}_{\\beta\\alpha} A^\\mu \\mathrm{d}x^\\alpha\\mathrm{d}x^\\beta\n",
    "$$"
   ]
  },
  {
   "cell_type": "markdown",
   "metadata": {},
   "source": [
    "Tomando la diferencia obtenemos:\n",
    "\n",
    "$$\n",
    "\\mathrm{d}^2 A^\\mu=A^\\mu_{\\parallel,\\mathrm{SQ}}-A^\\mu_{\\parallel,\\mathrm{RQ}}=-(\\mathrm{D}_{\\alpha\\beta}-\\mathrm{D}_{\\beta\\alpha}) A^\\mu \\mathrm{d}x^\\alpha\\mathrm{d}x^\\beta\n",
    "$$"
   ]
  },
  {
   "cell_type": "markdown",
   "metadata": {},
   "source": [
    "Por otro lado podemos suponer que la diferencia entre el vector transportado por los dos caminos se puede expresar como:\n",
    "\n",
    "$$\n",
    "\\mathrm{d}^2 A^\\mu\\equiv R^\\mu_{\\delta\\alpha\\beta}A^\\delta \\mathrm{d}x^\\alpha\\mathrm{d}x^\\beta\n",
    "$$\n",
    "donde los nuevos coeficientes $R^\\mu_{\\delta\\alpha\\beta}$ juegan el papel que en el transporte paralelo convencional jugaban los coeficientes de conexión."
   ]
  },
  {
   "cell_type": "markdown",
   "metadata": {},
   "source": [
    "Comparando encontramos que la manera de cálcular los coeficientes es:\n",
    "\n",
    "$$\n",
    "R^\\mu_{\\delta\\alpha\\beta}A^\\delta=-(\\mathrm{D}_{\\alpha\\beta}-\\mathrm{D}_{\\beta\\alpha}) A^\\mu \n",
    "$$"
   ]
  },
  {
   "cell_type": "markdown",
   "metadata": {},
   "source": [
    "O en la notación punto y coma de la derivada covariante:\n",
    "\n",
    "$$\n",
    "R^\\mu_{\\delta\\alpha\\beta}A^\\delta=-(A^\\mu_{;\\alpha;\\beta}- A^\\mu_{;\\beta;\\alpha}) \n",
    "$$"
   ]
  },
  {
   "cell_type": "markdown",
   "metadata": {},
   "source": [
    "Veamos cómo es la segunda derivada covariante:\n",
    "\n",
    "$$\n",
    "\\begin{array}{rcl}\n",
    "{A^\\rho}_{;\\mu;\\nu} & = & ({A^\\rho}_{;\\nu,\\mu})\n",
    "+[\\Gamma_{\\mu\\sigma}^\\rho {A^\\sigma}_{;\\nu}]\n",
    "-\\{\\Gamma_{\\mu\\nu}^\\lambda {A^\\rho}_{;\\lambda}\\}\\\\\n",
    "&=&({A^\\rho}_{,\\nu,\\mu}+\\Gamma^\\rho_{\\nu\\sigma,\\mu}A^\\sigma+\\Gamma^\\rho_{\\nu\\sigma}{A^\\sigma}_{,\\mu})+\\\\\n",
    "& & +[\\Gamma_{\\mu\\sigma}^\\rho {A^\\sigma}_{,\\nu}+\\Gamma_{\\mu\\sigma}^\\rho \\Gamma_{\\nu\\lambda}^\\sigma A^\\lambda]+\\\\\n",
    "& & -\\{\\Gamma_{\\mu\\nu}^\\lambda {A^\\rho}_{,\\lambda}+\\Gamma_{\\mu\\nu}^\\lambda \\Gamma_{\\lambda\\sigma}^\\rho A^\\sigma\\}\n",
    "\\end{array}\n",
    "$$"
   ]
  },
  {
   "cell_type": "markdown",
   "metadata": {},
   "source": [
    "La derivada contraria ${A^\\rho}_{;\\nu;\\mu}$ se obtiene intercambiando en la expresión anterior $\\mu\\leftrightarrow\\nu$.  Es claro que los términos proporcionales a $\\Gamma_{\\mu\\nu}^\\lambda$ serán idénticos en ambas derivadas y se eliminaran.  Lo mismo pasa con los términos ${A^\\rho}_{,\\nu,\\mu}$ y $\\Gamma^\\rho_{\\nu\\sigma}{A^\\sigma}_{,\\mu}$ y $\\Gamma_{\\mu\\sigma}^\\rho {A^\\sigma}_{,\\nu}$ que serán idénticos a los correspondientes en la derivada con los índices cambiados."
   ]
  },
  {
   "cell_type": "markdown",
   "metadata": {},
   "source": [
    "De modo que nos queda:\n",
    "\n",
    "$$\n",
    "A^\\sigma_{;\\mu;\\nu}- A^\\sigma_{;\\nu;\\mu}=(\\{\\Gamma^\\rho_{\\nu\\sigma,\\mu} + \\Gamma_{\\mu\\delta}^\\rho \\Gamma_{\\nu\\sigma}^\\delta\\}-\\{\\mu\\leftrightarrow\\nu\\})A^\\sigma\n",
    "$$\n",
    "donde la notación $\\{\\mu\\leftrightarrow\\nu\\}$ indica que lo que hay antes entre llaves se pone igual pero intercambiando los índices $\\mu$ por $\\nu$ y viceversa."
   ]
  },
  {
   "cell_type": "markdown",
   "metadata": {},
   "source": [
    "Volviendo a la definición de los coeficientes $R$ obtenemos entonces que ellos están dados como función de los símbolos de Christoffel y de sus derivadas en la forma más conveniente:\n",
    "\n",
    "$$\n",
    "{R^\\rho}_{\\sigma\\mu\\nu}=\\{\\Gamma^\\rho_{\\sigma\\mu,\\nu} + \\Gamma_{\\sigma\\mu}^\\delta \\Gamma_{\\nu\\delta}^\\rho \\}-\\{\\mu\\leftrightarrow\\nu\\}\n",
    "$$"
   ]
  },
  {
   "cell_type": "markdown",
   "metadata": {},
   "source": [
    "Esta cantidad transforma como un tensor (ver Problemas al final del capítulo) y se conoce como el **tensor de Riemann**."
   ]
  },
  {
   "cell_type": "markdown",
   "metadata": {
    "label": "",
    "subtitle": "El tensor de Riemann y la curvatura",
    "tags": [
     "box_note"
    ],
    "title": "Nota"
   },
   "source": [
    "> **Nota: El tensor de Riemann y la curvatura.**<a id=''></a> De acuerdo a lo que habíamos dicho antes, el tensor de Riemann establece si un espacio es curvo o no.  Esta condición puede expresarse de dos maneras:\n",
    "\n",
    "> - Si **al menos una** de las componentes del tensor de Riemann es distinta de cero, **el espacio es curvo**.\n",
    "> - Si **todas** las componentes del tensor de Riemann son cero, **el espacio es plano**."
   ]
  },
  {
   "cell_type": "markdown",
   "metadata": {},
   "source": [
    "### 1.8.6. Propiedades del tensor de Riemann\n",
    "<a id='propiedades_riemann'></a>"
   ]
  },
  {
   "cell_type": "markdown",
   "metadata": {},
   "source": [
    "El tensor de Riemann juega un papel fundamental en la relatividad general de modo que sus propiedades son cruciales para las matemáticas del área."
   ]
  },
  {
   "cell_type": "markdown",
   "metadata": {},
   "source": [
    "La primera propiedad y la más obvia es su antisimetría:\n",
    "\n",
    "$$\n",
    "{R^\\rho}_{\\sigma\\mu\\nu}=-{R^\\rho}_{\\sigma\\nu\\mu}\\\\\n",
    "{R^\\rho}_{\\sigma\\mu\\nu}+{R^\\rho}_{\\sigma\\nu\\mu}=0\n",
    "$$\n",
    "que podemos escribir también como:\n",
    "\n",
    "$$\n",
    "{R^\\rho}_{\\sigma[\\mu\\nu]}=0\n",
    "$$"
   ]
  },
  {
   "cell_type": "markdown",
   "metadata": {},
   "source": [
    "¿Cuántas componentes tiene el tensor de Riemann?"
   ]
  },
  {
   "cell_type": "markdown",
   "metadata": {},
   "source": [
    "De la misma manera que los símbolos de Christoffel pueden ser pensados como una \"pila de matrices\", el tensor de Riemann es como una matriz de matrices:\n",
    "\n",
    "$$\n",
    "{R^\\rho}_{\\sigma\\mu\\nu}=({R^\\rho}_\\sigma)_{\\mu\\nu}\n",
    "$$\n",
    "de donde sabemos que en total el número de componentes totales será $N^4$ y para el espacio-tiempo 256 componentes."
   ]
  },
  {
   "cell_type": "markdown",
   "metadata": {},
   "source": [
    "Ahora bien, por la antisimetría de $\\mu\\nu$ sabemos que la diagonal:\n",
    "\n",
    "$$({R^\\rho}_\\sigma)_{\\mu\\mu}=0$$\n",
    "y por lo tanto cada matriz de matrices tiene por lo menos $N(N-1)/2$ componentes independientes, para un total de $N^3(N-1)/2$ que en el caso de $N=4$ corresponde a 96 componentes independientes."
   ]
  },
  {
   "cell_type": "markdown",
   "metadata": {},
   "source": [
    "El número de términos encontrados es todavía muy grande, pero puede mostrarse que es menos si se baja el índice superior:\n",
    "\n",
    "$$\n",
    "R_{\\lambda\\mu\\nu\\kappa}=g_{\\lambda\\rho}{R^{\\rho}}_{\\mu\\nu\\kappa}\n",
    "$$"
   ]
  },
  {
   "cell_type": "markdown",
   "metadata": {},
   "source": [
    "Desarrollando en detalle se puede mostrar (ver Problemas al final del capítulo) que esta versión totalmente covariante del tensor de Riemann es:\n",
    "\n",
    "$$\n",
    "\\begin{array}{rcl}\n",
    "R_{\\lambda\\mu\\nu\\kappa} & = & -\\frac{1}{2}(g_{\\mu\\nu,\\lambda,\\kappa}-g_{\\nu\\lambda,\\kappa,\\mu}+g_{\\lambda\\kappa,\\mu,\\nu}-g_{\\kappa\\mu,\\nu,\\lambda})+\\\\\n",
    "& & +g_{\\sigma\\xi}(\\Gamma^\\sigma_{\\mu\\kappa}\\Gamma^\\xi_{\\lambda\\nu}-\\Gamma^\\sigma_{\\mu\\nu}\\Gamma^\\xi_{\\lambda\\kappa})\n",
    "\\end{array}\n",
    "$$"
   ]
  },
  {
   "cell_type": "markdown",
   "metadata": {},
   "source": [
    "O en notación más compacta:\n",
    "\n",
    "$$\n",
    "R_{\\lambda\\mu\\nu\\kappa} = -\\frac{1}{2} g_{\\{\\mu\\nu,\\lambda,\\kappa\\}}-g_{\\alpha\\beta}(\\Gamma^\\alpha_{\\mu\\nu}\\Gamma^\\beta_{\\lambda\\kappa}-\\Gamma^\\alpha_{\\mu\\kappa}\\Gamma^\\beta_{\\lambda\\nu})\n",
    "$$"
   ]
  },
  {
   "cell_type": "markdown",
   "metadata": {},
   "source": [
    "Es decir el tensor de Riemann es proporcional a las **segundas derivadas de la métrica**."
   ]
  },
  {
   "cell_type": "markdown",
   "metadata": {},
   "source": [
    "Con esta expresión se identifica dos propiedades:\n",
    "\n",
    "1. Antisimetría frente al intercambio de los primeros indices:\n",
    "    $$\n",
    "    R_{\\alpha\\beta\\mu\\nu}=-R_{\\beta\\alpha\\mu\\nu}\n",
    "    $$\n",
    "    \n",
    "2. Simetría frente al intercambio de los pares de índices inicial y final:\n",
    "\n",
    "    $$\n",
    "    R_{\\alpha\\beta\\mu\\nu}=R_{\\mu\\nu\\beta\\alpha}\n",
    "    $$"
   ]
  },
  {
   "cell_type": "markdown",
   "metadata": {},
   "source": [
    "De modo que tenemos una matriz antisimétrica de matrices antisimétricas.  Eso implica que hay $M=N(N-1)/2$ matrices antisimétricas de $M=N(N-1)/2$ términos, es decir $N^2(N-1)^2/4$, para $N=4$ el número de términos es $4^2(4-1)^2/4=36$ términos independientes.  Esos términos son:\n",
    "\n",
    "$$\n",
    "\\begin{array}{cccccc}\n",
    "R_{0101}&R_{0102}&R_{0103}&R_{0112}&R_{0113}&R_{0123}\\\\\n",
    "R_{0201}&R_{0202}&R_{0203}&R_{0212}&R_{0213}&R_{0223}\\\\\n",
    "R_{0301}&R_{0302}&R_{0303}&R_{0312}&R_{0313}&R_{0323}\\\\\n",
    "R_{1201}&R_{1202}&R_{1203}&R_{1212}&R_{1213}&R_{1223}\\\\\n",
    "R_{1301}&R_{1302}&R_{1303}&R_{1312}&R_{1313}&R_{1323}\\\\\n",
    "R_{2301}&R_{2302}&R_{2303}&R_{2312}&R_{2313}& R_{2323}\\\\\n",
    "\\end{array}\n",
    "$$"
   ]
  },
  {
   "cell_type": "markdown",
   "metadata": {},
   "source": [
    "Pero por la propiedad 2 de más arriba, este arreglo cuadrado de términos es simétrico y por lo tanto de todos estos términos hay $6(6+1)/2=21$ términos independientes."
   ]
  },
  {
   "cell_type": "markdown",
   "metadata": {},
   "source": [
    "La conclusión hasta ahora es que para que las componentes del tensor de Riemann que sean independientes y potencialmente distintas de 0 **los primeros indíces y los últimos deben ser diferentes entre sí**.  Las componentes $R_{\\alpha\\alpha\\mu\\nu}$ o $R_{\\alpha\\beta\\mu\\mu}$ son siempre iguales a cero."
   ]
  },
  {
   "cell_type": "markdown",
   "metadata": {
    "label": "",
    "subtitle": "Identidades de Bianchi",
    "tags": [
     "box_theorem"
    ],
    "title": "Proposición"
   },
   "source": [
    "> **Proposición: Identidades de Bianchi.**<a id=''></a> Hay dos propiedades adicionales del tensor de Riemann que pueden llegar a ser de alguna utilidad:\n",
    "\n",
    "> 1. **Primera identidad de Bianchi**: $R_{\\alpha[\\beta\\mu\\nu]}=0$\n",
    "> 2. **Segunda identidad de Bianchi**: $R^{\\alpha}_{\\beta[\\mu\\nu;\\sigma]}=0$"
   ]
  },
  {
   "cell_type": "markdown",
   "metadata": {},
   "source": [
    "### 1.8.7. Desviación geodésica\n",
    "<a id='desviacion_geodesica'></a>"
   ]
  },
  {
   "cell_type": "markdown",
   "metadata": {},
   "source": [
    "Aparte de servir para darnos una idea de si un espacio es curvo o plano ¿qué otra función física tiene el tensor de Riemann per se? "
   ]
  },
  {
   "cell_type": "markdown",
   "metadata": {},
   "source": [
    "El tensor de Riemann esta relacionado con la **marea gravitacional**.  El fenómeno de marea gravitacional se produce cuando en un sistema de referencia en caída libre (que se mueve sobre una geodésica) "
   ]
  },
  {
   "cell_type": "markdown",
   "metadata": {},
   "source": [
    "### 1.8.8. Tensor de Riemann para métricas diagonales\n",
    "<a id='riemann_diagonal'></a>"
   ]
  },
  {
   "cell_type": "markdown",
   "metadata": {},
   "source": [
    "Pensemos ahora nuevamente en el caso en el que la métrica es simétrica.  En este caso el tensor de Riemann se simplifica de un general:\n",
    "\n",
    "$$\n",
    "R_{\\lambda\\mu\\nu\\kappa} = -\\frac{1}{2} g_{\\{\\mu\\nu,\\lambda,\\kappa\\}}-g_{\\alpha\\beta}(\\Gamma^\\alpha_{\\mu\\nu}\\Gamma^\\beta_{\\lambda\\kappa}-\\Gamma^\\alpha_{\\mu\\kappa}\\Gamma^\\beta_{\\lambda\\nu})\n",
    "$$\n",
    "a uno más particular:\n",
    "\n",
    "$$\n",
    "R_{\\lambda\\mu\\nu\\kappa} = -\\frac{1}{2} g_{\\{\\mu\\nu,\\lambda,\\kappa\\}}-g_{\\alpha\\alpha}(\\Gamma^\\alpha_{\\mu\\nu}\\Gamma^\\alpha_{\\lambda\\kappa}-\\Gamma^\\alpha_{\\mu\\kappa}\\Gamma^\\alpha_{\\lambda\\nu})\n",
    "$$"
   ]
  },
  {
   "cell_type": "markdown",
   "metadata": {},
   "source": [
    "De estos aquellos con $\\mu=\\nu$ y $\\lambda\\neq \\kappa\\neq \\mu$ serán:\n",
    "\n",
    "$$\n",
    "R_{\\lambda\\mu\\mu\\kappa} = -\\frac{1}{2} g_{\\mu\\mu,\\lambda,\\kappa}-g_{\\lambda\\lambda}\\Gamma^\\lambda_{\\mu\\mu}\\Gamma^\\lambda_{\\lambda\\kappa}-g_{\\kappa\\kappa}\\Gamma^\\kappa_{\\mu\\mu}\\Gamma^\\kappa_{\\lambda\\kappa}+g_{\\mu\\mu}\\Gamma^\\mu_{\\mu\\kappa}\\Gamma^\\mu_{\\lambda\\mu}\n",
    "$$"
   ]
  },
  {
   "cell_type": "markdown",
   "metadata": {},
   "source": [
    "Y aquellos con $\\mu=\\nu$ y $\\lambda=\\kappa$ serán:\n",
    "\n",
    "$$\n",
    "R_{\\lambda\\mu\\mu\\lambda} = -\\frac{1}{2} (g_{\\mu\\mu,\\lambda,\\lambda}+g_{\\lambda\\lambda,\\mu,\\mu})-g_{\\alpha\\alpha}\\Gamma^\\alpha_{\\mu\\mu}\\Gamma^\\alpha_{\\lambda\\lambda}+g_{\\lambda\\lambda}(\\Gamma^\\lambda_{\\mu\\lambda})^2+g_{\\mu\\mu}(\\Gamma^\\mu_{\\mu\\lambda})^2\n",
    "$$"
   ]
  },
  {
   "cell_type": "markdown",
   "metadata": {},
   "source": [
    "Y si todos son diferentes $\\mu\\neq\\nu\\neq\\lambda\\neq\\kappa$ entonces $R_{\\lambda\\mu\\nu\\kappa}=0$."
   ]
  },
  {
   "cell_type": "markdown",
   "metadata": {},
   "source": [
    "Esta condición nos deja un potencial de $21-6=15$ componentes del tensor."
   ]
  },
  {
   "cell_type": "markdown",
   "metadata": {},
   "source": [
    "### 1.8.9. Tensor de Riemann numérico\n",
    "<a id='riemann_numerico'></a>"
   ]
  },
  {
   "cell_type": "markdown",
   "metadata": {},
   "source": [
    "Con las reglas simplificadas de más arriba podemos diseñar una rutina para calcular el tensor de Riemann numérico."
   ]
  },
  {
   "cell_type": "code",
   "execution_count": 1,
   "metadata": {
    "codelabel": "",
    "codeplot": 0
   },
   "outputs": [],
   "source": [
    "def GammaRiemann(xmu,gfun,gargs,N=4,dxmax=1e-6,verbose=1):\n",
    "    from scipy.misc import derivative\n",
    "    from numpy import zeros,where,arange\n",
    "    R=zeros((N,N,N,N))\n",
    "    #Indices\n",
    "    index=arange(N)\n",
    "    \n",
    "    #Calcula gamma\n",
    "    from export import Gamma\n",
    "    G=Gamma(xmu,gfun,gargs,N)\n",
    "    if verbose:print(f\"G = \\n{G}\")\n",
    "    for mu in range(N):\n",
    "        if verbose:print(f\"mu = {mu}\")\n",
    "        for pi in range(N):\n",
    "            if pi==mu:continue\n",
    "            if verbose:print(f\"\\tpi = {pi}\")\n",
    "            for xi in range(N):\n",
    "                if xi==mu:continue\n",
    "                if verbose:print(f\"\\t\\txi = {xi}\")\n",
    "                #pi = xi\n",
    "                if pi==xi:\n",
    "                    if verbose:print(f\"\\t\\t\\tpi = xi\")\n",
    "                    #g_mumu,pi,pi\n",
    "                    xd=xmu[pi] #Punto de derivación\n",
    "                    dx=max(dxmax,dxmax*abs(xd))\n",
    "                    gmumu=lambda x:gfun(where(index==pi,x,xmu),\n",
    "                                        mu,*gargs)\n",
    "                    gmumu_pi_pi=derivative(gmumu,xd,dx,n=2)\n",
    "                    if verbose:print(f\"\\t\\t\\tg_{mu}{mu},{pi},{pi} = {gmumu_pi_pi}\")\n",
    "                    #g_pipi,mu,mu\n",
    "                    xd=xmu[mu] #Punto de derivación\n",
    "                    dx=max(dxmax,dxmax*abs(xd))\n",
    "                    gpipi=lambda x:gfun(where(index==mu,x,xmu),\n",
    "                                        pi,*gargs)\n",
    "                    gpipi_mu_mu=derivative(gpipi,xd,dx,n=2)\n",
    "                    if verbose:print(f\"\\t\\t\\tg_{pi}{pi},{mu},{mu} = {gpipi_mu_mu}\")\n",
    "                    #Terminos\n",
    "                    termino1=-0.5*(gmumu_pi_pi+gpipi_mu_mu)\n",
    "                    termino2=0\n",
    "                    for a in arange(N):\n",
    "                        if verbose:print(f\"\\t\\t\\t\\tg_{a}{a} = {gfun(xmu,a,*gargs)}\")\n",
    "                        if verbose:print(f\"\\t\\t\\t\\tG^{a}_{mu}{mu} = {G[a,mu,mu]}\")\n",
    "                        if verbose:print(f\"\\t\\t\\t\\tG^{a}_{pi}{pi} = {G[a,pi,pi]}\")\n",
    "                        termino2-=gfun(xmu,a,*gargs)*G[a,mu,mu]*G[a,pi,pi]\n",
    "                    termino3=gfun(xmu,pi,*gargs)**2*G[pi,pi,mu]**2\n",
    "                    termino4=gfun(xmu,mu,*gargs)**2*G[mu,mu,pi]**2\n",
    "                    if verbose:print(f\"\\t\\t\\tTermino 1 = {termino1}\")\n",
    "                    if verbose:print(f\"\\t\\t\\tTermino 2 = {termino2}\")\n",
    "                    if verbose:print(f\"\\t\\t\\tTermino 3 = {termino3}\")\n",
    "                    if verbose:print(f\"\\t\\t\\tTermino 4 = {termino4}\")\n",
    "                    R[pi,mu,mu,xi]=termino1+termino2+termino3+termino4\n",
    "                    if verbose:print(f\"\\t\\t\\tR_{pi}{mu}{mu}{xi} = {R[pi,mu,mu,xi]}\")\n",
    "                #pi != xi\n",
    "                else:\n",
    "                    #g_mumu,pi\n",
    "                    if verbose:print(f\"\\t\\t\\tpi != xi\")\n",
    "                    def dgdxpi(xmu_local):\n",
    "                        x1d=xmu_local[pi] #Punto de derivación\n",
    "                        dx1=max(dxmax,dxmax*abs(x1d))\n",
    "                        g=lambda x:gfun(where(index==pi,x,xmu_local),\n",
    "                                            mu,*gargs)\n",
    "                        g_pi=derivative(g,x1d,dx1,n=1)\n",
    "                        return g_pi\n",
    "                    #g_mumu,pi,xi\n",
    "                    x2d=xmu[xi] #Punto de derivación\n",
    "                    dx2=max(dxmax,dxmax*abs(x2d))\n",
    "                    gmumu_pi=lambda x:dgdxpi(where(index==xi,x,xmu))\n",
    "                    gmumu_pi_xi=derivative(gmumu_pi,x2d,dx2,n=1)\n",
    "                    if verbose:print(f\"\\t\\t\\tg_{mu}{mu},{pi},{xi} = {gmumu_pi_xi}\")\n",
    "                    #Terminos\n",
    "                    termino1=-0.5*gmumu_pi_xi\n",
    "                    termino2=-gfun(xmu,pi,*gargs)*G[pi,mu,mu]*G[pi,pi,xi]\n",
    "                    termino3=-gfun(xmu,xi,*gargs)*G[xi,mu,mu]*G[xi,xi,pi]\n",
    "                    termino4=-gfun(xmu,mu,*gargs)*G[mu,mu,pi]*G[mu,mu,xi]\n",
    "                    R[pi,mu,mu,xi]=termino1+termino2+termino3+termino4\n",
    "                #print(f\"Filling: {pi},{mu},{mu},{xi}\")\n",
    "                R[mu,pi,mu,xi]=-R[pi,mu,mu,xi]\n",
    "                R[mu,pi,xi,mu]=-R[pi,mu,mu,xi]\n",
    "                R[mu,xi,mu,pi]=+R[pi,mu,mu,xi]\n",
    "                R[xi,mu,pi,mu]=-R[pi,mu,mu,xi]\n",
    "                R[mu,xi,pi,mu]=-R[pi,mu,mu,xi]\n",
    "                R[xi,mu,mu,pi]=+R[pi,mu,mu,xi]\n",
    "    return G,R"
   ]
  },
  {
   "cell_type": "markdown",
   "metadata": {},
   "source": [
    "Probemósla con la esfera:"
   ]
  },
  {
   "cell_type": "code",
   "execution_count": 3,
   "metadata": {
    "codelabel": "",
    "codeplot": 0
   },
   "outputs": [
    {
     "name": "stdout",
     "output_type": "stream",
     "text": [
      "G = \n",
      "[[[-0.          0.        ]\n",
      "  [ 0.          0.4330127 ]]\n",
      "\n",
      " [[-0.         -0.57735027]\n",
      "  [-0.57735027 -0.        ]]]\n",
      "mu = 0\n",
      "\tpi = 1\n",
      "\t\txi = 1\n",
      "\t\t\tpi = xi\n",
      "\t\t\tg_00,1,1 = 0.0\n",
      "\t\t\tg_11,0,0 = -1.000088900582341\n",
      "\t\t\t\tg_00 = 1\n",
      "\t\t\t\tG^0_00 = -0.0\n",
      "\t\t\t\tG^0_11 = 0.4330127019169794\n",
      "\t\t\t\tg_11 = 0.7500000000000001\n",
      "\t\t\t\tG^1_00 = -0.0\n",
      "\t\t\t\tG^1_11 = -0.0\n",
      "\t\t\tTermino 1 = 0.5000444502911705\n",
      "\t\t\tTermino 2 = 0.0\n",
      "\t\t\tTermino 3 = 0.18750000002144285\n",
      "\t\t\tTermino 4 = 0.0\n",
      "\t\t\tR_1001 = 0.6875444503126134\n",
      "mu = 1\n",
      "\tpi = 0\n",
      "\t\txi = 0\n",
      "\t\t\tpi = xi\n",
      "\t\t\tg_11,0,0 = -1.000088900582341\n",
      "\t\t\tg_00,1,1 = 0.0\n",
      "\t\t\t\tg_00 = 1\n",
      "\t\t\t\tG^0_11 = 0.4330127019169794\n",
      "\t\t\t\tG^0_00 = -0.0\n",
      "\t\t\t\tg_11 = 0.7500000000000001\n",
      "\t\t\t\tG^1_11 = -0.0\n",
      "\t\t\t\tG^1_00 = -0.0\n",
      "\t\t\tTermino 1 = 0.5000444502911705\n",
      "\t\t\tTermino 2 = 0.0\n",
      "\t\t\tTermino 3 = 0.0\n",
      "\t\t\tTermino 4 = 0.18750000002144285\n",
      "\t\t\tR_0110 = 0.6875444503126134\n"
     ]
    }
   ],
   "source": [
    "from export import g_esfera_2d\n",
    "from numpy import pi\n",
    "xmu=[pi/6,0]\n",
    "R=1\n",
    "N=2\n",
    "Gama,Riemann=GammaRiemann(xmu,g_esfera_2d,(R,),N)"
   ]
  },
  {
   "cell_type": "code",
   "execution_count": 4,
   "metadata": {
    "codelabel": "",
    "codeplot": 0
   },
   "outputs": [
    {
     "data": {
      "text/plain": [
       "array([[[[ 0.        ,  0.        ],\n",
       "         [ 0.        ,  0.        ]],\n",
       "\n",
       "        [[ 0.        , -0.68754445],\n",
       "         [ 0.68754445,  0.        ]]],\n",
       "\n",
       "\n",
       "       [[[ 0.        , -0.68754445],\n",
       "         [ 0.68754445,  0.        ]],\n",
       "\n",
       "        [[ 0.        ,  0.        ],\n",
       "         [ 0.        ,  0.        ]]]])"
      ]
     },
     "execution_count": 4,
     "metadata": {},
     "output_type": "execute_result"
    }
   ],
   "source": [
    "Riemann"
   ]
  },
  {
   "cell_type": "code",
   "execution_count": 5,
   "metadata": {
    "codelabel": "",
    "codeplot": 0,
    "scrolled": false
   },
   "outputs": [
    {
     "name": "stdout",
     "output_type": "stream",
     "text": [
      "G = \n",
      "[[[-0.  0.  0.  0.]\n",
      "  [ 0. -0.  0.  0.]\n",
      "  [ 0.  0. -0.  0.]\n",
      "  [ 0.  0.  0. -0.]]\n",
      "\n",
      " [[ 0. -0.  0.  0.]\n",
      "  [-0.  0. -0. -0.]\n",
      "  [ 0. -0. -1.  0.]\n",
      "  [ 0. -0.  0.  0.]]\n",
      "\n",
      " [[ 0.  0. -0.  0.]\n",
      "  [ 0.  0.  1.  0.]\n",
      "  [-0.  1.  0. -0.]\n",
      "  [ 0.  0. -0.  0.]]\n",
      "\n",
      " [[ 0.  0.  0. -0.]\n",
      "  [ 0.  0.  0. -0.]\n",
      "  [ 0.  0.  0. -0.]\n",
      "  [-0. -0. -0.  0.]]]\n",
      "mu = 0\n",
      "\tpi = 1\n",
      "\t\txi = 1\n",
      "\t\t\tpi = xi\n",
      "\t\t\tg_00,1,1 = 0.0\n",
      "\t\t\tg_11,0,0 = 0.0\n",
      "\t\t\t\tg_00 = 1\n",
      "\t\t\t\tG^0_00 = -0.0\n",
      "\t\t\t\tG^0_11 = -0.0\n",
      "\t\t\t\tg_11 = -1\n",
      "\t\t\t\tG^1_00 = 0.0\n",
      "\t\t\t\tG^1_11 = 0.0\n",
      "\t\t\t\tg_22 = -1\n",
      "\t\t\t\tG^2_00 = 0.0\n",
      "\t\t\t\tG^2_11 = 0.0\n",
      "\t\t\t\tg_33 = -1\n",
      "\t\t\t\tG^3_00 = 0.0\n",
      "\t\t\t\tG^3_11 = 0.0\n",
      "\t\t\tTermino 1 = -0.0\n",
      "\t\t\tTermino 2 = 0.0\n",
      "\t\t\tTermino 3 = 0.0\n",
      "\t\t\tTermino 4 = 0.0\n",
      "\t\t\tR_1001 = 0.0\n",
      "\t\txi = 2\n",
      "\t\t\tpi != xi\n",
      "\t\t\tg_00,1,2 = 0.0\n",
      "\t\txi = 3\n",
      "\t\t\tpi != xi\n",
      "\t\t\tg_00,1,3 = 0.0\n",
      "\tpi = 2\n",
      "\t\txi = 1\n",
      "\t\t\tpi != xi\n",
      "\t\t\tg_00,2,1 = 0.0\n",
      "\t\txi = 2\n",
      "\t\t\tpi = xi\n",
      "\t\t\tg_00,2,2 = 0.0\n",
      "\t\t\tg_22,0,0 = 0.0\n",
      "\t\t\t\tg_00 = 1\n",
      "\t\t\t\tG^0_00 = -0.0\n",
      "\t\t\t\tG^0_22 = -0.0\n",
      "\t\t\t\tg_11 = -1\n",
      "\t\t\t\tG^1_00 = 0.0\n",
      "\t\t\t\tG^1_22 = -1.000000000001\n",
      "\t\t\t\tg_22 = -1\n",
      "\t\t\t\tG^2_00 = 0.0\n",
      "\t\t\t\tG^2_22 = 0.0\n",
      "\t\t\t\tg_33 = -1\n",
      "\t\t\t\tG^3_00 = 0.0\n",
      "\t\t\t\tG^3_22 = 0.0\n",
      "\t\t\tTermino 1 = -0.0\n",
      "\t\t\tTermino 2 = 0.0\n",
      "\t\t\tTermino 3 = 0.0\n",
      "\t\t\tTermino 4 = 0.0\n",
      "\t\t\tR_2002 = 0.0\n",
      "\t\txi = 3\n",
      "\t\t\tpi != xi\n",
      "\t\t\tg_00,2,3 = 0.0\n",
      "\tpi = 3\n",
      "\t\txi = 1\n",
      "\t\t\tpi != xi\n",
      "\t\t\tg_00,3,1 = 0.0\n",
      "\t\txi = 2\n",
      "\t\t\tpi != xi\n",
      "\t\t\tg_00,3,2 = 0.0\n",
      "\t\txi = 3\n",
      "\t\t\tpi = xi\n",
      "\t\t\tg_00,3,3 = 0.0\n",
      "\t\t\tg_33,0,0 = 0.0\n",
      "\t\t\t\tg_00 = 1\n",
      "\t\t\t\tG^0_00 = -0.0\n",
      "\t\t\t\tG^0_33 = -0.0\n",
      "\t\t\t\tg_11 = -1\n",
      "\t\t\t\tG^1_00 = 0.0\n",
      "\t\t\t\tG^1_33 = 0.0\n",
      "\t\t\t\tg_22 = -1\n",
      "\t\t\t\tG^2_00 = 0.0\n",
      "\t\t\t\tG^2_33 = 0.0\n",
      "\t\t\t\tg_33 = -1\n",
      "\t\t\t\tG^3_00 = 0.0\n",
      "\t\t\t\tG^3_33 = 0.0\n",
      "\t\t\tTermino 1 = -0.0\n",
      "\t\t\tTermino 2 = 0.0\n",
      "\t\t\tTermino 3 = 0.0\n",
      "\t\t\tTermino 4 = 0.0\n",
      "\t\t\tR_3003 = 0.0\n",
      "mu = 1\n",
      "\tpi = 0\n",
      "\t\txi = 0\n",
      "\t\t\tpi = xi\n",
      "\t\t\tg_11,0,0 = 0.0\n",
      "\t\t\tg_00,1,1 = 0.0\n",
      "\t\t\t\tg_00 = 1\n",
      "\t\t\t\tG^0_11 = -0.0\n",
      "\t\t\t\tG^0_00 = -0.0\n",
      "\t\t\t\tg_11 = -1\n",
      "\t\t\t\tG^1_11 = 0.0\n",
      "\t\t\t\tG^1_00 = 0.0\n",
      "\t\t\t\tg_22 = -1\n",
      "\t\t\t\tG^2_11 = 0.0\n",
      "\t\t\t\tG^2_00 = 0.0\n",
      "\t\t\t\tg_33 = -1\n",
      "\t\t\t\tG^3_11 = 0.0\n",
      "\t\t\t\tG^3_00 = 0.0\n",
      "\t\t\tTermino 1 = -0.0\n",
      "\t\t\tTermino 2 = 0.0\n",
      "\t\t\tTermino 3 = 0.0\n",
      "\t\t\tTermino 4 = 0.0\n",
      "\t\t\tR_0110 = 0.0\n",
      "\t\txi = 2\n",
      "\t\t\tpi != xi\n",
      "\t\t\tg_11,0,2 = 0.0\n",
      "\t\txi = 3\n",
      "\t\t\tpi != xi\n",
      "\t\t\tg_11,0,3 = 0.0\n",
      "\tpi = 2\n",
      "\t\txi = 0\n",
      "\t\t\tpi != xi\n",
      "\t\t\tg_11,2,0 = 0.0\n",
      "\t\txi = 2\n",
      "\t\t\tpi = xi\n",
      "\t\t\tg_11,2,2 = 0.0\n",
      "\t\t\tg_22,1,1 = -1.999733711954832\n",
      "\t\t\t\tg_00 = 1\n",
      "\t\t\t\tG^0_11 = -0.0\n",
      "\t\t\t\tG^0_22 = -0.0\n",
      "\t\t\t\tg_11 = -1\n",
      "\t\t\t\tG^1_11 = 0.0\n",
      "\t\t\t\tG^1_22 = -1.000000000001\n",
      "\t\t\t\tg_22 = -1\n",
      "\t\t\t\tG^2_11 = 0.0\n",
      "\t\t\t\tG^2_22 = 0.0\n",
      "\t\t\t\tg_33 = -1\n",
      "\t\t\t\tG^3_11 = 0.0\n",
      "\t\t\t\tG^3_22 = 0.0\n",
      "\t\t\tTermino 1 = 0.999866855977416\n",
      "\t\t\tTermino 2 = 0.0\n",
      "\t\t\tTermino 3 = 1.0000000000020002\n",
      "\t\t\tTermino 4 = 0.0\n",
      "\t\t\tR_2112 = 1.9998668559794162\n",
      "\t\txi = 3\n",
      "\t\t\tpi != xi\n",
      "\t\t\tg_11,2,3 = 0.0\n",
      "\tpi = 3\n",
      "\t\txi = 0\n",
      "\t\t\tpi != xi\n",
      "\t\t\tg_11,3,0 = 0.0\n",
      "\t\txi = 2\n",
      "\t\t\tpi != xi\n",
      "\t\t\tg_11,3,2 = 0.0\n",
      "\t\txi = 3\n",
      "\t\t\tpi = xi\n",
      "\t\t\tg_11,3,3 = 0.0\n",
      "\t\t\tg_33,1,1 = 0.0\n",
      "\t\t\t\tg_00 = 1\n",
      "\t\t\t\tG^0_11 = -0.0\n",
      "\t\t\t\tG^0_33 = -0.0\n",
      "\t\t\t\tg_11 = -1\n",
      "\t\t\t\tG^1_11 = 0.0\n",
      "\t\t\t\tG^1_33 = 0.0\n",
      "\t\t\t\tg_22 = -1\n",
      "\t\t\t\tG^2_11 = 0.0\n",
      "\t\t\t\tG^2_33 = 0.0\n",
      "\t\t\t\tg_33 = -1\n",
      "\t\t\t\tG^3_11 = 0.0\n",
      "\t\t\t\tG^3_33 = 0.0\n",
      "\t\t\tTermino 1 = -0.0\n",
      "\t\t\tTermino 2 = 0.0\n",
      "\t\t\tTermino 3 = 0.0\n",
      "\t\t\tTermino 4 = 0.0\n",
      "\t\t\tR_3113 = 0.0\n",
      "mu = 2\n",
      "\tpi = 0\n",
      "\t\txi = 0\n",
      "\t\t\tpi = xi\n",
      "\t\t\tg_22,0,0 = 0.0\n",
      "\t\t\tg_00,2,2 = 0.0\n",
      "\t\t\t\tg_00 = 1\n",
      "\t\t\t\tG^0_22 = -0.0\n",
      "\t\t\t\tG^0_00 = -0.0\n",
      "\t\t\t\tg_11 = -1\n",
      "\t\t\t\tG^1_22 = -1.000000000001\n",
      "\t\t\t\tG^1_00 = 0.0\n",
      "\t\t\t\tg_22 = -1\n",
      "\t\t\t\tG^2_22 = 0.0\n",
      "\t\t\t\tG^2_00 = 0.0\n",
      "\t\t\t\tg_33 = -1\n",
      "\t\t\t\tG^3_22 = 0.0\n",
      "\t\t\t\tG^3_00 = 0.0\n",
      "\t\t\tTermino 1 = -0.0\n",
      "\t\t\tTermino 2 = 0.0\n",
      "\t\t\tTermino 3 = 0.0\n",
      "\t\t\tTermino 4 = 0.0\n",
      "\t\t\tR_0220 = 0.0\n",
      "\t\txi = 1\n",
      "\t\t\tpi != xi\n",
      "\t\t\tg_22,0,1 = 0.0\n",
      "\t\txi = 3\n",
      "\t\t\tpi != xi\n",
      "\t\t\tg_22,0,3 = 0.0\n",
      "\tpi = 1\n",
      "\t\txi = 0\n",
      "\t\t\tpi != xi\n",
      "\t\t\tg_22,1,0 = 0.0\n",
      "\t\txi = 1\n",
      "\t\t\tpi = xi\n",
      "\t\t\tg_22,1,1 = -1.999733711954832\n",
      "\t\t\tg_11,2,2 = 0.0\n",
      "\t\t\t\tg_00 = 1\n",
      "\t\t\t\tG^0_22 = -0.0\n",
      "\t\t\t\tG^0_11 = -0.0\n",
      "\t\t\t\tg_11 = -1\n",
      "\t\t\t\tG^1_22 = -1.000000000001\n",
      "\t\t\t\tG^1_11 = 0.0\n",
      "\t\t\t\tg_22 = -1\n",
      "\t\t\t\tG^2_22 = 0.0\n",
      "\t\t\t\tG^2_11 = 0.0\n",
      "\t\t\t\tg_33 = -1\n",
      "\t\t\t\tG^3_22 = 0.0\n",
      "\t\t\t\tG^3_11 = 0.0\n",
      "\t\t\tTermino 1 = 0.999866855977416\n",
      "\t\t\tTermino 2 = 0.0\n",
      "\t\t\tTermino 3 = 0.0\n",
      "\t\t\tTermino 4 = 1.0000000000020002\n",
      "\t\t\tR_1221 = 1.9998668559794162\n",
      "\t\txi = 3\n",
      "\t\t\tpi != xi\n",
      "\t\t\tg_22,1,3 = 0.0\n",
      "\tpi = 3\n",
      "\t\txi = 0\n",
      "\t\t\tpi != xi\n",
      "\t\t\tg_22,3,0 = 0.0\n",
      "\t\txi = 1\n",
      "\t\t\tpi != xi\n",
      "\t\t\tg_22,3,1 = 0.0\n",
      "\t\txi = 3\n",
      "\t\t\tpi = xi\n",
      "\t\t\tg_22,3,3 = 0.0\n",
      "\t\t\tg_33,2,2 = 0.0\n",
      "\t\t\t\tg_00 = 1\n",
      "\t\t\t\tG^0_22 = -0.0\n",
      "\t\t\t\tG^0_33 = -0.0\n",
      "\t\t\t\tg_11 = -1\n",
      "\t\t\t\tG^1_22 = -1.000000000001\n",
      "\t\t\t\tG^1_33 = 0.0\n",
      "\t\t\t\tg_22 = -1\n",
      "\t\t\t\tG^2_22 = 0.0\n",
      "\t\t\t\tG^2_33 = 0.0\n",
      "\t\t\t\tg_33 = -1\n",
      "\t\t\t\tG^3_22 = 0.0\n",
      "\t\t\t\tG^3_33 = 0.0\n",
      "\t\t\tTermino 1 = -0.0\n",
      "\t\t\tTermino 2 = 0.0\n",
      "\t\t\tTermino 3 = 0.0\n",
      "\t\t\tTermino 4 = 0.0\n",
      "\t\t\tR_3223 = 0.0\n",
      "mu = 3\n",
      "\tpi = 0\n",
      "\t\txi = 0\n",
      "\t\t\tpi = xi\n",
      "\t\t\tg_33,0,0 = 0.0\n",
      "\t\t\tg_00,3,3 = 0.0\n",
      "\t\t\t\tg_00 = 1\n",
      "\t\t\t\tG^0_33 = -0.0\n",
      "\t\t\t\tG^0_00 = -0.0\n",
      "\t\t\t\tg_11 = -1\n",
      "\t\t\t\tG^1_33 = 0.0\n",
      "\t\t\t\tG^1_00 = 0.0\n",
      "\t\t\t\tg_22 = -1\n",
      "\t\t\t\tG^2_33 = 0.0\n",
      "\t\t\t\tG^2_00 = 0.0\n",
      "\t\t\t\tg_33 = -1\n",
      "\t\t\t\tG^3_33 = 0.0\n",
      "\t\t\t\tG^3_00 = 0.0\n",
      "\t\t\tTermino 1 = -0.0\n",
      "\t\t\tTermino 2 = 0.0\n",
      "\t\t\tTermino 3 = 0.0\n",
      "\t\t\tTermino 4 = 0.0\n",
      "\t\t\tR_0330 = 0.0\n",
      "\t\txi = 1\n",
      "\t\t\tpi != xi\n",
      "\t\t\tg_33,0,1 = 0.0\n",
      "\t\txi = 2\n",
      "\t\t\tpi != xi\n",
      "\t\t\tg_33,0,2 = 0.0\n",
      "\tpi = 1\n",
      "\t\txi = 0\n",
      "\t\t\tpi != xi\n",
      "\t\t\tg_33,1,0 = 0.0\n",
      "\t\txi = 1\n",
      "\t\t\tpi = xi\n",
      "\t\t\tg_33,1,1 = 0.0\n",
      "\t\t\tg_11,3,3 = 0.0\n",
      "\t\t\t\tg_00 = 1\n",
      "\t\t\t\tG^0_33 = -0.0\n",
      "\t\t\t\tG^0_11 = -0.0\n",
      "\t\t\t\tg_11 = -1\n",
      "\t\t\t\tG^1_33 = 0.0\n",
      "\t\t\t\tG^1_11 = 0.0\n",
      "\t\t\t\tg_22 = -1\n",
      "\t\t\t\tG^2_33 = 0.0\n",
      "\t\t\t\tG^2_11 = 0.0\n",
      "\t\t\t\tg_33 = -1\n",
      "\t\t\t\tG^3_33 = 0.0\n",
      "\t\t\t\tG^3_11 = 0.0\n",
      "\t\t\tTermino 1 = -0.0\n",
      "\t\t\tTermino 2 = 0.0\n",
      "\t\t\tTermino 3 = 0.0\n",
      "\t\t\tTermino 4 = 0.0\n",
      "\t\t\tR_1331 = 0.0\n",
      "\t\txi = 2\n",
      "\t\t\tpi != xi\n",
      "\t\t\tg_33,1,2 = 0.0\n",
      "\tpi = 2\n",
      "\t\txi = 0\n",
      "\t\t\tpi != xi\n",
      "\t\t\tg_33,2,0 = 0.0\n",
      "\t\txi = 1\n",
      "\t\t\tpi != xi\n",
      "\t\t\tg_33,2,1 = 0.0\n",
      "\t\txi = 2\n",
      "\t\t\tpi = xi\n",
      "\t\t\tg_33,2,2 = 0.0\n",
      "\t\t\tg_22,3,3 = 0.0\n",
      "\t\t\t\tg_00 = 1\n",
      "\t\t\t\tG^0_33 = -0.0\n",
      "\t\t\t\tG^0_22 = -0.0\n",
      "\t\t\t\tg_11 = -1\n",
      "\t\t\t\tG^1_33 = 0.0\n",
      "\t\t\t\tG^1_22 = -1.000000000001\n",
      "\t\t\t\tg_22 = -1\n",
      "\t\t\t\tG^2_33 = 0.0\n",
      "\t\t\t\tG^2_22 = 0.0\n",
      "\t\t\t\tg_33 = -1\n",
      "\t\t\t\tG^3_33 = 0.0\n",
      "\t\t\t\tG^3_22 = 0.0\n",
      "\t\t\tTermino 1 = -0.0\n",
      "\t\t\tTermino 2 = 0.0\n",
      "\t\t\tTermino 3 = 0.0\n",
      "\t\t\tTermino 4 = 0.0\n",
      "\t\t\tR_2332 = 0.0\n"
     ]
    }
   ],
   "source": [
    "from export import g_cilindricas_4d\n",
    "xmu=[0,1,0,0]\n",
    "N=4\n",
    "Gama,Riemann=GammaRiemann(xmu,g_cilindricas_4d,(),N)"
   ]
  }
 ],
 "metadata": {
  "celltoolbar": "Tags",
  "kernelspec": {
   "display_name": "Python 3",
   "language": "python",
   "name": "python3"
  },
  "language_info": {
   "codemirror_mode": {
    "name": "ipython",
    "version": 3
   },
   "file_extension": ".py",
   "mimetype": "text/x-python",
   "name": "python",
   "nbconvert_exporter": "python",
   "pygments_lexer": "ipython3",
   "version": "3.6.8"
  }
 },
 "nbformat": 4,
 "nbformat_minor": 2
}
