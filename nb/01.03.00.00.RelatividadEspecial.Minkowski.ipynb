{
 "cells": [
  {
   "cell_type": "markdown",
   "metadata": {
    "tags": [
     "navigation"
    ]
   },
   "source": [
    "[Indice](index.ipynb) | Previo: [RelatividadEspecial.TransformacionesLorentzEinstein.Consecuencias](01.02.02.00.RelatividadEspecial.TransformacionesLorentzEinstein.Consecuencias.ipynb) | Siguiente: [RelatividadEspecial.OpticaRelativista](01.04.00.00.RelatividadEspecial.OpticaRelativista.ipynb)"
   ]
  },
  {
   "cell_type": "markdown",
   "metadata": {},
   "source": [
    "## 1.9. El espacio-tiempo de Minkowski\n",
    "<a id='minkowski'></a>"
   ]
  },
  {
   "cell_type": "markdown",
   "metadata": {},
   "source": [
    "Una forma poderosa de sintetizar todos los resultados anteriores fue presentada en un artículo en 1908 por Herman Minkowski quién había sido profesor de Albert Einstein en la Universidad.  Al principio Einstein considero esta formulación de la teoría especial de la relatividad una curiosidad matemática.  Esto fue hasta que en 1912 y después de 5 largos años de esfuerzos en la búsqueda de una *generalización* de la teoría, Einstein descubrió que la mejor manera de describir matemáticamente la relatividad era usando la aproximación geométrica de Minkowski."
   ]
  },
  {
   "cell_type": "markdown",
   "metadata": {},
   "source": [
    "### 1.9.1. La norma de Minkowski\n",
    "<a id='norma_minkowski'></a>"
   ]
  },
  {
   "cell_type": "markdown",
   "metadata": {},
   "source": [
    "Hasta ahora hemos usado los diagramas de espacio-tiempo como una *mera* herramienta gráfica para representar las TLE y sus consecuencias.  Sin embargo es posible concebir los puntos en estos *diagramas* como formando un espacio geométrico con propiedades más generales."
   ]
  },
  {
   "cell_type": "markdown",
   "metadata": {},
   "source": [
    "Considere por ejemplo la situación representada con el siguiente algoritmo:"
   ]
  },
  {
   "cell_type": "code",
   "execution_count": 2,
   "metadata": {
    "codelabel": "",
    "codeplot": 0,
    "tags": [
     "hide_pdf"
    ]
   },
   "outputs": [],
   "source": [
    "%matplotlib nbagg"
   ]
  },
  {
   "cell_type": "code",
   "execution_count": 3,
   "metadata": {
    "codelabel": "fig:01.03.00.00.RelatividadEspecial.Minkowski_8",
    "codeplot": 1,
    "figcaption": "<b>Figura 1.8.</b> "
   },
   "outputs": [
    {
     "data": {
      "application/javascript": [
       "/* Put everything inside the global mpl namespace */\n",
       "window.mpl = {};\n",
       "\n",
       "\n",
       "mpl.get_websocket_type = function() {\n",
       "    if (typeof(WebSocket) !== 'undefined') {\n",
       "        return WebSocket;\n",
       "    } else if (typeof(MozWebSocket) !== 'undefined') {\n",
       "        return MozWebSocket;\n",
       "    } else {\n",
       "        alert('Your browser does not have WebSocket support. ' +\n",
       "              'Please try Chrome, Safari or Firefox ≥ 6. ' +\n",
       "              'Firefox 4 and 5 are also supported but you ' +\n",
       "              'have to enable WebSockets in about:config.');\n",
       "    };\n",
       "}\n",
       "\n",
       "mpl.figure = function(figure_id, websocket, ondownload, parent_element) {\n",
       "    this.id = figure_id;\n",
       "\n",
       "    this.ws = websocket;\n",
       "\n",
       "    this.supports_binary = (this.ws.binaryType != undefined);\n",
       "\n",
       "    if (!this.supports_binary) {\n",
       "        var warnings = document.getElementById(\"mpl-warnings\");\n",
       "        if (warnings) {\n",
       "            warnings.style.display = 'block';\n",
       "            warnings.textContent = (\n",
       "                \"This browser does not support binary websocket messages. \" +\n",
       "                    \"Performance may be slow.\");\n",
       "        }\n",
       "    }\n",
       "\n",
       "    this.imageObj = new Image();\n",
       "\n",
       "    this.context = undefined;\n",
       "    this.message = undefined;\n",
       "    this.canvas = undefined;\n",
       "    this.rubberband_canvas = undefined;\n",
       "    this.rubberband_context = undefined;\n",
       "    this.format_dropdown = undefined;\n",
       "\n",
       "    this.image_mode = 'full';\n",
       "\n",
       "    this.root = $('<div/>');\n",
       "    this._root_extra_style(this.root)\n",
       "    this.root.attr('style', 'display: inline-block');\n",
       "\n",
       "    $(parent_element).append(this.root);\n",
       "\n",
       "    this._init_header(this);\n",
       "    this._init_canvas(this);\n",
       "    this._init_toolbar(this);\n",
       "\n",
       "    var fig = this;\n",
       "\n",
       "    this.waiting = false;\n",
       "\n",
       "    this.ws.onopen =  function () {\n",
       "            fig.send_message(\"supports_binary\", {value: fig.supports_binary});\n",
       "            fig.send_message(\"send_image_mode\", {});\n",
       "            if (mpl.ratio != 1) {\n",
       "                fig.send_message(\"set_dpi_ratio\", {'dpi_ratio': mpl.ratio});\n",
       "            }\n",
       "            fig.send_message(\"refresh\", {});\n",
       "        }\n",
       "\n",
       "    this.imageObj.onload = function() {\n",
       "            if (fig.image_mode == 'full') {\n",
       "                // Full images could contain transparency (where diff images\n",
       "                // almost always do), so we need to clear the canvas so that\n",
       "                // there is no ghosting.\n",
       "                fig.context.clearRect(0, 0, fig.canvas.width, fig.canvas.height);\n",
       "            }\n",
       "            fig.context.drawImage(fig.imageObj, 0, 0);\n",
       "        };\n",
       "\n",
       "    this.imageObj.onunload = function() {\n",
       "        fig.ws.close();\n",
       "    }\n",
       "\n",
       "    this.ws.onmessage = this._make_on_message_function(this);\n",
       "\n",
       "    this.ondownload = ondownload;\n",
       "}\n",
       "\n",
       "mpl.figure.prototype._init_header = function() {\n",
       "    var titlebar = $(\n",
       "        '<div class=\"ui-dialog-titlebar ui-widget-header ui-corner-all ' +\n",
       "        'ui-helper-clearfix\"/>');\n",
       "    var titletext = $(\n",
       "        '<div class=\"ui-dialog-title\" style=\"width: 100%; ' +\n",
       "        'text-align: center; padding: 3px;\"/>');\n",
       "    titlebar.append(titletext)\n",
       "    this.root.append(titlebar);\n",
       "    this.header = titletext[0];\n",
       "}\n",
       "\n",
       "\n",
       "\n",
       "mpl.figure.prototype._canvas_extra_style = function(canvas_div) {\n",
       "\n",
       "}\n",
       "\n",
       "\n",
       "mpl.figure.prototype._root_extra_style = function(canvas_div) {\n",
       "\n",
       "}\n",
       "\n",
       "mpl.figure.prototype._init_canvas = function() {\n",
       "    var fig = this;\n",
       "\n",
       "    var canvas_div = $('<div/>');\n",
       "\n",
       "    canvas_div.attr('style', 'position: relative; clear: both; outline: 0');\n",
       "\n",
       "    function canvas_keyboard_event(event) {\n",
       "        return fig.key_event(event, event['data']);\n",
       "    }\n",
       "\n",
       "    canvas_div.keydown('key_press', canvas_keyboard_event);\n",
       "    canvas_div.keyup('key_release', canvas_keyboard_event);\n",
       "    this.canvas_div = canvas_div\n",
       "    this._canvas_extra_style(canvas_div)\n",
       "    this.root.append(canvas_div);\n",
       "\n",
       "    var canvas = $('<canvas/>');\n",
       "    canvas.addClass('mpl-canvas');\n",
       "    canvas.attr('style', \"left: 0; top: 0; z-index: 0; outline: 0\")\n",
       "\n",
       "    this.canvas = canvas[0];\n",
       "    this.context = canvas[0].getContext(\"2d\");\n",
       "\n",
       "    var backingStore = this.context.backingStorePixelRatio ||\n",
       "\tthis.context.webkitBackingStorePixelRatio ||\n",
       "\tthis.context.mozBackingStorePixelRatio ||\n",
       "\tthis.context.msBackingStorePixelRatio ||\n",
       "\tthis.context.oBackingStorePixelRatio ||\n",
       "\tthis.context.backingStorePixelRatio || 1;\n",
       "\n",
       "    mpl.ratio = (window.devicePixelRatio || 1) / backingStore;\n",
       "\n",
       "    var rubberband = $('<canvas/>');\n",
       "    rubberband.attr('style', \"position: absolute; left: 0; top: 0; z-index: 1;\")\n",
       "\n",
       "    var pass_mouse_events = true;\n",
       "\n",
       "    canvas_div.resizable({\n",
       "        start: function(event, ui) {\n",
       "            pass_mouse_events = false;\n",
       "        },\n",
       "        resize: function(event, ui) {\n",
       "            fig.request_resize(ui.size.width, ui.size.height);\n",
       "        },\n",
       "        stop: function(event, ui) {\n",
       "            pass_mouse_events = true;\n",
       "            fig.request_resize(ui.size.width, ui.size.height);\n",
       "        },\n",
       "    });\n",
       "\n",
       "    function mouse_event_fn(event) {\n",
       "        if (pass_mouse_events)\n",
       "            return fig.mouse_event(event, event['data']);\n",
       "    }\n",
       "\n",
       "    rubberband.mousedown('button_press', mouse_event_fn);\n",
       "    rubberband.mouseup('button_release', mouse_event_fn);\n",
       "    // Throttle sequential mouse events to 1 every 20ms.\n",
       "    rubberband.mousemove('motion_notify', mouse_event_fn);\n",
       "\n",
       "    rubberband.mouseenter('figure_enter', mouse_event_fn);\n",
       "    rubberband.mouseleave('figure_leave', mouse_event_fn);\n",
       "\n",
       "    canvas_div.on(\"wheel\", function (event) {\n",
       "        event = event.originalEvent;\n",
       "        event['data'] = 'scroll'\n",
       "        if (event.deltaY < 0) {\n",
       "            event.step = 1;\n",
       "        } else {\n",
       "            event.step = -1;\n",
       "        }\n",
       "        mouse_event_fn(event);\n",
       "    });\n",
       "\n",
       "    canvas_div.append(canvas);\n",
       "    canvas_div.append(rubberband);\n",
       "\n",
       "    this.rubberband = rubberband;\n",
       "    this.rubberband_canvas = rubberband[0];\n",
       "    this.rubberband_context = rubberband[0].getContext(\"2d\");\n",
       "    this.rubberband_context.strokeStyle = \"#000000\";\n",
       "\n",
       "    this._resize_canvas = function(width, height) {\n",
       "        // Keep the size of the canvas, canvas container, and rubber band\n",
       "        // canvas in synch.\n",
       "        canvas_div.css('width', width)\n",
       "        canvas_div.css('height', height)\n",
       "\n",
       "        canvas.attr('width', width * mpl.ratio);\n",
       "        canvas.attr('height', height * mpl.ratio);\n",
       "        canvas.attr('style', 'width: ' + width + 'px; height: ' + height + 'px;');\n",
       "\n",
       "        rubberband.attr('width', width);\n",
       "        rubberband.attr('height', height);\n",
       "    }\n",
       "\n",
       "    // Set the figure to an initial 600x600px, this will subsequently be updated\n",
       "    // upon first draw.\n",
       "    this._resize_canvas(600, 600);\n",
       "\n",
       "    // Disable right mouse context menu.\n",
       "    $(this.rubberband_canvas).bind(\"contextmenu\",function(e){\n",
       "        return false;\n",
       "    });\n",
       "\n",
       "    function set_focus () {\n",
       "        canvas.focus();\n",
       "        canvas_div.focus();\n",
       "    }\n",
       "\n",
       "    window.setTimeout(set_focus, 100);\n",
       "}\n",
       "\n",
       "mpl.figure.prototype._init_toolbar = function() {\n",
       "    var fig = this;\n",
       "\n",
       "    var nav_element = $('<div/>');\n",
       "    nav_element.attr('style', 'width: 100%');\n",
       "    this.root.append(nav_element);\n",
       "\n",
       "    // Define a callback function for later on.\n",
       "    function toolbar_event(event) {\n",
       "        return fig.toolbar_button_onclick(event['data']);\n",
       "    }\n",
       "    function toolbar_mouse_event(event) {\n",
       "        return fig.toolbar_button_onmouseover(event['data']);\n",
       "    }\n",
       "\n",
       "    for(var toolbar_ind in mpl.toolbar_items) {\n",
       "        var name = mpl.toolbar_items[toolbar_ind][0];\n",
       "        var tooltip = mpl.toolbar_items[toolbar_ind][1];\n",
       "        var image = mpl.toolbar_items[toolbar_ind][2];\n",
       "        var method_name = mpl.toolbar_items[toolbar_ind][3];\n",
       "\n",
       "        if (!name) {\n",
       "            // put a spacer in here.\n",
       "            continue;\n",
       "        }\n",
       "        var button = $('<button/>');\n",
       "        button.addClass('ui-button ui-widget ui-state-default ui-corner-all ' +\n",
       "                        'ui-button-icon-only');\n",
       "        button.attr('role', 'button');\n",
       "        button.attr('aria-disabled', 'false');\n",
       "        button.click(method_name, toolbar_event);\n",
       "        button.mouseover(tooltip, toolbar_mouse_event);\n",
       "\n",
       "        var icon_img = $('<span/>');\n",
       "        icon_img.addClass('ui-button-icon-primary ui-icon');\n",
       "        icon_img.addClass(image);\n",
       "        icon_img.addClass('ui-corner-all');\n",
       "\n",
       "        var tooltip_span = $('<span/>');\n",
       "        tooltip_span.addClass('ui-button-text');\n",
       "        tooltip_span.html(tooltip);\n",
       "\n",
       "        button.append(icon_img);\n",
       "        button.append(tooltip_span);\n",
       "\n",
       "        nav_element.append(button);\n",
       "    }\n",
       "\n",
       "    var fmt_picker_span = $('<span/>');\n",
       "\n",
       "    var fmt_picker = $('<select/>');\n",
       "    fmt_picker.addClass('mpl-toolbar-option ui-widget ui-widget-content');\n",
       "    fmt_picker_span.append(fmt_picker);\n",
       "    nav_element.append(fmt_picker_span);\n",
       "    this.format_dropdown = fmt_picker[0];\n",
       "\n",
       "    for (var ind in mpl.extensions) {\n",
       "        var fmt = mpl.extensions[ind];\n",
       "        var option = $(\n",
       "            '<option/>', {selected: fmt === mpl.default_extension}).html(fmt);\n",
       "        fmt_picker.append(option);\n",
       "    }\n",
       "\n",
       "    // Add hover states to the ui-buttons\n",
       "    $( \".ui-button\" ).hover(\n",
       "        function() { $(this).addClass(\"ui-state-hover\");},\n",
       "        function() { $(this).removeClass(\"ui-state-hover\");}\n",
       "    );\n",
       "\n",
       "    var status_bar = $('<span class=\"mpl-message\"/>');\n",
       "    nav_element.append(status_bar);\n",
       "    this.message = status_bar[0];\n",
       "}\n",
       "\n",
       "mpl.figure.prototype.request_resize = function(x_pixels, y_pixels) {\n",
       "    // Request matplotlib to resize the figure. Matplotlib will then trigger a resize in the client,\n",
       "    // which will in turn request a refresh of the image.\n",
       "    this.send_message('resize', {'width': x_pixels, 'height': y_pixels});\n",
       "}\n",
       "\n",
       "mpl.figure.prototype.send_message = function(type, properties) {\n",
       "    properties['type'] = type;\n",
       "    properties['figure_id'] = this.id;\n",
       "    this.ws.send(JSON.stringify(properties));\n",
       "}\n",
       "\n",
       "mpl.figure.prototype.send_draw_message = function() {\n",
       "    if (!this.waiting) {\n",
       "        this.waiting = true;\n",
       "        this.ws.send(JSON.stringify({type: \"draw\", figure_id: this.id}));\n",
       "    }\n",
       "}\n",
       "\n",
       "\n",
       "mpl.figure.prototype.handle_save = function(fig, msg) {\n",
       "    var format_dropdown = fig.format_dropdown;\n",
       "    var format = format_dropdown.options[format_dropdown.selectedIndex].value;\n",
       "    fig.ondownload(fig, format);\n",
       "}\n",
       "\n",
       "\n",
       "mpl.figure.prototype.handle_resize = function(fig, msg) {\n",
       "    var size = msg['size'];\n",
       "    if (size[0] != fig.canvas.width || size[1] != fig.canvas.height) {\n",
       "        fig._resize_canvas(size[0], size[1]);\n",
       "        fig.send_message(\"refresh\", {});\n",
       "    };\n",
       "}\n",
       "\n",
       "mpl.figure.prototype.handle_rubberband = function(fig, msg) {\n",
       "    var x0 = msg['x0'] / mpl.ratio;\n",
       "    var y0 = (fig.canvas.height - msg['y0']) / mpl.ratio;\n",
       "    var x1 = msg['x1'] / mpl.ratio;\n",
       "    var y1 = (fig.canvas.height - msg['y1']) / mpl.ratio;\n",
       "    x0 = Math.floor(x0) + 0.5;\n",
       "    y0 = Math.floor(y0) + 0.5;\n",
       "    x1 = Math.floor(x1) + 0.5;\n",
       "    y1 = Math.floor(y1) + 0.5;\n",
       "    var min_x = Math.min(x0, x1);\n",
       "    var min_y = Math.min(y0, y1);\n",
       "    var width = Math.abs(x1 - x0);\n",
       "    var height = Math.abs(y1 - y0);\n",
       "\n",
       "    fig.rubberband_context.clearRect(\n",
       "        0, 0, fig.canvas.width / mpl.ratio, fig.canvas.height / mpl.ratio);\n",
       "\n",
       "    fig.rubberband_context.strokeRect(min_x, min_y, width, height);\n",
       "}\n",
       "\n",
       "mpl.figure.prototype.handle_figure_label = function(fig, msg) {\n",
       "    // Updates the figure title.\n",
       "    fig.header.textContent = msg['label'];\n",
       "}\n",
       "\n",
       "mpl.figure.prototype.handle_cursor = function(fig, msg) {\n",
       "    var cursor = msg['cursor'];\n",
       "    switch(cursor)\n",
       "    {\n",
       "    case 0:\n",
       "        cursor = 'pointer';\n",
       "        break;\n",
       "    case 1:\n",
       "        cursor = 'default';\n",
       "        break;\n",
       "    case 2:\n",
       "        cursor = 'crosshair';\n",
       "        break;\n",
       "    case 3:\n",
       "        cursor = 'move';\n",
       "        break;\n",
       "    }\n",
       "    fig.rubberband_canvas.style.cursor = cursor;\n",
       "}\n",
       "\n",
       "mpl.figure.prototype.handle_message = function(fig, msg) {\n",
       "    fig.message.textContent = msg['message'];\n",
       "}\n",
       "\n",
       "mpl.figure.prototype.handle_draw = function(fig, msg) {\n",
       "    // Request the server to send over a new figure.\n",
       "    fig.send_draw_message();\n",
       "}\n",
       "\n",
       "mpl.figure.prototype.handle_image_mode = function(fig, msg) {\n",
       "    fig.image_mode = msg['mode'];\n",
       "}\n",
       "\n",
       "mpl.figure.prototype.updated_canvas_event = function() {\n",
       "    // Called whenever the canvas gets updated.\n",
       "    this.send_message(\"ack\", {});\n",
       "}\n",
       "\n",
       "// A function to construct a web socket function for onmessage handling.\n",
       "// Called in the figure constructor.\n",
       "mpl.figure.prototype._make_on_message_function = function(fig) {\n",
       "    return function socket_on_message(evt) {\n",
       "        if (evt.data instanceof Blob) {\n",
       "            /* FIXME: We get \"Resource interpreted as Image but\n",
       "             * transferred with MIME type text/plain:\" errors on\n",
       "             * Chrome.  But how to set the MIME type?  It doesn't seem\n",
       "             * to be part of the websocket stream */\n",
       "            evt.data.type = \"image/png\";\n",
       "\n",
       "            /* Free the memory for the previous frames */\n",
       "            if (fig.imageObj.src) {\n",
       "                (window.URL || window.webkitURL).revokeObjectURL(\n",
       "                    fig.imageObj.src);\n",
       "            }\n",
       "\n",
       "            fig.imageObj.src = (window.URL || window.webkitURL).createObjectURL(\n",
       "                evt.data);\n",
       "            fig.updated_canvas_event();\n",
       "            fig.waiting = false;\n",
       "            return;\n",
       "        }\n",
       "        else if (typeof evt.data === 'string' && evt.data.slice(0, 21) == \"data:image/png;base64\") {\n",
       "            fig.imageObj.src = evt.data;\n",
       "            fig.updated_canvas_event();\n",
       "            fig.waiting = false;\n",
       "            return;\n",
       "        }\n",
       "\n",
       "        var msg = JSON.parse(evt.data);\n",
       "        var msg_type = msg['type'];\n",
       "\n",
       "        // Call the  \"handle_{type}\" callback, which takes\n",
       "        // the figure and JSON message as its only arguments.\n",
       "        try {\n",
       "            var callback = fig[\"handle_\" + msg_type];\n",
       "        } catch (e) {\n",
       "            console.log(\"No handler for the '\" + msg_type + \"' message type: \", msg);\n",
       "            return;\n",
       "        }\n",
       "\n",
       "        if (callback) {\n",
       "            try {\n",
       "                // console.log(\"Handling '\" + msg_type + \"' message: \", msg);\n",
       "                callback(fig, msg);\n",
       "            } catch (e) {\n",
       "                console.log(\"Exception inside the 'handler_\" + msg_type + \"' callback:\", e, e.stack, msg);\n",
       "            }\n",
       "        }\n",
       "    };\n",
       "}\n",
       "\n",
       "// from http://stackoverflow.com/questions/1114465/getting-mouse-location-in-canvas\n",
       "mpl.findpos = function(e) {\n",
       "    //this section is from http://www.quirksmode.org/js/events_properties.html\n",
       "    var targ;\n",
       "    if (!e)\n",
       "        e = window.event;\n",
       "    if (e.target)\n",
       "        targ = e.target;\n",
       "    else if (e.srcElement)\n",
       "        targ = e.srcElement;\n",
       "    if (targ.nodeType == 3) // defeat Safari bug\n",
       "        targ = targ.parentNode;\n",
       "\n",
       "    // jQuery normalizes the pageX and pageY\n",
       "    // pageX,Y are the mouse positions relative to the document\n",
       "    // offset() returns the position of the element relative to the document\n",
       "    var x = e.pageX - $(targ).offset().left;\n",
       "    var y = e.pageY - $(targ).offset().top;\n",
       "\n",
       "    return {\"x\": x, \"y\": y};\n",
       "};\n",
       "\n",
       "/*\n",
       " * return a copy of an object with only non-object keys\n",
       " * we need this to avoid circular references\n",
       " * http://stackoverflow.com/a/24161582/3208463\n",
       " */\n",
       "function simpleKeys (original) {\n",
       "  return Object.keys(original).reduce(function (obj, key) {\n",
       "    if (typeof original[key] !== 'object')\n",
       "        obj[key] = original[key]\n",
       "    return obj;\n",
       "  }, {});\n",
       "}\n",
       "\n",
       "mpl.figure.prototype.mouse_event = function(event, name) {\n",
       "    var canvas_pos = mpl.findpos(event)\n",
       "\n",
       "    if (name === 'button_press')\n",
       "    {\n",
       "        this.canvas.focus();\n",
       "        this.canvas_div.focus();\n",
       "    }\n",
       "\n",
       "    var x = canvas_pos.x * mpl.ratio;\n",
       "    var y = canvas_pos.y * mpl.ratio;\n",
       "\n",
       "    this.send_message(name, {x: x, y: y, button: event.button,\n",
       "                             step: event.step,\n",
       "                             guiEvent: simpleKeys(event)});\n",
       "\n",
       "    /* This prevents the web browser from automatically changing to\n",
       "     * the text insertion cursor when the button is pressed.  We want\n",
       "     * to control all of the cursor setting manually through the\n",
       "     * 'cursor' event from matplotlib */\n",
       "    event.preventDefault();\n",
       "    return false;\n",
       "}\n",
       "\n",
       "mpl.figure.prototype._key_event_extra = function(event, name) {\n",
       "    // Handle any extra behaviour associated with a key event\n",
       "}\n",
       "\n",
       "mpl.figure.prototype.key_event = function(event, name) {\n",
       "\n",
       "    // Prevent repeat events\n",
       "    if (name == 'key_press')\n",
       "    {\n",
       "        if (event.which === this._key)\n",
       "            return;\n",
       "        else\n",
       "            this._key = event.which;\n",
       "    }\n",
       "    if (name == 'key_release')\n",
       "        this._key = null;\n",
       "\n",
       "    var value = '';\n",
       "    if (event.ctrlKey && event.which != 17)\n",
       "        value += \"ctrl+\";\n",
       "    if (event.altKey && event.which != 18)\n",
       "        value += \"alt+\";\n",
       "    if (event.shiftKey && event.which != 16)\n",
       "        value += \"shift+\";\n",
       "\n",
       "    value += 'k';\n",
       "    value += event.which.toString();\n",
       "\n",
       "    this._key_event_extra(event, name);\n",
       "\n",
       "    this.send_message(name, {key: value,\n",
       "                             guiEvent: simpleKeys(event)});\n",
       "    return false;\n",
       "}\n",
       "\n",
       "mpl.figure.prototype.toolbar_button_onclick = function(name) {\n",
       "    if (name == 'download') {\n",
       "        this.handle_save(this, null);\n",
       "    } else {\n",
       "        this.send_message(\"toolbar_button\", {name: name});\n",
       "    }\n",
       "};\n",
       "\n",
       "mpl.figure.prototype.toolbar_button_onmouseover = function(tooltip) {\n",
       "    this.message.textContent = tooltip;\n",
       "};\n",
       "mpl.toolbar_items = [[\"Home\", \"Reset original view\", \"fa fa-home icon-home\", \"home\"], [\"Back\", \"Back to previous view\", \"fa fa-arrow-left icon-arrow-left\", \"back\"], [\"Forward\", \"Forward to next view\", \"fa fa-arrow-right icon-arrow-right\", \"forward\"], [\"\", \"\", \"\", \"\"], [\"Pan\", \"Pan axes with left mouse, zoom with right\", \"fa fa-arrows icon-move\", \"pan\"], [\"Zoom\", \"Zoom to rectangle\", \"fa fa-square-o icon-check-empty\", \"zoom\"], [\"\", \"\", \"\", \"\"], [\"Download\", \"Download plot\", \"fa fa-floppy-o icon-save\", \"download\"]];\n",
       "\n",
       "mpl.extensions = [\"eps\", \"jpeg\", \"pdf\", \"png\", \"ps\", \"raw\", \"svg\", \"tif\"];\n",
       "\n",
       "mpl.default_extension = \"png\";var comm_websocket_adapter = function(comm) {\n",
       "    // Create a \"websocket\"-like object which calls the given IPython comm\n",
       "    // object with the appropriate methods. Currently this is a non binary\n",
       "    // socket, so there is still some room for performance tuning.\n",
       "    var ws = {};\n",
       "\n",
       "    ws.close = function() {\n",
       "        comm.close()\n",
       "    };\n",
       "    ws.send = function(m) {\n",
       "        //console.log('sending', m);\n",
       "        comm.send(m);\n",
       "    };\n",
       "    // Register the callback with on_msg.\n",
       "    comm.on_msg(function(msg) {\n",
       "        //console.log('receiving', msg['content']['data'], msg);\n",
       "        // Pass the mpl event to the overridden (by mpl) onmessage function.\n",
       "        ws.onmessage(msg['content']['data'])\n",
       "    });\n",
       "    return ws;\n",
       "}\n",
       "\n",
       "mpl.mpl_figure_comm = function(comm, msg) {\n",
       "    // This is the function which gets called when the mpl process\n",
       "    // starts-up an IPython Comm through the \"matplotlib\" channel.\n",
       "\n",
       "    var id = msg.content.data.id;\n",
       "    // Get hold of the div created by the display call when the Comm\n",
       "    // socket was opened in Python.\n",
       "    var element = $(\"#\" + id);\n",
       "    var ws_proxy = comm_websocket_adapter(comm)\n",
       "\n",
       "    function ondownload(figure, format) {\n",
       "        window.open(figure.imageObj.src);\n",
       "    }\n",
       "\n",
       "    var fig = new mpl.figure(id, ws_proxy,\n",
       "                           ondownload,\n",
       "                           element.get(0));\n",
       "\n",
       "    // Call onopen now - mpl needs it, as it is assuming we've passed it a real\n",
       "    // web socket which is closed, not our websocket->open comm proxy.\n",
       "    ws_proxy.onopen();\n",
       "\n",
       "    fig.parent_element = element.get(0);\n",
       "    fig.cell_info = mpl.find_output_cell(\"<div id='\" + id + \"'></div>\");\n",
       "    if (!fig.cell_info) {\n",
       "        console.error(\"Failed to find cell for figure\", id, fig);\n",
       "        return;\n",
       "    }\n",
       "\n",
       "    var output_index = fig.cell_info[2]\n",
       "    var cell = fig.cell_info[0];\n",
       "\n",
       "};\n",
       "\n",
       "mpl.figure.prototype.handle_close = function(fig, msg) {\n",
       "    var width = fig.canvas.width/mpl.ratio\n",
       "    fig.root.unbind('remove')\n",
       "\n",
       "    // Update the output cell to use the data from the current canvas.\n",
       "    fig.push_to_output();\n",
       "    var dataURL = fig.canvas.toDataURL();\n",
       "    // Re-enable the keyboard manager in IPython - without this line, in FF,\n",
       "    // the notebook keyboard shortcuts fail.\n",
       "    IPython.keyboard_manager.enable()\n",
       "    $(fig.parent_element).html('<img src=\"' + dataURL + '\" width=\"' + width + '\">');\n",
       "    fig.close_ws(fig, msg);\n",
       "}\n",
       "\n",
       "mpl.figure.prototype.close_ws = function(fig, msg){\n",
       "    fig.send_message('closing', msg);\n",
       "    // fig.ws.close()\n",
       "}\n",
       "\n",
       "mpl.figure.prototype.push_to_output = function(remove_interactive) {\n",
       "    // Turn the data on the canvas into data in the output cell.\n",
       "    var width = this.canvas.width/mpl.ratio\n",
       "    var dataURL = this.canvas.toDataURL();\n",
       "    this.cell_info[1]['text/html'] = '<img src=\"' + dataURL + '\" width=\"' + width + '\">';\n",
       "}\n",
       "\n",
       "mpl.figure.prototype.updated_canvas_event = function() {\n",
       "    // Tell IPython that the notebook contents must change.\n",
       "    IPython.notebook.set_dirty(true);\n",
       "    this.send_message(\"ack\", {});\n",
       "    var fig = this;\n",
       "    // Wait a second, then push the new image to the DOM so\n",
       "    // that it is saved nicely (might be nice to debounce this).\n",
       "    setTimeout(function () { fig.push_to_output() }, 1000);\n",
       "}\n",
       "\n",
       "mpl.figure.prototype._init_toolbar = function() {\n",
       "    var fig = this;\n",
       "\n",
       "    var nav_element = $('<div/>');\n",
       "    nav_element.attr('style', 'width: 100%');\n",
       "    this.root.append(nav_element);\n",
       "\n",
       "    // Define a callback function for later on.\n",
       "    function toolbar_event(event) {\n",
       "        return fig.toolbar_button_onclick(event['data']);\n",
       "    }\n",
       "    function toolbar_mouse_event(event) {\n",
       "        return fig.toolbar_button_onmouseover(event['data']);\n",
       "    }\n",
       "\n",
       "    for(var toolbar_ind in mpl.toolbar_items){\n",
       "        var name = mpl.toolbar_items[toolbar_ind][0];\n",
       "        var tooltip = mpl.toolbar_items[toolbar_ind][1];\n",
       "        var image = mpl.toolbar_items[toolbar_ind][2];\n",
       "        var method_name = mpl.toolbar_items[toolbar_ind][3];\n",
       "\n",
       "        if (!name) { continue; };\n",
       "\n",
       "        var button = $('<button class=\"btn btn-default\" href=\"#\" title=\"' + name + '\"><i class=\"fa ' + image + ' fa-lg\"></i></button>');\n",
       "        button.click(method_name, toolbar_event);\n",
       "        button.mouseover(tooltip, toolbar_mouse_event);\n",
       "        nav_element.append(button);\n",
       "    }\n",
       "\n",
       "    // Add the status bar.\n",
       "    var status_bar = $('<span class=\"mpl-message\" style=\"text-align:right; float: right;\"/>');\n",
       "    nav_element.append(status_bar);\n",
       "    this.message = status_bar[0];\n",
       "\n",
       "    // Add the close button to the window.\n",
       "    var buttongrp = $('<div class=\"btn-group inline pull-right\"></div>');\n",
       "    var button = $('<button class=\"btn btn-mini btn-primary\" href=\"#\" title=\"Stop Interaction\"><i class=\"fa fa-power-off icon-remove icon-large\"></i></button>');\n",
       "    button.click(function (evt) { fig.handle_close(fig, {}); } );\n",
       "    button.mouseover('Stop Interaction', toolbar_mouse_event);\n",
       "    buttongrp.append(button);\n",
       "    var titlebar = this.root.find($('.ui-dialog-titlebar'));\n",
       "    titlebar.prepend(buttongrp);\n",
       "}\n",
       "\n",
       "mpl.figure.prototype._root_extra_style = function(el){\n",
       "    var fig = this\n",
       "    el.on(\"remove\", function(){\n",
       "\tfig.close_ws(fig, {});\n",
       "    });\n",
       "}\n",
       "\n",
       "mpl.figure.prototype._canvas_extra_style = function(el){\n",
       "    // this is important to make the div 'focusable\n",
       "    el.attr('tabindex', 0)\n",
       "    // reach out to IPython and tell the keyboard manager to turn it's self\n",
       "    // off when our div gets focus\n",
       "\n",
       "    // location in version 3\n",
       "    if (IPython.notebook.keyboard_manager) {\n",
       "        IPython.notebook.keyboard_manager.register_events(el);\n",
       "    }\n",
       "    else {\n",
       "        // location in version 2\n",
       "        IPython.keyboard_manager.register_events(el);\n",
       "    }\n",
       "\n",
       "}\n",
       "\n",
       "mpl.figure.prototype._key_event_extra = function(event, name) {\n",
       "    var manager = IPython.notebook.keyboard_manager;\n",
       "    if (!manager)\n",
       "        manager = IPython.keyboard_manager;\n",
       "\n",
       "    // Check for shift+enter\n",
       "    if (event.shiftKey && event.which == 13) {\n",
       "        this.canvas_div.blur();\n",
       "        event.shiftKey = false;\n",
       "        // Send a \"J\" for go to next cell\n",
       "        event.which = 74;\n",
       "        event.keyCode = 74;\n",
       "        manager.command_mode();\n",
       "        manager.handle_keydown(event);\n",
       "    }\n",
       "}\n",
       "\n",
       "mpl.figure.prototype.handle_save = function(fig, msg) {\n",
       "    fig.ondownload(fig, null);\n",
       "}\n",
       "\n",
       "\n",
       "mpl.find_output_cell = function(html_output) {\n",
       "    // Return the cell and output element which can be found *uniquely* in the notebook.\n",
       "    // Note - this is a bit hacky, but it is done because the \"notebook_saving.Notebook\"\n",
       "    // IPython event is triggered only after the cells have been serialised, which for\n",
       "    // our purposes (turning an active figure into a static one), is too late.\n",
       "    var cells = IPython.notebook.get_cells();\n",
       "    var ncells = cells.length;\n",
       "    for (var i=0; i<ncells; i++) {\n",
       "        var cell = cells[i];\n",
       "        if (cell.cell_type === 'code'){\n",
       "            for (var j=0; j<cell.output_area.outputs.length; j++) {\n",
       "                var data = cell.output_area.outputs[j];\n",
       "                if (data.data) {\n",
       "                    // IPython >= 3 moved mimebundle to data attribute of output\n",
       "                    data = data.data;\n",
       "                }\n",
       "                if (data['text/html'] == html_output) {\n",
       "                    return [cell, data, j];\n",
       "                }\n",
       "            }\n",
       "        }\n",
       "    }\n",
       "}\n",
       "\n",
       "// Register the function which deals with the matplotlib target/channel.\n",
       "// The kernel may be null if the page has been refreshed.\n",
       "if (IPython.notebook.kernel != null) {\n",
       "    IPython.notebook.kernel.comm_manager.register_target('matplotlib', mpl.mpl_figure_comm);\n",
       "}\n"
      ],
      "text/plain": [
       "<IPython.core.display.Javascript object>"
      ]
     },
     "metadata": {},
     "output_type": "display_data"
    },
    {
     "data": {
      "text/html": [
       "<img src=\"data:image/png;base64,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\" width=\"500\">"
      ],
      "text/plain": [
       "<IPython.core.display.HTML object>"
      ]
     },
     "metadata": {},
     "output_type": "display_data"
    }
   ],
   "source": [
    "from export import mapa_TLE\n",
    "fig=mapa_TLE(ux=0.3,ngrid=20,nticks=20)\n",
    "ax=fig.gca()\n",
    "ax.plot([3,9],[3,7],'k-',lw=5)\n",
    "ax=fig.gca()"
   ]
  },
  {
   "cell_type": "markdown",
   "metadata": {},
   "source": [
    "<a id='fig:01.03.00.00.RelatividadEspecial.Minkowski_8'></a><center><b>Figura 1.8.</b> </center>"
   ]
  },
  {
   "cell_type": "markdown",
   "metadata": {},
   "source": [
    "Vemos allí un intervalo espacio temporal (línea negra).  Podemos usar las TLE o el mismo gráfico para encontrar las coordenadas espacio-temporales de los eventos que limitan el intervalo:"
   ]
  },
  {
   "cell_type": "code",
   "execution_count": 1,
   "metadata": {
    "codelabel": "",
    "codeplot": 0
   },
   "outputs": [],
   "source": [
    "from numpy import array\n",
    "#Observador\n",
    "E1=array([3,3,0,0])\n",
    "E2=array([9,7,0,0])\n",
    "#Viajero\n",
    "Ep1=array([2.25,2.25,0,0])\n",
    "Ep2=array([7.25,4.5,0,0])"
   ]
  },
  {
   "cell_type": "markdown",
   "metadata": {},
   "source": [
    "\n",
    "Como vemos las cooredanadas espacio-temporales son muy diferentes al aplicar una transformación hiperbólica en el espacio-tiempo, lo que era de esperarse por las TLE.  Si pensamos ahora el problema desde un punto de vista geométrico y miramos el gráfico nos damos cuenta que hay una propiedad del intervalo que no puede ser distinta a pesar de la rotación hiperbólica. Esa propiedad es la *longitud* del intervalo. Pero, ¿cuánto vale esa longitud?."
   ]
  },
  {
   "cell_type": "markdown",
   "metadata": {},
   "source": [
    "Si usamos la *fórmula clásica* de la longitud (también llamada *norma euclidiana*), la distancia en el espacio-tiemp $\\Delta s$ entre los eventos sería:\n",
    "\n",
    "$$\n",
    "\\Delta s_\\mathrm{L,Euclidiana}^2=\\Delta t^2+\\Delta x_L^2+\\Delta y_L^2+\\Delta z_L^2\n",
    "$$\n",
    "obtenemos:"
   ]
  },
  {
   "cell_type": "code",
   "execution_count": 2,
   "metadata": {
    "codelabel": "",
    "codeplot": 0
   },
   "outputs": [],
   "source": [
    "#Observador\n",
    "Ds2=(E2[0]-E1[0])**2+\\\n",
    "    (E2[1]-E1[1])**2+\\\n",
    "    (E2[2]-E1[2])**2+\\\n",
    "    (E2[3]-E1[3])**2\n",
    "#Viajero\n",
    "Dsp2=(Ep2[0]-Ep1[0])**2+\\\n",
    "     (Ep2[1]-Ep1[1])**2+\\\n",
    "     (Ep2[2]-Ep1[2])**2+\\\n",
    "     (Ep2[3]-Ep1[3])**2"
   ]
  },
  {
   "cell_type": "code",
   "execution_count": 3,
   "metadata": {
    "codelabel": "",
    "codeplot": 0,
    "tags": [
     "hide_input"
    ]
   },
   "outputs": [
    {
     "name": "stdout",
     "output_type": "stream",
     "text": [
      "Ds^2 euclidiana (Observador) = 52\n",
      "Ds^2 euclidian (Viajero) = 30.0625\n"
     ]
    }
   ],
   "source": [
    "print(f\"Ds^2 euclidiana (Observador) = {Ds2}\")\n",
    "print(f\"Ds^2 euclidian (Viajero) = {Dsp2}\")"
   ]
  },
  {
   "cell_type": "markdown",
   "metadata": {},
   "source": [
    "Como vemos las distancias calculadas entre los dos eventos no son las mismas.  Este hecho es ciertamente preocupante puesto que una propiedad que debería ser obviamente la misma resulta relativa."
   ]
  },
  {
   "cell_type": "markdown",
   "metadata": {
    "label": "",
    "subtitle": "Unidades de $\\mathrm{d}s$",
    "tags": [
     "box_note"
    ],
    "title": "Nota"
   },
   "source": [
    "> **Nota: Unidades de $\\mathrm{d}s$.**<a id=''></a> Como vemos las unidades de la amétrica $\\mathrm{d}s$ son las mismas unidades que escojamos usar para $t$ o para $x$.  En la elección que hemos hecho en este libro, es decir, en unidades luz en el que el tiempo se mide en segundos y las distancias en segundos-luz, la métrica se escribe $\\mathrm{d}s_L$ tiene unidades de tiempo. "
   ]
  },
  {
   "cell_type": "markdown",
   "metadata": {},
   "source": [
    "Herman Minkowski encontró la solución a este problema, mostrando que la norma en el espacio-tiempo debía ser distinta: \n",
    "\n",
    "$$\n",
    "\\Delta s_\\mathrm{L,Minkowski}^2=\\Delta t^2-(\\Delta x_L^2+\\Delta y_L^2+\\Delta z_L^2)\n",
    "$$\n"
   ]
  },
  {
   "cell_type": "markdown",
   "metadata": {},
   "source": [
    "¿Por qué el signo menos?.  Comprobémoslo numéricamente:"
   ]
  },
  {
   "cell_type": "code",
   "execution_count": 4,
   "metadata": {
    "codelabel": "",
    "codeplot": 0
   },
   "outputs": [],
   "source": [
    "#Observador\n",
    "Ds2=(E2[0]-E1[0])**2-\\\n",
    "    ((E2[1]-E1[1])**2+\\\n",
    "    (E2[2]-E1[2])**2+\\\n",
    "    (E2[3]-E1[3])**2)\n",
    "#Viajero\n",
    "Dsp2=(Ep2[0]-Ep1[0])**2-\\\n",
    "     ((Ep2[1]-Ep1[1])**2+\\\n",
    "     (Ep2[2]-Ep1[2])**2+\\\n",
    "     (Ep2[3]-Ep1[3])**2)"
   ]
  },
  {
   "cell_type": "code",
   "execution_count": 5,
   "metadata": {
    "codelabel": "",
    "codeplot": 0,
    "tags": [
     "hide_input"
    ]
   },
   "outputs": [
    {
     "name": "stdout",
     "output_type": "stream",
     "text": [
      "Ds euclidiana (Observador) = 20\n",
      "Ds euclidian (Viajero) = 19.9375\n"
     ]
    }
   ],
   "source": [
    "print(f\"Ds euclidiana (Observador) = {Ds2}\")\n",
    "print(f\"Ds euclidian (Viajero) = {Dsp2}\")"
   ]
  },
  {
   "cell_type": "markdown",
   "metadata": {},
   "source": [
    "El signo menos garantiza que efectivamente la distancia entre los eventos sea la misma (aproximadamente) en nuestro ejemplo sencillo. "
   ]
  },
  {
   "cell_type": "markdown",
   "metadata": {
    "label": "",
    "subtitle": "Norma de Minkowski",
    "tags": [
     "box_theorem"
    ],
    "title": "Proposición"
   },
   "source": [
    "> **Proposición: Norma de Minkowski.**<a id=''></a> La distancia entre dos eventos infinitesimalmente cercanos en el espacio-tiempo en un sistema de referencia inercial es:\n",
    "\n",
    "> $$\\mathrm{d}s_L^2=\\mathrm{d}t^2-\\mathrm{d}l_L^2$$\n",
    "> donde $\\mathrm{d}l_L$ es la norma euclidiana que en coordenadas cartesianas $\\mathrm{d}l_L=\\sqrt{\\mathrm{d}x_L^2+\\mathrm{d}y_L^2+\\mathrm{d}z_L^2}$."
   ]
  },
  {
   "cell_type": "markdown",
   "metadata": {},
   "source": [
    "Es fácil mostrar que la norma de Minkowski es invariante bajo transformaciones de Lorentz-Einstein, que es el objetivo que perseguíamos (ver Problemas al final del capítulo)."
   ]
  },
  {
   "cell_type": "markdown",
   "metadata": {},
   "source": [
    "### 1.9.2. Las variedades de Lorentz y la métrica de Minkowski\n",
    "<a id='metrica_minkowski'></a>"
   ]
  },
  {
   "cell_type": "markdown",
   "metadata": {},
   "source": [
    "Hay una sutil diferencia entre lo que llamamos una *norma*, que es la manera como definimos la magnitud de los vectores en un espacio vectorial (en este caso, el vector desplazamiento en el espacio-tiempo $\\mathrm{d}x^\\mu$) y un concepto geométrico más general, el concepto de *métrica*."
   ]
  },
  {
   "cell_type": "markdown",
   "metadata": {},
   "source": [
    "Para introducir este concepto es necesario primero introducir una serie de definiciones matemáticas generales que usaremos a lo largo del texto:"
   ]
  },
  {
   "cell_type": "markdown",
   "metadata": {
    "label": "",
    "subtitle": "Espacio métrico o espacio normado",
    "tags": [
     "box_definition"
    ],
    "title": "Definición"
   },
   "source": [
    "> **Definición 1.10. Espacio métrico o espacio normado.**<a id=''></a> Un espacio métrico es un conjunto $X$ sobre el que podemos definir una *función bilineal* $g$ entre los elementos del espacio:\n",
    "\n",
    "> $$g:X\\times X\\rightarrow {\\rm I\\!R}^3$$\n",
    "> que cumple:\n",
    "\n",
    "> 1. Es positiva: $g(p,q)\\geq 0$.\n",
    "> 2. Es simétrica: $g(p,q)=g(q,p)$.\n",
    "> 3. No es degenerada: $g(p,q)=0$ si $p=q$.\n",
    "\n",
    "> Donde $p$ y $q$ son elementos del conjunto $X$. A la función $g$ se la llama función distancia o **métrica**. \n",
    "\n",
    "> La binealidad de la métrica se expresa mediante las propiedades:\n",
    "> 1. $g(\\lambda p_1 + p_2,q)=\\lambda g(p_1,q)+g(p_2,q)$\n",
    "> 2. $g(p,\\lambda q_1 + q_2)=\\lambda g(p,q_1)+g(p,q_2)$"
   ]
  },
  {
   "cell_type": "markdown",
   "metadata": {},
   "source": [
    "El espacio métrico mejor conocido es el espacio euclidiano ${\\rm I\\!R}^3$, cuyos elements podemos denotar como $p:(x_p,y_p,z_p)$ y que tiene métrica:\n",
    "\n",
    "$$\n",
    "g(p,q)=(x_p-x_q)^2+(y_p-y_q)^2+(z_p-z_q)^2\n",
    "$$"
   ]
  },
  {
   "cell_type": "markdown",
   "metadata": {},
   "source": [
    "Los conceptos de espacio métrico y métrica se pueden generalizar para construir un conjunto de definiciones que se presentan a continuación de manera *intuitiva* (definiciones más rigurosas pueden encontrarse en textos de geometría diferencial):"
   ]
  },
  {
   "cell_type": "markdown",
   "metadata": {
    "label": "",
    "subtitle": "Conceptos de Variedad**. Una **variedad",
    "tags": [
     "box_definition"
    ],
    "title": "Definición"
   },
   "source": [
    "> **Definición 1.11. Conceptos de Variedad**. Una **variedad.**<a id=''></a> es una *estructura matemática* (un conjunto y unas reglas para definir la distancia entre los puntos, es decir, una métrica), que en terminos intuitivos generaliza a n-dimensiones los conceptos de curva (1-variedad) y  superficie (2-variedad).  El espacio euclidiano ${\\rm I\\!R}^3$ es una 3-variedad (*trivariedad*).  El espacio-tiempo es una 4-variedad (*cuadrivariedad*).\n",
    "\n",
    "> Una **variedad diferenciable** es aquella sobre la que podemos definir funciones (campos escalares, campos vectoriales y campos tensoriales) y la operación de derivación.  Es decir, sobre una variedad diferenciable se pueden definir y realizar las operaciones propias del cálculo.  Así mismo, y usando el mismo cálculo, sobre una variedad diferenciable se puede definir el concepto de longitud de arco.\n",
    "\n",
    "> Alrededor de cada punto de una variedad diferenciable se puede definir un **espacio tangente** que es una variedad euclidiana que comparte con la variedad original un solo punto.  Así por ejemplo: sobre la superficie de una esfera (2-variedad) podemos definir un plano tangente. \n",
    "\n",
    "> Una **variedad de Riemann** es una variedad diferenciable que localmente es *similar* (homeomórfica) al espacio euclidiano.  Un ejemplo de una variedad de Riemann es la superficie de una esfera (2-variedad) que tiene una métrica muy específica.  Localmente esta superficie es *similar* a un plano (2-variedad).\n",
    "\n",
    "> Una **pseudo variedad de Riemann** es una variedad diferenciable en la que la función métrica no necesariamente satisface la condición de ser positiva.  Localmente una pseudo variedad de Riemann no es *similar* al espacio ecuclidiano, sino al que se conoce como el espacio pseudo euclidiano, que es aquel en el que la función métrica se escribe de forma general como:\n",
    "\n",
    "> $$ \n",
    "  g(p,q)=(p_1-q_1)^2+\\ldots+(p_k-q_k)^2+\\ldots-(p_{k+1}-q_{k+1})^2+\\ldots-(p_{N}-q_{N})^2\n",
    "  $$\n",
    "  \n",
    "> Nótese que esta métrica es prácticamente idéntica a la métrica euclidiana, excepto por el signo menos de los últimos términos.  Se dice que esta métrica tiene *signatura* (*signature*): $(k,N-k)$\n",
    "\n",
    "> Una **variedad de Lorentz** es una pseudo variedad de Riemann con una métrica (forma bilineal cuadrática) son *signatura* (1,N-1)."
   ]
  },
  {
   "cell_type": "markdown",
   "metadata": {},
   "source": [
    "De acuerdo con estas definiciones podemos decir que lo que encuentra Minkowski al demostrar que la norma es la que definimos antes es que el espacio-tiempo es una variedad diferenciable pseudo euclidiana con signatura (1,3) y métrica (en el sistema de coordenadas cartesianas):\n",
    "\n",
    "$$g(x^\\mu,x^\\mu+\\mathrm{d}x^\\mu)=\\mathrm{d}t^2-\\mathrm{d}x_L^2-\\mathrm{d}y_L^2-\\mathrm{d}z_L^2$$"
   ]
  },
  {
   "cell_type": "markdown",
   "metadata": {},
   "source": [
    "En el sistema de coordenadas cilíndricas, la **métrica de Minkowski** será:\n",
    "\n",
    "$$g(x^\\mu,x^\\mu+\\mathrm{d}x^\\mu)=\\mathrm{d}t^2-\\mathrm{d}r_L^2-r^2\\mathrm{d}\\theta_L^2-\\mathrm{d}z_L^2$$"
   ]
  },
  {
   "cell_type": "markdown",
   "metadata": {},
   "source": [
    "Si usaramos un sistema de coordenadas generalizado y no necesariamente ortogonal, la métrica podría escribirse de forma general como:\n",
    "\n",
    "$$\n",
    "g(x^\\mu,x^\\mu+\\mathrm{d}x^\\mu)=g_{\\mu\\nu}dx^\\mu dx^\\nu\n",
    "$$\n",
    "donde $g_{\\mu\\nu}(x^{\\alpha})$ son cantidades que en general dependen de la posición en el espacio (como lo vemos en la métrica de Minkowski escrita en coordenadas polares y que se conocen como coeficientes métricos.\n",
    "\n",
    "Por comodidad usaremos la notación:\n",
    "$$\n",
    "\\mathrm{d}s^2=g_{\\mu\\nu}dx^\\mu dx^\\nu\n",
    "$$\n"
   ]
  },
  {
   "cell_type": "markdown",
   "metadata": {},
   "source": [
    "En el caso del espacio-tiempo de un observador inercial los coeficientes métricos *en coordenadas cartesianas* son:\n",
    "\n",
    "$$\n",
    "g_{\\mu\\nu}=\\eta_{\\mu\\nu}\\equiv\n",
    "\\left(\n",
    "\\begin{array}{cccc}\n",
    "1 & 0 & 0 & 0 \\\\\n",
    "0 & -1 & 0 & 0 \\\\\n",
    "0 & 0 & -1 & 0 \\\\\n",
    "0 & 0 & 0 & -1\n",
    "\\end{array}\n",
    "\\right)\n",
    "$$"
   ]
  },
  {
   "cell_type": "markdown",
   "metadata": {
    "label": "",
    "subtitle": "La métrica es un tensor",
    "tags": [
     "box_theorem"
    ],
    "title": "Proposición"
   },
   "source": [
    "> **Proposición: La métrica es un tensor.**<a id=''></a> La métrica $g_{\\mu\\nu}$ es un campo tensorial covariante de segundo orden, es decir, al hacer un cambio de coordenadas $x^{\\mu'}(x^{\\nu})$ la métrica transforma como:\n",
    "\n",
    "> $$\n",
    "  g_{\\mu'\\nu'}=\\frac{\\partial x^\\alpha}{\\partial x^{\\mu'}}\\frac{\\partial x^\\beta}{\\partial x^{\\nu'}}g_{\\alpha\\beta}\n",
    "  $$"
   ]
  },
  {
   "cell_type": "markdown",
   "metadata": {},
   "source": [
    "El espacio-tiempo entonces es una variedad diferenciable pseudo-euclidiana con una métrica de signatura $(1,3)$, que llamamos de forma más específica en el contexto de la física, la métrica de Minkowski.  Pero más allá de lo rimbombante que estas afirmaciones pueda sonar ¿qué implicaciones tiene todo esto para la relatividad en particular y para la física en general?.  "
   ]
  },
  {
   "cell_type": "markdown",
   "metadata": {},
   "source": [
    "### 1.9.3. Métrica y tipos de intervalos\n",
    "<a id='metrica_intervalos'></a>"
   ]
  },
  {
   "cell_type": "markdown",
   "metadata": {},
   "source": [
    "Usando la métrica de Minskowski podemos definir los tipos de intervalos así:\n",
    "\n",
    "- **Intervalo temporaloide**. Este tipo de intervalos se definieron como aquellos en los que se puede encontrar un sistema de referencia en el que los eventos límite ocurran en el mismo lugar del espacio.  En otros términos, son intervalos para los cuales se puede encontrar una partícula física que viaje entre ellos.  Como sabemos que las partículas viajan con velocidad $u_L<1$ entonces $\\mathrm{d}l_L^2<\\mathrm{d}t^2$ y por lo tanto:\n",
    "\n",
    "  $$\\mathrm{d}s^2>0$$"
   ]
  },
  {
   "cell_type": "markdown",
   "metadata": {},
   "source": [
    "- **Intervalo espacialoide**. Este tipo de intervalos se definieron como aquellos en los que *no* se puede encontrar un sistema de referencia en el que los eventos límite ocurran en el mismo lugar del espacio.  En otros términos, son intervalos para los cuales *no* existe una partícula física que viaje entre ellos.  Como sabemos que las partículas viajan con velocidad $u_L<1$ entonces $\\mathrm{d}l_L^2>\\mathrm{d}t^2$ y por lo tanto:\n",
    "\n",
    "  $$\\mathrm{d}s^2<0$$"
   ]
  },
  {
   "cell_type": "markdown",
   "metadata": {},
   "source": [
    "- **Intervalo luminoide**. Este tipo de intervalos se definieron como aquellos en los que *no* se puede encontrar un sistema de referencia en el que los eventos límite ocurran en el mismo lugar del espacio, y tampoco en el mismo lugar del tiempo (eventos simultáneos).  Solo es posible encontrar rayos de luz que viajen entre ellos, es decir: $\\mathrm{d}l_L^2=\\mathrm{d}t^2$ y por lo tanto:\n",
    "\n",
    "  $$\\mathrm{d}s^2=0$$"
   ]
  },
  {
   "cell_type": "markdown",
   "metadata": {},
   "source": [
    "### 1.9.4. Métrica y tiempo propio\n",
    "<a id='tiempo_propio_minkowski'></a>"
   ]
  },
  {
   "cell_type": "markdown",
   "metadata": {},
   "source": [
    "En un sistema de referencia en el que dos eventos (con un intervalo temporaloide) separados en el sistema de referencia del Observador por una distancia $\\mathrm{d}\\vec{r}_L$, ocurren en el mismo lugar del espacio, la distancia espacio-temporal es simplemente:\n",
    "\n",
    "$$\n",
    "\\mathrm{d}s_L^2 = \\mathrm{d}\\tau^2-0^2\n",
    "$$\n",
    "o bien \n",
    "\n",
    "$$\n",
    "\\mathrm{d}s_L = \\mathrm{d}\\tau\n",
    "$$\n",
    "\n",
    "donde hemos usado de una vez $\\tau$ para representar el hecho de que en este sistema de referencia y como se explico en sesiones anteriores, este tiempo es el tiempo propio entre los eventos."
   ]
  },
  {
   "cell_type": "markdown",
   "metadata": {},
   "source": [
    "Dada la invarianza de la métrica para todos los observadores podemos concluir que **en el caso de intervalos temporaloides y en unidades luz** la métrica (la distancia espacio-temporal entre eventos) no es otra cosa que el tiempo propio entre esos eventos. "
   ]
  },
  {
   "cell_type": "markdown",
   "metadata": {},
   "source": [
    "Si por el contrario tenemos eventos espacialoides, podemos siempre encontrar un sistema de referencia en el que los eventos límite ocurren en el mismo momento del tiempo, es decir su separación esta relacionada es con la distancia propia entre esos eventos:\n",
    "\n",
    "$$\n",
    "\\mathrm{d}s_L^2 = 0^2-\\mathrm{d}\\lambda_L^2\n",
    "$$\n",
    "que se podría escribir como:\n",
    "\n",
    "$$\n",
    "\\sqrt{-\\mathrm{d}s_L^2}=\\lambda_L\n",
    "$$"
   ]
  },
  {
   "cell_type": "markdown",
   "metadata": {},
   "source": [
    "Dada la invarianza de la métrica para todos los observadores podemos concluir que **en el caso de intervalos espacialoides y en unidades luz** la métrica (la distancia espacio-temporal entre eventos) esta relacionada con la distancia propia entre esos eventos. "
   ]
  },
  {
   "cell_type": "markdown",
   "metadata": {},
   "source": [
    "### 1.9.5. Métrica, dilatación del tiempo y contracción de longitudes\n",
    "<a id='metrica_dilatacion_contraccion'></a>"
   ]
  },
  {
   "cell_type": "markdown",
   "metadata": {},
   "source": [
    "Con las definiciones del aparte anterior se puede entender de forma inmediata la dilatación del tiempo y la contracción de longitudes."
   ]
  },
  {
   "cell_type": "markdown",
   "metadata": {},
   "source": [
    "Consideremos por ejemplo un fenómeno limitado por dos eventos y un intervalo temporaloide.  La distancia entre los eventos será:\n",
    "\n",
    "$$\n",
    "\\mathrm{d}\\tau^2=\\mathrm{d}t^2- \\mathrm{d}l_L^2\n",
    "$$\n",
    "donde de una vez hemos usado el hecho que $\\mathrm{d}s_L^2=\\mathrm{d}\\tau^2$. "
   ]
  },
  {
   "cell_type": "markdown",
   "metadata": {},
   "source": [
    "Si reconocemos que $\\mathrm{d}l_L/\\mathrm{d}t=v_L$ es simplemente la velocidad del Viajero, llegamos a la relación conocida:\n",
    "\n",
    "$$\n",
    "\\mathrm{d}\\tau=\\frac{1}{\\gamma}\\mathrm{d}t\n",
    "$$\n",
    "es decir, la dilatación del tiempo es la manifestación directa de la métrica de Minkowski."
   ]
  },
  {
   "cell_type": "markdown",
   "metadata": {},
   "source": [
    "El caso de la contracción de longitudes es un poco más truculento.  Para definir la longitud de un objeto que esta en reposo para el Viajero, es necesario tomar dos eventos asociados al objeto que ocurren simultáneamente en el sistema del Observador.  Para estos dos eventos la distancia medida en los dos sistemas de referencia serán:\n",
    "\n",
    "$$\n",
    "-\\mathrm{d}x_L^2=\\mathrm{d}t'^2-\\mathrm{d}\\lambda^2\n",
    "$$\n",
    "\n",
    "Aquí hay que tener en cuentra que en el sistema del viajero los dos eventos no ocurren simultáneamente sino que ocurren separados por un tiempo $\\mathrm{d}t'=u_L \\mathrm{d}\\lambda$, de allí que:\n",
    "\n",
    "$$\n",
    "\\mathrm{d}x_L=\\frac{1}{\\gamma}\\mathrm{d}\\lambda\n",
    "$$\n",
    "que ya habíamos obtenido."
   ]
  },
  {
   "cell_type": "markdown",
   "metadata": {},
   "source": [
    "### 1.9.6. Vectores y cálculo en el espacio de Minkowski\n",
    "<a id='vectores_minkowski'></a>"
   ]
  },
  {
   "cell_type": "markdown",
   "metadata": {},
   "source": [
    "Posiblemente la más importante de las consecuencias de la *geometrización* de la relatividad, es la idea de que las leyes de la física pueden escribirse en términos de vectores y tensores en el espacio-tiempo y al hacerlo tener la covariancia que esperamos de ellas de acuerdo con el **postulado de relatividad**.  Veamos porque."
   ]
  },
  {
   "cell_type": "markdown",
   "metadata": {},
   "source": [
    "En el espacio métrico de Minkowski, el vector prototipo es el vector intervalo.  Este vector transforma de acuerdo con las TLE como:\n",
    "$$\n",
    "\\mathrm{d}x^{\\mu'}=\\frac{\\partial x^{\\mu'}}{\\partial x^{\\nu}}\\mathrm{d}x^\\nu\n",
    "$$\n",
    "\n",
    "Habíamos explicado antes que esta transformación es el equivalente a una rotación hiperbólica en el espacio-tiempo.  Savemos que este vector que transforma de esta manera tiene una propiedad geométria, su norma, que es invariante bajo TLE:\n",
    "\n",
    "$$\n",
    "\\mathrm{d}s^2=|\\mathrm{d}x^\\mu|^2=\\mathrm{d}t^2-\\mathrm{d}x_L^2-\\mathrm{d}y_L^2-\\mathrm{d}z_L^2\n",
    "$$"
   ]
  },
  {
   "cell_type": "markdown",
   "metadata": {},
   "source": [
    "Podríamos generalizar este resultado para decir que cualquier otro vector que transforme de la manera en la que lo hace el vector intervalo tiene la misma propiedad.  Así si una cantidad $A^\\mu:(A^0,A^1,A^2,A^3)$ es tal que:\n",
    "$$\n",
    "A^{\\mu'}=\\frac{\\partial x^{\\mu'}}{\\partial x^{\\nu}}A^\\nu\n",
    "$$\n",
    "entonces\n",
    "\n",
    "$$\n",
    "|A^\\mu|^2=(A^0)^2-(A^1)^2-(A^2)^2-(A^3)^2\n",
    "$$"
   ]
  },
  {
   "cell_type": "markdown",
   "metadata": {},
   "source": [
    "Una manera más interesante de generalizar lo que sabemos de vectores en el espacio euclidiano a vectores en el espacio de Minkowski es introducir el producto punto o producto interior, que para el vector prototipo (el vector desplazamiento es:\n",
    "\n",
    "$$\n",
    "\\mathrm{d}s^2=\\mathrm{d}x^\\mu\\cdot \\mathrm{d}x^\\nu\\equiv g_{\\mu\\nu}dx^\\mu dx^\\nu\n",
    "$$\n",
    "y que se puede generalizar para cualquier par de vectores como:\n",
    "\n",
    "$$\n",
    "A^\\mu\\cdot B^\\nu\\equiv g_{\\mu\\nu}A^\\mu B^\\nu\n",
    "$$\n",
    "o en términos explícitos:\n",
    "\n",
    "$$\n",
    "A^\\mu\\cdot B^\\nu=A^0 B^0 - (A_L^1 B_L^1 + A_L^2 B_L^2 + A_L^2 B_L^2)\n",
    "$$"
   ]
  },
  {
   "cell_type": "markdown",
   "metadata": {},
   "source": [
    "La suma de vectores y la multiplicación por un escalar están igualmente definidas en el espacio de Minkowski."
   ]
  },
  {
   "cell_type": "markdown",
   "metadata": {},
   "source": [
    "Como sucede en el espacio euclidiano cualquier expresión matemática que escribamos en términos vectoriales, así por ejemplo \n",
    "\n",
    "$$\n",
    "\\vec A + \\lambda \\vec B\n",
    "$$\n",
    "definirá en sí misma un vector, que transforma como el vector desplazamiento y por lo tando es covariante bajo las TLE. "
   ]
  },
  {
   "cell_type": "markdown",
   "metadata": {},
   "source": [
    "El **postulado de relatividad** o postulado de covariancia de las leyes de la naturaleza se puede formular ahora como una proposición:"
   ]
  },
  {
   "cell_type": "markdown",
   "metadata": {
    "label": "",
    "subtitle": "Leyes físicas y tensores",
    "tags": [
     "box_theorem"
    ],
    "title": "Proposición"
   },
   "source": [
    "> **Proposición: Leyes físicas y tensores.**<a id=''></a> Todas las leyes físicas que se expresan en términos de cuadrivectores o tensores de rango superior son covariantes."
   ]
  },
  {
   "cell_type": "markdown",
   "metadata": {},
   "source": [
    "Podemos definir una función escalar de variable real $f(s)$ como es usual (usaremos $s$ como letra para la variable independiente en lugar de $x$), una función tensorial de variable real $F^\\mu(s)$ o $g_{\\mu\\nu}(s)$, una función escalar o tensorial de variable cuadrivectorial (normalmente de la cuadriposición) $f(x^\\mu)$ o $F^\\mu(x^\\mu)$ o $g_{\\mu\\nu}(x^\\mu)$. "
   ]
  },
  {
   "cell_type": "markdown",
   "metadata": {},
   "source": [
    "Los conceptos regulares del cálculo también están definidos, tales como la derivación:\n",
    "\n",
    "$$\n",
    "\\frac{\\mathrm{d}}{\\mathrm{d}s} x^\\mu(s):\\left(\n",
    "\\frac{\\mathrm{d}}{\\mathrm{d}s} t(s),\n",
    "\\frac{\\mathrm{d}}{\\mathrm{d}s} \\vec r_L(s),\n",
    "\\right)\n",
    "$$\n",
    "donde $x^\\mu(s)$ describe por ejemplo una línea de universo en el espacio-tiempo y $s$ puede entenderse como un parámetro que distingue cada punto en el espacio."
   ]
  },
  {
   "cell_type": "markdown",
   "metadata": {},
   "source": [
    "La integración:\n",
    "\n",
    "$$\n",
    "F(s)=\\int_0^{s} f(s') \\mathrm{d}s'\n",
    "$$\n",
    "o bien\n",
    "\n",
    "$$\n",
    "W=\\int_0^{s} F^\\mu(s')\\cdot \\mathrm{d}x^\\mu(s')\n",
    "$$\n"
   ]
  },
  {
   "cell_type": "markdown",
   "metadata": {},
   "source": [
    "### 1.9.7. Minkowski y el postulado de los relojes\n",
    "<a id='minkowski_postulado_relojes'></a>"
   ]
  },
  {
   "cell_type": "markdown",
   "metadata": {},
   "source": [
    "De la misma manera que definimos cualquier integral podemos definir la integral de línea fundamental:\n",
    "\n",
    "$$\n",
    "\\tau=\\int_0^{s'} \\mathrm{d}s\n",
    "$$\n",
    "donde los $\\mathrm{d}s$ son temporaloides.  Esta es s la longitud de una curva arbitraria en el espacio tiempo."
   ]
  },
  {
   "cell_type": "markdown",
   "metadata": {},
   "source": [
    "Por el postulado de los relojes esta integral es también el tiempo propio de esa línea de universo."
   ]
  },
  {
   "cell_type": "markdown",
   "metadata": {},
   "source": [
    "### 1.9.8. Transformación general de cuadrivectores\n",
    "<a id='transformacion_cuadrivectores'></a>"
   ]
  },
  {
   "cell_type": "markdown",
   "metadata": {},
   "source": [
    "Hemos visto que cualquier cantidad que transforme como\n",
    "\n",
    "$$\n",
    "A^{\\mu'}=\\frac{\\partial x^{\\mu'}}{\\partial x^{\\nu}}A^\\nu\n",
    "$$\n",
    "es un cuadrivector.  "
   ]
  },
  {
   "cell_type": "markdown",
   "metadata": {},
   "source": [
    "En secciones anteriores habíamos visto una forma general de las transformaciones de Lorentz-Einstein para el cuadrivector posición $x^\\mu:(t,\\vec{r}_L$):\n",
    "\n",
    "\\begin{eqnarray}\n",
    "t' & = & \\gamma\\left(t-\\vec{u}_L\\cdot \\vec{r}_L\\right) \\\\\n",
    "\\vec{r}'_L & = & \\vec{r}_L+\\left(\\frac{\\gamma-1}{u_L^2} \\vec{u}_L\\cdot \\vec{r}_L - \\gamma t\\right)\\vec u_L\n",
    "\\end{eqnarray}"
   ]
  },
  {
   "cell_type": "markdown",
   "metadata": {},
   "source": [
    "Estas relaciones pueden extenderse a cualquier cuadrivector $A^\\mu:(A^0,\\vec A)$:\n",
    "\n",
    "\\begin{eqnarray}\n",
    "A^{0'} & = & \\gamma\\left(A^0-\\vec{u}_L\\cdot \\vec{A}_L\\right) \\\\\n",
    "\\vec{A}'_L & = & \\vec{A}_L+\\left(\\frac{\\gamma-1}{u_L^2} \\vec{u}_L\\cdot \\vec{A}_L - \\gamma A^0\\right)\\vec u_L\n",
    "\\end{eqnarray}"
   ]
  },
  {
   "cell_type": "markdown",
   "metadata": {
    "tags": [
     "navigation"
    ]
   },
   "source": [
    "[Indice](index.ipynb) | Previo: [RelatividadEspecial.TransformacionesLorentzEinstein.Consecuencias](01.02.02.00.RelatividadEspecial.TransformacionesLorentzEinstein.Consecuencias.ipynb) | Siguiente: [RelatividadEspecial.OpticaRelativista](01.04.00.00.RelatividadEspecial.OpticaRelativista.ipynb)"
   ]
  }
 ],
 "metadata": {
  "celltoolbar": "Tags",
  "kernelspec": {
   "display_name": "Python 3",
   "language": "python",
   "name": "python3"
  },
  "language_info": {
   "codemirror_mode": {
    "name": "ipython",
    "version": 3
   },
   "file_extension": ".py",
   "mimetype": "text/x-python",
   "name": "python",
   "nbconvert_exporter": "python",
   "pygments_lexer": "ipython3",
   "version": "3.6.8"
  }
 },
 "nbformat": 4,
 "nbformat_minor": 2
}
