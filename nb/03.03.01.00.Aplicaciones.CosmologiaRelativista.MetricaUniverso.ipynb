{
 "cells": [
  {
   "cell_type": "markdown",
   "metadata": {
    "tags": [
     "navigation"
    ]
   },
   "source": [
    "[Indice](index.ipynb) | Previo: [Aplicaciones.CosmologiaRelativista](03.03.00.00.Aplicaciones.CosmologiaRelativista.ipynb) | Siguiente: [Aplicaciones.CosmologiaRelativista.EcuacionesFriedmann](03.03.02.00.Aplicaciones.CosmologiaRelativista.EcuacionesFriedmann.ipynb)"
   ]
  },
  {
   "cell_type": "markdown",
   "metadata": {},
   "source": [
    "### 3.3.3. Principios básicos\n",
    "<a id='principios_basicos'></a>"
   ]
  },
  {
   "cell_type": "markdown",
   "metadata": {},
   "source": [
    "Para responder a todas las preguntas relevantes en cosmología es necesario encontrar la métrica del Universo."
   ]
  },
  {
   "cell_type": "markdown",
   "metadata": {},
   "source": [
    "Con base en las evidencias recogidas anteriormente podemos decir que actualmente el Universo esta formado por una distribución de materia homogenea, isotrópica y de muy baja densidad, en la que las partículas se mueven muy lentamente comparada con la velocidad de la luz (con velocidades propias del orden de 100 km/s la velocidad de las galaxias es menor que 0.1% de la velocidad de la luz."
   ]
  },
  {
   "cell_type": "markdown",
   "metadata": {
    "label": "",
    "subtitle": "Principio cosmológico**. En cualquier momento y a una escala suficientemente grande, el universo es **homogeneo",
    "tags": [
     "box_principle"
    ],
    "title": "Principio"
   },
   "source": [
    "> **Principio: Principio cosmológico**. En cualquier momento y a una escala suficientemente grande, el universo es **homogeneo.**<a id=''></a> (es el mismo en todas partes, tiene la misma densidad y curvatura) e isotrópico (la elección de ejes coordenados no afecta la descripción de la geometría)."
   ]
  },
  {
   "cell_type": "markdown",
   "metadata": {},
   "source": [
    "Aquí es importante entender que esta suposición implica que todo lo que digamos en lo sucesivo aplicará unicamente bajo el supuesto de homogeneidad e isotropía.  Sin embargo el universo es más complejo que eso y puede a escalar de planetas, estrellas, galaxias incluso cúmulos y supercúmulos tener una estructura granulosa."
   ]
  },
  {
   "cell_type": "markdown",
   "metadata": {},
   "source": [
    "Otro \"inconveniente\" con el principio cosmológico es que no es necesariamente válido para todos los observadores del Universo.  Por ejemplo, un observador que se mueva no percibirá el universo isotrópico."
   ]
  },
  {
   "cell_type": "markdown",
   "metadata": {},
   "source": [
    "Para esto se introduce un nuevo principio:"
   ]
  },
  {
   "cell_type": "markdown",
   "metadata": {
    "label": "",
    "subtitle": "Principio de Weyl**. Existe un conjunto de observadores privilegiados  en el universo que llamaremos **observadores fundamentales",
    "tags": [
     "box_principle"
    ],
    "title": "Principio"
   },
   "source": [
    "> **Principio: Principio de Weyl**. Existe un conjunto de observadores privilegiados  en el universo que llamaremos **observadores fundamentales.**<a id=''></a> , que lo perciben como homogéneo e isotrópico y que tienen las siguientes características:\n",
    "\n",
    "> - Las lineas de universo de estos observadores nunca se cruzan (excepto en un singularidad inicial).\n",
    "> - El tiempo propio de estos observadores es el mismo de modo que se puede definir para cada evento del universo un **tiempo cósmico** referido a cualquier evento presente o pasado.\n",
    "> - Todos los eventos del universo que tienen el mismo valor del tiempo cósmico forman una hipersuperficie espacialoide que satisface el principio cosmológico (es homogénea e isotrópica). "
   ]
  },
  {
   "cell_type": "markdown",
   "metadata": {},
   "source": [
    "<a id='fig:Figure_68'></a>![Observadores fundamentales de acuerdo con el principio de Weyl](./figures/square_observadores_fundamentales.png)\n",
    "\n",
    "<center><b>Figura 3.68</b>. Observadores fundamentales de acuerdo con el principio de Weyl</center>"
   ]
  },
  {
   "cell_type": "markdown",
   "metadata": {},
   "source": [
    "Sobre cada hipersuperficie se pueden definir las coordenadas que ocupan los observadores fundamentales de modo que no cambien con el tiempo (dado que la relación entre los observadores fundamentales tampoco cambian).  A estas coordenadas las llamamos **coordenadas comóviles**."
   ]
  },
  {
   "cell_type": "markdown",
   "metadata": {},
   "source": [
    "### 3.3.4. La métrica del Universo\n",
    "<a id='metrica_universo'></a>"
   ]
  },
  {
   "cell_type": "markdown",
   "metadata": {},
   "source": [
    "Con las condiciones anteriores la métrica más general que podemos escribir que satisfaga estas condiciones es:\n",
    "\n",
    "$$\n",
    "\\mathrm{d}s^2=c\\mathrm{d}t^2-S(t)^2\\mathrm{d}\\ell^2\n",
    "$$\n",
    "donde $t$ es el tiempo cósmico, $S(t)$ es una función arbitraria que depende del tiempo cósmico y $\\mathrm{d}\\ell^2$ es el elemento de línea en las hipersuperficies de tiempo cósmico constante."
   ]
  },
  {
   "cell_type": "markdown",
   "metadata": {},
   "source": [
    "Llamamos a está la **métrica de Robertson-Walker**."
   ]
  },
  {
   "cell_type": "markdown",
   "metadata": {},
   "source": [
    "¿Cuál es la métrica de la hipersuperficie espacial en este universo?.  Existen tres posibilidades:"
   ]
  },
  {
   "cell_type": "markdown",
   "metadata": {},
   "source": [
    "#### 3.3.4.1. Espacio plano\n",
    "<a id='espacio_plano'></a>"
   ]
  },
  {
   "cell_type": "markdown",
   "metadata": {},
   "source": [
    "En este caso la métrica espacial es sencillamente la métrica euclidiana:\n",
    "\n",
    "$$\n",
    "\\mathrm{d}\\ell^2=\\mathrm{d}x^2+\\mathrm{d}y^2+\\mathrm{d}z^2\n",
    "$$\n",
    "o en coordenadas esféricas:\n",
    "\n",
    "$$\n",
    "\\mathrm{d}\\ell^2=\\mathrm{d}r^2+r^2\\mathrm{d}\\theta^2+r^2\\sin^2\\theta\\mathrm{d}\\phi^2\n",
    "$$"
   ]
  },
  {
   "cell_type": "markdown",
   "metadata": {},
   "source": [
    "Es importante aclarar que en esta métrica las coordenadas $(x,y,z)$ o $(r,\\theta,\\phi)$ son **coordenadas coomoviles**, es decir son aquellas en las cuales si se expresa la posición de los observadores fundamentales entonces esta posición no cambia."
   ]
  },
  {
   "cell_type": "markdown",
   "metadata": {},
   "source": [
    "La distancia espacial entre dos puntos con coorenadas coomoviles es usando la métrica RW será:\n",
    "\n",
    "$$\n",
    "\\mathrm{d}\\sigma^2=-\\mathrm{d}s^2=S(t)^2\\mathrm{d}\\ell^2=S(t)^2(\\mathrm{d}x^2+\\mathrm{d}y^2+\\mathrm{d}z^2)\n",
    "$$\n",
    "o integrando en el espacio ($S$ no depende de las coordenadas):\n",
    "\n",
    "$$\n",
    "D = S(t) d\n",
    "$$\n",
    "donde $D$ es la distancia efectiva, instantánea, medida entre los observadores y $d$ su distancia comovil."
   ]
  },
  {
   "cell_type": "markdown",
   "metadata": {},
   "source": [
    "De aquí vemos que en general en un universo homogéneo e isotrópico la distancia entre dos observadores fundamentales $D$ puede cambiar en general de acuerdo con el factor $S(t)$.  Es por esa razón que a la cantidad $S(t)$ la llamamos **factor de escala**."
   ]
  },
  {
   "cell_type": "markdown",
   "metadata": {},
   "source": [
    "#### 3.3.4.2. Espacio curvo cerrado\n",
    "<a id='espacio_curvo_cerrado'></a>"
   ]
  },
  {
   "cell_type": "markdown",
   "metadata": {},
   "source": [
    "Un segundo tipo de geometría de curvatura constante es la que corresponde a una **hiperesfera**, es decir el equivalente tetradimensional a una esfera.  "
   ]
  },
  {
   "cell_type": "markdown",
   "metadata": {},
   "source": [
    "En 3 dimensiones los puntos sobre la superficie de una esfera $(x,y)$ obedecen la ecuación:\n",
    "\n",
    "$$\n",
    "x^2+y^2+z^2=R^2\n",
    "$$\n",
    "donde $R$ es el radio y $z$ es una dimensión auxiliar usada para describir la superficie."
   ]
  },
  {
   "cell_type": "markdown",
   "metadata": {},
   "source": [
    "Esta ecuación puede usarse para escribir la métrica de la superficie de la esfera si se introducen por ejemplo coordenadas esféricas para describir la posición de cada punto:\n",
    "\n",
    "$$\n",
    "\\begin{array}{rl}\n",
    "x & = R\\sin\\theta\\cos\\phi\\\\\n",
    "y & = R\\sin\\theta\\sin\\phi\\\\\n",
    "z & = R\\cos\\theta\\\\\n",
    "\\end{array}\n",
    "$$\n",
    "las coordenaas $\\theta$ y $\\phi$ especifican cada punto sobre la superficie de la esfera."
   ]
  },
  {
   "cell_type": "markdown",
   "metadata": {},
   "source": [
    "El cambio en las coordenadas cartesianas entre dos puntos infinitesimalmente vecinos en la superficie de la esfera será:\n",
    "\n",
    "$$\n",
    "\\begin{array}{rl}\n",
    "\\mathrm{d}x & = R(\n",
    "\\cos\\theta\\cos\\phi\\mathrm{d}\\theta-\n",
    "\\sin\\theta\\sin\\phi\\mathrm{d}\\phi)\\\\\n",
    "\\mathrm{d}y & = R(\n",
    "\\cos\\theta\\sin\\phi\\mathrm{d}\\theta+\n",
    "\\sin\\theta\\cos\\phi\\mathrm{d}\\phi)\\\\\n",
    "\\mathrm{d}z & = -R\\sin\\theta\\mathrm{d}\\theta\\\\\n",
    "\\end{array}\n",
    "$$\n",
    "donde $0\\le\\theta\\le\\pi$ y $0\\le\\phi\\le2\\pi$."
   ]
  },
  {
   "cell_type": "markdown",
   "metadata": {},
   "source": [
    "De donde la distancia (métrica) en la esfera se puede escribir como:\n",
    "\n",
    "$$\n",
    "\\mathrm{d}\\ell^2 = R^2(\\mathrm{d}\\theta^2+\\sin^2\\theta\\mathrm{d}\\phi^2)\n",
    "$$"
   ]
  },
  {
   "cell_type": "markdown",
   "metadata": {},
   "source": [
    "Hay cosas interesantes escritas en esta métrica.  La primera es que dado que las coordenadas de la superficie tienen unos rangos definidos, la distancia máxima entre dos puntos se producira por ejemplo si se hace $\\phi=\\mathrm{cte}$:\n",
    "\n",
    "$$\n",
    "d_\\mathrm{max}=\\pi R\n",
    "$$\n",
    "decimos que este espacio es *cerrado* en el sentido de que dos observadores no pueden estar separados por una distancia mayor que esa."
   ]
  },
  {
   "cell_type": "markdown",
   "metadata": {},
   "source": [
    "Si $\\theta=\\mathrm{cte}$ la distancia máxima entre dos puntos será:\n",
    "\n",
    "$$\n",
    "d_\\mathrm{max}(\\theta)=\\pi R \\sin\\theta\n",
    "$$"
   ]
  },
  {
   "cell_type": "markdown",
   "metadata": {},
   "source": [
    "Otra propiedad es el área.  Por definición:\n",
    "\n",
    "$$\n",
    "\\mathrm{d}S=\\sqrt{g_{11} g_{22}}\\mathrm{d}x^1\\mathrm{d}x^2\n",
    "$$"
   ]
  },
  {
   "cell_type": "markdown",
   "metadata": {},
   "source": [
    "Integrando obtenemos:\n",
    "\n",
    "$$\n",
    "S=\\int_0^\\pi \\int_0^{2\\pi} R^2 \\sin\\theta \\mathrm{d}\\theta\\mathrm{d}\\phi=4\\pi R^2\n",
    "$$"
   ]
  },
  {
   "cell_type": "markdown",
   "metadata": {},
   "source": [
    "¿Qué pasa ahora si consideramos una hiperesfera de radio unitario?. En este caso la ecuación será:\n",
    "\n",
    "$$\n",
    "x^2+y^2+z^2+w^2=R^2\n",
    "$$\n",
    "donde hemos introducido la dimensión auxiliar $w$."
   ]
  },
  {
   "cell_type": "markdown",
   "metadata": {},
   "source": [
    "Cada punto en la superficie de la hiperesfera puede ser descrito ahora con 3 coordenadas angulares $(\\chi,\\theta,\\phi)$ tal que:\n",
    "\n",
    "$$\n",
    "\\begin{array}{rl}\n",
    "x & = R\\sin\\chi\\sin\\theta\\cos\\phi\\\\\n",
    "y & = R\\sin\\chi\\sin\\theta\\sin\\phi\\\\\n",
    "z & = R\\sin\\chi\\cos\\theta\\\\\n",
    "w & = R\\cos\\chi\\\\\n",
    "\\end{array}\n",
    "$$\n",
    "donde $0\\le\\chi\\le\\pi$, $0\\le\\theta\\le\\pi$ y $0\\le\\phi\\le2\\pi$."
   ]
  },
  {
   "cell_type": "markdown",
   "metadata": {},
   "source": [
    "Realizando un procedimiento similar al que hicimos con la esfera se puede probar que la métrica de esta superficie es:\n",
    "\n",
    "$$\n",
    "\\mathrm{d}\\ell^2=R^2[\\mathrm{d}\\chi^2+\\sin^2\\chi(\\mathrm{d}\\theta^2+\\sin^2\\theta\\mathrm{d}\\phi^2)]\n",
    "$$"
   ]
  },
  {
   "cell_type": "markdown",
   "metadata": {},
   "source": [
    "De nuevo dado que las coordenadas están acotadas, el espacio es cerrado.  La máxima distancia que pueden alejarse dos observadores, asumiendo que tienen $\\theta=\\mathrm{cte}$ y $\\phi=\\mathrm{cte}$ será:\n",
    "\n",
    "$$\n",
    "d_\\mathrm{max}=\\pi R\n",
    "$$"
   ]
  },
  {
   "cell_type": "markdown",
   "metadata": {},
   "source": [
    "El volumen de esta hipersuperficie, por otro lado será:\n",
    "\n",
    "$$\n",
    "\\mathrm{d}V=\\sqrt{g_{11} g_{22} g_{33}}\\mathrm{d}x^1\\mathrm{d}x^2\\mathrm{d}x^3\n",
    "$$"
   ]
  },
  {
   "cell_type": "markdown",
   "metadata": {},
   "source": [
    "Integrando:\n",
    "\n",
    "$$\n",
    "V=\\int_0^\\pi\\int_0^\\pi \\int_0^{2\\pi} R^3 \\sin\\theta \\sin^2\\chi \\mathrm{d}\\chi\\mathrm{d}\\theta\\mathrm{d}\\phi=2\\pi R^3\n",
    "$$"
   ]
  },
  {
   "cell_type": "markdown",
   "metadata": {},
   "source": [
    "Pero ¿qué demonios es la variable $\\chi$ en la realidad?.  Una manera de entender el significado de esta variable es construir un **diagrama embebido** de esta geometría.  Por un diagrama embebido entendemos la representación en un espacio tridimensional plano de la superficie obtenida al hacer constantes una de las coordenadas del espacio.  Si hacemos $\\theta=\\pi/2$ la métrica queda:\n",
    "\n",
    "$$\n",
    "\\mathrm{d}\\Sigma^2=R^2(\\mathrm{d}\\chi^2+\\sin^2\\chi\\mathrm{d}\\phi^2)\n",
    "$$"
   ]
  },
  {
   "cell_type": "markdown",
   "metadata": {},
   "source": [
    "En el espacio plano y en coordenadas cilíndricas la métrica es:\n",
    "\n",
    "$$\n",
    "\\mathrm{d}\\Sigma^2=\\mathrm{d}\\rho^2+\\rho^2\\mathrm{d}\\varphi^2+\\mathrm{d}z^2\n",
    "$$"
   ]
  },
  {
   "cell_type": "markdown",
   "metadata": {},
   "source": [
    "La superficie embebida estará dada por los puntos\n",
    "\n",
    "$$\n",
    "\\rho=\\rho(\\chi,\\phi),\\;\\varphi=\\varphi(\\chi,\\phi),\\;z=z(\\chi,\\phi)\n",
    "$$"
   ]
  },
  {
   "cell_type": "markdown",
   "metadata": {},
   "source": [
    "La superficie embebida descrita por la métrica tiene una simetría en $\\phi$, en el sentido en que la elección del origen para $\\phi$ es irrelevante en la métrica.  "
   ]
  },
  {
   "cell_type": "markdown",
   "metadata": {},
   "source": [
    "Si hacemos $\\varphi=\\phi$ y suponemos que las coordenadas $\\rho$ y $z$ de puntos sobre la superficie embebida son independiente de la variable $\\phi$, entonces:\n",
    "\n",
    "$$\n",
    "\\rho=\\rho(\\chi),\\;\\varphi=\\phi,\\;z=z(\\chi)\n",
    "$$"
   ]
  },
  {
   "cell_type": "markdown",
   "metadata": {},
   "source": [
    "La métrica en el espacio plano quedará:\n",
    "\n",
    "$$\n",
    "\\mathrm{d}\\Sigma^2=\\left[\\left(\\frac{\\mathrm{d}\\rho}{\\mathrm{d}\\chi}\\right)^2+\\left(\\frac{\\mathrm{d}z}{\\mathrm{d}\\chi}\\right)^2\\right]\\mathrm{d}\\chi^2\n",
    "+\\rho^2\\mathrm{d}\\phi^2\n",
    "$$"
   ]
  },
  {
   "cell_type": "markdown",
   "metadata": {},
   "source": [
    "Para que estas métricas coincidan debe darse que:\n",
    "\n",
    "$$\n",
    "\\rho=R\\sin\\chi\n",
    "$$"
   ]
  },
  {
   "cell_type": "markdown",
   "metadata": {},
   "source": [
    "Es decir la hipersuperficie con $\\theta=\\pi/2$ tendrá una métrica:\n",
    "\n",
    "$$\n",
    "\\mathrm{d}\\Sigma^2=\\frac{1}{1-(\\rho/R)^2}\\mathrm{d}\\rho^2+\\rho^2\\mathrm{d}\\phi^2\n",
    "$$\n",
    "que es la métrica de una esfera de radio $R$ en coordenadas cilíndricas."
   ]
  },
  {
   "cell_type": "markdown",
   "metadata": {},
   "source": [
    "Nótese que en este caso la coordenada radial $\\rho$ esta restringida entre $0\\le \\rho\\le R$."
   ]
  },
  {
   "cell_type": "markdown",
   "metadata": {},
   "source": [
    "Podemos expresar la métrica de la hipersuperficie del Universo cerrado, introduciendo la variable $\\rho\\equiv R\\sin\\chi$ finalmente como:\n",
    "\n",
    "$$\n",
    "\\mathrm{d}\\ell^2=\\frac{\\mathrm{d}\\rho^2}{1-(\\rho/R)^2}+\\rho^2(\\mathrm{d}\\theta^2+\\sin^2\\theta \\mathrm{d}\\phi^2)\n",
    "$$"
   ]
  },
  {
   "cell_type": "markdown",
   "metadata": {
    "label": "",
    "subtitle": "¿El radio del Universo?",
    "tags": [
     "box_note"
    ],
    "title": "Nota"
   },
   "source": [
    "> **Nota: ¿El radio del Universo?.**<a id=''></a> ¿Qué es exactamente el parámetro $R$?.  Como hemos visto anteriormente el radio de la superficie embebida del universo cerrado es $\\rho=R\\sin\\chi$.  De aquí se ve que cuando $\\xi=\\pi/2$ se alcanza el radio máximo $R$.  Esto quiere decir que en un Universo cerrado la máxima esfera que se puede construir tiene un radio $R$.  No es posible tener puntos que estén más lejos que esto.  ¿Este es el radio del universo?.  No necesariamente en tanto por radio entendemos nosotros el tamaño de algo que esta limitado.  Este universo no esta limitado. "
   ]
  },
  {
   "cell_type": "markdown",
   "metadata": {},
   "source": [
    "#### 3.3.4.3. Espacio curvo abierto\n",
    "<a id='espacio_curvo_abierto'></a>"
   ]
  },
  {
   "cell_type": "markdown",
   "metadata": {},
   "source": [
    "Un razonamiento similar puede hacerse para el caso de un hiperespacio de curvatura constante pero con una diferencia crucial:\n",
    "\n",
    "$$\n",
    "x^2+y^2+z^2-w^2=R^2\n",
    "$$"
   ]
  },
  {
   "cell_type": "markdown",
   "metadata": {},
   "source": [
    "En este caso los puntos en la hipersuperficie pueden parametrizarse como:\n",
    "\n",
    "$$\n",
    "\\begin{array}{rl}\n",
    "x & = R\\sinh\\chi\\sin\\theta\\cos\\phi\\\\\n",
    "y & = R\\sinh\\chi\\sin\\theta\\sin\\phi\\\\\n",
    "z & = R\\sinh\\chi\\cos\\theta\\\\\n",
    "w & = R\\cosh\\chi\\\\\n",
    "\\end{array}\n",
    "$$\n",
    "donde $0\\le\\chi\\le\\infty$, $0\\le\\theta\\le\\pi$ y $0\\le\\phi\\le2\\pi$."
   ]
  },
  {
   "cell_type": "markdown",
   "metadata": {},
   "source": [
    "La métrica será ahora:\n",
    "\n",
    "$$\n",
    "\\mathrm{d}\\ell^2=R^2[\\mathrm{d}\\chi^2+\\sinh^2\\chi(\\mathrm{d}\\theta^2+\\sin^2\\theta\\mathrm{d}\\phi^2)]\n",
    "$$"
   ]
  },
  {
   "cell_type": "markdown",
   "metadata": {},
   "source": [
    "En este caso dado que la variable $\\chi$ no esta acotada, la distancia entre los puntos en este espacio puede ser arbitrariamente grande.  Esta es la razón por la que llamamos a esta una **hipersuperficie abierta**."
   ]
  },
  {
   "cell_type": "markdown",
   "metadata": {},
   "source": [
    "Siguiendo un procedimiento similar al que se uso en el caso de una hipersuperficie cerrada podemos escribir la métrica de este espacio tiempo como:\n",
    "\n",
    "$$\n",
    "\\mathrm{d}\\ell^2=\\frac{\\mathrm{d}\\rho^2}{1+(\\rho/R)^2}+\\rho^2(\\mathrm{d}\\theta^2+\\sin^2\\theta \\mathrm{d}\\phi^2)\n",
    "$$\n",
    "donde $\\rho\\equiv R\\sinh\\chi$."
   ]
  },
  {
   "cell_type": "markdown",
   "metadata": {},
   "source": [
    "### 3.3.5. La métrica de Robertson-Walker\n",
    "<a id='metrica_RW'></a>"
   ]
  },
  {
   "cell_type": "markdown",
   "metadata": {},
   "source": [
    "Recogiendo los resultados de la sección anterior podemos decir en muy pocas líneas que la métrica de un universo homogéneo e isotrópico se puede escribir como:\n",
    "\n",
    "$$\n",
    "\\mathrm{d}s^2=c^2\\mathrm{d}t^2-a^2(t)\\left[\\frac{\\mathrm{d}r^2}{1-kr^2}+r^2(\\mathrm{d}\\theta^2+\\sin^2\\theta \\mathrm{d}\\phi^2)\\right]\n",
    "$$"
   ]
  },
  {
   "cell_type": "markdown",
   "metadata": {},
   "source": [
    "Los parámetros de esta métrica son:\n",
    "\n",
    "- **Factor de escala**.  Hemos reemplazado el factor adimensional $S(t)$ por un factor que tiene unidades de longitud:\n",
    "  $$\n",
    "  a(t)=S(t)R\n",
    "  $$\n",
    "  En lo sucesivo nos referiremos a $a(t)$ como el factor de escala."
   ]
  },
  {
   "cell_type": "markdown",
   "metadata": {},
   "source": [
    "- **Parámetro de curvatura**.  En la métrica aparece un parámetro adimensional $k$ que distingue los tres casos:\n",
    "\n",
    "  $$\n",
    "  k=\n",
    "  \\left\\{\n",
    "  \\begin{array}{ll}\n",
    "  0 & \\mathrm{Plano}\\\\\n",
    "  +1 & \\mathrm{Cerrado}\\\\\n",
    "  -1 & \\mathrm{Abierto}\\\\\n",
    "  \\end{array}\n",
    "  \\right.\n",
    "  $$\n"
   ]
  },
  {
   "cell_type": "markdown",
   "metadata": {},
   "source": [
    "- **Coordenada radial adimensional**.  Para simplificar la escritura de la métrica hemos introducido la *coordenada radial adimensional* $r$ definida como: \n",
    "  $$\n",
    "  r=\\frac{\\rho}{R}\n",
    "  $$\n",
    "  Esta coordenada a su vez depende de la coordenada angular $\\chi$ original como:\n",
    "  \n",
    "  $$\n",
    "  r=\n",
    "  \\left\\{\n",
    "  \\begin{array}{ll}\n",
    "  \\chi & k=0,\\;0\\le\\chi\\le\\infty\\\\\n",
    "  \\sin\\chi & k=+1,\\;0\\le\\chi\\le\\pi\\\\\n",
    "  \\sinh\\chi & k=-1,\\;0\\le\\chi\\le\\infty\\\\\n",
    "  \\end{array}\n",
    "  \\right.\n",
    "  $$"
   ]
  },
  {
   "cell_type": "markdown",
   "metadata": {
    "label": "",
    "subtitle": "Singularidad en la métrica RW",
    "tags": [
     "box_note"
    ],
    "title": "Nota"
   },
   "source": [
    "> **Nota: Singularidad en la métrica RW.**<a id=''></a> Como sucede con la métrica de Schwarzschild, la métrica de Robertson-Walker tiene una singularidad en $r=1$ cuando $k=+1$.  Esta singularidad sin embargo es artificial y puede eliminarse si se escribe la métrica en términos de la coordenada $\\chi$:\n",
    "\n",
    "> $$\n",
    "\\mathrm{d}s^2=c^2\\mathrm{d}t^2-a^2(t)\\left[\\mathrm{d}\\chi^2+\\sin^2\\chi(\\mathrm{d}\\theta^2+\\sin^2\\theta \\mathrm{d}\\phi^2)\\right]\n",
    "  $$"
   ]
  },
  {
   "cell_type": "markdown",
   "metadata": {
    "tags": [
     "navigation"
    ]
   },
   "source": [
    "[Indice](index.ipynb) | Previo: [Aplicaciones.CosmologiaRelativista](03.03.00.00.Aplicaciones.CosmologiaRelativista.ipynb) | Siguiente: [Aplicaciones.CosmologiaRelativista.EcuacionesFriedmann](03.03.02.00.Aplicaciones.CosmologiaRelativista.EcuacionesFriedmann.ipynb)"
   ]
  }
 ],
 "metadata": {
  "celltoolbar": "Tags",
  "kernelspec": {
   "display_name": "Python 3",
   "language": "python",
   "name": "python3"
  },
  "language_info": {
   "codemirror_mode": {
    "name": "ipython",
    "version": 3
   },
   "file_extension": ".py",
   "mimetype": "text/x-python",
   "name": "python",
   "nbconvert_exporter": "python",
   "pygments_lexer": "ipython3",
   "version": "3.6.8"
  }
 },
 "nbformat": 4,
 "nbformat_minor": 2
}
