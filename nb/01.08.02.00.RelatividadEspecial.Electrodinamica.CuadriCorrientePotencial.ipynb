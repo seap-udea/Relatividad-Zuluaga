{
 "cells": [
  {
   "cell_type": "markdown",
   "metadata": {
    "tags": [
     "navigation"
    ]
   },
   "source": [
    "[Indice](index.ipynb) | Previo: [RelatividadEspecial.Electrodinamica.EcuacionesClasicas](01.08.01.00.RelatividadEspecial.Electrodinamica.EcuacionesClasicas.ipynb) | Siguiente: [RelatividadEspecial.Electrodinamica.TensorFaraday](01.08.03.00.RelatividadEspecial.Electrodinamica.TensorFaraday.ipynb)"
   ]
  },
  {
   "cell_type": "markdown",
   "metadata": {},
   "source": [
    "### 1.17.2. La cuadricorriente\n",
    "<a id='continuidad'></a>"
   ]
  },
  {
   "cell_type": "markdown",
   "metadata": {},
   "source": [
    "La primera cantidad que podemos escribir como un tensor es la densidad de corriente eléctrica."
   ]
  },
  {
   "cell_type": "markdown",
   "metadata": {},
   "source": [
    "En el sistema de referencia propio de una nube de cargas, la densidad de carga eléctrica es:\n",
    "\n",
    "$$\n",
    "\\rho_0=\\frac{\\sum q_i}{V_0}\n",
    "$$"
   ]
  },
  {
   "cell_type": "markdown",
   "metadata": {},
   "source": [
    "En un sistema de referencia inercial arbitrario sabemos que la carga es invariante pero el volumen transforma como $V=V_0/\\gamma$ de modo que la densidad en el sistema del observador:\n",
    "\n",
    "$$\n",
    "\\rho=\\gamma\\rho_0\n",
    "$$"
   ]
  },
  {
   "cell_type": "markdown",
   "metadata": {},
   "source": [
    "Por otro lado la densidad de carga eléctrica de una nube que se mueve con velocidad $\\vec v$ respecto al observador es:\n",
    "\n",
    "$$\n",
    "\\vec J = \\rho \\vec v = \\gamma \\rho_0 \\frac{\\mathrm{d}\\vec r}{\\mathrm{d}t}\n",
    "$$"
   ]
  },
  {
   "cell_type": "markdown",
   "metadata": {},
   "source": [
    "Al comparar las cantidades anteriores con el cuadrivector velocidad podemos ver que tanto $\\rho$ como $\\vec J$ se pueden considerar las componentes temporal y espacial del cuadrivector:\n",
    "\n",
    "$$\n",
    "J_L^\\mu=\\rho_0 U_L^\\mu:\\gamma\\rho_0(1,\\vec{v}_L):(\\rho,\\vec{J}_L)\n",
    "$$\n",
    "o en unidades convencionales:\n",
    "\n",
    "$$\n",
    "J^\\mu:(c\\rho,\\vec{J})\n",
    "$$\n"
   ]
  },
  {
   "cell_type": "markdown",
   "metadata": {},
   "source": [
    "En términos de la cuadricorriente la ecuación de continuidad o de conservación de la carga se puede escribir como:\n",
    "\n",
    "\\begin{eqnarray}\n",
    "\\nonumber\n",
    "\\frac{\\partial\\rho}{\\partial t}+\\vec{\\nabla}\\cdot\\vec J&=&0\\\\\n",
    "\\nonumber\n",
    "\\frac{\\partial\\rho}{\\partial t}+\\sum_i\\frac{\\partial J_{Li}}{\\partial x_{Li}}&=&0\\\\\n",
    "\\nonumber\n",
    "\\frac{\\partial J_L^0}{\\partial x^0}+\\sum_i\\frac{\\partial J_{Li}}{\\partial x^i_{L}}&=&0\n",
    "\\end{eqnarray}\n",
    "y usando la notación de Einstein:\n",
    "\n",
    "$$\n",
    "\\partial_\\mu J^\\mu=0\n",
    "$$"
   ]
  },
  {
   "cell_type": "markdown",
   "metadata": {
    "label": "",
    "subtitle": "Derivada covariante o derivada coma**.  Definimos la **derivada covariante** o **derivada coma",
    "tags": [
     "box_definition"
    ],
    "title": "Definición"
   },
   "source": [
    "> **Definición 4.14. Derivada covariante o derivada coma**.  Definimos la **derivada covariante** o **derivada coma.**<a id=''></a> de un campo tensorial $A^{\\alpha\\beta\\gamma\\ldots}$ como la derivada del campo respecto a una componente:\n",
    "\n",
    "$$\n",
    "A^{\\alpha\\beta\\gamma\\ldots}{,_\\mu} \\equiv \\partial_\\mu A^{\\alpha\\beta\\gamma\\ldots}\n",
    "$$"
   ]
  },
  {
   "cell_type": "markdown",
   "metadata": {},
   "source": [
    "Usando la notación de la derivada coma, la ecuación de continuidad se escribe finalmente como:\n",
    "\n",
    "$$\n",
    "J^\\mu_{,\\mu}=0\n",
    "$$\n",
    "\n",
    "Esta es la forma **manifiestamente covariante** de la ecuación de continudad."
   ]
  },
  {
   "cell_type": "markdown",
   "metadata": {},
   "source": [
    "### 1.17.3. Ecuaciones de Maxwell inhomogéneas\n",
    "<a id='maxwell_inhomogeneas'></a>"
   ]
  },
  {
   "cell_type": "markdown",
   "metadata": {},
   "source": [
    "Habíamos escrito las ecuaciones inhomogéneas en la forma:\n",
    "\n",
    "\\begin{eqnarray}\n",
    "\\nonumber\n",
    "\\frac{1}{c^2}\\frac{\\partial^2\\phi}{\\partial t^2}-\\vec{\\nabla}^2\\phi & = & 4\\pi\\rho\\\\\n",
    "\\nonumber\n",
    "\\frac{1}{c^2}\\frac{\\partial^2\\vec A}{\\partial t^2}-\\vec{\\nabla}^2\\vec A & = & \\frac{4\\pi}{c}\\vec J\n",
    "\\end{eqnarray}\n",
    "  "
   ]
  },
  {
   "cell_type": "markdown",
   "metadata": {},
   "source": [
    "En estas ecuaciones se pueden reconocer algunas propiedades importantes para nuestro propósito:\n",
    "\n",
    "- El operador diferencial en las dos ecuaciones se puede escribir en términos de la derivada covariante como:\n",
    "\n",
    "  $$\n",
    "  \\frac{1}{c^2}\\frac{\\partial^2}{\\partial t^2}-\\vec{\\nabla}^2=\\partial_\\mu \\partial^\\mu\n",
    "  $$\n",
    "  \n",
    "- El lado derecho de las dos ecuaciones son las componentes de la cuadricorriente."
   ]
  },
  {
   "cell_type": "markdown",
   "metadata": {},
   "source": [
    "De este modo las ecuaciones se pueden escribir como:\n",
    "\n",
    "\\begin{eqnarray}\n",
    "\\nonumber\n",
    "\\partial_\\mu \\partial^\\mu \\phi & = & \\frac{4\\pi}{c} J^0\\\\\n",
    "\\nonumber\n",
    "\\partial_\\mu \\partial^\\mu \\vec A & = & \\frac{4\\pi}{c} \\vec{J}\\\\\n",
    "\\end{eqnarray}"
   ]
  },
  {
   "cell_type": "markdown",
   "metadata": {},
   "source": [
    "Es decir si definimos la cantidad:\n",
    "\n",
    "$$\n",
    "A^\\mu:(\\phi,\\vec A)\n",
    "$$\n",
    "las ecuaciones inhomogéneas de Maxwell se pueden escribir de forma manifiestamente covariantes como:\n",
    "\n",
    "$$\n",
    "\\partial_\\mu \\partial^\\mu A^\\nu = \\frac{4\\pi}{c} J^\\nu\n",
    "$$\n",
    "y de la naturaleza tensorial de las cantidades involucrados podemos deducir que $A^\\nu$ es también un tensor que podríamos llamar el **cuadripotencial** electromagnético."
   ]
  },
  {
   "cell_type": "markdown",
   "metadata": {},
   "source": [
    "Nótese que el cuadripotencial se puede obtener mediante la integral:\n",
    "\n",
    "$$\n",
    "A^\\mu(x^\\nu)=\\frac{1}{c}\\int_\\Omega\\frac{J^\\mu(x'^\\nu)\\mathrm{d}^3\\vec{r}'}{|\\vec{r}-\\vec{r}'|}\n",
    "$$\n",
    "\n",
    "donde imponemos adicionalmente la condición que el intervalo entre los evento $x'^\\nu$ con respecto al evento $x^\\nu$ debe ser luminoide:\n",
    "\n",
    "$$x^\\nu x'_\\nu=0$$\n",
    "que es el equivalente a la condición de retraso en la formulación clásica."
   ]
  },
  {
   "cell_type": "markdown",
   "metadata": {
    "tags": [
     "navigation"
    ]
   },
   "source": [
    "[Indice](index.ipynb) | Previo: [RelatividadEspecial.Electrodinamica.EcuacionesClasicas](01.08.01.00.RelatividadEspecial.Electrodinamica.EcuacionesClasicas.ipynb) | Siguiente: [RelatividadEspecial.Electrodinamica.TensorFaraday](01.08.03.00.RelatividadEspecial.Electrodinamica.TensorFaraday.ipynb)"
   ]
  }
 ],
 "metadata": {
  "celltoolbar": "Tags",
  "kernelspec": {
   "display_name": "Python 3",
   "language": "python",
   "name": "python3"
  },
  "language_info": {
   "codemirror_mode": {
    "name": "ipython",
    "version": 3
   },
   "file_extension": ".py",
   "mimetype": "text/x-python",
   "name": "python",
   "nbconvert_exporter": "python",
   "pygments_lexer": "ipython3",
   "version": "3.6.8"
  }
 },
 "nbformat": 4,
 "nbformat_minor": 2
}
