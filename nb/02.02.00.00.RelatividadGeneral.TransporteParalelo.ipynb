{
 "cells": [
  {
   "cell_type": "markdown",
   "metadata": {
    "tags": [
     "navigation"
    ]
   },
   "source": [
    "[Indice](index.ipynb) | Previo: [RelatividadGeneral.PostuladosBasicos](02.01.00.00.RelatividadGeneral.PostuladosBasicos.ipynb) | "
   ]
  },
  {
   "cell_type": "markdown",
   "metadata": {},
   "source": [
    "## 2.3. Transporte paralelo y derivada covariante\n",
    "<a id='transporte_paralelo'></a>"
   ]
  },
  {
   "cell_type": "markdown",
   "metadata": {},
   "source": [
    "Al introducir las transfromaciones generales de coordenadas hay una cantidad que bajo transformaciones de Lorentz-Einstein (lineales) transformaba como un tensor, pero que en la nueva transformación ya no lo hace: la derivada o el gradiente."
   ]
  },
  {
   "cell_type": "markdown",
   "metadata": {},
   "source": [
    "Siendo esta cantidad tan importante para los propósitos de formular teorías físicas manifiestamente covariantes es importante que estudiemos lo que debemos hacer en este caso."
   ]
  },
  {
   "cell_type": "markdown",
   "metadata": {},
   "source": [
    "Derivar un tensor significa esencialmente calcular la rata a la que cambian sus componentes al movernos de un evento a otro en el espacio-tiempo."
   ]
  },
  {
   "cell_type": "markdown",
   "metadata": {},
   "source": [
    "El problema es que en un sistema de coordenadas general las componentes pueden cambiar por dos razones:\n",
    "\n",
    "1. Porque el tensor cambie (el campo tensorial cambie).  Este es el cambio que nos interesa.\n",
    "2. Porque la base sobre la que se define el tensor cambie."
   ]
  },
  {
   "cell_type": "markdown",
   "metadata": {},
   "source": [
    "Un caso elemental es el de un vector en el espacio euclidiano de dos dimensiones.  Si se utilizan coordenadas cartesianas y tenemos un campo vectorial constante, las componentes del campo vectorial serán las mismas no importa si te desplazas en el plano."
   ]
  },
  {
   "cell_type": "markdown",
   "metadata": {},
   "source": [
    "En este caso, si al contrario, el vector cambia intrínsemanete lo notarás comparando las componentes.  "
   ]
  },
  {
   "cell_type": "markdown",
   "metadata": {},
   "source": [
    "Pero que pasa su usamos coordenadas cilíndricas.  En este caso incluso si el campo vectorial es constante, las componentes del campo cambiaran punto a punto debido solamente a la manera en la que se define el sistema de coordenadas (ver figura).  "
   ]
  },
  {
   "cell_type": "markdown",
   "metadata": {},
   "source": [
    "La manera para determinar si el vector cambio sería *transportar* el vector del punto en el que se esta midiendo al punto original y mirar si hay una discrepancia entre ambos.  "
   ]
  },
  {
   "cell_type": "markdown",
   "metadata": {},
   "source": [
    "El **transporte paralelo** es la operación de transformación de un vector de un punto del espacio a otro de modo que su dirección intrínseca no se modifique durante el transporte."
   ]
  },
  {
   "cell_type": "markdown",
   "metadata": {},
   "source": [
    "Si el vector lo llamamos $A^\\mu(x^\\nu)$ en un evento $x^\\nu$, el mismo vector transportado de forma paralela a un evento distinto $y^\\mu$ se llamara $A^\\mu_\\parallel(y^\\nu)$ "
   ]
  },
  {
   "cell_type": "markdown",
   "metadata": {},
   "source": [
    "Definimos la **derivada covariante direccional** de un campo tensorial $A^\\mu$ a lo largo de una dirección arbitraria $t^\\alpha$, y la denotamos como $(\\mathrm{D}_t A)^\\mu$ mediante la expresión:"
   ]
  },
  {
   "cell_type": "markdown",
   "metadata": {},
   "source": [
    "$$\n",
    "(\\mathrm{D}_t A)^\\mu=\\lim_{\\epsilon\\rightarrow 0}\\frac{A^\\mu_\\parallel(x^\\alpha+\\mathrm{d}x^\\alpha)-A^\\mu(x^\\alpha+\\mathrm{d}x^\\alpha)}{\\epsilon}\n",
    "$$\n",
    "donde $\\mathrm{d}x^\\alpha=\\epsilon t^\\alpha$."
   ]
  },
  {
   "cell_type": "markdown",
   "metadata": {},
   "source": [
    "Las componentes del cuadrivector transportado de forma paralela se puede escribir, en general, como:"
   ]
  },
  {
   "cell_type": "markdown",
   "metadata": {},
   "source": [
    "$$\n",
    "A^\\mu_\\parallel(x^\\alpha+\\mathrm{d}x^\\alpha) = A^\\mu(x^\\alpha+\\mathrm{d}x^\\alpha) + C^\\mu_{\\gamma\\delta} A^\\gamma(x^\\alpha) \\epsilon t^\\delta\n",
    "$$\n",
    "donde $C^\\mu_{\\gamma\\delta}$ son en general coeficientes que permiten expresar el cambio en las componentes del cuadrivector transportado en función de las componentes de ambos, el cuadrivector original y el cuadrivector de la dirección de transporte.  Llamamos a estos coeficientes **los coeficientes de conexión afín**. "
   ]
  },
  {
   "cell_type": "markdown",
   "metadata": {},
   "source": [
    "Reemplazando en la fórmula para la derivada covariante obtenemos:\n",
    "\n",
    "$$\n",
    "(\\mathrm{D}_t A)^\\mu=(\\partial_t A)^\\mu + C^\\mu_{\\gamma\\delta} A^\\gamma t^\\delta\n",
    "$$\n",
    "que se puede escribir tensorialmente como:\n",
    "\n",
    "$$\n",
    "\\mathrm{D}_\\alpha A^\\mu t^\\alpha=\\partial_\\alpha A^\\mu t^\\alpha + C^\\mu_{\\gamma\\alpha} A^\\gamma t^\\alpha\n",
    "$$\n",
    "en la que hemos usado la idea bien conocida del cálculo vectorial de que la derivada direcciónal se puede escribir como $\\partial_t A = \\vec{\\nabla} A\\cdot \\vec t$"
   ]
  },
  {
   "cell_type": "markdown",
   "metadata": {},
   "source": [
    "En términos tensoriales podemos escribir:\n",
    "\n",
    "$$\n",
    "\\mathrm{D}_\\alpha A^\\mu = \\partial_\\alpha A^\\mu + C^\\mu_{\\gamma\\alpha} A^\\gamma\n",
    "$$"
   ]
  },
  {
   "cell_type": "markdown",
   "metadata": {},
   "source": [
    "A esta la llamaremos **derivada covariante general** o simplemente **derivada covariante** y para representarla en lo sucesivo usaremos el símbolo \";\" en analogía a como usamos el símbolo \",\" para representar la derivada covariante $\\partial_\\alpha A^\\mu$ que introdujimos en las transformaciones lineales."
   ]
  },
  {
   "cell_type": "markdown",
   "metadata": {},
   "source": [
    "Así:\n",
    "\n",
    "$$\n",
    "{A^\\mu}_{;\\alpha} = {A^\\mu}_{,\\alpha} + C^\\mu_{\\gamma\\alpha} A^\\gamma\n",
    "$$"
   ]
  },
  {
   "cell_type": "markdown",
   "metadata": {
    "label": "",
    "subtitle": "Propiedades de la derivada covariante",
    "tags": [
     "box_theorem"
    ],
    "title": "Proposición"
   },
   "source": [
    "> **Proposición: Propiedades de la derivada covariante.**<a id=''></a> Las siguientes son propiedades de la derivada covariante:\n",
    "\n",
    "> 1. **Derivada de una suma**: $(A^\\mu+B^\\mu)_{;\\nu}={A^\\mu}_{;\\nu}+{B^\\mu}_{;\\nu}$\n",
    "> 2. **Derivada de un producto o regla de Leibniz**: $(A^\\mu B^\\nu)_{;\\alpha}={A^\\mu}_{;\\alpha}B^\\nu+A^\\mu{B^\\nu}_{;\\alpha}$\n",
    "> 3. **Derivada de un campo escalar (1)**: $\\phi_{;\\mu}=\\phi_{,\\mu}$\n",
    "> 4. **Derivada de un campo escalar (2)**: $(A^\\mu B_\\mu)_{;\\alpha}=(A^\\mu B_\\mu)_{,\\alpha}$\n",
    "> 5. **Derivada de un tensor covariante**: $B_{\\mu;\\nu}=B_{\\mu,\\nu}-C^\\gamma_{\\mu\\nu} B_\\gamma$\n",
    "> 6. **Derivada de un tensor de segundo rango**: ${A^{\\mu\\nu}}_{;\\alpha}={A^{\\mu\\nu}}_{,\\alpha}+C^\\mu_{\\gamma\\alpha} A^{\\gamma\\nu}+C^\\mu_{\\alpha\\gamma} A^{\\alpha\\nu}$"
   ]
  },
  {
   "cell_type": "markdown",
   "metadata": {},
   "source": [
    "### 2.3.1. Los símbolos de Christoffel\n",
    "<a id='simbolos_christoffel'></a>"
   ]
  },
  {
   "cell_type": "markdown",
   "metadata": {},
   "source": [
    "¿Qué son y cómo se calculan los coeficientes de conexión afin?"
   ]
  },
  {
   "cell_type": "markdown",
   "metadata": {},
   "source": [
    "La primera característica es que se trata de una cantidad no tensorial (ver Problemas al final del capítulo) con 64 componentes."
   ]
  },
  {
   "cell_type": "markdown",
   "metadata": {},
   "source": [
    "En general se puede también demostrar que aunque las conexiones no son tensoriales, es posible definir con ellas un tensor que se conoce como el **tensor de torsión**:\n",
    "\n",
    "$$\n",
    "T^\\alpha_{\\mu\\nu}=C^\\alpha_{\\mu\\nu}-C^\\alpha_{\\nu\\mu}\n",
    "$$"
   ]
  },
  {
   "cell_type": "markdown",
   "metadata": {},
   "source": [
    "Si asumimos que el espacio no tiene torsión y que además el tensor métrico del espacio no tiene derivada covariante:\n",
    "\n",
    "$$\n",
    "g_{\\mu\\nu;\\alpha}=0\n",
    "$$\n",
    "podemos obtener las que se conocen como **conexiones de Riemann** o **símbolos de Christoffel**."
   ]
  }
 ],
 "metadata": {
  "celltoolbar": "Tags",
  "kernelspec": {
   "display_name": "Python 3",
   "language": "python",
   "name": "python3"
  },
  "language_info": {
   "codemirror_mode": {
    "name": "ipython",
    "version": 3
   },
   "file_extension": ".py",
   "mimetype": "text/x-python",
   "name": "python",
   "nbconvert_exporter": "python",
   "pygments_lexer": "ipython3",
   "version": "3.6.8"
  }
 },
 "nbformat": 4,
 "nbformat_minor": 2
}
