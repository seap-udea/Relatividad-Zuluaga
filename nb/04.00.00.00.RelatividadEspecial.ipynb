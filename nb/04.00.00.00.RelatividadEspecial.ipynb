{
 "cells": [
  {
   "cell_type": "markdown",
   "metadata": {
    "tags": [
     "navigation"
    ]
   },
   "source": [
    "[Indice](index.ipynb) | Previo: [Introduccion](03.00.00.00.Introduccion.ipynb) | Siguiente: [RelatividadEspecial.ConceptosBasicos](04.01.00.00.RelatividadEspecial.ConceptosBasicos.ipynb)"
   ]
  },
  {
   "cell_type": "markdown",
   "metadata": {},
   "source": [
    "# 4. Relatividad Especial\n",
    "<a id='relatividad_especial'></a>"
   ]
  },
  {
   "cell_type": "markdown",
   "metadata": {
    "label": "",
    "tags": [
     "box_summary"
    ]
   },
   "source": [
    "> **Resumen**. Este capítulo esta dedicado a la Relatividad especial."
   ]
  },
  {
   "cell_type": "markdown",
   "metadata": {},
   "source": [
    "## 4.1. Motivación\n",
    "<a id='respecial_motivacion'></a>"
   ]
  },
  {
   "cell_type": "markdown",
   "metadata": {},
   "source": [
    "¿Qué son las leyes de la física?.  Son regularidades observadas (¿o reales?) en los fenómenos que vemos en el mundo.  Estas regularidades se expresan normalmente como relaciones matemáticas entre cantidades observadas.  \n",
    "\n",
    "Tomen por ejemplo esta regularidad:\n",
    "\n",
    "$$\n",
    "\\vec a = \\frac{\\vec F}{m}\n",
    "$$"
   ]
  },
  {
   "cell_type": "markdown",
   "metadata": {},
   "source": [
    "Siempre que un cuerpo de masa $m$ (una propiedad intrínseca suya), es sometido a una \"perturbación\" (una fuerza $\\vec F$), el cuerpo, sin importar el estado de movimiento en el que estaba, cambia su estado en una magnitud $\\vec a$ (aceleración). "
   ]
  },
  {
   "cell_type": "markdown",
   "metadata": {},
   "source": [
    "Esta regularidad ha sido observada en los laboratorios en la Tierra (edificios).  ¿Pero es válida en el resto del Universo y para todos los observadores?.  Esta es la pregunta del millón de la física y el corazón de la relatividad."
   ]
  },
  {
   "cell_type": "markdown",
   "metadata": {
    "label": "",
    "subtitle": "Las leyes de la física son universales",
    "tags": [
     "box_theorem"
    ],
    "title": "Conjetura"
   },
   "source": [
    "> **Conjetura: Las leyes de la física son universales.**<a id=''></a> Cualquiera sea la regularidad que llamemos *ley física* debe ser realmente universal, debe cumplirse en todas partes, a todas horas y con independencia de quién la registre.  En caso contrario lo que tendríamos sería solo una regularidad contingente."
   ]
  },
  {
   "cell_type": "markdown",
   "metadata": {
    "tags": [
     "navigation"
    ]
   },
   "source": [
    "[Indice](index.ipynb) | Previo: [Introduccion](03.00.00.00.Introduccion.ipynb) | Siguiente: [RelatividadEspecial.ConceptosBasicos](04.01.00.00.RelatividadEspecial.ConceptosBasicos.ipynb)"
   ]
  }
 ],
 "metadata": {
  "celltoolbar": "Tags",
  "kernelspec": {
   "display_name": "Python 3",
   "language": "python",
   "name": "python3"
  },
  "language_info": {
   "codemirror_mode": {
    "name": "ipython",
    "version": 3
   },
   "file_extension": ".py",
   "mimetype": "text/x-python",
   "name": "python",
   "nbconvert_exporter": "python",
   "pygments_lexer": "ipython3",
   "version": "3.6.8"
  }
 },
 "nbformat": 4,
 "nbformat_minor": 2
}
