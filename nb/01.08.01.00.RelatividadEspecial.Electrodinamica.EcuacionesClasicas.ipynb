{
 "cells": [
  {
   "cell_type": "markdown",
   "metadata": {
    "tags": [
     "navigation"
    ]
   },
   "source": [
    "[Indice](index.ipynb) | Previo: [RelatividadEspecial.OpticaRelativista](01.07.00.00.RelatividadEspecial.OpticaRelativista.ipynb) | Siguiente: [RelatividadEspecial.Electrodinamica.CuadriCorrientePotencial](01.08.02.00.RelatividadEspecial.Electrodinamica.CuadriCorrientePotencial.ipynb)"
   ]
  },
  {
   "cell_type": "markdown",
   "metadata": {},
   "source": [
    "## 1.17. Electrodinamica manifiestamente covariante\n",
    "<a id='electrodinamica'></a>"
   ]
  },
  {
   "cell_type": "markdown",
   "metadata": {},
   "source": [
    "En la deducción de las transformaciones de Lorentz-Einstein habíamos encontrado que por ser covariantes los campos eléctrico y magnético deben transformar como:\n",
    "\n",
    "\\begin{eqnarray}\n",
    "\\nonumber\n",
    "B_z'&=&\\gamma\\left(B_z-\\frac{u}{c} E_y\\right)\\\\\n",
    "\\nonumber\n",
    "E_y'&=&\\gamma\\left(E_y-\\frac{u}{c}B_z\\right)\n",
    "\\end{eqnarray}"
   ]
  },
  {
   "cell_type": "markdown",
   "metadata": {},
   "source": [
    "Esta relación es una interesante novedad en el electromagnetismo clásico en tanto propone una conexión entre los campos eléctrico y magnético (incluso estáticos) que no estaba en la teoría original de Maxwell. Nos lleva a pensar en la idea de que existe una manera alternativa y más general de escribir la teoría electromagnética consistente con los postulados de la relatividad."
   ]
  },
  {
   "cell_type": "markdown",
   "metadata": {},
   "source": [
    "Como hemos visto antes, una manera de garantizar que las nuevas ecuaciones sean covariantes sería escribirlas en términos de escalares y tensores, o en otros términos necesitamos escribir las **ecuaciones de la electrodinámica manifiestamente covariantes**."
   ]
  },
  {
   "cell_type": "markdown",
   "metadata": {},
   "source": [
    "### 1.17.1. Ecuaciones de la electrodinámica\n",
    "<a id='ecuaciones_electrodinamica'></a>"
   ]
  },
  {
   "cell_type": "markdown",
   "metadata": {},
   "source": [
    "Las ecuaciones de Maxwell microscópicas y en unidades gaussianas y que necesitamos escribir de forma manifiestamente covariantes, las introducimos en una sección anterior y se pueden escribir como:\n",
    "\n",
    "- **Ecuaciones de Maxwell**:\n",
    "\n",
    "  \\begin{eqnarray}\n",
    "  \\vec{\\nabla}\\cdot\\vec{E}&=&4\\pi\\rho\\;\\;\\mathrm{(Gauss-E)}\\\\\n",
    "  \\vec{\\nabla}\\cdot\\vec{B}&=&0\\;\\;\\mathrm{(Gauss-B)}\\\\\n",
    "  \\vec{\\nabla}\\times\\vec{E}+\\frac{1}{c}\\frac{\\partial\\vec B}{\\partial t}&=&0\\;\\;\\mathrm{(Maxwell-Faraday)}\\\\\n",
    "  \\vec{\\nabla}\\times\\vec{B}-\\frac{1}{c}\\frac{\\partial\\vec E}{\\partial t}&=&\\frac{4\\pi}{c}\\vec{J}\\;\\;\\mathrm{(Ampère-Maxwell)}\\\\  \n",
    "  \\end{eqnarray}"
   ]
  },
  {
   "cell_type": "markdown",
   "metadata": {},
   "source": [
    "Pero estas ecuaciones por sí solas no expresan todas las posibles relaciones entre las cantidades de la teoría.  A continuación presentamos una síntesis de otras relaciones y cantidades complementarias importantes, bien reconocidas en la teoría electromagnética."
   ]
  },
  {
   "cell_type": "markdown",
   "metadata": {},
   "source": [
    "- **Conservación de la carga eléctrica**:  La carga eléctrica es una cantidad clave en el universo.  Como la masa, la carga de una partícula o de un sistema en su totalidad, es indepeniente del sistema de referencia en el que se mida (esto debemos elevarlo a la categoría de un postulado).  Esta idea se expresa, clásicamente en la forma de la ecuación de continuidad que se escribe:\n",
    "\n",
    "  $$\n",
    "  \\frac{\\partial\\rho}{\\partial t}=-\\vec{\\nabla}\\cdot\\vec J\n",
    "  $$"
   ]
  },
  {
   "cell_type": "markdown",
   "metadata": {},
   "source": [
    "- **Ley de Lorentz**:  Una de las consecuencias tardías de la teoría electromagnética de Maxwell fue la descripción de la fuerza que experimenta una carga eléctrica que se mueve en presencia de un campo eléctrico y un campo magnético.  En unidades gaussianas la fuerza es:\n",
    "\n",
    "  $$\n",
    "  \\vec F = q (\\vec E + \\frac{1}{c}\\vec v\\times \\vec B)\n",
    "  $$\n",
    "  \n",
    "  Si lo que tenemos es un flujo de corriente con densidad $\\vec J$ la denisdad de fuerza $\\vec{\\cal F}$ será:\n",
    "  $$\n",
    "  \\vec{\\cal F} = \\rho \\vec E + \\frac{1}{c}\\vec J\\times \\vec B\n",
    "  $$"
   ]
  },
  {
   "cell_type": "markdown",
   "metadata": {},
   "source": [
    "+ **Potencial escalar eléctrico $\\phi$ y vectorial magnético $\\vec A$**. Las fuerzas eléctrica y magnética son consercvativas.  Esto significa que pueden escribirse en términos de funciones de potencial o simplemente potenciales.  Los potenciales escalar eléctrico $\\phi$ y vectorial magnético $\\vec A$ permiten expresar los campos y sus relaciones de formas alternativas.  En unidades gaussianas los campos eléctrico y magnético se obtienen a partir de los potenciales con las relaciones:\n",
    "\n",
    "    \\begin{eqnarray}\n",
    "    \\nonumber\n",
    "    \\vec B & = & \\vec{\\nabla}\\times\\vec A\\\\\n",
    "    \\nonumber\n",
    "    \\vec E & = & -\\vec{\\nabla}\\phi-\\frac{1}{c}\\frac{\\partial\\vec A}{\\partial t}\n",
    "    \\end{eqnarray}"
   ]
  },
  {
   "cell_type": "markdown",
   "metadata": {},
   "source": [
    "+ **Libertad Gauge**.   Es importante tener en cuenta que los potenciales eléctrico y magnético son cantidades matemáticas auxiliares.  Su valor puntual no es físicamente significativo.  Así por ejemplo, en el caso el potencial escalar eléctrico, sabemos que sumar o restar una constante no afecta el campo eléctrico.  Decimos que son las *diferencias e potencial* lo que es físicamente medible.  Estas ideas se expresan diciendo que hay una *libertad* en la elección de los potenciales.  Llamamos a esta la *libertad gauge* (libertad de calibración).  Puede probarse que la forma más general de escribir la libertad gauge es suponiendo que existe una función arbitraria del $\\chi(t)$.  Dados un potenciales escalar $\\phi$ y uno vectorial $\\vec A$, los siguientes potenciales también describiran los campos en una situación dada:\n",
    "\n",
    "    \\begin{eqnarray}\n",
    "      \\nonumber\n",
    "      \\vec A' & = & \\vec A+\\vec{\\nabla}\\chi\\\\\n",
    "      \\nonumber\n",
    "      \\phi' & = & \\phi-\\frac{1}{c}\\frac{\\partial \\chi}{\\partial t}\n",
    "      \\end{eqnarray}\n",
    "      \n",
    "   La elección de $\\chi(t)$ será cuestión de conveniencia."
   ]
  },
  {
   "cell_type": "markdown",
   "metadata": {},
   "source": [
    "+ **Gauge de Coulomb**.  Si se reemplaza la definición del campo eléctrico en la ecuación $\\mathrm{(Gauss-E)}$ se obtiene:\n",
    "\n",
    "  $$\n",
    "  -\\vec{\\nabla}^2\\phi+\\frac{1}{c}\\frac{\\partial}{\\partial t}(\\vec{\\nabla}\\cdot\\vec{A})=4\\pi\\rho\n",
    "  $$\n",
    "  Esta ecuación adopta la forma de la ley de Coulomb si se escoge arbitrariamente que el potencial vectorial magnético cumpla la condición:\n",
    "  \n",
    "  $$\n",
    "  \\vec{\\nabla}\\cdot\\vec{A}=0\n",
    "  $$\n",
    "  \n",
    "  Es decir, debemos escoger la función de libertad gauge $\\chi(t)$ tal que en todos los puntos del espacio se cumpla esta condición.  Llamamos a este el **gauge de Coulomb**.  \n",
    "  \n",
    "  Es de anotarse, sin embargo, que esta condición no es covariante bajo TLE (no involucra tensores, ni cantidades invariantes como veremos) y por lo tanto no es apropiada para la relatividad."
   ]
  },
  {
   "cell_type": "markdown",
   "metadata": {},
   "source": [
    "+ **Gauge de Lorentz**.  Un gauge que si resulta ser covariante bajo las TLE puede escribirse como:\n",
    "\n",
    "  $$\n",
    "  \\frac{1}{c}\\frac{\\partial\\phi}{\\partial t}+\\vec{\\nabla}\\cdot\\vec{A}=0\n",
    "  $$\n",
    "  \n",
    "  Llamamos a este el **gauge de Lorentz**.  Bajo el gauge de Lorentz la ecuación $\\mathrm{(Gauss-E)}$ adopta una interesante forma:\n",
    "  \n",
    "  $$\n",
    "  \\frac{1}{c^2}\\frac{\\partial^2\\phi}{\\partial t^2}-\\vec{\\nabla}^2\\phi=4\\pi\\rho\n",
    "  $$\n",
    "  \n",
    "  Por otro lado la ecuación $\\mathrm{(Ampère-Maxwell)}$ puede probarse, se puede escribir de forma análoga como:\n",
    "  \n",
    "  $$\n",
    "  \\frac{1}{c^2}\\frac{\\partial^2\\vec A}{\\partial t^2}-\\vec{\\nabla}^2\\vec A=\\frac{4\\pi}{c}\\vec J\n",
    "  $$\n",
    "  \n",
    "  Estas dos ecuaciones son ecuaciones de onda para los potenciales escalar y vectorial con fuentes $\\rho$ y $\\vec J$, respectivamente.  \n",
    "  \n",
    "  El gauge de Lorenz entonces, no solo es covariante, sino que dadas las condiciones de frontera apropiadas, predice la existencia de ondas electromagnéticas.  Estas ondas transportan los campos en tiempos finitos de unos puntos a otros del espacio-tiempo.  Es interesante anotar, en contraste, que el gauge de Coulomb y la ley de Coulomb derivada de él asume la existencia de una acción a distancia.  Su falta de covarianza es evidencia de la falta de consistencia de esta ley con la idea del espacio-tiempo y de un límite para la propagación de información.  Podríamos decir que la teoría electromagnética, incluso antes del descubrimiento de la relatividad, ya lo sabía todo."
   ]
  },
  {
   "cell_type": "markdown",
   "metadata": {},
   "source": [
    "- **Solución de ondas planas**. Una solución central a la ecuación de ondas en el vacio y bajo unas condiciones de frontera, es la de ondas planas.  Bajo estas condiciones el campo escalar y vectorial se puede escribir como:\n",
    "\n",
    "  \\begin{eqnarray}\n",
    "  \\phi(\\vec r,t) & = & \\phi_0 e^{i(\\vec k\\cdot \\vec r-\\omega t)}\\\\\n",
    "  \\vec A(\\vec r,t) & = & \\vec A_0 e^{i(\\vec k\\cdot \\vec r-\\omega t)}\n",
    "  \\end{eqnarray}\n",
    "  donde:\n",
    "  \n",
    "  $$\n",
    "  \\vec k = \\frac{2\\pi}{\\lambda} \\hat k\n",
    "  $$\n",
    "  es el vector de ondas, $\\lambda$ es la longitud de onda y $\\hat k$ es la dirección de propagación.\n",
    "  \n",
    "  Por otro lado\n",
    "  \n",
    "  $$\n",
    "  \\omega = 2\\pi f = \\frac{2\\pi}{P}\n",
    "  $$\n",
    "  es la frecuencia angular siendo $f$ la frecuencia de la onda y $P$ su período.\n",
    "  \n",
    "  En el vacío, el número de onda (la longitud de onda) y la frecuencia angular (la frecuencia) se relacionan a través de la relación de dispersión:\n",
    "  \n",
    "  $$\n",
    "  \\omega = c k\n",
    "  $$\n",
    "  que equivale a:\n",
    "  \n",
    "  $$\n",
    "  \\lambda f = c\n",
    "  $$"
   ]
  },
  {
   "cell_type": "markdown",
   "metadata": {},
   "source": [
    "- **Cálculo de los potenciales**.  En el Gauge de Lorenz los potenciales vectorial y escalar pueden calcularse usando las ecuaciones:\n",
    "\n",
    "    $$\n",
    "    \\vec A(\\vec r,t)=\\frac{1}{c}\\int_\\Omega\\frac{\\vec{J}(\\vec r',t')\\mathrm{d}^3\\vec{r}'}{|\\vec{r}-\\vec{r}'|}\n",
    "    $$\n",
    "    y \n",
    "\n",
    "    $$\n",
    "    \\phi(\\vec r,t)=\\int_\\Omega\\frac{\\rho(\\vec r',t')\\mathrm{d}^3\\vec{r}'}{|\\vec{r}-\\vec{r}'|}\n",
    "    $$\n",
    "    donde el tiempo $t'$ usado en las expresiones anteriores se conoce como el tiempo retardado:\n",
    "\n",
    "    $$\n",
    "    t'=t-\\frac{|\\vec{r}-\\vec{r}'|}{c}\n",
    "    $$\n"
   ]
  },
  {
   "cell_type": "markdown",
   "metadata": {
    "tags": [
     "navigation"
    ]
   },
   "source": [
    "[Indice](index.ipynb) | Previo: [RelatividadEspecial.OpticaRelativista](01.07.00.00.RelatividadEspecial.OpticaRelativista.ipynb) | Siguiente: [RelatividadEspecial.Electrodinamica.CuadriCorrientePotencial](01.08.02.00.RelatividadEspecial.Electrodinamica.CuadriCorrientePotencial.ipynb)"
   ]
  }
 ],
 "metadata": {
  "kernelspec": {
   "display_name": "Python 3",
   "language": "python",
   "name": "python3"
  },
  "language_info": {
   "codemirror_mode": {
    "name": "ipython",
    "version": 3
   },
   "file_extension": ".py",
   "mimetype": "text/x-python",
   "name": "python",
   "nbconvert_exporter": "python",
   "pygments_lexer": "ipython3",
   "version": "3.6.8"
  }
 },
 "nbformat": 4,
 "nbformat_minor": 2
}
