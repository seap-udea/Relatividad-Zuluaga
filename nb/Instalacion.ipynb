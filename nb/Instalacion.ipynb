{
 "cells": [
  {
   "cell_type": "markdown",
   "metadata": {},
   "source": [
    "# Instalación de las libretas del libro"
   ]
  },
  {
   "cell_type": "markdown",
   "metadata": {},
   "source": [
    "En esta libreta de `Jupyter` se encuentran algunas instrucciones y comandos requeridos para instalar, localmente, los paquetes y extensiones requeridas para usar las libretas del texto.  \n",
    "\n",
    "Siga las instrucciones abajo, para instalar."
   ]
  },
  {
   "cell_type": "markdown",
   "metadata": {},
   "source": [
    "¿Estas seguro que descargaste las libretas? (verificaremos que tengas todos los archivos que necesitamos):"
   ]
  },
  {
   "cell_type": "code",
   "execution_count": 1,
   "metadata": {},
   "outputs": [
    {
     "name": "stdout",
     "output_type": "stream",
     "text": [
      "Tienes todo lo que necesitas\n"
     ]
    }
   ],
   "source": [
    "import os\n",
    "archivos=[\"Pruebas.ipynb\",\"log/\",\"mybook.conf\"]\n",
    "for i,archivo in enumerate(archivos):\n",
    "    if not os.path.lexists(archivo):\n",
    "        print(f\"Lo siento, falta el archivo '{archivo}'\")\n",
    "        break\n",
    "if i==len(archivos)-1:\n",
    "    print(\"Tienes todo lo que necesitas\")\n",
    "else:\n",
    "    print(\"Parece que falta algún archivo\")"
   ]
  },
  {
   "cell_type": "markdown",
   "metadata": {},
   "source": [
    "## Antes de comenzar"
   ]
  },
  {
   "cell_type": "markdown",
   "metadata": {},
   "source": [
    "Algunos paquetes que necesitamos:"
   ]
  },
  {
   "cell_type": "code",
   "execution_count": 2,
   "metadata": {},
   "outputs": [],
   "source": [
    "import getpass\n",
    "import imp\n",
    "conf=imp.load_source(f\"{os.environ['PWD']}\",\"mybook.conf\")"
   ]
  },
  {
   "cell_type": "markdown",
   "metadata": {},
   "source": [
    "## Sistema operativo"
   ]
  },
  {
   "cell_type": "markdown",
   "metadata": {},
   "source": [
    "De acuerdo a tu archivo de configuración tu sistema operativo es:"
   ]
  },
  {
   "cell_type": "code",
   "execution_count": 4,
   "metadata": {},
   "outputs": [
    {
     "data": {
      "text/plain": [
       "'macos'"
      ]
     },
     "execution_count": 4,
     "metadata": {},
     "output_type": "execute_result"
    }
   ],
   "source": [
    "conf.SYSTEM"
   ]
  },
  {
   "cell_type": "markdown",
   "metadata": {},
   "source": [
    "Si no lo es, por favor escoge el correcto:"
   ]
  },
  {
   "cell_type": "code",
   "execution_count": 5,
   "metadata": {},
   "outputs": [],
   "source": [
    "conf.SYSTEM=\"macos\"\n",
    "#conf.SYSTEM=\"linux\"\n",
    "#conf.SYSTEM=\"linux\""
   ]
  },
  {
   "cell_type": "markdown",
   "metadata": {},
   "source": [
    "No es que no te creamos, pero es mejor verificar:"
   ]
  },
  {
   "cell_type": "code",
   "execution_count": 6,
   "metadata": {},
   "outputs": [
    {
     "name": "stdout",
     "output_type": "stream",
     "text": [
      "Ok, todo en orden\n"
     ]
    }
   ],
   "source": [
    "if conf.SYSTEM is \"linux\":\n",
    "    out=os.system(\"uname -ar |grep Linux\")\n",
    "elif conf.SYSTEM is \"macos\":\n",
    "    out=os.system(\"uname -ar |grep Mac\")\n",
    "else:\n",
    "    out=os.system(\"uname -ar\")\n",
    "    \n",
    "if not out:\n",
    "    print(\"Ok, todo en orden\")\n",
    "else:\n",
    "    print(\"Verifica que tu sistema operativo sea el correcto (la prueba no funciono)\")"
   ]
  },
  {
   "cell_type": "markdown",
   "metadata": {},
   "source": [
    "## Instalación de paquetes básicos en el sistema"
   ]
  },
  {
   "cell_type": "markdown",
   "metadata": {},
   "source": [
    "Antes de comenzar necesitamos verificar si tiene instalados algunos paquetes del sistema que serán necesarios en lo que sigue.  Para ello ejecute:"
   ]
  },
  {
   "cell_type": "code",
   "execution_count": 7,
   "metadata": {},
   "outputs": [],
   "source": [
    "packages=[\n",
    "    dict(name=\"make\",test=\"make --version\"),\n",
    "]"
   ]
  },
  {
   "cell_type": "code",
   "execution_count": 8,
   "metadata": {},
   "outputs": [
    {
     "name": "stdout",
     "output_type": "stream",
     "text": [
      "Paquete 'make' instalado\n"
     ]
    }
   ],
   "source": [
    "for pack in packages:\n",
    "    out=os.system(pack[\"test\"])\n",
    "    if out:\n",
    "        print(f\"Paquete '{pack['name']}' no instalado, intentando instalar...\")\n",
    "        if conf.SYSTEM is \"linux\":\n",
    "            password=getpass.getpass(\"Su password de administrador:\")\n",
    "            print(\"Instalando paquetes en Linux...\")\n",
    "            os.system(f\"sudo -S apt-get install -y make | {password}\")\n",
    "        elif conf.SYSTEM is \"macos\":\n",
    "            print(\"Instalando paquetes en MacOS...\")\n",
    "            !brew install make\n",
    "        else:\n",
    "            print(\"Instale manualmente el sistema `make`\")\n",
    "    else:\n",
    "        print(f\"Paquete '{pack['name']}' instalado\")"
   ]
  },
  {
   "cell_type": "markdown",
   "metadata": {},
   "source": [
    "## Datos que vienen con las libretas"
   ]
  },
  {
   "cell_type": "markdown",
   "metadata": {},
   "source": [
    "Las libretas vienen acompañadas de un conjunto de *kernels* de `SPICE`.  Algunos de esos kernels pueden ser muy grandes y es necesario o bien, descargarlos independientemente o bien desempacarlos del reporsitorio de las libretas."
   ]
  },
  {
   "cell_type": "markdown",
   "metadata": {},
   "source": [
    "Si esta en un sistema `Linux` o `MacOS` ejecute los siguientes comandos:"
   ]
  },
  {
   "cell_type": "code",
   "execution_count": 9,
   "metadata": {},
   "outputs": [
    {
     "name": "stdout",
     "output_type": "stream",
     "text": [
      "Unpacking...\r\n",
      "\tUnpacking package/data/mybook.png...file already unpacked\r\n"
     ]
    }
   ],
   "source": [
    "!bash .pack/pack.sh unpack"
   ]
  },
  {
   "cell_type": "markdown",
   "metadata": {},
   "source": [
    "## Otros paquetes de Python"
   ]
  },
  {
   "cell_type": "markdown",
   "metadata": {},
   "source": [
    "De acuerdo a tu archivo de configuración `mybook.conf` estos son los paquetes que debes instalar:"
   ]
  },
  {
   "cell_type": "code",
   "execution_count": 10,
   "metadata": {},
   "outputs": [
    {
     "data": {
      "text/plain": [
       "'numpy,scipy,matplotlib,pandas'"
      ]
     },
     "execution_count": 10,
     "metadata": {},
     "output_type": "execute_result"
    }
   ],
   "source": [
    "conf.BOOK_PACKAGES"
   ]
  },
  {
   "cell_type": "markdown",
   "metadata": {},
   "source": [
    "Instala los paquetes básicos de python requeridos:"
   ]
  },
  {
   "cell_type": "code",
   "execution_count": 11,
   "metadata": {},
   "outputs": [
    {
     "name": "stdout",
     "output_type": "stream",
     "text": [
      "Paquete numpy ya instalado\n",
      "Paquete scipy ya instalado\n",
      "Paquete matplotlib ya instalado\n",
      "Paquete pandas ya instalado\n"
     ]
    }
   ],
   "source": [
    "paquetes=conf.BOOK_PACKAGES.split(\",\")\n",
    "for paquete in paquetes:\n",
    "    try:\n",
    "        exec(f\"import {paquete}\",globals())\n",
    "        print(f\"Paquete {paquete} ya instalado\")\n",
    "    except:\n",
    "        print(f\"Instalando '{paquete}'...\")\n",
    "        !$conf.PYTHON -m pip install $paquete"
   ]
  },
  {
   "cell_type": "markdown",
   "metadata": {},
   "source": [
    "## Pruebas"
   ]
  },
  {
   "cell_type": "markdown",
   "metadata": {},
   "source": [
    "Una vez completados los procedimientos anteriores, se supone que puede empezar a usar las libretas.  Para hacerlo pruebe:"
   ]
  },
  {
   "cell_type": "code",
   "execution_count": 12,
   "metadata": {},
   "outputs": [
    {
     "name": "stdout",
     "output_type": "stream",
     "text": [
      "[NbConvertApp] WARNING | Config option `template_path` not recognized by `NotebookExporter`.\n",
      "[NbConvertApp] Converting notebook Pruebas.ipynb to notebook\n",
      "[NbConvertApp] Executing notebook with kernel: python3\n",
      "Prueba 1: numpy Instalado\n",
      "Prueba 2: scipy Instalado\n",
      "Prueba 3: matplotlib Instalado\n",
      "Prueba 4: mpl_toolkits.mplot3d Instalado\n",
      "Prueba 5: Gráfica exitosa.\n",
      "Prueba 6: Gráfica en 3d exitosa.\n",
      "Prueba 7: Se ejecutaron 6 prubeas\n",
      "Prueba 8: De ellas 0 fallaron\n",
      "Un resumen del reporte de pruebas está en el archivo log//pruebas.log\n",
      "[NbConvertApp] Writing 59562 bytes to Pruebas.nbconvert.ipynb\n"
     ]
    }
   ],
   "source": [
    "!jupyter nbconvert --to notebook --execute Pruebas.ipynb"
   ]
  },
  {
   "cell_type": "markdown",
   "metadata": {},
   "source": [
    "# El Fin."
   ]
  }
 ],
 "metadata": {
  "kernelspec": {
   "display_name": "Python 3",
   "language": "python",
   "name": "python3"
  },
  "language_info": {
   "codemirror_mode": {
    "name": "ipython",
    "version": 3
   },
   "file_extension": ".py",
   "mimetype": "text/x-python",
   "name": "python",
   "nbconvert_exporter": "python",
   "pygments_lexer": "ipython3",
   "version": "3.6.8"
  }
 },
 "nbformat": 4,
 "nbformat_minor": 2
}
