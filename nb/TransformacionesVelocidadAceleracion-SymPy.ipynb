{
 "cells": [
  {
   "cell_type": "markdown",
   "metadata": {},
   "source": [
    "### 1.9.6. Adición de velocidades\n",
    "<a id='adicion_velocidades'></a>"
   ]
  },
  {
   "cell_type": "markdown",
   "metadata": {},
   "source": [
    "Una de las consecuencias más sonadas de las TLE es la manera como transforman las velocidades.  De acuerdo con las Transformaciones de Galileo-Newton, si una partícula tiene una velocidad ${\\vec v}'$ para un Viajero que se mueve con velocidad relativa $\\vec u$ respecto a un Observador, su velocidad $\\vec v$ para el Observador será simplemente:\n",
    "\n",
    "$$\n",
    "\\vec v = {\\vec u}+{\\vec v}'\n",
    "$$"
   ]
  },
  {
   "cell_type": "markdown",
   "metadata": {},
   "source": [
    "¿Qué pasa en el caso de la relatividad?.  Para calcular la manera como se relacionan escojamos un sistema de ejes coincidentes (eje $x$ en dirección de $\\vec u$) y notemos que transcurrido un intervalo de tiempo infinitesimal $dt'$ en el sistema de referencia del Viajero, el tiempo y las posiciones en los tres ejes medidas por el Viajero y el observador cambiarán de acuerdo con:\n",
    "\n",
    "\\begin{eqnarray}\n",
    "\\nonumber\n",
    "\\mathrm{d}t & = & \\gamma\\left(\\mathrm{d}t'+u_L \\mathrm{d}x'_L \\right)\\\\\n",
    "\\nonumber\n",
    "\\mathrm{d}x_L & = & \\gamma\\left(u_L \\mathrm{d}t + \\mathrm{d}x_L\\right)\\\\\n",
    "\\nonumber\n",
    "\\mathrm{d}y_L & = & \\mathrm{d}y'_L\\\\\n",
    "\\nonumber\n",
    "\\mathrm{d}z_L & = & \\mathrm{d}z'_L\n",
    "\\end{eqnarray}"
   ]
  },
  {
   "cell_type": "markdown",
   "metadata": {},
   "source": [
    "La velocidad instantánea se define como $\\mathrm{d}{\\vec v}_L/\\mathrm{d}t$, de modo que dividiendo término a término los intervalos infinitesimales de espacio obtenemos:\n",
    "\n",
    "\\begin{eqnarray}\n",
    "\\nonumber\n",
    "v_x & = & \\frac{u_L +v'_{xL}}{1+u_L v'_{xL}}\\\\\n",
    "\\nonumber\n",
    "v_y & = & \\frac{1}{\\gamma}\\frac{v'_{yL}}{1+u_L v'_{xL}}\\\\\n",
    "\\nonumber\n",
    "v_z & = & \\frac{1}{\\gamma}\\frac{v_{zL}}{1+u_L v'_{xL}}\n",
    "\\end{eqnarray}\n",
    "o si definimos:\n",
    "\n",
    "$$\n",
    "D\\equiv \\frac{1}{1+u_L v'_{xL}}\n",
    "$$\n",
    "entonces:\n",
    "\n",
    "\\begin{eqnarray}\n",
    "\\nonumber\n",
    "v_x & = & D(u_L+v'_{xL})\\\\\n",
    "\\nonumber\n",
    "v_y & = & \\frac{D}{\\gamma}v'_{yL}\\\\\n",
    "\\nonumber\n",
    "v_z & = & \\frac{D}{\\gamma}v'_{zL}\n",
    "\\end{eqnarray}\n"
   ]
  },
  {
   "cell_type": "markdown",
   "metadata": {},
   "source": [
    "Nótese que si $\\vec v_L':(1,0,0)$ (un rayo de luz) entonces:\n",
    "\n",
    "$$\n",
    "D=\\frac{1}{1+u_L}\n",
    "$$\n",
    "y la velocidad medida por el observador será:\n",
    "\n",
    "$$\n",
    "v_{xL}=\\frac{1}{1+u_L}(u_L+1)=1\n",
    "$$\n",
    "\n",
    "Es decir, la teoría desarrollada es autoconsistente, en tanto la velocidad de un rayo de luz será la misma sin importar el observador."
   ]
  },
  {
   "cell_type": "markdown",
   "metadata": {},
   "source": [
    "Usando las transformaciones generales de Lorentz-Einstein es posible generalizar la ley de adición de velocidades relativistas como:\n",
    "\n",
    "\\begin{eqnarray}\n",
    "\\nonumber\n",
    "v_{\\parallel L} & = & D(u_L+v'_{\\parallel L})\\\\\n",
    "\\nonumber\n",
    "v_{\\perp L} & = & \\frac{D}{\\gamma}v'_{\\perp L}\\\\\n",
    "\\end{eqnarray}\n",
    "donde \n",
    "\n",
    "$$\n",
    "D\\equiv \\frac{1}{1+\\vec{u}_L\\cdot \\vec{v}'_{L}}\n",
    "$$\n"
   ]
  },
  {
   "cell_type": "markdown",
   "metadata": {},
   "source": [
    "### 1.9.7. Transformación de aceleraciones\n",
    "<a id='transformacion_aceleraciones'></a>"
   ]
  },
  {
   "cell_type": "code",
   "execution_count": 2,
   "metadata": {},
   "outputs": [],
   "source": [
    "import sympy as sp"
   ]
  },
  {
   "cell_type": "code",
   "execution_count": 13,
   "metadata": {},
   "outputs": [],
   "source": [
    "u,t=sp.symbols(\"u,t\")\n",
    "v_xp=sp.Function(\"v_xp\")\n",
    "γ=1/sp.sqrt(1-u**2)\n",
    "D=1/(1+u*v_xp(t))"
   ]
  },
  {
   "cell_type": "code",
   "execution_count": 14,
   "metadata": {},
   "outputs": [
    {
     "data": {
      "text/latex": [
       "$\\displaystyle \\frac{1}{\\sqrt{1 - u^{2}}}$"
      ],
      "text/plain": [
       "1/sqrt(1 - u**2)"
      ]
     },
     "execution_count": 14,
     "metadata": {},
     "output_type": "execute_result"
    }
   ],
   "source": [
    "γ"
   ]
  },
  {
   "cell_type": "code",
   "execution_count": 15,
   "metadata": {},
   "outputs": [
    {
     "data": {
      "text/latex": [
       "$\\displaystyle \\frac{1}{u \\operatorname{v_{xp}}{\\left(t \\right)} + 1}$"
      ],
      "text/plain": [
       "1/(u*v_xp(t) + 1)"
      ]
     },
     "execution_count": 15,
     "metadata": {},
     "output_type": "execute_result"
    }
   ],
   "source": [
    "D"
   ]
  },
  {
   "cell_type": "code",
   "execution_count": 16,
   "metadata": {},
   "outputs": [
    {
     "data": {
      "text/latex": [
       "$\\displaystyle - \\frac{u \\frac{d}{d t} \\operatorname{v_{xp}}{\\left(t \\right)}}{\\left(u \\operatorname{v_{xp}}{\\left(t \\right)} + 1\\right)^{2}}$"
      ],
      "text/plain": [
       "-u*Derivative(v_xp(t), t)/(u*v_xp(t) + 1)**2"
      ]
     },
     "execution_count": 16,
     "metadata": {},
     "output_type": "execute_result"
    }
   ],
   "source": [
    "sp.diff(D,t)"
   ]
  },
  {
   "cell_type": "code",
   "execution_count": 19,
   "metadata": {},
   "outputs": [],
   "source": [
    "v_x=D*(u+v_xp(t))"
   ]
  },
  {
   "cell_type": "code",
   "execution_count": 20,
   "metadata": {},
   "outputs": [
    {
     "data": {
      "text/latex": [
       "$\\displaystyle \\frac{u + \\operatorname{v_{xp}}{\\left(t \\right)}}{u \\operatorname{v_{xp}}{\\left(t \\right)} + 1}$"
      ],
      "text/plain": [
       "(u + v_xp(t))/(u*v_xp(t) + 1)"
      ]
     },
     "execution_count": 20,
     "metadata": {},
     "output_type": "execute_result"
    }
   ],
   "source": [
    "v_x"
   ]
  },
  {
   "cell_type": "code",
   "execution_count": 24,
   "metadata": {},
   "outputs": [],
   "source": [
    "f=sp.simplify(sp.diff(v_x,t))"
   ]
  },
  {
   "cell_type": "code",
   "execution_count": 25,
   "metadata": {},
   "outputs": [
    {
     "data": {
      "text/latex": [
       "$\\displaystyle \\frac{\\left(- u \\left(u + \\operatorname{v_{xp}}{\\left(t \\right)}\\right) + u \\operatorname{v_{xp}}{\\left(t \\right)} + 1\\right) \\frac{d}{d t} \\operatorname{v_{xp}}{\\left(t \\right)}}{\\left(u \\operatorname{v_{xp}}{\\left(t \\right)} + 1\\right)^{2}}$"
      ],
      "text/plain": [
       "(-u*(u + v_xp(t)) + u*v_xp(t) + 1)*Derivative(v_xp(t), t)/(u*v_xp(t) + 1)**2"
      ]
     },
     "execution_count": 25,
     "metadata": {},
     "output_type": "execute_result"
    }
   ],
   "source": [
    "sp.simplify(f)"
   ]
  },
  {
   "cell_type": "code",
   "execution_count": 27,
   "metadata": {},
   "outputs": [
    {
     "data": {
      "text/latex": [
       "$\\displaystyle \\frac{dt_{p} \\left(u \\operatorname{v_{xp}}{\\left(t \\right)} + 1\\right)}{\\sqrt{1 - u^{2}}}$"
      ],
      "text/plain": [
       "dt_p*(u*v_xp(t) + 1)/sqrt(1 - u**2)"
      ]
     },
     "execution_count": 27,
     "metadata": {},
     "output_type": "execute_result"
    }
   ],
   "source": [
    "dt_p=sp.symbols(\"dt_p\")\n",
    "dt=γ*dt_p*(1+u*v_xp(t))\n",
    "dt"
   ]
  },
  {
   "cell_type": "code",
   "execution_count": 29,
   "metadata": {},
   "outputs": [
    {
     "data": {
      "text/latex": [
       "$\\displaystyle \\frac{\\left(1 - u^{2}\\right)^{\\frac{3}{2}} \\frac{d}{d t} \\operatorname{v_{xp}}{\\left(t \\right)}}{dt_{p} \\left(u \\operatorname{v_{xp}}{\\left(t \\right)} + 1\\right)^{3}}$"
      ],
      "text/plain": [
       "(1 - u**2)**(3/2)*Derivative(v_xp(t), t)/(dt_p*(u*v_xp(t) + 1)**3)"
      ]
     },
     "execution_count": 29,
     "metadata": {},
     "output_type": "execute_result"
    }
   ],
   "source": [
    "a_x=sp.simplify(sp.diff(v_x,t)/dt)\n",
    "a_x"
   ]
  },
  {
   "cell_type": "markdown",
   "metadata": {},
   "source": [
    "Un procedimiento similar pero mucho más laborioso algebraicamente conduce al resultado:\n",
    "\n",
    "\\begin{eqnarray}\n",
    "\\nonumber\n",
    "a_{\\parallel L} & = & \\frac{D^3}{\\gamma^3}a'_{\\parallel L}\\\\\n",
    "\\nonumber\n",
    "a_{\\perp L} & = & \\frac{D^3}{\\gamma^2}\\left[a'_{\\perp L}+\\left(\\vec{v}'_{L}\\cdot \\vec{u}_{L} a'_{\\perp L}-\\vec{a}'_{L}\\cdot \\vec{u}_{L} v'_{\\perp L}\\right)\\right]\\\\\n",
    "\\end{eqnarray}\n"
   ]
  },
  {
   "cell_type": "markdown",
   "metadata": {},
   "source": [
    "En este último caso, nótese que si $\\vec v'=0$ (la partícula se encuentra en reposo respecto al Viajero), la tramsformación para la componente perpendicular de la aceleración se reduce a:\n",
    "\n",
    "$$\n",
    "a^0_{\\perp L} = \\frac{D^3}{\\gamma^2}a'^0_{\\perp L}\n",
    "$$\n",
    "donde el superíndice 0 indica que es la aceleración calculada para la partícula en reposo en el sistema del viajero."
   ]
  }
 ],
 "metadata": {
  "celltoolbar": "Tags",
  "kernelspec": {
   "display_name": "Python 3",
   "language": "python",
   "name": "python3"
  },
  "language_info": {
   "codemirror_mode": {
    "name": "ipython",
    "version": 3
   },
   "file_extension": ".py",
   "mimetype": "text/x-python",
   "name": "python",
   "nbconvert_exporter": "python",
   "pygments_lexer": "ipython3",
   "version": "3.6.8"
  }
 },
 "nbformat": 4,
 "nbformat_minor": 2
}
