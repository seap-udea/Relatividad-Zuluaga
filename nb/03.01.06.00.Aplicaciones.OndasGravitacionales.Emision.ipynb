{
 "cells": [
  {
   "cell_type": "markdown",
   "metadata": {
    "tags": [
     "navigation"
    ]
   },
   "source": [
    "[Indice](index.ipynb) | Previo: [Aplicaciones.OndasGravitacionales.SimulacionSenal](03.01.05.00.Aplicaciones.OndasGravitacionales.SimulacionSenal.ipynb) | "
   ]
  },
  {
   "cell_type": "markdown",
   "metadata": {},
   "source": [
    "### 3.1.18. Emisión de ondas gravitacionales\n",
    "<a id='emision_gw'></a>"
   ]
  },
  {
   "cell_type": "markdown",
   "metadata": {},
   "source": [
    "Para estudiar la emisión de ondas gravitacionales debemos partir de la ecuación de campo en gravedad linearizada pero con fuentes:\n",
    "\n",
    "$$\n",
    "\\Box \\bar{h}_{\\mu\\nu}=-\\frac{16\\pi G}{c^4}T_{\\mu\\nu}\n",
    "$$"
   ]
  },
  {
   "cell_type": "markdown",
   "metadata": {},
   "source": [
    "Lo que esta ecuación indica es que cada componente de la perturbación metrica satisface una ecuación de ondas del tipo:\n",
    "\n",
    "$$\n",
    "\\frac{1}{c^2}\\frac{\\partial^2 f(x)}{\\partial t^2}-\\nabla^2 f(x)=j(x)\n",
    "$$\n",
    "donde $x=x^\\mu$ es un evento arbitrario en el espacio-tiempo."
   ]
  },
  {
   "cell_type": "markdown",
   "metadata": {},
   "source": [
    "#### 3.1.18.1. Fuente puntual\n",
    "<a id='emision_gw_puntual'></a>"
   ]
  },
  {
   "cell_type": "markdown",
   "metadata": {},
   "source": [
    "Supongamos que tenemos una fuente puntual en $x_0$ y queremos resolver la ecuación arriba.  En este caso podemos usar el delta de Dirac para representar la densidad de energía:\n",
    "\n",
    "$$\n",
    "j(x)=j_0 \\delta^4(x-x_0)\n",
    "$$\n",
    "donde $\\delta^4(x-x_0)=\\delta(t-t_0)\\delta^3(\\vec{r}-\\vec{r}_0)$."
   ]
  },
  {
   "cell_type": "markdown",
   "metadata": {},
   "source": [
    "Tratemos primero de resolver la ecuación:\n",
    "\n",
    "$$\n",
    "\\frac{1}{c^2}\\frac{\\partial^2 f(x)}{\\partial t^2}-\\nabla^2 f(x)=\\delta^4(x)\n",
    "$$"
   ]
  },
  {
   "cell_type": "markdown",
   "metadata": {},
   "source": [
    "Dada la simetría esférica de una fuente puntual, la solución a la ecuación solo dependerá del tiempo y de la distancia a $x_0$ así $g(x)=g(t,r)$."
   ]
  },
  {
   "cell_type": "markdown",
   "metadata": {},
   "source": [
    "Lejos de la fuente la solución a la ecuación de onda será:\n",
    "\n",
    "$$\n",
    "\\frac{1}{c^2}\\frac{\\partial^2 g(t,r)}{\\partial t^2}-\\frac{1}{r^2}\\frac{\\partial}{\\partial r}\\left[r^2 \\frac{\\partial g(t,r)}{\\partial r}\\right]=0\n",
    "$$"
   ]
  },
  {
   "cell_type": "markdown",
   "metadata": {},
   "source": [
    "Los textos de física matemática proveen una solución para esta ecuación:\n",
    "\n",
    "$$\n",
    "g(t,r)=\\frac{1}{r}\\left[O(ct-r)+I(ct+r)\\right]\n",
    "$$\n",
    "vemos que la onda se divide en una onda entrante $I(ct+r)/r$ y en una saliente $O(ct-r)/r$.  Naturalmente para nosotros la onda entrante no será incluída en tanto asumimos que la onda. "
   ]
  },
  {
   "cell_type": "markdown",
   "metadata": {},
   "source": [
    "Cerca a la fuente podemos intentar, no resolver la ecuación, sino escribir una versión integrada de la ecuación en una esfera pequeña de radio $\\varepsilon$ alrededor de ella:\n",
    "\n",
    "$$\n",
    "\\lim_{\\varepsilon\\rightarrow 0}\\int_\\varepsilon\\left(\\frac{1}{c^2}\\frac{\\partial^2 g(x)}{\\partial t^2}-\\nabla^2 g(x)\\right)\\mathrm{d}V=\\lim_{\\varepsilon\\rightarrow 0}\\int_\\varepsilon j(x)\\mathrm{d}V\n",
    "$$\n"
   ]
  },
  {
   "cell_type": "markdown",
   "metadata": {},
   "source": [
    "Dado que $g(x)\\sim 1/r$ y $\\mathrm{d}V\\rightarrow r^2$ el primer término de la integral tiende a cero cuando $\\varepsilon\\rightarrow 0$.  Esto nos deja solo:\n",
    "\n",
    "$$\n",
    "\\lim_{\\varepsilon\\rightarrow 0}\\int_\\varepsilon \\nabla^2 g(x)\\mathrm{d}V=\\delta(t)\n",
    "$$"
   ]
  },
  {
   "cell_type": "markdown",
   "metadata": {},
   "source": [
    "Usando el teorema de la divergencia en la integral del lado derecho:\n",
    "\n",
    "$$\n",
    "\\lim_{\\varepsilon\\rightarrow 0}\\int_\\varepsilon \\vec{\\nabla}g(x)\\cdot\\mathrm{d}\\vec{S}=\\delta(t)\n",
    "$$"
   ]
  },
  {
   "cell_type": "markdown",
   "metadata": {},
   "source": [
    "Como ahora la integral se realiza sobre la superficie $f(x)=f(t,r)$ que habíamos encontrado antes:\n",
    "\n",
    "$$\n",
    "O(t) = -\\frac{\\delta(t)}{4\\pi}\n",
    "$$\n",
    "o bien:\n",
    "\n",
    "$$\n",
    "O(ct-r) = -\\frac{\\delta(ct-r)}{4\\pi}\n",
    "$$\n"
   ]
  },
  {
   "cell_type": "markdown",
   "metadata": {},
   "source": [
    "La solución general a la ecuación de ondas con una fuente puntual es entonces:\n",
    "\n",
    "$$\n",
    "g(t,r)=-\\frac{\\delta(ct-r)}{4\\pi r}\n",
    "$$\n",
    "donde el delta de Dirac indica que la onda esta restringida al frente que se mueve con velocidad $c$."
   ]
  },
  {
   "cell_type": "markdown",
   "metadata": {},
   "source": [
    "Para una fuente general ubicada en $x':(t',\\vec{r}')$ la solución será:\n",
    "\n",
    "$$\n",
    "f(t,\\vec r)=j(t',x')g(t-t',\\vec{r}-\\vec{r}')=-\\frac{j(t_r,\\vec r')}{4\\pi|\\vec r-\\vec{r}'|}\n",
    "$$\n",
    "donde $t_r=t-|\\vec{r}-\\vec{r}'|/c$"
   ]
  },
  {
   "cell_type": "markdown",
   "metadata": {},
   "source": [
    "#### 3.1.18.2. Fuente extendida y sus aproximaciones\n",
    "<a id='emision_gw_extendida'></a>"
   ]
  },
  {
   "cell_type": "markdown",
   "metadata": {},
   "source": [
    "La onda producida por una fuente extendida se puede calcular de la superposición de muchas fuentes puntuales, cada una emitiendo desde un lugar y tiempo en general diferente.  En este caso la solución será:\n",
    "\n",
    "$$\n",
    "f(t,\\vec r)=-\\frac{1}{4\\pi}\\int \\frac{j(t_r,\\vec r')}{|\\vec r-\\vec{r}'|}\\mathrm{d}V'\n",
    "$$"
   ]
  },
  {
   "cell_type": "markdown",
   "metadata": {},
   "source": [
    "Una aproximación interesante se puede obtener considerando dos aproximaciones: 1) una fuente de ondas armónica (un sistema binario en rotación por ejemplo) y 2) una longitud de onda mucho mayor que la fuente, $\\lambda\\gg R_\\mathrm{fuente}$, siendo $R_\\mathrm{fuente}$ el tamaño característico de la misma.  En este caso:\n",
    "\n",
    "$$\n",
    "j(t,\\vec{r})=j_\\omega(\\vec{r})\\cos(\\omega t)\n",
    "$$"
   ]
  },
  {
   "cell_type": "markdown",
   "metadata": {},
   "source": [
    "¿Qué significa una longitud de onda muy grande?.  Si escribimos la aproximación $\\lambda\\gg R_\\mathrm{fuente}$ como:\n",
    "\n",
    "$$\n",
    "cP\\gg R_\\mathrm{fuente}\n",
    "$$\n",
    "donde $P$ es el período de la onda electromagnética, entonces la aproximación de onda larga implica:\n",
    "\n",
    "$$\n",
    "\\frac{R_\\mathrm{fuente}}{P}\\ll c\n",
    "$$"
   ]
  },
  {
   "cell_type": "markdown",
   "metadata": {},
   "source": [
    "Podemos pensar en $R_\\mathrm{fuente}/P$ como una velocidad característica de la fuente, la velocidad que le toma a la materia en la fuente moverse.  Es decir la aproximación de grandes longitudes de onda sería valida en sistemas en los que los cuerpos se mueven a velocidades mucho menores que la velocidad de la luz."
   ]
  },
  {
   "cell_type": "markdown",
   "metadata": {},
   "source": [
    "Reemplazando queda:\n",
    "\n",
    "$$\n",
    "f(t,\\vec r)=-\\frac{1}{4\\pi}\\int \\frac{j_\\omega(\\vec{r}')\\cos[\\omega(t-|\\vec{r}-\\vec{r'}|/c)]}{|\\vec r-\\vec{r}'|}\\mathrm{d}V'\n",
    "$$"
   ]
  },
  {
   "cell_type": "markdown",
   "metadata": {},
   "source": [
    "Si consideramos ahora una distancia muy grande desde la fuente, i.e. $\\vec r\\gg R_\\mathrm{fuente}$ entonces $|\\vec{r}-\\vec{r}'|\\approx \\vec{r}$ y por lo tanto la solución será:\n",
    "\n",
    "$$\n",
    "f^\\mathrm{far}(t,\\vec r)=-\\frac{1}{4\\pi r}\\int j(ct-r,\\vec{r}')\\mathrm{d}V'\n",
    "$$"
   ]
  },
  {
   "cell_type": "markdown",
   "metadata": {},
   "source": [
    "Llamamos a esta solución la *solución de campo lejano* y *gran longitud de onda*."
   ]
  },
  {
   "cell_type": "markdown",
   "metadata": {},
   "source": [
    "#### 3.1.18.3. Solución a la ecuación de campo con fuentes\n",
    "<a id='emision_gw_fuentes'></a>"
   ]
  },
  {
   "cell_type": "markdown",
   "metadata": {},
   "source": [
    "Podemos finalmente postular que la solución a la ecuación de campo métrico linearizada es:\n",
    "\n",
    "$$\n",
    "\\bar{h}^{\\mu\\nu}_\\mathrm{far}=-\\frac{1}{4\\pi r}\\int -\\frac{16\\pi G}{c^4}T^{\\mu\\nu}(ct-r,\\vec{r}')\\mathrm{d}V'\n",
    "$$\n",
    "que simplificando queda finalmente:\n",
    "\n",
    "$$\n",
    "\\bar{h}^{\\mu\\nu}_\\mathrm{far}=\\frac{4G}{c^4 r}\\int T^{\\mu\\nu}(ct-r,\\vec{r}')\\mathrm{d}V'\n",
    "$$\n"
   ]
  },
  {
   "cell_type": "markdown",
   "metadata": {},
   "source": [
    "Es posible mostrar que esta solución satisface además las condiciones gauge que hemos asumido a lo largo de las últimas secciones (ver Problemas al final del capítulo)."
   ]
  },
  {
   "cell_type": "markdown",
   "metadata": {},
   "source": [
    "Si estamos a una gran distancia observando la llegada de la onda gravitacional en un detector de un tamaño mucho menor que la distancia a la misma, la onda que nos llegará será esencialmente una onda plana como las que estudiamos en secciones anteriores.  Como hemos visto para entender esta onda es necesario estudiar las componentes espaciales de la misma.  Así que nos interesa calcular:\n",
    "\n",
    "$$\n",
    "\\bar{h}^{ij}_\\mathrm{far}=\\frac{4G}{c^4 r}\\int T^{ij}(t-r,\\vec{r}')\\mathrm{d}V'\n",
    "$$\n"
   ]
  },
  {
   "cell_type": "markdown",
   "metadata": {},
   "source": [
    "¿Cómo escribir las componentes del tensor $T^{ij}$ en términos de la masa y su distribución en la fuente?.  Sabemos que la masa esta directamente relacionada con $T^{00}$, de modo que si queremos encontrar una relación de $T^{ij}$ con la masa debemos encontrarla es con $T^{00}$."
   ]
  },
  {
   "cell_type": "markdown",
   "metadata": {},
   "source": [
    "Por el principio de continuidad aplicada al flujo de momentum sabemos que:\n",
    "\n",
    "$$\n",
    "{T^{\\mu\\nu}}_{;\\mu}=0\n",
    "$$"
   ]
  },
  {
   "cell_type": "markdown",
   "metadata": {},
   "source": [
    "En gravedad linearizada y a primer orden la componente 0 de esta ecuación es:\n",
    "\n",
    "$$\n",
    "{T^{\\mu\\nu}}_{;\\mu}\\approx {T^{\\mu\\nu}}_{,\\mu}={T^{00}}_{,0}+{T^{0i}}_{,i}=0\n",
    "$$\n",
    "de donde:\n",
    "\n",
    "$$\n",
    "{T^{00}}_{,0}=-{T^{0i}}_{,i}\n",
    "$$"
   ]
  },
  {
   "cell_type": "markdown",
   "metadata": {},
   "source": [
    "\n",
    "La componente espacial por otro lado\n",
    "\n",
    "$$\n",
    "{T^{i0}}_{,0}=-{T^{ij}}_{,j}\n",
    "$$\n"
   ]
  },
  {
   "cell_type": "markdown",
   "metadata": {},
   "source": [
    "Derivando respecto al tiempo la primera identidad\n",
    "$$\n",
    "{T^{00}}_{,0,0}=-{T^{0i}}_{,i,0}=-{T^{0i}}_{,0,i}\n",
    "$$\n",
    "y usando en esta última la segunda identidad queda:\n",
    "\n",
    "$$\n",
    "{T^{00}}_{,0,0}={T^{ij}}_{,i,j}\n",
    "$$"
   ]
  },
  {
   "cell_type": "markdown",
   "metadata": {},
   "source": [
    "Consideremos ahora la siguiente integral:\n",
    "\n",
    "$$\n",
    "\\int {(T^{0k}x^i x^j)}_{,k}\\;\\mathrm{d}V=\\int {T^{0k}}_{,k} x^i x^j\\;\\mathrm{d}V+\\int T^{0i} x^j\\;\\mathrm{d}V+\\int T^{0j} x^i\\;\\mathrm{d}V\n",
    "$$"
   ]
  },
  {
   "cell_type": "markdown",
   "metadata": {},
   "source": [
    "Por el teorema de la divergencia, el término en el lado derecho de la ecuación es una integral sobre la superficie del tensor $T^{0k}x^i x^j$, pero si consideramos para esta integral una superficie ligeramente por encima de la distribución de materia esta cantidad da cero.  De ese modo la igualdad anterios queda:\n",
    "\n",
    "$$\n",
    "\\int T^{0i} x^j\\;\\mathrm{d}V=-\\frac{1}{2c}\\int {T^{00}}_{,0} x^i x^j\\;\\mathrm{d}V\n",
    "$$\n",
    "dado que las variables son independientes:\n",
    "\n",
    "$$\n",
    "\\int T^{0i} x^j\\;\\mathrm{d}V=-\\frac{1}{2c}\\frac{\\mathrm{d}}{\\mathrm{d}t}\\left(\\int {T^{00}} x^i x^j\\;\\mathrm{d}V\\right)\n",
    "$$"
   ]
  },
  {
   "cell_type": "markdown",
   "metadata": {},
   "source": [
    "Hemos usado el hecho de que una derivada total sobre una integral es lo mismo que la integral de su derivada parcial respecto al tiempo (regla e Leibniz):\n",
    "\n",
    "$$\n",
    "\\frac{\\mathrm{d}}{\\mathrm{d}t}\\int f(\\vec{r},t)\\mathrm{d}V=\\int \\frac{\\partial}{\\partial t}f(\\vec{r},t)\\mathrm{d}V\n",
    "$$"
   ]
  },
  {
   "cell_type": "markdown",
   "metadata": {},
   "source": [
    "Derivando esta última expresión respecto al tiempo queda:\n",
    "\n",
    "$$\n",
    "\\frac{1}{c}\\frac{\\mathrm{d}}{\\mathrm{d}t}\\int {T^{0i}} x^j\\;\\mathrm{d}V=-\\frac{1}{2c^2}\\frac{\\mathrm{d}^2}{\\mathrm{d}t^2}\\left(\\int {T^{00}} x^i x^j\\;\\mathrm{d}V\\right)\n",
    "$$"
   ]
  },
  {
   "cell_type": "markdown",
   "metadata": {},
   "source": [
    "Para encontrar a que corresponde el lado izquierdo de la ecuación escribámosla como:\n",
    "\n",
    "$$\n",
    "\\int {T^{0i}}_{,0} x^j\\;\\mathrm{d}V=-\\int {T^{ik}}_{,k} x^j\\;\\mathrm{d}V=\\int [(T^{ik} x^j)_{,k}-T^{ij}]\\;\\mathrm{d}V\n",
    "$$"
   ]
  },
  {
   "cell_type": "markdown",
   "metadata": {},
   "source": [
    "Por el mismo argumento del teorema de la divergencia, el primer término del lado derecho de la anterior ecuación es 0 y por lo tanto la identidad que obtenemos finalmente es:\n",
    "\n",
    "$$\n",
    "\\int T^{ij}\\;\\mathrm{d}V=\\frac{1}{2c^2}\\frac{\\mathrm{d}^2}{\\mathrm{d}t^2}\\left(\\int {T^{00}} x^i x^j\\;\\mathrm{d}V\\right)\n",
    "$$"
   ]
  },
  {
   "cell_type": "markdown",
   "metadata": {},
   "source": [
    "A bajas velocidades el tensor de momentum energía es $T^{00}\\approx \\rho_0(t,\\vec{r}) c^2$."
   ]
  },
  {
   "cell_type": "markdown",
   "metadata": {},
   "source": [
    "Si definimos el *segundo momento de la distribución de masa* del sistema o **tensor de momento cuadrupolar de masa** $Q^{ij}$ como:\n",
    "\n",
    "$$\n",
    "Q^{ij}(t)=\\int \\rho_0(t,\\vec{r}') x'^i x'^j\\;\\mathrm{d}V'\n",
    "$$\n",
    "la solución a la ecuación de onda en el campo lejano y asumiendo gran longitud de onda será:\n",
    "\n",
    "$$\n",
    "\\bar{h}^{ij}_\\mathrm{far}=\\frac{2G}{c^4 r}\\ddot{Q}^{ij}(ct-r)\n",
    "$$"
   ]
  }
 ],
 "metadata": {
  "kernelspec": {
   "display_name": "Python 3",
   "language": "python",
   "name": "python3"
  },
  "language_info": {
   "codemirror_mode": {
    "name": "ipython",
    "version": 3
   },
   "file_extension": ".py",
   "mimetype": "text/x-python",
   "name": "python",
   "nbconvert_exporter": "python",
   "pygments_lexer": "ipython3",
   "version": "3.6.8"
  }
 },
 "nbformat": 4,
 "nbformat_minor": 2
}
