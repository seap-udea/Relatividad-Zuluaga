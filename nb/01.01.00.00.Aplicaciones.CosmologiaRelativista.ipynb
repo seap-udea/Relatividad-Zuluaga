{
 "cells": [
  {
   "cell_type": "markdown",
   "metadata": {
    "tags": [
     "navigation"
    ]
   },
   "source": [
    "[Indice](index.ipynb) | Previo: [Aplicaciones](01.00.00.00.Aplicaciones.ipynb) | Siguiente: [Aplicaciones.CosmologiaRelativista.MetricaUniverso](01.01.01.00.Aplicaciones.CosmologiaRelativista.MetricaUniverso.ipynb)"
   ]
  },
  {
   "cell_type": "markdown",
   "metadata": {},
   "source": [
    "## 1.1. Cosmología relativista\n",
    "<a id='cosmologia_relativista'></a>"
   ]
  },
  {
   "cell_type": "markdown",
   "metadata": {},
   "source": [
    "Una de las más tempranas y más fértiles aplicaciones de la teoría general de la relatividad es fue la descripción de la geometría del espacio-tiempo del Universo como un todo."
   ]
  },
  {
   "cell_type": "markdown",
   "metadata": {},
   "source": [
    "La descripción del espacio-tiempo de cuatro dimensiones que contiene toda la materia y la energía (el universo), su evolución y dinámica, sumado a la fenomenología resultante (el comportamiento de la materia y la energía en ese espacio-tiempo), así como la relación entre la geometría y las observaciones realizadas desde algún lugar del universo es lo que llamamos actualmente la **cosmología relativista**."
   ]
  },
  {
   "cell_type": "markdown",
   "metadata": {},
   "source": [
    "### 1.1.1. Plan de temas\n",
    "<a id='plan_temas'></a>"
   ]
  },
  {
   "cell_type": "markdown",
   "metadata": {},
   "source": [
    "- Propiedades del Universo.\n",
    "- La métrica de Friedmann-Robertson-Walker (FRW).\n",
    "- Observaciones en un universo con la métrica FRW.\n",
    "- Las ecuaciones FRW.\n",
    "- Modelos de universo"
   ]
  },
  {
   "cell_type": "markdown",
   "metadata": {},
   "source": [
    "### 1.1.2. Propiedades del universo\n",
    "<a id='propiedades_universo'></a>"
   ]
  },
  {
   "cell_type": "markdown",
   "metadata": {},
   "source": [
    "Antes de describir con la relatividad el universo es necesario entender algunas propiedades globales básicas que conocemos."
   ]
  },
  {
   "cell_type": "markdown",
   "metadata": {},
   "source": [
    "Desde tiempos históricos se sabe que el espacio entre las estrellas es mucho mayor que su tamaño y por lo tanto que la mayor parte del universo esta vacío.  En los años 1930 descubrimos el medio interestelar (gases y polvo) pero sabemos que su densidad es muchos ordenes de magnitud menor que el de cualquier cuerpo astronómico."
   ]
  },
  {
   "cell_type": "markdown",
   "metadata": {},
   "source": [
    "En los 1700 Newton especulaba que el universo no podía tener ningún límite porque de lo contrario habría también un centro y por lo tanto la materia habría colapsado en él.  Esta idea de entrada ya implicaba la intuición de que el universo era a gran escala homogéneo."
   ]
  },
  {
   "cell_type": "markdown",
   "metadata": {},
   "source": [
    "En los 1700 y 1800 se escubrió que las estrellas en el cielo hacían parte de la Vía Láctea, una estructura en forma de disco que hoy sabemos tiene un diámetro de unos 30 kpc (1 pc = $3.26$ al = $3.08\\times 10^{13}$ km)."
   ]
  },
  {
   "cell_type": "markdown",
   "metadata": {},
   "source": [
    "En los años 1920 escubrimos que algunas \"nebulosas\" que habían descubierto los astrónomos a lo largo de 200 años de observaciones telescópicas eran realmente estructuras externas de estrellas a la Vía Láctea.  Eso demostraba que la materia en el Universo se reunía en la forma de \"islas de estrellas\" o galaxias repartidas sin un patrón definido por el espacio de tres dimensiones.  Hoy sabemos que hay miles de millones de galaxias (las últimas estimaciones las cifran en 2 billones incluyendo las más pequeñas) distribuídas de forma más o menos homogénea. "
   ]
  },
  {
   "cell_type": "markdown",
   "metadata": {},
   "source": [
    "Aunque las galaxias se mueven por efecto de su interacción local (la velocidad relativa entre las galaxias es del orden de 100-1000 km/s) la observación más importante hecha en los 1920 es que todas las galaxias parecen exhibir un corrimiento al rojo espectral $z$ que varía en proporción directa a la distancia luminosa $d_L$ a la que las galaxias se encuentran:\n",
    "\n",
    "$$\n",
    "z\\approx \\frac{H_0}{c}d_L\n",
    "$$\n",
    "donde el símbolo $\\approx$ se debe a que la ley fue establecida unicamente para Galaxias a una distancia relativamente pequeña de la Vía Lactea.  A este resultado se lo conoce como la **ley de Hubble-Lemaitre**. "
   ]
  },
  {
   "cell_type": "markdown",
   "metadata": {},
   "source": [
    "<a id='fig:Figure_1'></a>![Ley de Hubble Lemaitre.  En el eje vertical se muestra el módulo de distancia $\\mu=m-M=5\\log_{10}(d)-5$ donde la distancia esta en pc.  Una distancia de 1 Gpc corresponde a un módulo de distancias de 40.  Fuente: https://physics.stackexchange.com/questions/361438/interpretation-of-hubble-diagram.](./figures/square_ley_hubble_lemaitre_zm.png)\n",
    "\n",
    "<center><b>Figura 1.1</b>. Ley de Hubble Lemaitre.  En el eje vertical se muestra el módulo de distancia $</center>"
   ]
  },
  {
   "cell_type": "markdown",
   "metadata": {},
   "source": [
    "Aquí la cantidad $H_0$ se conoce como el parámetro de Hubble y su valor se parametriza normalmente como:\n",
    "\n",
    "$$\n",
    "H_0=70 h_{70}\\;\\;\\mathrm{km}\\;\\mathrm{s}^{-1}\\mathrm{Mpc}^{-1} = 2.27\\times 10^{-18}h_{70}\\;\\mathrm{s}^{-1}\n",
    "$$\n",
    "donde $h$ es un parámetro adimensional.  Según las últimas estimaciones astrofísicas $h=70.5$ km/s. "
   ]
  },
  {
   "cell_type": "markdown",
   "metadata": {},
   "source": [
    "El valor de $H_0$ todavía no se conoce con precisión. Según la [última estimación de 2020](https://en.wikipedia.org/wiki/Hubble%27s_law#Measured_values_of_the_Hubble_constant) es $h_{70}=1.056\\pm 0.04$. "
   ]
  },
  {
   "cell_type": "markdown",
   "metadata": {},
   "source": [
    "<a id='fig:Figure_2'></a>![Parámetro de Hubble](./figures/horizontal_parametro_hubble.png)\n",
    "\n",
    "<center><b>Figura 1.2</b>. Parámetro de Hubble</center>"
   ]
  },
  {
   "cell_type": "markdown",
   "metadata": {},
   "source": [
    "El espacio entre las galaxias no esta completamente vacío.  Esta lleno de lo que se conoce como gas intracúmulos.  Usando la emisión de radiación del gas entre cúmulos y otros métodos astrofísicos, se ha estimado que la densidad promedio de materia bariónica (protones, neutrones y electrones) es igual a[$^1$](#notaspie_1):\n",
    "\n",
    "$$\n",
    "\\rho_B=4.46\\times 10^{-28}h_{70}^2\\;\\mathrm{kg}\\;\\mathrm{m}^{-3}\n",
    "$$\n"
   ]
  },
  {
   "cell_type": "markdown",
   "metadata": {},
   "source": [
    "De esta densidad, tan solo el 6% es la materia que forma estrellas, planetas y nubes de gas visibles. "
   ]
  },
  {
   "cell_type": "markdown",
   "metadata": {},
   "source": [
    "Distintas líneas de evidencia incluyendo la dispersión de velocidades de las galaxias en cúmulos ricos, la curva de rotación de las galaxias de disco y medidas de lentes y microlentes gravitacionales han permitido establecer la existencia de una forma de materia de composición todavía desconocida y de la cual existe una densidad promedio igual a: \n",
    "\n",
    "\n",
    "$$\n",
    "\\rho_{DM}=2.38\\times 10^{-27}h_{70}^2\\;\\mathrm{kg}\\;\\mathrm{m}^{-3}\n",
    "$$"
   ]
  },
  {
   "cell_type": "markdown",
   "metadata": {},
   "source": [
    "<a id='fig:Figure_3'></a>![Imagen del cúmulo de la bala mostrando la distribución reconstruída de materia oscura](./figures/square_bullet_cluster.png)\n",
    "\n",
    "<center><b>Figura 1.3</b>. Imagen del cúmulo de la bala mostrando la distribución reconstruída de materia oscura</center>"
   ]
  },
  {
   "cell_type": "markdown",
   "metadata": {},
   "source": [
    "En los años 1960 se descubrió que todos los sitios del universo son bañados por una radiación que tiene el espectro de cuerpo negro con una temperatura característica de 2.731 K. Esta radiación es isotrópica dentro de una precisión de 1 parte en 100.000. "
   ]
  },
  {
   "cell_type": "markdown",
   "metadata": {
    "tags": [
     "footnote"
    ]
   },
   "source": [
    "**NOTAS AL PIE:**\n",
    "\n",
    "<a id='notaspie_1'></a>\n",
    "1. Para ello se asume que el parámetro cosmológico $\\Omega_B=0.0484$.\n",
    "\n"
   ]
  },
  {
   "cell_type": "markdown",
   "metadata": {
    "tags": [
     "navigation"
    ]
   },
   "source": [
    "[Indice](index.ipynb) | Previo: [Aplicaciones](01.00.00.00.Aplicaciones.ipynb) | Siguiente: [Aplicaciones.CosmologiaRelativista.MetricaUniverso](01.01.01.00.Aplicaciones.CosmologiaRelativista.MetricaUniverso.ipynb)"
   ]
  }
 ],
 "metadata": {
  "celltoolbar": "Tags",
  "kernelspec": {
   "display_name": "Python 3",
   "language": "python",
   "name": "python3"
  },
  "language_info": {
   "codemirror_mode": {
    "name": "ipython",
    "version": 3
   },
   "file_extension": ".py",
   "mimetype": "text/x-python",
   "name": "python",
   "nbconvert_exporter": "python",
   "pygments_lexer": "ipython3",
   "version": "3.6.8"
  }
 },
 "nbformat": 4,
 "nbformat_minor": 2
}
