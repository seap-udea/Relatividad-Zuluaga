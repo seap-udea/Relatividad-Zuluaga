{
 "cells": [
  {
   "cell_type": "markdown",
   "metadata": {
    "tags": [
     "navigation"
    ]
   },
   "source": [
    "[Indice](index.ipynb) | Previo: [RelatividadEspecial.TransformacionesLorentzEinstein](01.02.00.00.RelatividadEspecial.TransformacionesLorentzEinstein.ipynb) | Siguiente: [RelatividadEspecial.TransformacionesLorentzEinstein.Numericas](01.02.02.00.RelatividadEspecial.TransformacionesLorentzEinstein.Numericas.ipynb)"
   ]
  },
  {
   "cell_type": "markdown",
   "metadata": {},
   "source": [
    "## 1.8. Propiedades de las TLE\n",
    "<a id='propiedades_tle'></a>"
   ]
  },
  {
   "cell_type": "markdown",
   "metadata": {},
   "source": [
    "Las transformaciones de Lorentz-Einstein juegan un papel central en el estudio de todas las propiedades del espacio-tiempo que se derivan de los postulados de la relatividad."
   ]
  },
  {
   "cell_type": "markdown",
   "metadata": {
    "label": "",
    "subtitle": "Postulado de relatividad espacial",
    "tags": [
     "box_theorem"
    ],
    "title": "Postulado"
   },
   "source": [
    "> **Postulado: Postulado de relatividad espacial.**<a id=''></a> Todas las leyes de la física son covariantes bajo las transformaciones de Lorentz-Einstein."
   ]
  },
  {
   "cell_type": "markdown",
   "metadata": {},
   "source": [
    "### 1.8.1. Unidades luz\n",
    "<a id='unidades_luz'></a>"
   ]
  },
  {
   "cell_type": "markdown",
   "metadata": {},
   "source": [
    "La característica más notable de las TLE es que combinan espacio y tiempo en un mismo conjunto de ecuaciones de transformación.  Este hecho de entrada rompe con el tiempo absoluto de la física newtoniana."
   ]
  },
  {
   "cell_type": "markdown",
   "metadata": {},
   "source": [
    "Al hacerlo sin embargo crea el problema de que en una misma ecuación (y en otros contextos en la teoría) tengamos cantidades muy diferentes desde el punto de vista físico y dimensional como lo son el tiempo y el espacio."
   ]
  },
  {
   "cell_type": "markdown",
   "metadata": {},
   "source": [
    "Una manera de subsanar este inconveniente es midiendo una de estas cantidades con unidades análogas a la otra.  En Astronomía estamos por ejemplo acostumbrado a medir las distancias con unidades de tiempo cuando decimos que la estrella más cercana esta a 4.2 años-luz (al) de distancia.  Dada una cantidad $x$, medida en unidades de longitud, la cantidad equivalente medida en unidades de tiempo será:\n",
    "\n",
    "$$\n",
    "x_L=\\frac{x}{c}\n",
    "$$\n",
    "donde $[x_L]=$sl (segundos luz)."
   ]
  },
  {
   "cell_type": "markdown",
   "metadata": {},
   "source": [
    "Menos frecuente es usar unidades de distancia para referirse al tiempo.  De manera análoga a como medimos 1 segundo-luz (sl), podemos definir 1 metro-luz (ml) como el tiempo que le toma a la luz recorrer un metro.  El tiempo $t_L$ en metros luz se calcula como:\n",
    "\n",
    "$$\n",
    "t_L=ct\n",
    "$$"
   ]
  },
  {
   "cell_type": "markdown",
   "metadata": {},
   "source": [
    "¿Cuál de estos dos usar? Por razones que comprenderemos más adelante, nos inclinaremos por usar el sistema de unidades luz en el que la distancia se mide en segundos(luz).  De ese modo, al menos para el espacio-tiempo, todas las cantidades involucradas quedaran definidas con unidades de tiempo."
   ]
  },
  {
   "cell_type": "markdown",
   "metadata": {},
   "source": [
    "En unidades luz, la velocidad (la rapidez o cualquier componente) es:\n",
    "\n",
    "$$\n",
    "v_L=\\frac{\\mathrm{d}x_L}{\\mathrm{d}t}=\\frac{1}{c}\\frac{\\mathrm{d}x}{\\mathrm{d}t}=\\frac{v}{c}\n",
    "$$ \n",
    "es decir, esta cantidad es adimensional y de acuerdo con la proposición que se sigue de las transformaciones de Lorentz-Einstein, para cualquier sistema de referencia estará siempre en el rango:\n",
    "\n",
    "$$\n",
    "0\\le v_L<1\n",
    "$$"
   ]
  },
  {
   "cell_type": "markdown",
   "metadata": {},
   "source": [
    "Durante este capítulo usaremos las *unidades luz* para escribir el mayor número de cantidades física, cinemáticas y dinámicas."
   ]
  },
  {
   "cell_type": "markdown",
   "metadata": {},
   "source": [
    "### 1.8.2. La TLE como una rotación hiperbólica\n",
    "<a id='TLE_rotacion_hiperbolica'></a>"
   ]
  },
  {
   "cell_type": "markdown",
   "metadata": {},
   "source": [
    "Las transformaciones de Lorentz en términos de cantidades escritas en unidades luz serán:\n",
    "\n",
    "\\begin{eqnarray}\n",
    "\\nonumber\n",
    "t' & = & \\gamma\\left(t - u_L x_L \\right)\\\\\n",
    "\\nonumber\n",
    "x'_L & = & \\gamma\\left(- u_L t + x_L\\right)\n",
    "\\end{eqnarray}\n"
   ]
  },
  {
   "cell_type": "markdown",
   "metadata": {},
   "source": [
    "Matricialmente:\n",
    "\n",
    "$$\n",
    "\\left(\n",
    "\\begin{array}{c}\n",
    "t'\\\\\n",
    "x'_L\n",
    "\\end{array}\n",
    "\\right)\n",
    "=\n",
    "\\Lambda(u_L)\n",
    "\\left(\n",
    "\\begin{array}{c}\n",
    "t\\\\\n",
    "x_L\n",
    "\\end{array}\n",
    "\\right)\n",
    "$$\n",
    "donde\n",
    "\n",
    "$$\n",
    "\\Lambda(u_L)\\equiv\\left(\n",
    "\\begin{array}{cc}\n",
    "\\gamma & -\\gamma u_L\\\\\n",
    "-\\gamma u_L & \\gamma\n",
    "\\end{array}\n",
    "\\right)\n",
    "$$\n",
    "y $\\gamma=(1-u_L^2)^{-1/2}$."
   ]
  },
  {
   "cell_type": "markdown",
   "metadata": {},
   "source": [
    "Esta matriz tiene dos propiedades interesantes:\n",
    "\n",
    "1. $\\det \\Lambda=1$\n",
    "2. $\\Lambda(u_L)^{-1}=\\Lambda(-u_L)$\n",
    "\n",
    "Que son las mismas propiedades de las matrices de rotación:\n",
    "\n",
    "$$\n",
    "R(\\theta)\\equiv\\left(\n",
    "\\begin{array}{cc}\n",
    "\\cos\\theta & -\\sin\\theta\\\\\n",
    "\\sin\\theta & \\cos\\theta\n",
    "\\end{array}\n",
    "\\right)\n",
    "$$\n",
    "lo que sugiere que podemos considerarla como tal.  Pero hay un inconveniente.  Los signos de la diagonal de la matriz TLE no son contrarios.  Una solución para ello es usar una matriz de *rotación hiperbólica*:\n",
    "\n",
    "$$\n",
    "R_h(\\phi)\\equiv\\left(\n",
    "\\begin{array}{cc}\n",
    "\\cosh\\phi & -\\sinh\\phi\\\\\n",
    "-\\sinh\\phi & \\cosh\\phi\n",
    "\\end{array}\n",
    "\\right)\n",
    "$$\n",
    "donde $\\phi$ más que un ángulo, es un parámetro de rotación, llamado en relatividad la **rapidez**."
   ]
  },
  {
   "cell_type": "markdown",
   "metadata": {},
   "source": [
    "Si hacemos la identificación:\n",
    "\n",
    "$$\n",
    "\\cosh\\phi\\equiv \\gamma\n",
    "$$\n",
    "es fácil probar entonces que \n",
    "\n",
    "$$\n",
    "\\sinh \\phi=\\gamma u_L\n",
    "$$\n",
    "por lo que concluímos que la transformación que relaciona las coordenadas espacio-tiempo de dos observadores inerciales con velocidad relativa $u_L$ es una rotación hiperbólica con parámetro $\\tanh\\phi=u_L$."
   ]
  },
  {
   "cell_type": "markdown",
   "metadata": {
    "label": "",
    "subtitle": "Cuadrivector posición y gradiente en el espacio-tiempo",
    "tags": [
     "box_definition"
    ],
    "title": "Definición"
   },
   "source": [
    "> **Definición 4.3. Cuadrivector posición y gradiente en el espacio-tiempo.**<a id=''></a> Al vector:\n",
    "\n",
    "> $$\n",
    "  \\tilde x:\n",
    "  \\left(\n",
    "  \\begin{array}{c}\n",
    "  t\\\\\n",
    "  x_L\\\\\n",
    "  y_L\\\\\n",
    "  z_L\\\\\n",
    "  \\end{array}\n",
    "  \\right)\n",
    "  $$\n",
    "  lo llamaremos el vector posición o **cuadrivector** posición en el espacio-tiempo.  En lo sucesivo usaremos la notación $\\tilde x$ para denotar los objetos vectoriales abstractos en cuatro dimensiones.  \n",
    "  \n",
    "> Por su parte el gradiente será:\n",
    "  $$\n",
    "  \\tilde \\partial:\n",
    "  \\left(\n",
    "  \\begin{array}{c}\n",
    "  \\partial_t\\\\\n",
    "  \\partial_{x_L}\\\\\n",
    "  \\partial_{y_L}\\\\\n",
    "  \\partial_{z_L}\\\\\n",
    "  \\end{array}\n",
    "  \\right)\n",
    "  $$\n",
    "  \n",
    "  "
   ]
  },
  {
   "cell_type": "markdown",
   "metadata": {},
   "source": [
    "En términos del cuadrivector posición podemos escribir las TLE como:\n",
    "\n",
    "$$\n",
    "\\tilde x' = \\Lambda \\tilde x\n",
    "$$\n",
    "y las transfromaciones de las derivadas parciales como:\n",
    "\n",
    "$$\n",
    "\\tilde\\partial = \\Lambda^\\mathrm{T} \\tilde\\partial'\n",
    "$$"
   ]
  },
  {
   "cell_type": "markdown",
   "metadata": {},
   "source": [
    "### 1.8.3. Las TLE y la notación de Einstein\n",
    "<a id='notacion_einstein'></a>"
   ]
  },
  {
   "cell_type": "markdown",
   "metadata": {},
   "source": [
    "Otra manera de escribir la TLE expresando explícitamente las componentes de la matriz es:\n",
    "\n",
    "$$\n",
    "{x'}_L^{\\mu}=\\sum_\\nu \\Lambda_{\\mu\\nu} x_L^\\nu\n",
    "$$\n",
    "donde $\\mu,\\nu: 0 (t), 1(x), 2 (y), 3 (z)$ y $\\Lambda_{\\mu\\nu}$ son las componentes de la matriz de rotación."
   ]
  },
  {
   "cell_type": "markdown",
   "metadata": {},
   "source": [
    "Con lo común que será manipular expresiones como estas, estar escribiendo sumatorias por todas partes se hace muy incómodo.  Para evitarlo Einstein invento la notación:\n",
    "\n",
    "$$\n",
    "{x'}_L^{\\mu}=\\Lambda_{\\mu\\nu} x_L^\\nu\n",
    "$$\n",
    "donde la sumatoria queda indicada por el hecho que el índice $\\nu$ a la derecha esta repetido en los dos términos.  Siempre que encontremos un índice repetido indicará que existe una suma no explícita sobre ese índice."
   ]
  },
  {
   "cell_type": "markdown",
   "metadata": {},
   "source": [
    "Está última expresión aunque en principio correcta desde el punto de vista aritmético, todavía no es rigurosa desde el punto de vista del manejo de los índices. Una de las características más conocidas del formalismo matemático de la teoría de la relatividad, que naturalmente hereda de las áreas de las matemáticas que lo soportan (análisis tensorial y álgebra multilineal) es el manejo riguroso de los índices.  Para precisar esto debemos introducir unas definiciones \"nuevas\"."
   ]
  },
  {
   "cell_type": "markdown",
   "metadata": {
    "label": "",
    "subtitle": "componentes covariantes y contravariantes de un vector",
    "tags": [
     "box_definition"
    ],
    "title": "Definición"
   },
   "source": [
    "> **Definición 4.4. componentes covariantes y contravariantes de un vector.**<a id=''></a> Dado un espacio coordenado de $n$ dimensiones, y un conjunto de $n$ vectores de base (no necesariamente unitarios) $\\tilde e_0$, $\\tilde e_1$, $\\ldots$, $\\tilde e_n$.  Cualquier vector $\\tilde v$ en el espacio tiene asociados $n$ números que llamamos sus componentes, definidos de la siguiente maneral:\n",
    "\n",
    "> 1. **Componentes covariantes**, $\\tilde v:(v_0,v_1,v_2,v_3)$, que son tales que:\n",
    "  $$\n",
    "  v_0=\\tilde v\\cdot\\tilde e_0,\\;v_1=\\tilde v\\cdot\\tilde e_1,\\;v_2=\\tilde v\\cdot\\tilde e_2,\\;v_3=\\tilde v\\cdot\\tilde e_3\n",
    "  $$\n",
    "  Los llamamos *covariantes* porque si un cambio de escala modifica las longitudes de $\\tilde e_\\mu$ por un factor $k$, las componentes $v_\\mu$ se modificaran también por el mismo factor $k$ (*en el mismo sentido* de los vectores de base). \n",
    " \n",
    "> 1. **Componentes contravariantes**, que se denotan como $\\tilde v:(v^0,v^1,v^2,\\ldots,v^n)$ y se definen en términos de la combinación lineal:\n",
    "  $$\n",
    "  \\tilde v=v^0 \\tilde e_0+v^1 \\tilde e_1+v^2 \\tilde e_2+\\ldots+v^n \\tilde e_n\n",
    "  $$\n",
    "  y que llamaremos *contravariantes* porque si un cambio de escala modifica las longitudes de $\\tilde e_\\mu$ por un factor $k$, las componentes $v^\\mu$ se modificaran por un factor $1/k$ (*contrario* a los vectores de base). \n",
    "\n",
    "> Las componentes contravariantes y covariantes de un vector coinciden si: 1) El **producto punto** es igual el definido en espacios euclidianos o pseudoeuclidiano y 2) si los **vectores de base son ortogonales**.  Un video con una explicación de la diferencia entre componentes contravariantes y covariantes puede encontrarse en el sitio web https://www.youtube.com/watch?v=CliW7kSxxWU."
   ]
  },
  {
   "cell_type": "markdown",
   "metadata": {},
   "source": [
    "Usando la notación de Einstein, un vector en $n$ dimensiones se puede escribir en términos de una base y sus componentes contravariantes como:\n",
    "\n",
    "$$\n",
    "\\tilde v=v^\\mu \\tilde e_\\mu\n",
    "$$\n",
    "\n",
    "Dado que el índice repetido $\\mu$ solo juega aquí el papel de indicar la existencia de una sumatoria que no se escribe, podría ser reemplazado por cualquier otra letra:\n",
    "\n",
    "$$\n",
    "\\tilde v=v^\\nu \\tilde e_\\nu=v^\\alpha \\tilde e_\\alpha\n",
    "$$\n",
    "y lo llamaremos por tánto un **índice mudo**."
   ]
  },
  {
   "cell_type": "markdown",
   "metadata": {
    "label": "",
    "subtitle": "Notación intercambiable",
    "tags": [
     "box_note"
    ],
    "title": "NOTA"
   },
   "source": [
    "> **NOTA: Notación intercambiable.**<a id=''></a> En lo sucesivo usaremos la expresion $v^\\mu$ para referirnos de forma intercambiable al cuadrivector mismo $\\tilde v$ y a la componente contravariante $\\mu$.  Cuándo $v^\\mu$ será el cuadrivector y cuándo su componente dependerá del contexto. "
   ]
  },
  {
   "cell_type": "markdown",
   "metadata": {},
   "source": [
    "Nótese que las componentes del vector gradiente $\\partial/\\partial x^\\mu$ son covariantes: al multiplicar por un factor $k$ los vectores de base, las componentes $x^\\mu$ se reducen en un factor $k$ pero las derivadas *aumentan* en el mismo factor.  Por lo tanto podemos escribir:\n",
    "\n",
    "$$\n",
    "\\tilde \\partial : \\left(\\frac{\\partial}{\\partial x^0},\\frac{\\partial}{\\partial x^1},\\frac{\\partial}{\\partial x^2},\\frac{\\partial}{\\partial x^3}\\right) \\equiv \\partial_\\mu\n",
    "$$"
   ]
  },
  {
   "cell_type": "markdown",
   "metadata": {},
   "source": [
    "En términos de la notación de Einstein y de las componentes contravariantes del vector posición $x^\\mu$ las TLE se pueden escribir como:\n",
    "\n",
    "$$\n",
    "x^{\\mu'}={\\Lambda^{\\mu'}}_\\nu\\;x^{\\nu}\n",
    "$$\n",
    "aquí $\\nu$ es un índice mudo y $\\mu'$ es el índice de la ecuación. "
   ]
  },
  {
   "cell_type": "markdown",
   "metadata": {},
   "source": [
    "Esta expresión tiene dos novedades:\n",
    "\n",
    "- El apóstrofe, que indica que las componentes son aquellas medidas por el observador primado, se aplica al índice y no a la letra del cuadrivector.  Esto tiene dos propósitos: el primero es respetar el hecho que el vector abstracto $\\tilde x$, en realidad no se modifica con la transformación; el segundo tiene que ver con la notación para la matriz de transformación.\n",
    "\n",
    "- Los índices de la matriz de transformación.  Hemos puesto los índices de modo que a ambos lados de la expresión estén equilibrados.  Por eso cambiamos a una *posición contravariante* el primer índice de la matriz (sin que eso necesariamente signifique que esa sea estrictamente una componente contravariante de una entidad que no es *vectorial*). "
   ]
  },
  {
   "cell_type": "markdown",
   "metadata": {},
   "source": [
    "EL uso de los apóstrofes en los índices tiene la ventaja adicional de permitirnos escribir expresiones mucho más económicas como:\n",
    "\n",
    "$$\n",
    "x^{\\mu'}={\\Lambda^{\\mu'}}_\\mu\\;x^{\\mu}\n",
    "$$\n",
    "donde los índices $\\mu'$ y $\\mu$ son claramente índices diferentes."
   ]
  },
  {
   "cell_type": "markdown",
   "metadata": {},
   "source": [
    "Teniendo en cuenta que en la *configuración estándar* (eje x apuntando en la dirección de $\\vec u$):\n",
    "\n",
    "$$\n",
    "\\Lambda(u_L)\\equiv\\left(\n",
    "\\begin{array}{cccc}\n",
    "\\gamma & -\\gamma u_L & 0 & 0 \\\\\n",
    "-\\gamma u_L & \\gamma & 0 & 0 \\\\\n",
    "0 & 0 & 1 & 0 \\\\\n",
    "0 & 0 & 0 & 1 \\\\\n",
    "\\end{array}\n",
    "\\right)\n",
    "$$\n",
    "las componentes explícitas de la matriz ${\\Lambda^{\\mu'}}_\\nu$ se pueden escribir como:\n",
    "\n",
    "$$\n",
    "\\begin{array}{c}\n",
    "{\\Lambda^{0'}}_0={\\Lambda^{1'}}_1=\\gamma\\\\\n",
    "{\\Lambda^{0'}}_1={\\Lambda^{1'}}_0=-u_L\\gamma\\\\\n",
    "{\\Lambda^{2'}}_2={\\Lambda^{3'}}_3=1\\\\\n",
    "\\end{array}\n",
    "$$"
   ]
  },
  {
   "cell_type": "markdown",
   "metadata": {},
   "source": [
    "### 1.8.4. Inversa y transpuesta de las TLE\n",
    "<a id='TLE_inversa'></a>"
   ]
  },
  {
   "cell_type": "markdown",
   "metadata": {},
   "source": [
    "Aunque ya habíamos visto en un contexto más físico, cómo se determina la inversa y qué uso tiene la transpuesta de la TLE (para el cálculo de las derivadas), la introducción de la notación de Einstein y los índices covariantes y contravariantes de los cuadrivectores, hacen interesante revisar nuevamente esas cantidades en la nueva notación."
   ]
  },
  {
   "cell_type": "markdown",
   "metadata": {},
   "source": [
    "Partiendo de la TLE original:\n",
    "\n",
    "$$\n",
    "x^{\\mu'}={\\Lambda^{\\mu'}}_{\\mu} x^{\\mu}\n",
    "$$\n",
    "la inversa se escribe como:\n",
    "\n",
    "$$\n",
    "{\\Lambda_{\\mu'}}^{\\mu} x^{\\mu'}=x^\\mu\n",
    "$$\n",
    "donde:\n",
    "\n",
    "$$\n",
    "{\\Lambda_{\\mu'}}^{\\mu}=({\\Lambda^{\\mu'}}_{\\mu})^{-1}\n",
    "$$"
   ]
  },
  {
   "cell_type": "markdown",
   "metadata": {},
   "source": [
    "Por razones físicas sabemos que:\n",
    "\n",
    "$$\n",
    "{\\Lambda_{\\mu'}}^{\\mu}(u_L)={\\Lambda^{\\mu'}}_{\\mu}(-u_L)\n",
    "$$"
   ]
  },
  {
   "cell_type": "markdown",
   "metadata": {},
   "source": [
    "Por otro lado habíamos probado que:\n",
    "\n",
    "$$\n",
    "\\partial_\\mu=({\\Lambda^{\\mu'}}_{\\mu})^\\mathrm{T}\\partial_{\\mu'}\n",
    "$$\n",
    "que se puede escribir más convenientemente como:\n",
    "\n",
    "$$\n",
    "\\partial_\\mu={\\Lambda_{\\mu}}^{\\mu'}\\partial_{\\mu'}\n",
    "$$"
   ]
  },
  {
   "cell_type": "markdown",
   "metadata": {},
   "source": [
    "Podemos resumir entonces la notación de la transformación así:\n",
    "\n",
    "- ${\\Lambda^{\\mu'}}_\\mu$, **transformación original**: el índice $\\mu'$ denota las filas.\n",
    "- ${\\Lambda_{\\mu'}}^\\mu$, **transformación inversa**: se cambian de posición los índices pero $\\mu'$ siguen siendo las filas.\n",
    "- ${\\Lambda_{\\mu}}^{\\mu'}$, **transformación transpuesta**: se transponen los índices y ahora el índice $\\mu$ son las filas."
   ]
  },
  {
   "cell_type": "markdown",
   "metadata": {},
   "source": [
    "### 1.8.5. De las TLE a los tensores\n",
    "<a id='TLE_tensores'></a>"
   ]
  },
  {
   "cell_type": "markdown",
   "metadata": {},
   "source": [
    "Las TLE hacen parte de un conjunto muy general de transformaciones de la forma\n",
    "\n",
    "$$\n",
    "x^{\\mu'}=x^{\\mu'}(x^{\\mu})\n",
    "$$\n",
    "\n",
    "Nótese que en esta *confusa expresión* la $x^{\\mu'}$ a la izquierda y la $x^\\mu$ a la derecha, denotan el *valor* de las componentes de los cuadrivector posición en el sistema primado y no primado (respectivamente), pero la $x^{\\mu'}$ en el lado derecho es una *función escalar*."
   ]
  },
  {
   "cell_type": "markdown",
   "metadata": {},
   "source": [
    "Una transformación general inversa se escribe como:\n",
    "$$\n",
    "x^{\\mu}=x^{\\mu}(x^{\\mu'})\n",
    "$$"
   ]
  },
  {
   "cell_type": "markdown",
   "metadata": {},
   "source": [
    "Reconociendo este hecho y usando la notación de Einstein, la transformación del gradiente se puede escribir con la regla de la cadena como:\n",
    "\n",
    "$$\n",
    "\\frac{\\partial}{\\partial x^{\\mu}}=\\frac{\\partial x^{\\mu'}}{\\partial x^{\\mu}}\\frac{\\partial}{\\partial x^{\\mu'}}\n",
    "$$\n",
    "o bien:\n",
    "\n",
    "$$\n",
    "\\partial_\\mu=\\frac{\\partial x^{\\mu'}}{\\partial x^{\\mu}}\\partial_{\\mu'}\n",
    "$$"
   ]
  },
  {
   "cell_type": "markdown",
   "metadata": {},
   "source": [
    "En el caso de las TLE, terminamos reconociendo que:\n",
    "\n",
    "$$\n",
    "{\\Lambda_\\mu}^{\\mu'}=\\frac{\\partial x^{\\mu'}}{\\partial x^{\\mu}}\n",
    "$$\n",
    "y por lo tanto:\n",
    "\n",
    "$$\n",
    "{\\Lambda^{\\mu'}}_{\\mu}=\\frac{\\partial x^{\\mu}}{\\partial x^{\\mu'}}\n",
    "$$"
   ]
  },
  {
   "cell_type": "markdown",
   "metadata": {},
   "source": [
    "Estas ideas nos permiten introducir una definición general que será de mucha utilidad en lo sucesivo:"
   ]
  },
  {
   "cell_type": "markdown",
   "metadata": {
    "label": "",
    "subtitle": "Tensor de primer rango**. Una cantiad $\\tilde A$, elemento de un espacio vectorial geométrico, es un **tensor de primer rango",
    "tags": [
     "box_definition"
    ],
    "title": "Definición"
   },
   "source": [
    "> **Definición 4.5. Tensor de primer rango**. Una cantiad $\\tilde A$, elemento de un espacio vectorial geométrico, es un **tensor de primer rango.**<a id=''></a> , si bajo una transformación de las coordenadas del espacio $x^{\\mu'}(x^{\\mu})$, sus componentes contravariantes transforman como:\n",
    "\n",
    "> $$\n",
    "  A^{\\mu'}=\\frac{\\partial x^{\\mu'}}{\\partial x^{\\mu}} A^{\\mu}\n",
    "  $$\n",
    "  y sus componentes covariantes lo hacen siguiendo la regla:\n",
    "  \n",
    "  $$\n",
    "  A_{\\mu'}=\\frac{\\partial x^{\\mu}}{\\partial x^{\\mu'}} A_{\\mu}\n",
    "  $$"
   ]
  },
  {
   "cell_type": "markdown",
   "metadata": {},
   "source": [
    "De acuerdo a la definición anterior, la cuadriposición y el cuadrigradiente son tensores de primer rango bajo las TLE."
   ]
  },
  {
   "cell_type": "markdown",
   "metadata": {},
   "source": [
    "No es difícil generalizar este resultado para definir cantidades más generales:"
   ]
  },
  {
   "cell_type": "markdown",
   "metadata": {
    "label": "",
    "subtitle": "Tensor",
    "tags": [
     "box_definition"
    ],
    "title": "Definición"
   },
   "source": [
    "> **Definición 4.6. Tensor.**<a id=''></a> Una cantidad $A$ se llama un tensor, si bajo una transformación de las coordenadas del espacio $x^{\\mu'}(x^{\\mu})$, sus componentes:\n",
    "\n",
    "> $$\n",
    "  A^{\\mu'\\nu'\\cdots(n)}_{\\alpha'\\beta'\\cdots(m)}=\\frac{\\partial x^{\\mu'}}{\\partial x^{\\mu}}\\frac{\\partial x^{\\nu'}}{\\partial x^{\\nu}}\\cdots\\frac{\\partial x^{\\alpha}}{\\partial x^{\\alpha'}}\\frac{\\partial x^{\\beta}}{\\partial x^{\\beta'}}\\cdots A^{\\mu\\nu\\cdots(n)}_{\\alpha\\beta\\cdots(m)}\n",
    "  $$\n",
    "  decimos que es un tensor de rango $n+m$, $n$ veces contravariante y $m$ veces covariante."
   ]
  },
  {
   "cell_type": "markdown",
   "metadata": {},
   "source": [
    "Es importante anotar que esta definición de tensor, es una definición informal muy propia de la física.  Si bien es válida para los casos particulares que usamos en la teoría de la relatividad, en casos más generales debe precirsa mejor.  Una definición rigura y más general puede encontrarse en textos de álgebra multilineal."
   ]
  },
  {
   "cell_type": "markdown",
   "metadata": {},
   "source": [
    "### 1.8.6. Las TLE generales\n",
    "<a id='TLE_generales'></a>"
   ]
  },
  {
   "cell_type": "markdown",
   "metadata": {},
   "source": [
    "Las transformaciones deducidas hasta aquí asumían que la velocidad relativa entre los sistemas de referencia inerciales iba en la dirección del eje x (configuración estándar).  Aunque siempre es posible hacer esa elección, puede ser también común que otras direcciones sean comparativamente importantes para definir nuestro sistema de coordenadas.  Por tal razón tiene mucho interés escribir las TLE cuando $\\vec u$ es arbitraria."
   ]
  },
  {
   "cell_type": "markdown",
   "metadata": {
    "label": "",
    "subtitle": "Transformaciones de Lorentz-Einstein vectoriales",
    "tags": [
     "box_theorem"
    ],
    "title": "Proposición"
   },
   "source": [
    "> **Proposición: Transformaciones de Lorentz-Einstein vectoriales.**<a id=''></a> Si dos sistemas de referencia $O$ y $O'$ tienen velocidad relativa $\\vec u$, sus medidas de espacio y tiempo se relacionan a través de:\n",
    "\n",
    "\\begin{eqnarray}\n",
    "t' & = & \\gamma\\left(t-\\vec{u}_L\\cdot \\vec{r}_L\\right) \\\\\n",
    "\\vec{r}'_L & = & \\vec{r}_L+\\left(\\frac{\\gamma-1}{u_L^2} \\vec{u}_L\\cdot \\vec{r}_L - \\gamma t\\right)\\vec u_L\n",
    "\\end{eqnarray}\n"
   ]
  },
  {
   "cell_type": "markdown",
   "metadata": {},
   "source": [
    "Esta transformación general puede entenderse si se escribe $\\vec r=r_\\parallel \\hat u+r_\\bot \\hat v$, donde $\\hat v\\cdot \\hat u = 0$.  Remplazando, la transformación queda:\n",
    "\n",
    "\\begin{eqnarray}\n",
    "\\nonumber\n",
    "t' & = & \\gamma\\left(t-u_L r_{L\\parallel}\\right) \\\\\n",
    "\\nonumber\n",
    "r'_{L\\parallel} & = & r_{L\\parallel}+\\left(\\frac{\\gamma-1}{u_L^2} u_L r_{L\\parallel} - \\gamma t\\right)u_L \\\\\n",
    "\\nonumber\n",
    " & = & \\gamma(-u_L t + r_{L\\parallel})\\\\\n",
    "\\nonumber\n",
    "r'_{L\\bot} & = & r_{L\\bot} \\\\\n",
    "\\end{eqnarray}\n",
    "que es exactamente la TLE original."
   ]
  },
  {
   "cell_type": "markdown",
   "metadata": {},
   "source": [
    "Es posible probar que las componentes de la matriz de rotación del TLE en el caso general son:\n",
    "\n",
    "\\begin{equation}\n",
    "\\label{eq:TLE_generales}\n",
    "{\\Lambda^{0'}}_0=\\gamma\\\\\n",
    "{\\Lambda^{0'}}_i={\\Lambda^{i'}}_0=-\\gamma u_L^i\\\\\n",
    "{\\Lambda^{i'}}_j=\\delta_{ij}+(\\gamma-1)u_L^i u_L^j / u_L^2\\\\\n",
    "\\end{equation}\n",
    "donde $\\delta_{ij}$ es el delta de Kroenecker:\n",
    "\n",
    "$$\n",
    "\\delta_{ij}=\n",
    "\\left\\{\n",
    "\\begin{array}{ll}\n",
    "1 & \\mathrm{Si}\\;i=j\\\\\n",
    "0 & \\mathrm{Si}\\;i\\neq j\\\\\n",
    "\\end{array}\n",
    "\\right.\n",
    "$$\n"
   ]
  },
  {
   "cell_type": "markdown",
   "metadata": {
    "tags": [
     "navigation"
    ]
   },
   "source": [
    "[Indice](index.ipynb) | Previo: [RelatividadEspecial.TransformacionesLorentzEinstein](01.02.00.00.RelatividadEspecial.TransformacionesLorentzEinstein.ipynb) | Siguiente: [RelatividadEspecial.TransformacionesLorentzEinstein.Numericas](01.02.02.00.RelatividadEspecial.TransformacionesLorentzEinstein.Numericas.ipynb)"
   ]
  }
 ],
 "metadata": {
  "celltoolbar": "Tags",
  "kernelspec": {
   "display_name": "Python 3",
   "language": "python",
   "name": "python3"
  },
  "language_info": {
   "codemirror_mode": {
    "name": "ipython",
    "version": 3
   },
   "file_extension": ".py",
   "mimetype": "text/x-python",
   "name": "python",
   "nbconvert_exporter": "python",
   "pygments_lexer": "ipython3",
   "version": "3.6.8"
  }
 },
 "nbformat": 4,
 "nbformat_minor": 2
}
