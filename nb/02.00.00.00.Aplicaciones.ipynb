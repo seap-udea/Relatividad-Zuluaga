{
 "cells": [
  {
   "cell_type": "markdown",
   "metadata": {
    "tags": [
     "navigation"
    ]
   },
   "source": [
    "[Indice](index.ipynb) | Previo: [RelatividadGeneral.EcuacionCampoMetrico](01.09.00.00.RelatividadGeneral.EcuacionCampoMetrico.ipynb) | Siguiente: [Aplicaciones.OndasGravitacionales](02.01.00.00.Aplicaciones.OndasGravitacionales.ipynb)"
   ]
  },
  {
   "cell_type": "markdown",
   "metadata": {},
   "source": [
    "# 2. Aplicaciones de la relatividad general\n",
    "<a id='aplicaciones_rgeneral'></a>"
   ]
  },
  {
   "cell_type": "markdown",
   "metadata": {
    "label": "",
    "subtitle": "",
    "tags": [
     "box_summary"
    ],
    "title": "Resumen"
   },
   "source": [
    "> **Resumen:**<a id=''></a> Después de deducir el formalismo básico de la relatividad general, procederemos en este capítulo a usarlo para estudiar problemas concretos y hacer las predicciones más importantes de la teoría general de la relatividad."
   ]
  },
  {
   "cell_type": "markdown",
   "metadata": {},
   "source": [
    "Nos concentraremos aquí en tres aplicaciones importantes:\n",
    "\n",
    "- **Ondas gravitacionales**. La predicción de la existencia de ondas gravitacionales y la descripción de algunas de sus propiedades básicas es una de las más interesantes y poco triviales predicciones de la teoría general de la relatividad.  Aquí estudiaremos algunos aspectos básicos de la teoría (un tratamiento riguroso y en detalle esta más allá del nivel de este curso), concentrándonos en ofrecer las bases para un estudio más detallado y para predecir las propiedades específicas de sistemas que emiten ondas gravitacionales en el universo."
   ]
  },
  {
   "cell_type": "markdown",
   "metadata": {},
   "source": [
    "- **Solución de Schwarzschild y agujeros negros**. La métrica de Schwarzschild es una de las únicas soluciones analíticas que se conocen de la ecuación de campo métrico.  Describe la geometría del espacio-tiempo en el exterior de un objeto con simetría esférica.  Deduciremos aquí la métrica y estudiaremos el movimiento de partículas de prueba en este espacio-tiempo.  En particular con estos datos predeciremos las propiedades de los agujeros negros."
   ]
  },
  {
   "cell_type": "markdown",
   "metadata": {},
   "source": [
    "- **La métrica de Friedmann-Robertson-Walker**.  Otra de las soluciones analíticas a la ecuación de campo métrico es la que describe un universo homogéneo e isotrópico.  Esta solución fue también obtenida muy poco tiempo después del surgimiento de la relatividad.  Aquí deduciremos esta solución y un conjunto muy importante de ecuaciones relacionadas que se conocen como las ecuaciones de Friedmann y que describen la dinámica del universo en expansión y su relación con el contenido (y tipo) de masa energía. Estudiaremos las propiedades de la métrica y sus predicciones respecto al Universo."
   ]
  },
  {
   "cell_type": "markdown",
   "metadata": {},
   "source": [
    "El orden que seguiremos no es el orden convencional.  Hemos decidido concentrarnos en los temas de mayor actualidad en el momento."
   ]
  },
  {
   "cell_type": "markdown",
   "metadata": {
    "tags": [
     "navigation"
    ]
   },
   "source": [
    "[Indice](index.ipynb) | Previo: [RelatividadGeneral.EcuacionCampoMetrico](01.09.00.00.RelatividadGeneral.EcuacionCampoMetrico.ipynb) | Siguiente: [Aplicaciones.OndasGravitacionales](02.01.00.00.Aplicaciones.OndasGravitacionales.ipynb)"
   ]
  }
 ],
 "metadata": {
  "celltoolbar": "Tags",
  "kernelspec": {
   "display_name": "Python 3",
   "language": "python",
   "name": "python3"
  },
  "language_info": {
   "codemirror_mode": {
    "name": "ipython",
    "version": 3
   },
   "file_extension": ".py",
   "mimetype": "text/x-python",
   "name": "python",
   "nbconvert_exporter": "python",
   "pygments_lexer": "ipython3",
   "version": "3.6.8"
  }
 },
 "nbformat": 4,
 "nbformat_minor": 2
}
