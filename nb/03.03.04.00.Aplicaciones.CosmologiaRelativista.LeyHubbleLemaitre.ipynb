{
 "cells": [
  {
   "cell_type": "markdown",
   "metadata": {
    "tags": [
     "navigation"
    ]
   },
   "source": [
    "[Indice](index.ipynb) | Previo: [Aplicaciones.CosmologiaRelativista.DensidadCosmica](03.03.03.00.Aplicaciones.CosmologiaRelativista.DensidadCosmica.ipynb) | Siguiente: [Apendices.CodigosUtiles](04.01.00.00.Apendices.CodigosUtiles.ipynb)"
   ]
  },
  {
   "cell_type": "markdown",
   "metadata": {},
   "source": [
    "### 3.3.12. Corrimiento cosmológico\n",
    "<a id='corrimiento_cosmologico'></a>"
   ]
  },
  {
   "cell_type": "markdown",
   "metadata": {},
   "source": [
    "¿Cómo puede el modelo de universo que hemos descrito hasta ahora explicar la ley de Hubble-Lemaitre del corrimiento al rojo?"
   ]
  },
  {
   "cell_type": "markdown",
   "metadata": {},
   "source": [
    "Para explicar esta ley asumamos que tenemos una fuente remota de luz, que emite un pulsos $t=t_e$.  El pulso es recibido por el observador remoto en $t=t_0$.  Los pulsos viajan a lo largo de una geodésica nula en dirección radial hacia el observador (que esta en el origen).  La distancia espacio temporal entre los dos eventos será de acuerdo a la métrica de Robertson-Walker:\n",
    "\n",
    "$$\n",
    "0=c^2\\mathrm{d}t^2-a(t)^2\\mathrm{d}\\chi^2\n",
    "$$"
   ]
  },
  {
   "cell_type": "markdown",
   "metadata": {},
   "source": [
    "De aquí podemos expresar la coordenada $\\chi$ del observador integrando como:\n",
    "\n",
    "$$\n",
    "\\chi=\\int_{t_e}^{t_0}\\frac{c\\mathrm{d}t}{a(t)}\n",
    "$$"
   ]
  },
  {
   "cell_type": "markdown",
   "metadata": {},
   "source": [
    "Supongamos ahora que la fuente emite un segundo pulso un tiempo muy pequeño $\\Delta t_e$ después que emitierá el primero (de modo que podamos asumir que el factor de escala no cambio significativamente en ese mismo tiempo).  El observador remoto recibe el pulso un tiempo $\\Delta t_0$ después de recibir el primero.  Como los observadores no se mueven (son comoviles o fundamentales), su coordenada $\\chi$ no habrá cambiado:\n",
    "\n",
    "$$\n",
    "\\chi=\\int_{t_e+\\Delta t_e}^{t_0+\\Delta t_0}\\frac{c\\mathrm{d}t}{a(t)}\n",
    "$$"
   ]
  },
  {
   "cell_type": "markdown",
   "metadata": {},
   "source": [
    "Esta última integral se puede escribir como:\n",
    "\n",
    "$$\n",
    "\\chi=-\\int_{t_e-\\Delta t_e}^{t_e}\\frac{c\\mathrm{d}t}{a(t)}+\\int_{t_e}^{t_0}\\frac{c\\mathrm{d}t}{a(t)}+\\int_{t_0}^{t_0+\\Delta t_0}\\frac{c\\mathrm{d}t}{a(t)}\n",
    "$$"
   ]
  },
  {
   "cell_type": "markdown",
   "metadata": {},
   "source": [
    "Pero dado que también $\\chi=\\int_{t_e}^{t_0}\\mathrm{d}t/a$, concluímos que:\n",
    "\n",
    "$$\n",
    "\\int_{t_0}^{t_0+\\Delta t_0}\\frac{c\\mathrm{d}t}{a(t)}-\\int_{t_e-\\Delta t_e}^{t_e}\\frac{c\\mathrm{d}t}{a(t)}=0\n",
    "$$"
   ]
  },
  {
   "cell_type": "markdown",
   "metadata": {},
   "source": [
    "Esta ecuación integral permite encontrar la relación entre el $\\Delta t_0$ observador y el $\\Delta t_e$ en la fuente. "
   ]
  },
  {
   "cell_type": "markdown",
   "metadata": {},
   "source": [
    "Si asumimos que ambos $\\Delta t$ son mucho menores que la escala de tiempo en la que cambia el factor de escala $a(t)$ (escalas de tiempo de la evolución cosmológica que son del orden de los miles de millones de años) entonces podemos asumir que $a(t)$ es constante en las integrales, de donde resulta la relación:\n",
    "\n",
    "$$\n",
    "\\frac{c\\Delta t_0}{a(t_0)}\\approx\\frac{c\\Delta t_e}{a(t_e)}\n",
    "$$\n",
    "o bien:\n",
    "\n",
    "$$\n",
    "\\Delta t_0 \\approx \\frac{a(t_0)}{a(t_e)} \\Delta t_e\n",
    "$$"
   ]
  },
  {
   "cell_type": "markdown",
   "metadata": {},
   "source": [
    "En un universo en expansión $a(t_0)>a(t_e)$ de modo que $\\Delta t_0>\\Delta t_e$ y por lo tanto el tiempo parece dilatarse cuando miramos a lo lejos.  Llamamos a este fenómeno **dilatación del tiempo cosmológica**. "
   ]
  },
  {
   "cell_type": "markdown",
   "metadata": {},
   "source": [
    "<a id='fig:Figure_67'></a>![Dilatación del tiempo cosmológica](./figures/horizontal-supernova-dilation.png)\n",
    "\n",
    "<center><b>Figura 3.67</b>. Dilatación del tiempo cosmológica</center>"
   ]
  },
  {
   "cell_type": "markdown",
   "metadata": {},
   "source": [
    "Si asumimos que $\\Delta t$ es el período de una onda entonces podemos escribir su longitud de onda como:\n",
    "\n",
    "$$\n",
    "\\lambda=c\\Delta t\n",
    "$$\n",
    "y la ecuación de dilatación del tiempo se convierte en una ecuación de alargamiento de las longitudes de onda:\n",
    "\n",
    "$$\n",
    "\\lambda_0 \\approx \\frac{a(t_0)}{a(t_e)}\\lambda_e\n",
    "$$"
   ]
  },
  {
   "cell_type": "markdown",
   "metadata": {},
   "source": [
    "Que se puede escribir en términos del corrimiento al rojo como:\n",
    "\n",
    "$$\n",
    "z\\approx \\frac{a(t_0)}{a(t_e)} - 1\n",
    "$$"
   ]
  },
  {
   "cell_type": "markdown",
   "metadata": {},
   "source": [
    "Dado que para todos los propósitos las observaciones que realizamos involucran radiación con períodos extremadamente cortos se acostumbra cambiar el aproximado por un igual (pero no debe olvidarse que es una aproximación) y a ecuación se extresa normalmente como:\n",
    "\n",
    "$$\n",
    "z=\\frac{a_0}{a}-1\n",
    "$$\n",
    "o bien:\n",
    "\n",
    "$$\n",
    "\\frac{a}{a_0}=\\frac{1}{1+z}\n",
    "$$"
   ]
  },
  {
   "cell_type": "markdown",
   "metadata": {},
   "source": [
    "### 3.3.13. La ley de Hubble-Lemaitre y la densidad crítica\n",
    "<a id='hubble_lemaitre'></a>"
   ]
  },
  {
   "cell_type": "markdown",
   "metadata": {},
   "source": [
    "En el apartado anterior expresamos el corrimiento cosmológico como función del factor de escala pero ¿cuál es su relación con la distancia?"
   ]
  },
  {
   "cell_type": "markdown",
   "metadata": {},
   "source": [
    "A distancias cortas el factor de escala se puede escribir como:\n",
    "\n",
    "$$\n",
    "a(t)=a(t_0)-\\dot{a}(t_0)\\Delta t+\\frac{1}{2!}\\ddot{a}(t_0)\\Delta t^2+{\\cal O}(\\dddot{a}\\Delta t^3) \n",
    "$$\n",
    "o bien:\n",
    "\n",
    "$$\n",
    "\\frac{a(t)}{a(t_0)}=1-\\frac{\\dot{a}(t_0)}{a(t_0)}\\Delta t+\\frac{1}{2!}\\frac{\\ddot{a}(t_0)}{a(t_0)}\\Delta t^2+{\\cal O}\\left(\\frac{\\dddot{a}\\Delta t^3}{a}\\right) \n",
    "$$"
   ]
  },
  {
   "cell_type": "markdown",
   "metadata": {},
   "source": [
    "La inversa de esta serie se puede escribir como:\n",
    "\n",
    "$$\n",
    "\\frac{a(t_0)}{a(t)}=1+\\frac{\\dot{a}(t_0)}{a(t_0)}\\Delta t+{\\cal O}\\left(\\frac{\\ddot{a}\\Delta t^2}{a}\\right) \n",
    "$$"
   ]
  },
  {
   "cell_type": "markdown",
   "metadata": {},
   "source": [
    "De allí que el corrimiento al rojo se puede escribir como:\n",
    "\n",
    "$$\n",
    "z\\approx \\frac{\\dot{a}(t_0)}{a(t_0)}\\Delta t_e\n",
    "$$"
   ]
  },
  {
   "cell_type": "markdown",
   "metadata": {},
   "source": [
    "A distancias pequeñas se cumple que $D\\approx c\\Delta t$ (distancia de viaje de la luz) y por lo tanto a primer orden en $\\Delta t$ la relación se puede escribir como:\n",
    "\n",
    "$$\n",
    "z\\approx \\frac{1}{c}\\left(\\frac{\\dot{a}(t_0)}{a(t_0)}\\right)D\n",
    "$$"
   ]
  },
  {
   "cell_type": "markdown",
   "metadata": {},
   "source": [
    "Aquí vemos entonces que lo que llamamos el parámetro de Hubble $H_0$ no es otra cosa que:\n",
    "\n",
    "$$\n",
    "H_0=\\frac{\\dot{a}(t_0)}{a(t_0)}\n",
    "$$"
   ]
  },
  {
   "cell_type": "markdown",
   "metadata": {},
   "source": [
    "#### 3.3.13.1. Densidad crítica\n",
    "<a id='densidad_critica'></a>"
   ]
  },
  {
   "cell_type": "markdown",
   "metadata": {},
   "source": [
    "Una vez hechos estos razonamientos podemos concluir que el valor presente de la densidad crítica es entonces:\n",
    "\n",
    "$$\n",
    "\\rho_{c0}=\\frac{3H_0^2}{8\\pi G}=9.22\\times 10^{-27}h_{70}^2\\;\\mathrm{kg}\\;\\mathrm{m}^{-3}\n",
    "$$"
   ]
  },
  {
   "cell_type": "markdown",
   "metadata": {},
   "source": [
    "Con este valor de la densidad crítica podemos calcular el valor del parámetro $\\Omega$ para los bariones y la materia oscura:\n",
    "\n",
    "$$\n",
    "\\begin{array}{rcl}\n",
    "\\Omega_B & = & 0.0484\\\\\n",
    "\\Omega_{DM} & = & 0.258\\\\\n",
    "\\end{array}\n",
    "$$"
   ]
  },
  {
   "cell_type": "markdown",
   "metadata": {},
   "source": [
    "Por lo que el parámetro $\\Omega$ para la materia en el universo resulta ser:\n",
    "\n",
    "$$\n",
    "\\Omega_{M}=0.3064\n",
    "$$"
   ]
  },
  {
   "cell_type": "markdown",
   "metadata": {
    "label": "",
    "subtitle": "El problema de la planitud.",
    "tags": [
     "box_note"
    ],
    "title": "Nota"
   },
   "source": [
    "> **Nota: El problema de la planitud..**<a id=''></a> El valor del parametro $\\Omega$ para la materia está suficientemente cerca a 1 como para producir problemas.  Una sencilla manipulación algebraica de la ecuación conduce a la expresión:\n",
    "\n",
    "> $$\n",
    "  (\\Omega^{-1}-1)\\rho a^2 = -\\frac{3kc^2}{8\\pi G}\n",
    "  $$\n",
    "  \n",
    "> Si asumimos $\\rho=\\rho_0(a_0/a)^n$ entonces:\n",
    "> $$\n",
    "  (\\Omega^{-1}-1) = -\\frac{3kc^2}{8\\pi G\\rho_0 a_0^n}a^{n-2}\n",
    "  $$\n",
    "\n",
    "> Si $n>2$ (como sucede con todas las formas de materia-energía convencionales - excepto la energía oscura) entonces en el límite:\n",
    "\n",
    "> $$\n",
    "  \\lim_{a\\rightarrow 0}\\;(\\Omega^{-1}-1)=0^{\\pm}\n",
    "  $$\n",
    "> donde el $\\pm$ significa que la expresión se aproxima a cero por encima o por debajo dependiendo del signo inicial de $k$.\n",
    "\n",
    "> 0 bien:\n",
    "> $$\n",
    "  \\lim_{a\\rightarrow 0} \\Omega = 1^{\\pm}\n",
    "  $$\n",
    "\n",
    "> Si el universo empieza con un valor ligeramente diferente de 1 con la expansión el valor diferira de esa cantidad muy rápidamente (como $a^{n-2}$).  Esto implica que de tener el universo una geometría abierta o cerrada al principio, hoy el valor del parámetro $\\Omega$ sería significativamente diferente de 1.\n",
    "\n",
    "> Pero el valor de $\\Omega$ es muy cercana a 1 (si asumimos que solo hay materia en el universo).  Esto lleva a pensar que en realidad el universo comenzó con valor de $\\Omega$ tan cercano a 1 que no tendría sentido asumir que pudo formarse al azar con un valor así.  Por eso algunos asumen que en realidad $\\Omega=1$ y ha sido así desde el principio.\n",
    "\n",
    "> Si este es el caso la única posibilidad es que:\n",
    "\n",
    "> $$\\Omega_\\Lambda = 1 - \\Omega_M = 0.6936$$ "
   ]
  },
  {
   "cell_type": "markdown",
   "metadata": {
    "tags": [
     "navigation"
    ]
   },
   "source": [
    "[Indice](index.ipynb) | Previo: [Aplicaciones.CosmologiaRelativista.DensidadCosmica](03.03.03.00.Aplicaciones.CosmologiaRelativista.DensidadCosmica.ipynb) | Siguiente: [Apendices.CodigosUtiles](04.01.00.00.Apendices.CodigosUtiles.ipynb)"
   ]
  }
 ],
 "metadata": {
  "celltoolbar": "Tags",
  "kernelspec": {
   "display_name": "Python 3",
   "language": "python",
   "name": "python3"
  },
  "language_info": {
   "codemirror_mode": {
    "name": "ipython",
    "version": 3
   },
   "file_extension": ".py",
   "mimetype": "text/x-python",
   "name": "python",
   "nbconvert_exporter": "python",
   "pygments_lexer": "ipython3",
   "version": "3.6.8"
  }
 },
 "nbformat": 4,
 "nbformat_minor": 2
}
