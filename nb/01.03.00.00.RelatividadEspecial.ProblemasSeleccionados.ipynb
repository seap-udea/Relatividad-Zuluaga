{
 "cells": [
  {
   "cell_type": "markdown",
   "metadata": {
    "tags": [
     "navigation"
    ]
   },
   "source": [
    "[Indice](index.ipynb) | Previo: [RelatividadEspecial.TransformacionesLorentzEinstein.Consecuencias](01.02.02.00.RelatividadEspecial.TransformacionesLorentzEinstein.Consecuencias.ipynb) | "
   ]
  },
  {
   "cell_type": "markdown",
   "metadata": {},
   "source": [
    "## 1.9. Problemas Seleccionados\n",
    "<a id='especial_problemas'></a>"
   ]
  },
  {
   "cell_type": "markdown",
   "metadata": {
    "tags": [
     "problem"
    ]
   },
   "source": [
    "1.  **Demostración de las derivadas**. Demostrar que las derivadas parciales respecto a las coordenadas del espacio-tiempo transforman como:\n",
    "\n",
    "   $$\n",
    "   \\frac{\\partial}{\\partial x^{\\mu'}}=\\Lambda^{\\nu}_{\\mu'} \\frac{\\partial}{\\partial x^{\\nu}}\n",
    "   $$"
   ]
  }
 ],
 "metadata": {
  "kernelspec": {
   "display_name": "Python 3",
   "language": "python",
   "name": "python3"
  },
  "language_info": {
   "codemirror_mode": {
    "name": "ipython",
    "version": 3
   },
   "file_extension": ".py",
   "mimetype": "text/x-python",
   "name": "python",
   "nbconvert_exporter": "python",
   "pygments_lexer": "ipython3",
   "version": "3.6.8"
  },
  "mybook": {
   "type": "problems:0"
  }
 },
 "nbformat": 4,
 "nbformat_minor": 2
}
