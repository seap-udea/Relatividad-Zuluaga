{
 "cells": [
  {
   "cell_type": "markdown",
   "metadata": {},
   "source": [
    "# Tiempo de viaje de una nave interestelar"
   ]
  },
  {
   "cell_type": "markdown",
   "metadata": {},
   "source": [
    "Por: [Jorge I. Zuluaga](mailto:jorge.zuluaga@udea.edu.co), Instituto de Física, Universidad de Antioquia"
   ]
  },
  {
   "cell_type": "code",
   "execution_count": 6,
   "metadata": {},
   "outputs": [],
   "source": [
    "%matplotlib nbagg"
   ]
  },
  {
   "cell_type": "code",
   "execution_count": 9,
   "metadata": {
    "code_folding": [
     0,
     66
    ],
    "codelabel": "fig:01.05.00.00.RelatividadEspecial.CinematicaRelativista_13",
    "codeplot": 1,
    "figcaption": "<b>Figura 1.13.</b> ",
    "tags": [
     "hide_html"
    ]
   },
   "outputs": [
    {
     "data": {
      "application/vnd.jupyter.widget-view+json": {
       "model_id": "2e6a7ec9af8949cba66fd35144e51f0f",
       "version_major": 2,
       "version_minor": 0
      },
      "text/plain": [
       "interactive(children=(FloatSlider(value=9.8, continuous_update=False, description='g', max=20.0, min=0.1, step…"
      ]
     },
     "metadata": {},
     "output_type": "display_data"
    }
   ],
   "source": [
    "def viaje_interestelar(g=9.8):\n",
    "    from numpy import sinh,cosh,tanh\n",
    "\n",
    "    #Velocidad de la luz\n",
    "    c=3e8 #m/s\n",
    "\n",
    "    #Aceleración\n",
    "    alphaL=g/c #1/s-l\n",
    "\n",
    "    #Distancia a recorrer\n",
    "    year=365.25*86400 # segundos\n",
    "    xL=4*year #s-l\n",
    "\n",
    "    #Tiempo propio\n",
    "    from numpy import arccosh\n",
    "    tau=arccosh(alphaL*xL+1)/alphaL #s\n",
    "\n",
    "    #Tiempo coordenado\n",
    "    from numpy import sinh\n",
    "    t=(1/alphaL)*sinh(alphaL*tau) #s\n",
    "\n",
    "    #Velocidad al llegar\n",
    "    from numpy import sinh\n",
    "    vL=tanh(alphaL*tau) # u.l.\n",
    "    \n",
    "    #Tiempos propios\n",
    "    from numpy import linspace\n",
    "    taus=linspace(0,tau,1000)\n",
    "\n",
    "    #Solución\n",
    "    ts=(1/alphaL)*sinh(alphaL*taus)\n",
    "    xLs=(1/alphaL)*(cosh(alphaL*taus)-1)\n",
    "    vLs=tanh(alphaL*taus)\n",
    "\n",
    "    #Gráfico\n",
    "    import matplotlib.pyplot as plt\n",
    "    fig,axs=plt.subplots(1,2,figsize=(8,4))\n",
    "    ax=axs[0]\n",
    "    ax.plot(ts/year,xLs/year)\n",
    "\n",
    "    #Decoración\n",
    "    rang=ts.max()/year\n",
    "    ax.set_xlim(0,rang)\n",
    "    ax.set_ylim(0,rang)\n",
    "    ax.plot([0,rang],[0,rang],'k--')\n",
    "    ax.set_xlabel(\"$t$\");\n",
    "    ax.set_ylabel(\"$x_L$\");\n",
    "    ax.text(0.1,0.9,f\"$\\\\tau$ = {tau/year:.5g} años\",transform=ax.transAxes)\n",
    "    ax.text(0.1,0.8,f\"$t$ = {t/year:.5g} años\",transform=ax.transAxes)\n",
    "    ax.grid();\n",
    "    \n",
    "    #Velocidad\n",
    "    ax=axs[1]\n",
    "    ax.plot(ts/year,vLs)\n",
    "\n",
    "    #Decoracion\n",
    "    ax.set_xlabel(\"$t$ (años)\");\n",
    "    ax.set_ylabel(\"$v/c$\");\n",
    "    ax.set_xlim(0,rang)\n",
    "    ax.set_ylim(0,1)\n",
    "    ax.grid();\n",
    "    \n",
    "    fig.tight_layout();\n",
    "    \n",
    "from ipywidgets import interact,fixed,widgets\n",
    "opciones=dict(continuous_update=False)\n",
    "interact(viaje_interestelar,\n",
    "         g=widgets.FloatSlider(value=9.8,min=0.1,max=20,step=0.01,**opciones),\n",
    "        );"
   ]
  }
 ],
 "metadata": {
  "celltoolbar": "Tags",
  "kernelspec": {
   "display_name": "Python 3",
   "language": "python",
   "name": "python3"
  },
  "language_info": {
   "codemirror_mode": {
    "name": "ipython",
    "version": 3
   },
   "file_extension": ".py",
   "mimetype": "text/x-python",
   "name": "python",
   "nbconvert_exporter": "python",
   "pygments_lexer": "ipython3",
   "version": "3.6.8"
  }
 },
 "nbformat": 4,
 "nbformat_minor": 2
}
