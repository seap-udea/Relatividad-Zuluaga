{
 "cells": [
  {
   "cell_type": "markdown",
   "metadata": {
    "tags": [
     "navigation"
    ]
   },
   "source": [
    "[Indice](index.ipynb) | Previo: [Aplicaciones.OndasGravitacionales.Emision](03.01.06.00.Aplicaciones.OndasGravitacionales.Emision.ipynb) | "
   ]
  },
  {
   "cell_type": "markdown",
   "metadata": {},
   "source": [
    "### 3.1.22. Síntesis de emisión de ondas gravitacionales\n",
    "<a id='fuentes_gw'></a>"
   ]
  },
  {
   "cell_type": "markdown",
   "metadata": {},
   "source": [
    "Una vez entendidos los elementos físicos básicos de la descripción, detección y emisión de ondas gravitacionales podemos ahora tratar de predecir las señales que esperaríamos de distintas fuentes astrofísicas."
   ]
  },
  {
   "cell_type": "markdown",
   "metadata": {},
   "source": [
    "Habíamos deducido que en la aproximación de longitud de onda larga y observación lejana, la perturbación métrica producida por una fuente con segundo momento de masa $I^{ij}(t)$ es:\n",
    "\n",
    "$$\n",
    "\\bar{h}^{ij}_\\mathrm{far}(t,\\vec{r})=\\frac{2G}{c^4 r}\\ddot{I}^{ij}(ct-r)\n",
    "$$\n",
    "donde:\n",
    "\n",
    "$$\n",
    "I^{ij}(t)=\\int \\rho_0(t,\\vec{r}') x'^i x'^j\\;\\mathrm{d}V'\n",
    "$$"
   ]
  },
  {
   "cell_type": "markdown",
   "metadata": {},
   "source": [
    "Por otro lado, la potencia total raiada por un distema que tiene tensor de momento cuadrupolar $Q^{ij}$ esta dado por:\n",
    "\n",
    "$$\n",
    "L_\\mathrm{GW}=\\frac{1}{5}\\frac{G}{c^5}\\langle \\dddot{Q}^{ij}\\dddot{Q}_{ij}\\rangle\n",
    "$$\n",
    "donde:\n",
    "\n",
    "$$\n",
    "Q^{ij}(t)\\equiv I^{ij}(t)-\\frac{1}{3}\\delta^{ij}{I^k}_k(t)\n",
    "$$"
   ]
  },
  {
   "cell_type": "markdown",
   "metadata": {},
   "source": [
    "Finalmente puede sernos de utilidad el estimativo que presentamos de la densidad de energía en una de los modos de polarización de una onda gravitacional plana:\n",
    "\n",
    "$$\n",
    "\\varepsilon_\\mathrm{GW}=\\frac{c^2}{32\\pi G}(a\\omega)^2\n",
    "$$\n",
    "que corresponde a un flujo:\n",
    "\n",
    "$$\n",
    "J_\\mathrm{GW}=\\frac{c^3}{32\\pi G}(a\\omega)^2\n",
    "$$"
   ]
  },
  {
   "cell_type": "markdown",
   "metadata": {},
   "source": [
    "Con estas cantidades a la mano nos proponemos predecir algunas propiedades básicas de la radiación producida por distintas fuentes astrofísicas."
   ]
  },
  {
   "cell_type": "markdown",
   "metadata": {},
   "source": [
    "### 3.1.23. Radiación gravitacional de estrellas y discos rotantes\n",
    "<a id='estrellas_rotantes_gw'></a>"
   ]
  },
  {
   "cell_type": "markdown",
   "metadata": {},
   "source": []
  },
  {
   "cell_type": "markdown",
   "metadata": {},
   "source": [
    "### 3.1.24. Radiación gravitacional de sistemas binarios\n",
    "<a id='binarias_gw'></a>"
   ]
  },
  {
   "cell_type": "markdown",
   "metadata": {},
   "source": []
  },
  {
   "cell_type": "markdown",
   "metadata": {},
   "source": [
    "### 3.1.25. Decaimiento orbital de sistemas binarios\n",
    "<a id='decaimiento_binarias_gw'></a>"
   ]
  },
  {
   "cell_type": "markdown",
   "metadata": {},
   "source": []
  },
  {
   "cell_type": "markdown",
   "metadata": {},
   "source": [
    "### 3.1.26. Frecuencias y amplitudes de otras fuentes astrofísica\n",
    "<a id='otras_fuentes_gw'></a>"
   ]
  },
  {
   "cell_type": "markdown",
   "metadata": {},
   "source": []
  }
 ],
 "metadata": {
  "kernelspec": {
   "display_name": "Python 3",
   "language": "python",
   "name": "python3"
  },
  "language_info": {
   "codemirror_mode": {
    "name": "ipython",
    "version": 3
   },
   "file_extension": ".py",
   "mimetype": "text/x-python",
   "name": "python",
   "nbconvert_exporter": "python",
   "pygments_lexer": "ipython3",
   "version": "3.6.8"
  }
 },
 "nbformat": 4,
 "nbformat_minor": 2
}
