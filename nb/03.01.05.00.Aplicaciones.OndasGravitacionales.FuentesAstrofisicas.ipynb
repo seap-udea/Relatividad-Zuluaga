{
 "cells": [
  {
   "cell_type": "markdown",
   "metadata": {
    "tags": [
     "navigation"
    ]
   },
   "source": [
    "[Indice](index.ipynb) | Previo: [Aplicaciones.OndasGravitacionales.Emision](03.01.04.00.Aplicaciones.OndasGravitacionales.Emision.ipynb) | Siguiente: [Aplicaciones.AgujerosNegros](03.02.00.00.Aplicaciones.AgujerosNegros.ipynb)"
   ]
  },
  {
   "cell_type": "markdown",
   "metadata": {},
   "source": [
    "### 3.1.14. Síntesis de emisión de ondas gravitacionales\n",
    "<a id='fuentes_gw'></a>"
   ]
  },
  {
   "cell_type": "markdown",
   "metadata": {},
   "source": [
    "Una vez entendidos los elementos físicos básicos de la descripción, detección y emisión de ondas gravitacionales podemos ahora tratar de predecir las señales que esperaríamos de distintas fuentes astrofísicas."
   ]
  },
  {
   "cell_type": "markdown",
   "metadata": {},
   "source": [
    "Habíamos deducido que en la aproximación de longitud de onda larga y observación lejana, la perturbación métrica producida por una fuente con segundo momento de masa $I^{ij}(t)$ es:\n",
    "\n",
    "$$\n",
    "\\bar{h}^{ij}_\\mathrm{far}(t,\\vec{r})=\\frac{2G}{c^4 r}\\ddot{I}^{ij}(ct-r)\n",
    "$$\n",
    "donde:\n",
    "\n",
    "$$\n",
    "I^{ij}(t)=\\int \\rho_0(t,\\vec{r}') x'^i x'^j\\;\\mathrm{d}V'\n",
    "$$"
   ]
  },
  {
   "cell_type": "markdown",
   "metadata": {},
   "source": [
    "Este resultado implica que en el caso de una fuente de ondas gravitacionales, la perturbación métrica varía predeciblemente como:\n",
    "\n",
    "$$\n",
    "\\bar{h}^{ij}_\\mathrm{far}(r)=\\bar{h}^{ij}_\\mathrm{far}(r_0)\\left(\\frac{r_0}{r}\\right)\n",
    "$$"
   ]
  },
  {
   "cell_type": "markdown",
   "metadata": {},
   "source": [
    "Por otro lado, la potencia total raiada por un distema que tiene tensor de momento cuadrupolar $Q^{ij}$ esta dado por:\n",
    "\n",
    "$$\n",
    "L_\\mathrm{GW}=\\frac{1}{5}\\frac{G}{c^5}\\langle \\dddot{Q}^{ij}\\dddot{Q}_{ij}\\rangle\n",
    "$$\n",
    "donde:\n",
    "\n",
    "$$\n",
    "Q^{ij}(t)\\equiv I^{ij}(t)-\\frac{1}{3}\\delta^{ij}{I^k}_k(t)\n",
    "$$"
   ]
  },
  {
   "cell_type": "markdown",
   "metadata": {},
   "source": [
    "Finalmente puede sernos de utilidad el estimativo que presentamos de la densidad de energía en una de los modos de polarización de una onda gravitacional plana:\n",
    "\n",
    "$$\n",
    "\\varepsilon_\\mathrm{GW}=\\frac{c^2}{32\\pi G}(a\\omega)^2\n",
    "$$\n",
    "que corresponde a un flujo:\n",
    "\n",
    "$$\n",
    "J_\\mathrm{GW}=\\frac{c^3}{32\\pi G}(a\\omega)^2\n",
    "$$"
   ]
  },
  {
   "cell_type": "markdown",
   "metadata": {},
   "source": [
    "Con estas cantidades a la mano nos proponemos predecir algunas propiedades básicas de la radiación producida por distintas fuentes astrofísicas."
   ]
  },
  {
   "cell_type": "markdown",
   "metadata": {},
   "source": [
    "### 3.1.15. Estimaciones de la intensidad y la frecuencia\n",
    "<a id='estimaciones_intensidadf_gw'></a>"
   ]
  },
  {
   "cell_type": "markdown",
   "metadata": {},
   "source": [
    "Uno de los problemas más interesantes para resolver en la astrofísica de las ondas gravitacionales es la estimación de la intensidad y la frecuencia que tendrán las ondas emitidas por distintas fuentes astrofísicas."
   ]
  },
  {
   "cell_type": "markdown",
   "metadata": {},
   "source": [
    "Después de la detección de las primeras ondas gravitacionales entre los años 2015 y 2016 pudimos hacernos a una idea de si nuestras estimaciones previas habían sido correctas o no.  "
   ]
  },
  {
   "cell_type": "markdown",
   "metadata": {},
   "source": [
    "#### 3.1.15.1. Primera fuente de radiación gravitacional detectada\n",
    "<a id='primera_fuente_gw'></a>"
   ]
  },
  {
   "cell_type": "markdown",
   "metadata": {},
   "source": [
    "Consideremos por ejemplo el caso de la primera fuente de radiación gravitacional que detectamos, GW150914.  Los análisis de la señal permitieron establecer que fue producida por la coalescencia de dos agujeros negros con una masa de alrededor de 30 masas solares y que la colisión tuvo lugar a 440 megaparsecs de nosotros.  La señal se dectectó con una frecuencia inicial de cerca de 35 Hz hasta la colisión final que alcanzo una frecuencia el orden de 250 Hz."
   ]
  },
  {
   "cell_type": "markdown",
   "metadata": {},
   "source": [
    "<a id='fig:Figure_61'></a>![Primera señal de ondas electromagnéticas detectada GW150914.](./figures/square_first_signal.png)\n",
    "\n",
    "<center><b>Figura 3.61</b>. Primera señal de ondas electromagnéticas detectada GW150914.</center>"
   ]
  },
  {
   "cell_type": "markdown",
   "metadata": {},
   "source": [
    "Usando estos datos es posible derivar algunas propiedades interesantes.  A continuación recogemos algunos de los datos recabados de la señal:"
   ]
  },
  {
   "cell_type": "code",
   "execution_count": 136,
   "metadata": {
    "codelabel": "",
    "codeplot": 0
   },
   "outputs": [],
   "source": [
    "#Constantes\n",
    "G=6.67e-11 # m^3/kg s^2\n",
    "c=3e8 # m/s\n",
    "pc=3.26*3e8*365.25*86400 # 1 pc en metros\n",
    "Msol=1.98e30 # kg\n",
    "\n",
    "#Distancia\n",
    "r=440 #Mepgaparsecs\n",
    "\n",
    "#Amplitud promedio de la señal\n",
    "hprom=0.5e-21 #Strain\n",
    "\n",
    "#Frecuencia de la señal\n",
    "f1=35 # Hz\n",
    "f2=250 # Hz\n",
    "\n",
    "#Duración\n",
    "tdur=0.2 # segundos\n",
    "\n",
    "#Masa de los agujeros negros\n",
    "M=30*Msol # kg"
   ]
  },
  {
   "cell_type": "markdown",
   "metadata": {},
   "source": [
    "Podemos calcular la escala de longitud de los agujeros negros y de su órbita usando la masa y la frecuencia de los mismos y la tercera ley de Kepler $n^2 a^3=GM$:"
   ]
  },
  {
   "cell_type": "code",
   "execution_count": 12,
   "metadata": {
    "codelabel": "",
    "codeplot": 0
   },
   "outputs": [],
   "source": [
    "# Escala de longitud de los agujeros negros\n",
    "R=2*G*M/c**2\n",
    "\n",
    "# Tamaño característico de la órbita\n",
    "from numpy import pi\n",
    "a1=(G*M/(2*pi*f1)**2)**(1./3)\n",
    "a2=(G*M/(2*pi*f2)**2)**(1./3)\n",
    "\n",
    "# Velocidad orbital típica\n",
    "v1=2*pi*a1*f1\n",
    "v2=2*pi*a2*f2\n",
    "\n",
    "# Longitud de onda característica\n",
    "lamb1=c/f1\n",
    "lamb2=c/f2"
   ]
  },
  {
   "cell_type": "code",
   "execution_count": 18,
   "metadata": {
    "codelabel": "",
    "codeplot": 0,
    "tags": [
     "hide_input"
    ]
   },
   "outputs": [
    {
     "name": "stdout",
     "output_type": "stream",
     "text": [
      "Escala de longitud agujeros negros: R = 88.044 km\n",
      "Escala orbital: a = [117.10016534072592,434.315655612506] km\n",
      "Velocidad orbital: v = [0.31837000370263285,0.6131350319476245] c\n",
      "Longitud de onda: a = [1200.0,8571.42857142857] km\n"
     ]
    }
   ],
   "source": [
    "print(f\"Escala de longitud agujeros negros: R = {R/1e3} km\")\n",
    "print(f\"Escala orbital: a = [{a2/1e3},{a1/1e3}] km\")\n",
    "print(f\"Velocidad orbital: v = [{v1/c},{v2/c}] c\")\n",
    "print(f\"Longitud de onda: a = [{lamb2/1e3},{lamb1/1e3}] km\")"
   ]
  },
  {
   "cell_type": "markdown",
   "metadata": {},
   "source": [
    "Como vemos la escala de longitud de las fuentes era del orden de unos cientos de kilómetros.  Sus velocidades en todo el proceso estuvieron entre 0.3 y 0.6$c$ lo que impediría que usaramos la aproximación de bajas velocidades para calcular la intensidad.  Sin embargo al calcular la longitud de onda nos damos cuenta que esta es entre 3 y 10 veces mayor que la escala de la fuente por lo que la aproximación no es tan mala. "
   ]
  },
  {
   "cell_type": "markdown",
   "metadata": {},
   "source": [
    "Por ejemplo podemos estimar la intensidad que tenía la onda al abandonar la fuente.  Para ello podemos usar la aproximación de campo lejando y gran longitud de onda."
   ]
  },
  {
   "cell_type": "code",
   "execution_count": 32,
   "metadata": {
    "codelabel": "",
    "codeplot": 0
   },
   "outputs": [],
   "source": [
    "# Distancia a la fuente\n",
    "ro=10000 # km\n",
    "\n",
    "# Intensidad\n",
    "ho=hprom*((r*1e6*pc)/(ro*1e3))"
   ]
  },
  {
   "cell_type": "code",
   "execution_count": 33,
   "metadata": {
    "codelabel": "",
    "codeplot": 0,
    "tags": [
     "hide_input"
    ]
   },
   "outputs": [
    {
     "name": "stdout",
     "output_type": "stream",
     "text": [
      "ho ( ro = 10000 km) = 0.0006789933215999998\n"
     ]
    }
   ],
   "source": [
    "print(f\"ho ( ro = {ro} km) = {ho}\")"
   ]
  },
  {
   "cell_type": "markdown",
   "metadata": {},
   "source": [
    "Es decir, incluso a la increíblemente cercana distancia de 10000 km la perturbación métrica era muy pequeña.  Esto pone de relieve la magnitud real de las ondas gravitacionales y la rigidez del espacio-tiempo."
   ]
  },
  {
   "cell_type": "markdown",
   "metadata": {},
   "source": [
    "Podemos también hacer un *burdo* estimativo de la energía total producida por la fuente, usando para ello la expresión presentada para la densidad de flujo de la onda, que en términos astronómicos sería el brillo de la misma:"
   ]
  },
  {
   "cell_type": "code",
   "execution_count": 66,
   "metadata": {
    "codelabel": "",
    "codeplot": 0
   },
   "outputs": [],
   "source": [
    "#Densidad de flujo\n",
    "fprom=(f1+f2)/2\n",
    "J=c**3/(32*pi*G)*(hprom*(2*pi*fprom))**2"
   ]
  },
  {
   "cell_type": "code",
   "execution_count": 67,
   "metadata": {
    "codelabel": "",
    "codeplot": 0,
    "tags": [
     "hide_input"
    ]
   },
   "outputs": [
    {
     "name": "stdout",
     "output_type": "stream",
     "text": [
      "Flujo J promedio = 0.0008069888854914068 W/m^2 s\n"
     ]
    }
   ],
   "source": [
    "print(f\"Flujo J promedio = {J} W/m^2 s\")"
   ]
  },
  {
   "cell_type": "markdown",
   "metadata": {},
   "source": [
    "Es importante entender que para el cálculo de este brillo asumimos que la intensidad medida `hprom` es la intensidad de la onda, como si incidiera normalmente en el detector.  Sin embargo por la configuración del detector en relación con la fuente ese día, sabemos que la intensidad era ciertamente mayor.  Es decir, este valor subestima el brillo de la fuente hasta por un factor de 10."
   ]
  },
  {
   "cell_type": "markdown",
   "metadata": {},
   "source": [
    "Este número contrasta con el brillo observado de algunas estrellas.  Por ejemplo, la estrella Vega, que es el referente de la escala de brillos usada en astronomía (magnitudes estelares), tiene un brillo de $3\\times 10^{-8}$ W m$^{-2}$ s$^{-1}$.  Podemos usar el brillo medido y el de Vega y la ley de Pogson para estimar la magnitud estelar que hubiera tenido la explosión si la hubieramos percibido con nuestros ojos:"
   ]
  },
  {
   "cell_type": "code",
   "execution_count": 82,
   "metadata": {
    "codelabel": "",
    "codeplot": 0
   },
   "outputs": [],
   "source": [
    "from numpy import log10\n",
    "m=-2.5*log10(J/3e-8)"
   ]
  },
  {
   "cell_type": "code",
   "execution_count": 83,
   "metadata": {
    "codelabel": "",
    "codeplot": 0,
    "scrolled": true,
    "tags": [
     "hide_input"
    ]
   },
   "outputs": [
    {
     "name": "stdout",
     "output_type": "stream",
     "text": [
      "Magnitud equivalente = -11.074365746465153^m\n"
     ]
    }
   ],
   "source": [
    "print(f\"Magnitud equivalente = {m}^m\")"
   ]
  },
  {
   "cell_type": "markdown",
   "metadata": {},
   "source": [
    "Es decir de haber sido visible habríamos visto la explosión con el brillo de la Luna llena."
   ]
  },
  {
   "cell_type": "markdown",
   "metadata": {},
   "source": [
    "Con este valor y la distancia podemos estimar (por debajo) la luminosidad total de la fuente:"
   ]
  },
  {
   "cell_type": "code",
   "execution_count": 84,
   "metadata": {
    "codelabel": "",
    "codeplot": 0
   },
   "outputs": [],
   "source": [
    "L=4*pi*(r*1e6*pc)**2*J"
   ]
  },
  {
   "cell_type": "code",
   "execution_count": 85,
   "metadata": {
    "codelabel": "",
    "codeplot": 0,
    "tags": [
     "hide_input"
    ]
   },
   "outputs": [
    {
     "name": "stdout",
     "output_type": "stream",
     "text": [
      "L = 1.8701154322511363e+48 j\n"
     ]
    }
   ],
   "source": [
    "print(f\"L = {L} j\")"
   ]
  },
  {
   "cell_type": "markdown",
   "metadata": {},
   "source": [
    "De nuevo podemos usar la ley de Pogson para estimar la magnitud absoluta de la explosión.  Para ello usamos como referencia el Sol que tiene una magnitud absoluta bolométrica de $+4.75^\\mathrm{m}$ y una luminosidad de $3.828\\times 10^{26}$ J:"
   ]
  },
  {
   "cell_type": "code",
   "execution_count": 134,
   "metadata": {
    "codelabel": "",
    "codeplot": 0
   },
   "outputs": [],
   "source": [
    "from numpy import log10\n",
    "M=4.75-2.5*log10(L/3.85e26)"
   ]
  },
  {
   "cell_type": "code",
   "execution_count": 135,
   "metadata": {
    "codelabel": "",
    "codeplot": 0,
    "scrolled": true,
    "tags": [
     "hide_input"
    ]
   },
   "outputs": [
    {
     "name": "stdout",
     "output_type": "stream",
     "text": [
      "Magnitud equivalente = -49.46601921134339^m\n"
     ]
    }
   ],
   "source": [
    "print(f\"Magnitud equivalente = {M}^m\")"
   ]
  },
  {
   "cell_type": "markdown",
   "metadata": {},
   "source": [
    "En contraste con las magnitudes típicas de las explosiones de supernova que tienen magnitudes absolutas del orden de $-19^\\mathrm{m}$ a $-21^\\mathrm{m}$. "
   ]
  },
  {
   "cell_type": "markdown",
   "metadata": {},
   "source": [
    "Si comparamos la luminosidad de la explosión con la del Sol y calculamos la energía total emitida en *foe*[$^1$](03.03.00.00.Aplicaciones.CosmologiaRelativista.ipynb#notaspie_1)**f**ifty-**o**ne **e**rgs*.  En unidades del SI, 1 foe = $10^{44}$ J], el resultado es impresionante:"
   ]
  },
  {
   "cell_type": "code",
   "execution_count": 147,
   "metadata": {
    "codelabel": "",
    "codeplot": 0
   },
   "outputs": [],
   "source": [
    "# Luminosidades solares\n",
    "Nstar = L/3.828e26\n",
    "\n",
    "# Energía total:\n",
    "E=L*tdur"
   ]
  },
  {
   "cell_type": "code",
   "execution_count": 148,
   "metadata": {
    "codelabel": "",
    "codeplot": 0,
    "scrolled": true,
    "tags": [
     "hide_input"
    ]
   },
   "outputs": [
    {
     "name": "stdout",
     "output_type": "stream",
     "text": [
      "Equivalentes solares = 4.885359018419896e+21\n",
      "Energía total = 3.740230864502273e+47 J\n",
      "Energía total = 3740.2308645022727 foes\n",
      "Masa equivalente = 2.098894985691511 Msol\n"
     ]
    }
   ],
   "source": [
    "print(f\"Equivalentes solares = {Nstar}\")\n",
    "print(f\"Energía total = {E} J\")\n",
    "print(f\"Energía total = {E/1e44} foes\")\n",
    "print(f\"Masa equivalente = {E/c**2/Msol} Msol\")\n"
   ]
  },
  {
   "cell_type": "markdown",
   "metadata": {},
   "source": [
    "Es decir por un centenar de milisegundos la explosión tuvo la potencia de todas las estrellas del universo juntas y emition 3000 veces más energía gravitacional que la supernova más potente registrada (1 foe) "
   ]
  },
  {
   "cell_type": "markdown",
   "metadata": {},
   "source": [
    "#### 3.1.15.2. Estimativos ondas gravitacionales de sistemas binarios\n",
    "<a id='estimativos_binarias_gw'></a>"
   ]
  },
  {
   "cell_type": "markdown",
   "metadata": {},
   "source": [
    "En los resultados presentados en el apartado precedente hay un detalle que no precisamos.  ¿Cómo se determina la distancia a una fuente de ondas gravitacionales?.  En realidad la distancia se estima partiendo de el brillo medido de la onda y el brillo esperao de acuero con los modelos astrofísicos que ajustan los datos de la señal.  De modo que la distancia que usamos anteriormente para estimar todas las propiedades venía con una trampa: esta había sido determinada primero usando justamente la potencia estimada de la señal."
   ]
  },
  {
   "cell_type": "markdown",
   "metadata": {},
   "source": [
    "¿Podemos hacer un estimativo a orden de magnitud de la potencia de la señal producida por un sistema binario?  La respuesta es un sí contundente.  Los detalles los estudiaremos en la siguiente sección:"
   ]
  },
  {
   "cell_type": "markdown",
   "metadata": {},
   "source": [
    "Para determinar la intensidad de la onda producida a una gran distancia de la fuente es necesario usar la fórmula de campo lejano y longitud de onda larga:\n",
    "\n",
    "$$\n",
    "\\bar{h}^{ij}_\\mathrm{far}(t,\\vec{r})=\\frac{2G}{c^4 r}\\ddot{I}^{ij}(ct-r)\n",
    "$$"
   ]
  },
  {
   "cell_type": "markdown",
   "metadata": {},
   "source": [
    "Aquí nos interesa estimar la cantidad más relevante, la segunda derivada del segundo momento de masa.  Sabemos por definición que: \n",
    "\n",
    "$$\n",
    "I^{ij}(t)=\\int \\rho_0(t,\\vec{r}') x'^i x'^j\\;\\mathrm{d}V'\n",
    "$$\n"
   ]
  },
  {
   "cell_type": "markdown",
   "metadata": {},
   "source": [
    "Si las partículas del sistema están siempre a una distancia del origen del orden de $R$ (la distancia entre ellas), el segundo momento es del mismo orden que el momento de inercia\n",
    "$\\int \\rho_0 r'^2 \\;\\mathrm{d}V'$.  Un estimativo del momento de inercia es $I\\sim MR^2$.  En realidad $I^{ij}$ no es el momento de inercia del sistema que se mantiene constante.  En realida esta cantidad cambia periódicamente con período $P$.  Podemos estimar la aceleración del cambio como:\n",
    "\n",
    "$$\n",
    "\\ddot{I}^{ij}\\sim\\frac{MR^2}{P^2}\n",
    "$$"
   ]
  },
  {
   "cell_type": "markdown",
   "metadata": {},
   "source": [
    "Por la tercera ley de Kepler podemos relacionar la distancia orbtal con el período y la masa:\n",
    "\n",
    "$$\n",
    "\\left(\\frac{2\\pi}{P}\\right)^2 R^3 = G M \n",
    "$$\n",
    "de donde:\n",
    "\n",
    "$$\n",
    "R^2=\\left(\\frac{GM P^2}{2\\pi}\\right)^{2/3}\n",
    "$$"
   ]
  },
  {
   "cell_type": "markdown",
   "metadata": {},
   "source": [
    "Reemplazando en la fórmula para el segundo momento obtenemos:\n",
    "\n",
    "$$\n",
    "\\ddot{I}^{ij}\\sim\\frac{G^{2/3} M^{5/3}}{P^{2/3}}\n",
    "$$"
   ]
  },
  {
   "cell_type": "markdown",
   "metadata": {},
   "source": [
    "Reemplazando en la intensidad:\n",
    "\n",
    "$$\n",
    "\\bar{h}^{ij}_\\mathrm{far}(t,\\vec{r})\\sim\\frac{2G^{5/3}}{c^4 r}\\frac{M^{5/3}}{P^{2/3}}\n",
    "$$"
   ]
  },
  {
   "cell_type": "markdown",
   "metadata": {},
   "source": [
    "Usando esta expresión podemos encontrar por ejemplo la intensida de la radiación producida por un sistema formado por dos agujeros negros con una masa total de 100 masas solares a 100 Mpc, mientras se mueven en una órbita de 1 segundo de período:"
   ]
  },
  {
   "cell_type": "code",
   "execution_count": 170,
   "metadata": {
    "codelabel": "",
    "codeplot": 0
   },
   "outputs": [],
   "source": [
    "r=100*1e6*pc # m\n",
    "M=100*Msol # kg\n",
    "P=0.5 # segundos\n",
    "hfar=(2*G**(5/3)/c**4)*M**(5/3)/(P**(2/3)*r)"
   ]
  },
  {
   "cell_type": "code",
   "execution_count": 171,
   "metadata": {
    "codelabel": "",
    "codeplot": 0,
    "scrolled": true,
    "tags": [
     "hide_input"
    ]
   },
   "outputs": [
    {
     "name": "stdout",
     "output_type": "stream",
     "text": [
      "h estimado = 9.370739370992108e-22\n"
     ]
    }
   ],
   "source": [
    "print(f\"h estimado = {hfar}\")"
   ]
  },
  {
   "cell_type": "markdown",
   "metadata": {},
   "source": [
    "Que coincide orden de magnitud con la amplitud estimada para la primera fuente de ondas gravitacionales.  Podemos escribir este resultado en una forma útil usando:\n",
    "\n",
    "$$\n",
    "h\\sim 10^{-21}\n",
    "\\left(\\frac{M}{100\\;M_\\mathrm{\\odot}}\\right)^{5/3}\n",
    "\\left(\\frac{0.5\\;\\mathrm{s}}{P}\\right)^{2/3}\n",
    "\\left(\\frac{100\\;\\mathrm{Mpc}}{r}\\right)\n",
    "$$"
   ]
  },
  {
   "cell_type": "markdown",
   "metadata": {},
   "source": [
    "Usando esta fórmula podemos ver que en el caso de la primera fuente de ondas gravitacionales para la cuál $r=440$ Mpc, $M\\approx 60 M_\\mathrm{sol}$, $P=1/30$ s, entonces la amplitud sería $0.6^{5/3}15^{2/3}/4.4\\approx 0.6$ que coincide esquisitamente con la intensidad promedio detectada de $h\\approx 0.5\\times 10^{-21}$."
   ]
  },
  {
   "cell_type": "markdown",
   "metadata": {},
   "source": [
    "Para sistemas gravitacionales más cercanos:"
   ]
  },
  {
   "cell_type": "markdown",
   "metadata": {},
   "source": [
    "$$\n",
    "h\\sim 10^{-21}\n",
    "\\left(\\frac{M}{1\\;M_\\mathrm{\\odot}}\\right)^{5/3}\n",
    "\\left(\\frac{1\\;\\mathrm{h}}{P}\\right)^{2/3}\n",
    "\\left(\\frac{100\\;\\mathrm{pc}}{r}\\right)\n",
    "$$"
   ]
  },
  {
   "cell_type": "markdown",
   "metadata": {},
   "source": [
    "### 3.1.16. Radiación gravitacional de sistemas binarios\n",
    "<a id='binarias_gw'></a>"
   ]
  },
  {
   "cell_type": "markdown",
   "metadata": {},
   "source": [
    "El cálculo anterior apenas si permite estimar la amplitud de la onda gravitacional producida por un sistema binario.  Pero ¿cuáles son las características específicas de las ondas producidas por el sistema? ¿que polarización tienen?"
   ]
  },
  {
   "cell_type": "markdown",
   "metadata": {},
   "source": [
    "Consideremos un sistema formado por dos masas puntuales $M/2$ a una distancia relativa $R=a$ que se mueven en una órbita circular de radio $a$."
   ]
  },
  {
   "cell_type": "markdown",
   "metadata": {},
   "source": [
    "Por la tercera ley de Kepler la frecuencia angular $n$ de las partículas es:\n",
    "\n",
    "$$\n",
    "n=\\sqrt{\\frac{GM}{a^3}}\n",
    "$$\n",
    "o el cuadrado del semieje mayor:\n",
    "\n",
    "$$\n",
    "a^2=\\left(\\frac{GM}{n^2}\\right)^{2/3}\n",
    "$$"
   ]
  },
  {
   "cell_type": "markdown",
   "metadata": {},
   "source": [
    "Las coordenadas de ambas partículas serán:\n",
    "\n",
    "$$\n",
    "\\begin{array}{rcl}\n",
    "x_1(t)=-x_2(t) & = & (a/2)\\cos(nt)\\\\\n",
    "y_1(t)=-y_2(t) & = & (a/2)\\sin(nt)\\\\\n",
    "z_1=z_2 & = & 0\n",
    "\\end{array}\n",
    "$$\n"
   ]
  },
  {
   "cell_type": "markdown",
   "metadata": {},
   "source": [
    "Como el sistema esta formado por partículas puntuales podemos escribir las coordenadas de las partículas como:\n",
    "\n",
    "$$\n",
    "\\rho_0=\\frac{M}{2}\\delta^3(\\vec r-\\vec r_1)+\\frac{M}{2}\\delta^3(\\vec r-\\vec r_2)\n",
    "$$"
   ]
  },
  {
   "cell_type": "markdown",
   "metadata": {},
   "source": [
    "El segundo momento de masa será:\n",
    "\n",
    "\\begin{eqnarray}\n",
    "\\nonumber\n",
    "I^{ij} & = & \\int \\left[\\frac{M}{2}\\delta^3(\\vec r-\\vec r_1)+\\frac{M}{2}\\delta^3(\\vec r-\\vec r_2)\\right] x'^i x'^j\\;\\mathrm{d}V'\\\\\n",
    "\\nonumber\n",
    "& = & \\frac{M}{2} (x_1^i x_1^j+x_2^i x_2^j)\n",
    "\\end{eqnarray}"
   ]
  },
  {
   "cell_type": "markdown",
   "metadata": {},
   "source": [
    "Como vemos las componentes $j=3$ (componentes $z$) del segundo momento de masa son 0, $I^{i3}=0$ y las únicas componentes distintas de cero son aquellas que corresponden a $x,y$:\n",
    "\n",
    "\\begin{eqnarray}\n",
    "\\nonumber\n",
    "I^{xx} =  \\frac{1}{4}M a^2 \\cos^2(nt) & = & \\frac{1}{8}Ma^2[1+\\cos(2nt)]\\\\\n",
    "\\nonumber\n",
    "I^{yy} =  \\frac{1}{4}M a^2 \\sin^2(nt) & = & \\frac{1}{8}Ma^2[1-\\cos(2nt)]\\\\\n",
    "\\nonumber\n",
    "I^{xy}  =  \\frac{1}{4}M a^2 \\cos(nt)\\sin(nt) & = & \\frac{1}{8} M a^2\\sin(2nt)\\\\\n",
    "\\end{eqnarray}"
   ]
  },
  {
   "cell_type": "markdown",
   "metadata": {},
   "source": [
    "Las segundas derivadas serán por otro lado:\n",
    "\n",
    "\\begin{eqnarray}\n",
    "\\nonumber\n",
    "\\ddot{I}^{xx} & = & -\\frac{1}{2} n^2 M a^2\\cos(2nt)\\\\\n",
    "\\nonumber\n",
    "\\ddot{I}^{yy} & = & +\\frac{1}{2} n^2 M a^2\\cos(2nt)\\\\\n",
    "\\nonumber\n",
    "\\ddot{I}^{xy} & = & -\\frac{1}{2} n^2 M a^2\\sin(2nt)\\\\\n",
    "\\end{eqnarray}"
   ]
  },
  {
   "cell_type": "markdown",
   "metadata": {},
   "source": [
    "Usando la fórmula para la perturbación métrica podemos escribir finalmente:\n",
    "\n",
    "$$\n",
    "\\bar{h}^{ij}_\\mathrm{far}(t)=\\frac{G}{c^4 r} n^2 M a^2\n",
    "\\left(\n",
    "\\begin{array}{ccc}\n",
    "-\\cos(2nt_r) & -\\sin(2nt_r) & 0 \\\\\n",
    "-\\sin(2nt_r) & \\cos(2nt_r) & 0 \\\\\n",
    "0 & 0 & 0 \\\\\n",
    "\\end{array}\n",
    "\\right)\n",
    "$$\n",
    "donde como es regular $t_r=t-r/c$."
   ]
  },
  {
   "cell_type": "markdown",
   "metadata": {},
   "source": [
    "La perturbación métrica detectada a gran distancia será:\n",
    "\n",
    "$$\n",
    "\\bar{h}^{\\mu\\nu}_\\mathrm{far}(t)=\\frac{G}{c^4 r} n^2 M a^2\n",
    "\\left(\n",
    "\\begin{array}{cccc}\n",
    "0 & 0 & 0 & 0 \\\\ \n",
    "0 & -\\cos(2nt_r) & -\\sin(2nt_r) & 0\\\\\n",
    "0 & -\\sin(2nt_r) & \\cos(2nt_r) & 0\\\\\n",
    "0 & 0 & 0 & 0 \n",
    "\\end{array}\n",
    "\\right)\n",
    "$$"
   ]
  },
  {
   "cell_type": "markdown",
   "metadata": {},
   "source": [
    "Nótese que esta onda plana no tiene una estructura exactamente del tipo:\n",
    "\n",
    "$$\n",
    "h^{TT}_{\\mu\\nu}=\n",
    "\\left(\n",
    "\\begin{array}{cccc}\n",
    "0 & 0 & 0 & 0 \\\\\n",
    "0 & a_{+} & a_{\\times} & 0 \\\\\n",
    "0 & a_{\\times} & -a_{+} & 0 \\\\\n",
    "0 & 0 & 0 & 0 \\\\\n",
    "\\end{array}\n",
    "\\right) \\cos(\\omega t - k z + \\varphi)\n",
    "$$"
   ]
  },
  {
   "cell_type": "markdown",
   "metadata": {},
   "source": [
    "Pero es fácil ver que siempre es posible expresar una onda arbitraria:\n",
    "\n",
    "$$\n",
    "h_{\\mu\\nu}=\n",
    "\\left(\n",
    "\\begin{array}{cccc}\n",
    "0 & 0 & 0 & 0 \\\\\n",
    "0 & h_{xx} & h_{xy} & 0 \\\\\n",
    "0 & h_{yx} & h_{yy} & 0 \\\\\n",
    "0 & 0 & 0 & 0 \\\\\n",
    "\\end{array}\n",
    "\\right) \n",
    "$$\n",
    "como la suma de ondas en el gauge TT:\n",
    "\n",
    "$$\n",
    "h_{\\mu\\nu}=\n",
    "\\left(\n",
    "\\begin{array}{cccc}\n",
    "0 & 0 & 0 & 0 \\\\\n",
    "0 & h^{(1)}_+ & h^{(1)}_\\times & 0 \\\\\n",
    "0 & h^{(1)}_\\times & -h^{(1)}_+ & 0 \\\\\n",
    "0 & 0 & 0 & 0 \\\\\n",
    "\\end{array}\n",
    "\\right)\n",
    "+\n",
    "\\left(\n",
    "\\begin{array}{cccc}\n",
    "0 & 0 & 0 & 0 \\\\\n",
    "0 & h^{(2)}_+ & h^{(2)}_\\times & 0 \\\\\n",
    "0 & h^{(2)}_\\times & -h^{(2)}_+ & 0 \\\\\n",
    "0 & 0 & 0 & 0 \\\\\n",
    "\\end{array}\n",
    "\\right)\n",
    "$$\n",
    "donde:\n",
    "\n",
    "\\begin{eqnarray}\n",
    "\\nonumber\n",
    "h^{(1)}_+ & = & \\frac{1}{2}(h_{xx}-h_{yy})\\\\\n",
    "h^{(2)}_+ & = & \\frac{1}{2}(h_{xx}+h_{yy})\\\\\n",
    "h^{(1)}_\\times + h^{(2)}_\\times & = & h_{xy}\\\\\n",
    "\\end{eqnarray}"
   ]
  },
  {
   "cell_type": "markdown",
   "metadata": {},
   "source": [
    "La onda procedente de la binaria se puede considerar precisamente como la superposición de dos ondas planas con polarizaciones diferentes si se escribe:\n",
    "\n",
    "$$\n",
    "\\bar{h}^{\\mu\\nu}_\\mathrm{far}(t)=\\frac{G}{c^4 r} n^2 M a^2\n",
    "\\left(\n",
    "\\begin{array}{cccc}\n",
    "0 & 0 & 0 & 0 \\\\ \n",
    "0 & \\cos(2nt_r+\\pi) & \\cos(2nt_r+\\pi/2) & 0\\\\\n",
    "0 & \\cos(2nt_r+\\pi/2) & -\\cos(2nt_r+\\pi) & 0\\\\\n",
    "0 & 0 & 0 & 0 \n",
    "\\end{array}\n",
    "\\right)\n",
    "$$"
   ]
  },
  {
   "cell_type": "markdown",
   "metadata": {},
   "source": [
    "$$\n",
    "\\bar{h}^{\\mu\\nu}_\\mathrm{far}(t)=\n",
    "a_0\n",
    "\\left(\n",
    "\\begin{array}{cccc}\n",
    "0 & 0 & 0 & 0 \\\\ \n",
    "0 & 1 & 0 & 0\\\\\n",
    "0 & 0 & -1& 0\\\\\n",
    "0 & 0 & 0 & 0 \n",
    "\\end{array}\n",
    "\\right)\n",
    "\\cos(2nt_r+\\pi) + \n",
    "a_0\n",
    "\\left(\n",
    "\\begin{array}{cccc}\n",
    "0 & 0 & 0 & 0 \\\\ \n",
    "0 & 0 & 1 & 0\\\\\n",
    "0 & 1 & 0& 0\\\\\n",
    "0 & 0 & 0 & 0 \n",
    "\\end{array}\n",
    "\\right)\\cos(2nt_r+\\pi/2) \n",
    "$$\n",
    "con:\n",
    "\n",
    "$$\n",
    "a_0=\\frac{G}{c^4 r} n^2 M a^2\n",
    "$$"
   ]
  },
  {
   "cell_type": "markdown",
   "metadata": {},
   "source": [
    "Es decir la onda producida por una binaria es la superposición de una onda con polarización $a_+=a_0$ con frecuencia igual al doble de la frecuencia orbital y en desfase $\\pi$ respecto a la órbita y otra onda con polarización $a_\\times=a_0$ con un desfase de $\\pi/2$.  Se dice que la onda tiene polarización circular."
   ]
  },
  {
   "cell_type": "markdown",
   "metadata": {},
   "source": [
    "Analicemos ahora la magnitud de la onda:\n",
    "\n",
    "$$\n",
    "a_0=\\frac{G}{c^4 r} n^2 M a^2\n",
    "$$\n",
    "si reemplazamos $a^2=(GM/n^2)^{2/3}$ y $n=2\\pi/P$, obtenemos:\n",
    "\n",
    "$$\n",
    "a_0=\\left(\\frac{\\pi^2}{2}\\right)^{1/3} \\frac{2G^{5/3}}{c^4 r}\\frac{M^{5/3}}{P^{2/3}}\n",
    "$$"
   ]
  },
  {
   "cell_type": "markdown",
   "metadata": {},
   "source": [
    "Vemos que increíblemente nuestro estimativo preciso de la amplitud de la onda difiere del estimativo **exacto** en un factor de $(\\pi^2/2)^{1/3}\\approx 1.7$ que no es muy grande para el nivel de aproximación tan grueso que habíamos utilizado en primer lugar."
   ]
  },
  {
   "cell_type": "markdown",
   "metadata": {},
   "source": [
    "Para calcular la potencia total radiada podemo usar la fórmula del cuadrupolo:\n",
    "\n",
    "$$\n",
    "L_\\mathrm{GW}=\\frac{1}{5}\\frac{G}{c^5}\\langle \\dddot{Q}^{ij}\\dddot{Q}_{ij}\\rangle\n",
    "$$\n",
    "donde:\n",
    "\n",
    "$$\n",
    "Q^{ij}(t)\\equiv I^{ij}(t)-\\frac{1}{3}\\delta^{ij}{I^k}_k(t)\n",
    "$$"
   ]
  },
  {
   "cell_type": "markdown",
   "metadata": {},
   "source": [
    "Para ello primero debemos calcular la traza del segundo momento de masa:\n",
    "\n",
    "$$\n",
    "I^{ij}=\\frac{1}{8}M a^2\n",
    "\\left(\n",
    "\\begin{array}{ccc}\n",
    "[1+\\cos(2nt)] & -\\sin(2nt) & 0 \\\\\n",
    "-\\sin(2nt) & [1-\\cos(2nt)] & 0 \\\\\n",
    "0 & 0 & 0 \\\\\n",
    "\\end{array}\n",
    "\\right)\n",
    "$$"
   ]
  },
  {
   "cell_type": "markdown",
   "metadata": {},
   "source": [
    "La traza es: \n",
    "\n",
    "$$\n",
    "{I^k}_k=\\frac{1}{4}M a^2\n",
    "$$\n",
    "que no depende del tiempo.  Por lo tanto las derivadas del tensor de cuadrimomento de masa serán iguales a las del segundo momento de masa."
   ]
  },
  {
   "cell_type": "markdown",
   "metadata": {},
   "source": [
    "Derivando 3 veces queda:\n",
    "$$\n",
    "\\dddot{Q}^{ij}=n^3M a^2\n",
    "\\left(\n",
    "\\begin{array}{ccc}\n",
    "-\\sin(2nt) & \\cos(2nt) & 0 \\\\\n",
    "\\cos(2nt) & \\sin(2nt) & 0 \\\\\n",
    "0 & 0 & 0 \\\\\n",
    "\\end{array}\n",
    "\\right)\n",
    "$$"
   ]
  },
  {
   "cell_type": "markdown",
   "metadata": {},
   "source": [
    "Con índices contravariantes $\\dddot{Q}_{ij}=\\eta_{ik}\\eta_{jl}\\dddot{Q}^{kl}=\\dddot{Q}^{ij}$, de modo que \n",
    "\n",
    "$$\n",
    "\\dddot{Q}_{ij}\\dddot{Q}^{ij}=\\sum_{i,j} (\\dddot{Q}_{ij})^2 =2 n^6 M^2 a^4 [\\sin^2(2nt)+\\cos^2(2nt)]=2 n^6 M^2 a^4\n",
    "$$"
   ]
  },
  {
   "cell_type": "markdown",
   "metadata": {},
   "source": [
    "El producto: \n",
    "\n",
    "$$\n",
    "\\langle\\dddot{Q}^{ij}\\dddot{Q}_{ij}\\rangle=2n^6 M^2 a^4\n",
    "$$"
   ]
  },
  {
   "cell_type": "markdown",
   "metadata": {},
   "source": [
    "La luminosidad queda finalmente como\n",
    "\n",
    "$$\n",
    "L_\\mathrm{GW}=\\frac{2G}{5c^5}n^6 M^2 a^4\n",
    "$$"
   ]
  },
  {
   "cell_type": "markdown",
   "metadata": {},
   "source": [
    "Reemplazando nuevamente $a^4=(GM/n^2)^{4/3}$ y $n=2\\pi/P$ queda:\n",
    "\n",
    "$$\n",
    "L_\\mathrm{GW}=\\frac{2^{13/3}\\pi^{10/3}G^{7/3}}{5c^5}\\left(\\frac{M}{P}\\right)^{10/3}\n",
    "$$"
   ]
  },
  {
   "cell_type": "markdown",
   "metadata": {},
   "source": [
    "Si ponemos los datos de la primera fuente detectada obtenemos:"
   ]
  },
  {
   "cell_type": "code",
   "execution_count": 194,
   "metadata": {
    "codelabel": "",
    "codeplot": 0
   },
   "outputs": [],
   "source": [
    "M=60*Msol # kg\n",
    "P=1/f1 # segundos\n",
    "L=(2**(13/3)*pi**(10/3)*G**(7/3))/(5*c**5)*(M/P)**(10/3)"
   ]
  },
  {
   "cell_type": "code",
   "execution_count": 195,
   "metadata": {
    "codelabel": "",
    "codeplot": 0,
    "scrolled": true,
    "tags": [
     "hide_input"
    ]
   },
   "outputs": [
    {
     "name": "stdout",
     "output_type": "stream",
     "text": [
      "L estimado = 1.571430487596547e+48\n"
     ]
    }
   ],
   "source": [
    "print(f\"L estimado = {L}\")"
   ]
  },
  {
   "cell_type": "markdown",
   "metadata": {},
   "source": [
    "Que es increiblemente cercano al valor que habíamos calculado."
   ]
  },
  {
   "cell_type": "markdown",
   "metadata": {
    "tags": [
     "footnote"
    ]
   },
   "source": [
    "**NOTAS AL PIE:**\n",
    "\n",
    "<a id='notaspie_1'></a>\n",
    "1. El *foe* es una unidad diseñada para medir la energía producida en explosiones de supernova.  Equivale a $10^{51}$ ergs, de donde viene su nombre en inglés *[ten to the power of\n",
    "\n"
   ]
  },
  {
   "cell_type": "markdown",
   "metadata": {
    "tags": [
     "navigation"
    ]
   },
   "source": [
    "[Indice](index.ipynb) | Previo: [Aplicaciones.OndasGravitacionales.Emision](03.01.04.00.Aplicaciones.OndasGravitacionales.Emision.ipynb) | Siguiente: [Aplicaciones.AgujerosNegros](03.02.00.00.Aplicaciones.AgujerosNegros.ipynb)"
   ]
  }
 ],
 "metadata": {
  "celltoolbar": "Tags",
  "kernelspec": {
   "display_name": "Python 3",
   "language": "python",
   "name": "python3"
  },
  "language_info": {
   "codemirror_mode": {
    "name": "ipython",
    "version": 3
   },
   "file_extension": ".py",
   "mimetype": "text/x-python",
   "name": "python",
   "nbconvert_exporter": "python",
   "pygments_lexer": "ipython3",
   "version": "3.6.8"
  }
 },
 "nbformat": 4,
 "nbformat_minor": 2
}
