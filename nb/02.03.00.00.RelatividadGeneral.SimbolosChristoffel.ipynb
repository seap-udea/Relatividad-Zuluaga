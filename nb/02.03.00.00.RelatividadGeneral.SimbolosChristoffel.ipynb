{
 "cells": [
  {
   "cell_type": "markdown",
   "metadata": {
    "tags": [
     "navigation"
    ]
   },
   "source": [
    "[Indice](index.ipynb) | Previo: [RelatividadGeneral.TransporteParalelo](02.02.00.00.RelatividadGeneral.TransporteParalelo.ipynb) | Siguiente: [RelatividadGeneral.Geodesicas](02.04.00.00.RelatividadGeneral.Geodesicas.ipynb)"
   ]
  },
  {
   "cell_type": "markdown",
   "metadata": {},
   "source": [
    "### 2.3.4. Los símbolos de Christoffel\n",
    "<a id='simbolos_christoffel'></a>"
   ]
  },
  {
   "cell_type": "markdown",
   "metadata": {},
   "source": [
    "¿Qué son y cómo se calculan los coeficientes de conexión?"
   ]
  },
  {
   "cell_type": "markdown",
   "metadata": {},
   "source": [
    "La primera característica es que no se trata de una cantidad tensorial (ver Problemas al final del capítulo).  Si asumimos por ahora que la derivada definida en la sección anterior $\\mathrm{D}_\\alpha$ es un tensor, es posible demostrar (ver Problemas al final del capítulo) que la conexión afín transforma en general como:\n",
    "\n",
    "$$\n",
    "C^{\\nu'}_{\\mu'\\sigma'}={{\\cal G}^{\\nu'}}_{\\nu}{{\\cal G}^{\\mu}}_{\\mu'}{{\\cal G}^{\\sigma}}_{\\sigma'}C^{\\nu}_{\\mu\\sigma}-{{\\cal G}^{\\mu}}_{\\mu'}{{\\cal G}^{\\sigma}}_{\\sigma'}\\partial^2_{\\mu\\sigma}x^{\\nu'}\n",
    "$$"
   ]
  },
  {
   "cell_type": "markdown",
   "metadata": {},
   "source": [
    "En general se puede también demostrar que aunque las conexiones no son tensoriales, es posible definir con ellas un tensor que se conoce como el **tensor de torsión**:\n",
    "\n",
    "$$\n",
    "T^\\alpha_{\\mu\\nu}=C^\\alpha_{\\mu\\nu}-C^\\alpha_{\\nu\\mu}\n",
    "$$"
   ]
  },
  {
   "cell_type": "markdown",
   "metadata": {},
   "source": [
    "En general se pueden definir muchas conexiones diferentes en variedades diferenciales generales.  Sin embargo hay una familia específica de conexiones que son las de interés para la Relatividad General."
   ]
  },
  {
   "cell_type": "markdown",
   "metadata": {
    "label": "",
    "subtitle": "Conexión de Levi-Civita y símbolos de Christoffel",
    "tags": [
     "box_definition"
    ],
    "title": "Definición"
   },
   "source": [
    "> **Definición 3.16. Conexión de Levi-Civita y símbolos de Christoffel.**<a id=''></a> Una conexión afín $C^\\alpha_{\\mu\\nu}$ que además satisface las condiciones (axiomas):\n",
    "\n",
    "> - Es libre de torsión: $T^\\alpha_{\\mu\\nu}\\equiv C^\\alpha_{\\mu\\nu}-C^\\alpha_{\\nu\\mu}=0$.\n",
    "> - Es compatible con la métrica: ${g_{\\mu\\nu}}_{;\\alpha}=0$.\n",
    "\n",
    "> Se llama una **conexión de Levi-Civita**.  A los coeficientes de una conexión de Levi-Civita se los llama (históricamente) **Símbolos de Christoffel** y se los denota $\\Gamma^\\alpha_{\\mu\\nu}$."
   ]
  },
  {
   "cell_type": "markdown",
   "metadata": {},
   "source": [
    "Nótese que la propiedad de que el espacio sea libre de torsión implica que los símbolos de Christoffel son simétricos frente al intercambio de los índices inferiores:\n",
    "\n",
    "$$\n",
    "\\Gamma^\\alpha_{\\mu\\nu}=\\Gamma^\\alpha_{\\nu\\mu}\n",
    "$$\n",
    "esto implica que no existen 64 símbolos independientes, sino tan solo $4_\\alpha\\times[(4^2-4)/2+4]_{\\mu\\nu}=40$ símbolos de Christoffel que deben ser especificados para determinar la derivada covariante general en un espacio de Riemanniano o pseudorimanniano."
   ]
  },
  {
   "cell_type": "markdown",
   "metadata": {},
   "source": [
    "La condición de que la métrica no tenga derivada covariante es fundamental y permite derivar expresiones para los símbolos de Christoffel. Para ello podemos comenzar con escribir todas las posibles combinaciones cíclicas de la derivada covariante del tensor métrico así:\n",
    "\n",
    "$$\n",
    "\\begin{array}{rcccl}\n",
    "g_{\\mu\\nu;\\rho} & = & g_{\\mu\\nu,\\rho}\n",
    "-\\Gamma^\\lambda_{\\mu\\rho}g_{\\lambda\\nu}\n",
    "-\\Gamma^\\lambda_{\\rho\\nu}g_{\\mu\\lambda} & = & 0\\\\\n",
    "g_{\\nu\\rho;\\mu} & = & g_{\\nu\\rho,\\mu}\n",
    "-\\Gamma^\\lambda_{\\nu\\mu}g_{\\lambda\\rho}\n",
    "-\\Gamma^\\lambda_{\\mu\\rho}g_{\\nu\\lambda} & = & 0\\\\\n",
    "g_{\\rho\\mu;\\nu} & = & g_{\\rho\\mu,\\nu}\n",
    "-\\Gamma^\\lambda_{\\rho\\nu}g_{\\lambda\\mu}\n",
    "-\\Gamma^\\lambda_{\\nu\\mu}g_{\\rho\\lambda} & = & 0\\\\\n",
    "\\end{array}\n",
    "$$"
   ]
  },
  {
   "cell_type": "markdown",
   "metadata": {},
   "source": [
    "Nótese que entre ellas y por la simetría del tensor métrico y de los símbolos de Christoffel hay términos que se repiten.  Así por ejemplo en la primera y la segunda ecuación los términos $-\\Gamma^\\lambda_{\\rho\\mu}g_{\\lambda\\nu}$ y $-\\Gamma^\\lambda_{\\mu\\rho}g_{\\nu\\lambda}$ (respectivamente) son idénticos.  Así, restando la primera de la segunda y tercera ecuación obtenemos:\n",
    "\n",
    "$$\n",
    "g_{\\mu\\nu,\\rho}-g_{\\nu\\rho,\\mu}-g_{\\rho\\mu,\\nu}+2\\Gamma^\\lambda_{\\mu\\nu} g_{\\lambda\\rho}=0\n",
    "$$"
   ]
  },
  {
   "cell_type": "markdown",
   "metadata": {},
   "source": [
    "De esta última expresión se puede escribir la forma conocida de los símbolos de Christoffel:\n",
    "\n",
    "$$\n",
    "\\Gamma^\\lambda_{\\mu\\nu}=\\frac{1}{2}g^{\\lambda\\rho}(g_{\\rho\\mu,\\nu}-g_{\\mu\\nu,\\rho}+g_{\\nu\\rho,\\mu})\n",
    "$$"
   ]
  },
  {
   "cell_type": "markdown",
   "metadata": {},
   "source": [
    "Si introducimos la notación:\n",
    "\n",
    "$$\n",
    "g_{\\{\\rho\\mu,\\nu\\}}\\equiv g_{\\rho\\mu,\\nu}-g_{\\mu\\nu,\\rho}+g_{\\nu\\rho,\\mu}\n",
    "$$\n",
    "donde las llaves $\\{\\}$ indican que se debe sumar sobre todas las combinaciones cíclicas de los índices y usar como signo un análogo del símbolo de Levi-Civita, tal que por cada movimiento de la \"banda transportadora\" (permutación) se multiplica un signo \"-\".  Es por eso que el segundo término, que corresponde a una permitación impar, es negativo."
   ]
  },
  {
   "cell_type": "markdown",
   "metadata": {},
   "source": [
    "entonces de forma abreviada:\n",
    "\n",
    "$$\n",
    "\\Gamma^\\lambda_{\\mu\\nu}=\\frac{1}{2}g^{\\lambda\\rho}g_{\\{\\rho\\mu,\\nu\\}}\n",
    "$$"
   ]
  },
  {
   "cell_type": "markdown",
   "metadata": {
    "label": "",
    "subtitle": "Los términos de los símbolos de Christoffel",
    "tags": [
     "box_note"
    ],
    "title": "Nota"
   },
   "source": [
    "> **Nota: Los términos de los símbolos de Christoffel.**<a id=''></a> Aunque la expresión:\n",
    "\n",
    "> $$\\Gamma^\\lambda_{\\mu\\nu}=\\frac{1}{2}g^{\\lambda\\rho}g_{\\{\\rho\\mu,\\nu\\}}$$ \n",
    "> es bastante compacta no hay que olviar que encierra dos operaciones: la operación cíclica sobre el término $g_{\\{\\rho\\mu,\\nu\\}}$ que hace que este se convierta en realidad en una suma de 3 términos, y la suma sobre el índice $\\rho$ (4 términos).  Eso hace que para calcular cada símbolo de Christoffel, en general, sean necesarios en realidad $4\\times 3=12$ términos:\n",
    "\n",
    "> $$\n",
    "  \\begin{array}{rcl}\n",
    "  \\Gamma^\\lambda_{\\mu\\nu} & = & \\frac{1}{2}g^{\\lambda0}(g_{0\\mu,\\nu}-g_{\\mu\\nu,0}+g_{\\nu0,\\mu})+\\\\\n",
    "                          &    & + \\frac{1}{2}g^{\\lambda1}(g_{1\\mu,\\nu}-g_{\\mu\\nu,1}+g_{\\nu1,\\mu})+\\\\\n",
    "                          &    & + \\frac{1}{2}g^{\\lambda2}(g_{2\\mu,\\nu}-g_{\\mu\\nu,2}+g_{\\nu2,\\mu})+\\\\\n",
    "                          &    & + \\frac{1}{2}g^{\\lambda3}(g_{3\\mu,\\nu}-g_{\\mu\\nu,3}+g_{\\nu3,\\mu})\n",
    "  \\end{array}\n",
    "  $$\n",
    "  "
   ]
  },
  {
   "cell_type": "markdown",
   "metadata": {},
   "source": [
    "Como vemos, los símbolos de Christoffel son proporcionales a las primeras derivadas del tensor métrico.  Este hecho se puede escribir explícitamente si definimos:\n",
    "\n",
    "$$\n",
    "\\Gamma_{\\alpha\\mu\\nu}=g_{\\alpha\\lambda}\\Gamma^\\lambda_{\\mu\\nu}\n",
    "$$"
   ]
  },
  {
   "cell_type": "markdown",
   "metadata": {},
   "source": [
    "En términos de los símbolos de Christoffel las derivadas del tensor métrico se puede probar (ver Problemas al final del capítulo) son:\n",
    "\n",
    "$$\n",
    "\\begin{array}{rcl}\n",
    "g_{\\alpha\\beta,\\gamma} & = & \\Gamma_{\\alpha\\beta\\gamma}-\\Gamma_{\\beta\\alpha\\gamma}\\\\\n",
    "{g^{\\alpha\\beta}}_{,\\gamma} & = & -g^{\\mu\\beta}\\Gamma^{\\alpha}_{\\mu\\gamma}-g^{\\alpha\\mu}\\Gamma^{\\beta}_{\\mu\\gamma}\\\\\n",
    "\\end{array}\n",
    "$$"
   ]
  },
  {
   "cell_type": "markdown",
   "metadata": {},
   "source": [
    "El hecho que las primeras derivadas del tensor métrico sean proporcionales a los símbolos de Christoffel, explica por que hay 40 valores independientes.  Dado que el tensor métrico, por su simetría, tiene 10 componentes independientes (6 fuera de la diagonal y 4 en la diagonal) y cada una de ella tiene 4 componentes de la derivada, existiran en general $4\\times 10=40$ primeras derivadas independientes."
   ]
  },
  {
   "cell_type": "markdown",
   "metadata": {},
   "source": [
    "En términos de los símbolos de Christoffel la derivada covariante en un espçacio Riemanniano o pseudoriemanniano con conexión de Levi-Civita se escribirá:\n",
    "\n",
    "$$\n",
    "\\begin{array}{rcl}\n",
    "{A^\\mu}_{;\\alpha} & = & {A^\\mu}_{,\\alpha} + \\Gamma^\\mu_{\\gamma\\alpha} A^\\gamma\\\\\n",
    "A_{\\mu;\\nu} & = & A_{\\mu,\\nu}-\\Gamma^\\gamma_{\\mu\\nu} A_\\gamma\\\\\n",
    "{A^{\\mu\\nu}}_{;\\alpha} & = & {A^{\\mu\\nu}}_{,\\alpha}+\\Gamma^\\mu_{\\gamma\\alpha} A^{\\gamma\\nu}+\\Gamma^\\nu_{\\alpha\\gamma} A^{\\mu\\gamma}\\\\\n",
    "{A_{\\mu\\nu}}_{;\\alpha} & = & {A_{\\mu\\nu}}_{,\\alpha}-\\Gamma^\\gamma_{\\mu\\alpha} A_{\\gamma\\nu}-\\Gamma^\\gamma_{\\alpha\\nu} A_{\\mu\\gamma}\n",
    "\\end{array}\n",
    "$$"
   ]
  },
  {
   "cell_type": "markdown",
   "metadata": {},
   "source": [
    "### 2.3.5. Cálculo de los símbolos de Christoffel\n",
    "<a id='ejemplo_christoffel'></a>"
   ]
  },
  {
   "cell_type": "markdown",
   "metadata": {},
   "source": [
    "El cálculo de los símbolos de Christoffel es una de las habilidades más importantes en la relatividad general.  En esta sección veremos ejemplos específicos del cálculo de estas cantidades para métricas específicas."
   ]
  },
  {
   "cell_type": "markdown",
   "metadata": {},
   "source": [
    "Si bien calcular 40 coeficientes mediante la derivada de los coeficientes del tensor métrico no parece una tarea muy agradable, hay algunas propiedades útiles tanto del tensor métrico como de los coeficientes que simplifican la tarea."
   ]
  },
  {
   "cell_type": "markdown",
   "metadata": {},
   "source": [
    "#### 2.3.5.1. Los símbolos de Christoffel de una métrica diagonal\n",
    "<a id='christoffel_metrica_diagonal'></a>"
   ]
  },
  {
   "cell_type": "markdown",
   "metadata": {},
   "source": [
    "Como hemos visto en secciones anteriores el tensor métrico es una forma bilineal que nos da la regla para calcular el producto punto entre los cuadrivectores.  Si llamamos $\\hat{e}_\\mu(x^\\nu)$ a los vectores de una base del espacio tiempo definidos en el evento $x^\\nu$, la métrica se define en términos de:\n",
    "\n",
    "$$\n",
    "\\mathrm{d}s^2\n",
    "= \\mathrm{d}x^\\mu\\cdot\\mathrm{d}x^\\nu \n",
    "= (\\mathrm{d}x^\\mu\\hat{e}_\\mu)\\cdot(\\mathrm{d}x^\\nu\\hat{e}_\\nu)\n",
    "= (\\hat{e}_\\mu\\cdot\\hat{e}_\\nu)\\mathrm{d}x^\\mu\\mathrm{d}x^\\nu\n",
    "$$\n",
    "es decir:\n",
    "\n",
    "$$\n",
    "g_{\\mu\\nu}=(\\hat{e}_\\mu\\cdot\\hat{e}_\\nu)\n",
    "$$"
   ]
  },
  {
   "cell_type": "markdown",
   "metadata": {},
   "source": [
    "Esto implica que siempre que definamos un sistema de ejes ortogonales la métrica será diagonal:\n",
    "\n",
    "$$\n",
    "g_{\\mu\\nu}:\\mathrm{diag}(g_{00},g_{11},g_{22},g_{33})\n",
    "$$\n",
    "con inversa:\n",
    "$$\n",
    "g^{\\mu\\nu}:\\mathrm{diag}\\left(\\frac{1}{g_{00}},\\frac{1}{g_{11}},\\frac{1}{g_{22}},\\frac{1}{g_{33}}\\right)\n",
    "$$\n"
   ]
  },
  {
   "cell_type": "markdown",
   "metadata": {},
   "source": [
    "Si este es el caso los símbolos de Christoffel se simplifican.  En lugar de los 4 términos diferentes que describíamos antes cada símbolo realmente es el resultado del cálculo de un solo término:\n",
    "\n",
    "$$\n",
    "\\begin{array}{rcl}\n",
    "\\Gamma^\\lambda_{\\mu\\nu} & = & \\frac{1}{2}g^{\\lambda\\lambda}g_{\\{\\lambda\\mu,\\nu\\}}\\\\\n",
    "                        & = & \\frac{1}{2}g^{\\lambda\\lambda}(g_{\\lambda\\mu,\\nu}-g_{\\mu\\nu,\\lambda}+g_{\\nu\\lambda,\\mu})\n",
    "\\end{array}\n",
    "$$"
   ]
  },
  {
   "cell_type": "markdown",
   "metadata": {},
   "source": [
    "Los dos hechos anteriores implican además una segunda propiedad muy interesante.  Dado que solo los términos diagonales de la derivada son distintos de cero, entonces la última expresión tendrá potencialmente términos distintos de cero si y solo si al menos dos índices de entre $\\lambda,\\mu,\\nu$ son repetidos.  Esto implica que solo los coeficientes de la forma:\n",
    "\n",
    "$$\n",
    "\\Gamma^{\\lambda}_{\\lambda\\nu},\\Gamma^{\\lambda}_{\\mu\\mu}\n",
    "$$\n",
    "serán distintos de cero e iguales a:\n",
    "\n",
    "$$\n",
    "\\Gamma^{\\lambda}_{\\lambda\\nu} = +\\frac{1}{2} g^{\\lambda\\lambda} g_{\\lambda\\lambda,\\nu} \n",
    "$$\n",
    "con $\\nu\\neq\\lambda$ que llamaremos los *símbolos mixtos*, y\n",
    "\n",
    "$$\n",
    "\\Gamma^{\\lambda}_{\\mu\\mu} = -\\frac{1}{2} g^{\\lambda\\lambda} g_{\\mu\\mu,\\lambda}\n",
    "$$\n",
    "que llamaremos los *símbolos diagonales*."
   ]
  },
  {
   "cell_type": "markdown",
   "metadata": {},
   "source": [
    "En un espacio de 4 dimensiones por cada índice $\\lambda$ hay 3 símbolos mixtos y 4 diagonales, es decir 7 en total.  Esta simetría reduce el número posible de símbolos de Christoffel de 40 a $4\\times 7=28$ componentes distintas de cero (ver Problemas al final del capítulo)."
   ]
  },
  {
   "cell_type": "markdown",
   "metadata": {},
   "source": [
    "Una última propiedad interesante implica que si una de las variables $x^\\lambda$ tiene coeficiente métrico $g_{\\lambda\\lambda}$ constante y ningún otro coeficiente métrico depende de $x^\\lambda$, es decir $g_{\\mu\\mu,\\lambda}=0$ entonces todos los símbolos de Christoffel que tengan $\\lambda$ serán cero:\n",
    "\n",
    "$$\n",
    "\\Gamma^{\\lambda}_{\\lambda\\nu}=\\Gamma^{\\lambda}_{\\mu\\mu}=0\n",
    "$$"
   ]
  },
  {
   "cell_type": "markdown",
   "metadata": {},
   "source": [
    "Por cada componente con esta propiedad se reducen en 7 los símbolos de Christoffel diferentes de cero."
   ]
  },
  {
   "cell_type": "markdown",
   "metadata": {},
   "source": [
    "#### 2.3.5.2. Símbolos de Christoffel del espacio-tiempo plano\n",
    "<a id='christoffel_plano'></a>"
   ]
  },
  {
   "cell_type": "markdown",
   "metadata": {},
   "source": [
    "Calculemos los símbolos de Christoffel para el espacio-tiempo plano.  En principio podría pensarse que en esta situación los símbolos son todos cero (en tanto dependen de derivadas de la métrica y en el espacio-tiempo plano la métrica es constante).  Pero no es así.  Todo depende del sistema de coordenadas que estamos utilizando."
   ]
  },
  {
   "cell_type": "markdown",
   "metadata": {},
   "source": [
    "En coordenadas cartesianas el elemento de línea del espacio-tiempo es:\n",
    "\n",
    "$$\n",
    "\\mathrm{d}s^2=\\mathrm{d}t^2-\\mathrm{d}x_L^2-\\mathrm{d}y_L^2-\\mathrm{d}z_L^2\n",
    "$$\n",
    "de donde la métrica es:\n",
    "\n",
    "$$\n",
    "g_{\\mu\\nu}:\\mathrm{diag}(1,-1,-1,-1)\n",
    "$$"
   ]
  },
  {
   "cell_type": "markdown",
   "metadata": {},
   "source": [
    "Y de aquí los símbolos de Christoffel resultantes serán:\n",
    "\n",
    "$$\n",
    "\\Gamma^\\alpha_{\\mu\\nu}=0\n",
    "$$"
   ]
  },
  {
   "cell_type": "markdown",
   "metadata": {},
   "source": [
    "Esto implica que en el espacio-tiempo de Minkowski y en coordenadas cartesianas la derivada \";\" es igual a la derivada \",\"."
   ]
  },
  {
   "cell_type": "markdown",
   "metadata": {},
   "source": [
    "Si usamos sin embargo coordenadas cilíndricas, la métrica del mismo espacio-tiempo será:\n",
    "\n",
    "$$\n",
    "\\mathrm{d}s^2=\\mathrm{d}t^2-\\mathrm{d}r_L^2-r^2\\mathrm{d}\\theta^2-\\mathrm{d}z_L^2\n",
    "$$\n",
    "\n",
    "de donde la métrica es:\n",
    "\n",
    "$$\n",
    "g_{\\mu\\nu}:\\mathrm{diag}(1,-1,-r^2,-1)\n",
    "$$\n",
    "con inversa:\n",
    "\n",
    "$$\n",
    "g^{\\mu\\nu}:\\mathrm{diag}(1,-1,-1/r^2,-1)\n",
    "$$"
   ]
  },
  {
   "cell_type": "markdown",
   "metadata": {},
   "source": [
    "Ahora hay al menos una componente de la métrica $g_{22}(r)=g_{\\theta\\theta}(r)$ que depende de las coordenadas.  Esto implica entonces que todos aquellos símbolos de Christoffel que incluyan las derivadas del tipo $g_{\\theta\\theta,r}$ serán distintos de cero."
   ]
  },
  {
   "cell_type": "markdown",
   "metadata": {
    "label": "",
    "subtitle": "Coordenadas en lugar de números",
    "tags": [
     "box_note"
    ],
    "title": "Nota"
   },
   "source": [
    "> **Nota: Coordenadas en lugar de números.**<a id=''></a> Es corriente que se use por simplicidad el nombre de las coordenadas en lugar de números para indicar la componentes de la métrica o de los símbolos de Christoffel.  Es así como hemos reemplazado $g_{22}$ por $g_{\\theta\\theta}$ o $g_{\\theta\\theta,r}$ para denotar $g_{22,1}$.  Así mismo nos referiremos por ejemplo a $\\Gamma^t_{r\\theta}$ para representar el símbolo $\\Gamma^0_{12}$."
   ]
  },
  {
   "cell_type": "markdown",
   "metadata": {},
   "source": [
    "Recordando la definición:\n",
    "\n",
    "$$\n",
    "\\Gamma^\\lambda_{\\mu\\nu}=\\frac{1}{2}g^{\\lambda\\rho}g_{\\{\\rho\\mu,\\nu\\}}\n",
    "$$"
   ]
  },
  {
   "cell_type": "markdown",
   "metadata": {},
   "source": [
    "Lo primero que tenemos que tener en cuenta es que dado que la matriz es diagonal los únicos símbolos de Christoffel que no serán cero son aquellos para los cuales $\\lambda=\\rho$:\n",
    "\n",
    "$$\n",
    "\\Gamma^\\rho_{\\mu\\nu}=\\frac{1}{2}g^{\\rho\\rho}g_{\\{\\rho\\mu,\\nu\\}}\n",
    "$$"
   ]
  },
  {
   "cell_type": "markdown",
   "metadata": {},
   "source": [
    "Podemos de entrada descartar todos los casos en los que uno de los índices sea $0$ o $4$ ( $t$ o $z$ en nuestra notación) en tanto: \n",
    "\n",
    "1. $g_{tt}=1$ y $g_{zz}=1$, es decir son constantes y no tienen derivadas diferentes de 0.\n",
    "2. $g_{i t}=0$ y $g_{\\mu z}=0$.  \n",
    "3. Ninguna de las componentes de la métrica depende del tiempo o de $z$.\n",
    "\n",
    "Esto nos permite descartar un número significativo de componentes (34 componentes nulas para ser exactos)."
   ]
  },
  {
   "cell_type": "markdown",
   "metadata": {},
   "source": [
    "Para el caso en el que $\\rho=r$ tendremos los símbolos potencialmente no nulos $\\Gamma^r_{rr}$, $\\Gamma^r_{r\\theta}$, $\\Gamma^r_{\\theta\\theta}$.  Escribamos explícitamente:\n",
    "\n",
    "$$\n",
    "\\begin{array}{rcl}\n",
    "\\Gamma^r_{rr} & = & g^{rr}(g_{rr,r}-g_{rr,r}+g_{rr,r})= 0\\\\\n",
    "2\\Gamma^r_{r\\theta} & = & g^{rr}(g_{rr,\\theta}-g_{r\\theta,r}+g_{\\theta r,r})= 0 \\\\\n",
    "2\\Gamma^r_{\\theta\\theta} & = & g^{rr}(g_{r\\theta,\\theta}-g_{\\theta\\theta,r}+g_{\\theta r,\\theta})= -2r \\\\\n",
    "\\end{array}\n",
    "$$"
   ]
  },
  {
   "cell_type": "markdown",
   "metadata": {},
   "source": [
    "Para el caso en el que $\\rho=\\theta$ tendremos los símbolos potencialmente no nulos $\\Gamma^\\theta_{rr}$, $\\Gamma^\\theta_{r\\theta}$, $\\Gamma^\\theta_{\\theta\\theta}$.  Escribamos explícitamente:\n",
    "\n",
    "$$\n",
    "\\begin{array}{rcl}\n",
    "\\Gamma^\\theta_{rr} & = & g^{\\theta\\theta}(g_{\\theta r,r}-g_{rr,\\theta}+g_{r\\theta,r})=0\\\\\n",
    "2\\Gamma^\\theta_{r\\theta} & = & g^{\\theta\\theta}(g_{\\theta r,\\theta}-g_{r\\theta,\\theta}+g_{\\theta \\theta,r}) = 2r / r^2 \\\\\n",
    "2\\Gamma^\\theta_{\\theta\\theta} & = & g^{\\theta\\theta}(g_{\\theta\\theta,\\theta}-g_{\\theta\\theta,\\theta}+g_{\\theta \\theta,\\theta})= 0 \\\\\n",
    "\\end{array}\n",
    "$$"
   ]
  },
  {
   "cell_type": "markdown",
   "metadata": {},
   "source": [
    "Finalmente encontramos que las únicas componentes no nulas de los símbolos de Christoffel son:\n",
    "\n",
    "$$\n",
    "\\begin{array}{rcl}\n",
    "\\Gamma^r_{\\theta\\theta} & = & -r\\\\\n",
    "\\Gamma^\\theta_{r\\theta} & = & 1/r\n",
    "\\end{array}\n",
    "$$"
   ]
  },
  {
   "cell_type": "markdown",
   "metadata": {},
   "source": [
    "Pero ¿qué significa todo esto?.  Por la definición de derivada covariante:\n",
    "\n",
    "$$\n",
    "{A^\\mu}_{;\\alpha} = {A^\\mu}_{,\\alpha} + \\Gamma^\\mu_{\\gamma\\alpha} A^\\gamma\n",
    "$$\n",
    "y por lo que hemos encontrado:\n",
    "\n",
    "$$\n",
    "\\begin{array}{rcl}\n",
    "{A^t}_{;\\alpha} & = & {A^t}_{,\\alpha}\\\\\n",
    "{A^z}_{;\\alpha} & = & {A^z}_{,\\alpha}\\\\\n",
    "{A^\\mu}_{;t} & = & {A^\\mu}_{,t}\\\\\n",
    "{A^\\mu}_{;z} & = & {A^\\mu}_{,z}\\\\\n",
    "\\end{array}\n",
    "$$\n",
    "\n",
    "Es decir, en este espacio tiempo la derivada covariante y la derivada parcial convencional de las componentes temporal y $z$ serán exactamente las mismas. Además la derivada covariante respecto a estas componentes será igual a su derivada convencional."
   ]
  },
  {
   "cell_type": "markdown",
   "metadata": {},
   "source": [
    "Por otro lado las únicas derivadas covariantes que no serán triviales son:\n",
    "\n",
    "$$\n",
    "\\begin{array}{rcl}\n",
    "{A^r}_{;\\theta} & = & {A^r}_{,\\theta}+\\Gamma^r_{\\theta\\theta} A^\\theta = {A^r}_{,\\theta}-r A^\\theta\\\\\n",
    "{A^\\theta}_{;r} & = & {A^\\theta}_{,r}+\\Gamma^\\theta_{r\\theta} A^\\theta = {A^\\theta}_{,r}+A^\\theta/r\\\\\n",
    "{A^\\theta}_{;\\theta} & = & {A^\\theta}_{,\\theta}+\\Gamma^\\theta_{\\theta r} A^r = {A^\\theta}_{,\\theta}+A^r/r\\\\\n",
    "\\end{array}\n",
    "$$\n"
   ]
  },
  {
   "cell_type": "markdown",
   "metadata": {},
   "source": [
    "#### 2.3.5.3. Símbolos de Christoffel de una superficie esférica\n",
    "<a id='christoffel_esfera'></a>"
   ]
  },
  {
   "cell_type": "markdown",
   "metadata": {},
   "source": [
    "En el caso de una superficie de dos dimensiones embebida en un espacio de tres dimensiones la métrica es:\n",
    "\n",
    "$$\n",
    "\\mathrm{d}l^2=R^2\\mathrm{d}\\theta^2+R^2\\sin^2\\theta\\;\\mathrm{d}\\phi^2\n",
    "$$\n",
    "donde $\\theta$ es el ángulo polar (medido respecto al polo de la esfera) y $\\phi$ es el ángulo acimutal.  La métrica será en este caso simplemente:\n",
    "\n",
    "$$\n",
    "g_{ij}:\\mathrm{diag}(R^2,R^2\\sin^2\\theta)\n",
    "$$\n",
    "con inversa:\n",
    "\n",
    "$$\n",
    "g^{ij}:\\mathrm{diag}\\left(\\frac{1}{R^2},\\frac{1}{R^2\\sin^2\\theta}\\right)\n",
    "$$\n"
   ]
  },
  {
   "cell_type": "markdown",
   "metadata": {},
   "source": [
    "En este caso (dos dimensiones), el número de símbolos de Christoffel serán $n^2(n+1)/2=2^2 3/2=6$ y de nuevo por ser la métrica diagonal:\n",
    "\n",
    "$$\n",
    "\\Gamma^i_{jk}=\\frac{1}{2}g^{ii}g_{\\{ij,k\\}}\n",
    "$$"
   ]
  },
  {
   "cell_type": "markdown",
   "metadata": {},
   "source": [
    "Los símbolos de Christoffel correspondientes a la variable $\\theta$ serán:\n",
    "\n",
    "$$\n",
    "\\begin{array}{rcl}\n",
    "2\\Gamma^\\theta_{\\theta\\theta} & = & g^{\\theta\\theta}(g_{\\theta\\theta,\\theta}-g_{\\theta\\theta,\\theta}+g_{\\theta\\theta,\\theta})= 0\\\\\n",
    "2\\Gamma^\\theta_{\\phi\\theta} & = & g^{\\theta\\theta}(g_{\\theta\\phi,\\theta}-g_{\\phi\\theta,\\theta}+g_{\\theta\\theta,\\phi})= 0 \\\\\n",
    "2\\Gamma^\\theta_{\\phi\\phi} & = & g^{\\theta\\theta}(g_{\\theta\\phi,\\phi}-g_{\\phi\\phi,\\theta}+g_{\\phi\\theta,\\phi})= 2 \\sin\\theta \\cos\\theta\\\\\n",
    "\\end{array}\n",
    "$$"
   ]
  },
  {
   "cell_type": "markdown",
   "metadata": {},
   "source": [
    "Por otro lado, los correspondientes a la variable $\\phi$ serán:\n",
    "\n",
    "$$\n",
    "\\begin{array}{rcl}\n",
    "2\\Gamma^\\phi_{\\phi\\phi} & = & g^{\\phi\\phi}(g_{\\phi\\phi,\\phi}-g_{\\phi\\phi,\\phi}+g_{\\phi\\phi,\\phi})= 0\\\\\n",
    "2\\Gamma^\\phi_{\\phi\\theta} & = & g^{\\phi\\phi}(g_{\\phi\\phi,\\theta}-g_{\\phi\\theta,\\phi}+g_{\\theta\\phi,\\phi}) = 2 \\cos\\theta / \\sin\\theta  \\\\\n",
    "2\\Gamma^\\phi_{\\theta\\theta} & = & g^{\\phi\\phi}(g_{\\phi\\theta,\\theta}-g_{\\theta\\theta,\\phi}+g_{\\theta\\phi,\\theta} = 0  \\\\\n",
    "\\end{array}\n",
    "$$"
   ]
  },
  {
   "cell_type": "markdown",
   "metadata": {},
   "source": [
    "Es decir solo dos de los 6 símbolos de Christoffel son diferentes de cero:\n",
    "\n",
    "$$\n",
    "\\begin{array}{rcl}\n",
    "\\Gamma^\\theta_{\\phi\\phi} & = & \\frac{1}{2}\\sin 2\\theta\\\\\n",
    "\\Gamma^\\phi_{\\phi\\theta} & = & \\cot \\theta\n",
    "\\end{array}\n",
    "$$"
   ]
  },
  {
   "cell_type": "markdown",
   "metadata": {},
   "source": [
    "#### 2.3.5.4. Símbolos de Christoffel de una métrica general\n",
    "<a id='christoffel_general'></a>"
   ]
  },
  {
   "cell_type": "markdown",
   "metadata": {},
   "source": [
    "Supongamos una métrica general de la forma:\n",
    "\n",
    "$$\n",
    "\\mathrm{d}s^2=\\exp(2A)\\;\\mathrm{d}t_L^2-\\exp(2B)\\;\\mathrm{d}r^2-r^2\\mathrm{d}\\theta^2-r^2\\sin^2\\theta\\mathrm{d}\\phi^2\n",
    "$$\n",
    "donde $A=A(r)$ y $B=B(r)$ son funciones solamente de la variable radial.  La métrica tiene la forma:\n",
    "\n",
    "$$\n",
    "g_{\\mu\\nu}:\\mathrm{diag}(\\exp(2A),-\\exp(2B),-r^2,-r^2\\sin^2\\theta)\n",
    "$$\n",
    "con inversa:\n",
    "\n",
    "$$\n",
    "g^{\\mu\\nu}:\\mathrm{diag}\\left(\\exp(-2A),-\\exp(-2B),-\\frac{1}{r^2},-\\frac{1}{r^2\\sin^2\\theta}\\right)\n",
    "$$"
   ]
  },
  {
   "cell_type": "markdown",
   "metadata": {},
   "source": [
    "¿Cuáles son los símbolos de Christoffel en este caso? De nuevo por tratarse de una métrica diagonal todos los símbolos de Christoffel tienen la forma:\n",
    "\n",
    "$$\n",
    "\\Gamma^\\rho_{\\mu\\nu}=\\frac{1}{2}g^{\\rho\\rho}g_{\\{\\rho\\mu,\\nu\\}}\n",
    "$$"
   ]
  },
  {
   "cell_type": "markdown",
   "metadata": {},
   "source": [
    "En esta situación tenemos que las componentes de la métrica dependen de forma complicada de las coordenadas con la excepción del tiempo.  Esto implica que en general todos los símbolos de Christoffel potencialmente pueden ser distintos de cero y debemos analizarlos uno a uno:"
   ]
  },
  {
   "cell_type": "markdown",
   "metadata": {},
   "source": [
    "- **Componentes $t$, $\\Gamma^t_{\\mu\\nu}$**.  Como sabemos que solo las derivadas $g_{tt,r}$ son distintas de cero, los únicos símbolos distintos de cero serán aquellos para los que $\\mu=0$ y $\\nu=r$:\n",
    "\n",
    "  $$2\\Gamma^{t}_{tr}=g^{tt} g_{tt,r}=2\\exp(-2A)\\exp(2A)A'=A'$$\n",
    "  donde $A'=\\mathrm{d}A/\\mathrm{d}r$."
   ]
  },
  {
   "cell_type": "markdown",
   "metadata": {},
   "source": [
    "- **Componentes $r$, $\\Gamma^r_{\\mu\\nu}$**.  En este caso de nuevo sabemos que solo las derivadas $g_{tt,r}$, $g_{ii,r}$ son distintas de cero, de modo que los símbolos de Christoffel que pueden ser distintos de cero serán aquellos en los que aparece repetidos los índices correspondientes, es decir: $\\Gamma^{r}_{tt}$, $\\Gamma^{r}_{rr}$, $\\Gamma^{r}_{\\theta\\theta}$, $\\Gamma^{r}_{\\phi\\phi}$.  El valor de estos símbolos será:\n",
    "\n",
    "  $$\n",
    "  \\begin{array}{rcl}\n",
    "  2\\Gamma^r_{00} & = & -g^{rr}g_{00,r} = 2 A'\\exp[2(A-B)]\\\\\n",
    "  2\\Gamma^r_{rr} & = & -g^{rr}g_{rr,r} = 2B'\\\\\n",
    "  2\\Gamma^r_{\\theta\\theta} & = & -g^{rr}g_{\\theta\\theta,r} = -r\\exp(-2B)\\\\\n",
    "  2\\Gamma^r_{\\phi\\phi} & = & -g^{rr}g_{\\phi\\phi,r} = -r\\sin^2\\theta\\exp(-2B)\\\\\n",
    "  \\end{array}\n",
    "  $$"
   ]
  },
  {
   "cell_type": "markdown",
   "metadata": {},
   "source": [
    "- **Componentes $\\theta$, $\\Gamma^\\theta_{\\mu\\nu}$**.  En este caso sabemos que solo las derivada $g_{\\theta\\theta,r}$ y $g_{\\phi\\phi,\\theta}$ serán distinta de cero. De modo que solo aquellos símbolos en los que se repita $\\theta$ y $\\phi$ lo serán también:\n",
    "\n",
    "  $$\n",
    "  \\begin{array}{rcl}\n",
    "  2\\Gamma^\\theta_{r\\theta} & = & g^{\\theta\\theta}g_{\\theta\\theta,r} = 2/r \\\\\n",
    "  2\\Gamma^\\theta_{\\phi\\phi} & = & -g^{\\theta\\theta}g_{\\phi\\phi,r} = -2\\sin\\theta\\cos\\theta\\\\\n",
    "  \\end{array}\n",
    "  $$"
   ]
  },
  {
   "cell_type": "markdown",
   "metadata": {},
   "source": [
    "- **Componentes $\\phi$, $\\Gamma^\\phi_{\\mu\\nu}$**.  El caso es análogo a la componente anterior y los únicos coeficientes distintos de cero serán:\n",
    "\n",
    "  $$\n",
    "  \\begin{array}{rcl}\n",
    "  2\\Gamma^\\phi_{r\\phi} & = & g^{\\phi\\phi}g_{\\phi\\phi,r} = 2/r \\\\\n",
    "  2\\Gamma^\\phi_{\\theta\\phi} & = & g^{\\phi\\phi}g_{\\phi\\phi,\\theta} = 2\\cot\\theta\\\\\n",
    "  \\end{array}\n",
    "  $$"
   ]
  },
  {
   "cell_type": "markdown",
   "metadata": {},
   "source": [
    "En total entonces, de las 40 componentes solo 9 de ellas son distintas de cero."
   ]
  },
  {
   "cell_type": "markdown",
   "metadata": {},
   "source": [
    "#### 2.3.5.5. Cálculo numérico\n",
    "<a id='christoffel_numerico'></a>"
   ]
  },
  {
   "cell_type": "markdown",
   "metadata": {},
   "source": [
    "El cálculo numérico de los símbolos de Christoffel puede ser útil para futuros cálculos."
   ]
  },
  {
   "cell_type": "markdown",
   "metadata": {},
   "source": [
    "La rutina para calcular los símbolos de Christoffel será:"
   ]
  },
  {
   "cell_type": "code",
   "execution_count": 1,
   "metadata": {
    "codelabel": "",
    "codeplot": 0,
    "tags": [
     "export"
    ]
   },
   "outputs": [],
   "source": [
    "def Gamma(xmu,gfun,gargs=(),N=4,dxmax=1e-6,alpha=-1,mu=0,nu=0):\n",
    "    \"\"\"\n",
    "    Calcula todos los símbolos de Christoffel\n",
    "    gfun: función métrica\n",
    "    xmu: evento\n",
    "    \"\"\"\n",
    "    from scipy.misc import derivative\n",
    "    from numpy import where,arange\n",
    "    from numpy import zeros\n",
    "    #Indices\n",
    "    index=arange(N)\n",
    "\n",
    "    #Gamma\n",
    "    G=zeros((N,N,N))\n",
    "    \n",
    "    for pi in range(N):\n",
    "        for nu in range(N):\n",
    "            #Inversa\n",
    "            gpipi=1/gfun(xmu,pi,*gargs) #g^pipi\n",
    "            #Coeficientes diagonales\n",
    "            xd=xmu[pi] #Punto en el que estoy derivando\n",
    "            dx=max(dxmax,dxmax*abs(xd))\n",
    "            gnunu_pi=derivative(lambda x:gfun(where(index==pi,x,xmu),nu,*gargs),xd,dx)\n",
    "            G[pi,nu,nu]=-0.5*gpipi*gnunu_pi\n",
    "            #Coeficientes mixtos\n",
    "            if nu==pi:continue\n",
    "            xd=xmu[nu] #Punto en el que estoy derivando\n",
    "            dx=max(dxmax,dxmax*abs(xd))\n",
    "            gpipi_nu=derivative(lambda x:gfun(where(index==nu,x,xmu),pi,*gargs),xd,dx)\n",
    "            G[pi,pi,nu]=0.5*gpipi*gpipi_nu\n",
    "            G[pi,nu,pi]=G[pi,pi,nu]\n",
    "    return G if alpha<0 else G[alpha,mu,nu]"
   ]
  },
  {
   "cell_type": "markdown",
   "metadata": {},
   "source": [
    "Para poner a prueba nuestra rutina, podemos usar algunas de las métricas que habíamos visto antes.  "
   ]
  },
  {
   "cell_type": "markdown",
   "metadata": {},
   "source": [
    "Por ejemplo la métrica en coordenadas cilíndricas:"
   ]
  },
  {
   "cell_type": "code",
   "execution_count": 2,
   "metadata": {
    "codelabel": "",
    "codeplot": 0,
    "tags": [
     "export"
    ]
   },
   "outputs": [],
   "source": [
    "from numpy import array\n",
    "def g_cilindricas_4d(xmu,mu):\n",
    "    \"\"\"\n",
    "    Coeficiente métrico g_mumu calculados en el evento xmu \n",
    "    para espacio-tiempo plano con coordenadas cilíndricas.\n",
    "    \n",
    "    g_munu=diag(1,-1,-r^2,-1)\n",
    "    \"\"\"\n",
    "    from numpy import sin\n",
    "    t,r,teta,z=xmu\n",
    "    if mu==0:\n",
    "        g=1\n",
    "    elif mu==1:\n",
    "        g=-1\n",
    "    elif mu==2:\n",
    "        g=-r**2\n",
    "    elif mu==3:\n",
    "        g=-1\n",
    "    return g"
   ]
  },
  {
   "cell_type": "markdown",
   "metadata": {},
   "source": [
    "Escogemos ahora un punto en el cuál calcular los símbolos de Christoffel:"
   ]
  },
  {
   "cell_type": "code",
   "execution_count": 3,
   "metadata": {
    "codelabel": "",
    "codeplot": 0
   },
   "outputs": [],
   "source": [
    "xmu=array([0,2,0,1])"
   ]
  },
  {
   "cell_type": "markdown",
   "metadata": {},
   "source": [
    "E invocamos nuestra rutina:"
   ]
  },
  {
   "cell_type": "code",
   "execution_count": 4,
   "metadata": {
    "codelabel": "",
    "codeplot": 0
   },
   "outputs": [],
   "source": [
    "G=Gamma(xmu,g_cilindricas_4d,N=4)"
   ]
  },
  {
   "cell_type": "code",
   "execution_count": 5,
   "metadata": {
    "codelabel": "",
    "codeplot": 0,
    "scrolled": true,
    "tags": [
     "hide_input"
    ]
   },
   "outputs": [
    {
     "name": "stdout",
     "output_type": "stream",
     "text": [
      "Símbolos de Christoffel:\n",
      "[[[-0.   0.   0.   0. ]\n",
      "  [ 0.  -0.   0.   0. ]\n",
      "  [ 0.   0.  -0.   0. ]\n",
      "  [ 0.   0.   0.  -0. ]]\n",
      "\n",
      " [[ 0.  -0.   0.   0. ]\n",
      "  [-0.   0.  -0.  -0. ]\n",
      "  [ 0.  -0.  -2.   0. ]\n",
      "  [ 0.  -0.   0.   0. ]]\n",
      "\n",
      " [[ 0.   0.  -0.   0. ]\n",
      "  [ 0.   0.   0.5  0. ]\n",
      "  [-0.   0.5  0.  -0. ]\n",
      "  [ 0.   0.  -0.   0. ]]\n",
      "\n",
      " [[ 0.   0.   0.  -0. ]\n",
      "  [ 0.   0.   0.  -0. ]\n",
      "  [ 0.   0.   0.  -0. ]\n",
      "  [-0.  -0.  -0.   0. ]]]\n"
     ]
    }
   ],
   "source": [
    "print(f\"Símbolos de Christoffel:\\n{G}\")"
   ]
  },
  {
   "cell_type": "markdown",
   "metadata": {},
   "source": [
    "Donde vemos que lo que habíamos determinado en nuestro primer ejercicio es correcto.  Solo dos símbolos de Christoffel son diferentes de cero:"
   ]
  },
  {
   "cell_type": "code",
   "execution_count": 6,
   "metadata": {
    "codelabel": "",
    "codeplot": 0
   },
   "outputs": [
    {
     "name": "stdout",
     "output_type": "stream",
     "text": [
      "G^1_22 = -2.000000000002\n",
      "G^2_21 = 0.5000000000005\n"
     ]
    }
   ],
   "source": [
    "print(f\"G^1_{22} = {G[1,2,2]}\")\n",
    "print(f\"G^2_{21} = {G[2,2,1]}\")"
   ]
  },
  {
   "cell_type": "markdown",
   "metadata": {},
   "source": [
    "y su valor coincide con el valor teóricamente esperado de $\\Gamma^1_{22}=-r$ y $\\Gamma^2_{21}=1/r$."
   ]
  },
  {
   "cell_type": "markdown",
   "metadata": {
    "tags": [
     "navigation"
    ]
   },
   "source": [
    "[Indice](index.ipynb) | Previo: [RelatividadGeneral.TransporteParalelo](02.02.00.00.RelatividadGeneral.TransporteParalelo.ipynb) | Siguiente: [RelatividadGeneral.Geodesicas](02.04.00.00.RelatividadGeneral.Geodesicas.ipynb)"
   ]
  }
 ],
 "metadata": {
  "celltoolbar": "Tags",
  "kernelspec": {
   "display_name": "Python 3",
   "language": "python",
   "name": "python3"
  },
  "language_info": {
   "codemirror_mode": {
    "name": "ipython",
    "version": 3
   },
   "file_extension": ".py",
   "mimetype": "text/x-python",
   "name": "python",
   "nbconvert_exporter": "python",
   "pygments_lexer": "ipython3",
   "version": "3.6.8"
  }
 },
 "nbformat": 4,
 "nbformat_minor": 2
}
