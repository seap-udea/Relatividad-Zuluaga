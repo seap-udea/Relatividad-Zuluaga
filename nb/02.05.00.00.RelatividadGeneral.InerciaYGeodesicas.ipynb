{
 "cells": [
  {
   "cell_type": "markdown",
   "metadata": {
    "tags": [
     "navigation"
    ]
   },
   "source": [
    "[Indice](index.ipynb) | Previo: [RelatividadGeneral.Geodesicas](02.04.00.00.RelatividadGeneral.Geodesicas.ipynb) | Siguiente: [RelatividadGeneral.Curvatura](02.06.00.00.RelatividadGeneral.Curvatura.ipynb)"
   ]
  },
  {
   "cell_type": "markdown",
   "metadata": {},
   "source": [
    "## 2.5. La geodésica y un principio variacional\n",
    "<a id='geodesica_variacional'></a>"
   ]
  },
  {
   "cell_type": "markdown",
   "metadata": {},
   "source": [
    "Una deducción alternativa de la ecuación geodésica se puede obtener mediante un principio variacional. "
   ]
  },
  {
   "cell_type": "markdown",
   "metadata": {},
   "source": [
    "Sabemos que la longitud de un intervalo en el espacio-tiempo es:\n",
    "\n",
    "$$\n",
    "\\mathrm{d}s^2=g_{\\mu\\nu}\\mathrm{d}x^\\mu\\mathrm{d}x^\\nu\n",
    "$$"
   ]
  },
  {
   "cell_type": "markdown",
   "metadata": {},
   "source": [
    "La longitud entonces de una curva hecha solo de intervalos temporaloides o luminoides, entre dos eventos $A$ y $B$ será:\n",
    "\n",
    "$$\n",
    "S=\\int_A^B \\mathrm{d}s=\\int_A^B \\sqrt{g_{\\mu\\nu}(x^\\alpha)\\mathrm{d}x^\\mu\\mathrm{d}x^\\nu}\n",
    "$$\n",
    "donde $x^\\alpha$ son los puntos a lo largo de la trayectoria."
   ]
  },
  {
   "cell_type": "markdown",
   "metadata": {},
   "source": [
    "Si suponemos que parametrizamos los eventos en la trayectoria con un parámetro $\\lambda$, de modo que $x^\\alpha(\\lambda)$ esta espresión se puede escribir como:\n",
    "\n",
    "$$\n",
    "S=\\int_A^B\\sqrt{g_{\\mu\\nu}(x^\\alpha)\\frac{\\mathrm{d}x^\\mu}{\\mathrm{d}\\lambda}\\frac{\\mathrm{d}x^\\nu}{\\mathrm{d}\\lambda}}\\mathrm{d}\\lambda\n",
    "$$"
   ]
  },
  {
   "cell_type": "markdown",
   "metadata": {},
   "source": [
    "La geodésica entre los eventos $A$ y $B$ será aquella curva tal que la longitud total entre ellos es *extremal*:\n",
    "\n",
    "$$\n",
    "\\delta S=0\n",
    "$$"
   ]
  },
  {
   "cell_type": "markdown",
   "metadata": {},
   "source": [
    "El intervalo entre puntos de la geodésica lo llamaremos en lo sucesivo:\n",
    "\n",
    "$$\n",
    "\\mathrm{d}\\sigma^2\\equiv g_{\\mu\\nu}\\mathrm{d}x^\\mu\\mathrm{d}x^\\nu\n",
    "$$"
   ]
  },
  {
   "cell_type": "markdown",
   "metadata": {},
   "source": [
    "El problema de la determinación de la geodésica es similar al problema de la mecánica clásica de la determinación de la trayectoria real de un sistema en el espacio de configuración que tiene acción $S$ y lagrangiano $L$."
   ]
  },
  {
   "cell_type": "markdown",
   "metadata": {},
   "source": [
    "Aquí vemos que el papel de la acción $S$ de la mecánica clásica lo juega la longitud de arco y el papel del Lagrangiano lo juega la cantidad:\n",
    "\n",
    "$$\n",
    "L\\equiv\\sqrt{g_{\\mu\\nu}\\frac{\\mathrm{d}x^\\mu}{\\mathrm{d}\\lambda}\\frac{\\mathrm{d}x^\\nu}{\\mathrm{d}\\lambda}}\n",
    "$$"
   ]
  },
  {
   "cell_type": "markdown",
   "metadata": {},
   "source": [
    "Sobre la curva extremal, en general \n",
    "\n",
    "$$\\mathrm{d}\\sigma^2=D \\mathrm{d}\\lambda^2$$ \n",
    "donde $D$ es una constante."
   ]
  },
  {
   "cell_type": "markdown",
   "metadata": {},
   "source": [
    "Sabemos por el cálculo variacional que la condición variacional es equivalente a las ecuaciones de Euler:\n",
    "\n",
    "$$\n",
    "\\left.\\frac{\\mathrm{d}}{\\mathrm{d}\\lambda}\\left(\\frac{\\partial L}{\\partial \\dot x^\\alpha}\\right)-\\frac{\\partial L}{\\partial x^\\alpha}\\right|_{\\;\\lambda=\\sigma}=0\n",
    "$$\n",
    "donde por brevedad hemos escrito $\\dot x^\\alpha\\equiv\\mathrm{d}x^\\alpha/\\mathrm{d}\\lambda$ "
   ]
  },
  {
   "cell_type": "markdown",
   "metadata": {},
   "source": [
    "Puede probarse que la ecuación de Euler en este caso resulta igual a:\n",
    "\n",
    "$$\n",
    "\\frac{\\mathrm{d^2} x^\\mu}{\\mathrm{d}\\sigma^2} + \\Gamma^\\mu_{\\alpha\\gamma} \\frac{\\mathrm{d} x^\\alpha}{\\mathrm{d}\\sigma}\\frac{\\mathrm{d} x^\\gamma}{\\mathrm{d}\\sigma}=0\n",
    "$$\n",
    "que es justamente la ecuación de la geodésica."
   ]
  },
  {
   "cell_type": "markdown",
   "metadata": {},
   "source": [
    "Nótese que en realidad la ecuación de la geodésica puede escribirse en general como:\n",
    "\n",
    "$$\n",
    "\\frac{\\mathrm{d^2} x^\\mu}{\\mathrm{d}\\lambda^2} + \\Gamma^\\mu_{\\alpha\\gamma} \\frac{\\mathrm{d} x^\\alpha}{\\mathrm{d}\\lambda}\\frac{\\mathrm{d} x^\\gamma}{\\mathrm{d}\\lambda}=0\n",
    "$$\n",
    "que es independiente de si la geodésica es temporaloide o nula."
   ]
  },
  {
   "cell_type": "markdown",
   "metadata": {},
   "source": [
    "Para el caso de partículas con masa:\n",
    "\n",
    "$$\\mathrm{d}\\sigma^2=c^2 \\mathrm{d}\\tau^2$$ \n",
    "por lo tanto es posible usar como parámetro afin $\\lambda=\\tau$ de modo que para este caso:\n",
    "\n",
    "$$\n",
    "\\frac{\\mathrm{d^2} x^\\mu}{\\mathrm{d}\\tau^2} + \\Gamma^\\mu_{\\alpha\\gamma} \\frac{\\mathrm{d} x^\\alpha}{\\mathrm{d}\\tau}\\frac{\\mathrm{d} x^\\gamma}{\\mathrm{d}\\tau}=0\n",
    "$$"
   ]
  },
  {
   "cell_type": "markdown",
   "metadata": {
    "label": "",
    "subtitle": "La geodésica y el principio de máximo envejecimiento**. En el espacio Euclidiano o en otras variedades Riemanianas la geodésica representa la trayectoria de longitud mínima, el camino de menor distancia.  En un espacio Lorentziano, sin embargo, y como vimos en el capítulo de Relatividad Espacial, el camino entre dos puntos a lo largo de la geodésica es realmente el camino más largo.  A esto se lo conoce como el **principio de máximo envejecimiento",
    "tags": [
     "box_note"
    ],
    "title": "Nota"
   },
   "source": [
    "> **Nota: La geodésica y el principio de máximo envejecimiento**. En el espacio Euclidiano o en otras variedades Riemanianas la geodésica representa la trayectoria de longitud mínima, el camino de menor distancia.  En un espacio Lorentziano, sin embargo, y como vimos en el capítulo de Relatividad Espacial, el camino entre dos puntos a lo largo de la geodésica es realmente el camino más largo.  A esto se lo conoce como el **principio de máximo envejecimiento.**<a id=''></a> "
   ]
  },
  {
   "cell_type": "markdown",
   "metadata": {},
   "source": [
    "## 2.6. Geodésicas y movimiento inercial\n",
    "<a id='geodesicas_inercia'></a>"
   ]
  },
  {
   "cell_type": "markdown",
   "metadata": {},
   "source": [
    "La introducción en la sección anterior del concepto de geodésica conduce a la formulación de un principio físico nuevo en la relatividad general, a saber un principio de inercia generalizado:"
   ]
  },
  {
   "cell_type": "markdown",
   "metadata": {
    "label": "",
    "subtitle": "Postulado de las geodésicas",
    "tags": [
     "box_postulate"
    ],
    "title": "Postulado"
   },
   "source": [
    "> **Postulado: Postulado de las geodésicas.**<a id=''></a> Una partícula de prueba completamente libre de fuerzas, en un espacio tiempo general caracterizado por una métrica $g_{\\mu\\nu}$ y símbolos de Christoffel (coeficientes conexión) asociado $\\Gamma^{\\alpha}_{\\mu\\nu}$, se mueve sobre una geodésica en el espacio-tiempo:\n",
    "\n",
    "$$\n",
    "\\frac{\\mathrm{d^2} x^\\mu}{\\mathrm{d}\\lambda^2} + \\Gamma^\\mu_{\\alpha\\gamma} \\frac{\\mathrm{d} x^\\alpha}{\\mathrm{d}\\lambda}\\frac{\\mathrm{d} x^\\gamma}{\\mathrm{d}\\lambda}=0\n",
    "$$"
   ]
  },
  {
   "cell_type": "markdown",
   "metadata": {},
   "source": [
    "Es interesante anotar que el resultado anterior vale tanto si la partícula es masiva como si no lo es, es decir, aplica en el caso de la luz o de otras partículas de prueba.  La diferencia es que en el caso de una partícula masiva en la cual los intervalos son temporaloides, el parámetro afín puede identificarse con el tiempo propio y la ecuación geodésica adopta la forma general:\n",
    "\n",
    "$$\n",
    "\\frac{\\mathrm{d^2} x^\\mu}{\\mathrm{d}\\tau^2} + \\Gamma^\\mu_{\\alpha\\gamma} \\frac{\\mathrm{d} x^\\alpha}{\\mathrm{d}\\tau}\\frac{\\mathrm{d} x^\\gamma}{\\mathrm{d}\\tau}=0\n",
    "$$\n",
    "que ahora es una ecuación completamente física (todas las cantidades involucradas son físicas)."
   ]
  },
  {
   "cell_type": "markdown",
   "metadata": {},
   "source": [
    "Si despejamos $\\mathrm{d^2} x^\\mu/\\mathrm{d}\\tau^2$ obtenemos:\n",
    "\n",
    "$$\n",
    "\\frac{\\mathrm{d^2} x^\\mu}{\\mathrm{d}\\tau^2} = - \\Gamma^\\mu_{\\alpha\\gamma} \\frac{\\mathrm{d} x^\\alpha}{\\mathrm{d}\\tau}\\frac{\\mathrm{d} x^\\gamma}{\\mathrm{d}\\tau}\n",
    "$$\n"
   ]
  },
  {
   "cell_type": "markdown",
   "metadata": {},
   "source": [
    "Clásicamente se puede interpretar como que un cuerpo en un espacio-tiempo con métrica general, experimenta una aceleración incluso en la ausencia de fuerzas."
   ]
  },
  {
   "cell_type": "markdown",
   "metadata": {
    "label": "",
    "subtitle": "El principio que realmente es una proposición",
    "tags": [
     "box_note"
    ],
    "title": "Nota"
   },
   "source": [
    "> **Nota: El principio que realmente es una proposición.**<a id=''></a> El principio de las geodésicas fue propuesto por Einstein como un elemento adicional físico a la relatividad general independiente de las ecuaciones de campo.  Sin embargo, en años posteriores, Einstein y otros colegas demostraron que en realidad este resultado es producto de una propiedad intrínseca de la relatividad, a saber, el teorema de continuidad (conservación de la energía) que puede expresarse matemáticamente como:\n",
    "\n",
    "> $${T^{\\mu\\nu}}_{;\\mu}=0$$\n",
    "> donde $T^{\\mu\\nu}$ es el tensor de esfuerzo-energía que introduciremos en una sección posterior."
   ]
  },
  {
   "cell_type": "markdown",
   "metadata": {},
   "source": [
    "## 2.7. Geodésicas en campo débil\n",
    "<a id='geodesicas_campo_debil'></a>"
   ]
  },
  {
   "cell_type": "markdown",
   "metadata": {},
   "source": [
    "Una de las más interesantes aplicaciones de la ecuación de la geodésica se obtiene al aplicarla a una situación en la que el campo gravitacional es poco intenso."
   ]
  },
  {
   "cell_type": "markdown",
   "metadata": {},
   "source": [
    "Hay dos cosas que desde el punto de vista de la relatividad caracterizan a un campo gravitacional débil:\n",
    "\n",
    "1. En movimiento geodésico en el campo, las velocidades espaciales conseguidas por las partículas son pequeñas, i.e. \n",
    "\n",
    "   $$\\frac{\\mathrm{d}x^i}{\\mathrm{d}\\tau}\\ll\\frac{\\mathrm{d}x^0}{\\mathrm{d}\\tau}$$\n",
    "   recordemos que en unidades luz la primera cantidad nos da la velocidad en unidades de la velocidad de la luz.  Por otro lado, en las mismas unidades la segunda cantidad nos da la diferencia entre el tiempo coordenado y el tiempo propio que en campo débil será casi idéntica.\n",
    "   \n",
    "2. En campo débil la métrica es aproximadamente igual a la métrica de Minkowski.  Podemos escribirla de la forma:\n",
    "\n",
    "   $$g_{\\mu\\nu}=\\eta_{\\mu\\nu}+h_{\\mu\\nu}$$\n",
    "   donde $|h_{\\mu\\nu}|\\ll 1$.  \n",
    "   \n",
    "   A esta forma de escribir la métrica se la llama *linearización* de la métrica y la usaremos más adelante para describir las ondas gravitacionales."
   ]
  },
  {
   "cell_type": "markdown",
   "metadata": {},
   "source": [
    "Nos interesa dedicir la ecuación de movimiento de un cuerpo en caída libre en el campo gravitacional, es decir la ecuación $\\mathrm{d}^2\\vec{r}/\\mathrm{d}t^2\\approx\\mathrm{d}^2 x^i/\\mathrm{d}\\tau^2$.  En lo sucesivo y para simplificar usaremos la notación de Newton:\n",
    "\n",
    "$$\n",
    "\\ddot{x}^\\mu\\equiv\\frac{\\mathrm{d}^2 x^\\mu}{\\mathrm{d}\\tau^2}\n",
    "$$\n",
    "entendiendo que el punto hace referencia a la derivada respecto del tiempo propio y no del tiempo coordenado."
   ]
  },
  {
   "cell_type": "markdown",
   "metadata": {},
   "source": [
    "En esta notación la ecuación geodésica nos queda:\n",
    "\n",
    "$$\n",
    "\\ddot{x}^\\mu = - \\Gamma^\\mu_{\\alpha\\gamma} \\dot{x}^\\alpha\\dot{x}^\\gamma\n",
    "$$"
   ]
  },
  {
   "cell_type": "markdown",
   "metadata": {},
   "source": [
    "Teniendo en cuenta la primera condición podemos escribir una versión aproximada de la ecuación para la componente espacial como:\n",
    "\n",
    "$$\n",
    "\\ddot{x}^\\mu = - \\Gamma^\\mu_{00} (\\dot{x}^0)^2\n",
    "$$"
   ]
  },
  {
   "cell_type": "markdown",
   "metadata": {},
   "source": [
    "Si usamos coordenadas ortogonales para la métrica, sabemos que:\n",
    "\n",
    "$$\n",
    "\\Gamma^\\mu_{00}=-\\frac{1}{2}g^{\\mu\\mu}g_{00,\\mu}\n",
    "$$"
   ]
  },
  {
   "cell_type": "markdown",
   "metadata": {},
   "source": [
    "Suponemos un campo estático, de modo que $\\Gamma^0_{00}=0$ de donde se sigue que sobre la geodésica, en las condiciones propuestas \n",
    "$$\\ddot{x}^0=0$$\n",
    "de donde integrando obtenemos:\n",
    "\n",
    "$$\n",
    "\\frac{\\mathrm{d} x^0}{\\mathrm{d}\\tau}=k\n",
    "$$\n",
    "donde $k$ es una constante de integración a lo largo de la geodésica. Es fácil ver que dado que:\n",
    "\n",
    "$$\n",
    "\\mathrm{d}\\sigma^2\\equiv g_{\\mu\\nu}\\mathrm{d}x^\\mu\\mathrm{d}x^\\nu\n",
    "$$\n",
    "entonces, bajo las aproximaciones podemos escribir, en unidades del sistema internacional:\n",
    "\n",
    "$$\n",
    "c^2\\approx\\left(\\frac{\\mathrm{d} x^0}{\\mathrm{d} \\tau}\\right)^2 \n",
    "$$\n",
    "que es exactamente el mismo resultado:\n",
    "\n",
    "$$\n",
    "\\dot{x}^0=c\n",
    "$$"
   ]
  },
  {
   "cell_type": "markdown",
   "metadata": {},
   "source": [
    "Volviendo a la ecuación de la geodésica, la componente temporal queda:\n",
    "\n",
    "$$\n",
    "\\ddot{x}^i = - c^2\\Gamma^i_{00} \n",
    "$$"
   ]
  },
  {
   "cell_type": "markdown",
   "metadata": {},
   "source": [
    "Usando la linearización de la métrica tenemos:\n",
    "\n",
    "$$\n",
    "\\Gamma^i_{00}=-\\frac{1}{2}\\eta^{ii}h_{00,i}=\\frac{1}{2}h_{00,i}\n",
    "$$"
   ]
  },
  {
   "cell_type": "markdown",
   "metadata": {},
   "source": [
    "De donde finalmente la ecuación de movimiento en campo gravitacional débil se puede escribir como:\n",
    "\n",
    "$$\n",
    "\\ddot{x}^i = - \\frac{c^2}{2}h_{00,i}\n",
    "$$"
   ]
  },
  {
   "cell_type": "markdown",
   "metadata": {},
   "source": [
    "En la mecánica Newtoniana sabemos que:\n",
    "\n",
    "$$\n",
    "\\ddot{\\vec{r}}=-\\vec{\\nabla}\\Phi\n",
    "$$\n",
    "donde $\\phi$ es el potencial gravitacional local (energía potencial gravitacional por unidad de masa) que para la ley de gravitación universal de Newton esta dado por:\n",
    "\n",
    "$$\n",
    "\\Phi=-\\frac{GM}{r}\n",
    "$$"
   ]
  },
  {
   "cell_type": "markdown",
   "metadata": {},
   "source": [
    "La comparación de estas ecuaciones muestra que podemos hacer la identificación:\n",
    "\n",
    "$$\n",
    "h_{00}=\\frac{2\\Phi}{c^2}\n",
    "$$"
   ]
  },
  {
   "cell_type": "markdown",
   "metadata": {},
   "source": [
    "De allí que el coeficiente métrico temporal en campo débil sea:\n",
    "\n",
    "$$\n",
    "g_{00}\\approx 1+\\frac{2\\Phi}{c^2}\n",
    "$$"
   ]
  },
  {
   "cell_type": "markdown",
   "metadata": {},
   "source": [
    "De modo que el comportamiento de las partículas en un campo gravitacional Newtoniano se puede reproducir con una métrica del tipo:\n",
    "\n",
    "$$\n",
    "\\mathrm{d}s^2=\\left(1+\\frac{2\\Phi}{c^2}\\right)\\;\\mathrm{d}t_L^2-\\;\\mathrm{d}r^2-r^2\\mathrm{d}\\theta^2-r^2\\sin^2\\theta\\mathrm{d}\\phi^2\n",
    "$$\n",
    "llamaremos a esta la **métrica de Newton**. "
   ]
  },
  {
   "cell_type": "markdown",
   "metadata": {},
   "source": [
    "Una manera de parametrizar la métrica de Newton es haciendo:\n",
    "\n",
    "$$\n",
    "{\\cal R}\\equiv\\frac{2GM_p}{c^2}\n",
    "$$\n",
    "la métrica se puede escribir de forma simplificada como:\n",
    "\n",
    "$$\n",
    "\\mathrm{d}s^2=\\left(1-\\frac{\\cal R}{r}\\right)\\;\\mathrm{d}t_L^2-\\mathrm{d}r^2-r^2\\mathrm{d}\\theta^2-r^2\\sin^2\\theta\\;\\mathrm{d}\\phi^2\n",
    "$$"
   ]
  },
  {
   "cell_type": "markdown",
   "metadata": {
    "label": "",
    "subtitle": "El parámetro $\\cal R$",
    "tags": [
     "box_note"
    ],
    "title": "Nota"
   },
   "source": [
    "> **Nota: El parámetro $\\cal R$.**<a id=''></a> El parámetro $\\cal R$ es una cantidad de gran relevancia en la relatvidad general.  Más adelante la obtendremos después de estudiar la métrica de Schwarzschild.  Por ahora podemos ver que es una cantidad que es proporcional a la masa de un cuerpo con una constante de proporcionalidad $2G/c^2=1.4852\\times 10^{-27} m^3 kg^{-1}$ muy pequeña.  Esta cantidad solo se hace macroscópica para valores de la masa del cuerpo realmente grandes (masas planetarias).  Una manera de parametrizar este parámetro es:\n",
    "\n",
    "> $${\\cal R}=2.954\\;\\mathrm{km}\\;\\left(\\frac{M_p}{M_\\odot}\\right)$$"
   ]
  },
  {
   "cell_type": "markdown",
   "metadata": {},
   "source": [
    "### 2.7.1. Un ejemplo numérico\n",
    "<a id='campo_debil_numerico'></a>"
   ]
  },
  {
   "cell_type": "markdown",
   "metadata": {},
   "source": [
    "Una implementación de la métrica de Newton es:"
   ]
  },
  {
   "cell_type": "code",
   "execution_count": 63,
   "metadata": {
    "codelabel": "",
    "codeplot": 0,
    "tags": [
     "export"
    ]
   },
   "outputs": [],
   "source": [
    "#Metrica Newtoniana: g_munu=diag(A,-1,-r^2,-r^2 sin^2 teta)\n",
    "def Gfun_newton(R):\n",
    "    from export import Gamma_sym\n",
    "    from sympy import symbols,diag,sin\n",
    "    s=symbols('t r q f')\n",
    "    t,r,q,f=s\n",
    "    gcomp=diag((1-R/r),-1,-r**2,-r**2*sin(q)**2)\n",
    "    Gfun=Gamma_sym(gcomp,s)\n",
    "    return Gfun"
   ]
  },
  {
   "cell_type": "markdown",
   "metadata": {},
   "source": [
    "Vamos a estudiar el movimiento de un cuerpo que es lanzado horizontalmente con una velocidad $v$ a una altura $h$ ($r=R_p+h$) sobre la superficie del planeta.  Las condiciones iniciales del problema son por tanto: \n",
    "\n",
    "\\begin{eqnarray}\n",
    "x_{0L}^\\mu & : & \\left(0,\\frac{R_p+h}{c},\\frac{\\pi}{2},\\frac{\\pi}{2}\\right)\\\\\n",
    "\\frac{\\mathrm{d}x_{0L}^\\mu}{\\mathrm{d}\\sigma} & : & \\left(1,v_y,0,-\\frac{v_x}{R_p}\\right)\n",
    "\\end{eqnarray}"
   ]
  },
  {
   "cell_type": "markdown",
   "metadata": {},
   "source": [
    "Las propiedades del cuerpo son:"
   ]
  },
  {
   "cell_type": "code",
   "execution_count": 108,
   "metadata": {
    "codelabel": "",
    "codeplot": 0
   },
   "outputs": [],
   "source": [
    "#Constantes\n",
    "c=3e8 # m/s\n",
    "G=6.67e-11 # m^3 kg^-1 s^-2\n",
    "\n",
    "#Propiedades del planeta\n",
    "Mp=5.98e24 # kg\n",
    "Rp=6.371e6 # m\n",
    "Phip=-G*Mp/Rp\n",
    "gp=G*Mp/Rp**2\n",
    "R=2*G*Mp/c**2"
   ]
  },
  {
   "cell_type": "code",
   "execution_count": 109,
   "metadata": {
    "codelabel": "",
    "codeplot": 0,
    "tags": [
     "hide_input"
    ]
   },
   "outputs": [
    {
     "name": "stdout",
     "output_type": "stream",
     "text": [
      "R = 0.008863688888888891 m\n",
      "Potencial en la superficie, Phi(Rp) = -62606498.19494586 J/kg\n",
      "Aceleración gravitacional, g(Rp) = 9.826792998735812 m/s^2\n"
     ]
    }
   ],
   "source": [
    "print(f\"R = {R} m\")\n",
    "print(f\"Potencial en la superficie, Phi(Rp) = {Phip} J/kg\")\n",
    "print(f\"Aceleración gravitacional, g(Rp) = {gp} m/s^2\")"
   ]
  },
  {
   "cell_type": "markdown",
   "metadata": {},
   "source": [
    "Las condiciones iniciales serán por otro lado:"
   ]
  },
  {
   "cell_type": "code",
   "execution_count": 118,
   "metadata": {
    "codelabel": "",
    "codeplot": 0
   },
   "outputs": [],
   "source": [
    "#Altura y velocidad\n",
    "h=100.0 # m\n",
    "vx=10.0 # m/s\n",
    "vy=30.0 # m/s\n",
    "from numpy import sqrt,arctan2,sin\n",
    "alfa=arctan2(vy,vx)\n",
    "v=(vx**2+vy**2)**0.5\n",
    "T=2*v*sin(alfa)/gp\n",
    "\n",
    "#Condiciones iniciales\n",
    "from numpy import array,pi\n",
    "Y0s=array([0.0,(Rp+h)/c,pi/2,pi/2,\n",
    "           1,vy/c,0,-vx/Rp])\n",
    "\n",
    "#Tiempo de integración\n",
    "from numpy import pi,linspace\n",
    "ss=linspace(0,T,30)"
   ]
  },
  {
   "cell_type": "code",
   "execution_count": 119,
   "metadata": {
    "codelabel": "",
    "codeplot": 0
   },
   "outputs": [
    {
     "name": "stdout",
     "output_type": "stream",
     "text": [
      "Condiciones iniciales = [ 0.00000000e+00  2.12370000e-02  1.57079633e+00  1.57079633e+00\n",
      "  1.00000000e+00  1.00000000e-07  0.00000000e+00 -1.56961231e-06]\n"
     ]
    }
   ],
   "source": [
    "print(f\"Condiciones iniciales = {Y0s}\")"
   ]
  },
  {
   "cell_type": "code",
   "execution_count": 120,
   "metadata": {
    "codelabel": "",
    "codeplot": 0
   },
   "outputs": [],
   "source": [
    "%matplotlib nbagg"
   ]
  },
  {
   "cell_type": "code",
   "execution_count": 122,
   "metadata": {
    "codelabel": "fig:02.05.00.00.RelatividadGeneral.InerciaYGeodesicas_42",
    "codeplot": 1,
    "figcaption": "<b>Figura 2.42.</b> "
   },
   "outputs": [
    {
     "data": {
      "application/javascript": [
       "/* Put everything inside the global mpl namespace */\n",
       "/* global mpl */\n",
       "window.mpl = {};\n",
       "\n",
       "mpl.get_websocket_type = function () {\n",
       "    if (typeof WebSocket !== 'undefined') {\n",
       "        return WebSocket;\n",
       "    } else if (typeof MozWebSocket !== 'undefined') {\n",
       "        return MozWebSocket;\n",
       "    } else {\n",
       "        alert(\n",
       "            'Your browser does not have WebSocket support. ' +\n",
       "                'Please try Chrome, Safari or Firefox ≥ 6. ' +\n",
       "                'Firefox 4 and 5 are also supported but you ' +\n",
       "                'have to enable WebSockets in about:config.'\n",
       "        );\n",
       "    }\n",
       "};\n",
       "\n",
       "mpl.figure = function (figure_id, websocket, ondownload, parent_element) {\n",
       "    this.id = figure_id;\n",
       "\n",
       "    this.ws = websocket;\n",
       "\n",
       "    this.supports_binary = this.ws.binaryType !== undefined;\n",
       "\n",
       "    if (!this.supports_binary) {\n",
       "        var warnings = document.getElementById('mpl-warnings');\n",
       "        if (warnings) {\n",
       "            warnings.style.display = 'block';\n",
       "            warnings.textContent =\n",
       "                'This browser does not support binary websocket messages. ' +\n",
       "                'Performance may be slow.';\n",
       "        }\n",
       "    }\n",
       "\n",
       "    this.imageObj = new Image();\n",
       "\n",
       "    this.context = undefined;\n",
       "    this.message = undefined;\n",
       "    this.canvas = undefined;\n",
       "    this.rubberband_canvas = undefined;\n",
       "    this.rubberband_context = undefined;\n",
       "    this.format_dropdown = undefined;\n",
       "\n",
       "    this.image_mode = 'full';\n",
       "\n",
       "    this.root = document.createElement('div');\n",
       "    this.root.setAttribute('style', 'display: inline-block');\n",
       "    this._root_extra_style(this.root);\n",
       "\n",
       "    parent_element.appendChild(this.root);\n",
       "\n",
       "    this._init_header(this);\n",
       "    this._init_canvas(this);\n",
       "    this._init_toolbar(this);\n",
       "\n",
       "    var fig = this;\n",
       "\n",
       "    this.waiting = false;\n",
       "\n",
       "    this.ws.onopen = function () {\n",
       "        fig.send_message('supports_binary', { value: fig.supports_binary });\n",
       "        fig.send_message('send_image_mode', {});\n",
       "        if (fig.ratio !== 1) {\n",
       "            fig.send_message('set_dpi_ratio', { dpi_ratio: fig.ratio });\n",
       "        }\n",
       "        fig.send_message('refresh', {});\n",
       "    };\n",
       "\n",
       "    this.imageObj.onload = function () {\n",
       "        if (fig.image_mode === 'full') {\n",
       "            // Full images could contain transparency (where diff images\n",
       "            // almost always do), so we need to clear the canvas so that\n",
       "            // there is no ghosting.\n",
       "            fig.context.clearRect(0, 0, fig.canvas.width, fig.canvas.height);\n",
       "        }\n",
       "        fig.context.drawImage(fig.imageObj, 0, 0);\n",
       "    };\n",
       "\n",
       "    this.imageObj.onunload = function () {\n",
       "        fig.ws.close();\n",
       "    };\n",
       "\n",
       "    this.ws.onmessage = this._make_on_message_function(this);\n",
       "\n",
       "    this.ondownload = ondownload;\n",
       "};\n",
       "\n",
       "mpl.figure.prototype._init_header = function () {\n",
       "    var titlebar = document.createElement('div');\n",
       "    titlebar.classList =\n",
       "        'ui-dialog-titlebar ui-widget-header ui-corner-all ui-helper-clearfix';\n",
       "    var titletext = document.createElement('div');\n",
       "    titletext.classList = 'ui-dialog-title';\n",
       "    titletext.setAttribute(\n",
       "        'style',\n",
       "        'width: 100%; text-align: center; padding: 3px;'\n",
       "    );\n",
       "    titlebar.appendChild(titletext);\n",
       "    this.root.appendChild(titlebar);\n",
       "    this.header = titletext;\n",
       "};\n",
       "\n",
       "mpl.figure.prototype._canvas_extra_style = function (_canvas_div) {};\n",
       "\n",
       "mpl.figure.prototype._root_extra_style = function (_canvas_div) {};\n",
       "\n",
       "mpl.figure.prototype._init_canvas = function () {\n",
       "    var fig = this;\n",
       "\n",
       "    var canvas_div = (this.canvas_div = document.createElement('div'));\n",
       "    canvas_div.setAttribute(\n",
       "        'style',\n",
       "        'border: 1px solid #ddd;' +\n",
       "            'box-sizing: content-box;' +\n",
       "            'clear: both;' +\n",
       "            'min-height: 1px;' +\n",
       "            'min-width: 1px;' +\n",
       "            'outline: 0;' +\n",
       "            'overflow: hidden;' +\n",
       "            'position: relative;' +\n",
       "            'resize: both;'\n",
       "    );\n",
       "\n",
       "    function on_keyboard_event_closure(name) {\n",
       "        return function (event) {\n",
       "            return fig.key_event(event, name);\n",
       "        };\n",
       "    }\n",
       "\n",
       "    canvas_div.addEventListener(\n",
       "        'keydown',\n",
       "        on_keyboard_event_closure('key_press')\n",
       "    );\n",
       "    canvas_div.addEventListener(\n",
       "        'keyup',\n",
       "        on_keyboard_event_closure('key_release')\n",
       "    );\n",
       "\n",
       "    this._canvas_extra_style(canvas_div);\n",
       "    this.root.appendChild(canvas_div);\n",
       "\n",
       "    var canvas = (this.canvas = document.createElement('canvas'));\n",
       "    canvas.classList.add('mpl-canvas');\n",
       "    canvas.setAttribute('style', 'box-sizing: content-box;');\n",
       "\n",
       "    this.context = canvas.getContext('2d');\n",
       "\n",
       "    var backingStore =\n",
       "        this.context.backingStorePixelRatio ||\n",
       "        this.context.webkitBackingStorePixelRatio ||\n",
       "        this.context.mozBackingStorePixelRatio ||\n",
       "        this.context.msBackingStorePixelRatio ||\n",
       "        this.context.oBackingStorePixelRatio ||\n",
       "        this.context.backingStorePixelRatio ||\n",
       "        1;\n",
       "\n",
       "    this.ratio = (window.devicePixelRatio || 1) / backingStore;\n",
       "    if (this.ratio !== 1) {\n",
       "        fig.send_message('set_dpi_ratio', { dpi_ratio: this.ratio });\n",
       "    }\n",
       "\n",
       "    var rubberband_canvas = (this.rubberband_canvas = document.createElement(\n",
       "        'canvas'\n",
       "    ));\n",
       "    rubberband_canvas.setAttribute(\n",
       "        'style',\n",
       "        'box-sizing: content-box; position: absolute; left: 0; top: 0; z-index: 1;'\n",
       "    );\n",
       "\n",
       "    var resizeObserver = new ResizeObserver(function (entries) {\n",
       "        var nentries = entries.length;\n",
       "        for (var i = 0; i < nentries; i++) {\n",
       "            var entry = entries[i];\n",
       "            var width, height;\n",
       "            if (entry.contentBoxSize) {\n",
       "                if (entry.contentBoxSize instanceof Array) {\n",
       "                    // Chrome 84 implements new version of spec.\n",
       "                    width = entry.contentBoxSize[0].inlineSize;\n",
       "                    height = entry.contentBoxSize[0].blockSize;\n",
       "                } else {\n",
       "                    // Firefox implements old version of spec.\n",
       "                    width = entry.contentBoxSize.inlineSize;\n",
       "                    height = entry.contentBoxSize.blockSize;\n",
       "                }\n",
       "            } else {\n",
       "                // Chrome <84 implements even older version of spec.\n",
       "                width = entry.contentRect.width;\n",
       "                height = entry.contentRect.height;\n",
       "            }\n",
       "\n",
       "            // Keep the size of the canvas and rubber band canvas in sync with\n",
       "            // the canvas container.\n",
       "            if (entry.devicePixelContentBoxSize) {\n",
       "                // Chrome 84 implements new version of spec.\n",
       "                canvas.setAttribute(\n",
       "                    'width',\n",
       "                    entry.devicePixelContentBoxSize[0].inlineSize\n",
       "                );\n",
       "                canvas.setAttribute(\n",
       "                    'height',\n",
       "                    entry.devicePixelContentBoxSize[0].blockSize\n",
       "                );\n",
       "            } else {\n",
       "                canvas.setAttribute('width', width * fig.ratio);\n",
       "                canvas.setAttribute('height', height * fig.ratio);\n",
       "            }\n",
       "            canvas.setAttribute(\n",
       "                'style',\n",
       "                'width: ' + width + 'px; height: ' + height + 'px;'\n",
       "            );\n",
       "\n",
       "            rubberband_canvas.setAttribute('width', width);\n",
       "            rubberband_canvas.setAttribute('height', height);\n",
       "\n",
       "            // And update the size in Python. We ignore the initial 0/0 size\n",
       "            // that occurs as the element is placed into the DOM, which should\n",
       "            // otherwise not happen due to the minimum size styling.\n",
       "            if (width != 0 && height != 0) {\n",
       "                fig.request_resize(width, height);\n",
       "            }\n",
       "        }\n",
       "    });\n",
       "    resizeObserver.observe(canvas_div);\n",
       "\n",
       "    function on_mouse_event_closure(name) {\n",
       "        return function (event) {\n",
       "            return fig.mouse_event(event, name);\n",
       "        };\n",
       "    }\n",
       "\n",
       "    rubberband_canvas.addEventListener(\n",
       "        'mousedown',\n",
       "        on_mouse_event_closure('button_press')\n",
       "    );\n",
       "    rubberband_canvas.addEventListener(\n",
       "        'mouseup',\n",
       "        on_mouse_event_closure('button_release')\n",
       "    );\n",
       "    // Throttle sequential mouse events to 1 every 20ms.\n",
       "    rubberband_canvas.addEventListener(\n",
       "        'mousemove',\n",
       "        on_mouse_event_closure('motion_notify')\n",
       "    );\n",
       "\n",
       "    rubberband_canvas.addEventListener(\n",
       "        'mouseenter',\n",
       "        on_mouse_event_closure('figure_enter')\n",
       "    );\n",
       "    rubberband_canvas.addEventListener(\n",
       "        'mouseleave',\n",
       "        on_mouse_event_closure('figure_leave')\n",
       "    );\n",
       "\n",
       "    canvas_div.addEventListener('wheel', function (event) {\n",
       "        if (event.deltaY < 0) {\n",
       "            event.step = 1;\n",
       "        } else {\n",
       "            event.step = -1;\n",
       "        }\n",
       "        on_mouse_event_closure('scroll')(event);\n",
       "    });\n",
       "\n",
       "    canvas_div.appendChild(canvas);\n",
       "    canvas_div.appendChild(rubberband_canvas);\n",
       "\n",
       "    this.rubberband_context = rubberband_canvas.getContext('2d');\n",
       "    this.rubberband_context.strokeStyle = '#000000';\n",
       "\n",
       "    this._resize_canvas = function (width, height, forward) {\n",
       "        if (forward) {\n",
       "            canvas_div.style.width = width + 'px';\n",
       "            canvas_div.style.height = height + 'px';\n",
       "        }\n",
       "    };\n",
       "\n",
       "    // Disable right mouse context menu.\n",
       "    this.rubberband_canvas.addEventListener('contextmenu', function (_e) {\n",
       "        event.preventDefault();\n",
       "        return false;\n",
       "    });\n",
       "\n",
       "    function set_focus() {\n",
       "        canvas.focus();\n",
       "        canvas_div.focus();\n",
       "    }\n",
       "\n",
       "    window.setTimeout(set_focus, 100);\n",
       "};\n",
       "\n",
       "mpl.figure.prototype._init_toolbar = function () {\n",
       "    var fig = this;\n",
       "\n",
       "    var toolbar = document.createElement('div');\n",
       "    toolbar.classList = 'mpl-toolbar';\n",
       "    this.root.appendChild(toolbar);\n",
       "\n",
       "    function on_click_closure(name) {\n",
       "        return function (_event) {\n",
       "            return fig.toolbar_button_onclick(name);\n",
       "        };\n",
       "    }\n",
       "\n",
       "    function on_mouseover_closure(tooltip) {\n",
       "        return function (event) {\n",
       "            if (!event.currentTarget.disabled) {\n",
       "                return fig.toolbar_button_onmouseover(tooltip);\n",
       "            }\n",
       "        };\n",
       "    }\n",
       "\n",
       "    fig.buttons = {};\n",
       "    var buttonGroup = document.createElement('div');\n",
       "    buttonGroup.classList = 'mpl-button-group';\n",
       "    for (var toolbar_ind in mpl.toolbar_items) {\n",
       "        var name = mpl.toolbar_items[toolbar_ind][0];\n",
       "        var tooltip = mpl.toolbar_items[toolbar_ind][1];\n",
       "        var image = mpl.toolbar_items[toolbar_ind][2];\n",
       "        var method_name = mpl.toolbar_items[toolbar_ind][3];\n",
       "\n",
       "        if (!name) {\n",
       "            /* Instead of a spacer, we start a new button group. */\n",
       "            if (buttonGroup.hasChildNodes()) {\n",
       "                toolbar.appendChild(buttonGroup);\n",
       "            }\n",
       "            buttonGroup = document.createElement('div');\n",
       "            buttonGroup.classList = 'mpl-button-group';\n",
       "            continue;\n",
       "        }\n",
       "\n",
       "        var button = (fig.buttons[name] = document.createElement('button'));\n",
       "        button.classList = 'mpl-widget';\n",
       "        button.setAttribute('role', 'button');\n",
       "        button.setAttribute('aria-disabled', 'false');\n",
       "        button.addEventListener('click', on_click_closure(method_name));\n",
       "        button.addEventListener('mouseover', on_mouseover_closure(tooltip));\n",
       "\n",
       "        var icon_img = document.createElement('img');\n",
       "        icon_img.src = '_images/' + image + '.png';\n",
       "        icon_img.srcset = '_images/' + image + '_large.png 2x';\n",
       "        icon_img.alt = tooltip;\n",
       "        button.appendChild(icon_img);\n",
       "\n",
       "        buttonGroup.appendChild(button);\n",
       "    }\n",
       "\n",
       "    if (buttonGroup.hasChildNodes()) {\n",
       "        toolbar.appendChild(buttonGroup);\n",
       "    }\n",
       "\n",
       "    var fmt_picker = document.createElement('select');\n",
       "    fmt_picker.classList = 'mpl-widget';\n",
       "    toolbar.appendChild(fmt_picker);\n",
       "    this.format_dropdown = fmt_picker;\n",
       "\n",
       "    for (var ind in mpl.extensions) {\n",
       "        var fmt = mpl.extensions[ind];\n",
       "        var option = document.createElement('option');\n",
       "        option.selected = fmt === mpl.default_extension;\n",
       "        option.innerHTML = fmt;\n",
       "        fmt_picker.appendChild(option);\n",
       "    }\n",
       "\n",
       "    var status_bar = document.createElement('span');\n",
       "    status_bar.classList = 'mpl-message';\n",
       "    toolbar.appendChild(status_bar);\n",
       "    this.message = status_bar;\n",
       "};\n",
       "\n",
       "mpl.figure.prototype.request_resize = function (x_pixels, y_pixels) {\n",
       "    // Request matplotlib to resize the figure. Matplotlib will then trigger a resize in the client,\n",
       "    // which will in turn request a refresh of the image.\n",
       "    this.send_message('resize', { width: x_pixels, height: y_pixels });\n",
       "};\n",
       "\n",
       "mpl.figure.prototype.send_message = function (type, properties) {\n",
       "    properties['type'] = type;\n",
       "    properties['figure_id'] = this.id;\n",
       "    this.ws.send(JSON.stringify(properties));\n",
       "};\n",
       "\n",
       "mpl.figure.prototype.send_draw_message = function () {\n",
       "    if (!this.waiting) {\n",
       "        this.waiting = true;\n",
       "        this.ws.send(JSON.stringify({ type: 'draw', figure_id: this.id }));\n",
       "    }\n",
       "};\n",
       "\n",
       "mpl.figure.prototype.handle_save = function (fig, _msg) {\n",
       "    var format_dropdown = fig.format_dropdown;\n",
       "    var format = format_dropdown.options[format_dropdown.selectedIndex].value;\n",
       "    fig.ondownload(fig, format);\n",
       "};\n",
       "\n",
       "mpl.figure.prototype.handle_resize = function (fig, msg) {\n",
       "    var size = msg['size'];\n",
       "    if (size[0] !== fig.canvas.width || size[1] !== fig.canvas.height) {\n",
       "        fig._resize_canvas(size[0], size[1], msg['forward']);\n",
       "        fig.send_message('refresh', {});\n",
       "    }\n",
       "};\n",
       "\n",
       "mpl.figure.prototype.handle_rubberband = function (fig, msg) {\n",
       "    var x0 = msg['x0'] / fig.ratio;\n",
       "    var y0 = (fig.canvas.height - msg['y0']) / fig.ratio;\n",
       "    var x1 = msg['x1'] / fig.ratio;\n",
       "    var y1 = (fig.canvas.height - msg['y1']) / fig.ratio;\n",
       "    x0 = Math.floor(x0) + 0.5;\n",
       "    y0 = Math.floor(y0) + 0.5;\n",
       "    x1 = Math.floor(x1) + 0.5;\n",
       "    y1 = Math.floor(y1) + 0.5;\n",
       "    var min_x = Math.min(x0, x1);\n",
       "    var min_y = Math.min(y0, y1);\n",
       "    var width = Math.abs(x1 - x0);\n",
       "    var height = Math.abs(y1 - y0);\n",
       "\n",
       "    fig.rubberband_context.clearRect(\n",
       "        0,\n",
       "        0,\n",
       "        fig.canvas.width / fig.ratio,\n",
       "        fig.canvas.height / fig.ratio\n",
       "    );\n",
       "\n",
       "    fig.rubberband_context.strokeRect(min_x, min_y, width, height);\n",
       "};\n",
       "\n",
       "mpl.figure.prototype.handle_figure_label = function (fig, msg) {\n",
       "    // Updates the figure title.\n",
       "    fig.header.textContent = msg['label'];\n",
       "};\n",
       "\n",
       "mpl.figure.prototype.handle_cursor = function (fig, msg) {\n",
       "    var cursor = msg['cursor'];\n",
       "    switch (cursor) {\n",
       "        case 0:\n",
       "            cursor = 'pointer';\n",
       "            break;\n",
       "        case 1:\n",
       "            cursor = 'default';\n",
       "            break;\n",
       "        case 2:\n",
       "            cursor = 'crosshair';\n",
       "            break;\n",
       "        case 3:\n",
       "            cursor = 'move';\n",
       "            break;\n",
       "    }\n",
       "    fig.rubberband_canvas.style.cursor = cursor;\n",
       "};\n",
       "\n",
       "mpl.figure.prototype.handle_message = function (fig, msg) {\n",
       "    fig.message.textContent = msg['message'];\n",
       "};\n",
       "\n",
       "mpl.figure.prototype.handle_draw = function (fig, _msg) {\n",
       "    // Request the server to send over a new figure.\n",
       "    fig.send_draw_message();\n",
       "};\n",
       "\n",
       "mpl.figure.prototype.handle_image_mode = function (fig, msg) {\n",
       "    fig.image_mode = msg['mode'];\n",
       "};\n",
       "\n",
       "mpl.figure.prototype.handle_history_buttons = function (fig, msg) {\n",
       "    for (var key in msg) {\n",
       "        if (!(key in fig.buttons)) {\n",
       "            continue;\n",
       "        }\n",
       "        fig.buttons[key].disabled = !msg[key];\n",
       "        fig.buttons[key].setAttribute('aria-disabled', !msg[key]);\n",
       "    }\n",
       "};\n",
       "\n",
       "mpl.figure.prototype.handle_navigate_mode = function (fig, msg) {\n",
       "    if (msg['mode'] === 'PAN') {\n",
       "        fig.buttons['Pan'].classList.add('active');\n",
       "        fig.buttons['Zoom'].classList.remove('active');\n",
       "    } else if (msg['mode'] === 'ZOOM') {\n",
       "        fig.buttons['Pan'].classList.remove('active');\n",
       "        fig.buttons['Zoom'].classList.add('active');\n",
       "    } else {\n",
       "        fig.buttons['Pan'].classList.remove('active');\n",
       "        fig.buttons['Zoom'].classList.remove('active');\n",
       "    }\n",
       "};\n",
       "\n",
       "mpl.figure.prototype.updated_canvas_event = function () {\n",
       "    // Called whenever the canvas gets updated.\n",
       "    this.send_message('ack', {});\n",
       "};\n",
       "\n",
       "// A function to construct a web socket function for onmessage handling.\n",
       "// Called in the figure constructor.\n",
       "mpl.figure.prototype._make_on_message_function = function (fig) {\n",
       "    return function socket_on_message(evt) {\n",
       "        if (evt.data instanceof Blob) {\n",
       "            /* FIXME: We get \"Resource interpreted as Image but\n",
       "             * transferred with MIME type text/plain:\" errors on\n",
       "             * Chrome.  But how to set the MIME type?  It doesn't seem\n",
       "             * to be part of the websocket stream */\n",
       "            evt.data.type = 'image/png';\n",
       "\n",
       "            /* Free the memory for the previous frames */\n",
       "            if (fig.imageObj.src) {\n",
       "                (window.URL || window.webkitURL).revokeObjectURL(\n",
       "                    fig.imageObj.src\n",
       "                );\n",
       "            }\n",
       "\n",
       "            fig.imageObj.src = (window.URL || window.webkitURL).createObjectURL(\n",
       "                evt.data\n",
       "            );\n",
       "            fig.updated_canvas_event();\n",
       "            fig.waiting = false;\n",
       "            return;\n",
       "        } else if (\n",
       "            typeof evt.data === 'string' &&\n",
       "            evt.data.slice(0, 21) === 'data:image/png;base64'\n",
       "        ) {\n",
       "            fig.imageObj.src = evt.data;\n",
       "            fig.updated_canvas_event();\n",
       "            fig.waiting = false;\n",
       "            return;\n",
       "        }\n",
       "\n",
       "        var msg = JSON.parse(evt.data);\n",
       "        var msg_type = msg['type'];\n",
       "\n",
       "        // Call the  \"handle_{type}\" callback, which takes\n",
       "        // the figure and JSON message as its only arguments.\n",
       "        try {\n",
       "            var callback = fig['handle_' + msg_type];\n",
       "        } catch (e) {\n",
       "            console.log(\n",
       "                \"No handler for the '\" + msg_type + \"' message type: \",\n",
       "                msg\n",
       "            );\n",
       "            return;\n",
       "        }\n",
       "\n",
       "        if (callback) {\n",
       "            try {\n",
       "                // console.log(\"Handling '\" + msg_type + \"' message: \", msg);\n",
       "                callback(fig, msg);\n",
       "            } catch (e) {\n",
       "                console.log(\n",
       "                    \"Exception inside the 'handler_\" + msg_type + \"' callback:\",\n",
       "                    e,\n",
       "                    e.stack,\n",
       "                    msg\n",
       "                );\n",
       "            }\n",
       "        }\n",
       "    };\n",
       "};\n",
       "\n",
       "// from http://stackoverflow.com/questions/1114465/getting-mouse-location-in-canvas\n",
       "mpl.findpos = function (e) {\n",
       "    //this section is from http://www.quirksmode.org/js/events_properties.html\n",
       "    var targ;\n",
       "    if (!e) {\n",
       "        e = window.event;\n",
       "    }\n",
       "    if (e.target) {\n",
       "        targ = e.target;\n",
       "    } else if (e.srcElement) {\n",
       "        targ = e.srcElement;\n",
       "    }\n",
       "    if (targ.nodeType === 3) {\n",
       "        // defeat Safari bug\n",
       "        targ = targ.parentNode;\n",
       "    }\n",
       "\n",
       "    // pageX,Y are the mouse positions relative to the document\n",
       "    var boundingRect = targ.getBoundingClientRect();\n",
       "    var x = e.pageX - (boundingRect.left + document.body.scrollLeft);\n",
       "    var y = e.pageY - (boundingRect.top + document.body.scrollTop);\n",
       "\n",
       "    return { x: x, y: y };\n",
       "};\n",
       "\n",
       "/*\n",
       " * return a copy of an object with only non-object keys\n",
       " * we need this to avoid circular references\n",
       " * http://stackoverflow.com/a/24161582/3208463\n",
       " */\n",
       "function simpleKeys(original) {\n",
       "    return Object.keys(original).reduce(function (obj, key) {\n",
       "        if (typeof original[key] !== 'object') {\n",
       "            obj[key] = original[key];\n",
       "        }\n",
       "        return obj;\n",
       "    }, {});\n",
       "}\n",
       "\n",
       "mpl.figure.prototype.mouse_event = function (event, name) {\n",
       "    var canvas_pos = mpl.findpos(event);\n",
       "\n",
       "    if (name === 'button_press') {\n",
       "        this.canvas.focus();\n",
       "        this.canvas_div.focus();\n",
       "    }\n",
       "\n",
       "    var x = canvas_pos.x * this.ratio;\n",
       "    var y = canvas_pos.y * this.ratio;\n",
       "\n",
       "    this.send_message(name, {\n",
       "        x: x,\n",
       "        y: y,\n",
       "        button: event.button,\n",
       "        step: event.step,\n",
       "        guiEvent: simpleKeys(event),\n",
       "    });\n",
       "\n",
       "    /* This prevents the web browser from automatically changing to\n",
       "     * the text insertion cursor when the button is pressed.  We want\n",
       "     * to control all of the cursor setting manually through the\n",
       "     * 'cursor' event from matplotlib */\n",
       "    event.preventDefault();\n",
       "    return false;\n",
       "};\n",
       "\n",
       "mpl.figure.prototype._key_event_extra = function (_event, _name) {\n",
       "    // Handle any extra behaviour associated with a key event\n",
       "};\n",
       "\n",
       "mpl.figure.prototype.key_event = function (event, name) {\n",
       "    // Prevent repeat events\n",
       "    if (name === 'key_press') {\n",
       "        if (event.which === this._key) {\n",
       "            return;\n",
       "        } else {\n",
       "            this._key = event.which;\n",
       "        }\n",
       "    }\n",
       "    if (name === 'key_release') {\n",
       "        this._key = null;\n",
       "    }\n",
       "\n",
       "    var value = '';\n",
       "    if (event.ctrlKey && event.which !== 17) {\n",
       "        value += 'ctrl+';\n",
       "    }\n",
       "    if (event.altKey && event.which !== 18) {\n",
       "        value += 'alt+';\n",
       "    }\n",
       "    if (event.shiftKey && event.which !== 16) {\n",
       "        value += 'shift+';\n",
       "    }\n",
       "\n",
       "    value += 'k';\n",
       "    value += event.which.toString();\n",
       "\n",
       "    this._key_event_extra(event, name);\n",
       "\n",
       "    this.send_message(name, { key: value, guiEvent: simpleKeys(event) });\n",
       "    return false;\n",
       "};\n",
       "\n",
       "mpl.figure.prototype.toolbar_button_onclick = function (name) {\n",
       "    if (name === 'download') {\n",
       "        this.handle_save(this, null);\n",
       "    } else {\n",
       "        this.send_message('toolbar_button', { name: name });\n",
       "    }\n",
       "};\n",
       "\n",
       "mpl.figure.prototype.toolbar_button_onmouseover = function (tooltip) {\n",
       "    this.message.textContent = tooltip;\n",
       "};\n",
       "mpl.toolbar_items = [[\"Home\", \"Reset original view\", \"fa fa-home icon-home\", \"home\"], [\"Back\", \"Back to previous view\", \"fa fa-arrow-left icon-arrow-left\", \"back\"], [\"Forward\", \"Forward to next view\", \"fa fa-arrow-right icon-arrow-right\", \"forward\"], [\"\", \"\", \"\", \"\"], [\"Pan\", \"Left button pans, Right button zooms\\nx/y fixes axis, CTRL fixes aspect\", \"fa fa-arrows icon-move\", \"pan\"], [\"Zoom\", \"Zoom to rectangle\\nx/y fixes axis, CTRL fixes aspect\", \"fa fa-square-o icon-check-empty\", \"zoom\"], [\"\", \"\", \"\", \"\"], [\"Download\", \"Download plot\", \"fa fa-floppy-o icon-save\", \"download\"]];\n",
       "\n",
       "mpl.extensions = [\"eps\", \"jpeg\", \"pdf\", \"png\", \"ps\", \"raw\", \"svg\", \"tif\"];\n",
       "\n",
       "mpl.default_extension = \"png\";/* global mpl */\n",
       "\n",
       "var comm_websocket_adapter = function (comm) {\n",
       "    // Create a \"websocket\"-like object which calls the given IPython comm\n",
       "    // object with the appropriate methods. Currently this is a non binary\n",
       "    // socket, so there is still some room for performance tuning.\n",
       "    var ws = {};\n",
       "\n",
       "    ws.close = function () {\n",
       "        comm.close();\n",
       "    };\n",
       "    ws.send = function (m) {\n",
       "        //console.log('sending', m);\n",
       "        comm.send(m);\n",
       "    };\n",
       "    // Register the callback with on_msg.\n",
       "    comm.on_msg(function (msg) {\n",
       "        //console.log('receiving', msg['content']['data'], msg);\n",
       "        // Pass the mpl event to the overridden (by mpl) onmessage function.\n",
       "        ws.onmessage(msg['content']['data']);\n",
       "    });\n",
       "    return ws;\n",
       "};\n",
       "\n",
       "mpl.mpl_figure_comm = function (comm, msg) {\n",
       "    // This is the function which gets called when the mpl process\n",
       "    // starts-up an IPython Comm through the \"matplotlib\" channel.\n",
       "\n",
       "    var id = msg.content.data.id;\n",
       "    // Get hold of the div created by the display call when the Comm\n",
       "    // socket was opened in Python.\n",
       "    var element = document.getElementById(id);\n",
       "    var ws_proxy = comm_websocket_adapter(comm);\n",
       "\n",
       "    function ondownload(figure, _format) {\n",
       "        window.open(figure.canvas.toDataURL());\n",
       "    }\n",
       "\n",
       "    var fig = new mpl.figure(id, ws_proxy, ondownload, element);\n",
       "\n",
       "    // Call onopen now - mpl needs it, as it is assuming we've passed it a real\n",
       "    // web socket which is closed, not our websocket->open comm proxy.\n",
       "    ws_proxy.onopen();\n",
       "\n",
       "    fig.parent_element = element;\n",
       "    fig.cell_info = mpl.find_output_cell(\"<div id='\" + id + \"'></div>\");\n",
       "    if (!fig.cell_info) {\n",
       "        console.error('Failed to find cell for figure', id, fig);\n",
       "        return;\n",
       "    }\n",
       "    fig.cell_info[0].output_area.element.one(\n",
       "        'cleared',\n",
       "        { fig: fig },\n",
       "        fig._remove_fig_handler\n",
       "    );\n",
       "};\n",
       "\n",
       "mpl.figure.prototype.handle_close = function (fig, msg) {\n",
       "    var width = fig.canvas.width / fig.ratio;\n",
       "    fig.cell_info[0].output_area.element.off(\n",
       "        'cleared',\n",
       "        fig._remove_fig_handler\n",
       "    );\n",
       "\n",
       "    // Update the output cell to use the data from the current canvas.\n",
       "    fig.push_to_output();\n",
       "    var dataURL = fig.canvas.toDataURL();\n",
       "    // Re-enable the keyboard manager in IPython - without this line, in FF,\n",
       "    // the notebook keyboard shortcuts fail.\n",
       "    IPython.keyboard_manager.enable();\n",
       "    fig.parent_element.innerHTML =\n",
       "        '<img src=\"' + dataURL + '\" width=\"' + width + '\">';\n",
       "    fig.close_ws(fig, msg);\n",
       "};\n",
       "\n",
       "mpl.figure.prototype.close_ws = function (fig, msg) {\n",
       "    fig.send_message('closing', msg);\n",
       "    // fig.ws.close()\n",
       "};\n",
       "\n",
       "mpl.figure.prototype.push_to_output = function (_remove_interactive) {\n",
       "    // Turn the data on the canvas into data in the output cell.\n",
       "    var width = this.canvas.width / this.ratio;\n",
       "    var dataURL = this.canvas.toDataURL();\n",
       "    this.cell_info[1]['text/html'] =\n",
       "        '<img src=\"' + dataURL + '\" width=\"' + width + '\">';\n",
       "};\n",
       "\n",
       "mpl.figure.prototype.updated_canvas_event = function () {\n",
       "    // Tell IPython that the notebook contents must change.\n",
       "    IPython.notebook.set_dirty(true);\n",
       "    this.send_message('ack', {});\n",
       "    var fig = this;\n",
       "    // Wait a second, then push the new image to the DOM so\n",
       "    // that it is saved nicely (might be nice to debounce this).\n",
       "    setTimeout(function () {\n",
       "        fig.push_to_output();\n",
       "    }, 1000);\n",
       "};\n",
       "\n",
       "mpl.figure.prototype._init_toolbar = function () {\n",
       "    var fig = this;\n",
       "\n",
       "    var toolbar = document.createElement('div');\n",
       "    toolbar.classList = 'btn-toolbar';\n",
       "    this.root.appendChild(toolbar);\n",
       "\n",
       "    function on_click_closure(name) {\n",
       "        return function (_event) {\n",
       "            return fig.toolbar_button_onclick(name);\n",
       "        };\n",
       "    }\n",
       "\n",
       "    function on_mouseover_closure(tooltip) {\n",
       "        return function (event) {\n",
       "            if (!event.currentTarget.disabled) {\n",
       "                return fig.toolbar_button_onmouseover(tooltip);\n",
       "            }\n",
       "        };\n",
       "    }\n",
       "\n",
       "    fig.buttons = {};\n",
       "    var buttonGroup = document.createElement('div');\n",
       "    buttonGroup.classList = 'btn-group';\n",
       "    var button;\n",
       "    for (var toolbar_ind in mpl.toolbar_items) {\n",
       "        var name = mpl.toolbar_items[toolbar_ind][0];\n",
       "        var tooltip = mpl.toolbar_items[toolbar_ind][1];\n",
       "        var image = mpl.toolbar_items[toolbar_ind][2];\n",
       "        var method_name = mpl.toolbar_items[toolbar_ind][3];\n",
       "\n",
       "        if (!name) {\n",
       "            /* Instead of a spacer, we start a new button group. */\n",
       "            if (buttonGroup.hasChildNodes()) {\n",
       "                toolbar.appendChild(buttonGroup);\n",
       "            }\n",
       "            buttonGroup = document.createElement('div');\n",
       "            buttonGroup.classList = 'btn-group';\n",
       "            continue;\n",
       "        }\n",
       "\n",
       "        button = fig.buttons[name] = document.createElement('button');\n",
       "        button.classList = 'btn btn-default';\n",
       "        button.href = '#';\n",
       "        button.title = name;\n",
       "        button.innerHTML = '<i class=\"fa ' + image + ' fa-lg\"></i>';\n",
       "        button.addEventListener('click', on_click_closure(method_name));\n",
       "        button.addEventListener('mouseover', on_mouseover_closure(tooltip));\n",
       "        buttonGroup.appendChild(button);\n",
       "    }\n",
       "\n",
       "    if (buttonGroup.hasChildNodes()) {\n",
       "        toolbar.appendChild(buttonGroup);\n",
       "    }\n",
       "\n",
       "    // Add the status bar.\n",
       "    var status_bar = document.createElement('span');\n",
       "    status_bar.classList = 'mpl-message pull-right';\n",
       "    toolbar.appendChild(status_bar);\n",
       "    this.message = status_bar;\n",
       "\n",
       "    // Add the close button to the window.\n",
       "    var buttongrp = document.createElement('div');\n",
       "    buttongrp.classList = 'btn-group inline pull-right';\n",
       "    button = document.createElement('button');\n",
       "    button.classList = 'btn btn-mini btn-primary';\n",
       "    button.href = '#';\n",
       "    button.title = 'Stop Interaction';\n",
       "    button.innerHTML = '<i class=\"fa fa-power-off icon-remove icon-large\"></i>';\n",
       "    button.addEventListener('click', function (_evt) {\n",
       "        fig.handle_close(fig, {});\n",
       "    });\n",
       "    button.addEventListener(\n",
       "        'mouseover',\n",
       "        on_mouseover_closure('Stop Interaction')\n",
       "    );\n",
       "    buttongrp.appendChild(button);\n",
       "    var titlebar = this.root.querySelector('.ui-dialog-titlebar');\n",
       "    titlebar.insertBefore(buttongrp, titlebar.firstChild);\n",
       "};\n",
       "\n",
       "mpl.figure.prototype._remove_fig_handler = function (event) {\n",
       "    var fig = event.data.fig;\n",
       "    fig.close_ws(fig, {});\n",
       "};\n",
       "\n",
       "mpl.figure.prototype._root_extra_style = function (el) {\n",
       "    el.style.boxSizing = 'content-box'; // override notebook setting of border-box.\n",
       "};\n",
       "\n",
       "mpl.figure.prototype._canvas_extra_style = function (el) {\n",
       "    // this is important to make the div 'focusable\n",
       "    el.setAttribute('tabindex', 0);\n",
       "    // reach out to IPython and tell the keyboard manager to turn it's self\n",
       "    // off when our div gets focus\n",
       "\n",
       "    // location in version 3\n",
       "    if (IPython.notebook.keyboard_manager) {\n",
       "        IPython.notebook.keyboard_manager.register_events(el);\n",
       "    } else {\n",
       "        // location in version 2\n",
       "        IPython.keyboard_manager.register_events(el);\n",
       "    }\n",
       "};\n",
       "\n",
       "mpl.figure.prototype._key_event_extra = function (event, _name) {\n",
       "    var manager = IPython.notebook.keyboard_manager;\n",
       "    if (!manager) {\n",
       "        manager = IPython.keyboard_manager;\n",
       "    }\n",
       "\n",
       "    // Check for shift+enter\n",
       "    if (event.shiftKey && event.which === 13) {\n",
       "        this.canvas_div.blur();\n",
       "        // select the cell after this one\n",
       "        var index = IPython.notebook.find_cell_index(this.cell_info[0]);\n",
       "        IPython.notebook.select(index + 1);\n",
       "    }\n",
       "};\n",
       "\n",
       "mpl.figure.prototype.handle_save = function (fig, _msg) {\n",
       "    fig.ondownload(fig, null);\n",
       "};\n",
       "\n",
       "mpl.find_output_cell = function (html_output) {\n",
       "    // Return the cell and output element which can be found *uniquely* in the notebook.\n",
       "    // Note - this is a bit hacky, but it is done because the \"notebook_saving.Notebook\"\n",
       "    // IPython event is triggered only after the cells have been serialised, which for\n",
       "    // our purposes (turning an active figure into a static one), is too late.\n",
       "    var cells = IPython.notebook.get_cells();\n",
       "    var ncells = cells.length;\n",
       "    for (var i = 0; i < ncells; i++) {\n",
       "        var cell = cells[i];\n",
       "        if (cell.cell_type === 'code') {\n",
       "            for (var j = 0; j < cell.output_area.outputs.length; j++) {\n",
       "                var data = cell.output_area.outputs[j];\n",
       "                if (data.data) {\n",
       "                    // IPython >= 3 moved mimebundle to data attribute of output\n",
       "                    data = data.data;\n",
       "                }\n",
       "                if (data['text/html'] === html_output) {\n",
       "                    return [cell, data, j];\n",
       "                }\n",
       "            }\n",
       "        }\n",
       "    }\n",
       "};\n",
       "\n",
       "// Register the function which deals with the matplotlib target/channel.\n",
       "// The kernel may be null if the page has been refreshed.\n",
       "if (IPython.notebook.kernel !== null) {\n",
       "    IPython.notebook.kernel.comm_manager.register_target(\n",
       "        'matplotlib',\n",
       "        mpl.mpl_figure_comm\n",
       "    );\n",
       "}\n"
      ],
      "text/plain": [
       "<IPython.core.display.Javascript object>"
      ]
     },
     "metadata": {},
     "output_type": "display_data"
    },
    {
     "data": {
      "text/html": [
       "<img src=\"data:image/png;base64,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\" width=\"500\">"
      ],
      "text/plain": [
       "<IPython.core.display.HTML object>"
      ]
     },
     "metadata": {},
     "output_type": "display_data"
    }
   ],
   "source": [
    "#Integra la ecuación de la geodésica\n",
    "from scipy.integrate import odeint\n",
    "from export import ecuacion_geodesica\n",
    "Gfun=Gfun_newton(R/c)\n",
    "N=4\n",
    "Ys=odeint(ecuacion_geodesica,Y0s,ss,args=(Gfun,N))\n",
    "\n",
    "#Convierte solución en coordenadas esféricas\n",
    "ts=Ys[:,0]\n",
    "rs=Ys[:,1]\n",
    "qs=Ys[:,2]\n",
    "fs=Ys[:,3]\n",
    "\n",
    "#Convierte coordenadas esféricas en coordenadas cartesianas\n",
    "from numpy import sin,cos\n",
    "xs=rs*sin(qs)*cos(fs)\n",
    "ys=rs*sin(qs)*sin(fs)\n",
    "zs=rs*cos(qs)\n",
    "\n",
    "#Gráfico\n",
    "import matplotlib.pyplot as plt\n",
    "fig=plt.figure(figsize=(5,5))\n",
    "ax=fig.gca()\n",
    "ax.plot(c*xs,c*ys-Rp,label=\"Geodésica\")\n",
    "\n",
    "#Comparación con el movimiento parabólico\n",
    "xs_par=vx*ss\n",
    "ys_par=vy*ss+h-0.5*gp*ss**2\n",
    "ax.plot(xs_par,ys_par,'k+',label=\"Galileo\")\n",
    "\n",
    "#Decoración\n",
    "ax.legend()\n",
    "ax.set_xlabel(\"$x$\")\n",
    "ax.set_ylabel(\"$y$\")\n",
    "ax.set_aspect(\"equal\")\n",
    "fig.tight_layout()"
   ]
  },
  {
   "cell_type": "markdown",
   "metadata": {},
   "source": [
    "<a id='fig:02.05.00.00.RelatividadGeneral.InerciaYGeodesicas_42'></a><center><b>Figura 2.42.</b> </center>"
   ]
  },
  {
   "cell_type": "markdown",
   "metadata": {},
   "source": [
    "Que se corresponde con lo esperado: el cuerpo describe una trayectoria parabólica en el espacio."
   ]
  },
  {
   "cell_type": "markdown",
   "metadata": {},
   "source": [
    "## 2.8. Simetrías y cantidades conservadas\n",
    "<a id='simetrias_conservacion'></a>"
   ]
  },
  {
   "cell_type": "markdown",
   "metadata": {},
   "source": [
    "Las ecuaciones geodésicas son funamentales en Relatividad general y como tal deben ser revisadas con sumo cuidado.  Como sucede en la mecánica clásica con las ecuaciones de movimiento de Newton o las ecuaciones de Lagrange, ellas representan las ecuaciones diferenciales más importantes de la relatividad general."
   ]
  },
  {
   "cell_type": "markdown",
   "metadata": {},
   "source": [
    "Existen distintas maneras de escribir las ecuaciones de la geodésica:\n",
    "\n",
    "\n",
    "1. Versión original:\n",
    "   $$\n",
    "    \\frac{\\mathrm{d^2} x^\\mu}{\\mathrm{d}\\tau^2} = - \\Gamma^\\mu_{\\alpha\\beta} \\frac{\\mathrm{d} x^\\alpha}{\\mathrm{d}\\tau}\\frac{\\mathrm{d} x^\\beta}{\\mathrm{d}\\tau}\n",
    "    $$\n",
    "   que en notación de Newton es:\n",
    "   $$\n",
    "   \\ddot{x}^\\mu = - \\Gamma^\\mu_{\\alpha\\beta} \\dot{x}^\\alpha\\dot{x}^\\beta\n",
    "   $$\n",
    "    \n",
    "2. Versión linearizada\n",
    "\n",
    "   \\begin{eqnarray}\n",
    "   \\nonumber\n",
    "   \\dot{x}^\\mu & = & U^\\mu\\\\\n",
    "   \\nonumber\n",
    "   \\dot{U}^\\mu & = & - \\Gamma^\\mu_{\\alpha\\beta} U^\\alpha U^\\beta\n",
    "   \\end{eqnarray}\n",
    "   \n",
    "3. Versión variacional: si se define:\n",
    "   $$\n",
    "   L=\\sqrt{g_{\\mu\\nu}\\dot{x}^\\mu\\dot{x}^\\nu}\n",
    "   $$\n",
    "   entonces la ecuación de la geodésica es:\n",
    "   $$\n",
    "   \\frac{\\mathrm{d}}{\\mathrm{d}\\tau}\\left(\\frac{\\partial L}{\\partial \\dot x^\\alpha}\\right)-\\frac{\\partial L}{\\partial x^\\alpha}=0\n",
    "   $$"
   ]
  },
  {
   "cell_type": "markdown",
   "metadata": {},
   "source": [
    "Esta última manera de expresar la ecuación permite encontrar constantes de movimiento usando principios similares a los que se usaron en la mecánica clásica."
   ]
  },
  {
   "cell_type": "markdown",
   "metadata": {},
   "source": [
    "### 2.8.1. La métrica como constante\n",
    "<a id='metrica_constante'></a>"
   ]
  },
  {
   "cell_type": "markdown",
   "metadata": {},
   "source": [
    "Como hemos visto antes si se escoge de manera apropiada el parámetro afin entonces el valor de $L$ resulta constante e igual a D.  De aquí resulta nuestra primera constante de movimiento o cuadratura:\n",
    "\n",
    "$$\n",
    "\\sqrt{g_{\\mu\\nu}\\dot{x}^\\mu\\dot{x}^\\nu}=D\n",
    "$$\n",
    "que se puede escribir como:\n",
    "\n",
    "$$\n",
    "g_{\\mu\\nu}U^\\mu U^\\nu=D^2\n",
    "$$"
   ]
  },
  {
   "cell_type": "markdown",
   "metadata": {},
   "source": [
    "En el caso por ejemplo de una geodésica temporaloide, $D=c$ y $\\sigma=\\tau$ de modo que:\n",
    "\n",
    "$$\n",
    "g_{\\mu\\nu}U^\\mu U^\\nu=c^2\n",
    "$$"
   ]
  },
  {
   "cell_type": "markdown",
   "metadata": {},
   "source": [
    "### 2.8.2. Coordenadas cíclicas y vectores de Killing\n",
    "<a id='vector_killing'></a>"
   ]
  },
  {
   "cell_type": "markdown",
   "metadata": {},
   "source": [
    "Si una métrica no depende de una de las coordenadas $x^\\kappa$, entonces la ecuación de Euler (ecuación de la geodésica) se puede escribir como:\n",
    "\n",
    "$$\n",
    "   \\frac{\\mathrm{d}}{\\mathrm{d}\\tau}\\left(\\frac{\\partial L}{\\partial \\dot x^\\kappa}\\right)=0\n",
    "   $$"
   ]
  },
  {
   "cell_type": "markdown",
   "metadata": {},
   "source": [
    "De aquí se obtiene que la cuadratura:\n",
    "\n",
    "$$\n",
    "\\frac{\\partial L}{\\partial \\dot x^\\kappa}=\\mathrm{cte}\n",
    "$$"
   ]
  },
  {
   "cell_type": "markdown",
   "metadata": {},
   "source": [
    "Desarrollando esta ecuación obtenemos:\n",
    "\n",
    "$$\n",
    "-g_{\\kappa\\nu}\\frac{1}{L}\\frac{\\mathrm{d}x^\\nu}{\\mathrm{d}\\sigma}=-g_{\\kappa\\nu}U^\\nu=\\mathrm{cte}\n",
    "$$"
   ]
  },
  {
   "cell_type": "markdown",
   "metadata": {},
   "source": [
    "Si definimos el vector:\n",
    "\n",
    "$$\n",
    "\\xi^\\mu:(0_0,...,1_\\kappa,...,0_4)\n",
    "$$\n",
    "donde la única componente distinta de 0 es la componente $\\kappa$ entonces la constante encontrada se puede escribir como:\n",
    "\n",
    "$$\n",
    "g_{\\mu\\nu}\\xi^\\mu U^\\nu=\\mathrm{cte}\n",
    "$$"
   ]
  },
  {
   "cell_type": "markdown",
   "metadata": {},
   "source": [
    "Que no es otra cosa que el producto punto del cuadrivector $\\xi^\\mu$ y la cuadrivelocidad $U_\\nu$:\n",
    "\n",
    "$$\n",
    "\\xi^\\mu U_\\mu=\\mathrm{cte}\n",
    "$$"
   ]
  },
  {
   "cell_type": "markdown",
   "metadata": {},
   "source": [
    "Al cuadrivector $\\xi^\\mu$ se lo llama el vector de *Killing* asociado con la simetría correspondiente[$^1$](03.03.00.00.Aplicaciones.CosmologiaRelativista.ipynb#notaspie_1)."
   ]
  },
  {
   "cell_type": "markdown",
   "metadata": {},
   "source": [
    "### 2.8.3. Ejemplo: geodésicas en coordenadas cilíndricas\n",
    "<a id='ejemplo_geodesica_cilindricas'></a>"
   ]
  },
  {
   "cell_type": "markdown",
   "metadata": {},
   "source": [
    "Un ejemplo clásico consiste en calcular las geodésicas en un espacio plano cuya métrica es expresada en coordenadas cilíndricas:\n",
    "\n",
    "$$\n",
    "\\mathrm{d}l^2=\\mathrm{d}r^2+r^2\\mathrm{d}\\phi^2+\\mathrm{d}z^2\n",
    "$$"
   ]
  },
  {
   "cell_type": "markdown",
   "metadata": {},
   "source": [
    "Consideremos geodésicas sobre el plano $z=0$.  Podemos escribir la ecuación de la geodésica o escribir sus constantes:"
   ]
  },
  {
   "cell_type": "markdown",
   "metadata": {},
   "source": [
    "1. **Constancia de la métrica**:  En este caso podemos escoger un parámetro afin tal que $D=1$:\n",
    "    \n",
    "    $$\n",
    "    \\sqrt{g_{\\mu\\nu}\\dot{x}^\\mu\\dot{x}^\\nu}=1\n",
    "    $$\n",
    "\n",
    "    que se escribe explícitamente como:\n",
    "    \n",
    "    $$\n",
    "    \\left(\\frac{\\mathrm{d}r}{\\mathrm{d}\\lambda}\\right)^2+r^2\\left(\\frac{\\mathrm{d}\\phi}{\\mathrm{d}\\lambda}\\right)^2=1\n",
    "    $$"
   ]
  },
  {
   "cell_type": "markdown",
   "metadata": {},
   "source": [
    "2. **Variables cíclicas**: En este caso $\\phi$ no aparece en la métrica y por lo tanto el vector de Killing es $\\xi^\\mu:(0,1,0)$, de allí que la siguiente cantidad sea constante:\n",
    "\n",
    "   $$\n",
    "   \\xi^\\mu \\dot{x}_\\mu=h\n",
    "   $$\n",
    "   aquí hemos escogido llamar $h$ a la constante.  Explícitamente:\n",
    "   \n",
    "   $$\n",
    "   g_{\\mu\\nu}\\xi^\\mu\\dot{x}^\\nu=h\n",
    "   $$\n",
    "   o lo que es lo mismo:\n",
    "   \n",
    "   $$\n",
    "   g_{\\phi\\phi}\\dot{\\phi}=r^2\\dot{\\phi}=h\n",
    "   $$"
   ]
  },
  {
   "cell_type": "markdown",
   "metadata": {},
   "source": [
    "Dividiendo esta última ecuación por la primera obtenemos:\n",
    "\n",
    "$$\n",
    "\\frac{\\mathrm{d}\\phi}{\\mathrm{d}r}=\\frac{l}{r^2}\\left(1-\\frac{h^2}{r^2}\\right)^{-1/2}\n",
    "$$"
   ]
  },
  {
   "cell_type": "markdown",
   "metadata": {},
   "source": [
    "Que puede integrarse para dar:\n",
    "\n",
    "$$\n",
    "\\phi=\\phi_0+\\cos^{-1}\\left(\\frac{h}{r}\\right)\n",
    "$$"
   ]
  },
  {
   "cell_type": "markdown",
   "metadata": {},
   "source": [
    "Despejando $r$ obtenemos la forma de las geodésicas:\n",
    "\n",
    "$$\n",
    "r \\cos(\\phi-\\phi_0)=h\n",
    "$$"
   ]
  },
  {
   "cell_type": "markdown",
   "metadata": {},
   "source": [
    "Desarrollando el coseno y teniendo en cuenta que $r\\cos\\phi=x$ y $r\\sin\\phi=y$:\n",
    "\n",
    "$$\n",
    "x\\cos\\phi_0+y\\sin\\phi_0=h\n",
    "$$\n",
    "que es la ecuación general de una línea recta y que es lo que estabamos esperando."
   ]
  },
  {
   "cell_type": "markdown",
   "metadata": {},
   "source": [
    "### 2.8.4. Ejemplo: geodésicas sobre una esfera\n",
    "<a id='ejemplo_geodesica_esfera'></a>"
   ]
  },
  {
   "cell_type": "markdown",
   "metadata": {},
   "source": [
    "Un ejemplo clásico consiste en calcular las geodésicas sobre una esfera:\n",
    "\n",
    "$$\n",
    "\\mathrm{d}l^2=R^2\\mathrm{d}\\theta^2+R^2\\sin^2\\theta\\;\\mathrm{d}\\phi^2\n",
    "$$\n",
    "\n",
    "Ya habíamos hecho este cálculo numéricamente.  Hagámoslo ahora analíticamente."
   ]
  },
  {
   "cell_type": "markdown",
   "metadata": {},
   "source": [
    "1. **Constancia de la métrica**:  En este caso podemos escoger un parámetro afin tal que $D=1$:\n",
    "    \n",
    "    $$\n",
    "    \\sqrt{g_{\\mu\\nu}\\dot{x}^\\mu\\dot{x}^\\nu}=1\n",
    "    $$\n",
    "\n",
    "    que se escribe explícitamente como:\n",
    "    \n",
    "    $$\n",
    "    R^{2}\\left(\\frac{\\mathrm{d} \\theta}{\\mathrm{d} \\lambda}\\right)^{2}+R^{2} \\sin^{2} \\theta\\left(\\frac{\\mathrm{d} \\varphi}{\\mathrm{d} \\lambda}\\right)^{2}=1\n",
    "    $$"
   ]
  },
  {
   "cell_type": "markdown",
   "metadata": {},
   "source": [
    "2. **Variables cíclicas**: En este caso $\\phi$ no aparece en la métrica y por lo tanto el vector de Killing es $\\xi^\\mu:(0,1,0)$, de allí que la siguiente cantidad sea constante:\n",
    "\n",
    "   $$\n",
    "   g_{\\phi\\phi}\\dot{\\phi}=R^2\\sin^2\\theta\\dot{\\phi}=h\n",
    "   $$"
   ]
  },
  {
   "cell_type": "markdown",
   "metadata": {},
   "source": [
    "Dividiendo término a término la primera por el cuadrado de la segunda y reorganizando se produce:\n",
    "\n",
    "$$\n",
    "\\frac{1}{\\sin^2\\theta}\\left(\\frac{\\mathrm{d} \\theta}{\\mathrm{d} \\phi}\\right)^{2}+1=h^2 R^2\\sin^2\\theta\n",
    "$$"
   ]
  },
  {
   "cell_type": "markdown",
   "metadata": {},
   "source": [
    "Llamando $\\kappa=h^2R^2$, la integral y separando variables obtenemos:\n",
    "\n",
    "$$\n",
    "\\pm \\int d \\phi=\\int \\frac{d \\theta}{\\operatorname{sen} \\theta \\sqrt{\\kappa \\operatorname{sen}^{2} \\theta-1}}\n",
    "$$"
   ]
  },
  {
   "cell_type": "markdown",
   "metadata": {},
   "source": [
    "Por tablas de integrales:\n",
    "\n",
    "$$\n",
    "\\tan\\left(\\phi+\\phi_{0}\\right)=\\mp \\frac{\\cos \\theta}{\\sqrt{\\kappa \\operatorname{sen}^{2} \\theta-1}}\n",
    "$$"
   ]
  },
  {
   "cell_type": "markdown",
   "metadata": {},
   "source": [
    "Que puede escribirse como:\n",
    "\n",
    "$$\n",
    "\\operatorname{sin}\\left(\\phi+\\phi_{0}\\right)=\\frac{\\cos \\theta}{\\sqrt{\\kappa-1} \\operatorname{sin} \\theta}\n",
    "$$"
   ]
  },
  {
   "cell_type": "markdown",
   "metadata": {},
   "source": [
    "Y que se puede desarrollar como:\n",
    "\n",
    "$$\n",
    "\\operatorname{sin} \\phi_{0}(R \\operatorname{sin} \\theta \\cos \\phi)+\\cos \\phi_{0}(R \\operatorname{sin} \\theta \\operatorname{sin} \\varphi)=\\frac{1}{\\sqrt{\\kappa-1}}(R \\cos \\theta)\n",
    "$$"
   ]
  },
  {
   "cell_type": "markdown",
   "metadata": {},
   "source": [
    "Que se puede escribir en coordenadas cartesianas como:\n",
    "\n",
    "$$\n",
    "x\\sin\\phi_0+y\\cos\\phi_0-z\\frac{1}{\\sqrt{\\kappa-1}}=0\n",
    "$$\n",
    "que es la ecuación de un plano que pasa por el origen de coordenadas y cuyas coordenadas $x,y,z$ están sobre la superficie de la esfera.  Es decir, esta es la ecuación de una circunferencia máxima, que es lo que sabemos para una geodésica sobre una esfera."
   ]
  },
  {
   "cell_type": "markdown",
   "metadata": {},
   "source": [
    "### 2.8.5. Ejemplo: geodésicas en la métrica de Newton\n",
    "<a id='ejemplo_geodesica_newton'></a>"
   ]
  },
  {
   "cell_type": "markdown",
   "metadata": {},
   "source": [
    "Estudiemos ahora el caso físico de la métrica de Newton:\n",
    "\n",
    "$$\n",
    "\\mathrm{d}s^2=A\\;\\mathrm{d}t_L^2-\\;\\mathrm{d}\\vec{l}^2\n",
    "$$\n",
    "donde\n",
    "\n",
    "$$\n",
    "A\\equiv\\left(1+\\frac{2\\Phi}{c^2}\\right)\n",
    "$$"
   ]
  },
  {
   "cell_type": "markdown",
   "metadata": {},
   "source": [
    "1. **Constancia de la métrica**:  En este caso el parametro afin es $D=c$:\n",
    "    \n",
    "    $$\n",
    "    \\sqrt{g_{\\mu\\nu}\\dot{x}^\\mu\\dot{x}^\\nu}=c\n",
    "    $$\n",
    "\n",
    "    que se escribe explícitamente como:\n",
    "    \n",
    "    $$\n",
    "    A\\left(c\\frac{\\mathrm{d} t}{\\mathrm{d} \\tau}\\right)^{2}-\\left(\\frac{\\mathrm{d}\\vec{l}}{\\mathrm{d} \\tau}\\right)^{2}=c^2\n",
    "    $$"
   ]
  },
  {
   "cell_type": "markdown",
   "metadata": {},
   "source": [
    "2. **Variables cíclicas**: En este caso $t$ no aparece en la métrica y por lo tanto el vector de Killing es $\\xi^\\mu:(1,0,0,0)$, de allí que la siguiente cantidad sea constante:\n",
    "\n",
    "   $$\n",
    "   A\\frac{\\mathrm{d} (ct)}{\\mathrm{d} \\tau}=\\kappa\n",
    "   $$"
   ]
  },
  {
   "cell_type": "markdown",
   "metadata": {},
   "source": [
    "Elevando al cuadrado la última ecuación y dividiendo la primera por el resultado obtenemos:\n",
    "\n",
    "$$\n",
    "\\frac{1}{A}-\\frac{1}{c^2 A^2}\\left(\\frac{\\mathrm{d}\\vec{l}}{\\mathrm{d}t}\\right)^{2}=\\frac{c^2}{\n",
    "\\kappa^2}\n",
    "$$"
   ]
  },
  {
   "cell_type": "markdown",
   "metadata": {},
   "source": [
    "Si identificamos $v=\\mathrm{d}\\vec{l}/\\mathrm{d}t$ y expandimos:\n",
    "\n",
    "$$\n",
    "\\frac{1}{A}\\approx 1-\\frac{2\\Phi}{c^2}\n",
    "$$\n",
    "y \n",
    "$$\n",
    "\\frac{1}{A^2}\\approx 1-\\frac{4\\Phi}{c^2}\n",
    "$$\n"
   ]
  },
  {
   "cell_type": "markdown",
   "metadata": {},
   "source": [
    "La siguiente relación resulta:\n",
    "\n",
    "$$\n",
    "1-\\frac{2\\Phi}{c^2}-\\frac{v^2}{c^2}\\left(1-\\frac{4\\Phi}{c^2}\\right)=\\frac{c^2}{\n",
    "\\kappa^2}\n",
    "$$"
   ]
  },
  {
   "cell_type": "markdown",
   "metadata": {},
   "source": [
    "Si multiplicamos a ambos lados por $c^2$ y dividimos por 2 y despreciamos el término $\\Phi/c^2$:\n",
    "\n",
    "$$\n",
    "\\frac{v^2}{2}+\\Phi=\\frac{c^2}{2}\\left(1-\\frac{c^2}{k^2}\\right)\n",
    "$$"
   ]
  },
  {
   "cell_type": "markdown",
   "metadata": {},
   "source": [
    "Multiplicando a ambos lados por la masa de la partícula obtenemos:\n",
    "\n",
    "$$\n",
    "\\frac{1}{2}mv^2+U=E\n",
    "$$\n",
    "donde\n",
    "\n",
    "$$\n",
    "E\\equiv\\frac{mc^2}{2}\\left(1-\\frac{c^2}{k^2}\\right)\n",
    "$$"
   ]
  },
  {
   "cell_type": "markdown",
   "metadata": {},
   "source": [
    "Ya sabíamos en la física Newtoniana de esta cuadratura."
   ]
  },
  {
   "cell_type": "markdown",
   "metadata": {
    "tags": [
     "footnote"
    ]
   },
   "source": [
    "**NOTAS AL PIE:**\n",
    "\n",
    "<a id='notaspie_1'></a>\n",
    "1. El nombre de vector de Killing viene del matemático alemán Wilhelm Killing (1847-1923) y no de que sea un vector con una acción *asesina*.\n",
    "\n"
   ]
  },
  {
   "cell_type": "markdown",
   "metadata": {
    "tags": [
     "navigation"
    ]
   },
   "source": [
    "[Indice](index.ipynb) | Previo: [RelatividadGeneral.Geodesicas](02.04.00.00.RelatividadGeneral.Geodesicas.ipynb) | Siguiente: [RelatividadGeneral.Curvatura](02.06.00.00.RelatividadGeneral.Curvatura.ipynb)"
   ]
  }
 ],
 "metadata": {
  "kernelspec": {
   "display_name": "Python 3",
   "language": "python",
   "name": "python3"
  },
  "language_info": {
   "codemirror_mode": {
    "name": "ipython",
    "version": 3
   },
   "file_extension": ".py",
   "mimetype": "text/x-python",
   "name": "python",
   "nbconvert_exporter": "python",
   "pygments_lexer": "ipython3",
   "version": "3.6.8"
  }
 },
 "nbformat": 4,
 "nbformat_minor": 2
}
